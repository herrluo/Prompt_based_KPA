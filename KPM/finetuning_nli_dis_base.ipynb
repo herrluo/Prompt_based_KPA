{
 "cells": [
  {
   "cell_type": "code",
   "execution_count": 1,
   "metadata": {
    "collapsed": true,
    "pycharm": {
     "name": "#%%\n"
    }
   },
   "outputs": [],
   "source": [
    "import pandas as pd\n",
    "import torch\n",
    "from torch.utils.data import DataLoader, Dataset\n",
    "from transformers import AutoTokenizer, AutoModelForSequenceClassification, AdamW\n",
    "import pytorch_lightning as pl\n",
    "from pytorch_lightning.callbacks import ModelCheckpoint, EarlyStopping\n",
    "from pytorch_lightning import Trainer\n",
    "from tqdm import tqdm\n",
    "import torch.nn.functional as F"
   ]
  },
  {
   "cell_type": "markdown",
   "source": [
    "### Utility function"
   ],
   "metadata": {
    "collapsed": false,
    "pycharm": {
     "name": "#%% md\n"
    }
   }
  },
  {
   "cell_type": "code",
   "execution_count": 2,
   "outputs": [],
   "source": [
    "def preprocessing(arguments, key_points, labels):\n",
    "    columns = ['topic', 'premise', 'hypothesis', 'label']\n",
    "    data = []\n",
    "    for index, row in labels.iterrows():\n",
    "        argument_row = arguments.loc[arguments['arg_id'] == row['arg_id']]\n",
    "        topic = argument_row['topic'].iloc[0]\n",
    "        premise = argument_row['argument'].iloc[0]\n",
    "        kp_row = key_points.loc[key_points['key_point_id'] == row['key_point_id']]\n",
    "        hypothesis = kp_row['key_point'].iloc[0]\n",
    "        label = row['label']\n",
    "        data.append([topic, premise, hypothesis, label])\n",
    "\n",
    "    result = pd.DataFrame(data, columns=columns)\n",
    "    return result"
   ],
   "metadata": {
    "collapsed": false,
    "pycharm": {
     "name": "#%%\n"
    }
   }
  },
  {
   "cell_type": "markdown",
   "source": [
    "### Create Torch Dataset"
   ],
   "metadata": {
    "collapsed": false,
    "pycharm": {
     "name": "#%% md\n"
    }
   }
  },
  {
   "cell_type": "code",
   "execution_count": 3,
   "outputs": [],
   "source": [
    "class Dataset(torch.utils.data.Dataset):\n",
    "    def __init__(self, text_df, tokenizer, max_length):\n",
    "        self.premises = list(text_df['premise'].values+tokenizer.sep_token+text_df['topic'].values)\n",
    "        self.hypotheses = list(text_df['hypothesis'].values+tokenizer.sep_token+text_df['topic'].values)\n",
    "        self.labels = list(text_df['label'])\n",
    "        self.tokenizer = tokenizer\n",
    "        self.max_length = max_length\n",
    "\n",
    "    def __len__(self):\n",
    "        return len(self.premises)\n",
    "\n",
    "    def __getitem__(self, idx):\n",
    "        encoding = self.tokenizer(\n",
    "            self.premises[idx],\n",
    "            self.hypotheses[idx],\n",
    "            truncation=True,\n",
    "            padding='max_length',\n",
    "            max_length=self.max_length,\n",
    "            return_tensors='pt'\n",
    "        )\n",
    "        item = {\n",
    "            'input_ids': encoding['input_ids'].squeeze(),\n",
    "            'attention_mask': encoding['attention_mask'].squeeze(),\n",
    "            'labels': torch.tensor(self.labels[idx], dtype=torch.long)\n",
    "        }\n",
    "        return item\n"
   ],
   "metadata": {
    "collapsed": false,
    "pycharm": {
     "name": "#%%\n"
    }
   }
  },
  {
   "cell_type": "markdown",
   "source": [
    "### Define the LightningModule"
   ],
   "metadata": {
    "collapsed": false,
    "pycharm": {
     "name": "#%% md\n"
    }
   }
  },
  {
   "cell_type": "code",
   "execution_count": 4,
   "outputs": [],
   "source": [
    "class KPM(pl.LightningModule):\n",
    "    def __init__(self, model, learning_rate=2e-5, weight_decay=0.001):\n",
    "        super(KPM, self).__init__()\n",
    "        self.model = model\n",
    "        self.learning_rate = learning_rate\n",
    "        self.weight_decay = weight_decay\n",
    "\n",
    "    def forward(self, input_ids, attention_mask, labels=None):\n",
    "        outputs = self.model(input_ids, attention_mask=attention_mask, labels=labels)\n",
    "        return outputs\n",
    "\n",
    "    def training_step(self, batch, batch_idx):\n",
    "        input_ids, attention_mask, labels = batch['input_ids'], batch['attention_mask'], batch['labels']\n",
    "        outputs = self(input_ids, attention_mask, labels)\n",
    "        print(\"--------------training-------------------------------\")\n",
    "        print(\"Shape: \"+ str(outputs.logits.shape))\n",
    "        print(outputs.logits)\n",
    "        self.log(\"train_loss\", torch.clone(outputs.loss).detach())\n",
    "        one_hot_labels = torch.stack([1 - labels, labels], dim=-1)\n",
    "        one_hot_labels = one_hot_labels.float()\n",
    "        # loss = outputs.loss\n",
    "        loss = F.binary_cross_entropy_with_logits(outputs.logits, one_hot_labels, reduction='mean')\n",
    "        self.log(\"train_loss\", torch.clone(loss).detach())\n",
    "        return loss\n",
    "\n",
    "    def validation_step(self, batch, batch_idx):\n",
    "        input_ids, attention_mask, labels = batch['input_ids'], batch['attention_mask'], batch['labels']\n",
    "        outputs = self(input_ids, attention_mask, labels)\n",
    "        self.log(\"val_loss\", torch.clone(outputs.loss).detach())\n",
    "        one_hot_labels = torch.stack([1 - labels, labels], dim=-1)\n",
    "        one_hot_labels = one_hot_labels.float()\n",
    "        # loss = outputs.loss\n",
    "        loss = F.binary_cross_entropy_with_logits(outputs.logits, one_hot_labels, reduction='mean')\n",
    "        self.log(\"val_loss\", torch.clone(loss).detach())\n",
    "        return  loss\n",
    "\n",
    "    def configure_optimizers(self):\n",
    "        optimizer = AdamW(self.parameters(), lr=self.learning_rate)\n",
    "        return optimizer"
   ],
   "metadata": {
    "collapsed": false,
    "pycharm": {
     "name": "#%%\n"
    }
   }
  },
  {
   "cell_type": "markdown",
   "source": [
    "### Import Dataset and Preprocessing"
   ],
   "metadata": {
    "collapsed": false,
    "pycharm": {
     "name": "#%% md\n"
    }
   }
  },
  {
   "cell_type": "code",
   "execution_count": 5,
   "outputs": [],
   "source": [
    "train_argument_df = pd.read_csv('./data/arguments_train.csv')\n",
    "train_kp_df = pd.read_csv('./data/key_points_train.csv')\n",
    "train_label_df = pd.read_csv('./data/labels_train.csv')\n",
    "train_df = preprocessing(train_argument_df, train_kp_df, train_label_df)\n",
    "\n",
    "\n",
    "val_argument_df = pd.read_csv('./data/arguments_dev.csv')\n",
    "val_kp_df = pd.read_csv('./data/key_points_dev.csv')\n",
    "val_label_df = pd.read_csv('./data/labels_dev.csv')\n",
    "val_df = preprocessing(val_argument_df, val_kp_df, val_label_df)\n",
    "\n",
    "test_argument_df = pd.read_csv('./data/arguments_test.csv')\n",
    "test_kp_df = pd.read_csv('./data/key_points_test.csv')\n",
    "test_label_df = pd.read_csv('./data/labels_test.csv')\n",
    "test_df = preprocessing(test_argument_df, test_kp_df, test_label_df)"
   ],
   "metadata": {
    "collapsed": false,
    "pycharm": {
     "name": "#%%\n"
    }
   }
  },
  {
   "cell_type": "markdown",
   "source": [
    "### Training phase"
   ],
   "metadata": {
    "collapsed": false,
    "pycharm": {
     "name": "#%% md\n"
    }
   }
  },
  {
   "cell_type": "code",
   "execution_count": 1,
   "outputs": [
    {
     "ename": "NameError",
     "evalue": "name 'AutoTokenizer' is not defined",
     "output_type": "error",
     "traceback": [
      "\u001B[1;31m---------------------------------------------------------------------------\u001B[0m",
      "\u001B[1;31mNameError\u001B[0m                                 Traceback (most recent call last)",
      "Input \u001B[1;32mIn [1]\u001B[0m, in \u001B[0;36m<cell line: 8>\u001B[1;34m()\u001B[0m\n\u001B[0;32m      5\u001B[0m learning_rate \u001B[38;5;241m=\u001B[39m \u001B[38;5;241m5e-05\u001B[39m\n\u001B[0;32m      6\u001B[0m weight_decay \u001B[38;5;241m=\u001B[39m \u001B[38;5;241m0.001\u001B[39m\n\u001B[1;32m----> 8\u001B[0m tokenizer \u001B[38;5;241m=\u001B[39m \u001B[43mAutoTokenizer\u001B[49m\u001B[38;5;241m.\u001B[39mfrom_pretrained(model_name)\n\u001B[0;32m      9\u001B[0m model \u001B[38;5;241m=\u001B[39m AutoModelForSequenceClassification\u001B[38;5;241m.\u001B[39mfrom_pretrained(model_name, num_labels \u001B[38;5;241m=\u001B[39m num_classes, ignore_mismatched_sizes \u001B[38;5;241m=\u001B[39m \u001B[38;5;28;01mTrue\u001B[39;00m)\n\u001B[0;32m     10\u001B[0m \u001B[38;5;66;03m# model = AutoModelForSequenceClassification.from_pretrained(model_name)\u001B[39;00m\n\u001B[0;32m     11\u001B[0m \u001B[38;5;66;03m# model.classifier = torch.nn.Linear(model.config.hidden_size, num_classes)\u001B[39;00m\n\u001B[0;32m     12\u001B[0m \u001B[38;5;66;03m# Change the loss function to binary cross-entropy\u001B[39;00m\n\u001B[0;32m     13\u001B[0m \n\u001B[0;32m     14\u001B[0m \u001B[38;5;66;03m# Get the vocabulary\u001B[39;00m\n",
      "\u001B[1;31mNameError\u001B[0m: name 'AutoTokenizer' is not defined"
     ]
    }
   ],
   "source": [
    "model_name = \"cross-encoder/nli-distilroberta-base\"\n",
    "num_classes = 2\n",
    "max_length = 512\n",
    "batch_size = 16\n",
    "learning_rate = 5e-05\n",
    "weight_decay = 0.001\n",
    "\n",
    "tokenizer = AutoTokenizer.from_pretrained(model_name)\n",
    "model = AutoModelForSequenceClassification.from_pretrained(model_name, num_labels = num_classes, ignore_mismatched_sizes = True)\n",
    "# model = AutoModelForSequenceClassification.from_pretrained(model_name)\n",
    "# model.classifier = torch.nn.Linear(model.config.hidden_size, num_classes)\n",
    "# Change the loss function to binary cross-entropy\n",
    "\n",
    "# Get the vocabulary\n",
    "vocab = tokenizer.get_vocab()\n",
    "\n",
    "# Check if the \"CLS\" token is present in the vocabulary\n",
    "cls_token_present = tokenizer.cls_token in vocab\n",
    "sep_token_present = tokenizer.sep_token in vocab\n",
    "print(\"Is CLS token present in the vocabulary?\", cls_token_present)\n",
    "print(\"Is SEP token present in the vocabulary?\", sep_token_present)\n",
    "\n",
    "train_dataset = Dataset(train_df, tokenizer, max_length)\n",
    "val_dataset = Dataset(val_df, tokenizer, max_length)\n",
    "\n",
    "train_loader = DataLoader(train_dataset, batch_size=batch_size, shuffle=True)\n",
    "val_loader = DataLoader(val_dataset, batch_size=batch_size, shuffle=False)\n",
    "\n",
    "model = KPM(model, learning_rate)\n",
    "\n",
    "# Define a ModelCheckpoint callback\n",
    "checkpoint_callback = ModelCheckpoint(\n",
    "    monitor='val_loss',\n",
    "    dirpath='./checkpoint',\n",
    "    filename='nli_model-{epoch:02d}-{val_loss:.2f}',\n",
    "    save_top_k=1,\n",
    "    mode='min'\n",
    ")\n",
    "\n",
    "early_stopping =EarlyStopping(\n",
    "    monitor=\"val_loss\",\n",
    "    min_delta=0.01,\n",
    "    patience=3\n",
    ")\n",
    "\n",
    "# define trainer\n",
    "trainer = Trainer(\n",
    "    min_epochs = 0, # change this\n",
    "    max_epochs = 20,\n",
    "    callbacks=[checkpoint_callback, early_stopping],\n",
    "    accelerator=\"auto\",\n",
    "    #progress_bar_refresh_rate=30,\n",
    "    #gpus = 1 if device.type == 'cuda' else 0\n",
    "    devices = 1 if torch.cuda.is_available() else None\n",
    ")\n",
    "\n",
    "torch.cuda.empty_cache()\n",
    "\n",
    "# start training\n",
    "trainer.fit(model, train_loader, val_loader)\n",
    "print(\"Training is finished\")"
   ],
   "metadata": {
    "collapsed": false,
    "pycharm": {
     "name": "#%%\n"
    }
   }
  },
  {
   "cell_type": "markdown",
   "source": [
    "### Prediction and Evaluation"
   ],
   "metadata": {
    "collapsed": false,
    "pycharm": {
     "name": "#%% md\n"
    }
   }
  },
  {
   "cell_type": "code",
   "execution_count": 8,
   "outputs": [
    {
     "name": "stderr",
     "output_type": "stream",
     "text": [
      "Some weights of RobertaForSequenceClassification were not initialized from the model checkpoint at cross-encoder/nli-distilroberta-base and are newly initialized because the shapes did not match:\n",
      "- classifier.out_proj.weight: found shape torch.Size([3, 768]) in the checkpoint and torch.Size([2, 768]) in the model instantiated\n",
      "- classifier.out_proj.bias: found shape torch.Size([3]) in the checkpoint and torch.Size([2]) in the model instantiated\n",
      "You should probably TRAIN this model on a down-stream task to be able to use it for predictions and inference.\n"
     ]
    },
    {
     "name": "stdout",
     "output_type": "stream",
     "text": [
      "hello world\n"
     ]
    },
    {
     "name": "stderr",
     "output_type": "stream",
     "text": [
      "Predicting:   0%|          | 1/215 [00:08<30:54,  8.66s/it]"
     ]
    },
    {
     "name": "stdout",
     "output_type": "stream",
     "text": [
      "tensor([[8.5138e-01, 1.4862e-01],\n",
      "        [9.5304e-01, 4.6955e-02],\n",
      "        [1.8656e-02, 9.8134e-01],\n",
      "        [9.6801e-05, 9.9990e-01],\n",
      "        [4.9789e-02, 9.5021e-01],\n",
      "        [9.8562e-01, 1.4378e-02],\n",
      "        [9.9964e-01, 3.6004e-04],\n",
      "        [7.0038e-01, 2.9962e-01],\n",
      "        [9.7845e-01, 2.1546e-02],\n",
      "        [9.4093e-05, 9.9991e-01],\n",
      "        [5.4960e-01, 4.5040e-01],\n",
      "        [1.6561e-02, 9.8344e-01],\n",
      "        [9.8758e-01, 1.2423e-02],\n",
      "        [9.4357e-01, 5.6434e-02],\n",
      "        [9.1618e-05, 9.9991e-01],\n",
      "        [8.9708e-01, 1.0292e-01]])\n"
     ]
    },
    {
     "name": "stderr",
     "output_type": "stream",
     "text": [
      "Predicting:   1%|          | 2/215 [00:17<30:35,  8.62s/it]"
     ]
    },
    {
     "name": "stdout",
     "output_type": "stream",
     "text": [
      "tensor([[6.7236e-03, 9.9328e-01],\n",
      "        [5.3779e-01, 4.6221e-01],\n",
      "        [9.7529e-01, 2.4710e-02],\n",
      "        [2.2053e-02, 9.7795e-01],\n",
      "        [1.0838e-04, 9.9989e-01],\n",
      "        [6.5526e-01, 3.4474e-01],\n",
      "        [3.8252e-02, 9.6175e-01],\n",
      "        [9.9896e-01, 1.0414e-03],\n",
      "        [9.9976e-01, 2.3718e-04],\n",
      "        [3.0909e-02, 9.6909e-01],\n",
      "        [2.2005e-01, 7.7995e-01],\n",
      "        [9.9688e-01, 3.1177e-03],\n",
      "        [9.9962e-01, 3.7946e-04],\n",
      "        [2.4663e-01, 7.5337e-01],\n",
      "        [2.9282e-02, 9.7072e-01],\n",
      "        [9.9918e-01, 8.1639e-04]])\n"
     ]
    },
    {
     "name": "stderr",
     "output_type": "stream",
     "text": [
      "Predicting:   1%|▏         | 3/215 [00:26<31:07,  8.81s/it]"
     ]
    },
    {
     "name": "stdout",
     "output_type": "stream",
     "text": [
      "tensor([[9.9992e-01, 8.4867e-05],\n",
      "        [3.4080e-01, 6.5920e-01],\n",
      "        [9.9291e-01, 7.0858e-03],\n",
      "        [3.7760e-01, 6.2240e-01],\n",
      "        [5.7273e-01, 4.2727e-01],\n",
      "        [9.0574e-01, 9.4261e-02],\n",
      "        [9.9873e-01, 1.2651e-03],\n",
      "        [6.9098e-01, 3.0902e-01],\n",
      "        [9.9807e-01, 1.9325e-03],\n",
      "        [9.9972e-01, 2.7894e-04],\n",
      "        [9.9972e-01, 2.7996e-04],\n",
      "        [9.5506e-01, 4.4941e-02],\n",
      "        [7.7821e-01, 2.2179e-01],\n",
      "        [5.9761e-01, 4.0239e-01],\n",
      "        [9.8994e-01, 1.0056e-02],\n",
      "        [6.9624e-01, 3.0376e-01]])\n"
     ]
    },
    {
     "name": "stderr",
     "output_type": "stream",
     "text": [
      "Predicting:   2%|▏         | 4/215 [00:35<31:22,  8.92s/it]"
     ]
    },
    {
     "name": "stdout",
     "output_type": "stream",
     "text": [
      "tensor([[0.2280, 0.7720],\n",
      "        [0.8114, 0.1886],\n",
      "        [0.8993, 0.1007],\n",
      "        [0.4028, 0.5972],\n",
      "        [0.6113, 0.3887],\n",
      "        [0.9486, 0.0514],\n",
      "        [0.0100, 0.9900],\n",
      "        [0.9903, 0.0097],\n",
      "        [0.7484, 0.2516],\n",
      "        [0.6522, 0.3478],\n",
      "        [0.9667, 0.0333],\n",
      "        [0.9774, 0.0226],\n",
      "        [0.1717, 0.8283],\n",
      "        [0.0027, 0.9973],\n",
      "        [0.9744, 0.0256],\n",
      "        [0.9932, 0.0068]])\n"
     ]
    },
    {
     "name": "stderr",
     "output_type": "stream",
     "text": [
      "Predicting:   2%|▏         | 5/215 [00:44<31:20,  8.95s/it]"
     ]
    },
    {
     "name": "stdout",
     "output_type": "stream",
     "text": [
      "tensor([[7.0299e-01, 2.9701e-01],\n",
      "        [9.5924e-01, 4.0762e-02],\n",
      "        [9.4397e-01, 5.6031e-02],\n",
      "        [2.2782e-01, 7.7218e-01],\n",
      "        [7.2584e-01, 2.7416e-01],\n",
      "        [2.1607e-01, 7.8393e-01],\n",
      "        [9.8230e-01, 1.7695e-02],\n",
      "        [6.1005e-01, 3.8995e-01],\n",
      "        [9.6112e-01, 3.8878e-02],\n",
      "        [9.9412e-01, 5.8772e-03],\n",
      "        [9.9790e-01, 2.1039e-03],\n",
      "        [1.1014e-04, 9.9989e-01],\n",
      "        [3.0621e-02, 9.6938e-01],\n",
      "        [9.3580e-02, 9.0642e-01],\n",
      "        [9.9972e-01, 2.8334e-04],\n",
      "        [9.7168e-01, 2.8317e-02]])\n"
     ]
    },
    {
     "name": "stderr",
     "output_type": "stream",
     "text": [
      "Predicting:   3%|▎         | 6/215 [00:53<30:51,  8.86s/it]"
     ]
    },
    {
     "name": "stdout",
     "output_type": "stream",
     "text": [
      "tensor([[9.9942e-01, 5.8498e-04],\n",
      "        [1.5211e-02, 9.8479e-01],\n",
      "        [9.4825e-01, 5.1755e-02],\n",
      "        [1.1681e-04, 9.9988e-01],\n",
      "        [9.7332e-01, 2.6682e-02],\n",
      "        [3.1843e-02, 9.6816e-01],\n",
      "        [7.9749e-02, 9.2025e-01],\n",
      "        [4.5767e-01, 5.4233e-01],\n",
      "        [1.0020e-04, 9.9990e-01],\n",
      "        [1.1778e-04, 9.9988e-01],\n",
      "        [4.3869e-04, 9.9956e-01],\n",
      "        [9.4572e-01, 5.4282e-02],\n",
      "        [9.6092e-01, 3.9079e-02],\n",
      "        [9.9945e-01, 5.5292e-04],\n",
      "        [7.9149e-01, 2.0851e-01],\n",
      "        [1.3176e-04, 9.9987e-01]])\n"
     ]
    },
    {
     "name": "stderr",
     "output_type": "stream",
     "text": [
      "Predicting:   3%|▎         | 7/215 [01:01<30:05,  8.68s/it]"
     ]
    },
    {
     "name": "stdout",
     "output_type": "stream",
     "text": [
      "tensor([[6.5640e-01, 3.4360e-01],\n",
      "        [4.0177e-01, 5.9823e-01],\n",
      "        [1.0558e-02, 9.8944e-01],\n",
      "        [9.6762e-01, 3.2378e-02],\n",
      "        [8.9331e-01, 1.0669e-01],\n",
      "        [9.7605e-01, 2.3948e-02],\n",
      "        [1.1413e-03, 9.9886e-01],\n",
      "        [3.4854e-04, 9.9965e-01],\n",
      "        [9.9859e-01, 1.4121e-03],\n",
      "        [9.9986e-01, 1.3503e-04],\n",
      "        [9.9815e-01, 1.8461e-03],\n",
      "        [9.7598e-01, 2.4021e-02],\n",
      "        [9.9514e-01, 4.8618e-03],\n",
      "        [8.9313e-01, 1.0687e-01],\n",
      "        [9.9681e-01, 3.1947e-03],\n",
      "        [8.4308e-01, 1.5692e-01]])\n"
     ]
    },
    {
     "name": "stderr",
     "output_type": "stream",
     "text": [
      "Predicting:   4%|▎         | 8/215 [01:10<29:53,  8.66s/it]"
     ]
    },
    {
     "name": "stdout",
     "output_type": "stream",
     "text": [
      "tensor([[3.4053e-03, 9.9659e-01],\n",
      "        [7.7793e-01, 2.2207e-01],\n",
      "        [4.7364e-01, 5.2636e-01],\n",
      "        [4.2829e-04, 9.9957e-01],\n",
      "        [8.5148e-01, 1.4852e-01],\n",
      "        [3.8420e-01, 6.1580e-01],\n",
      "        [9.2104e-04, 9.9908e-01],\n",
      "        [7.6997e-01, 2.3003e-01],\n",
      "        [5.0201e-01, 4.9799e-01],\n",
      "        [9.6394e-01, 3.6059e-02],\n",
      "        [7.0426e-01, 2.9574e-01],\n",
      "        [9.9460e-01, 5.4027e-03],\n",
      "        [9.0156e-01, 9.8440e-02],\n",
      "        [1.0500e-04, 9.9989e-01],\n",
      "        [9.5439e-01, 4.5613e-02],\n",
      "        [1.2916e-04, 9.9987e-01]])\n"
     ]
    },
    {
     "name": "stderr",
     "output_type": "stream",
     "text": [
      "Predicting:   4%|▍         | 9/215 [01:18<29:43,  8.66s/it]"
     ]
    },
    {
     "name": "stdout",
     "output_type": "stream",
     "text": [
      "tensor([[9.8532e-01, 1.4685e-02],\n",
      "        [3.3557e-02, 9.6644e-01],\n",
      "        [1.0144e-04, 9.9990e-01],\n",
      "        [9.8718e-01, 1.2821e-02],\n",
      "        [1.0956e-04, 9.9989e-01],\n",
      "        [9.7814e-01, 2.1857e-02],\n",
      "        [2.2061e-04, 9.9978e-01],\n",
      "        [9.7826e-01, 2.1741e-02],\n",
      "        [9.5286e-05, 9.9990e-01],\n",
      "        [9.9161e-01, 8.3888e-03],\n",
      "        [2.6652e-03, 9.9733e-01],\n",
      "        [1.0481e-04, 9.9990e-01],\n",
      "        [9.8381e-01, 1.6194e-02],\n",
      "        [9.9935e-01, 6.4805e-04],\n",
      "        [9.9740e-01, 2.6019e-03],\n",
      "        [9.8068e-01, 1.9321e-02]])\n"
     ]
    },
    {
     "name": "stderr",
     "output_type": "stream",
     "text": [
      "Predicting:   5%|▍         | 10/215 [01:27<30:12,  8.84s/it]"
     ]
    },
    {
     "name": "stdout",
     "output_type": "stream",
     "text": [
      "tensor([[9.9984e-01, 1.5841e-04],\n",
      "        [4.1447e-02, 9.5855e-01],\n",
      "        [5.2917e-01, 4.7083e-01],\n",
      "        [9.7015e-05, 9.9990e-01],\n",
      "        [9.9976e-01, 2.3498e-04],\n",
      "        [9.9992e-01, 7.6310e-05],\n",
      "        [2.5072e-01, 7.4928e-01],\n",
      "        [9.9947e-01, 5.3200e-04],\n",
      "        [9.9984e-01, 1.6241e-04],\n",
      "        [9.6987e-01, 3.0132e-02],\n",
      "        [9.9803e-01, 1.9669e-03],\n",
      "        [2.4339e-01, 7.5661e-01],\n",
      "        [4.1281e-01, 5.8719e-01],\n",
      "        [1.0832e-01, 8.9168e-01],\n",
      "        [9.9901e-01, 9.9356e-04],\n",
      "        [9.9966e-01, 3.4383e-04]])\n"
     ]
    },
    {
     "name": "stderr",
     "output_type": "stream",
     "text": [
      "Predicting:   5%|▌         | 11/215 [01:36<29:29,  8.67s/it]"
     ]
    },
    {
     "name": "stdout",
     "output_type": "stream",
     "text": [
      "tensor([[7.7159e-01, 2.2841e-01],\n",
      "        [1.5054e-04, 9.9985e-01],\n",
      "        [9.0481e-01, 9.5188e-02],\n",
      "        [9.9058e-01, 9.4224e-03],\n",
      "        [9.7326e-03, 9.9027e-01],\n",
      "        [9.9883e-01, 1.1713e-03],\n",
      "        [9.9987e-01, 1.2858e-04],\n",
      "        [9.8761e-01, 1.2392e-02],\n",
      "        [6.3166e-01, 3.6834e-01],\n",
      "        [1.0109e-04, 9.9990e-01],\n",
      "        [9.1279e-01, 8.7210e-02],\n",
      "        [5.2709e-03, 9.9473e-01],\n",
      "        [9.7276e-05, 9.9990e-01],\n",
      "        [9.5241e-01, 4.7590e-02],\n",
      "        [1.8199e-04, 9.9982e-01],\n",
      "        [9.9972e-01, 2.8190e-04]])\n"
     ]
    },
    {
     "name": "stderr",
     "output_type": "stream",
     "text": [
      "Predicting:   6%|▌         | 12/215 [01:45<29:31,  8.73s/it]"
     ]
    },
    {
     "name": "stdout",
     "output_type": "stream",
     "text": [
      "tensor([[7.9193e-01, 2.0807e-01],\n",
      "        [7.1130e-01, 2.8870e-01],\n",
      "        [1.1039e-04, 9.9989e-01],\n",
      "        [9.5515e-01, 4.4852e-02],\n",
      "        [6.0760e-01, 3.9240e-01],\n",
      "        [6.5782e-03, 9.9342e-01],\n",
      "        [8.1839e-01, 1.8161e-01],\n",
      "        [1.6458e-04, 9.9984e-01],\n",
      "        [7.3700e-01, 2.6300e-01],\n",
      "        [1.2281e-01, 8.7719e-01],\n",
      "        [1.2125e-01, 8.7875e-01],\n",
      "        [9.6328e-05, 9.9990e-01],\n",
      "        [6.1927e-02, 9.3807e-01],\n",
      "        [2.1752e-02, 9.7825e-01],\n",
      "        [3.9193e-01, 6.0807e-01],\n",
      "        [2.3790e-04, 9.9976e-01]])\n"
     ]
    },
    {
     "name": "stderr",
     "output_type": "stream",
     "text": [
      "Predicting:   6%|▌         | 13/215 [01:53<28:46,  8.55s/it]"
     ]
    },
    {
     "name": "stdout",
     "output_type": "stream",
     "text": [
      "tensor([[9.9129e-01, 8.7142e-03],\n",
      "        [9.9967e-01, 3.2711e-04],\n",
      "        [9.9917e-01, 8.3206e-04],\n",
      "        [9.6419e-01, 3.5808e-02],\n",
      "        [9.9974e-01, 2.6319e-04],\n",
      "        [3.9469e-02, 9.6053e-01],\n",
      "        [9.9880e-01, 1.2022e-03],\n",
      "        [9.9759e-01, 2.4150e-03],\n",
      "        [9.9920e-01, 8.0200e-04],\n",
      "        [6.7923e-01, 3.2077e-01],\n",
      "        [8.0091e-02, 9.1991e-01],\n",
      "        [9.9986e-01, 1.4270e-04],\n",
      "        [9.9994e-01, 6.0218e-05],\n",
      "        [9.4810e-01, 5.1901e-02],\n",
      "        [1.2177e-04, 9.9988e-01],\n",
      "        [9.9840e-01, 1.6038e-03]])\n"
     ]
    },
    {
     "name": "stderr",
     "output_type": "stream",
     "text": [
      "Predicting:   7%|▋         | 14/215 [02:02<29:40,  8.86s/it]"
     ]
    },
    {
     "name": "stdout",
     "output_type": "stream",
     "text": [
      "tensor([[9.9892e-01, 1.0834e-03],\n",
      "        [9.9647e-01, 3.5273e-03],\n",
      "        [2.0777e-01, 7.9223e-01],\n",
      "        [9.1631e-05, 9.9991e-01],\n",
      "        [9.9973e-01, 2.7326e-04],\n",
      "        [9.9986e-01, 1.3922e-04],\n",
      "        [8.7451e-01, 1.2549e-01],\n",
      "        [1.4433e-04, 9.9986e-01],\n",
      "        [1.1395e-04, 9.9989e-01],\n",
      "        [9.8410e-01, 1.5897e-02],\n",
      "        [8.9153e-01, 1.0847e-01],\n",
      "        [9.9946e-01, 5.4046e-04],\n",
      "        [9.9329e-01, 6.7100e-03],\n",
      "        [1.7247e-01, 8.2753e-01],\n",
      "        [3.1708e-01, 6.8292e-01],\n",
      "        [9.1424e-01, 8.5763e-02]])\n"
     ]
    },
    {
     "name": "stderr",
     "output_type": "stream",
     "text": [
      "Predicting:   7%|▋         | 15/215 [02:11<29:40,  8.90s/it]"
     ]
    },
    {
     "name": "stdout",
     "output_type": "stream",
     "text": [
      "tensor([[9.9430e-01, 5.6983e-03],\n",
      "        [1.9857e-01, 8.0143e-01],\n",
      "        [9.8697e-01, 1.3027e-02],\n",
      "        [8.1682e-01, 1.8318e-01],\n",
      "        [7.3191e-01, 2.6809e-01],\n",
      "        [1.3151e-03, 9.9868e-01],\n",
      "        [9.9556e-01, 4.4396e-03],\n",
      "        [9.9255e-01, 7.4452e-03],\n",
      "        [9.9977e-01, 2.2558e-04],\n",
      "        [5.7370e-01, 4.2630e-01],\n",
      "        [9.9899e-01, 1.0067e-03],\n",
      "        [9.9625e-01, 3.7464e-03],\n",
      "        [9.9785e-01, 2.1490e-03],\n",
      "        [5.1614e-01, 4.8386e-01],\n",
      "        [1.5223e-04, 9.9985e-01],\n",
      "        [5.4276e-01, 4.5724e-01]])\n"
     ]
    },
    {
     "name": "stderr",
     "output_type": "stream",
     "text": [
      "Predicting:   7%|▋         | 16/215 [02:20<29:36,  8.93s/it]"
     ]
    },
    {
     "name": "stdout",
     "output_type": "stream",
     "text": [
      "tensor([[3.1203e-01, 6.8797e-01],\n",
      "        [3.9040e-01, 6.0960e-01],\n",
      "        [6.6120e-01, 3.3880e-01],\n",
      "        [1.2655e-01, 8.7345e-01],\n",
      "        [1.5724e-01, 8.4276e-01],\n",
      "        [9.9959e-01, 4.0985e-04],\n",
      "        [9.9972e-01, 2.8126e-04],\n",
      "        [8.6586e-02, 9.1341e-01],\n",
      "        [1.3377e-01, 8.6623e-01],\n",
      "        [2.6054e-01, 7.3946e-01],\n",
      "        [2.9094e-01, 7.0906e-01],\n",
      "        [3.6748e-01, 6.3252e-01],\n",
      "        [1.7147e-02, 9.8285e-01],\n",
      "        [9.4147e-02, 9.0585e-01],\n",
      "        [4.3615e-01, 5.6385e-01],\n",
      "        [6.7107e-01, 3.2893e-01]])\n"
     ]
    },
    {
     "name": "stderr",
     "output_type": "stream",
     "text": [
      "Predicting:   8%|▊         | 17/215 [02:29<29:32,  8.95s/it]"
     ]
    },
    {
     "name": "stdout",
     "output_type": "stream",
     "text": [
      "tensor([[8.8900e-01, 1.1100e-01],\n",
      "        [7.4621e-02, 9.2538e-01],\n",
      "        [3.0110e-01, 6.9890e-01],\n",
      "        [1.1941e-04, 9.9988e-01],\n",
      "        [2.2215e-01, 7.7785e-01],\n",
      "        [9.9827e-01, 1.7251e-03],\n",
      "        [9.9943e-01, 5.6961e-04],\n",
      "        [5.2456e-01, 4.7544e-01],\n",
      "        [5.0369e-01, 4.9631e-01],\n",
      "        [5.5773e-01, 4.4227e-01],\n",
      "        [5.4929e-01, 4.5071e-01],\n",
      "        [9.4310e-01, 5.6900e-02],\n",
      "        [2.1819e-01, 7.8181e-01],\n",
      "        [5.9113e-01, 4.0887e-01],\n",
      "        [7.5476e-01, 2.4524e-01],\n",
      "        [3.8888e-01, 6.1112e-01]])\n"
     ]
    },
    {
     "name": "stderr",
     "output_type": "stream",
     "text": [
      "Predicting:   8%|▊         | 18/215 [02:39<29:43,  9.05s/it]"
     ]
    },
    {
     "name": "stdout",
     "output_type": "stream",
     "text": [
      "tensor([[2.5160e-01, 7.4840e-01],\n",
      "        [4.8565e-01, 5.1435e-01],\n",
      "        [3.6476e-02, 9.6352e-01],\n",
      "        [2.7358e-02, 9.7264e-01],\n",
      "        [9.9946e-01, 5.3503e-04],\n",
      "        [9.9993e-01, 6.7380e-05],\n",
      "        [5.4790e-01, 4.5210e-01],\n",
      "        [8.2508e-01, 1.7492e-01],\n",
      "        [2.1207e-02, 9.7879e-01],\n",
      "        [6.1464e-01, 3.8536e-01],\n",
      "        [5.8133e-01, 4.1867e-01],\n",
      "        [4.3811e-01, 5.6189e-01],\n",
      "        [5.7346e-01, 4.2654e-01],\n",
      "        [8.1270e-01, 1.8730e-01],\n",
      "        [5.0997e-02, 9.4900e-01],\n",
      "        [9.9540e-01, 4.6016e-03]])\n"
     ]
    },
    {
     "name": "stderr",
     "output_type": "stream",
     "text": [
      "Predicting:   9%|▉         | 19/215 [02:48<30:05,  9.21s/it]"
     ]
    },
    {
     "name": "stdout",
     "output_type": "stream",
     "text": [
      "tensor([[9.5813e-01, 4.1867e-02],\n",
      "        [9.5385e-01, 4.6151e-02],\n",
      "        [9.9807e-01, 1.9313e-03],\n",
      "        [9.9959e-01, 4.0720e-04],\n",
      "        [8.5990e-01, 1.4010e-01],\n",
      "        [8.2518e-01, 1.7482e-01],\n",
      "        [6.5994e-02, 9.3401e-01],\n",
      "        [8.2434e-01, 1.7566e-01],\n",
      "        [5.2902e-01, 4.7098e-01],\n",
      "        [9.1469e-01, 8.5310e-02],\n",
      "        [9.7909e-01, 2.0910e-02],\n",
      "        [9.9046e-01, 9.5418e-03],\n",
      "        [9.9748e-01, 2.5151e-03],\n",
      "        [6.0460e-01, 3.9540e-01],\n",
      "        [3.2583e-03, 9.9674e-01],\n",
      "        [9.9576e-01, 4.2432e-03]])\n"
     ]
    },
    {
     "name": "stderr",
     "output_type": "stream",
     "text": [
      "Predicting:   9%|▉         | 20/215 [02:57<29:20,  9.03s/it]"
     ]
    },
    {
     "name": "stdout",
     "output_type": "stream",
     "text": [
      "tensor([[7.0886e-01, 2.9114e-01],\n",
      "        [9.9581e-01, 4.1919e-03],\n",
      "        [9.9883e-01, 1.1707e-03],\n",
      "        [9.4904e-01, 5.0959e-02],\n",
      "        [5.6577e-03, 9.9434e-01],\n",
      "        [9.9452e-01, 5.4777e-03],\n",
      "        [8.2669e-01, 1.7331e-01],\n",
      "        [8.5157e-01, 1.4843e-01],\n",
      "        [9.9444e-01, 5.5567e-03],\n",
      "        [9.9747e-01, 2.5349e-03],\n",
      "        [9.9779e-01, 2.2142e-03],\n",
      "        [9.9965e-01, 3.5355e-04],\n",
      "        [7.9258e-01, 2.0742e-01],\n",
      "        [3.3301e-04, 9.9967e-01],\n",
      "        [9.8971e-01, 1.0286e-02],\n",
      "        [6.5161e-02, 9.3484e-01]])\n"
     ]
    },
    {
     "name": "stderr",
     "output_type": "stream",
     "text": [
      "Predicting:  10%|▉         | 21/215 [03:06<29:05,  9.00s/it]"
     ]
    },
    {
     "name": "stdout",
     "output_type": "stream",
     "text": [
      "tensor([[9.2211e-01, 7.7886e-02],\n",
      "        [9.1174e-01, 8.8256e-02],\n",
      "        [8.7824e-01, 1.2176e-01],\n",
      "        [9.8008e-01, 1.9924e-02],\n",
      "        [9.8634e-01, 1.3661e-02],\n",
      "        [9.9951e-01, 4.8593e-04],\n",
      "        [9.9983e-01, 1.7292e-04],\n",
      "        [9.2792e-01, 7.2079e-02],\n",
      "        [1.2393e-04, 9.9988e-01],\n",
      "        [9.7074e-01, 2.9260e-02],\n",
      "        [5.2175e-01, 4.7824e-01],\n",
      "        [9.9929e-01, 7.1156e-04],\n",
      "        [9.4693e-01, 5.3074e-02],\n",
      "        [3.2476e-04, 9.9968e-01],\n",
      "        [9.8900e-01, 1.1001e-02],\n",
      "        [9.8614e-01, 1.3863e-02]])\n"
     ]
    },
    {
     "name": "stderr",
     "output_type": "stream",
     "text": [
      "Predicting:  10%|█         | 22/215 [03:14<28:44,  8.93s/it]"
     ]
    },
    {
     "name": "stdout",
     "output_type": "stream",
     "text": [
      "tensor([[4.6030e-03, 9.9540e-01],\n",
      "        [9.6303e-01, 3.6969e-02],\n",
      "        [4.5651e-01, 5.4349e-01],\n",
      "        [9.4786e-01, 5.2144e-02],\n",
      "        [1.7054e-01, 8.2946e-01],\n",
      "        [5.9404e-01, 4.0596e-01],\n",
      "        [5.7953e-01, 4.2047e-01],\n",
      "        [1.7810e-01, 8.2190e-01],\n",
      "        [9.0644e-01, 9.3560e-02],\n",
      "        [9.3274e-01, 6.7262e-02],\n",
      "        [4.8285e-01, 5.1715e-01],\n",
      "        [8.4129e-02, 9.1587e-01],\n",
      "        [9.9552e-01, 4.4822e-03],\n",
      "        [8.0320e-01, 1.9680e-01],\n",
      "        [9.9934e-01, 6.5609e-04],\n",
      "        [8.9133e-02, 9.1087e-01]])\n"
     ]
    },
    {
     "name": "stderr",
     "output_type": "stream",
     "text": [
      "Predicting:  11%|█         | 23/215 [03:23<28:12,  8.82s/it]"
     ]
    },
    {
     "name": "stdout",
     "output_type": "stream",
     "text": [
      "tensor([[0.9894, 0.0106],\n",
      "        [0.1000, 0.9000],\n",
      "        [0.9782, 0.0218],\n",
      "        [0.7967, 0.2033],\n",
      "        [0.9861, 0.0139],\n",
      "        [0.9955, 0.0045],\n",
      "        [0.6836, 0.3164],\n",
      "        [0.7826, 0.2174],\n",
      "        [0.6942, 0.3058],\n",
      "        [0.9566, 0.0434],\n",
      "        [0.3607, 0.6393],\n",
      "        [0.2375, 0.7625],\n",
      "        [0.1757, 0.8243],\n",
      "        [0.9284, 0.0716],\n",
      "        [0.0305, 0.9695],\n",
      "        [0.9106, 0.0894]])\n"
     ]
    },
    {
     "name": "stderr",
     "output_type": "stream",
     "text": [
      "Predicting:  11%|█         | 24/215 [03:32<27:49,  8.74s/it]"
     ]
    },
    {
     "name": "stdout",
     "output_type": "stream",
     "text": [
      "tensor([[0.9663, 0.0337],\n",
      "        [0.9873, 0.0127],\n",
      "        [0.8317, 0.1683],\n",
      "        [0.9970, 0.0030],\n",
      "        [0.8048, 0.1952],\n",
      "        [0.6750, 0.3250],\n",
      "        [0.9558, 0.0442],\n",
      "        [0.0758, 0.9242],\n",
      "        [0.9971, 0.0029],\n",
      "        [0.3887, 0.6113],\n",
      "        [0.5323, 0.4677],\n",
      "        [0.9478, 0.0522],\n",
      "        [0.9447, 0.0553],\n",
      "        [0.7405, 0.2595],\n",
      "        [0.5061, 0.4939],\n",
      "        [0.6148, 0.3852]])\n"
     ]
    },
    {
     "name": "stderr",
     "output_type": "stream",
     "text": [
      "Predicting:  12%|█▏        | 25/215 [03:40<27:35,  8.71s/it]"
     ]
    },
    {
     "name": "stdout",
     "output_type": "stream",
     "text": [
      "tensor([[9.5330e-01, 4.6703e-02],\n",
      "        [9.9441e-01, 5.5937e-03],\n",
      "        [9.9939e-01, 6.0551e-04],\n",
      "        [9.9765e-01, 2.3465e-03],\n",
      "        [8.2555e-01, 1.7445e-01],\n",
      "        [9.6834e-01, 3.1656e-02],\n",
      "        [9.9954e-01, 4.5745e-04],\n",
      "        [8.2626e-01, 1.7374e-01],\n",
      "        [2.2623e-04, 9.9977e-01],\n",
      "        [6.8214e-01, 3.1786e-01],\n",
      "        [9.9988e-01, 1.1808e-04],\n",
      "        [9.9995e-01, 5.2791e-05],\n",
      "        [7.9992e-02, 9.2001e-01],\n",
      "        [9.9740e-01, 2.6030e-03],\n",
      "        [9.9617e-01, 3.8319e-03],\n",
      "        [9.7620e-01, 2.3799e-02]])\n"
     ]
    },
    {
     "name": "stderr",
     "output_type": "stream",
     "text": [
      "Predicting:  12%|█▏        | 26/215 [03:49<27:45,  8.81s/it]"
     ]
    },
    {
     "name": "stdout",
     "output_type": "stream",
     "text": [
      "tensor([[8.0141e-02, 9.1986e-01],\n",
      "        [8.8291e-01, 1.1709e-01],\n",
      "        [5.2752e-01, 4.7248e-01],\n",
      "        [1.3202e-02, 9.8680e-01],\n",
      "        [9.9355e-01, 6.4472e-03],\n",
      "        [9.9777e-01, 2.2303e-03],\n",
      "        [9.9873e-01, 1.2712e-03],\n",
      "        [9.9945e-01, 5.4770e-04],\n",
      "        [9.8802e-01, 1.1981e-02],\n",
      "        [8.6806e-01, 1.3194e-01],\n",
      "        [9.4919e-01, 5.0808e-02],\n",
      "        [5.7046e-01, 4.2954e-01],\n",
      "        [9.3251e-02, 9.0675e-01],\n",
      "        [9.2063e-01, 7.9368e-02],\n",
      "        [6.4407e-01, 3.5593e-01],\n",
      "        [9.9250e-01, 7.5037e-03]])\n"
     ]
    },
    {
     "name": "stderr",
     "output_type": "stream",
     "text": [
      "Predicting:  13%|█▎        | 27/215 [03:58<27:28,  8.77s/it]"
     ]
    },
    {
     "name": "stdout",
     "output_type": "stream",
     "text": [
      "tensor([[0.9985, 0.0015],\n",
      "        [0.9981, 0.0019],\n",
      "        [0.9987, 0.0013],\n",
      "        [0.9930, 0.0070],\n",
      "        [0.8545, 0.1455],\n",
      "        [0.7339, 0.2661],\n",
      "        [0.9952, 0.0048],\n",
      "        [0.9947, 0.0053],\n",
      "        [0.0128, 0.9872],\n",
      "        [0.9982, 0.0018],\n",
      "        [0.4022, 0.5978],\n",
      "        [0.6606, 0.3394],\n",
      "        [0.9114, 0.0886],\n",
      "        [0.4839, 0.5161],\n",
      "        [0.6196, 0.3804],\n",
      "        [0.2811, 0.7189]])\n"
     ]
    },
    {
     "name": "stderr",
     "output_type": "stream",
     "text": [
      "Predicting:  13%|█▎        | 28/215 [04:07<27:22,  8.78s/it]"
     ]
    },
    {
     "name": "stdout",
     "output_type": "stream",
     "text": [
      "tensor([[9.9648e-01, 3.5200e-03],\n",
      "        [9.9876e-01, 1.2411e-03],\n",
      "        [9.3531e-01, 6.4686e-02],\n",
      "        [7.6962e-01, 2.3038e-01],\n",
      "        [9.9796e-01, 2.0427e-03],\n",
      "        [1.0454e-04, 9.9990e-01],\n",
      "        [9.9725e-01, 2.7492e-03],\n",
      "        [9.9983e-01, 1.7242e-04],\n",
      "        [9.9945e-01, 5.4534e-04],\n",
      "        [9.9982e-01, 1.7935e-04],\n",
      "        [9.9985e-01, 1.5088e-04],\n",
      "        [4.8853e-01, 5.1147e-01],\n",
      "        [1.7886e-04, 9.9982e-01],\n",
      "        [9.9980e-01, 1.9775e-04],\n",
      "        [9.9978e-01, 2.2455e-04],\n",
      "        [4.3360e-01, 5.6640e-01]])\n"
     ]
    },
    {
     "name": "stderr",
     "output_type": "stream",
     "text": [
      "Predicting:  13%|█▎        | 29/215 [04:16<27:41,  8.93s/it]"
     ]
    },
    {
     "name": "stdout",
     "output_type": "stream",
     "text": [
      "tensor([[3.1630e-04, 9.9968e-01],\n",
      "        [9.9977e-01, 2.2877e-04],\n",
      "        [9.9983e-01, 1.6833e-04],\n",
      "        [9.7895e-01, 2.1054e-02],\n",
      "        [9.6000e-01, 4.0001e-02],\n",
      "        [9.9691e-01, 3.0906e-03],\n",
      "        [3.0671e-01, 6.9329e-01],\n",
      "        [9.9863e-01, 1.3684e-03],\n",
      "        [9.5557e-01, 4.4432e-02],\n",
      "        [8.4190e-01, 1.5810e-01],\n",
      "        [8.8003e-01, 1.1997e-01],\n",
      "        [8.8577e-01, 1.1423e-01],\n",
      "        [9.9692e-01, 3.0790e-03],\n",
      "        [9.8983e-01, 1.0171e-02],\n",
      "        [9.7210e-01, 2.7903e-02],\n",
      "        [9.8045e-01, 1.9545e-02]])\n"
     ]
    },
    {
     "name": "stderr",
     "output_type": "stream",
     "text": [
      "Predicting:  14%|█▍        | 30/215 [04:24<27:06,  8.79s/it]"
     ]
    },
    {
     "name": "stdout",
     "output_type": "stream",
     "text": [
      "tensor([[9.8766e-01, 1.2336e-02],\n",
      "        [3.6703e-01, 6.3297e-01],\n",
      "        [8.0429e-01, 1.9571e-01],\n",
      "        [8.9671e-01, 1.0329e-01],\n",
      "        [9.1299e-01, 8.7015e-02],\n",
      "        [1.9290e-01, 8.0710e-01],\n",
      "        [1.7608e-02, 9.8239e-01],\n",
      "        [5.2185e-01, 4.7815e-01],\n",
      "        [9.9646e-01, 3.5371e-03],\n",
      "        [8.9625e-01, 1.0375e-01],\n",
      "        [9.9919e-01, 8.0621e-04],\n",
      "        [9.1630e-01, 8.3702e-02],\n",
      "        [9.9860e-01, 1.4027e-03],\n",
      "        [9.9981e-01, 1.9102e-04],\n",
      "        [9.9420e-01, 5.8045e-03],\n",
      "        [9.8494e-01, 1.5063e-02]])\n"
     ]
    },
    {
     "name": "stderr",
     "output_type": "stream",
     "text": [
      "Predicting:  14%|█▍        | 31/215 [04:33<26:50,  8.75s/it]"
     ]
    },
    {
     "name": "stdout",
     "output_type": "stream",
     "text": [
      "tensor([[9.9985e-01, 1.4643e-04],\n",
      "        [9.9972e-01, 2.7651e-04],\n",
      "        [9.9147e-01, 8.5295e-03],\n",
      "        [5.9115e-01, 4.0885e-01],\n",
      "        [4.9320e-01, 5.0680e-01],\n",
      "        [9.9497e-01, 5.0329e-03],\n",
      "        [9.9201e-01, 7.9896e-03],\n",
      "        [9.6746e-01, 3.2538e-02],\n",
      "        [9.8168e-01, 1.8316e-02],\n",
      "        [9.9007e-01, 9.9258e-03],\n",
      "        [4.3205e-01, 5.6795e-01],\n",
      "        [9.7229e-01, 2.7707e-02],\n",
      "        [2.6537e-02, 9.7346e-01],\n",
      "        [1.8687e-02, 9.8131e-01],\n",
      "        [8.3377e-01, 1.6623e-01],\n",
      "        [7.0741e-01, 2.9259e-01]])\n"
     ]
    },
    {
     "name": "stderr",
     "output_type": "stream",
     "text": [
      "Predicting:  15%|█▍        | 32/215 [04:42<26:30,  8.69s/it]"
     ]
    },
    {
     "name": "stdout",
     "output_type": "stream",
     "text": [
      "tensor([[6.7612e-01, 3.2388e-01],\n",
      "        [9.8789e-01, 1.2105e-02],\n",
      "        [7.3855e-01, 2.6145e-01],\n",
      "        [9.6791e-01, 3.2087e-02],\n",
      "        [9.9853e-01, 1.4699e-03],\n",
      "        [9.4863e-01, 5.1369e-02],\n",
      "        [9.7464e-05, 9.9990e-01],\n",
      "        [4.0027e-01, 5.9973e-01],\n",
      "        [7.6723e-01, 2.3277e-01],\n",
      "        [1.4492e-01, 8.5508e-01],\n",
      "        [9.9234e-01, 7.6556e-03],\n",
      "        [9.8629e-01, 1.3715e-02],\n",
      "        [9.5581e-01, 4.4188e-02],\n",
      "        [7.3992e-01, 2.6008e-01],\n",
      "        [9.7383e-01, 2.6167e-02],\n",
      "        [3.1013e-02, 9.6899e-01]])\n"
     ]
    },
    {
     "name": "stderr",
     "output_type": "stream",
     "text": [
      "Predicting:  15%|█▌        | 33/215 [04:51<26:37,  8.78s/it]"
     ]
    },
    {
     "name": "stdout",
     "output_type": "stream",
     "text": [
      "tensor([[8.4461e-01, 1.5539e-01],\n",
      "        [7.3574e-04, 9.9926e-01],\n",
      "        [9.9767e-01, 2.3308e-03],\n",
      "        [9.6694e-01, 3.3062e-02],\n",
      "        [9.9559e-01, 4.4062e-03],\n",
      "        [9.9731e-01, 2.6934e-03],\n",
      "        [9.9788e-01, 2.1159e-03],\n",
      "        [9.9055e-01, 9.4451e-03],\n",
      "        [9.8193e-01, 1.8070e-02],\n",
      "        [1.5543e-01, 8.4457e-01],\n",
      "        [9.6897e-01, 3.1029e-02],\n",
      "        [8.8511e-01, 1.1489e-01],\n",
      "        [8.9178e-01, 1.0822e-01],\n",
      "        [1.2273e-01, 8.7727e-01],\n",
      "        [9.5300e-01, 4.7004e-02],\n",
      "        [7.6736e-01, 2.3264e-01]])\n"
     ]
    },
    {
     "name": "stderr",
     "output_type": "stream",
     "text": [
      "Predicting:  16%|█▌        | 34/215 [05:00<26:43,  8.86s/it]"
     ]
    },
    {
     "name": "stdout",
     "output_type": "stream",
     "text": [
      "tensor([[1.2297e-04, 9.9988e-01],\n",
      "        [9.9739e-01, 2.6123e-03],\n",
      "        [7.1025e-02, 9.2897e-01],\n",
      "        [9.6713e-01, 3.2873e-02],\n",
      "        [9.0060e-01, 9.9399e-02],\n",
      "        [7.8713e-01, 2.1287e-01],\n",
      "        [6.4196e-01, 3.5804e-01],\n",
      "        [3.4040e-01, 6.5960e-01],\n",
      "        [7.7243e-01, 2.2757e-01],\n",
      "        [5.4123e-01, 4.5877e-01],\n",
      "        [3.4256e-02, 9.6574e-01],\n",
      "        [6.1711e-01, 3.8289e-01],\n",
      "        [9.5767e-01, 4.2331e-02],\n",
      "        [7.2572e-01, 2.7428e-01],\n",
      "        [5.2306e-01, 4.7694e-01],\n",
      "        [9.6175e-01, 3.8253e-02]])\n"
     ]
    },
    {
     "name": "stderr",
     "output_type": "stream",
     "text": [
      "Predicting:  16%|█▋        | 35/215 [05:09<26:46,  8.93s/it]"
     ]
    },
    {
     "name": "stdout",
     "output_type": "stream",
     "text": [
      "tensor([[0.8319, 0.1681],\n",
      "        [0.9636, 0.0364],\n",
      "        [0.9887, 0.0113],\n",
      "        [0.9946, 0.0054],\n",
      "        [0.4909, 0.5091],\n",
      "        [0.9959, 0.0041],\n",
      "        [0.1384, 0.8616],\n",
      "        [0.8775, 0.1225],\n",
      "        [0.9833, 0.0167],\n",
      "        [0.9524, 0.0476],\n",
      "        [0.7748, 0.2252],\n",
      "        [0.9682, 0.0318],\n",
      "        [0.9746, 0.0254],\n",
      "        [0.7350, 0.2650],\n",
      "        [0.4240, 0.5760],\n",
      "        [0.7438, 0.2562]])\n"
     ]
    },
    {
     "name": "stderr",
     "output_type": "stream",
     "text": [
      "Predicting:  17%|█▋        | 36/215 [05:18<26:41,  8.94s/it]"
     ]
    },
    {
     "name": "stdout",
     "output_type": "stream",
     "text": [
      "tensor([[6.3321e-01, 3.6679e-01],\n",
      "        [1.5834e-01, 8.4166e-01],\n",
      "        [5.4378e-01, 4.5622e-01],\n",
      "        [7.3432e-03, 9.9266e-01],\n",
      "        [8.0620e-01, 1.9380e-01],\n",
      "        [8.0209e-01, 1.9791e-01],\n",
      "        [9.4340e-01, 5.6597e-02],\n",
      "        [7.2985e-01, 2.7015e-01],\n",
      "        [5.9480e-01, 4.0520e-01],\n",
      "        [4.2935e-01, 5.7065e-01],\n",
      "        [2.2264e-04, 9.9978e-01],\n",
      "        [4.7121e-01, 5.2879e-01],\n",
      "        [9.3633e-01, 6.3667e-02],\n",
      "        [8.6847e-01, 1.3153e-01],\n",
      "        [3.3208e-01, 6.6792e-01],\n",
      "        [3.9711e-01, 6.0289e-01]])\n"
     ]
    },
    {
     "name": "stderr",
     "output_type": "stream",
     "text": [
      "Predicting:  17%|█▋        | 37/215 [05:26<26:10,  8.82s/it]"
     ]
    },
    {
     "name": "stdout",
     "output_type": "stream",
     "text": [
      "tensor([[0.8932, 0.1068],\n",
      "        [0.9977, 0.0023],\n",
      "        [0.1646, 0.8354],\n",
      "        [0.4537, 0.5463],\n",
      "        [0.2113, 0.7887],\n",
      "        [0.5927, 0.4073],\n",
      "        [0.9901, 0.0099],\n",
      "        [0.8588, 0.1412],\n",
      "        [0.8392, 0.1608],\n",
      "        [0.8806, 0.1194],\n",
      "        [0.9775, 0.0225],\n",
      "        [0.1634, 0.8366],\n",
      "        [0.6999, 0.3001],\n",
      "        [0.8354, 0.1646],\n",
      "        [0.8601, 0.1399],\n",
      "        [0.8097, 0.1903]])\n"
     ]
    },
    {
     "name": "stderr",
     "output_type": "stream",
     "text": [
      "Predicting:  18%|█▊        | 38/215 [05:35<26:05,  8.84s/it]"
     ]
    },
    {
     "name": "stdout",
     "output_type": "stream",
     "text": [
      "tensor([[7.7559e-01, 2.2441e-01],\n",
      "        [8.9407e-01, 1.0593e-01],\n",
      "        [8.6429e-01, 1.3571e-01],\n",
      "        [7.6583e-03, 9.9234e-01],\n",
      "        [2.8206e-01, 7.1794e-01],\n",
      "        [5.4116e-01, 4.5884e-01],\n",
      "        [2.0438e-01, 7.9562e-01],\n",
      "        [6.8864e-01, 3.1136e-01],\n",
      "        [9.8816e-01, 1.1841e-02],\n",
      "        [2.7292e-01, 7.2708e-01],\n",
      "        [1.8231e-01, 8.1769e-01],\n",
      "        [9.9929e-01, 7.0688e-04],\n",
      "        [7.6428e-01, 2.3572e-01],\n",
      "        [1.6298e-03, 9.9837e-01],\n",
      "        [7.8677e-01, 2.1323e-01],\n",
      "        [2.6143e-04, 9.9974e-01]])\n"
     ]
    },
    {
     "name": "stderr",
     "output_type": "stream",
     "text": [
      "Predicting:  18%|█▊        | 39/215 [05:44<26:11,  8.93s/it]"
     ]
    },
    {
     "name": "stdout",
     "output_type": "stream",
     "text": [
      "tensor([[4.4552e-01, 5.5448e-01],\n",
      "        [4.8606e-04, 9.9951e-01],\n",
      "        [9.9767e-01, 2.3278e-03],\n",
      "        [9.9953e-01, 4.7464e-04],\n",
      "        [4.8913e-01, 5.1087e-01],\n",
      "        [3.2577e-04, 9.9967e-01],\n",
      "        [9.9734e-01, 2.6639e-03],\n",
      "        [9.9925e-01, 7.4841e-04],\n",
      "        [9.9938e-01, 6.2178e-04],\n",
      "        [9.9992e-01, 8.0281e-05],\n",
      "        [6.8954e-04, 9.9931e-01],\n",
      "        [9.0972e-01, 9.0280e-02],\n",
      "        [8.8626e-01, 1.1374e-01],\n",
      "        [7.3283e-01, 2.6717e-01],\n",
      "        [7.6333e-01, 2.3667e-01],\n",
      "        [9.7125e-01, 2.8748e-02]])\n"
     ]
    },
    {
     "name": "stderr",
     "output_type": "stream",
     "text": [
      "Predicting:  19%|█▊        | 40/215 [05:53<25:34,  8.77s/it]"
     ]
    },
    {
     "name": "stdout",
     "output_type": "stream",
     "text": [
      "tensor([[9.0633e-01, 9.3666e-02],\n",
      "        [9.9959e-01, 4.1162e-04],\n",
      "        [9.9461e-01, 5.3854e-03],\n",
      "        [8.7329e-02, 9.1267e-01],\n",
      "        [9.9407e-01, 5.9331e-03],\n",
      "        [1.6085e-01, 8.3915e-01],\n",
      "        [9.3265e-01, 6.7352e-02],\n",
      "        [9.7383e-01, 2.6165e-02],\n",
      "        [8.9650e-01, 1.0350e-01],\n",
      "        [8.6424e-01, 1.3576e-01],\n",
      "        [9.4684e-01, 5.3159e-02],\n",
      "        [9.8440e-01, 1.5599e-02],\n",
      "        [9.6288e-01, 3.7120e-02],\n",
      "        [8.6538e-03, 9.9135e-01],\n",
      "        [9.9972e-01, 2.8156e-04],\n",
      "        [9.9992e-01, 7.7968e-05]])\n"
     ]
    },
    {
     "name": "stderr",
     "output_type": "stream",
     "text": [
      "Predicting:  19%|█▉        | 41/215 [06:01<25:17,  8.72s/it]"
     ]
    },
    {
     "name": "stdout",
     "output_type": "stream",
     "text": [
      "tensor([[0.6615, 0.3385],\n",
      "        [0.8804, 0.1196],\n",
      "        [0.0020, 0.9980],\n",
      "        [0.0011, 0.9989],\n",
      "        [0.2169, 0.7831],\n",
      "        [0.6955, 0.3045],\n",
      "        [0.9702, 0.0298],\n",
      "        [0.9202, 0.0798],\n",
      "        [0.6573, 0.3427],\n",
      "        [0.6385, 0.3615],\n",
      "        [0.9763, 0.0237],\n",
      "        [0.5812, 0.4188],\n",
      "        [0.6021, 0.3979],\n",
      "        [0.9642, 0.0358],\n",
      "        [0.9536, 0.0464],\n",
      "        [0.7655, 0.2345]])\n"
     ]
    },
    {
     "name": "stderr",
     "output_type": "stream",
     "text": [
      "Predicting:  20%|█▉        | 42/215 [06:10<25:00,  8.67s/it]"
     ]
    },
    {
     "name": "stdout",
     "output_type": "stream",
     "text": [
      "tensor([[0.8375, 0.1625],\n",
      "        [0.8909, 0.1091],\n",
      "        [0.5177, 0.4823],\n",
      "        [0.9479, 0.0521],\n",
      "        [0.7040, 0.2960],\n",
      "        [0.9609, 0.0391],\n",
      "        [0.9948, 0.0052],\n",
      "        [0.9358, 0.0642],\n",
      "        [0.4063, 0.5937],\n",
      "        [0.9546, 0.0454],\n",
      "        [0.9701, 0.0299],\n",
      "        [0.8989, 0.1011],\n",
      "        [0.8651, 0.1349],\n",
      "        [0.8661, 0.1339],\n",
      "        [0.8332, 0.1668],\n",
      "        [0.9509, 0.0491]])\n"
     ]
    },
    {
     "name": "stderr",
     "output_type": "stream",
     "text": [
      "Predicting:  20%|██        | 43/215 [06:19<24:47,  8.65s/it]"
     ]
    },
    {
     "name": "stdout",
     "output_type": "stream",
     "text": [
      "tensor([[9.8272e-01, 1.7284e-02],\n",
      "        [9.6440e-01, 3.5597e-02],\n",
      "        [1.7630e-01, 8.2370e-01],\n",
      "        [9.7862e-01, 2.1378e-02],\n",
      "        [9.1585e-01, 8.4146e-02],\n",
      "        [9.9965e-01, 3.4932e-04],\n",
      "        [9.9886e-01, 1.1435e-03],\n",
      "        [9.9991e-01, 9.0122e-05],\n",
      "        [9.0787e-01, 9.2128e-02],\n",
      "        [9.3276e-05, 9.9991e-01],\n",
      "        [9.8629e-01, 1.3708e-02],\n",
      "        [1.5172e-01, 8.4828e-01],\n",
      "        [1.0403e-04, 9.9990e-01],\n",
      "        [8.6364e-01, 1.3636e-01],\n",
      "        [6.7803e-02, 9.3220e-01],\n",
      "        [7.2579e-01, 2.7421e-01]])\n"
     ]
    },
    {
     "name": "stderr",
     "output_type": "stream",
     "text": [
      "Predicting:  20%|██        | 44/215 [06:27<24:49,  8.71s/it]"
     ]
    },
    {
     "name": "stdout",
     "output_type": "stream",
     "text": [
      "tensor([[0.9171, 0.0829],\n",
      "        [0.8843, 0.1157],\n",
      "        [0.4100, 0.5900],\n",
      "        [0.1455, 0.8545],\n",
      "        [0.9783, 0.0217],\n",
      "        [0.9247, 0.0753],\n",
      "        [0.7785, 0.2215],\n",
      "        [0.9627, 0.0373],\n",
      "        [0.9496, 0.0504],\n",
      "        [0.7412, 0.2588],\n",
      "        [0.9927, 0.0073],\n",
      "        [0.1103, 0.8897],\n",
      "        [0.0064, 0.9936],\n",
      "        [0.2320, 0.7680],\n",
      "        [0.1578, 0.8422],\n",
      "        [0.2649, 0.7351]])\n"
     ]
    },
    {
     "name": "stderr",
     "output_type": "stream",
     "text": [
      "Predicting:  21%|██        | 45/215 [06:37<25:14,  8.91s/it]"
     ]
    },
    {
     "name": "stdout",
     "output_type": "stream",
     "text": [
      "tensor([[4.6027e-01, 5.3973e-01],\n",
      "        [7.5110e-01, 2.4890e-01],\n",
      "        [9.0589e-01, 9.4112e-02],\n",
      "        [9.5896e-01, 4.1038e-02],\n",
      "        [9.9347e-01, 6.5302e-03],\n",
      "        [9.9885e-01, 1.1484e-03],\n",
      "        [2.6808e-01, 7.3192e-01],\n",
      "        [2.0292e-04, 9.9980e-01],\n",
      "        [4.3468e-01, 5.6532e-01],\n",
      "        [9.9983e-01, 1.7180e-04],\n",
      "        [9.9973e-01, 2.6844e-04],\n",
      "        [1.3286e-01, 8.6714e-01],\n",
      "        [9.0809e-01, 9.1910e-02],\n",
      "        [9.3483e-01, 6.5174e-02],\n",
      "        [7.9878e-04, 9.9920e-01],\n",
      "        [9.0376e-01, 9.6240e-02]])\n"
     ]
    },
    {
     "name": "stderr",
     "output_type": "stream",
     "text": [
      "Predicting:  21%|██▏       | 46/215 [06:46<25:06,  8.92s/it]"
     ]
    },
    {
     "name": "stdout",
     "output_type": "stream",
     "text": [
      "tensor([[5.0404e-01, 4.9596e-01],\n",
      "        [1.7019e-01, 8.2981e-01],\n",
      "        [4.0115e-01, 5.9885e-01],\n",
      "        [6.7023e-01, 3.2977e-01],\n",
      "        [7.6522e-01, 2.3478e-01],\n",
      "        [6.9029e-01, 3.0971e-01],\n",
      "        [2.2897e-01, 7.7103e-01],\n",
      "        [2.6199e-02, 9.7380e-01],\n",
      "        [8.4855e-01, 1.5145e-01],\n",
      "        [9.9986e-01, 1.4205e-04],\n",
      "        [9.9995e-01, 4.8354e-05],\n",
      "        [9.9632e-01, 3.6839e-03],\n",
      "        [1.8566e-03, 9.9814e-01],\n",
      "        [9.8295e-01, 1.7054e-02],\n",
      "        [1.3135e-01, 8.6865e-01],\n",
      "        [9.5841e-01, 4.1592e-02]])\n"
     ]
    },
    {
     "name": "stderr",
     "output_type": "stream",
     "text": [
      "Predicting:  22%|██▏       | 47/215 [06:54<24:36,  8.79s/it]"
     ]
    },
    {
     "name": "stdout",
     "output_type": "stream",
     "text": [
      "tensor([[9.7384e-01, 2.6161e-02],\n",
      "        [9.5720e-01, 4.2796e-02],\n",
      "        [8.9706e-01, 1.0294e-01],\n",
      "        [9.6122e-01, 3.8781e-02],\n",
      "        [9.7157e-01, 2.8425e-02],\n",
      "        [9.8648e-01, 1.3517e-02],\n",
      "        [9.3741e-01, 6.2594e-02],\n",
      "        [9.9786e-01, 2.1432e-03],\n",
      "        [9.9345e-01, 6.5495e-03],\n",
      "        [4.7364e-02, 9.5264e-01],\n",
      "        [8.9568e-01, 1.0432e-01],\n",
      "        [9.9683e-01, 3.1706e-03],\n",
      "        [9.2768e-05, 9.9991e-01],\n",
      "        [9.8690e-01, 1.3104e-02],\n",
      "        [9.9477e-01, 5.2350e-03],\n",
      "        [9.9923e-01, 7.6606e-04]])\n"
     ]
    },
    {
     "name": "stderr",
     "output_type": "stream",
     "text": [
      "Predicting:  22%|██▏       | 48/215 [07:03<24:49,  8.92s/it]"
     ]
    },
    {
     "name": "stdout",
     "output_type": "stream",
     "text": [
      "tensor([[9.7022e-01, 2.9777e-02],\n",
      "        [9.9228e-01, 7.7228e-03],\n",
      "        [9.9158e-01, 8.4228e-03],\n",
      "        [9.9957e-01, 4.2623e-04],\n",
      "        [9.9991e-01, 9.1439e-05],\n",
      "        [1.0887e-02, 9.8911e-01],\n",
      "        [9.9914e-01, 8.5849e-04],\n",
      "        [6.5846e-01, 3.4154e-01],\n",
      "        [8.8953e-01, 1.1047e-01],\n",
      "        [2.7083e-01, 7.2917e-01],\n",
      "        [9.9817e-01, 1.8297e-03],\n",
      "        [8.8332e-01, 1.1668e-01],\n",
      "        [7.6626e-01, 2.3374e-01],\n",
      "        [9.8652e-01, 1.3483e-02],\n",
      "        [9.3410e-01, 6.5900e-02],\n",
      "        [7.3816e-02, 9.2618e-01]])\n"
     ]
    },
    {
     "name": "stderr",
     "output_type": "stream",
     "text": [
      "Predicting:  23%|██▎       | 49/215 [07:12<24:28,  8.85s/it]"
     ]
    },
    {
     "name": "stdout",
     "output_type": "stream",
     "text": [
      "tensor([[0.8647, 0.1353],\n",
      "        [0.4288, 0.5712],\n",
      "        [0.0353, 0.9647],\n",
      "        [0.6004, 0.3996],\n",
      "        [0.5379, 0.4621],\n",
      "        [0.0329, 0.9671],\n",
      "        [0.9838, 0.0162],\n",
      "        [0.4374, 0.5626],\n",
      "        [0.9260, 0.0740],\n",
      "        [0.9251, 0.0749],\n",
      "        [0.1232, 0.8768],\n",
      "        [0.9681, 0.0319],\n",
      "        [0.8546, 0.1454],\n",
      "        [0.9685, 0.0315],\n",
      "        [0.9976, 0.0024],\n",
      "        [0.8599, 0.1401]])\n"
     ]
    },
    {
     "name": "stderr",
     "output_type": "stream",
     "text": [
      "Predicting:  23%|██▎       | 50/215 [07:21<24:24,  8.88s/it]"
     ]
    },
    {
     "name": "stdout",
     "output_type": "stream",
     "text": [
      "tensor([[9.8773e-01, 1.2268e-02],\n",
      "        [9.9416e-01, 5.8378e-03],\n",
      "        [7.9637e-01, 2.0363e-01],\n",
      "        [9.0221e-01, 9.7792e-02],\n",
      "        [8.3991e-01, 1.6009e-01],\n",
      "        [9.4825e-01, 5.1751e-02],\n",
      "        [5.8742e-03, 9.9413e-01],\n",
      "        [9.9955e-01, 4.4761e-04],\n",
      "        [9.9971e-01, 2.8640e-04],\n",
      "        [6.7182e-01, 3.2818e-01],\n",
      "        [4.4584e-04, 9.9955e-01],\n",
      "        [9.9987e-01, 1.3428e-04],\n",
      "        [9.8881e-01, 1.1191e-02],\n",
      "        [4.2854e-01, 5.7146e-01],\n",
      "        [9.9589e-01, 4.1081e-03],\n",
      "        [9.9954e-01, 4.6135e-04]])\n"
     ]
    },
    {
     "name": "stderr",
     "output_type": "stream",
     "text": [
      "Predicting:  24%|██▎       | 51/215 [07:30<24:11,  8.85s/it]"
     ]
    },
    {
     "name": "stdout",
     "output_type": "stream",
     "text": [
      "tensor([[9.9979e-01, 2.0870e-04],\n",
      "        [3.4374e-02, 9.6563e-01],\n",
      "        [9.9950e-01, 4.9875e-04],\n",
      "        [9.9982e-01, 1.8057e-04],\n",
      "        [8.3703e-01, 1.6297e-01],\n",
      "        [1.4817e-04, 9.9985e-01],\n",
      "        [9.9550e-01, 4.4952e-03],\n",
      "        [9.9980e-01, 2.0211e-04],\n",
      "        [9.9940e-01, 6.0190e-04],\n",
      "        [9.8752e-01, 1.2476e-02],\n",
      "        [9.6355e-03, 9.9036e-01],\n",
      "        [9.9974e-01, 2.6495e-04],\n",
      "        [9.9688e-01, 3.1218e-03],\n",
      "        [3.8582e-01, 6.1418e-01],\n",
      "        [7.3335e-01, 2.6665e-01],\n",
      "        [9.9913e-01, 8.6503e-04]])\n"
     ]
    },
    {
     "name": "stderr",
     "output_type": "stream",
     "text": [
      "Predicting:  24%|██▍       | 52/215 [07:39<24:20,  8.96s/it]"
     ]
    },
    {
     "name": "stdout",
     "output_type": "stream",
     "text": [
      "tensor([[9.9957e-01, 4.3318e-04],\n",
      "        [9.1816e-01, 8.1843e-02],\n",
      "        [1.7278e-04, 9.9983e-01],\n",
      "        [9.8678e-01, 1.3224e-02],\n",
      "        [9.9735e-01, 2.6498e-03],\n",
      "        [9.6915e-01, 3.0847e-02],\n",
      "        [1.4512e-03, 9.9855e-01],\n",
      "        [4.2045e-01, 5.7955e-01],\n",
      "        [1.5671e-02, 9.8433e-01],\n",
      "        [9.9035e-01, 9.6481e-03],\n",
      "        [4.4320e-01, 5.5680e-01],\n",
      "        [1.1233e-03, 9.9888e-01],\n",
      "        [5.5248e-01, 4.4752e-01],\n",
      "        [9.9097e-01, 9.0287e-03],\n",
      "        [2.7857e-01, 7.2143e-01],\n",
      "        [9.7377e-01, 2.6231e-02]])\n"
     ]
    },
    {
     "name": "stderr",
     "output_type": "stream",
     "text": [
      "Predicting:  25%|██▍       | 53/215 [07:47<23:44,  8.79s/it]"
     ]
    },
    {
     "name": "stdout",
     "output_type": "stream",
     "text": [
      "tensor([[4.2546e-04, 9.9957e-01],\n",
      "        [2.6657e-01, 7.3343e-01],\n",
      "        [9.9298e-01, 7.0217e-03],\n",
      "        [9.7144e-01, 2.8564e-02],\n",
      "        [9.7467e-01, 2.5333e-02],\n",
      "        [9.9519e-01, 4.8099e-03],\n",
      "        [8.9880e-01, 1.0120e-01],\n",
      "        [2.9698e-01, 7.0302e-01],\n",
      "        [9.7956e-01, 2.0444e-02],\n",
      "        [3.2387e-01, 6.7613e-01],\n",
      "        [3.6955e-04, 9.9963e-01],\n",
      "        [8.6824e-01, 1.3176e-01],\n",
      "        [1.0661e-01, 8.9339e-01],\n",
      "        [1.9835e-01, 8.0165e-01],\n",
      "        [7.1020e-01, 2.8980e-01],\n",
      "        [1.6110e-01, 8.3890e-01]])\n"
     ]
    },
    {
     "name": "stderr",
     "output_type": "stream",
     "text": [
      "Predicting:  25%|██▌       | 54/215 [07:56<23:28,  8.75s/it]"
     ]
    },
    {
     "name": "stdout",
     "output_type": "stream",
     "text": [
      "tensor([[9.9974e-01, 2.5855e-04],\n",
      "        [9.9965e-01, 3.4523e-04],\n",
      "        [1.8208e-01, 8.1792e-01],\n",
      "        [5.3407e-01, 4.6593e-01],\n",
      "        [9.2948e-01, 7.0523e-02],\n",
      "        [3.5490e-01, 6.4510e-01],\n",
      "        [4.6619e-01, 5.3381e-01],\n",
      "        [5.4558e-01, 4.5442e-01],\n",
      "        [7.5576e-01, 2.4424e-01],\n",
      "        [8.5317e-01, 1.4683e-01],\n",
      "        [5.1011e-03, 9.9490e-01],\n",
      "        [4.3588e-01, 5.6412e-01],\n",
      "        [9.9217e-01, 7.8259e-03],\n",
      "        [9.9408e-01, 5.9223e-03],\n",
      "        [9.0751e-01, 9.2485e-02],\n",
      "        [3.3960e-02, 9.6604e-01]])\n"
     ]
    },
    {
     "name": "stderr",
     "output_type": "stream",
     "text": [
      "Predicting:  26%|██▌       | 55/215 [08:05<23:11,  8.70s/it]"
     ]
    },
    {
     "name": "stdout",
     "output_type": "stream",
     "text": [
      "tensor([[9.2935e-01, 7.0652e-02],\n",
      "        [3.8743e-01, 6.1257e-01],\n",
      "        [5.2624e-01, 4.7376e-01],\n",
      "        [9.4288e-01, 5.7121e-02],\n",
      "        [7.9477e-01, 2.0523e-01],\n",
      "        [8.1289e-01, 1.8711e-01],\n",
      "        [9.3557e-01, 6.4431e-02],\n",
      "        [5.9301e-01, 4.0699e-01],\n",
      "        [6.2133e-01, 3.7867e-01],\n",
      "        [6.5755e-01, 3.4245e-01],\n",
      "        [4.3580e-01, 5.6420e-01],\n",
      "        [4.0737e-01, 5.9263e-01],\n",
      "        [9.7940e-01, 2.0603e-02],\n",
      "        [9.6900e-01, 3.1003e-02],\n",
      "        [9.9897e-01, 1.0303e-03],\n",
      "        [9.9932e-01, 6.7518e-04]])\n"
     ]
    },
    {
     "name": "stderr",
     "output_type": "stream",
     "text": [
      "Predicting:  26%|██▌       | 56/215 [08:13<23:00,  8.68s/it]"
     ]
    },
    {
     "name": "stdout",
     "output_type": "stream",
     "text": [
      "tensor([[9.9983e-01, 1.6686e-04],\n",
      "        [8.6573e-01, 1.3427e-01],\n",
      "        [9.5841e-05, 9.9990e-01],\n",
      "        [4.7737e-01, 5.2263e-01],\n",
      "        [2.2322e-02, 9.7768e-01],\n",
      "        [1.0097e-02, 9.8990e-01],\n",
      "        [9.9944e-01, 5.6261e-04],\n",
      "        [9.9885e-01, 1.1484e-03],\n",
      "        [9.9977e-01, 2.3070e-04],\n",
      "        [7.8533e-01, 2.1467e-01],\n",
      "        [4.5502e-01, 5.4498e-01],\n",
      "        [9.9258e-01, 7.4207e-03],\n",
      "        [9.0861e-01, 9.1387e-02],\n",
      "        [8.8225e-01, 1.1775e-01],\n",
      "        [9.9350e-01, 6.4990e-03],\n",
      "        [9.9884e-01, 1.1643e-03]])\n"
     ]
    },
    {
     "name": "stderr",
     "output_type": "stream",
     "text": [
      "Predicting:  27%|██▋       | 57/215 [08:22<22:31,  8.55s/it]"
     ]
    },
    {
     "name": "stdout",
     "output_type": "stream",
     "text": [
      "tensor([[0.9990, 0.0010],\n",
      "        [0.9942, 0.0058],\n",
      "        [0.9937, 0.0063],\n",
      "        [0.9355, 0.0645],\n",
      "        [0.8617, 0.1383],\n",
      "        [0.1126, 0.8874],\n",
      "        [0.6363, 0.3637],\n",
      "        [0.6331, 0.3669],\n",
      "        [0.9269, 0.0731],\n",
      "        [0.8947, 0.1053],\n",
      "        [0.7191, 0.2809],\n",
      "        [0.9219, 0.0781],\n",
      "        [0.9337, 0.0663],\n",
      "        [0.3853, 0.6147],\n",
      "        [0.8989, 0.1011],\n",
      "        [0.8482, 0.1518]])\n"
     ]
    },
    {
     "name": "stderr",
     "output_type": "stream",
     "text": [
      "Predicting:  27%|██▋       | 58/215 [08:30<22:19,  8.53s/it]"
     ]
    },
    {
     "name": "stdout",
     "output_type": "stream",
     "text": [
      "tensor([[4.2248e-01, 5.7752e-01],\n",
      "        [8.8837e-01, 1.1163e-01],\n",
      "        [9.9962e-01, 3.7863e-04],\n",
      "        [9.9983e-01, 1.7244e-04],\n",
      "        [1.7642e-02, 9.8236e-01],\n",
      "        [3.7692e-01, 6.2308e-01],\n",
      "        [9.9702e-01, 2.9811e-03],\n",
      "        [9.2269e-01, 7.7314e-02],\n",
      "        [9.0601e-01, 9.3993e-02],\n",
      "        [9.6405e-01, 3.5951e-02],\n",
      "        [9.9935e-01, 6.5375e-04],\n",
      "        [9.9968e-01, 3.2336e-04],\n",
      "        [7.3880e-01, 2.6120e-01],\n",
      "        [9.9983e-01, 1.6541e-04],\n",
      "        [9.9983e-01, 1.6686e-04],\n",
      "        [6.7369e-01, 3.2631e-01]])\n"
     ]
    },
    {
     "name": "stderr",
     "output_type": "stream",
     "text": [
      "Predicting:  27%|██▋       | 59/215 [08:40<22:58,  8.84s/it]"
     ]
    },
    {
     "name": "stdout",
     "output_type": "stream",
     "text": [
      "tensor([[9.9566e-01, 4.3370e-03],\n",
      "        [9.9835e-01, 1.6533e-03],\n",
      "        [7.9268e-01, 2.0732e-01],\n",
      "        [1.1319e-04, 9.9989e-01],\n",
      "        [9.9356e-01, 6.4448e-03],\n",
      "        [9.9459e-01, 5.4095e-03],\n",
      "        [9.3008e-01, 6.9920e-02],\n",
      "        [2.4470e-03, 9.9755e-01],\n",
      "        [5.8381e-02, 9.4162e-01],\n",
      "        [8.5950e-01, 1.4050e-01],\n",
      "        [9.9452e-01, 5.4768e-03],\n",
      "        [7.3832e-01, 2.6168e-01],\n",
      "        [8.4473e-01, 1.5527e-01],\n",
      "        [9.9863e-01, 1.3738e-03],\n",
      "        [9.9260e-01, 7.3951e-03],\n",
      "        [9.6568e-01, 3.4320e-02]])\n"
     ]
    },
    {
     "name": "stderr",
     "output_type": "stream",
     "text": [
      "Predicting:  28%|██▊       | 60/215 [08:49<23:02,  8.92s/it]"
     ]
    },
    {
     "name": "stdout",
     "output_type": "stream",
     "text": [
      "tensor([[0.9845, 0.0155],\n",
      "        [0.9970, 0.0030],\n",
      "        [0.9877, 0.0123],\n",
      "        [0.9162, 0.0838],\n",
      "        [0.9485, 0.0515],\n",
      "        [0.8508, 0.1492],\n",
      "        [0.8758, 0.1242],\n",
      "        [0.8384, 0.1616],\n",
      "        [0.9928, 0.0072],\n",
      "        [0.9891, 0.0109],\n",
      "        [0.9983, 0.0017],\n",
      "        [0.4789, 0.5211],\n",
      "        [0.7832, 0.2168],\n",
      "        [0.6604, 0.3396],\n",
      "        [0.9906, 0.0094],\n",
      "        [0.1758, 0.8242]])\n"
     ]
    },
    {
     "name": "stderr",
     "output_type": "stream",
     "text": [
      "Predicting:  28%|██▊       | 61/215 [08:58<23:13,  9.05s/it]"
     ]
    },
    {
     "name": "stdout",
     "output_type": "stream",
     "text": [
      "tensor([[1.8380e-01, 8.1620e-01],\n",
      "        [3.5874e-01, 6.4126e-01],\n",
      "        [2.0129e-01, 7.9871e-01],\n",
      "        [1.5624e-02, 9.8438e-01],\n",
      "        [3.9638e-01, 6.0362e-01],\n",
      "        [9.8269e-01, 1.7309e-02],\n",
      "        [9.9839e-01, 1.6074e-03],\n",
      "        [9.9603e-01, 3.9736e-03],\n",
      "        [9.7825e-01, 2.1745e-02],\n",
      "        [9.8151e-01, 1.8489e-02],\n",
      "        [9.9022e-01, 9.7770e-03],\n",
      "        [4.7493e-01, 5.2507e-01],\n",
      "        [4.9467e-04, 9.9951e-01],\n",
      "        [4.0858e-01, 5.9142e-01],\n",
      "        [1.7345e-03, 9.9827e-01],\n",
      "        [8.2987e-01, 1.7013e-01]])\n"
     ]
    },
    {
     "name": "stderr",
     "output_type": "stream",
     "text": [
      "Predicting:  29%|██▉       | 62/215 [09:06<22:37,  8.87s/it]"
     ]
    },
    {
     "name": "stdout",
     "output_type": "stream",
     "text": [
      "tensor([[0.6707, 0.3293],\n",
      "        [0.4308, 0.5692],\n",
      "        [0.9918, 0.0082],\n",
      "        [0.5081, 0.4919],\n",
      "        [0.9590, 0.0410],\n",
      "        [0.0589, 0.9411],\n",
      "        [0.8247, 0.1753],\n",
      "        [0.8478, 0.1522],\n",
      "        [0.1220, 0.8780],\n",
      "        [0.8038, 0.1962],\n",
      "        [0.5471, 0.4529],\n",
      "        [0.9859, 0.0141],\n",
      "        [0.1149, 0.8851],\n",
      "        [0.9436, 0.0564],\n",
      "        [0.0015, 0.9985],\n",
      "        [0.7241, 0.2759]])\n"
     ]
    },
    {
     "name": "stderr",
     "output_type": "stream",
     "text": [
      "Predicting:  29%|██▉       | 63/215 [09:16<22:51,  9.02s/it]"
     ]
    },
    {
     "name": "stdout",
     "output_type": "stream",
     "text": [
      "tensor([[1.1513e-02, 9.8849e-01],\n",
      "        [9.9965e-01, 3.4795e-04],\n",
      "        [9.9862e-01, 1.3844e-03],\n",
      "        [1.6591e-01, 8.3409e-01],\n",
      "        [9.4297e-01, 5.7025e-02],\n",
      "        [9.3178e-01, 6.8216e-02],\n",
      "        [2.8546e-01, 7.1454e-01],\n",
      "        [9.9979e-01, 2.0721e-04],\n",
      "        [9.9991e-01, 9.4524e-05],\n",
      "        [9.0948e-01, 9.0524e-02],\n",
      "        [1.9486e-04, 9.9981e-01],\n",
      "        [7.8650e-01, 2.1350e-01],\n",
      "        [6.2065e-01, 3.7935e-01],\n",
      "        [8.3690e-01, 1.6310e-01],\n",
      "        [3.7405e-01, 6.2595e-01],\n",
      "        [9.1684e-01, 8.3158e-02]])\n"
     ]
    },
    {
     "name": "stderr",
     "output_type": "stream",
     "text": [
      "Predicting:  30%|██▉       | 64/215 [09:25<23:00,  9.14s/it]"
     ]
    },
    {
     "name": "stdout",
     "output_type": "stream",
     "text": [
      "tensor([[8.9007e-01, 1.0993e-01],\n",
      "        [8.6437e-01, 1.3563e-01],\n",
      "        [2.3218e-04, 9.9977e-01],\n",
      "        [1.7164e-02, 9.8284e-01],\n",
      "        [9.7134e-01, 2.8657e-02],\n",
      "        [9.7934e-01, 2.0656e-02],\n",
      "        [1.0624e-02, 9.8938e-01],\n",
      "        [8.4203e-02, 9.1580e-01],\n",
      "        [1.1198e-04, 9.9989e-01],\n",
      "        [7.8005e-01, 2.1995e-01],\n",
      "        [2.3524e-02, 9.7648e-01],\n",
      "        [7.4462e-01, 2.5538e-01],\n",
      "        [9.3418e-05, 9.9991e-01],\n",
      "        [9.2977e-01, 7.0235e-02],\n",
      "        [2.1734e-01, 7.8266e-01],\n",
      "        [8.6796e-01, 1.3204e-01]])\n"
     ]
    },
    {
     "name": "stderr",
     "output_type": "stream",
     "text": [
      "Predicting:  30%|███       | 65/215 [09:35<23:05,  9.23s/it]"
     ]
    },
    {
     "name": "stdout",
     "output_type": "stream",
     "text": [
      "tensor([[9.9493e-01, 5.0671e-03],\n",
      "        [8.8113e-01, 1.1887e-01],\n",
      "        [2.3294e-02, 9.7671e-01],\n",
      "        [8.2872e-01, 1.7128e-01],\n",
      "        [9.9797e-01, 2.0303e-03],\n",
      "        [9.9925e-01, 7.4755e-04],\n",
      "        [8.8667e-01, 1.1333e-01],\n",
      "        [3.3158e-03, 9.9668e-01],\n",
      "        [9.9246e-01, 7.5422e-03],\n",
      "        [9.9811e-01, 1.8860e-03],\n",
      "        [9.9920e-01, 7.9559e-04],\n",
      "        [8.1623e-01, 1.8377e-01],\n",
      "        [2.7904e-04, 9.9972e-01],\n",
      "        [9.0387e-01, 9.6132e-02],\n",
      "        [9.6680e-01, 3.3203e-02],\n",
      "        [3.4776e-03, 9.9652e-01]])\n"
     ]
    },
    {
     "name": "stderr",
     "output_type": "stream",
     "text": [
      "Predicting:  31%|███       | 66/215 [09:44<22:47,  9.18s/it]"
     ]
    },
    {
     "name": "stdout",
     "output_type": "stream",
     "text": [
      "tensor([[9.9585e-01, 4.1477e-03],\n",
      "        [1.2764e-01, 8.7236e-01],\n",
      "        [3.2600e-01, 6.7400e-01],\n",
      "        [9.9900e-01, 9.9662e-04],\n",
      "        [9.9651e-01, 3.4922e-03],\n",
      "        [9.2131e-01, 7.8693e-02],\n",
      "        [1.4891e-04, 9.9985e-01],\n",
      "        [9.9312e-01, 6.8805e-03],\n",
      "        [9.0331e-01, 9.6691e-02],\n",
      "        [1.0463e-04, 9.9990e-01],\n",
      "        [6.7406e-01, 3.2594e-01],\n",
      "        [9.9745e-01, 2.5528e-03],\n",
      "        [9.8649e-01, 1.3514e-02],\n",
      "        [1.0861e-01, 8.9139e-01],\n",
      "        [8.5507e-01, 1.4493e-01],\n",
      "        [9.5451e-01, 4.5486e-02]])\n"
     ]
    },
    {
     "name": "stderr",
     "output_type": "stream",
     "text": [
      "Predicting:  31%|███       | 67/215 [09:54<23:05,  9.36s/it]"
     ]
    },
    {
     "name": "stdout",
     "output_type": "stream",
     "text": [
      "tensor([[2.2915e-02, 9.7709e-01],\n",
      "        [9.6967e-05, 9.9990e-01],\n",
      "        [8.2398e-01, 1.7602e-01],\n",
      "        [2.6150e-03, 9.9739e-01],\n",
      "        [2.7347e-01, 7.2653e-01],\n",
      "        [6.3191e-02, 9.3681e-01],\n",
      "        [9.9768e-01, 2.3209e-03],\n",
      "        [2.7800e-01, 7.2200e-01],\n",
      "        [9.4020e-01, 5.9798e-02],\n",
      "        [9.4954e-01, 5.0463e-02],\n",
      "        [9.5419e-05, 9.9990e-01],\n",
      "        [8.4364e-01, 1.5636e-01],\n",
      "        [8.8254e-02, 9.1175e-01],\n",
      "        [2.4786e-03, 9.9752e-01],\n",
      "        [3.3892e-01, 6.6108e-01],\n",
      "        [9.5474e-01, 4.5265e-02]])\n"
     ]
    },
    {
     "name": "stderr",
     "output_type": "stream",
     "text": [
      "Predicting:  32%|███▏      | 68/215 [10:02<22:33,  9.21s/it]"
     ]
    },
    {
     "name": "stdout",
     "output_type": "stream",
     "text": [
      "tensor([[1.4142e-02, 9.8586e-01],\n",
      "        [1.2510e-02, 9.8749e-01],\n",
      "        [9.9713e-01, 2.8718e-03],\n",
      "        [9.9818e-01, 1.8203e-03],\n",
      "        [1.0567e-01, 8.9433e-01],\n",
      "        [2.7498e-01, 7.2502e-01],\n",
      "        [6.6193e-01, 3.3807e-01],\n",
      "        [9.8402e-05, 9.9990e-01],\n",
      "        [9.9971e-01, 2.8769e-04],\n",
      "        [9.9983e-01, 1.6855e-04],\n",
      "        [9.7977e-01, 2.0226e-02],\n",
      "        [6.6716e-01, 3.3284e-01],\n",
      "        [6.1459e-01, 3.8541e-01],\n",
      "        [9.6170e-01, 3.8305e-02],\n",
      "        [4.8553e-01, 5.1447e-01],\n",
      "        [9.8126e-01, 1.8745e-02]])\n"
     ]
    },
    {
     "name": "stderr",
     "output_type": "stream",
     "text": [
      "Predicting:  32%|███▏      | 69/215 [10:11<21:51,  8.98s/it]"
     ]
    },
    {
     "name": "stdout",
     "output_type": "stream",
     "text": [
      "tensor([[9.1933e-01, 8.0666e-02],\n",
      "        [6.7164e-01, 3.2836e-01],\n",
      "        [9.8982e-01, 1.0182e-02],\n",
      "        [9.5456e-01, 4.5443e-02],\n",
      "        [9.9973e-01, 2.6620e-04],\n",
      "        [8.3852e-01, 1.6148e-01],\n",
      "        [7.3076e-01, 2.6924e-01],\n",
      "        [9.9465e-01, 5.3510e-03],\n",
      "        [9.0578e-01, 9.4221e-02],\n",
      "        [9.9815e-01, 1.8491e-03],\n",
      "        [9.9801e-01, 1.9903e-03],\n",
      "        [6.0675e-03, 9.9393e-01],\n",
      "        [1.0164e-04, 9.9990e-01],\n",
      "        [9.9729e-01, 2.7105e-03],\n",
      "        [9.9417e-01, 5.8278e-03],\n",
      "        [9.5502e-01, 4.4979e-02]])\n"
     ]
    },
    {
     "name": "stderr",
     "output_type": "stream",
     "text": [
      "Predicting:  33%|███▎      | 70/215 [10:19<21:06,  8.74s/it]"
     ]
    },
    {
     "name": "stdout",
     "output_type": "stream",
     "text": [
      "tensor([[1.6578e-03, 9.9834e-01],\n",
      "        [1.9326e-03, 9.9807e-01],\n",
      "        [2.7844e-01, 7.2156e-01],\n",
      "        [9.8672e-01, 1.3275e-02],\n",
      "        [8.7494e-01, 1.2506e-01],\n",
      "        [1.5859e-02, 9.8414e-01],\n",
      "        [1.2389e-01, 8.7611e-01],\n",
      "        [9.4790e-01, 5.2104e-02],\n",
      "        [8.7171e-01, 1.2829e-01],\n",
      "        [5.1790e-02, 9.4821e-01],\n",
      "        [7.8341e-04, 9.9922e-01],\n",
      "        [4.8516e-02, 9.5148e-01],\n",
      "        [9.9918e-01, 8.2104e-04],\n",
      "        [9.9977e-01, 2.3362e-04],\n",
      "        [9.7462e-01, 2.5381e-02],\n",
      "        [1.1700e-04, 9.9988e-01]])\n"
     ]
    },
    {
     "name": "stderr",
     "output_type": "stream",
     "text": [
      "Predicting:  33%|███▎      | 71/215 [10:28<20:49,  8.67s/it]"
     ]
    },
    {
     "name": "stdout",
     "output_type": "stream",
     "text": [
      "tensor([[9.8999e-01, 1.0013e-02],\n",
      "        [9.9393e-01, 6.0678e-03],\n",
      "        [9.9893e-01, 1.0744e-03],\n",
      "        [6.6400e-04, 9.9934e-01],\n",
      "        [3.4211e-04, 9.9966e-01],\n",
      "        [2.9438e-01, 7.0562e-01],\n",
      "        [9.9909e-01, 9.0948e-04],\n",
      "        [9.9709e-01, 2.9062e-03],\n",
      "        [9.9459e-01, 5.4102e-03],\n",
      "        [9.7451e-01, 2.5489e-02],\n",
      "        [9.8407e-01, 1.5929e-02],\n",
      "        [9.8651e-01, 1.3485e-02],\n",
      "        [6.7461e-01, 3.2539e-01],\n",
      "        [9.4296e-01, 5.7042e-02],\n",
      "        [9.6871e-01, 3.1295e-02],\n",
      "        [5.4671e-02, 9.4533e-01]])\n"
     ]
    },
    {
     "name": "stderr",
     "output_type": "stream",
     "text": [
      "Predicting:  33%|███▎      | 72/215 [10:36<20:29,  8.60s/it]"
     ]
    },
    {
     "name": "stdout",
     "output_type": "stream",
     "text": [
      "tensor([[9.5543e-01, 4.4573e-02],\n",
      "        [4.3090e-01, 5.6910e-01],\n",
      "        [3.3166e-01, 6.6834e-01],\n",
      "        [9.5974e-01, 4.0257e-02],\n",
      "        [9.4525e-02, 9.0547e-01],\n",
      "        [1.2420e-01, 8.7580e-01],\n",
      "        [9.1566e-01, 8.4340e-02],\n",
      "        [1.9095e-01, 8.0905e-01],\n",
      "        [9.9565e-01, 4.3478e-03],\n",
      "        [8.1291e-01, 1.8709e-01],\n",
      "        [1.4360e-04, 9.9986e-01],\n",
      "        [9.9372e-01, 6.2782e-03],\n",
      "        [8.6772e-01, 1.3228e-01],\n",
      "        [9.1025e-01, 8.9747e-02],\n",
      "        [4.4554e-01, 5.5446e-01],\n",
      "        [4.4761e-01, 5.5239e-01]])\n"
     ]
    },
    {
     "name": "stderr",
     "output_type": "stream",
     "text": [
      "Predicting:  34%|███▍      | 73/215 [10:44<20:13,  8.55s/it]"
     ]
    },
    {
     "name": "stdout",
     "output_type": "stream",
     "text": [
      "tensor([[8.7262e-01, 1.2738e-01],\n",
      "        [2.9546e-01, 7.0454e-01],\n",
      "        [9.9965e-01, 3.5083e-04],\n",
      "        [5.5678e-01, 4.4322e-01],\n",
      "        [7.7298e-01, 2.2702e-01],\n",
      "        [8.7859e-01, 1.2141e-01],\n",
      "        [9.9307e-01, 6.9271e-03],\n",
      "        [6.8389e-01, 3.1611e-01],\n",
      "        [9.9599e-01, 4.0126e-03],\n",
      "        [1.2462e-04, 9.9988e-01],\n",
      "        [9.4578e-01, 5.4218e-02],\n",
      "        [5.0492e-02, 9.4951e-01],\n",
      "        [4.0880e-01, 5.9120e-01],\n",
      "        [9.8654e-01, 1.3462e-02],\n",
      "        [2.0610e-04, 9.9979e-01],\n",
      "        [9.6866e-01, 3.1343e-02]])\n"
     ]
    },
    {
     "name": "stderr",
     "output_type": "stream",
     "text": [
      "Predicting:  34%|███▍      | 74/215 [10:53<19:57,  8.50s/it]"
     ]
    },
    {
     "name": "stdout",
     "output_type": "stream",
     "text": [
      "tensor([[3.7361e-01, 6.2639e-01],\n",
      "        [4.4390e-01, 5.5610e-01],\n",
      "        [9.9394e-01, 6.0586e-03],\n",
      "        [7.9321e-01, 2.0679e-01],\n",
      "        [8.6701e-01, 1.3299e-01],\n",
      "        [5.6648e-01, 4.3352e-01],\n",
      "        [9.7349e-01, 2.6508e-02],\n",
      "        [9.9415e-01, 5.8520e-03],\n",
      "        [1.5074e-01, 8.4926e-01],\n",
      "        [1.4926e-01, 8.5074e-01],\n",
      "        [9.9377e-01, 6.2336e-03],\n",
      "        [9.9968e-01, 3.1801e-04],\n",
      "        [4.9764e-01, 5.0236e-01],\n",
      "        [9.6555e-05, 9.9990e-01],\n",
      "        [9.1301e-01, 8.6990e-02],\n",
      "        [9.9913e-01, 8.6566e-04]])\n"
     ]
    },
    {
     "name": "stderr",
     "output_type": "stream",
     "text": [
      "Predicting:  35%|███▍      | 75/215 [11:02<20:03,  8.60s/it]"
     ]
    },
    {
     "name": "stdout",
     "output_type": "stream",
     "text": [
      "tensor([[9.9929e-01, 7.0807e-04],\n",
      "        [1.0049e-01, 8.9951e-01],\n",
      "        [1.2076e-04, 9.9988e-01],\n",
      "        [9.9473e-01, 5.2685e-03],\n",
      "        [8.8758e-01, 1.1242e-01],\n",
      "        [9.8668e-01, 1.3321e-02],\n",
      "        [1.5952e-01, 8.4048e-01],\n",
      "        [4.2748e-01, 5.7252e-01],\n",
      "        [2.2906e-01, 7.7094e-01],\n",
      "        [9.9881e-01, 1.1861e-03],\n",
      "        [4.0399e-01, 5.9601e-01],\n",
      "        [6.0881e-01, 3.9119e-01],\n",
      "        [1.0411e-01, 8.9589e-01],\n",
      "        [2.6635e-01, 7.3365e-01],\n",
      "        [8.8027e-01, 1.1973e-01],\n",
      "        [1.2126e-02, 9.8787e-01]])\n"
     ]
    },
    {
     "name": "stderr",
     "output_type": "stream",
     "text": [
      "Predicting:  35%|███▌      | 76/215 [11:10<19:35,  8.46s/it]"
     ]
    },
    {
     "name": "stdout",
     "output_type": "stream",
     "text": [
      "tensor([[1.1553e-02, 9.8845e-01],\n",
      "        [1.9280e-03, 9.9807e-01],\n",
      "        [9.5272e-01, 4.7281e-02],\n",
      "        [9.9153e-01, 8.4652e-03],\n",
      "        [6.5476e-04, 9.9935e-01],\n",
      "        [3.8188e-01, 6.1812e-01],\n",
      "        [1.3576e-01, 8.6424e-01],\n",
      "        [9.4719e-01, 5.2813e-02],\n",
      "        [6.2973e-04, 9.9937e-01],\n",
      "        [8.7271e-01, 1.2729e-01],\n",
      "        [3.0044e-01, 6.9956e-01],\n",
      "        [5.1178e-02, 9.4882e-01],\n",
      "        [9.6917e-01, 3.0835e-02],\n",
      "        [1.7951e-01, 8.2049e-01],\n",
      "        [3.8407e-01, 6.1593e-01],\n",
      "        [1.1734e-01, 8.8266e-01]])\n"
     ]
    },
    {
     "name": "stderr",
     "output_type": "stream",
     "text": [
      "Predicting:  36%|███▌      | 77/215 [11:18<19:16,  8.38s/it]"
     ]
    },
    {
     "name": "stdout",
     "output_type": "stream",
     "text": [
      "tensor([[9.9701e-01, 2.9945e-03],\n",
      "        [6.2148e-01, 3.7852e-01],\n",
      "        [8.8531e-01, 1.1469e-01],\n",
      "        [9.9434e-01, 5.6579e-03],\n",
      "        [8.2494e-01, 1.7506e-01],\n",
      "        [9.9703e-01, 2.9702e-03],\n",
      "        [6.2553e-01, 3.7447e-01],\n",
      "        [9.9907e-01, 9.3309e-04],\n",
      "        [1.9460e-02, 9.8054e-01],\n",
      "        [9.9739e-01, 2.6052e-03],\n",
      "        [9.9983e-01, 1.7496e-04],\n",
      "        [6.2517e-01, 3.7483e-01],\n",
      "        [3.5084e-04, 9.9965e-01],\n",
      "        [5.3976e-01, 4.6024e-01],\n",
      "        [9.9903e-01, 9.7195e-04],\n",
      "        [5.4115e-01, 4.5885e-01]])\n"
     ]
    },
    {
     "name": "stderr",
     "output_type": "stream",
     "text": [
      "Predicting:  36%|███▋      | 78/215 [11:26<18:53,  8.28s/it]"
     ]
    },
    {
     "name": "stdout",
     "output_type": "stream",
     "text": [
      "tensor([[6.9445e-01, 3.0555e-01],\n",
      "        [4.4266e-01, 5.5734e-01],\n",
      "        [6.7893e-01, 3.2107e-01],\n",
      "        [4.0596e-01, 5.9404e-01],\n",
      "        [3.2445e-01, 6.7555e-01],\n",
      "        [7.1782e-01, 2.8218e-01],\n",
      "        [8.6029e-01, 1.3971e-01],\n",
      "        [9.9864e-01, 1.3585e-03],\n",
      "        [8.5281e-01, 1.4719e-01],\n",
      "        [9.1897e-01, 8.1030e-02],\n",
      "        [9.9745e-01, 2.5511e-03],\n",
      "        [9.9710e-01, 2.8954e-03],\n",
      "        [9.1816e-01, 8.1839e-02],\n",
      "        [8.1720e-01, 1.8280e-01],\n",
      "        [9.9922e-01, 7.8124e-04],\n",
      "        [9.9871e-01, 1.2883e-03]])\n"
     ]
    },
    {
     "name": "stderr",
     "output_type": "stream",
     "text": [
      "Predicting:  37%|███▋      | 79/215 [11:34<18:54,  8.34s/it]"
     ]
    },
    {
     "name": "stdout",
     "output_type": "stream",
     "text": [
      "tensor([[9.4371e-01, 5.6288e-02],\n",
      "        [8.1230e-01, 1.8770e-01],\n",
      "        [9.9885e-01, 1.1517e-03],\n",
      "        [9.5612e-01, 4.3883e-02],\n",
      "        [7.1740e-01, 2.8260e-01],\n",
      "        [7.6758e-01, 2.3242e-01],\n",
      "        [9.9974e-01, 2.6045e-04],\n",
      "        [3.8153e-01, 6.1847e-01],\n",
      "        [9.2287e-01, 7.7128e-02],\n",
      "        [2.1467e-01, 7.8533e-01],\n",
      "        [9.9372e-01, 6.2789e-03],\n",
      "        [6.2527e-01, 3.7473e-01],\n",
      "        [7.0371e-01, 2.9629e-01],\n",
      "        [9.8103e-01, 1.8970e-02],\n",
      "        [6.2128e-01, 3.7872e-01],\n",
      "        [9.9621e-01, 3.7876e-03]])\n"
     ]
    },
    {
     "name": "stderr",
     "output_type": "stream",
     "text": [
      "Predicting:  37%|███▋      | 80/215 [11:43<18:33,  8.25s/it]"
     ]
    },
    {
     "name": "stdout",
     "output_type": "stream",
     "text": [
      "tensor([[8.4597e-01, 1.5403e-01],\n",
      "        [9.0121e-01, 9.8788e-02],\n",
      "        [6.9372e-01, 3.0628e-01],\n",
      "        [9.9341e-01, 6.5854e-03],\n",
      "        [8.6139e-01, 1.3861e-01],\n",
      "        [7.9267e-01, 2.0733e-01],\n",
      "        [9.8898e-01, 1.1024e-02],\n",
      "        [2.5098e-01, 7.4902e-01],\n",
      "        [5.3256e-01, 4.6744e-01],\n",
      "        [8.8763e-01, 1.1237e-01],\n",
      "        [5.8956e-01, 4.1044e-01],\n",
      "        [4.6952e-01, 5.3048e-01],\n",
      "        [9.9148e-01, 8.5249e-03],\n",
      "        [7.9241e-01, 2.0759e-01],\n",
      "        [8.7779e-01, 1.2221e-01],\n",
      "        [9.9959e-01, 4.0670e-04]])\n"
     ]
    },
    {
     "name": "stderr",
     "output_type": "stream",
     "text": [
      "Predicting:  38%|███▊      | 81/215 [11:51<18:18,  8.20s/it]"
     ]
    },
    {
     "name": "stdout",
     "output_type": "stream",
     "text": [
      "tensor([[0.5949, 0.4051],\n",
      "        [0.9967, 0.0033],\n",
      "        [0.7388, 0.2612],\n",
      "        [0.8840, 0.1160],\n",
      "        [0.9989, 0.0011],\n",
      "        [0.9971, 0.0029],\n",
      "        [0.0839, 0.9161],\n",
      "        [0.9092, 0.0908],\n",
      "        [0.0653, 0.9347],\n",
      "        [0.9972, 0.0028],\n",
      "        [0.3062, 0.6938],\n",
      "        [0.9228, 0.0772],\n",
      "        [0.2682, 0.7318],\n",
      "        [0.9971, 0.0029],\n",
      "        [0.8462, 0.1538],\n",
      "        [0.7951, 0.2049]])\n"
     ]
    },
    {
     "name": "stderr",
     "output_type": "stream",
     "text": [
      "Predicting:  38%|███▊      | 82/215 [11:59<18:32,  8.36s/it]"
     ]
    },
    {
     "name": "stdout",
     "output_type": "stream",
     "text": [
      "tensor([[9.8436e-01, 1.5640e-02],\n",
      "        [6.1565e-01, 3.8435e-01],\n",
      "        [9.6293e-01, 3.7070e-02],\n",
      "        [4.5782e-02, 9.5422e-01],\n",
      "        [8.7041e-01, 1.2959e-01],\n",
      "        [7.2744e-01, 2.7256e-01],\n",
      "        [9.9922e-01, 7.7586e-04],\n",
      "        [7.4962e-01, 2.5038e-01],\n",
      "        [8.2508e-01, 1.7492e-01],\n",
      "        [5.7679e-01, 4.2321e-01],\n",
      "        [9.4005e-01, 5.9950e-02],\n",
      "        [6.3829e-02, 9.3617e-01],\n",
      "        [3.8846e-01, 6.1154e-01],\n",
      "        [2.5105e-01, 7.4895e-01],\n",
      "        [2.6000e-02, 9.7400e-01],\n",
      "        [9.8416e-01, 1.5838e-02]])\n"
     ]
    },
    {
     "name": "stderr",
     "output_type": "stream",
     "text": [
      "Predicting:  39%|███▊      | 83/215 [12:08<18:35,  8.45s/it]"
     ]
    },
    {
     "name": "stdout",
     "output_type": "stream",
     "text": [
      "tensor([[9.8494e-01, 1.5057e-02],\n",
      "        [1.8093e-02, 9.8191e-01],\n",
      "        [1.9159e-01, 8.0841e-01],\n",
      "        [9.2030e-01, 7.9702e-02],\n",
      "        [1.5465e-01, 8.4535e-01],\n",
      "        [3.2962e-01, 6.7038e-01],\n",
      "        [3.2379e-02, 9.6762e-01],\n",
      "        [9.9800e-01, 2.0047e-03],\n",
      "        [9.9991e-01, 8.5880e-05],\n",
      "        [9.3006e-01, 6.9940e-02],\n",
      "        [9.0240e-04, 9.9910e-01],\n",
      "        [7.1250e-01, 2.8750e-01],\n",
      "        [9.4296e-01, 5.7038e-02],\n",
      "        [4.2581e-01, 5.7419e-01],\n",
      "        [1.9208e-01, 8.0792e-01],\n",
      "        [6.8800e-02, 9.3120e-01]])\n"
     ]
    },
    {
     "name": "stderr",
     "output_type": "stream",
     "text": [
      "Predicting:  39%|███▉      | 84/215 [12:17<18:53,  8.65s/it]"
     ]
    },
    {
     "name": "stdout",
     "output_type": "stream",
     "text": [
      "tensor([[9.5872e-01, 4.1284e-02],\n",
      "        [9.8929e-01, 1.0713e-02],\n",
      "        [8.1522e-03, 9.9185e-01],\n",
      "        [1.6433e-01, 8.3567e-01],\n",
      "        [9.6079e-01, 3.9211e-02],\n",
      "        [9.4952e-01, 5.0482e-02],\n",
      "        [7.1608e-01, 2.8392e-01],\n",
      "        [8.6417e-01, 1.3583e-01],\n",
      "        [4.3346e-01, 5.6654e-01],\n",
      "        [9.9856e-01, 1.4371e-03],\n",
      "        [9.9989e-01, 1.1308e-04],\n",
      "        [7.6850e-01, 2.3150e-01],\n",
      "        [6.2345e-04, 9.9938e-01],\n",
      "        [7.7174e-01, 2.2826e-01],\n",
      "        [9.9209e-01, 7.9115e-03],\n",
      "        [9.9477e-01, 5.2282e-03]])\n"
     ]
    },
    {
     "name": "stderr",
     "output_type": "stream",
     "text": [
      "Predicting:  40%|███▉      | 85/215 [12:26<18:45,  8.66s/it]"
     ]
    },
    {
     "name": "stdout",
     "output_type": "stream",
     "text": [
      "tensor([[1.2356e-04, 9.9988e-01],\n",
      "        [1.0649e-02, 9.8935e-01],\n",
      "        [3.6765e-01, 6.3235e-01],\n",
      "        [5.8677e-01, 4.1323e-01],\n",
      "        [8.1115e-01, 1.8885e-01],\n",
      "        [9.6986e-01, 3.0142e-02],\n",
      "        [1.9981e-01, 8.0019e-01],\n",
      "        [8.7067e-01, 1.2933e-01],\n",
      "        [8.6944e-01, 1.3056e-01],\n",
      "        [6.3937e-01, 3.6063e-01],\n",
      "        [6.3524e-01, 3.6476e-01],\n",
      "        [6.9014e-03, 9.9310e-01],\n",
      "        [9.8452e-01, 1.5485e-02],\n",
      "        [9.9918e-01, 8.1864e-04],\n",
      "        [9.1108e-01, 8.8916e-02],\n",
      "        [1.1620e-01, 8.8380e-01]])\n"
     ]
    },
    {
     "name": "stderr",
     "output_type": "stream",
     "text": [
      "Predicting:  40%|████      | 86/215 [12:34<18:37,  8.66s/it]"
     ]
    },
    {
     "name": "stdout",
     "output_type": "stream",
     "text": [
      "tensor([[5.7090e-01, 4.2910e-01],\n",
      "        [5.8304e-01, 4.1696e-01],\n",
      "        [9.9434e-01, 5.6586e-03],\n",
      "        [7.7784e-01, 2.2216e-01],\n",
      "        [8.8572e-01, 1.1428e-01],\n",
      "        [2.9455e-01, 7.0545e-01],\n",
      "        [9.5348e-01, 4.6522e-02],\n",
      "        [2.4862e-02, 9.7514e-01],\n",
      "        [1.4903e-02, 9.8510e-01],\n",
      "        [9.5209e-01, 4.7913e-02],\n",
      "        [9.3018e-01, 6.9819e-02],\n",
      "        [7.0917e-01, 2.9083e-01],\n",
      "        [1.9658e-01, 8.0342e-01],\n",
      "        [9.9728e-01, 2.7178e-03],\n",
      "        [9.9919e-01, 8.1433e-04],\n",
      "        [4.8349e-01, 5.1651e-01]])\n"
     ]
    },
    {
     "name": "stderr",
     "output_type": "stream",
     "text": [
      "Predicting:  40%|████      | 87/215 [12:43<18:20,  8.60s/it]"
     ]
    },
    {
     "name": "stdout",
     "output_type": "stream",
     "text": [
      "tensor([[1.3059e-04, 9.9987e-01],\n",
      "        [4.9849e-01, 5.0151e-01],\n",
      "        [9.7678e-01, 2.3217e-02],\n",
      "        [3.0134e-03, 9.9699e-01],\n",
      "        [9.2345e-01, 7.6550e-02],\n",
      "        [4.4038e-02, 9.5596e-01],\n",
      "        [1.0330e-01, 8.9670e-01],\n",
      "        [9.9925e-01, 7.4765e-04],\n",
      "        [7.2523e-01, 2.7477e-01],\n",
      "        [9.3497e-01, 6.5029e-02],\n",
      "        [7.0654e-01, 2.9346e-01],\n",
      "        [9.9893e-01, 1.0655e-03],\n",
      "        [4.7323e-01, 5.2677e-01],\n",
      "        [9.4671e-01, 5.3287e-02],\n",
      "        [4.6978e-01, 5.3022e-01],\n",
      "        [9.8917e-01, 1.0830e-02]])\n"
     ]
    },
    {
     "name": "stderr",
     "output_type": "stream",
     "text": [
      "Predicting:  41%|████      | 88/215 [12:51<18:08,  8.57s/it]"
     ]
    },
    {
     "name": "stdout",
     "output_type": "stream",
     "text": [
      "tensor([[4.5923e-01, 5.4077e-01],\n",
      "        [8.6349e-01, 1.3651e-01],\n",
      "        [9.3475e-01, 6.5250e-02],\n",
      "        [1.2744e-01, 8.7256e-01],\n",
      "        [9.9703e-01, 2.9731e-03],\n",
      "        [9.9862e-01, 1.3833e-03],\n",
      "        [7.9918e-01, 2.0082e-01],\n",
      "        [4.3130e-04, 9.9957e-01],\n",
      "        [9.4714e-01, 5.2856e-02],\n",
      "        [9.9608e-01, 3.9170e-03],\n",
      "        [9.9988e-01, 1.2329e-04],\n",
      "        [8.1125e-01, 1.8875e-01],\n",
      "        [1.3801e-04, 9.9986e-01],\n",
      "        [9.3123e-01, 6.8768e-02],\n",
      "        [9.9385e-01, 6.1450e-03],\n",
      "        [3.4926e-01, 6.5074e-01]])\n"
     ]
    },
    {
     "name": "stderr",
     "output_type": "stream",
     "text": [
      "Predicting:  41%|████▏     | 89/215 [13:00<17:52,  8.51s/it]"
     ]
    },
    {
     "name": "stdout",
     "output_type": "stream",
     "text": [
      "tensor([[0.5554, 0.4446],\n",
      "        [0.0780, 0.9220],\n",
      "        [0.9950, 0.0050],\n",
      "        [0.5350, 0.4650],\n",
      "        [0.0300, 0.9700],\n",
      "        [0.8433, 0.1567],\n",
      "        [0.9787, 0.0213],\n",
      "        [0.4472, 0.5528],\n",
      "        [0.6473, 0.3527],\n",
      "        [0.9664, 0.0336],\n",
      "        [0.7636, 0.2364],\n",
      "        [0.9982, 0.0018],\n",
      "        [0.7869, 0.2131],\n",
      "        [0.9929, 0.0071],\n",
      "        [0.9029, 0.0971],\n",
      "        [0.9934, 0.0066]])\n"
     ]
    },
    {
     "name": "stderr",
     "output_type": "stream",
     "text": [
      "Predicting:  42%|████▏     | 90/215 [13:08<17:26,  8.37s/it]"
     ]
    },
    {
     "name": "stdout",
     "output_type": "stream",
     "text": [
      "tensor([[0.8732, 0.1268],\n",
      "        [0.8210, 0.1790],\n",
      "        [0.9895, 0.0105],\n",
      "        [0.9000, 0.1000],\n",
      "        [0.9786, 0.0214],\n",
      "        [0.8978, 0.1022],\n",
      "        [0.8944, 0.1056],\n",
      "        [0.9948, 0.0052],\n",
      "        [0.9044, 0.0956],\n",
      "        [0.9946, 0.0054],\n",
      "        [0.6601, 0.3399],\n",
      "        [0.8655, 0.1345],\n",
      "        [0.9952, 0.0048],\n",
      "        [0.8326, 0.1674],\n",
      "        [0.9118, 0.0882],\n",
      "        [0.3556, 0.6444]])\n"
     ]
    },
    {
     "name": "stderr",
     "output_type": "stream",
     "text": [
      "Predicting:  42%|████▏     | 91/215 [13:16<17:08,  8.30s/it]"
     ]
    },
    {
     "name": "stdout",
     "output_type": "stream",
     "text": [
      "tensor([[0.5516, 0.4484],\n",
      "        [0.9912, 0.0088],\n",
      "        [0.3980, 0.6020],\n",
      "        [0.6461, 0.3539],\n",
      "        [0.5982, 0.4018],\n",
      "        [0.7527, 0.2473],\n",
      "        [0.3438, 0.6562],\n",
      "        [0.7786, 0.2214],\n",
      "        [0.5381, 0.4619],\n",
      "        [0.9525, 0.0475],\n",
      "        [0.0124, 0.9876],\n",
      "        [0.9699, 0.0301],\n",
      "        [0.7064, 0.2936],\n",
      "        [0.4124, 0.5876],\n",
      "        [0.2941, 0.7059],\n",
      "        [0.9879, 0.0121]])\n"
     ]
    },
    {
     "name": "stderr",
     "output_type": "stream",
     "text": [
      "Predicting:  43%|████▎     | 92/215 [13:24<17:03,  8.32s/it]"
     ]
    },
    {
     "name": "stdout",
     "output_type": "stream",
     "text": [
      "tensor([[9.9973e-01, 2.7499e-04],\n",
      "        [9.8406e-05, 9.9990e-01],\n",
      "        [1.3843e-04, 9.9986e-01],\n",
      "        [3.3382e-01, 6.6618e-01],\n",
      "        [8.3009e-01, 1.6991e-01],\n",
      "        [5.3658e-01, 4.6342e-01],\n",
      "        [9.4991e-02, 9.0501e-01],\n",
      "        [8.6457e-04, 9.9914e-01],\n",
      "        [9.7038e-01, 2.9620e-02],\n",
      "        [9.9891e-01, 1.0891e-03],\n",
      "        [9.5742e-01, 4.2578e-02],\n",
      "        [9.6941e-01, 3.0588e-02],\n",
      "        [3.4443e-01, 6.5557e-01],\n",
      "        [9.9206e-01, 7.9384e-03],\n",
      "        [4.3489e-01, 5.6511e-01],\n",
      "        [4.8398e-01, 5.1602e-01]])\n"
     ]
    },
    {
     "name": "stderr",
     "output_type": "stream",
     "text": [
      "Predicting:  43%|████▎     | 93/215 [13:33<16:54,  8.32s/it]"
     ]
    },
    {
     "name": "stdout",
     "output_type": "stream",
     "text": [
      "tensor([[7.7644e-01, 2.2356e-01],\n",
      "        [4.8014e-01, 5.1986e-01],\n",
      "        [3.4169e-01, 6.5831e-01],\n",
      "        [7.3813e-01, 2.6187e-01],\n",
      "        [9.1586e-01, 8.4143e-02],\n",
      "        [7.4247e-01, 2.5753e-01],\n",
      "        [2.0242e-02, 9.7976e-01],\n",
      "        [3.4616e-03, 9.9654e-01],\n",
      "        [5.5514e-01, 4.4486e-01],\n",
      "        [2.3769e-01, 7.6231e-01],\n",
      "        [2.6307e-01, 7.3693e-01],\n",
      "        [2.3483e-01, 7.6517e-01],\n",
      "        [2.1702e-01, 7.8298e-01],\n",
      "        [9.8422e-01, 1.5776e-02],\n",
      "        [1.4365e-03, 9.9856e-01],\n",
      "        [9.8570e-05, 9.9990e-01]])\n"
     ]
    },
    {
     "name": "stderr",
     "output_type": "stream",
     "text": [
      "Predicting:  44%|████▎     | 94/215 [13:42<17:23,  8.63s/it]"
     ]
    },
    {
     "name": "stdout",
     "output_type": "stream",
     "text": [
      "tensor([[7.9868e-01, 2.0132e-01],\n",
      "        [6.7873e-01, 3.2127e-01],\n",
      "        [9.9586e-01, 4.1379e-03],\n",
      "        [9.9858e-01, 1.4220e-03],\n",
      "        [9.4423e-01, 5.5770e-02],\n",
      "        [9.9105e-01, 8.9494e-03],\n",
      "        [9.9982e-01, 1.7657e-04],\n",
      "        [9.8285e-01, 1.7146e-02],\n",
      "        [3.2743e-04, 9.9967e-01],\n",
      "        [7.4026e-01, 2.5974e-01],\n",
      "        [7.3461e-01, 2.6539e-01],\n",
      "        [2.5831e-01, 7.4169e-01],\n",
      "        [7.5381e-01, 2.4619e-01],\n",
      "        [1.2435e-01, 8.7565e-01],\n",
      "        [7.5240e-01, 2.4760e-01],\n",
      "        [8.6563e-01, 1.3437e-01]])\n"
     ]
    },
    {
     "name": "stderr",
     "output_type": "stream",
     "text": [
      "Predicting:  44%|████▍     | 95/215 [13:50<17:04,  8.54s/it]"
     ]
    },
    {
     "name": "stdout",
     "output_type": "stream",
     "text": [
      "tensor([[0.3050, 0.6950],\n",
      "        [0.9022, 0.0978],\n",
      "        [0.7791, 0.2209],\n",
      "        [0.3385, 0.6615],\n",
      "        [0.6541, 0.3459],\n",
      "        [0.8379, 0.1621],\n",
      "        [0.9658, 0.0342],\n",
      "        [0.7543, 0.2457],\n",
      "        [0.3134, 0.6866],\n",
      "        [0.1336, 0.8664],\n",
      "        [0.3069, 0.6931],\n",
      "        [0.0257, 0.9743],\n",
      "        [0.3287, 0.6713],\n",
      "        [0.7789, 0.2211],\n",
      "        [0.1109, 0.8891],\n",
      "        [0.9369, 0.0631]])\n"
     ]
    },
    {
     "name": "stderr",
     "output_type": "stream",
     "text": [
      "Predicting:  45%|████▍     | 96/215 [13:58<16:39,  8.40s/it]"
     ]
    },
    {
     "name": "stdout",
     "output_type": "stream",
     "text": [
      "tensor([[0.8858, 0.1142],\n",
      "        [0.7989, 0.2011],\n",
      "        [0.6081, 0.3919],\n",
      "        [0.3008, 0.6992],\n",
      "        [0.7881, 0.2119],\n",
      "        [0.4088, 0.5912],\n",
      "        [0.8518, 0.1482],\n",
      "        [0.9952, 0.0048],\n",
      "        [0.9632, 0.0368],\n",
      "        [0.9751, 0.0249],\n",
      "        [0.9125, 0.0875],\n",
      "        [0.6950, 0.3050],\n",
      "        [0.9288, 0.0712],\n",
      "        [0.9835, 0.0165],\n",
      "        [0.8825, 0.1175],\n",
      "        [0.2111, 0.7889]])\n"
     ]
    },
    {
     "name": "stderr",
     "output_type": "stream",
     "text": [
      "Predicting:  45%|████▌     | 97/215 [14:07<16:34,  8.43s/it]"
     ]
    },
    {
     "name": "stdout",
     "output_type": "stream",
     "text": [
      "tensor([[3.6986e-03, 9.9630e-01],\n",
      "        [8.8452e-01, 1.1548e-01],\n",
      "        [9.8851e-01, 1.1490e-02],\n",
      "        [9.8620e-01, 1.3798e-02],\n",
      "        [9.9033e-01, 9.6732e-03],\n",
      "        [9.7807e-01, 2.1931e-02],\n",
      "        [9.9203e-01, 7.9700e-03],\n",
      "        [9.7358e-01, 2.6419e-02],\n",
      "        [6.2439e-01, 3.7561e-01],\n",
      "        [9.3194e-01, 6.8056e-02],\n",
      "        [7.1120e-01, 2.8880e-01],\n",
      "        [9.9941e-01, 5.9417e-04],\n",
      "        [1.1234e-01, 8.8766e-01],\n",
      "        [8.7828e-01, 1.2172e-01],\n",
      "        [9.9970e-01, 3.0100e-04],\n",
      "        [9.9976e-01, 2.4187e-04]])\n"
     ]
    },
    {
     "name": "stderr",
     "output_type": "stream",
     "text": [
      "Predicting:  46%|████▌     | 98/215 [14:15<16:31,  8.48s/it]"
     ]
    },
    {
     "name": "stdout",
     "output_type": "stream",
     "text": [
      "tensor([[7.4812e-01, 2.5188e-01],\n",
      "        [9.8349e-01, 1.6508e-02],\n",
      "        [9.4581e-01, 5.4192e-02],\n",
      "        [6.2438e-01, 3.7562e-01],\n",
      "        [7.7174e-01, 2.2826e-01],\n",
      "        [9.2410e-01, 7.5897e-02],\n",
      "        [8.4194e-01, 1.5806e-01],\n",
      "        [9.9186e-01, 8.1445e-03],\n",
      "        [4.9957e-01, 5.0043e-01],\n",
      "        [2.0643e-01, 7.9357e-01],\n",
      "        [6.9798e-01, 3.0202e-01],\n",
      "        [9.3866e-01, 6.1341e-02],\n",
      "        [9.9192e-01, 8.0831e-03],\n",
      "        [1.1241e-04, 9.9989e-01],\n",
      "        [9.9834e-01, 1.6582e-03],\n",
      "        [9.9169e-01, 8.3089e-03]])\n"
     ]
    },
    {
     "name": "stderr",
     "output_type": "stream",
     "text": [
      "Predicting:  46%|████▌     | 99/215 [14:24<16:16,  8.42s/it]"
     ]
    },
    {
     "name": "stdout",
     "output_type": "stream",
     "text": [
      "tensor([[7.7026e-01, 2.2974e-01],\n",
      "        [9.9913e-01, 8.7348e-04],\n",
      "        [9.9961e-01, 3.8504e-04],\n",
      "        [7.7709e-04, 9.9922e-01],\n",
      "        [2.2143e-01, 7.7857e-01],\n",
      "        [9.6663e-01, 3.3375e-02],\n",
      "        [6.6426e-01, 3.3574e-01],\n",
      "        [2.5383e-01, 7.4617e-01],\n",
      "        [7.3472e-01, 2.6528e-01],\n",
      "        [9.6857e-01, 3.1429e-02],\n",
      "        [9.7003e-01, 2.9965e-02],\n",
      "        [9.0364e-01, 9.6359e-02],\n",
      "        [9.4026e-01, 5.9743e-02],\n",
      "        [1.0091e-01, 8.9909e-01],\n",
      "        [9.9559e-01, 4.4135e-03],\n",
      "        [4.0982e-01, 5.9018e-01]])\n"
     ]
    },
    {
     "name": "stderr",
     "output_type": "stream",
     "text": [
      "Predicting:  47%|████▋     | 100/215 [14:32<16:02,  8.37s/it]"
     ]
    },
    {
     "name": "stdout",
     "output_type": "stream",
     "text": [
      "tensor([[9.9092e-02, 9.0091e-01],\n",
      "        [7.2892e-01, 2.7108e-01],\n",
      "        [3.7469e-01, 6.2531e-01],\n",
      "        [1.3770e-01, 8.6230e-01],\n",
      "        [9.4190e-01, 5.8100e-02],\n",
      "        [1.4252e-01, 8.5748e-01],\n",
      "        [8.9827e-01, 1.0173e-01],\n",
      "        [8.9779e-01, 1.0221e-01],\n",
      "        [5.1620e-01, 4.8380e-01],\n",
      "        [8.6056e-01, 1.3944e-01],\n",
      "        [9.9541e-01, 4.5947e-03],\n",
      "        [9.9836e-01, 1.6400e-03],\n",
      "        [8.3883e-01, 1.6117e-01],\n",
      "        [1.2920e-04, 9.9987e-01],\n",
      "        [9.7472e-01, 2.5276e-02],\n",
      "        [9.4811e-01, 5.1890e-02]])\n"
     ]
    },
    {
     "name": "stderr",
     "output_type": "stream",
     "text": [
      "Predicting:  47%|████▋     | 101/215 [14:40<15:52,  8.35s/it]"
     ]
    },
    {
     "name": "stdout",
     "output_type": "stream",
     "text": [
      "tensor([[5.3660e-01, 4.6340e-01],\n",
      "        [9.9121e-01, 8.7886e-03],\n",
      "        [9.8550e-01, 1.4500e-02],\n",
      "        [2.2700e-01, 7.7300e-01],\n",
      "        [5.4672e-01, 4.5328e-01],\n",
      "        [9.9745e-01, 2.5497e-03],\n",
      "        [9.8882e-01, 1.1176e-02],\n",
      "        [5.2078e-01, 4.7922e-01],\n",
      "        [9.9034e-01, 9.6573e-03],\n",
      "        [9.9822e-01, 1.7764e-03],\n",
      "        [9.8847e-01, 1.1533e-02],\n",
      "        [1.0912e-04, 9.9989e-01],\n",
      "        [9.9832e-01, 1.6805e-03],\n",
      "        [9.9251e-01, 7.4901e-03],\n",
      "        [8.7174e-01, 1.2826e-01],\n",
      "        [9.9977e-01, 2.3296e-04]])\n"
     ]
    },
    {
     "name": "stderr",
     "output_type": "stream",
     "text": [
      "Predicting:  47%|████▋     | 102/215 [14:49<15:43,  8.35s/it]"
     ]
    },
    {
     "name": "stdout",
     "output_type": "stream",
     "text": [
      "tensor([[9.9980e-01, 1.9897e-04],\n",
      "        [9.6653e-01, 3.3467e-02],\n",
      "        [2.2343e-01, 7.7657e-01],\n",
      "        [7.0553e-01, 2.9447e-01],\n",
      "        [4.8411e-01, 5.1589e-01],\n",
      "        [1.1442e-01, 8.8558e-01],\n",
      "        [2.3205e-02, 9.7680e-01],\n",
      "        [3.4223e-01, 6.5777e-01],\n",
      "        [9.8142e-01, 1.8578e-02],\n",
      "        [3.8754e-04, 9.9961e-01],\n",
      "        [9.9947e-01, 5.2745e-04],\n",
      "        [8.9091e-01, 1.0909e-01],\n",
      "        [1.5919e-01, 8.4081e-01],\n",
      "        [9.9846e-01, 1.5388e-03],\n",
      "        [9.9976e-01, 2.4337e-04],\n",
      "        [6.5573e-02, 9.3443e-01]])\n"
     ]
    },
    {
     "name": "stderr",
     "output_type": "stream",
     "text": [
      "Predicting:  48%|████▊     | 103/215 [14:57<15:36,  8.36s/it]"
     ]
    },
    {
     "name": "stdout",
     "output_type": "stream",
     "text": [
      "tensor([[8.8043e-01, 1.1957e-01],\n",
      "        [9.9875e-01, 1.2528e-03],\n",
      "        [9.7160e-01, 2.8399e-02],\n",
      "        [6.4059e-01, 3.5941e-01],\n",
      "        [7.4480e-01, 2.5520e-01],\n",
      "        [9.8968e-01, 1.0316e-02],\n",
      "        [9.6612e-01, 3.3884e-02],\n",
      "        [7.3714e-01, 2.6286e-01],\n",
      "        [6.2376e-01, 3.7624e-01],\n",
      "        [9.8838e-01, 1.1618e-02],\n",
      "        [8.0288e-01, 1.9712e-01],\n",
      "        [9.6876e-01, 3.1241e-02],\n",
      "        [2.2575e-01, 7.7425e-01],\n",
      "        [9.9798e-01, 2.0238e-03],\n",
      "        [1.0133e-04, 9.9990e-01],\n",
      "        [9.9932e-01, 6.7748e-04]])\n"
     ]
    },
    {
     "name": "stderr",
     "output_type": "stream",
     "text": [
      "Predicting:  48%|████▊     | 104/215 [15:05<15:28,  8.36s/it]"
     ]
    },
    {
     "name": "stdout",
     "output_type": "stream",
     "text": [
      "tensor([[9.9759e-01, 2.4147e-03],\n",
      "        [7.8041e-01, 2.1959e-01],\n",
      "        [9.9984e-01, 1.6502e-04],\n",
      "        [9.9990e-01, 1.0014e-04],\n",
      "        [6.5445e-04, 9.9935e-01],\n",
      "        [8.1297e-01, 1.8703e-01],\n",
      "        [9.9780e-01, 2.2020e-03],\n",
      "        [9.6280e-01, 3.7195e-02],\n",
      "        [7.3919e-01, 2.6081e-01],\n",
      "        [9.8779e-01, 1.2214e-02],\n",
      "        [9.9311e-01, 6.8882e-03],\n",
      "        [8.9113e-01, 1.0887e-01],\n",
      "        [1.4307e-03, 9.9857e-01],\n",
      "        [9.9211e-01, 7.8871e-03],\n",
      "        [9.5428e-01, 4.5716e-02],\n",
      "        [5.5234e-01, 4.4766e-01]])\n"
     ]
    },
    {
     "name": "stderr",
     "output_type": "stream",
     "text": [
      "Predicting:  49%|████▉     | 105/215 [15:14<15:18,  8.35s/it]"
     ]
    },
    {
     "name": "stdout",
     "output_type": "stream",
     "text": [
      "tensor([[9.9664e-01, 3.3568e-03],\n",
      "        [9.9937e-01, 6.3447e-04],\n",
      "        [4.7371e-01, 5.2629e-01],\n",
      "        [9.9549e-01, 4.5076e-03],\n",
      "        [8.4187e-01, 1.5813e-01],\n",
      "        [3.4455e-01, 6.5545e-01],\n",
      "        [9.8259e-01, 1.7412e-02],\n",
      "        [9.9621e-01, 3.7862e-03],\n",
      "        [6.8335e-02, 9.3167e-01],\n",
      "        [8.0533e-01, 1.9467e-01],\n",
      "        [5.1007e-01, 4.8993e-01],\n",
      "        [9.3887e-02, 9.0611e-01],\n",
      "        [1.2764e-01, 8.7236e-01],\n",
      "        [7.9353e-01, 2.0647e-01],\n",
      "        [9.0886e-01, 9.1141e-02],\n",
      "        [5.0471e-02, 9.4953e-01]])\n"
     ]
    },
    {
     "name": "stderr",
     "output_type": "stream",
     "text": [
      "Predicting:  49%|████▉     | 106/215 [15:23<15:23,  8.47s/it]"
     ]
    },
    {
     "name": "stdout",
     "output_type": "stream",
     "text": [
      "tensor([[0.5038, 0.4962],\n",
      "        [0.8241, 0.1759],\n",
      "        [0.6557, 0.3443],\n",
      "        [0.9335, 0.0665],\n",
      "        [0.8766, 0.1234],\n",
      "        [0.3019, 0.6981],\n",
      "        [0.8311, 0.1689],\n",
      "        [0.5615, 0.4385],\n",
      "        [0.8711, 0.1289],\n",
      "        [0.8701, 0.1299],\n",
      "        [0.8490, 0.1510],\n",
      "        [0.9659, 0.0341],\n",
      "        [0.9689, 0.0311],\n",
      "        [0.8987, 0.1013],\n",
      "        [0.9910, 0.0090],\n",
      "        [0.7153, 0.2847]])\n"
     ]
    },
    {
     "name": "stderr",
     "output_type": "stream",
     "text": [
      "Predicting:  50%|████▉     | 107/215 [15:31<15:21,  8.54s/it]"
     ]
    },
    {
     "name": "stdout",
     "output_type": "stream",
     "text": [
      "tensor([[9.8267e-01, 1.7332e-02],\n",
      "        [7.4294e-01, 2.5706e-01],\n",
      "        [9.7639e-01, 2.3608e-02],\n",
      "        [5.5942e-01, 4.4058e-01],\n",
      "        [8.8484e-01, 1.1516e-01],\n",
      "        [5.2065e-01, 4.7935e-01],\n",
      "        [9.8749e-01, 1.2512e-02],\n",
      "        [9.5044e-01, 4.9558e-02],\n",
      "        [9.9929e-01, 7.1069e-04],\n",
      "        [9.2816e-01, 7.1844e-02],\n",
      "        [9.9845e-01, 1.5507e-03],\n",
      "        [4.3420e-04, 9.9957e-01],\n",
      "        [9.9855e-01, 1.4542e-03],\n",
      "        [5.4028e-01, 4.5972e-01],\n",
      "        [9.2768e-01, 7.2320e-02],\n",
      "        [9.9238e-01, 7.6221e-03]])\n"
     ]
    },
    {
     "name": "stderr",
     "output_type": "stream",
     "text": [
      "Predicting:  50%|█████     | 108/215 [15:40<15:38,  8.77s/it]"
     ]
    },
    {
     "name": "stdout",
     "output_type": "stream",
     "text": [
      "tensor([[9.9953e-01, 4.7155e-04],\n",
      "        [2.2983e-02, 9.7702e-01],\n",
      "        [9.8011e-01, 1.9895e-02],\n",
      "        [8.9561e-01, 1.0439e-01],\n",
      "        [6.7898e-01, 3.2102e-01],\n",
      "        [9.8519e-01, 1.4809e-02],\n",
      "        [9.9041e-01, 9.5920e-03],\n",
      "        [9.9513e-01, 4.8746e-03],\n",
      "        [8.9363e-01, 1.0637e-01],\n",
      "        [9.9440e-01, 5.5998e-03],\n",
      "        [6.5706e-01, 3.4294e-01],\n",
      "        [9.4575e-01, 5.4249e-02],\n",
      "        [5.8238e-01, 4.1762e-01],\n",
      "        [6.2344e-01, 3.7656e-01],\n",
      "        [6.0137e-01, 3.9863e-01],\n",
      "        [9.4044e-01, 5.9558e-02]])\n"
     ]
    },
    {
     "name": "stderr",
     "output_type": "stream",
     "text": [
      "Predicting:  51%|█████     | 109/215 [15:50<15:38,  8.85s/it]"
     ]
    },
    {
     "name": "stdout",
     "output_type": "stream",
     "text": [
      "tensor([[9.9818e-01, 1.8218e-03],\n",
      "        [9.8518e-01, 1.4819e-02],\n",
      "        [7.7580e-01, 2.2420e-01],\n",
      "        [8.2353e-01, 1.7647e-01],\n",
      "        [9.9358e-01, 6.4248e-03],\n",
      "        [9.2158e-01, 7.8417e-02],\n",
      "        [9.9090e-01, 9.1047e-03],\n",
      "        [9.9709e-01, 2.9125e-03],\n",
      "        [9.9519e-01, 4.8063e-03],\n",
      "        [3.0312e-01, 6.9688e-01],\n",
      "        [8.9738e-01, 1.0262e-01],\n",
      "        [9.7380e-01, 2.6204e-02],\n",
      "        [8.5671e-01, 1.4329e-01],\n",
      "        [9.9937e-01, 6.2777e-04],\n",
      "        [6.6742e-02, 9.3326e-01],\n",
      "        [9.9565e-01, 4.3509e-03]])\n"
     ]
    },
    {
     "name": "stderr",
     "output_type": "stream",
     "text": [
      "Predicting:  51%|█████     | 110/215 [15:58<15:31,  8.87s/it]"
     ]
    },
    {
     "name": "stdout",
     "output_type": "stream",
     "text": [
      "tensor([[0.9693, 0.0307],\n",
      "        [0.9605, 0.0395],\n",
      "        [0.9952, 0.0048],\n",
      "        [0.9156, 0.0844],\n",
      "        [0.9811, 0.0189],\n",
      "        [0.9535, 0.0465],\n",
      "        [0.9311, 0.0689],\n",
      "        [0.5746, 0.4254],\n",
      "        [0.9700, 0.0300],\n",
      "        [0.0500, 0.9500],\n",
      "        [0.9772, 0.0228],\n",
      "        [0.8617, 0.1383],\n",
      "        [0.0034, 0.9966],\n",
      "        [0.4920, 0.5080],\n",
      "        [0.7949, 0.2051],\n",
      "        [0.5348, 0.4652]])\n"
     ]
    },
    {
     "name": "stderr",
     "output_type": "stream",
     "text": [
      "Predicting:  52%|█████▏    | 111/215 [16:07<15:23,  8.88s/it]"
     ]
    },
    {
     "name": "stdout",
     "output_type": "stream",
     "text": [
      "tensor([[0.1967, 0.8033],\n",
      "        [0.6658, 0.3342],\n",
      "        [0.6943, 0.3057],\n",
      "        [0.0053, 0.9947],\n",
      "        [0.4421, 0.5579],\n",
      "        [0.6232, 0.3768],\n",
      "        [0.9359, 0.0641],\n",
      "        [0.8476, 0.1524],\n",
      "        [0.9534, 0.0466],\n",
      "        [0.8482, 0.1518],\n",
      "        [0.8986, 0.1014],\n",
      "        [0.7627, 0.2373],\n",
      "        [0.4435, 0.5565],\n",
      "        [0.6326, 0.3674],\n",
      "        [0.9533, 0.0467],\n",
      "        [0.1959, 0.8041]])\n"
     ]
    },
    {
     "name": "stderr",
     "output_type": "stream",
     "text": [
      "Predicting:  52%|█████▏    | 112/215 [16:16<15:19,  8.93s/it]"
     ]
    },
    {
     "name": "stdout",
     "output_type": "stream",
     "text": [
      "tensor([[9.4832e-01, 5.1675e-02],\n",
      "        [9.1959e-01, 8.0406e-02],\n",
      "        [8.9497e-01, 1.0503e-01],\n",
      "        [9.8169e-01, 1.8314e-02],\n",
      "        [7.6615e-01, 2.3385e-01],\n",
      "        [9.7939e-01, 2.0613e-02],\n",
      "        [9.7392e-01, 2.6084e-02],\n",
      "        [4.5045e-01, 5.4955e-01],\n",
      "        [9.7271e-01, 2.7289e-02],\n",
      "        [9.9873e-01, 1.2696e-03],\n",
      "        [9.9819e-01, 1.8071e-03],\n",
      "        [9.9983e-01, 1.7280e-04],\n",
      "        [9.9870e-01, 1.2964e-03],\n",
      "        [9.9991e-01, 9.3159e-05],\n",
      "        [6.2225e-01, 3.7775e-01],\n",
      "        [9.9961e-01, 3.8966e-04]])\n"
     ]
    },
    {
     "name": "stderr",
     "output_type": "stream",
     "text": [
      "Predicting:  53%|█████▎    | 113/215 [16:25<15:07,  8.90s/it]"
     ]
    },
    {
     "name": "stdout",
     "output_type": "stream",
     "text": [
      "tensor([[0.9968, 0.0032],\n",
      "        [0.9198, 0.0802],\n",
      "        [0.9746, 0.0254],\n",
      "        [0.6352, 0.3648],\n",
      "        [0.9887, 0.0113],\n",
      "        [0.9910, 0.0090],\n",
      "        [0.9758, 0.0242],\n",
      "        [0.5772, 0.4228],\n",
      "        [0.9452, 0.0548],\n",
      "        [0.0019, 0.9981],\n",
      "        [0.9547, 0.0453],\n",
      "        [0.7355, 0.2645],\n",
      "        [0.8633, 0.1367],\n",
      "        [0.9857, 0.0143],\n",
      "        [0.2198, 0.7802],\n",
      "        [0.1197, 0.8803]])\n"
     ]
    },
    {
     "name": "stderr",
     "output_type": "stream",
     "text": [
      "Predicting:  53%|█████▎    | 114/215 [16:34<14:49,  8.81s/it]"
     ]
    },
    {
     "name": "stdout",
     "output_type": "stream",
     "text": [
      "tensor([[0.8530, 0.1470],\n",
      "        [0.2615, 0.7385],\n",
      "        [0.7803, 0.2197],\n",
      "        [0.5849, 0.4151],\n",
      "        [0.6001, 0.3999],\n",
      "        [0.7914, 0.2086],\n",
      "        [0.7580, 0.2420],\n",
      "        [0.8650, 0.1350],\n",
      "        [0.6767, 0.3233],\n",
      "        [0.0638, 0.9362],\n",
      "        [0.9373, 0.0627],\n",
      "        [0.0048, 0.9952],\n",
      "        [0.4409, 0.5591],\n",
      "        [0.9859, 0.0141],\n",
      "        [0.8905, 0.1095],\n",
      "        [0.4870, 0.5130]])\n"
     ]
    },
    {
     "name": "stderr",
     "output_type": "stream",
     "text": [
      "Predicting:  53%|█████▎    | 115/215 [16:43<14:38,  8.79s/it]"
     ]
    },
    {
     "name": "stdout",
     "output_type": "stream",
     "text": [
      "tensor([[9.6119e-01, 3.8813e-02],\n",
      "        [9.6802e-01, 3.1980e-02],\n",
      "        [1.5293e-03, 9.9847e-01],\n",
      "        [6.2706e-01, 3.7294e-01],\n",
      "        [9.9571e-01, 4.2941e-03],\n",
      "        [9.5551e-01, 4.4488e-02],\n",
      "        [7.8481e-01, 2.1519e-01],\n",
      "        [9.7971e-01, 2.0291e-02],\n",
      "        [9.9227e-01, 7.7344e-03],\n",
      "        [2.7532e-01, 7.2468e-01],\n",
      "        [9.0598e-01, 9.4022e-02],\n",
      "        [8.9747e-01, 1.0253e-01],\n",
      "        [9.1396e-01, 8.6043e-02],\n",
      "        [8.8679e-01, 1.1321e-01],\n",
      "        [9.8660e-01, 1.3402e-02],\n",
      "        [2.8040e-04, 9.9972e-01]])\n"
     ]
    },
    {
     "name": "stderr",
     "output_type": "stream",
     "text": [
      "Predicting:  54%|█████▍    | 116/215 [16:51<14:21,  8.71s/it]"
     ]
    },
    {
     "name": "stdout",
     "output_type": "stream",
     "text": [
      "tensor([[4.4005e-01, 5.5995e-01],\n",
      "        [2.0863e-01, 7.9137e-01],\n",
      "        [1.5463e-01, 8.4537e-01],\n",
      "        [9.9851e-01, 1.4916e-03],\n",
      "        [9.9954e-01, 4.5835e-04],\n",
      "        [3.5897e-01, 6.4103e-01],\n",
      "        [6.6324e-01, 3.3676e-01],\n",
      "        [6.9691e-01, 3.0309e-01],\n",
      "        [5.1007e-01, 4.8993e-01],\n",
      "        [9.9358e-02, 9.0064e-01],\n",
      "        [9.7739e-01, 2.2614e-02],\n",
      "        [9.7861e-01, 2.1389e-02],\n",
      "        [9.4958e-01, 5.0420e-02],\n",
      "        [9.7506e-01, 2.4938e-02],\n",
      "        [1.5280e-01, 8.4720e-01],\n",
      "        [9.8877e-01, 1.1230e-02]])\n"
     ]
    },
    {
     "name": "stderr",
     "output_type": "stream",
     "text": [
      "Predicting:  54%|█████▍    | 117/215 [17:00<14:06,  8.64s/it]"
     ]
    },
    {
     "name": "stdout",
     "output_type": "stream",
     "text": [
      "tensor([[0.0246, 0.9754],\n",
      "        [0.9861, 0.0139],\n",
      "        [0.5461, 0.4539],\n",
      "        [0.9915, 0.0085],\n",
      "        [0.2333, 0.7667],\n",
      "        [0.9747, 0.0254],\n",
      "        [0.9322, 0.0678],\n",
      "        [0.9866, 0.0134],\n",
      "        [0.8997, 0.1003],\n",
      "        [0.8459, 0.1541],\n",
      "        [0.6557, 0.3443],\n",
      "        [0.5085, 0.4915],\n",
      "        [0.2990, 0.7010],\n",
      "        [0.0299, 0.9701],\n",
      "        [0.5528, 0.4472],\n",
      "        [0.9567, 0.0433]])\n"
     ]
    },
    {
     "name": "stderr",
     "output_type": "stream",
     "text": [
      "Predicting:  55%|█████▍    | 118/215 [17:08<13:47,  8.53s/it]"
     ]
    },
    {
     "name": "stdout",
     "output_type": "stream",
     "text": [
      "tensor([[4.1889e-04, 9.9958e-01],\n",
      "        [9.3028e-02, 9.0697e-01],\n",
      "        [9.5240e-01, 4.7599e-02],\n",
      "        [5.4075e-01, 4.5925e-01],\n",
      "        [2.2754e-01, 7.7246e-01],\n",
      "        [7.6711e-01, 2.3289e-01],\n",
      "        [9.6751e-01, 3.2493e-02],\n",
      "        [2.0019e-03, 9.9800e-01],\n",
      "        [3.2941e-01, 6.7059e-01],\n",
      "        [9.6224e-01, 3.7759e-02],\n",
      "        [8.2878e-01, 1.7122e-01],\n",
      "        [1.0526e-01, 8.9474e-01],\n",
      "        [3.6388e-01, 6.3612e-01],\n",
      "        [9.7614e-01, 2.3862e-02],\n",
      "        [4.0014e-01, 5.9987e-01],\n",
      "        [7.8604e-01, 2.1396e-01]])\n"
     ]
    },
    {
     "name": "stderr",
     "output_type": "stream",
     "text": [
      "Predicting:  55%|█████▌    | 119/215 [17:17<13:43,  8.58s/it]"
     ]
    },
    {
     "name": "stdout",
     "output_type": "stream",
     "text": [
      "tensor([[0.6593, 0.3407],\n",
      "        [0.8157, 0.1843],\n",
      "        [0.2837, 0.7163],\n",
      "        [0.0348, 0.9652],\n",
      "        [0.4991, 0.5009],\n",
      "        [0.0692, 0.9308],\n",
      "        [0.8021, 0.1979],\n",
      "        [0.8880, 0.1120],\n",
      "        [0.9107, 0.0893],\n",
      "        [0.4070, 0.5930],\n",
      "        [0.3396, 0.6604],\n",
      "        [0.8787, 0.1213],\n",
      "        [0.3473, 0.6527],\n",
      "        [0.7158, 0.2842],\n",
      "        [0.8200, 0.1800],\n",
      "        [0.7736, 0.2264]])\n"
     ]
    },
    {
     "name": "stderr",
     "output_type": "stream",
     "text": [
      "Predicting:  56%|█████▌    | 120/215 [17:25<13:35,  8.59s/it]"
     ]
    },
    {
     "name": "stdout",
     "output_type": "stream",
     "text": [
      "tensor([[0.9746, 0.0254],\n",
      "        [0.9683, 0.0317],\n",
      "        [0.8499, 0.1501],\n",
      "        [0.9615, 0.0385],\n",
      "        [0.8857, 0.1143],\n",
      "        [0.8632, 0.1368],\n",
      "        [0.2188, 0.7812],\n",
      "        [0.9564, 0.0436],\n",
      "        [0.1292, 0.8708],\n",
      "        [0.5231, 0.4769],\n",
      "        [0.7574, 0.2426],\n",
      "        [0.5085, 0.4915],\n",
      "        [0.5467, 0.4533],\n",
      "        [0.5425, 0.4575],\n",
      "        [0.6665, 0.3335],\n",
      "        [0.8982, 0.1018]])\n"
     ]
    },
    {
     "name": "stderr",
     "output_type": "stream",
     "text": [
      "Predicting:  56%|█████▋    | 121/215 [17:34<13:36,  8.68s/it]"
     ]
    },
    {
     "name": "stdout",
     "output_type": "stream",
     "text": [
      "tensor([[9.0509e-01, 9.4911e-02],\n",
      "        [9.8339e-01, 1.6614e-02],\n",
      "        [9.1778e-01, 8.2224e-02],\n",
      "        [7.4330e-01, 2.5670e-01],\n",
      "        [3.1462e-01, 6.8538e-01],\n",
      "        [9.9831e-01, 1.6904e-03],\n",
      "        [3.3150e-03, 9.9669e-01],\n",
      "        [8.9355e-01, 1.0645e-01],\n",
      "        [8.8130e-01, 1.1870e-01],\n",
      "        [8.0939e-01, 1.9061e-01],\n",
      "        [9.8203e-01, 1.7967e-02],\n",
      "        [9.8782e-01, 1.2183e-02],\n",
      "        [9.9934e-01, 6.6390e-04],\n",
      "        [8.8554e-01, 1.1446e-01],\n",
      "        [9.9854e-01, 1.4577e-03],\n",
      "        [3.6072e-01, 6.3928e-01]])\n"
     ]
    },
    {
     "name": "stderr",
     "output_type": "stream",
     "text": [
      "Predicting:  57%|█████▋    | 122/215 [17:43<13:26,  8.67s/it]"
     ]
    },
    {
     "name": "stdout",
     "output_type": "stream",
     "text": [
      "tensor([[1.1192e-01, 8.8808e-01],\n",
      "        [7.6059e-03, 9.9239e-01],\n",
      "        [6.4925e-01, 3.5075e-01],\n",
      "        [5.5735e-01, 4.4265e-01],\n",
      "        [9.9958e-01, 4.2198e-04],\n",
      "        [9.9992e-01, 8.2312e-05],\n",
      "        [3.3852e-01, 6.6148e-01],\n",
      "        [9.9547e-01, 4.5289e-03],\n",
      "        [6.8630e-04, 9.9931e-01],\n",
      "        [1.8902e-01, 8.1098e-01],\n",
      "        [9.9077e-01, 9.2288e-03],\n",
      "        [9.9683e-01, 3.1682e-03],\n",
      "        [5.0077e-01, 4.9923e-01],\n",
      "        [1.4121e-04, 9.9986e-01],\n",
      "        [3.3374e-01, 6.6626e-01],\n",
      "        [9.6879e-01, 3.1207e-02]])\n"
     ]
    },
    {
     "name": "stderr",
     "output_type": "stream",
     "text": [
      "Predicting:  57%|█████▋    | 123/215 [17:52<13:26,  8.76s/it]"
     ]
    },
    {
     "name": "stdout",
     "output_type": "stream",
     "text": [
      "tensor([[0.5644, 0.4356],\n",
      "        [0.2145, 0.7855],\n",
      "        [0.9892, 0.0108],\n",
      "        [0.6186, 0.3814],\n",
      "        [0.6392, 0.3608],\n",
      "        [0.9244, 0.0756],\n",
      "        [0.7338, 0.2662],\n",
      "        [0.9866, 0.0134],\n",
      "        [0.9222, 0.0778],\n",
      "        [0.9802, 0.0198],\n",
      "        [0.9152, 0.0848],\n",
      "        [0.2234, 0.7766],\n",
      "        [0.9261, 0.0739],\n",
      "        [0.9609, 0.0391],\n",
      "        [0.8623, 0.1377],\n",
      "        [0.5562, 0.4438]])\n"
     ]
    },
    {
     "name": "stderr",
     "output_type": "stream",
     "text": [
      "Predicting:  58%|█████▊    | 124/215 [18:01<13:31,  8.91s/it]"
     ]
    },
    {
     "name": "stdout",
     "output_type": "stream",
     "text": [
      "tensor([[1.3804e-04, 9.9986e-01],\n",
      "        [1.2405e-02, 9.8759e-01],\n",
      "        [9.8579e-01, 1.4209e-02],\n",
      "        [8.6015e-01, 1.3985e-01],\n",
      "        [9.2284e-01, 7.7165e-02],\n",
      "        [8.4523e-01, 1.5477e-01],\n",
      "        [9.7746e-01, 2.2537e-02],\n",
      "        [8.0940e-01, 1.9060e-01],\n",
      "        [4.9044e-01, 5.0956e-01],\n",
      "        [6.3191e-01, 3.6809e-01],\n",
      "        [8.1760e-01, 1.8240e-01],\n",
      "        [9.9319e-01, 6.8101e-03],\n",
      "        [8.4319e-01, 1.5681e-01],\n",
      "        [8.9389e-01, 1.0611e-01],\n",
      "        [9.7344e-01, 2.6560e-02],\n",
      "        [9.9942e-01, 5.8104e-04]])\n"
     ]
    },
    {
     "name": "stderr",
     "output_type": "stream",
     "text": [
      "Predicting:  58%|█████▊    | 125/215 [18:10<13:20,  8.89s/it]"
     ]
    },
    {
     "name": "stdout",
     "output_type": "stream",
     "text": [
      "tensor([[9.9765e-01, 2.3536e-03],\n",
      "        [9.9933e-01, 6.6574e-04],\n",
      "        [9.9919e-01, 8.1406e-04],\n",
      "        [4.4469e-01, 5.5531e-01],\n",
      "        [1.0065e-04, 9.9990e-01],\n",
      "        [9.6495e-01, 3.5049e-02],\n",
      "        [9.6697e-01, 3.3031e-02],\n",
      "        [4.8692e-01, 5.1308e-01],\n",
      "        [8.7454e-01, 1.2546e-01],\n",
      "        [9.9725e-01, 2.7487e-03],\n",
      "        [8.8853e-01, 1.1147e-01],\n",
      "        [1.7331e-01, 8.2669e-01],\n",
      "        [3.1955e-01, 6.8045e-01],\n",
      "        [5.7412e-02, 9.4259e-01],\n",
      "        [6.9425e-03, 9.9306e-01],\n",
      "        [9.9764e-01, 2.3555e-03]])\n"
     ]
    },
    {
     "name": "stderr",
     "output_type": "stream",
     "text": [
      "Predicting:  59%|█████▊    | 126/215 [18:18<13:06,  8.84s/it]"
     ]
    },
    {
     "name": "stdout",
     "output_type": "stream",
     "text": [
      "tensor([[9.9529e-01, 4.7126e-03],\n",
      "        [1.2380e-04, 9.9988e-01],\n",
      "        [3.4825e-01, 6.5175e-01],\n",
      "        [9.9195e-01, 8.0487e-03],\n",
      "        [9.9975e-01, 2.4952e-04],\n",
      "        [6.3600e-01, 3.6400e-01],\n",
      "        [1.8923e-04, 9.9981e-01],\n",
      "        [6.2632e-01, 3.7368e-01],\n",
      "        [9.2618e-01, 7.3815e-02],\n",
      "        [2.4377e-01, 7.5623e-01],\n",
      "        [8.7596e-01, 1.2404e-01],\n",
      "        [8.4578e-01, 1.5422e-01],\n",
      "        [7.9880e-03, 9.9201e-01],\n",
      "        [8.0514e-01, 1.9486e-01],\n",
      "        [5.6762e-01, 4.3238e-01],\n",
      "        [4.3691e-01, 5.6309e-01]])\n"
     ]
    },
    {
     "name": "stderr",
     "output_type": "stream",
     "text": [
      "Predicting:  59%|█████▉    | 127/215 [18:27<12:58,  8.84s/it]"
     ]
    },
    {
     "name": "stdout",
     "output_type": "stream",
     "text": [
      "tensor([[9.4116e-01, 5.8842e-02],\n",
      "        [1.1923e-04, 9.9988e-01],\n",
      "        [7.8924e-01, 2.1076e-01],\n",
      "        [9.9630e-01, 3.7021e-03],\n",
      "        [5.2362e-01, 4.7638e-01],\n",
      "        [1.1070e-04, 9.9989e-01],\n",
      "        [9.9399e-01, 6.0086e-03],\n",
      "        [9.9945e-01, 5.4815e-04],\n",
      "        [6.3976e-01, 3.6024e-01],\n",
      "        [1.5599e-01, 8.4401e-01],\n",
      "        [5.7375e-01, 4.2625e-01],\n",
      "        [1.3199e-04, 9.9987e-01],\n",
      "        [9.9854e-01, 1.4589e-03],\n",
      "        [9.8886e-01, 1.1142e-02],\n",
      "        [7.8404e-01, 2.1596e-01],\n",
      "        [9.9918e-01, 8.1617e-04]])\n"
     ]
    },
    {
     "name": "stderr",
     "output_type": "stream",
     "text": [
      "Predicting:  60%|█████▉    | 128/215 [18:36<12:48,  8.84s/it]"
     ]
    },
    {
     "name": "stdout",
     "output_type": "stream",
     "text": [
      "tensor([[9.9967e-01, 3.3473e-04],\n",
      "        [9.6405e-01, 3.5948e-02],\n",
      "        [9.3638e-03, 9.9064e-01],\n",
      "        [9.6744e-01, 3.2564e-02],\n",
      "        [9.9960e-01, 4.0312e-04],\n",
      "        [9.4843e-01, 5.1574e-02],\n",
      "        [5.5034e-01, 4.4966e-01],\n",
      "        [7.1781e-01, 2.8219e-01],\n",
      "        [8.0021e-02, 9.1998e-01],\n",
      "        [9.7840e-01, 2.1599e-02],\n",
      "        [4.2581e-01, 5.7419e-01],\n",
      "        [7.8223e-01, 2.1777e-01],\n",
      "        [9.9317e-01, 6.8256e-03],\n",
      "        [2.7972e-01, 7.2028e-01],\n",
      "        [9.9327e-01, 6.7293e-03],\n",
      "        [9.8536e-01, 1.4641e-02]])\n"
     ]
    },
    {
     "name": "stderr",
     "output_type": "stream",
     "text": [
      "Predicting:  60%|██████    | 129/215 [18:45<12:46,  8.91s/it]"
     ]
    },
    {
     "name": "stdout",
     "output_type": "stream",
     "text": [
      "tensor([[0.9965, 0.0035],\n",
      "        [0.9979, 0.0021],\n",
      "        [0.9954, 0.0046],\n",
      "        [0.9944, 0.0056],\n",
      "        [0.8791, 0.1209],\n",
      "        [0.9911, 0.0089],\n",
      "        [0.5501, 0.4499],\n",
      "        [0.3265, 0.6735],\n",
      "        [0.8811, 0.1189],\n",
      "        [0.9420, 0.0580],\n",
      "        [0.9979, 0.0021],\n",
      "        [0.6996, 0.3004],\n",
      "        [0.9988, 0.0012],\n",
      "        [0.0708, 0.9292],\n",
      "        [0.9976, 0.0024],\n",
      "        [0.9387, 0.0613]])\n"
     ]
    },
    {
     "name": "stderr",
     "output_type": "stream",
     "text": [
      "Predicting:  60%|██████    | 130/215 [18:54<12:27,  8.80s/it]"
     ]
    },
    {
     "name": "stdout",
     "output_type": "stream",
     "text": [
      "tensor([[3.1361e-01, 6.8639e-01],\n",
      "        [6.8092e-01, 3.1908e-01],\n",
      "        [9.6408e-04, 9.9904e-01],\n",
      "        [8.0598e-01, 1.9402e-01],\n",
      "        [1.8924e-03, 9.9811e-01],\n",
      "        [9.9942e-01, 5.8293e-04],\n",
      "        [9.9990e-01, 9.6979e-05],\n",
      "        [9.1885e-01, 8.1153e-02],\n",
      "        [8.0135e-01, 1.9865e-01],\n",
      "        [9.9682e-01, 3.1769e-03],\n",
      "        [9.9777e-01, 2.2330e-03],\n",
      "        [9.9855e-01, 1.4542e-03],\n",
      "        [9.9882e-01, 1.1797e-03],\n",
      "        [9.9082e-01, 9.1811e-03],\n",
      "        [9.9438e-01, 5.6207e-03],\n",
      "        [9.9650e-01, 3.5042e-03]])\n"
     ]
    },
    {
     "name": "stderr",
     "output_type": "stream",
     "text": [
      "Predicting:  61%|██████    | 131/215 [19:02<12:10,  8.69s/it]"
     ]
    },
    {
     "name": "stdout",
     "output_type": "stream",
     "text": [
      "tensor([[1.4394e-01, 8.5606e-01],\n",
      "        [8.7408e-01, 1.2592e-01],\n",
      "        [2.2136e-04, 9.9978e-01],\n",
      "        [9.9992e-01, 7.6490e-05],\n",
      "        [9.9995e-01, 4.9393e-05],\n",
      "        [4.4896e-02, 9.5510e-01],\n",
      "        [9.9249e-01, 7.5076e-03],\n",
      "        [9.9084e-01, 9.1624e-03],\n",
      "        [6.0492e-04, 9.9940e-01],\n",
      "        [8.1134e-01, 1.8866e-01],\n",
      "        [2.9490e-04, 9.9971e-01],\n",
      "        [9.9877e-01, 1.2317e-03],\n",
      "        [9.7631e-01, 2.3687e-02],\n",
      "        [9.9965e-01, 3.5002e-04],\n",
      "        [9.9904e-01, 9.6385e-04],\n",
      "        [9.9186e-01, 8.1401e-03]])\n"
     ]
    },
    {
     "name": "stderr",
     "output_type": "stream",
     "text": [
      "Predicting:  61%|██████▏   | 132/215 [19:11<12:09,  8.79s/it]"
     ]
    },
    {
     "name": "stdout",
     "output_type": "stream",
     "text": [
      "tensor([[9.9321e-01, 6.7900e-03],\n",
      "        [2.2740e-01, 7.7260e-01],\n",
      "        [3.8161e-01, 6.1839e-01],\n",
      "        [6.7208e-01, 3.2792e-01],\n",
      "        [2.7612e-01, 7.2388e-01],\n",
      "        [2.2074e-01, 7.7926e-01],\n",
      "        [9.9775e-01, 2.2537e-03],\n",
      "        [4.4619e-02, 9.5538e-01],\n",
      "        [8.1764e-01, 1.8236e-01],\n",
      "        [7.9735e-04, 9.9920e-01],\n",
      "        [9.8443e-01, 1.5566e-02],\n",
      "        [1.2053e-02, 9.8795e-01],\n",
      "        [8.2858e-01, 1.7142e-01],\n",
      "        [8.1788e-01, 1.8212e-01],\n",
      "        [9.7311e-01, 2.6885e-02],\n",
      "        [3.4922e-02, 9.6508e-01]])\n"
     ]
    },
    {
     "name": "stderr",
     "output_type": "stream",
     "text": [
      "Predicting:  62%|██████▏   | 133/215 [19:20<12:07,  8.87s/it]"
     ]
    },
    {
     "name": "stdout",
     "output_type": "stream",
     "text": [
      "tensor([[9.9834e-01, 1.6592e-03],\n",
      "        [7.3257e-01, 2.6743e-01],\n",
      "        [8.7962e-01, 1.2038e-01],\n",
      "        [9.9130e-01, 8.6998e-03],\n",
      "        [7.5296e-01, 2.4704e-01],\n",
      "        [9.8437e-01, 1.5626e-02],\n",
      "        [9.1530e-01, 8.4703e-02],\n",
      "        [9.3972e-01, 6.0275e-02],\n",
      "        [9.7818e-01, 2.1821e-02],\n",
      "        [1.1907e-04, 9.9988e-01],\n",
      "        [9.2315e-01, 7.6848e-02],\n",
      "        [9.9825e-01, 1.7502e-03],\n",
      "        [9.9990e-01, 1.0328e-04],\n",
      "        [9.9993e-01, 6.5461e-05],\n",
      "        [7.9218e-01, 2.0782e-01],\n",
      "        [9.9922e-01, 7.7765e-04]])\n"
     ]
    },
    {
     "name": "stderr",
     "output_type": "stream",
     "text": [
      "Predicting:  62%|██████▏   | 134/215 [19:30<12:11,  9.03s/it]"
     ]
    },
    {
     "name": "stdout",
     "output_type": "stream",
     "text": [
      "tensor([[9.9975e-01, 2.4875e-04],\n",
      "        [9.7620e-02, 9.0238e-01],\n",
      "        [2.1609e-04, 9.9978e-01],\n",
      "        [2.0315e-01, 7.9685e-01],\n",
      "        [9.9327e-01, 6.7266e-03],\n",
      "        [9.7233e-01, 2.7670e-02],\n",
      "        [3.4305e-01, 6.5695e-01],\n",
      "        [1.5560e-04, 9.9984e-01],\n",
      "        [1.1781e-01, 8.8219e-01],\n",
      "        [2.6187e-03, 9.9738e-01],\n",
      "        [9.7814e-01, 2.1856e-02],\n",
      "        [9.9689e-01, 3.1145e-03],\n",
      "        [8.0531e-01, 1.9469e-01],\n",
      "        [9.9774e-01, 2.2640e-03],\n",
      "        [9.9126e-01, 8.7446e-03],\n",
      "        [9.9819e-01, 1.8103e-03]])\n"
     ]
    },
    {
     "name": "stderr",
     "output_type": "stream",
     "text": [
      "Predicting:  63%|██████▎   | 135/215 [19:39<12:06,  9.08s/it]"
     ]
    },
    {
     "name": "stdout",
     "output_type": "stream",
     "text": [
      "tensor([[9.8503e-01, 1.4974e-02],\n",
      "        [9.6844e-01, 3.1563e-02],\n",
      "        [9.9676e-01, 3.2442e-03],\n",
      "        [9.9729e-01, 2.7078e-03],\n",
      "        [5.1963e-01, 4.8037e-01],\n",
      "        [9.9510e-01, 4.8985e-03],\n",
      "        [8.2890e-01, 1.7110e-01],\n",
      "        [9.9969e-01, 3.1099e-04],\n",
      "        [1.7655e-02, 9.8234e-01],\n",
      "        [9.8248e-01, 1.7525e-02],\n",
      "        [9.8772e-01, 1.2275e-02],\n",
      "        [9.9791e-01, 2.0888e-03],\n",
      "        [9.8099e-01, 1.9012e-02],\n",
      "        [9.5827e-01, 4.1730e-02],\n",
      "        [8.1603e-01, 1.8397e-01],\n",
      "        [9.2349e-01, 7.6510e-02]])\n"
     ]
    },
    {
     "name": "stderr",
     "output_type": "stream",
     "text": [
      "Predicting:  63%|██████▎   | 136/215 [19:48<11:49,  8.98s/it]"
     ]
    },
    {
     "name": "stdout",
     "output_type": "stream",
     "text": [
      "tensor([[4.7531e-01, 5.2469e-01],\n",
      "        [8.3582e-01, 1.6418e-01],\n",
      "        [2.5605e-03, 9.9744e-01],\n",
      "        [9.7943e-01, 2.0566e-02],\n",
      "        [9.6463e-01, 3.5374e-02],\n",
      "        [6.6761e-01, 3.3240e-01],\n",
      "        [1.0843e-01, 8.9157e-01],\n",
      "        [4.8330e-01, 5.1670e-01],\n",
      "        [8.6301e-01, 1.3699e-01],\n",
      "        [9.9381e-05, 9.9990e-01],\n",
      "        [8.9804e-01, 1.0196e-01],\n",
      "        [1.0883e-04, 9.9989e-01],\n",
      "        [3.0900e-01, 6.9100e-01],\n",
      "        [8.8056e-01, 1.1944e-01],\n",
      "        [6.5233e-02, 9.3477e-01],\n",
      "        [1.1675e-04, 9.9988e-01]])\n"
     ]
    },
    {
     "name": "stderr",
     "output_type": "stream",
     "text": [
      "Predicting:  64%|██████▎   | 137/215 [19:56<11:34,  8.91s/it]"
     ]
    },
    {
     "name": "stdout",
     "output_type": "stream",
     "text": [
      "tensor([[0.9744, 0.0256],\n",
      "        [0.0275, 0.9725],\n",
      "        [0.7346, 0.2654],\n",
      "        [0.8813, 0.1187],\n",
      "        [0.9800, 0.0200],\n",
      "        [0.9068, 0.0932],\n",
      "        [0.8759, 0.1241],\n",
      "        [0.8373, 0.1627],\n",
      "        [0.2231, 0.7769],\n",
      "        [0.9906, 0.0094],\n",
      "        [0.5575, 0.4425],\n",
      "        [0.9873, 0.0127],\n",
      "        [0.9977, 0.0023],\n",
      "        [0.7797, 0.2203],\n",
      "        [0.9841, 0.0159],\n",
      "        [0.6884, 0.3116]])\n"
     ]
    },
    {
     "name": "stderr",
     "output_type": "stream",
     "text": [
      "Predicting:  64%|██████▍   | 138/215 [20:05<11:12,  8.73s/it]"
     ]
    },
    {
     "name": "stdout",
     "output_type": "stream",
     "text": [
      "tensor([[0.5023, 0.4977],\n",
      "        [0.9661, 0.0339],\n",
      "        [0.9859, 0.0141],\n",
      "        [0.9820, 0.0180],\n",
      "        [0.9896, 0.0104],\n",
      "        [0.9984, 0.0016],\n",
      "        [0.9976, 0.0024],\n",
      "        [0.4475, 0.5525],\n",
      "        [0.0165, 0.9835],\n",
      "        [0.9971, 0.0029],\n",
      "        [0.1196, 0.8804],\n",
      "        [0.4893, 0.5107],\n",
      "        [0.3812, 0.6188],\n",
      "        [0.4540, 0.5460],\n",
      "        [0.2909, 0.7091],\n",
      "        [0.0068, 0.9932]])\n"
     ]
    },
    {
     "name": "stderr",
     "output_type": "stream",
     "text": [
      "Predicting:  65%|██████▍   | 139/215 [20:13<11:02,  8.71s/it]"
     ]
    },
    {
     "name": "stdout",
     "output_type": "stream",
     "text": [
      "tensor([[0.3232, 0.6768],\n",
      "        [0.7630, 0.2370],\n",
      "        [0.9748, 0.0252],\n",
      "        [0.9988, 0.0012],\n",
      "        [0.9933, 0.0067],\n",
      "        [0.9909, 0.0091],\n",
      "        [0.8909, 0.1091],\n",
      "        [0.7465, 0.2535],\n",
      "        [0.7690, 0.2310],\n",
      "        [0.9129, 0.0871],\n",
      "        [0.8068, 0.1932],\n",
      "        [0.5067, 0.4933],\n",
      "        [0.8050, 0.1950],\n",
      "        [0.8879, 0.1121],\n",
      "        [0.4486, 0.5514],\n",
      "        [0.8229, 0.1771]])\n"
     ]
    },
    {
     "name": "stderr",
     "output_type": "stream",
     "text": [
      "Predicting:  65%|██████▌   | 140/215 [20:22<10:48,  8.65s/it]"
     ]
    },
    {
     "name": "stdout",
     "output_type": "stream",
     "text": [
      "tensor([[9.7280e-01, 2.7205e-02],\n",
      "        [9.0908e-01, 9.0925e-02],\n",
      "        [8.4003e-01, 1.5997e-01],\n",
      "        [9.7133e-01, 2.8669e-02],\n",
      "        [5.9745e-01, 4.0255e-01],\n",
      "        [1.8647e-01, 8.1353e-01],\n",
      "        [3.6412e-01, 6.3588e-01],\n",
      "        [1.7535e-01, 8.2465e-01],\n",
      "        [6.4175e-02, 9.3582e-01],\n",
      "        [2.7840e-01, 7.2160e-01],\n",
      "        [9.9334e-01, 6.6571e-03],\n",
      "        [9.8543e-01, 1.4574e-02],\n",
      "        [9.9976e-01, 2.3731e-04],\n",
      "        [2.4338e-03, 9.9757e-01],\n",
      "        [7.5784e-01, 2.4216e-01],\n",
      "        [8.2429e-01, 1.7571e-01]])\n"
     ]
    },
    {
     "name": "stderr",
     "output_type": "stream",
     "text": [
      "Predicting:  66%|██████▌   | 141/215 [20:30<10:36,  8.60s/it]"
     ]
    },
    {
     "name": "stdout",
     "output_type": "stream",
     "text": [
      "tensor([[0.9638, 0.0362],\n",
      "        [0.7805, 0.2195],\n",
      "        [0.9694, 0.0306],\n",
      "        [0.7333, 0.2667],\n",
      "        [0.9060, 0.0940],\n",
      "        [0.9863, 0.0137],\n",
      "        [0.9980, 0.0020],\n",
      "        [0.8686, 0.1314],\n",
      "        [0.7544, 0.2456],\n",
      "        [0.9633, 0.0367],\n",
      "        [0.6462, 0.3538],\n",
      "        [0.8456, 0.1544],\n",
      "        [0.9808, 0.0192],\n",
      "        [0.9512, 0.0488],\n",
      "        [0.0324, 0.9676],\n",
      "        [0.9388, 0.0612]])\n"
     ]
    },
    {
     "name": "stderr",
     "output_type": "stream",
     "text": [
      "Predicting:  66%|██████▌   | 142/215 [20:39<10:26,  8.58s/it]"
     ]
    },
    {
     "name": "stdout",
     "output_type": "stream",
     "text": [
      "tensor([[8.8843e-01, 1.1157e-01],\n",
      "        [9.0986e-01, 9.0138e-02],\n",
      "        [9.9030e-01, 9.6981e-03],\n",
      "        [9.6801e-01, 3.1994e-02],\n",
      "        [7.5673e-01, 2.4327e-01],\n",
      "        [9.9940e-01, 6.0166e-04],\n",
      "        [9.7599e-01, 2.4011e-02],\n",
      "        [5.8116e-01, 4.1884e-01],\n",
      "        [9.9875e-01, 1.2452e-03],\n",
      "        [8.0104e-01, 1.9896e-01],\n",
      "        [9.9580e-01, 4.2017e-03],\n",
      "        [6.5425e-01, 3.4575e-01],\n",
      "        [9.9518e-01, 4.8187e-03],\n",
      "        [1.9983e-02, 9.8002e-01],\n",
      "        [9.8603e-01, 1.3971e-02],\n",
      "        [9.6722e-01, 3.2782e-02]])\n"
     ]
    },
    {
     "name": "stderr",
     "output_type": "stream",
     "text": [
      "Predicting:  67%|██████▋   | 143/215 [20:48<10:25,  8.69s/it]"
     ]
    },
    {
     "name": "stdout",
     "output_type": "stream",
     "text": [
      "tensor([[9.5918e-01, 4.0822e-02],\n",
      "        [2.8234e-02, 9.7177e-01],\n",
      "        [4.2925e-01, 5.7075e-01],\n",
      "        [8.2886e-01, 1.7114e-01],\n",
      "        [1.2329e-04, 9.9988e-01],\n",
      "        [7.5730e-01, 2.4270e-01],\n",
      "        [7.0615e-01, 2.9385e-01],\n",
      "        [9.8597e-01, 1.4027e-02],\n",
      "        [7.6896e-01, 2.3104e-01],\n",
      "        [2.8945e-01, 7.1055e-01],\n",
      "        [9.4373e-01, 5.6272e-02],\n",
      "        [9.8533e-01, 1.4667e-02],\n",
      "        [9.9296e-01, 7.0389e-03],\n",
      "        [4.3477e-01, 5.6523e-01],\n",
      "        [9.9867e-01, 1.3331e-03],\n",
      "        [9.8275e-01, 1.7248e-02]])\n"
     ]
    },
    {
     "name": "stderr",
     "output_type": "stream",
     "text": [
      "Predicting:  67%|██████▋   | 144/215 [20:57<10:18,  8.71s/it]"
     ]
    },
    {
     "name": "stdout",
     "output_type": "stream",
     "text": [
      "tensor([[5.0682e-01, 4.9318e-01],\n",
      "        [9.9911e-01, 8.8689e-04],\n",
      "        [9.4829e-01, 5.1715e-02],\n",
      "        [9.8101e-01, 1.8991e-02],\n",
      "        [9.9629e-01, 3.7119e-03],\n",
      "        [7.5510e-01, 2.4490e-01],\n",
      "        [9.9704e-01, 2.9632e-03],\n",
      "        [9.9830e-01, 1.6970e-03],\n",
      "        [6.3422e-01, 3.6578e-01],\n",
      "        [9.9665e-01, 3.3486e-03],\n",
      "        [6.7684e-01, 3.2316e-01],\n",
      "        [9.7174e-01, 2.8263e-02],\n",
      "        [5.5765e-01, 4.4235e-01],\n",
      "        [1.8108e-03, 9.9819e-01],\n",
      "        [3.8348e-03, 9.9617e-01],\n",
      "        [2.1709e-02, 9.7829e-01]])\n"
     ]
    },
    {
     "name": "stderr",
     "output_type": "stream",
     "text": [
      "Predicting:  67%|██████▋   | 145/215 [21:06<10:17,  8.82s/it]"
     ]
    },
    {
     "name": "stdout",
     "output_type": "stream",
     "text": [
      "tensor([[9.9944e-01, 5.5711e-04],\n",
      "        [9.9976e-01, 2.4031e-04],\n",
      "        [3.0359e-01, 6.9641e-01],\n",
      "        [9.6239e-01, 3.7613e-02],\n",
      "        [2.3136e-01, 7.6864e-01],\n",
      "        [8.3664e-01, 1.6336e-01],\n",
      "        [9.9438e-01, 5.6232e-03],\n",
      "        [2.1982e-01, 7.8018e-01],\n",
      "        [8.6630e-01, 1.3370e-01],\n",
      "        [2.3994e-03, 9.9760e-01],\n",
      "        [8.9476e-01, 1.0524e-01],\n",
      "        [9.9434e-01, 5.6591e-03],\n",
      "        [6.0955e-01, 3.9045e-01],\n",
      "        [1.0985e-04, 9.9989e-01],\n",
      "        [8.2786e-01, 1.7214e-01],\n",
      "        [3.5265e-02, 9.6473e-01]])\n"
     ]
    },
    {
     "name": "stderr",
     "output_type": "stream",
     "text": [
      "Predicting:  68%|██████▊   | 146/215 [21:14<10:03,  8.75s/it]"
     ]
    },
    {
     "name": "stdout",
     "output_type": "stream",
     "text": [
      "tensor([[1.2736e-01, 8.7264e-01],\n",
      "        [7.7384e-01, 2.2616e-01],\n",
      "        [1.4503e-03, 9.9855e-01],\n",
      "        [3.0731e-01, 6.9269e-01],\n",
      "        [6.1057e-01, 3.8943e-01],\n",
      "        [9.8250e-01, 1.7502e-02],\n",
      "        [7.6035e-01, 2.3965e-01],\n",
      "        [2.0081e-04, 9.9980e-01],\n",
      "        [8.5440e-01, 1.4560e-01],\n",
      "        [9.9662e-01, 3.3799e-03],\n",
      "        [9.3751e-01, 6.2487e-02],\n",
      "        [2.2361e-04, 9.9978e-01],\n",
      "        [9.8381e-01, 1.6195e-02],\n",
      "        [1.9216e-04, 9.9981e-01],\n",
      "        [8.6411e-01, 1.3589e-01],\n",
      "        [2.6315e-01, 7.3685e-01]])\n"
     ]
    },
    {
     "name": "stderr",
     "output_type": "stream",
     "text": [
      "Predicting:  68%|██████▊   | 147/215 [21:23<09:49,  8.67s/it]"
     ]
    },
    {
     "name": "stdout",
     "output_type": "stream",
     "text": [
      "tensor([[9.4077e-05, 9.9991e-01],\n",
      "        [6.8558e-01, 3.1442e-01],\n",
      "        [9.9431e-05, 9.9990e-01],\n",
      "        [2.2810e-03, 9.9772e-01],\n",
      "        [1.1699e-01, 8.8301e-01],\n",
      "        [7.7144e-01, 2.2856e-01],\n",
      "        [6.9789e-01, 3.0211e-01],\n",
      "        [6.4330e-01, 3.5670e-01],\n",
      "        [1.7133e-04, 9.9983e-01],\n",
      "        [9.9492e-01, 5.0824e-03],\n",
      "        [9.9970e-01, 3.0233e-04],\n",
      "        [9.7218e-01, 2.7816e-02],\n",
      "        [4.7216e-04, 9.9953e-01],\n",
      "        [9.9451e-01, 5.4902e-03],\n",
      "        [9.9969e-01, 3.0648e-04],\n",
      "        [7.5806e-01, 2.4194e-01]])\n"
     ]
    },
    {
     "name": "stderr",
     "output_type": "stream",
     "text": [
      "Predicting:  69%|██████▉   | 148/215 [21:31<09:33,  8.55s/it]"
     ]
    },
    {
     "name": "stdout",
     "output_type": "stream",
     "text": [
      "tensor([[1.7750e-01, 8.2250e-01],\n",
      "        [7.5845e-02, 9.2415e-01],\n",
      "        [5.2418e-01, 4.7582e-01],\n",
      "        [1.6857e-04, 9.9983e-01],\n",
      "        [2.9804e-01, 7.0196e-01],\n",
      "        [1.1881e-02, 9.8812e-01],\n",
      "        [4.6567e-02, 9.5343e-01],\n",
      "        [7.0662e-02, 9.2934e-01],\n",
      "        [9.9853e-01, 1.4732e-03],\n",
      "        [9.9963e-01, 3.6767e-04],\n",
      "        [1.8541e-04, 9.9981e-01],\n",
      "        [9.0560e-01, 9.4405e-02],\n",
      "        [5.4233e-04, 9.9946e-01],\n",
      "        [3.0134e-04, 9.9970e-01],\n",
      "        [9.6541e-05, 9.9990e-01],\n",
      "        [7.8435e-01, 2.1565e-01]])\n"
     ]
    },
    {
     "name": "stderr",
     "output_type": "stream",
     "text": [
      "Predicting:  69%|██████▉   | 149/215 [21:40<09:35,  8.71s/it]"
     ]
    },
    {
     "name": "stdout",
     "output_type": "stream",
     "text": [
      "tensor([[1.7892e-01, 8.2108e-01],\n",
      "        [5.7666e-01, 4.2334e-01],\n",
      "        [1.7319e-04, 9.9983e-01],\n",
      "        [1.3317e-04, 9.9987e-01],\n",
      "        [2.9501e-03, 9.9705e-01],\n",
      "        [1.5647e-04, 9.9984e-01],\n",
      "        [1.0292e-03, 9.9897e-01],\n",
      "        [8.5745e-01, 1.4255e-01],\n",
      "        [2.0352e-04, 9.9980e-01],\n",
      "        [9.5667e-01, 4.3332e-02],\n",
      "        [5.4510e-01, 4.5490e-01],\n",
      "        [1.3623e-04, 9.9986e-01],\n",
      "        [9.8151e-01, 1.8490e-02],\n",
      "        [5.3185e-01, 4.6815e-01],\n",
      "        [9.9974e-01, 2.6008e-04],\n",
      "        [9.8068e-01, 1.9317e-02]])\n"
     ]
    },
    {
     "name": "stderr",
     "output_type": "stream",
     "text": [
      "Predicting:  70%|██████▉   | 150/215 [21:49<09:25,  8.70s/it]"
     ]
    },
    {
     "name": "stdout",
     "output_type": "stream",
     "text": [
      "tensor([[9.9928e-01, 7.1539e-04],\n",
      "        [7.0441e-01, 2.9559e-01],\n",
      "        [9.9898e-01, 1.0159e-03],\n",
      "        [9.9896e-01, 1.0440e-03],\n",
      "        [8.6833e-01, 1.3167e-01],\n",
      "        [9.5011e-01, 4.9886e-02],\n",
      "        [8.8046e-01, 1.1954e-01],\n",
      "        [9.9825e-01, 1.7550e-03],\n",
      "        [9.9618e-01, 3.8210e-03],\n",
      "        [9.9666e-01, 3.3434e-03],\n",
      "        [9.7399e-01, 2.6013e-02],\n",
      "        [9.9625e-01, 3.7501e-03],\n",
      "        [9.9594e-01, 4.0568e-03],\n",
      "        [9.7776e-01, 2.2243e-02],\n",
      "        [9.9980e-01, 1.9917e-04],\n",
      "        [9.9889e-01, 1.1130e-03]])\n"
     ]
    },
    {
     "name": "stderr",
     "output_type": "stream",
     "text": [
      "Predicting:  70%|███████   | 151/215 [21:58<09:29,  8.89s/it]"
     ]
    },
    {
     "name": "stdout",
     "output_type": "stream",
     "text": [
      "tensor([[0.3704, 0.6296],\n",
      "        [0.9640, 0.0360],\n",
      "        [0.1705, 0.8295],\n",
      "        [0.0255, 0.9745],\n",
      "        [0.1401, 0.8599],\n",
      "        [0.9886, 0.0114],\n",
      "        [0.9947, 0.0053],\n",
      "        [0.9951, 0.0049],\n",
      "        [0.8358, 0.1642],\n",
      "        [0.5412, 0.4588],\n",
      "        [0.0595, 0.9405],\n",
      "        [0.6352, 0.3648],\n",
      "        [0.4753, 0.5247],\n",
      "        [0.8678, 0.1322],\n",
      "        [0.6811, 0.3189],\n",
      "        [0.1795, 0.8205]])\n"
     ]
    },
    {
     "name": "stderr",
     "output_type": "stream",
     "text": [
      "Predicting:  71%|███████   | 152/215 [22:07<09:18,  8.87s/it]"
     ]
    },
    {
     "name": "stdout",
     "output_type": "stream",
     "text": [
      "tensor([[0.0011, 0.9989],\n",
      "        [0.1443, 0.8557],\n",
      "        [0.9920, 0.0080],\n",
      "        [0.7929, 0.2071],\n",
      "        [0.4504, 0.5496],\n",
      "        [0.9551, 0.0449],\n",
      "        [0.9961, 0.0039],\n",
      "        [0.9257, 0.0743],\n",
      "        [0.7576, 0.2424],\n",
      "        [0.9980, 0.0020],\n",
      "        [0.9819, 0.0181],\n",
      "        [0.9391, 0.0609],\n",
      "        [0.9975, 0.0025],\n",
      "        [0.0477, 0.9523],\n",
      "        [0.8437, 0.1563],\n",
      "        [0.9965, 0.0035]])\n"
     ]
    },
    {
     "name": "stderr",
     "output_type": "stream",
     "text": [
      "Predicting:  71%|███████   | 153/215 [22:16<09:13,  8.92s/it]"
     ]
    },
    {
     "name": "stdout",
     "output_type": "stream",
     "text": [
      "tensor([[8.2593e-01, 1.7407e-01],\n",
      "        [5.5542e-01, 4.4458e-01],\n",
      "        [5.9600e-01, 4.0400e-01],\n",
      "        [9.6170e-01, 3.8298e-02],\n",
      "        [7.2984e-01, 2.7016e-01],\n",
      "        [9.6579e-01, 3.4211e-02],\n",
      "        [9.9335e-01, 6.6490e-03],\n",
      "        [9.7978e-01, 2.0222e-02],\n",
      "        [9.6278e-01, 3.7216e-02],\n",
      "        [8.9991e-01, 1.0009e-01],\n",
      "        [9.6697e-01, 3.3032e-02],\n",
      "        [5.4283e-01, 4.5717e-01],\n",
      "        [3.4203e-04, 9.9966e-01],\n",
      "        [5.6172e-01, 4.3828e-01],\n",
      "        [4.4350e-01, 5.5650e-01],\n",
      "        [9.8662e-01, 1.3382e-02]])\n"
     ]
    },
    {
     "name": "stderr",
     "output_type": "stream",
     "text": [
      "Predicting:  72%|███████▏  | 154/215 [22:24<08:54,  8.76s/it]"
     ]
    },
    {
     "name": "stdout",
     "output_type": "stream",
     "text": [
      "tensor([[9.7989e-01, 2.0115e-02],\n",
      "        [9.8900e-01, 1.1005e-02],\n",
      "        [9.1193e-01, 8.8066e-02],\n",
      "        [9.5363e-01, 4.6370e-02],\n",
      "        [8.8265e-01, 1.1735e-01],\n",
      "        [3.2893e-01, 6.7107e-01],\n",
      "        [7.7648e-01, 2.2352e-01],\n",
      "        [9.9824e-01, 1.7590e-03],\n",
      "        [9.7358e-01, 2.6420e-02],\n",
      "        [1.2915e-04, 9.9987e-01],\n",
      "        [1.5214e-01, 8.4786e-01],\n",
      "        [9.9922e-01, 7.7692e-04],\n",
      "        [9.4652e-01, 5.3485e-02],\n",
      "        [9.3228e-01, 6.7718e-02],\n",
      "        [8.0273e-01, 1.9727e-01],\n",
      "        [9.9939e-01, 6.1153e-04]])\n"
     ]
    },
    {
     "name": "stderr",
     "output_type": "stream",
     "text": [
      "Predicting:  72%|███████▏  | 155/215 [22:33<08:48,  8.81s/it]"
     ]
    },
    {
     "name": "stdout",
     "output_type": "stream",
     "text": [
      "tensor([[7.3690e-01, 2.6310e-01],\n",
      "        [8.0746e-01, 1.9254e-01],\n",
      "        [5.5078e-01, 4.4922e-01],\n",
      "        [9.2269e-01, 7.7307e-02],\n",
      "        [8.3105e-01, 1.6895e-01],\n",
      "        [2.9522e-01, 7.0478e-01],\n",
      "        [1.0471e-01, 8.9529e-01],\n",
      "        [9.9391e-01, 6.0884e-03],\n",
      "        [9.9937e-01, 6.3087e-04],\n",
      "        [9.9581e-01, 4.1928e-03],\n",
      "        [9.4592e-01, 5.4079e-02],\n",
      "        [9.9740e-01, 2.5981e-03],\n",
      "        [9.9952e-01, 4.8411e-04],\n",
      "        [9.7016e-01, 2.9839e-02],\n",
      "        [1.0841e-01, 8.9159e-01],\n",
      "        [8.8596e-01, 1.1404e-01]])\n"
     ]
    },
    {
     "name": "stderr",
     "output_type": "stream",
     "text": [
      "Predicting:  73%|███████▎  | 156/215 [22:42<08:44,  8.88s/it]"
     ]
    },
    {
     "name": "stdout",
     "output_type": "stream",
     "text": [
      "tensor([[0.1239, 0.8761],\n",
      "        [0.9906, 0.0094],\n",
      "        [0.6580, 0.3420],\n",
      "        [0.8899, 0.1101],\n",
      "        [0.9923, 0.0077],\n",
      "        [0.8003, 0.1997],\n",
      "        [0.4718, 0.5282],\n",
      "        [0.9630, 0.0370],\n",
      "        [0.9906, 0.0094],\n",
      "        [0.9285, 0.0715],\n",
      "        [0.7431, 0.2569],\n",
      "        [0.2181, 0.7819],\n",
      "        [0.8215, 0.1785],\n",
      "        [0.9456, 0.0544],\n",
      "        [0.5418, 0.4582],\n",
      "        [0.7066, 0.2934]])\n"
     ]
    },
    {
     "name": "stderr",
     "output_type": "stream",
     "text": [
      "Predicting:  73%|███████▎  | 157/215 [22:51<08:30,  8.81s/it]"
     ]
    },
    {
     "name": "stdout",
     "output_type": "stream",
     "text": [
      "tensor([[9.5769e-01, 4.2306e-02],\n",
      "        [6.6078e-01, 3.3922e-01],\n",
      "        [6.5845e-02, 9.3416e-01],\n",
      "        [1.1717e-04, 9.9988e-01],\n",
      "        [9.9830e-01, 1.6966e-03],\n",
      "        [9.9976e-01, 2.3503e-04],\n",
      "        [7.0853e-02, 9.2915e-01],\n",
      "        [3.5353e-01, 6.4647e-01],\n",
      "        [8.8860e-01, 1.1140e-01],\n",
      "        [9.7321e-01, 2.6794e-02],\n",
      "        [8.7447e-01, 1.2553e-01],\n",
      "        [9.2600e-01, 7.3998e-02],\n",
      "        [8.3336e-01, 1.6664e-01],\n",
      "        [9.9326e-01, 6.7422e-03],\n",
      "        [7.9567e-01, 2.0433e-01],\n",
      "        [9.9543e-01, 4.5744e-03]])\n"
     ]
    },
    {
     "name": "stderr",
     "output_type": "stream",
     "text": [
      "Predicting:  73%|███████▎  | 158/215 [23:00<08:18,  8.74s/it]"
     ]
    },
    {
     "name": "stdout",
     "output_type": "stream",
     "text": [
      "tensor([[9.2305e-01, 7.6952e-02],\n",
      "        [7.5177e-01, 2.4823e-01],\n",
      "        [9.9915e-01, 8.5208e-04],\n",
      "        [9.9496e-01, 5.0378e-03],\n",
      "        [9.9846e-01, 1.5392e-03],\n",
      "        [3.3923e-01, 6.6077e-01],\n",
      "        [6.7161e-01, 3.2839e-01],\n",
      "        [9.1288e-05, 9.9991e-01],\n",
      "        [9.9627e-01, 3.7348e-03],\n",
      "        [9.9927e-01, 7.2666e-04],\n",
      "        [9.9944e-01, 5.6315e-04],\n",
      "        [9.9834e-01, 1.6604e-03],\n",
      "        [1.4105e-02, 9.8589e-01],\n",
      "        [2.5721e-03, 9.9743e-01],\n",
      "        [8.7983e-01, 1.2017e-01],\n",
      "        [9.9059e-01, 9.4082e-03]])\n"
     ]
    },
    {
     "name": "stderr",
     "output_type": "stream",
     "text": [
      "Predicting:  74%|███████▍  | 159/215 [23:08<08:07,  8.71s/it]"
     ]
    },
    {
     "name": "stdout",
     "output_type": "stream",
     "text": [
      "tensor([[8.9352e-01, 1.0648e-01],\n",
      "        [8.9418e-01, 1.0582e-01],\n",
      "        [9.9436e-01, 5.6357e-03],\n",
      "        [7.0854e-01, 2.9146e-01],\n",
      "        [9.9985e-01, 1.4991e-04],\n",
      "        [9.9995e-01, 5.2778e-05],\n",
      "        [4.0798e-01, 5.9202e-01],\n",
      "        [1.1675e-03, 9.9883e-01],\n",
      "        [9.9947e-01, 5.3114e-04],\n",
      "        [9.9996e-01, 4.2511e-05],\n",
      "        [9.9972e-01, 2.7799e-04],\n",
      "        [9.8682e-01, 1.3180e-02],\n",
      "        [9.9890e-01, 1.0952e-03],\n",
      "        [9.9192e-01, 8.0838e-03],\n",
      "        [9.9848e-01, 1.5186e-03],\n",
      "        [9.2778e-01, 7.2222e-02]])\n"
     ]
    },
    {
     "name": "stderr",
     "output_type": "stream",
     "text": [
      "Predicting:  74%|███████▍  | 160/215 [23:18<08:14,  8.99s/it]"
     ]
    },
    {
     "name": "stdout",
     "output_type": "stream",
     "text": [
      "tensor([[9.9497e-01, 5.0339e-03],\n",
      "        [6.7805e-04, 9.9932e-01],\n",
      "        [9.9432e-01, 5.6790e-03],\n",
      "        [5.0745e-01, 4.9255e-01],\n",
      "        [9.9412e-01, 5.8843e-03],\n",
      "        [9.1436e-02, 9.0856e-01],\n",
      "        [9.5012e-01, 4.9876e-02],\n",
      "        [9.7919e-01, 2.0812e-02],\n",
      "        [1.1378e-04, 9.9989e-01],\n",
      "        [1.0179e-04, 9.9990e-01],\n",
      "        [9.4853e-01, 5.1471e-02],\n",
      "        [2.4192e-01, 7.5808e-01],\n",
      "        [9.9954e-01, 4.5606e-04],\n",
      "        [9.9876e-01, 1.2431e-03],\n",
      "        [9.9713e-01, 2.8717e-03],\n",
      "        [9.9059e-01, 9.4060e-03]])\n"
     ]
    },
    {
     "name": "stderr",
     "output_type": "stream",
     "text": [
      "Predicting:  75%|███████▍  | 161/215 [23:27<08:04,  8.98s/it]"
     ]
    },
    {
     "name": "stdout",
     "output_type": "stream",
     "text": [
      "tensor([[9.9875e-01, 1.2516e-03],\n",
      "        [9.7465e-02, 9.0253e-01],\n",
      "        [1.2986e-03, 9.9870e-01],\n",
      "        [9.9772e-01, 2.2839e-03],\n",
      "        [9.9975e-01, 2.4664e-04],\n",
      "        [8.4833e-03, 9.9152e-01],\n",
      "        [6.8876e-04, 9.9931e-01],\n",
      "        [9.9177e-01, 8.2313e-03],\n",
      "        [9.9949e-01, 5.1023e-04],\n",
      "        [5.6908e-01, 4.3092e-01],\n",
      "        [1.0697e-04, 9.9989e-01],\n",
      "        [9.9960e-01, 4.0039e-04],\n",
      "        [9.9992e-01, 8.3355e-05],\n",
      "        [9.9978e-01, 2.2265e-04],\n",
      "        [9.9971e-01, 2.9424e-04],\n",
      "        [8.8118e-02, 9.1188e-01]])\n"
     ]
    },
    {
     "name": "stderr",
     "output_type": "stream",
     "text": [
      "Predicting:  75%|███████▌  | 162/215 [23:35<07:40,  8.68s/it]"
     ]
    },
    {
     "name": "stdout",
     "output_type": "stream",
     "text": [
      "tensor([[4.0622e-03, 9.9594e-01],\n",
      "        [9.9971e-01, 2.8991e-04],\n",
      "        [9.7708e-01, 2.2921e-02],\n",
      "        [9.9861e-01, 1.3929e-03],\n",
      "        [9.8437e-01, 1.5627e-02],\n",
      "        [2.3465e-02, 9.7654e-01],\n",
      "        [9.9582e-01, 4.1807e-03],\n",
      "        [8.0795e-01, 1.9205e-01],\n",
      "        [4.1177e-04, 9.9959e-01],\n",
      "        [9.9826e-01, 1.7419e-03],\n",
      "        [9.9956e-01, 4.3510e-04],\n",
      "        [9.2201e-01, 7.7986e-02],\n",
      "        [1.3857e-02, 9.8614e-01],\n",
      "        [9.9235e-01, 7.6479e-03],\n",
      "        [4.4414e-03, 9.9556e-01],\n",
      "        [3.5662e-01, 6.4338e-01]])\n"
     ]
    },
    {
     "name": "stderr",
     "output_type": "stream",
     "text": [
      "Predicting:  76%|███████▌  | 163/215 [23:43<07:28,  8.63s/it]"
     ]
    },
    {
     "name": "stdout",
     "output_type": "stream",
     "text": [
      "tensor([[9.5370e-01, 4.6296e-02],\n",
      "        [9.7728e-01, 2.2718e-02],\n",
      "        [9.9759e-01, 2.4124e-03],\n",
      "        [1.3055e-01, 8.6945e-01],\n",
      "        [1.3086e-02, 9.8691e-01],\n",
      "        [9.9973e-01, 2.6561e-04],\n",
      "        [9.9987e-01, 1.3221e-04],\n",
      "        [9.9922e-01, 7.8364e-04],\n",
      "        [9.9953e-01, 4.6693e-04],\n",
      "        [9.9573e-01, 4.2700e-03],\n",
      "        [4.7048e-01, 5.2952e-01],\n",
      "        [9.4595e-01, 5.4051e-02],\n",
      "        [3.9851e-01, 6.0149e-01],\n",
      "        [7.0832e-04, 9.9929e-01],\n",
      "        [4.1738e-01, 5.8262e-01],\n",
      "        [1.1671e-04, 9.9988e-01]])\n"
     ]
    },
    {
     "name": "stderr",
     "output_type": "stream",
     "text": [
      "Predicting:  76%|███████▋  | 164/215 [23:52<07:18,  8.60s/it]"
     ]
    },
    {
     "name": "stdout",
     "output_type": "stream",
     "text": [
      "tensor([[9.9976e-01, 2.3718e-04],\n",
      "        [9.9982e-01, 1.8288e-04],\n",
      "        [8.0163e-01, 1.9837e-01],\n",
      "        [5.8282e-03, 9.9417e-01],\n",
      "        [9.9986e-01, 1.4269e-04],\n",
      "        [9.9993e-01, 7.1900e-05],\n",
      "        [2.8752e-04, 9.9971e-01],\n",
      "        [1.8525e-01, 8.1475e-01],\n",
      "        [9.5520e-01, 4.4801e-02],\n",
      "        [9.8765e-01, 1.2350e-02],\n",
      "        [3.3191e-02, 9.6681e-01],\n",
      "        [9.9982e-01, 1.8267e-04],\n",
      "        [9.9990e-01, 1.0264e-04],\n",
      "        [9.6956e-01, 3.0437e-02],\n",
      "        [5.2491e-01, 4.7509e-01],\n",
      "        [9.0230e-01, 9.7702e-02]])\n"
     ]
    },
    {
     "name": "stderr",
     "output_type": "stream",
     "text": [
      "Predicting:  77%|███████▋  | 165/215 [24:01<07:15,  8.71s/it]"
     ]
    },
    {
     "name": "stdout",
     "output_type": "stream",
     "text": [
      "tensor([[9.9919e-01, 8.0752e-04],\n",
      "        [9.9893e-01, 1.0705e-03],\n",
      "        [9.9817e-01, 1.8289e-03],\n",
      "        [7.5839e-01, 2.4161e-01],\n",
      "        [1.7813e-02, 9.8219e-01],\n",
      "        [9.9993e-01, 6.7792e-05],\n",
      "        [9.9995e-01, 4.5139e-05],\n",
      "        [7.4775e-01, 2.5225e-01],\n",
      "        [1.4364e-01, 8.5636e-01],\n",
      "        [1.9045e-03, 9.9810e-01],\n",
      "        [9.8924e-01, 1.0763e-02],\n",
      "        [9.9850e-01, 1.5044e-03],\n",
      "        [7.5110e-01, 2.4890e-01],\n",
      "        [7.6870e-01, 2.3130e-01],\n",
      "        [7.5938e-01, 2.4062e-01],\n",
      "        [9.6092e-01, 3.9079e-02]])\n"
     ]
    },
    {
     "name": "stderr",
     "output_type": "stream",
     "text": [
      "Predicting:  77%|███████▋  | 166/215 [24:09<06:58,  8.54s/it]"
     ]
    },
    {
     "name": "stdout",
     "output_type": "stream",
     "text": [
      "tensor([[8.4535e-01, 1.5465e-01],\n",
      "        [7.6899e-01, 2.3101e-01],\n",
      "        [8.4344e-02, 9.1566e-01],\n",
      "        [8.6156e-01, 1.3844e-01],\n",
      "        [7.0774e-02, 9.2923e-01],\n",
      "        [7.4517e-01, 2.5483e-01],\n",
      "        [9.4114e-01, 5.8863e-02],\n",
      "        [1.9972e-01, 8.0028e-01],\n",
      "        [1.3005e-02, 9.8699e-01],\n",
      "        [5.0027e-01, 4.9973e-01],\n",
      "        [9.9337e-01, 6.6339e-03],\n",
      "        [9.7574e-01, 2.4260e-02],\n",
      "        [9.9930e-01, 6.9699e-04],\n",
      "        [7.3677e-01, 2.6323e-01],\n",
      "        [1.0934e-01, 8.9066e-01],\n",
      "        [9.5286e-01, 4.7142e-02]])\n"
     ]
    },
    {
     "name": "stderr",
     "output_type": "stream",
     "text": [
      "Predicting:  78%|███████▊  | 167/215 [24:17<06:42,  8.39s/it]"
     ]
    },
    {
     "name": "stdout",
     "output_type": "stream",
     "text": [
      "tensor([[0.9837, 0.0163],\n",
      "        [0.9627, 0.0373],\n",
      "        [0.5383, 0.4617],\n",
      "        [0.8583, 0.1417],\n",
      "        [0.9605, 0.0395],\n",
      "        [0.9170, 0.0830],\n",
      "        [0.9649, 0.0351],\n",
      "        [0.9001, 0.0999],\n",
      "        [0.6195, 0.3805],\n",
      "        [0.9931, 0.0069],\n",
      "        [0.9921, 0.0079],\n",
      "        [0.9622, 0.0378],\n",
      "        [0.8659, 0.1341],\n",
      "        [0.9976, 0.0024],\n",
      "        [0.9990, 0.0010],\n",
      "        [0.6712, 0.3288]])\n"
     ]
    },
    {
     "name": "stderr",
     "output_type": "stream",
     "text": [
      "Predicting:  78%|███████▊  | 168/215 [24:25<06:33,  8.36s/it]"
     ]
    },
    {
     "name": "stdout",
     "output_type": "stream",
     "text": [
      "tensor([[0.8862, 0.1138],\n",
      "        [0.6117, 0.3883],\n",
      "        [0.1165, 0.8835],\n",
      "        [0.7160, 0.2840],\n",
      "        [0.8471, 0.1529],\n",
      "        [0.7698, 0.2302],\n",
      "        [0.6334, 0.3666],\n",
      "        [0.3361, 0.6639],\n",
      "        [0.4454, 0.5546],\n",
      "        [0.8423, 0.1577],\n",
      "        [0.9799, 0.0201],\n",
      "        [0.9483, 0.0517],\n",
      "        [0.9914, 0.0086],\n",
      "        [0.9910, 0.0090],\n",
      "        [0.8283, 0.1717],\n",
      "        [0.7659, 0.2341]])\n"
     ]
    },
    {
     "name": "stderr",
     "output_type": "stream",
     "text": [
      "Predicting:  79%|███████▊  | 169/215 [24:34<06:28,  8.45s/it]"
     ]
    },
    {
     "name": "stdout",
     "output_type": "stream",
     "text": [
      "tensor([[0.0485, 0.9515],\n",
      "        [0.9747, 0.0253],\n",
      "        [0.5482, 0.4518],\n",
      "        [0.9988, 0.0012],\n",
      "        [0.2883, 0.7117],\n",
      "        [0.9154, 0.0846],\n",
      "        [0.9944, 0.0056],\n",
      "        [0.5783, 0.4217],\n",
      "        [0.9765, 0.0235],\n",
      "        [0.9941, 0.0059],\n",
      "        [0.6376, 0.3624],\n",
      "        [0.8657, 0.1343],\n",
      "        [0.9216, 0.0784],\n",
      "        [0.6987, 0.3013],\n",
      "        [0.8373, 0.1627],\n",
      "        [0.9470, 0.0530]])\n"
     ]
    },
    {
     "name": "stderr",
     "output_type": "stream",
     "text": [
      "Predicting:  79%|███████▉  | 170/215 [24:42<06:19,  8.42s/it]"
     ]
    },
    {
     "name": "stdout",
     "output_type": "stream",
     "text": [
      "tensor([[0.7133, 0.2867],\n",
      "        [0.8877, 0.1123],\n",
      "        [0.9857, 0.0143],\n",
      "        [0.0608, 0.9392],\n",
      "        [0.1387, 0.8613],\n",
      "        [0.3955, 0.6045],\n",
      "        [0.8567, 0.1433],\n",
      "        [0.9722, 0.0278],\n",
      "        [0.9027, 0.0973],\n",
      "        [0.8009, 0.1991],\n",
      "        [0.7979, 0.2021],\n",
      "        [0.8065, 0.1935],\n",
      "        [0.9912, 0.0088],\n",
      "        [0.9809, 0.0191],\n",
      "        [0.3187, 0.6813],\n",
      "        [0.4125, 0.5875]])\n"
     ]
    },
    {
     "name": "stderr",
     "output_type": "stream",
     "text": [
      "Predicting:  80%|███████▉  | 171/215 [24:51<06:19,  8.63s/it]"
     ]
    },
    {
     "name": "stdout",
     "output_type": "stream",
     "text": [
      "tensor([[0.9099, 0.0901],\n",
      "        [0.9743, 0.0257],\n",
      "        [0.7439, 0.2561],\n",
      "        [0.2310, 0.7690],\n",
      "        [0.9945, 0.0055],\n",
      "        [0.7933, 0.2067],\n",
      "        [0.6974, 0.3026],\n",
      "        [0.9251, 0.0749],\n",
      "        [0.9887, 0.0113],\n",
      "        [0.9795, 0.0205],\n",
      "        [0.8645, 0.1355],\n",
      "        [0.9984, 0.0016],\n",
      "        [0.5860, 0.4140],\n",
      "        [0.9936, 0.0064],\n",
      "        [0.0336, 0.9664],\n",
      "        [0.0104, 0.9896]])\n"
     ]
    },
    {
     "name": "stderr",
     "output_type": "stream",
     "text": [
      "Predicting:  80%|████████  | 172/215 [25:00<06:06,  8.52s/it]"
     ]
    },
    {
     "name": "stdout",
     "output_type": "stream",
     "text": [
      "tensor([[0.6832, 0.3168],\n",
      "        [0.6218, 0.3782],\n",
      "        [0.0579, 0.9421],\n",
      "        [0.9433, 0.0567],\n",
      "        [0.7819, 0.2181],\n",
      "        [0.0029, 0.9971],\n",
      "        [0.7480, 0.2520],\n",
      "        [0.9980, 0.0020],\n",
      "        [0.9836, 0.0164],\n",
      "        [0.9989, 0.0011],\n",
      "        [0.9872, 0.0128],\n",
      "        [0.9967, 0.0033],\n",
      "        [0.9758, 0.0242],\n",
      "        [0.9683, 0.0317],\n",
      "        [0.9906, 0.0094],\n",
      "        [0.9029, 0.0971]])\n"
     ]
    },
    {
     "name": "stderr",
     "output_type": "stream",
     "text": [
      "Predicting:  80%|████████  | 173/215 [25:08<05:54,  8.44s/it]"
     ]
    },
    {
     "name": "stdout",
     "output_type": "stream",
     "text": [
      "tensor([[9.5812e-01, 4.1877e-02],\n",
      "        [7.2479e-01, 2.7521e-01],\n",
      "        [9.2183e-01, 7.8166e-02],\n",
      "        [4.5003e-01, 5.4997e-01],\n",
      "        [3.2928e-01, 6.7072e-01],\n",
      "        [9.8339e-01, 1.6610e-02],\n",
      "        [9.2033e-01, 7.9675e-02],\n",
      "        [9.9920e-01, 7.9687e-04],\n",
      "        [9.9971e-01, 2.8658e-04],\n",
      "        [8.0148e-01, 1.9852e-01],\n",
      "        [6.5591e-01, 3.4409e-01],\n",
      "        [9.7018e-01, 2.9815e-02],\n",
      "        [7.3235e-01, 2.6765e-01],\n",
      "        [9.8878e-01, 1.1225e-02],\n",
      "        [1.7395e-01, 8.2605e-01],\n",
      "        [3.1664e-01, 6.8336e-01]])\n"
     ]
    },
    {
     "name": "stderr",
     "output_type": "stream",
     "text": [
      "Predicting:  81%|████████  | 174/215 [25:16<05:46,  8.46s/it]"
     ]
    },
    {
     "name": "stdout",
     "output_type": "stream",
     "text": [
      "tensor([[2.5550e-01, 7.4450e-01],\n",
      "        [4.7804e-01, 5.2196e-01],\n",
      "        [8.5596e-01, 1.4404e-01],\n",
      "        [6.0766e-01, 3.9234e-01],\n",
      "        [9.9927e-01, 7.2780e-04],\n",
      "        [9.9977e-01, 2.3439e-04],\n",
      "        [9.9967e-01, 3.3411e-04],\n",
      "        [2.7658e-01, 7.2342e-01],\n",
      "        [8.6421e-01, 1.3579e-01],\n",
      "        [9.4974e-01, 5.0261e-02],\n",
      "        [8.5904e-01, 1.4096e-01],\n",
      "        [9.1932e-01, 8.0677e-02],\n",
      "        [9.5498e-01, 4.5025e-02],\n",
      "        [6.8949e-01, 3.1051e-01],\n",
      "        [9.7827e-01, 2.1730e-02],\n",
      "        [9.5602e-01, 4.3980e-02]])\n"
     ]
    },
    {
     "name": "stderr",
     "output_type": "stream",
     "text": [
      "Predicting:  81%|████████▏ | 175/215 [25:25<05:39,  8.48s/it]"
     ]
    },
    {
     "name": "stdout",
     "output_type": "stream",
     "text": [
      "tensor([[0.9901, 0.0099],\n",
      "        [0.9923, 0.0077],\n",
      "        [0.5137, 0.4863],\n",
      "        [0.9945, 0.0055],\n",
      "        [0.9872, 0.0128],\n",
      "        [0.9971, 0.0029],\n",
      "        [0.9980, 0.0020],\n",
      "        [0.2856, 0.7144],\n",
      "        [0.9979, 0.0021],\n",
      "        [0.8624, 0.1376],\n",
      "        [0.9940, 0.0060],\n",
      "        [0.8900, 0.1100],\n",
      "        [0.9963, 0.0037],\n",
      "        [0.9698, 0.0302],\n",
      "        [0.5702, 0.4298],\n",
      "        [0.7964, 0.2036]])\n"
     ]
    },
    {
     "name": "stderr",
     "output_type": "stream",
     "text": [
      "Predicting:  82%|████████▏ | 176/215 [25:33<05:27,  8.38s/it]"
     ]
    },
    {
     "name": "stdout",
     "output_type": "stream",
     "text": [
      "tensor([[0.9673, 0.0327],\n",
      "        [0.0398, 0.9602],\n",
      "        [0.9913, 0.0087],\n",
      "        [0.9529, 0.0471],\n",
      "        [0.4452, 0.5548],\n",
      "        [0.8270, 0.1730],\n",
      "        [0.9551, 0.0449],\n",
      "        [0.9844, 0.0156],\n",
      "        [0.9014, 0.0986],\n",
      "        [0.3435, 0.6565],\n",
      "        [0.0368, 0.9632],\n",
      "        [0.9313, 0.0687],\n",
      "        [0.7626, 0.2374],\n",
      "        [0.9860, 0.0140],\n",
      "        [0.4426, 0.5574],\n",
      "        [0.9984, 0.0016]])\n"
     ]
    },
    {
     "name": "stderr",
     "output_type": "stream",
     "text": [
      "Predicting:  82%|████████▏ | 177/215 [25:41<05:17,  8.36s/it]"
     ]
    },
    {
     "name": "stdout",
     "output_type": "stream",
     "text": [
      "tensor([[9.9135e-01, 8.6529e-03],\n",
      "        [9.8656e-01, 1.3442e-02],\n",
      "        [9.9682e-01, 3.1794e-03],\n",
      "        [2.3954e-04, 9.9976e-01],\n",
      "        [9.9853e-01, 1.4749e-03],\n",
      "        [9.9495e-01, 5.0486e-03],\n",
      "        [8.7157e-01, 1.2843e-01],\n",
      "        [9.9954e-01, 4.6428e-04],\n",
      "        [9.9988e-01, 1.1639e-04],\n",
      "        [8.6534e-01, 1.3466e-01],\n",
      "        [3.6098e-01, 6.3902e-01],\n",
      "        [8.4044e-02, 9.1596e-01],\n",
      "        [4.6700e-01, 5.3300e-01],\n",
      "        [9.9618e-01, 3.8226e-03],\n",
      "        [9.9851e-01, 1.4931e-03],\n",
      "        [3.9708e-01, 6.0292e-01]])\n"
     ]
    },
    {
     "name": "stderr",
     "output_type": "stream",
     "text": [
      "Predicting:  83%|████████▎ | 178/215 [25:50<05:13,  8.48s/it]"
     ]
    },
    {
     "name": "stdout",
     "output_type": "stream",
     "text": [
      "tensor([[1.2587e-03, 9.9874e-01],\n",
      "        [9.8939e-01, 1.0607e-02],\n",
      "        [9.9032e-01, 9.6778e-03],\n",
      "        [9.9494e-01, 5.0598e-03],\n",
      "        [9.6573e-01, 3.4267e-02],\n",
      "        [9.8721e-01, 1.2790e-02],\n",
      "        [9.4072e-01, 5.9282e-02],\n",
      "        [4.7825e-01, 5.2175e-01],\n",
      "        [4.0399e-02, 9.5960e-01],\n",
      "        [1.0836e-04, 9.9989e-01],\n",
      "        [5.3906e-01, 4.6094e-01],\n",
      "        [9.8427e-01, 1.5728e-02],\n",
      "        [1.2205e-02, 9.8779e-01],\n",
      "        [9.9953e-01, 4.6759e-04],\n",
      "        [9.9930e-01, 6.9732e-04],\n",
      "        [1.2363e-03, 9.9876e-01]])\n"
     ]
    },
    {
     "name": "stderr",
     "output_type": "stream",
     "text": [
      "Predicting:  83%|████████▎ | 179/215 [26:00<05:13,  8.72s/it]"
     ]
    },
    {
     "name": "stdout",
     "output_type": "stream",
     "text": [
      "tensor([[9.4690e-01, 5.3103e-02],\n",
      "        [8.2355e-01, 1.7645e-01],\n",
      "        [9.9890e-01, 1.1007e-03],\n",
      "        [6.5253e-01, 3.4747e-01],\n",
      "        [2.8997e-01, 7.1003e-01],\n",
      "        [1.7333e-01, 8.2667e-01],\n",
      "        [9.9806e-01, 1.9404e-03],\n",
      "        [9.9431e-01, 5.6927e-03],\n",
      "        [9.9964e-01, 3.5891e-04],\n",
      "        [9.9980e-01, 2.0046e-04],\n",
      "        [8.1995e-01, 1.8005e-01],\n",
      "        [9.4967e-05, 9.9990e-01],\n",
      "        [9.0757e-01, 9.2426e-02],\n",
      "        [2.3141e-01, 7.6859e-01],\n",
      "        [5.7390e-01, 4.2610e-01],\n",
      "        [8.8934e-01, 1.1066e-01]])\n"
     ]
    },
    {
     "name": "stderr",
     "output_type": "stream",
     "text": [
      "Predicting:  84%|████████▎ | 180/215 [26:09<05:10,  8.87s/it]"
     ]
    },
    {
     "name": "stdout",
     "output_type": "stream",
     "text": [
      "tensor([[9.9898e-01, 1.0236e-03],\n",
      "        [9.9982e-01, 1.7684e-04],\n",
      "        [1.7421e-02, 9.8258e-01],\n",
      "        [9.9403e-01, 5.9685e-03],\n",
      "        [9.9505e-01, 4.9526e-03],\n",
      "        [6.6342e-01, 3.3658e-01],\n",
      "        [9.0566e-01, 9.4336e-02],\n",
      "        [9.4713e-01, 5.2866e-02],\n",
      "        [1.8767e-01, 8.1233e-01],\n",
      "        [3.9486e-02, 9.6051e-01],\n",
      "        [6.3692e-01, 3.6308e-01],\n",
      "        [9.8566e-05, 9.9990e-01],\n",
      "        [9.9967e-01, 3.2871e-04],\n",
      "        [9.9988e-01, 1.1641e-04],\n",
      "        [9.6999e-01, 3.0005e-02],\n",
      "        [9.9255e-01, 7.4476e-03]])\n"
     ]
    },
    {
     "name": "stderr",
     "output_type": "stream",
     "text": [
      "Predicting:  84%|████████▍ | 181/215 [26:18<05:06,  9.03s/it]"
     ]
    },
    {
     "name": "stdout",
     "output_type": "stream",
     "text": [
      "tensor([[2.5160e-01, 7.4840e-01],\n",
      "        [9.9268e-01, 7.3208e-03],\n",
      "        [9.9550e-01, 4.4975e-03],\n",
      "        [9.7774e-01, 2.2265e-02],\n",
      "        [7.5173e-01, 2.4827e-01],\n",
      "        [2.1997e-04, 9.9978e-01],\n",
      "        [9.6164e-01, 3.8355e-02],\n",
      "        [6.6760e-03, 9.9332e-01],\n",
      "        [9.9293e-01, 7.0740e-03],\n",
      "        [8.7499e-01, 1.2501e-01],\n",
      "        [7.4731e-01, 2.5269e-01],\n",
      "        [7.1834e-01, 2.8166e-01],\n",
      "        [4.3354e-01, 5.6646e-01],\n",
      "        [8.9878e-01, 1.0122e-01],\n",
      "        [9.9818e-01, 1.8246e-03],\n",
      "        [1.2118e-04, 9.9988e-01]])\n"
     ]
    },
    {
     "name": "stderr",
     "output_type": "stream",
     "text": [
      "Predicting:  85%|████████▍ | 182/215 [26:26<04:50,  8.80s/it]"
     ]
    },
    {
     "name": "stdout",
     "output_type": "stream",
     "text": [
      "tensor([[9.9970e-01, 2.9517e-04],\n",
      "        [9.8398e-01, 1.6020e-02],\n",
      "        [9.9934e-01, 6.5645e-04],\n",
      "        [9.9632e-01, 3.6767e-03],\n",
      "        [9.4907e-01, 5.0931e-02],\n",
      "        [5.0878e-01, 4.9122e-01],\n",
      "        [8.5636e-01, 1.4364e-01],\n",
      "        [9.1890e-01, 8.1099e-02],\n",
      "        [1.0055e-01, 8.9945e-01],\n",
      "        [9.3941e-01, 6.0595e-02],\n",
      "        [9.9010e-01, 9.8951e-03],\n",
      "        [9.0967e-01, 9.0331e-02],\n",
      "        [8.3230e-01, 1.6770e-01],\n",
      "        [9.9899e-01, 1.0067e-03],\n",
      "        [9.6881e-01, 3.1187e-02],\n",
      "        [5.2213e-01, 4.7787e-01]])\n"
     ]
    },
    {
     "name": "stderr",
     "output_type": "stream",
     "text": [
      "Predicting:  85%|████████▌ | 183/215 [26:35<04:39,  8.72s/it]"
     ]
    },
    {
     "name": "stdout",
     "output_type": "stream",
     "text": [
      "tensor([[8.2188e-01, 1.7812e-01],\n",
      "        [9.2857e-01, 7.1430e-02],\n",
      "        [9.3318e-01, 6.6825e-02],\n",
      "        [9.9938e-01, 6.2244e-04],\n",
      "        [9.8927e-01, 1.0733e-02],\n",
      "        [5.2317e-01, 4.7683e-01],\n",
      "        [9.9511e-01, 4.8901e-03],\n",
      "        [9.9981e-01, 1.9240e-04],\n",
      "        [9.9703e-01, 2.9697e-03],\n",
      "        [9.9964e-01, 3.6190e-04],\n",
      "        [9.7523e-01, 2.4773e-02],\n",
      "        [9.9939e-01, 6.1130e-04],\n",
      "        [9.9690e-01, 3.1025e-03],\n",
      "        [9.7842e-01, 2.1582e-02],\n",
      "        [9.9701e-01, 2.9878e-03],\n",
      "        [8.8843e-01, 1.1157e-01]])\n"
     ]
    },
    {
     "name": "stderr",
     "output_type": "stream",
     "text": [
      "Predicting:  86%|████████▌ | 184/215 [26:44<04:32,  8.77s/it]"
     ]
    },
    {
     "name": "stdout",
     "output_type": "stream",
     "text": [
      "tensor([[9.9566e-01, 4.3431e-03],\n",
      "        [9.8436e-01, 1.5638e-02],\n",
      "        [9.8188e-01, 1.8116e-02],\n",
      "        [9.9512e-01, 4.8817e-03],\n",
      "        [1.8629e-01, 8.1371e-01],\n",
      "        [9.9613e-01, 3.8749e-03],\n",
      "        [8.3441e-01, 1.6559e-01],\n",
      "        [9.3824e-01, 6.1757e-02],\n",
      "        [7.4139e-01, 2.5861e-01],\n",
      "        [1.1042e-04, 9.9989e-01],\n",
      "        [9.9950e-01, 5.0384e-04],\n",
      "        [9.9983e-01, 1.6719e-04],\n",
      "        [6.7848e-01, 3.2152e-01],\n",
      "        [1.0186e-04, 9.9990e-01],\n",
      "        [9.9965e-01, 3.4987e-04],\n",
      "        [9.9987e-01, 1.2542e-04]])\n"
     ]
    },
    {
     "name": "stderr",
     "output_type": "stream",
     "text": [
      "Predicting:  86%|████████▌ | 185/215 [26:53<04:28,  8.94s/it]"
     ]
    },
    {
     "name": "stdout",
     "output_type": "stream",
     "text": [
      "tensor([[9.9087e-01, 9.1341e-03],\n",
      "        [9.8833e-01, 1.1675e-02],\n",
      "        [1.1389e-03, 9.9886e-01],\n",
      "        [8.0915e-03, 9.9191e-01],\n",
      "        [5.2861e-01, 4.7139e-01],\n",
      "        [7.6720e-01, 2.3280e-01],\n",
      "        [7.7411e-01, 2.2589e-01],\n",
      "        [9.9938e-01, 6.1504e-04],\n",
      "        [2.3624e-02, 9.7638e-01],\n",
      "        [9.9681e-01, 3.1870e-03],\n",
      "        [9.9990e-01, 1.0223e-04],\n",
      "        [9.9718e-01, 2.8235e-03],\n",
      "        [9.9991e-01, 8.5639e-05],\n",
      "        [9.9974e-01, 2.6262e-04],\n",
      "        [8.9267e-01, 1.0733e-01],\n",
      "        [1.6811e-03, 9.9832e-01]])\n"
     ]
    },
    {
     "name": "stderr",
     "output_type": "stream",
     "text": [
      "Predicting:  87%|████████▋ | 186/215 [27:02<04:17,  8.89s/it]"
     ]
    },
    {
     "name": "stdout",
     "output_type": "stream",
     "text": [
      "tensor([[3.7952e-03, 9.9620e-01],\n",
      "        [9.9991e-01, 9.4499e-05],\n",
      "        [9.9996e-01, 4.3419e-05],\n",
      "        [4.4631e-01, 5.5369e-01],\n",
      "        [3.9352e-03, 9.9606e-01],\n",
      "        [9.9388e-01, 6.1196e-03],\n",
      "        [9.9843e-01, 1.5655e-03],\n",
      "        [8.5879e-03, 9.9141e-01],\n",
      "        [6.0843e-01, 3.9157e-01],\n",
      "        [9.7976e-01, 2.0241e-02],\n",
      "        [9.9934e-01, 6.6247e-04],\n",
      "        [3.0408e-01, 6.9592e-01],\n",
      "        [4.3924e-01, 5.6076e-01],\n",
      "        [4.8011e-01, 5.1989e-01],\n",
      "        [9.9818e-01, 1.8215e-03],\n",
      "        [9.6819e-01, 3.1814e-02]])\n"
     ]
    },
    {
     "name": "stderr",
     "output_type": "stream",
     "text": [
      "Predicting:  87%|████████▋ | 187/215 [27:10<04:04,  8.74s/it]"
     ]
    },
    {
     "name": "stdout",
     "output_type": "stream",
     "text": [
      "tensor([[9.9927e-01, 7.3306e-04],\n",
      "        [9.4062e-01, 5.9383e-02],\n",
      "        [9.9913e-01, 8.7258e-04],\n",
      "        [1.9380e-04, 9.9981e-01],\n",
      "        [9.8608e-01, 1.3920e-02],\n",
      "        [9.7326e-01, 2.6744e-02],\n",
      "        [4.2211e-02, 9.5779e-01],\n",
      "        [8.6494e-01, 1.3506e-01],\n",
      "        [9.8660e-01, 1.3405e-02],\n",
      "        [9.7935e-01, 2.0651e-02],\n",
      "        [9.6346e-01, 3.6541e-02],\n",
      "        [8.9225e-01, 1.0775e-01],\n",
      "        [9.9521e-01, 4.7908e-03],\n",
      "        [3.4148e-02, 9.6585e-01],\n",
      "        [1.2928e-04, 9.9987e-01],\n",
      "        [8.3685e-01, 1.6315e-01]])\n"
     ]
    },
    {
     "name": "stderr",
     "output_type": "stream",
     "text": [
      "Predicting:  87%|████████▋ | 188/215 [27:19<03:51,  8.57s/it]"
     ]
    },
    {
     "name": "stdout",
     "output_type": "stream",
     "text": [
      "tensor([[9.9216e-01, 7.8445e-03],\n",
      "        [9.7270e-01, 2.7303e-02],\n",
      "        [9.9816e-01, 1.8356e-03],\n",
      "        [9.9047e-01, 9.5334e-03],\n",
      "        [9.9060e-01, 9.4010e-03],\n",
      "        [3.5624e-01, 6.4376e-01],\n",
      "        [9.9241e-01, 7.5858e-03],\n",
      "        [8.1143e-02, 9.1886e-01],\n",
      "        [9.9812e-01, 1.8756e-03],\n",
      "        [9.9951e-01, 4.8758e-04],\n",
      "        [9.4888e-01, 5.1122e-02],\n",
      "        [8.8352e-02, 9.1165e-01],\n",
      "        [8.9128e-01, 1.0872e-01],\n",
      "        [6.1603e-01, 3.8397e-01],\n",
      "        [9.9680e-01, 3.2043e-03],\n",
      "        [5.0091e-01, 4.9909e-01]])\n"
     ]
    },
    {
     "name": "stderr",
     "output_type": "stream",
     "text": [
      "Predicting:  88%|████████▊ | 189/215 [27:27<03:40,  8.48s/it]"
     ]
    },
    {
     "name": "stdout",
     "output_type": "stream",
     "text": [
      "tensor([[9.5375e-05, 9.9990e-01],\n",
      "        [9.9942e-01, 5.8452e-04],\n",
      "        [9.9972e-01, 2.8026e-04],\n",
      "        [9.6827e-01, 3.1731e-02],\n",
      "        [1.9186e-04, 9.9981e-01],\n",
      "        [8.6595e-01, 1.3405e-01],\n",
      "        [2.7363e-01, 7.2637e-01],\n",
      "        [9.9713e-01, 2.8651e-03],\n",
      "        [8.2914e-01, 1.7086e-01],\n",
      "        [7.3821e-01, 2.6179e-01],\n",
      "        [9.5471e-01, 4.5294e-02],\n",
      "        [9.9670e-01, 3.2956e-03],\n",
      "        [4.8336e-01, 5.1664e-01],\n",
      "        [9.9059e-05, 9.9990e-01],\n",
      "        [9.9985e-01, 1.4775e-04],\n",
      "        [9.9993e-01, 7.0653e-05]])\n"
     ]
    },
    {
     "name": "stderr",
     "output_type": "stream",
     "text": [
      "Predicting:  88%|████████▊ | 190/215 [27:35<03:30,  8.43s/it]"
     ]
    },
    {
     "name": "stdout",
     "output_type": "stream",
     "text": [
      "tensor([[9.8425e-01, 1.5745e-02],\n",
      "        [9.9813e-01, 1.8700e-03],\n",
      "        [2.8263e-02, 9.7174e-01],\n",
      "        [1.2223e-04, 9.9988e-01],\n",
      "        [9.1274e-01, 8.7256e-02],\n",
      "        [9.1437e-02, 9.0856e-01],\n",
      "        [6.1418e-01, 3.8582e-01],\n",
      "        [9.7382e-01, 2.6180e-02],\n",
      "        [8.0417e-01, 1.9583e-01],\n",
      "        [9.6076e-01, 3.9236e-02],\n",
      "        [3.7271e-01, 6.2729e-01],\n",
      "        [5.6186e-01, 4.3814e-01],\n",
      "        [8.6268e-01, 1.3732e-01],\n",
      "        [4.6004e-02, 9.5400e-01],\n",
      "        [9.7597e-01, 2.4030e-02],\n",
      "        [9.8566e-01, 1.4336e-02]])\n"
     ]
    },
    {
     "name": "stderr",
     "output_type": "stream",
     "text": [
      "Predicting:  89%|████████▉ | 191/215 [27:44<03:24,  8.52s/it]"
     ]
    },
    {
     "name": "stdout",
     "output_type": "stream",
     "text": [
      "tensor([[1.1073e-04, 9.9989e-01],\n",
      "        [7.4300e-04, 9.9926e-01],\n",
      "        [6.0545e-02, 9.3945e-01],\n",
      "        [9.9807e-01, 1.9266e-03],\n",
      "        [9.9883e-01, 1.1681e-03],\n",
      "        [9.1099e-01, 8.9014e-02],\n",
      "        [2.7020e-04, 9.9973e-01],\n",
      "        [9.6826e-01, 3.1735e-02],\n",
      "        [9.9914e-01, 8.5910e-04],\n",
      "        [9.9948e-01, 5.2063e-04],\n",
      "        [7.4787e-01, 2.5213e-01],\n",
      "        [1.2736e-04, 9.9987e-01],\n",
      "        [9.9396e-01, 6.0359e-03],\n",
      "        [9.7497e-01, 2.5028e-02],\n",
      "        [8.2663e-01, 1.7337e-01],\n",
      "        [3.8444e-03, 9.9616e-01]])\n"
     ]
    },
    {
     "name": "stderr",
     "output_type": "stream",
     "text": [
      "Predicting:  89%|████████▉ | 192/215 [27:52<03:15,  8.52s/it]"
     ]
    },
    {
     "name": "stdout",
     "output_type": "stream",
     "text": [
      "tensor([[3.3173e-01, 6.6827e-01],\n",
      "        [9.8539e-01, 1.4605e-02],\n",
      "        [7.9379e-01, 2.0621e-01],\n",
      "        [3.8220e-02, 9.6178e-01],\n",
      "        [7.9630e-01, 2.0370e-01],\n",
      "        [9.9240e-01, 7.5998e-03],\n",
      "        [9.6671e-01, 3.3290e-02],\n",
      "        [6.7579e-03, 9.9324e-01],\n",
      "        [2.5559e-01, 7.4441e-01],\n",
      "        [7.3805e-02, 9.2619e-01],\n",
      "        [9.9328e-01, 6.7231e-03],\n",
      "        [9.9933e-01, 6.6909e-04],\n",
      "        [3.0685e-01, 6.9315e-01],\n",
      "        [1.2785e-04, 9.9987e-01],\n",
      "        [6.3285e-01, 3.6715e-01],\n",
      "        [9.7334e-01, 2.6664e-02]])\n"
     ]
    },
    {
     "name": "stderr",
     "output_type": "stream",
     "text": [
      "Predicting:  90%|████████▉ | 193/215 [28:01<03:05,  8.42s/it]"
     ]
    },
    {
     "name": "stdout",
     "output_type": "stream",
     "text": [
      "tensor([[0.3284, 0.6716],\n",
      "        [0.8306, 0.1694],\n",
      "        [0.0074, 0.9926],\n",
      "        [0.9804, 0.0196],\n",
      "        [0.7657, 0.2343],\n",
      "        [0.5773, 0.4227],\n",
      "        [0.8982, 0.1018],\n",
      "        [0.9575, 0.0425],\n",
      "        [0.6241, 0.3759],\n",
      "        [0.4650, 0.5350],\n",
      "        [0.8937, 0.1063],\n",
      "        [0.6340, 0.3660],\n",
      "        [0.8016, 0.1984],\n",
      "        [0.5513, 0.4487],\n",
      "        [0.8945, 0.1055],\n",
      "        [0.5892, 0.4108]])\n"
     ]
    },
    {
     "name": "stderr",
     "output_type": "stream",
     "text": [
      "Predicting:  90%|█████████ | 194/215 [28:09<02:55,  8.34s/it]"
     ]
    },
    {
     "name": "stdout",
     "output_type": "stream",
     "text": [
      "tensor([[5.1424e-01, 4.8576e-01],\n",
      "        [9.8760e-01, 1.2401e-02],\n",
      "        [9.5740e-01, 4.2599e-02],\n",
      "        [7.9993e-01, 2.0007e-01],\n",
      "        [9.9267e-01, 7.3325e-03],\n",
      "        [9.2215e-01, 7.7850e-02],\n",
      "        [8.4733e-01, 1.5267e-01],\n",
      "        [9.7262e-01, 2.7383e-02],\n",
      "        [8.7844e-01, 1.2156e-01],\n",
      "        [9.5906e-01, 4.0938e-02],\n",
      "        [5.2074e-04, 9.9948e-01],\n",
      "        [7.0732e-01, 2.9268e-01],\n",
      "        [1.0212e-01, 8.9788e-01],\n",
      "        [8.8945e-01, 1.1055e-01],\n",
      "        [8.4955e-01, 1.5045e-01],\n",
      "        [9.7388e-01, 2.6117e-02]])\n"
     ]
    },
    {
     "name": "stderr",
     "output_type": "stream",
     "text": [
      "Predicting:  91%|█████████ | 195/215 [28:17<02:49,  8.48s/it]"
     ]
    },
    {
     "name": "stdout",
     "output_type": "stream",
     "text": [
      "tensor([[8.7338e-01, 1.2662e-01],\n",
      "        [9.9340e-01, 6.5989e-03],\n",
      "        [1.1508e-01, 8.8492e-01],\n",
      "        [9.6384e-01, 3.6156e-02],\n",
      "        [5.5858e-01, 4.4142e-01],\n",
      "        [9.2292e-05, 9.9991e-01],\n",
      "        [9.9923e-01, 7.7106e-04],\n",
      "        [9.9971e-01, 2.8851e-04],\n",
      "        [9.9817e-01, 1.8338e-03],\n",
      "        [9.8897e-01, 1.1033e-02],\n",
      "        [9.9176e-01, 8.2399e-03],\n",
      "        [9.8619e-01, 1.3811e-02],\n",
      "        [9.9922e-01, 7.7754e-04],\n",
      "        [9.9809e-01, 1.9093e-03],\n",
      "        [8.7956e-01, 1.2044e-01],\n",
      "        [8.9401e-01, 1.0599e-01]])\n"
     ]
    },
    {
     "name": "stderr",
     "output_type": "stream",
     "text": [
      "Predicting:  91%|█████████ | 196/215 [28:26<02:41,  8.49s/it]"
     ]
    },
    {
     "name": "stdout",
     "output_type": "stream",
     "text": [
      "tensor([[9.6336e-01, 3.6641e-02],\n",
      "        [2.9695e-01, 7.0305e-01],\n",
      "        [1.6136e-04, 9.9984e-01],\n",
      "        [4.7562e-01, 5.2438e-01],\n",
      "        [8.9352e-01, 1.0648e-01],\n",
      "        [3.3579e-01, 6.6421e-01],\n",
      "        [9.4298e-01, 5.7019e-02],\n",
      "        [6.3365e-01, 3.6635e-01],\n",
      "        [9.7777e-01, 2.2228e-02],\n",
      "        [8.1682e-01, 1.8318e-01],\n",
      "        [7.3432e-01, 2.6568e-01],\n",
      "        [7.2456e-01, 2.7544e-01],\n",
      "        [9.9824e-01, 1.7558e-03],\n",
      "        [9.3245e-01, 6.7554e-02],\n",
      "        [1.0379e-01, 8.9621e-01],\n",
      "        [9.8638e-01, 1.3623e-02]])\n"
     ]
    },
    {
     "name": "stderr",
     "output_type": "stream",
     "text": [
      "Predicting:  92%|█████████▏| 197/215 [28:34<02:32,  8.45s/it]"
     ]
    },
    {
     "name": "stdout",
     "output_type": "stream",
     "text": [
      "tensor([[7.9922e-01, 2.0078e-01],\n",
      "        [6.4845e-01, 3.5155e-01],\n",
      "        [5.1160e-01, 4.8840e-01],\n",
      "        [6.5886e-01, 3.4114e-01],\n",
      "        [2.1154e-01, 7.8846e-01],\n",
      "        [2.5217e-01, 7.4783e-01],\n",
      "        [9.9626e-01, 3.7397e-03],\n",
      "        [9.6031e-01, 3.9692e-02],\n",
      "        [9.8383e-01, 1.6169e-02],\n",
      "        [9.9642e-01, 3.5807e-03],\n",
      "        [9.9830e-01, 1.7039e-03],\n",
      "        [9.9966e-01, 3.4418e-04],\n",
      "        [4.9648e-01, 5.0352e-01],\n",
      "        [1.1381e-04, 9.9989e-01],\n",
      "        [9.8742e-01, 1.2576e-02],\n",
      "        [9.9105e-01, 8.9511e-03]])\n"
     ]
    },
    {
     "name": "stderr",
     "output_type": "stream",
     "text": [
      "Predicting:  92%|█████████▏| 198/215 [28:43<02:22,  8.40s/it]"
     ]
    },
    {
     "name": "stdout",
     "output_type": "stream",
     "text": [
      "tensor([[9.7852e-01, 2.1481e-02],\n",
      "        [4.6640e-02, 9.5336e-01],\n",
      "        [9.8822e-01, 1.1776e-02],\n",
      "        [8.5299e-01, 1.4701e-01],\n",
      "        [9.9133e-01, 8.6710e-03],\n",
      "        [9.0150e-01, 9.8502e-02],\n",
      "        [5.9253e-01, 4.0747e-01],\n",
      "        [4.9214e-01, 5.0786e-01],\n",
      "        [5.3087e-01, 4.6913e-01],\n",
      "        [8.5749e-01, 1.4251e-01],\n",
      "        [3.1772e-04, 9.9968e-01],\n",
      "        [7.0221e-01, 2.9779e-01],\n",
      "        [2.3828e-01, 7.6172e-01],\n",
      "        [4.9069e-02, 9.5093e-01],\n",
      "        [2.7689e-01, 7.2311e-01],\n",
      "        [9.9726e-01, 2.7360e-03]])\n"
     ]
    },
    {
     "name": "stderr",
     "output_type": "stream",
     "text": [
      "Predicting:  93%|█████████▎| 199/215 [28:51<02:15,  8.44s/it]"
     ]
    },
    {
     "name": "stdout",
     "output_type": "stream",
     "text": [
      "tensor([[9.8192e-01, 1.8078e-02],\n",
      "        [9.6393e-01, 3.6073e-02],\n",
      "        [7.8800e-01, 2.1200e-01],\n",
      "        [9.9944e-01, 5.5696e-04],\n",
      "        [2.6403e-01, 7.3597e-01],\n",
      "        [9.6304e-01, 3.6961e-02],\n",
      "        [9.9855e-01, 1.4515e-03],\n",
      "        [6.9438e-02, 9.3056e-01],\n",
      "        [9.9992e-01, 8.2946e-05],\n",
      "        [9.9996e-01, 4.2494e-05],\n",
      "        [6.2324e-03, 9.9377e-01],\n",
      "        [9.9962e-01, 3.8059e-04],\n",
      "        [9.9982e-01, 1.8315e-04],\n",
      "        [9.9913e-01, 8.6588e-04],\n",
      "        [9.9884e-01, 1.1590e-03],\n",
      "        [9.9952e-01, 4.7900e-04]])\n"
     ]
    },
    {
     "name": "stderr",
     "output_type": "stream",
     "text": [
      "Predicting:  93%|█████████▎| 200/215 [28:59<02:05,  8.40s/it]"
     ]
    },
    {
     "name": "stdout",
     "output_type": "stream",
     "text": [
      "tensor([[0.9958, 0.0042],\n",
      "        [0.9873, 0.0127],\n",
      "        [0.9900, 0.0100],\n",
      "        [0.9979, 0.0021],\n",
      "        [0.9974, 0.0026],\n",
      "        [0.9506, 0.0494],\n",
      "        [0.9643, 0.0357],\n",
      "        [0.9772, 0.0228],\n",
      "        [0.9753, 0.0247],\n",
      "        [0.6162, 0.3838],\n",
      "        [0.7948, 0.2052],\n",
      "        [0.9229, 0.0771],\n",
      "        [0.6340, 0.3660],\n",
      "        [0.9806, 0.0194],\n",
      "        [0.9584, 0.0416],\n",
      "        [0.9462, 0.0538]])\n"
     ]
    },
    {
     "name": "stderr",
     "output_type": "stream",
     "text": [
      "Predicting:  93%|█████████▎| 201/215 [29:08<01:57,  8.38s/it]"
     ]
    },
    {
     "name": "stdout",
     "output_type": "stream",
     "text": [
      "tensor([[1.7800e-01, 8.2200e-01],\n",
      "        [9.8741e-01, 1.2595e-02],\n",
      "        [4.0672e-04, 9.9959e-01],\n",
      "        [9.9729e-01, 2.7103e-03],\n",
      "        [9.9120e-01, 8.8048e-03],\n",
      "        [8.1128e-01, 1.8872e-01],\n",
      "        [9.9447e-01, 5.5315e-03],\n",
      "        [9.4461e-01, 5.5386e-02],\n",
      "        [9.1692e-01, 8.3075e-02],\n",
      "        [9.9759e-01, 2.4119e-03],\n",
      "        [9.9824e-01, 1.7585e-03],\n",
      "        [9.9977e-01, 2.3386e-04],\n",
      "        [9.9928e-01, 7.2499e-04],\n",
      "        [9.9944e-01, 5.5590e-04],\n",
      "        [9.9972e-01, 2.7578e-04],\n",
      "        [9.9932e-01, 6.8136e-04]])\n"
     ]
    },
    {
     "name": "stderr",
     "output_type": "stream",
     "text": [
      "Predicting:  94%|█████████▍| 202/215 [29:16<01:49,  8.43s/it]"
     ]
    },
    {
     "name": "stdout",
     "output_type": "stream",
     "text": [
      "tensor([[7.8167e-01, 2.1833e-01],\n",
      "        [9.8563e-01, 1.4370e-02],\n",
      "        [9.9910e-01, 8.9896e-04],\n",
      "        [8.3843e-01, 1.6157e-01],\n",
      "        [2.4817e-02, 9.7518e-01],\n",
      "        [9.9244e-01, 7.5625e-03],\n",
      "        [2.7284e-04, 9.9973e-01],\n",
      "        [1.5121e-04, 9.9985e-01],\n",
      "        [3.5084e-01, 6.4916e-01],\n",
      "        [9.8459e-01, 1.5407e-02],\n",
      "        [1.5709e-01, 8.4291e-01],\n",
      "        [8.0211e-01, 1.9789e-01],\n",
      "        [3.6759e-02, 9.6324e-01],\n",
      "        [9.9266e-01, 7.3397e-03],\n",
      "        [4.9615e-02, 9.5038e-01],\n",
      "        [6.1698e-03, 9.9383e-01]])\n"
     ]
    },
    {
     "name": "stderr",
     "output_type": "stream",
     "text": [
      "Predicting:  94%|█████████▍| 203/215 [29:25<01:42,  8.55s/it]"
     ]
    },
    {
     "name": "stdout",
     "output_type": "stream",
     "text": [
      "tensor([[7.7183e-01, 2.2817e-01],\n",
      "        [8.8052e-01, 1.1948e-01],\n",
      "        [8.1350e-01, 1.8650e-01],\n",
      "        [7.5963e-01, 2.4037e-01],\n",
      "        [8.6539e-01, 1.3461e-01],\n",
      "        [7.7221e-01, 2.2779e-01],\n",
      "        [9.9960e-01, 4.0439e-04],\n",
      "        [9.9848e-01, 1.5215e-03],\n",
      "        [9.9988e-01, 1.1617e-04],\n",
      "        [8.2244e-02, 9.1776e-01],\n",
      "        [9.8824e-01, 1.1761e-02],\n",
      "        [9.9732e-01, 2.6812e-03],\n",
      "        [9.3108e-01, 6.8922e-02],\n",
      "        [8.8650e-01, 1.1350e-01],\n",
      "        [7.3827e-01, 2.6173e-01],\n",
      "        [7.2876e-01, 2.7124e-01]])\n"
     ]
    },
    {
     "name": "stderr",
     "output_type": "stream",
     "text": [
      "Predicting:  95%|█████████▍| 204/215 [29:33<01:32,  8.45s/it]"
     ]
    },
    {
     "name": "stdout",
     "output_type": "stream",
     "text": [
      "tensor([[0.9256, 0.0744],\n",
      "        [0.9580, 0.0420],\n",
      "        [0.0091, 0.9909],\n",
      "        [0.9974, 0.0026],\n",
      "        [0.8994, 0.1006],\n",
      "        [0.9938, 0.0062],\n",
      "        [0.8774, 0.1226],\n",
      "        [0.9976, 0.0024],\n",
      "        [0.8664, 0.1336],\n",
      "        [0.9986, 0.0014],\n",
      "        [0.0020, 0.9980],\n",
      "        [0.9977, 0.0023],\n",
      "        [0.3264, 0.6736],\n",
      "        [0.6646, 0.3354],\n",
      "        [0.5548, 0.4452],\n",
      "        [0.9952, 0.0048]])\n"
     ]
    },
    {
     "name": "stderr",
     "output_type": "stream",
     "text": [
      "Predicting:  95%|█████████▌| 205/215 [29:42<01:24,  8.43s/it]"
     ]
    },
    {
     "name": "stdout",
     "output_type": "stream",
     "text": [
      "tensor([[9.2896e-01, 7.1037e-02],\n",
      "        [2.1511e-01, 7.8489e-01],\n",
      "        [2.4411e-01, 7.5589e-01],\n",
      "        [8.3940e-01, 1.6060e-01],\n",
      "        [9.8240e-01, 1.7603e-02],\n",
      "        [9.9835e-01, 1.6464e-03],\n",
      "        [1.6517e-04, 9.9983e-01],\n",
      "        [8.2821e-02, 9.1718e-01],\n",
      "        [9.5541e-03, 9.9045e-01],\n",
      "        [9.9528e-01, 4.7182e-03],\n",
      "        [9.9938e-01, 6.2219e-04],\n",
      "        [2.9399e-01, 7.0601e-01],\n",
      "        [1.0103e-04, 9.9990e-01],\n",
      "        [1.5098e-01, 8.4902e-01],\n",
      "        [9.9682e-01, 3.1778e-03],\n",
      "        [9.6646e-01, 3.3536e-02]])\n"
     ]
    },
    {
     "name": "stderr",
     "output_type": "stream",
     "text": [
      "Predicting:  96%|█████████▌| 206/215 [29:50<01:15,  8.40s/it]"
     ]
    },
    {
     "name": "stdout",
     "output_type": "stream",
     "text": [
      "tensor([[1.5385e-01, 8.4615e-01],\n",
      "        [8.2926e-01, 1.7074e-01],\n",
      "        [5.6719e-04, 9.9943e-01],\n",
      "        [3.4869e-01, 6.5131e-01],\n",
      "        [9.0049e-01, 9.9511e-02],\n",
      "        [8.1215e-01, 1.8785e-01],\n",
      "        [7.6705e-01, 2.3295e-01],\n",
      "        [9.5683e-01, 4.3174e-02],\n",
      "        [9.9706e-01, 2.9392e-03],\n",
      "        [9.9862e-01, 1.3753e-03],\n",
      "        [9.9618e-01, 3.8230e-03],\n",
      "        [3.9738e-01, 6.0262e-01],\n",
      "        [3.3786e-01, 6.6214e-01],\n",
      "        [9.6821e-05, 9.9990e-01],\n",
      "        [9.9859e-01, 1.4104e-03],\n",
      "        [9.9990e-01, 1.0285e-04]])\n"
     ]
    },
    {
     "name": "stderr",
     "output_type": "stream",
     "text": [
      "Predicting:  96%|█████████▋| 207/215 [29:58<01:06,  8.35s/it]"
     ]
    },
    {
     "name": "stdout",
     "output_type": "stream",
     "text": [
      "tensor([[3.9255e-01, 6.0745e-01],\n",
      "        [1.0424e-04, 9.9990e-01],\n",
      "        [9.9463e-01, 5.3730e-03],\n",
      "        [9.9986e-01, 1.4198e-04],\n",
      "        [9.9352e-01, 6.4822e-03],\n",
      "        [9.9944e-01, 5.6262e-04],\n",
      "        [7.5684e-03, 9.9243e-01],\n",
      "        [9.7790e-01, 2.2097e-02],\n",
      "        [2.6888e-02, 9.7311e-01],\n",
      "        [1.0250e-03, 9.9897e-01],\n",
      "        [9.9582e-01, 4.1848e-03],\n",
      "        [6.3568e-02, 9.3643e-01],\n",
      "        [7.3904e-02, 9.2610e-01],\n",
      "        [9.5804e-03, 9.9042e-01],\n",
      "        [2.6189e-02, 9.7381e-01],\n",
      "        [1.1013e-01, 8.8987e-01]])\n"
     ]
    },
    {
     "name": "stderr",
     "output_type": "stream",
     "text": [
      "Predicting:  97%|█████████▋| 208/215 [30:07<00:58,  8.38s/it]"
     ]
    },
    {
     "name": "stdout",
     "output_type": "stream",
     "text": [
      "tensor([[9.2236e-01, 7.7638e-02],\n",
      "        [4.2912e-01, 5.7088e-01],\n",
      "        [6.8690e-01, 3.1310e-01],\n",
      "        [2.3057e-02, 9.7694e-01],\n",
      "        [1.3055e-04, 9.9987e-01],\n",
      "        [9.9779e-01, 2.2083e-03],\n",
      "        [1.2670e-01, 8.7330e-01],\n",
      "        [9.4834e-01, 5.1661e-02],\n",
      "        [9.8407e-01, 1.5929e-02],\n",
      "        [9.9940e-01, 6.0465e-04],\n",
      "        [9.9293e-01, 7.0746e-03],\n",
      "        [9.9652e-01, 3.4842e-03],\n",
      "        [6.5220e-01, 3.4780e-01],\n",
      "        [9.9892e-01, 1.0771e-03],\n",
      "        [5.1748e-01, 4.8252e-01],\n",
      "        [7.4030e-01, 2.5970e-01]])\n"
     ]
    },
    {
     "name": "stderr",
     "output_type": "stream",
     "text": [
      "Predicting:  97%|█████████▋| 209/215 [30:15<00:50,  8.36s/it]"
     ]
    },
    {
     "name": "stdout",
     "output_type": "stream",
     "text": [
      "tensor([[1.4328e-01, 8.5672e-01],\n",
      "        [9.9840e-01, 1.5973e-03],\n",
      "        [9.8281e-01, 1.7188e-02],\n",
      "        [9.9382e-01, 6.1782e-03],\n",
      "        [9.9436e-01, 5.6447e-03],\n",
      "        [9.8864e-01, 1.1358e-02],\n",
      "        [9.9848e-01, 1.5221e-03],\n",
      "        [2.5233e-01, 7.4767e-01],\n",
      "        [5.1164e-01, 4.8836e-01],\n",
      "        [9.9955e-01, 4.4762e-04],\n",
      "        [9.9979e-01, 2.1197e-04],\n",
      "        [6.0532e-01, 3.9468e-01],\n",
      "        [4.7801e-03, 9.9522e-01],\n",
      "        [6.9883e-01, 3.0117e-01],\n",
      "        [2.3207e-01, 7.6793e-01],\n",
      "        [2.0709e-04, 9.9979e-01]])\n"
     ]
    },
    {
     "name": "stderr",
     "output_type": "stream",
     "text": [
      "Predicting:  98%|█████████▊| 210/215 [30:23<00:41,  8.35s/it]"
     ]
    },
    {
     "name": "stdout",
     "output_type": "stream",
     "text": [
      "tensor([[9.9973e-01, 2.7441e-04],\n",
      "        [9.9992e-01, 8.3934e-05],\n",
      "        [7.0239e-01, 2.9761e-01],\n",
      "        [9.1276e-01, 8.7239e-02],\n",
      "        [5.4141e-02, 9.4586e-01],\n",
      "        [1.1969e-03, 9.9880e-01],\n",
      "        [2.1940e-01, 7.8060e-01],\n",
      "        [1.1430e-04, 9.9989e-01],\n",
      "        [9.9670e-01, 3.3039e-03],\n",
      "        [9.9652e-01, 3.4764e-03],\n",
      "        [9.9971e-01, 2.8681e-04],\n",
      "        [9.9784e-01, 2.1628e-03],\n",
      "        [9.9975e-01, 2.5353e-04],\n",
      "        [9.6449e-01, 3.5515e-02],\n",
      "        [9.9950e-01, 5.0372e-04],\n",
      "        [5.7895e-01, 4.2105e-01]])\n"
     ]
    },
    {
     "name": "stderr",
     "output_type": "stream",
     "text": [
      "Predicting:  98%|█████████▊| 211/215 [30:32<00:33,  8.38s/it]"
     ]
    },
    {
     "name": "stdout",
     "output_type": "stream",
     "text": [
      "tensor([[9.1957e-05, 9.9991e-01],\n",
      "        [3.8387e-02, 9.6161e-01],\n",
      "        [8.0853e-04, 9.9919e-01],\n",
      "        [4.7805e-01, 5.2195e-01],\n",
      "        [2.8306e-01, 7.1694e-01],\n",
      "        [8.6975e-01, 1.3025e-01],\n",
      "        [2.4793e-01, 7.5207e-01],\n",
      "        [4.4047e-01, 5.5953e-01],\n",
      "        [9.6239e-01, 3.7610e-02],\n",
      "        [9.8055e-01, 1.9450e-02],\n",
      "        [8.3275e-01, 1.6725e-01],\n",
      "        [1.1137e-04, 9.9989e-01],\n",
      "        [9.9971e-01, 2.9328e-04],\n",
      "        [9.9991e-01, 8.8009e-05],\n",
      "        [9.6779e-01, 3.2208e-02],\n",
      "        [9.7403e-01, 2.5974e-02]])\n"
     ]
    },
    {
     "name": "stderr",
     "output_type": "stream",
     "text": [
      "Predicting:  99%|█████████▊| 212/215 [30:40<00:25,  8.37s/it]"
     ]
    },
    {
     "name": "stdout",
     "output_type": "stream",
     "text": [
      "tensor([[1.4524e-01, 8.5476e-01],\n",
      "        [1.0619e-02, 9.8938e-01],\n",
      "        [1.3408e-01, 8.6592e-01],\n",
      "        [9.3522e-01, 6.4777e-02],\n",
      "        [4.7307e-01, 5.2693e-01],\n",
      "        [6.0429e-02, 9.3957e-01],\n",
      "        [3.8962e-01, 6.1038e-01],\n",
      "        [9.1974e-05, 9.9991e-01],\n",
      "        [7.8627e-04, 9.9921e-01],\n",
      "        [9.7830e-01, 2.1699e-02],\n",
      "        [5.8624e-01, 4.1376e-01],\n",
      "        [8.8021e-01, 1.1979e-01],\n",
      "        [9.9616e-01, 3.8391e-03],\n",
      "        [1.1911e-01, 8.8089e-01],\n",
      "        [4.6582e-01, 5.3418e-01],\n",
      "        [8.9899e-03, 9.9101e-01]])\n"
     ]
    },
    {
     "name": "stderr",
     "output_type": "stream",
     "text": [
      "Predicting:  99%|█████████▉| 213/215 [30:49<00:16,  8.43s/it]"
     ]
    },
    {
     "name": "stdout",
     "output_type": "stream",
     "text": [
      "tensor([[2.6431e-04, 9.9974e-01],\n",
      "        [1.9602e-04, 9.9980e-01],\n",
      "        [6.1879e-01, 3.8121e-01],\n",
      "        [9.9773e-01, 2.2734e-03],\n",
      "        [9.4752e-01, 5.2483e-02],\n",
      "        [1.9436e-01, 8.0564e-01],\n",
      "        [1.0774e-01, 8.9226e-01],\n",
      "        [9.8363e-01, 1.6374e-02],\n",
      "        [8.4544e-01, 1.5456e-01],\n",
      "        [7.7038e-01, 2.2962e-01],\n",
      "        [9.9126e-01, 8.7363e-03],\n",
      "        [8.3547e-01, 1.6453e-01],\n",
      "        [8.1612e-01, 1.8388e-01],\n",
      "        [9.8382e-01, 1.6185e-02],\n",
      "        [9.9318e-01, 6.8216e-03],\n",
      "        [9.8075e-01, 1.9249e-02]])\n"
     ]
    },
    {
     "name": "stderr",
     "output_type": "stream",
     "text": [
      "Predicting: 100%|█████████▉| 214/215 [30:58<00:08,  8.51s/it]"
     ]
    },
    {
     "name": "stdout",
     "output_type": "stream",
     "text": [
      "tensor([[6.1331e-04, 9.9939e-01],\n",
      "        [9.2636e-01, 7.3641e-02],\n",
      "        [8.1997e-01, 1.8003e-01],\n",
      "        [9.4873e-01, 5.1266e-02],\n",
      "        [8.4854e-01, 1.5146e-01],\n",
      "        [9.9468e-01, 5.3219e-03],\n",
      "        [9.5679e-01, 4.3208e-02],\n",
      "        [6.1372e-01, 3.8628e-01],\n",
      "        [9.5266e-01, 4.7338e-02],\n",
      "        [5.7470e-01, 4.2530e-01],\n",
      "        [8.0666e-01, 1.9334e-01],\n",
      "        [3.5936e-01, 6.4064e-01],\n",
      "        [7.4850e-01, 2.5150e-01],\n",
      "        [5.5690e-01, 4.4310e-01],\n",
      "        [9.8293e-01, 1.7073e-02],\n",
      "        [1.6950e-02, 9.8305e-01]])\n"
     ]
    },
    {
     "name": "stderr",
     "output_type": "stream",
     "text": [
      "Predicting: 100%|██████████| 215/215 [30:59<00:00,  8.65s/it]"
     ]
    },
    {
     "name": "stdout",
     "output_type": "stream",
     "text": [
      "tensor([[9.9872e-01, 1.2806e-03],\n",
      "        [9.9987e-01, 1.3329e-04]])\n",
      "[0, 0, 1, 1, 1, 0, 0, 0, 0, 1, 0, 1, 0, 0, 1, 0, 1, 0, 0, 1, 1, 0, 1, 0, 0, 1, 1, 0, 0, 1, 1, 0, 0, 1, 0, 1, 0, 0, 0, 0, 0, 0, 0, 0, 0, 0, 0, 0, 1, 0, 0, 1, 0, 0, 1, 0, 0, 0, 0, 0, 1, 1, 0, 0, 0, 0, 0, 1, 0, 1, 0, 0, 0, 0, 0, 1, 1, 1, 0, 0, 0, 1, 0, 1, 0, 1, 1, 1, 1, 1, 1, 0, 0, 0, 0, 1, 0, 1, 1, 0, 0, 0, 1, 1, 0, 0, 0, 0, 0, 0, 0, 0, 1, 0, 1, 1, 0, 1, 1, 0, 0, 0, 0, 0, 0, 1, 0, 1, 0, 1, 1, 0, 1, 0, 1, 0, 1, 0, 1, 1, 0, 0, 0, 0, 0, 1, 0, 1, 0, 0, 1, 0, 0, 0, 0, 1, 1, 1, 0, 0, 0, 1, 0, 0, 1, 0, 0, 0, 0, 1, 0, 1, 1, 0, 1, 0, 0, 0, 1, 0, 0, 1, 0, 1, 0, 1, 1, 1, 1, 1, 1, 1, 0, 0, 0, 0, 0, 1, 0, 0, 0, 0, 1, 0, 0, 0, 1, 0, 0, 0, 1, 1, 0, 0, 0, 1, 1, 0, 0, 0, 0, 1, 1, 0, 0, 1, 0, 0, 0, 1, 0, 0, 0, 0, 0, 0, 0, 0, 1, 0, 1, 1, 0, 1, 1, 0, 0, 1, 1, 1, 1, 1, 1, 1, 1, 0, 0, 1, 1, 1, 1, 0, 0, 0, 0, 0, 0, 0, 1, 0, 0, 1, 1, 1, 1, 1, 0, 0, 0, 0, 1, 0, 0, 1, 0, 0, 1, 0, 0, 0, 0, 0, 0, 0, 1, 0, 0, 0, 0, 0, 0, 0, 1, 0, 0, 0, 0, 0, 1, 0, 0, 0, 0, 0, 0, 0, 0, 1, 0, 1, 0, 0, 0, 0, 0, 0, 0, 0, 1, 0, 0, 0, 0, 1, 0, 0, 1, 0, 1, 0, 1, 0, 0, 1, 0, 0, 1, 1, 0, 0, 0, 1, 0, 1, 0, 0, 0, 0, 0, 0, 0, 0, 1, 1, 1, 0, 1, 0, 0, 0, 0, 0, 0, 0, 0, 1, 0, 1, 0, 0, 0, 0, 0, 0, 0, 0, 0, 0, 0, 0, 0, 0, 1, 0, 0, 0, 1, 0, 0, 0, 1, 0, 0, 1, 0, 0, 0, 0, 0, 0, 0, 0, 1, 0, 0, 0, 0, 0, 0, 0, 0, 0, 0, 0, 1, 0, 1, 0, 0, 1, 0, 1, 0, 0, 0, 0, 0, 1, 0, 0, 0, 0, 0, 1, 1, 0, 0, 1, 1, 0, 0, 0, 0, 0, 1, 0, 0, 0, 0, 0, 0, 0, 0, 0, 0, 1, 0, 0, 0, 1, 1, 0, 0, 0, 0, 0, 0, 0, 0, 0, 0, 0, 0, 0, 1, 0, 0, 0, 0, 0, 1, 0, 1, 1, 0, 0, 0, 0, 0, 0, 0, 0, 1, 1, 0, 1, 0, 0, 0, 0, 0, 1, 0, 1, 0, 0, 0, 0, 0, 0, 0, 1, 0, 0, 0, 1, 0, 0, 1, 0, 1, 0, 0, 0, 0, 1, 0, 0, 1, 0, 0, 0, 0, 0, 0, 0, 0, 0, 1, 0, 1, 0, 0, 0, 0, 0, 0, 0, 1, 0, 0, 1, 0, 1, 0, 0, 0, 0, 0, 1, 1, 1, 0, 0, 1, 1, 0, 0, 1, 1, 1, 0, 0, 0, 0, 0, 0, 1, 0, 0, 0, 0, 0, 0, 0, 1, 1, 0, 1, 0, 0, 1, 1, 0, 0, 1, 0, 1, 1, 1, 0, 0, 1, 1, 0, 0, 0, 0, 1, 0, 0, 0, 0, 0, 0, 0, 0, 1, 0, 1, 0, 0, 0, 0, 0, 0, 0, 1, 0, 0, 0, 0, 1, 1, 1, 0, 0, 0, 0, 0, 0, 0, 0, 0, 0, 0, 0, 0, 0, 0, 0, 0, 0, 0, 1, 0, 0, 0, 0, 0, 0, 0, 0, 0, 1, 0, 0, 0, 0, 0, 0, 1, 0, 1, 1, 0, 1, 0, 0, 0, 1, 1, 0, 0, 0, 0, 0, 0, 0, 1, 1, 1, 1, 1, 1, 0, 0, 0, 0, 0, 1, 1, 1, 0, 0, 1, 0, 0, 1, 0, 0, 1, 1, 0, 0, 0, 1, 1, 0, 0, 0, 0, 1, 0, 1, 0, 0, 0, 0, 0, 0, 0, 0, 0, 0, 1, 0, 0, 1, 0, 0, 0, 0, 0, 0, 0, 0, 1, 0, 0, 0, 1, 0, 0, 0, 0, 0, 1, 0, 1, 1, 0, 0, 1, 0, 1, 0, 0, 1, 0, 0, 0, 0, 0, 0, 0, 0, 0, 0, 0, 1, 0, 0, 0, 1, 0, 0, 1, 0, 0, 0, 1, 0, 0, 0, 1, 0, 0, 0, 0, 1, 0, 0, 1, 0, 0, 0, 0, 1, 0, 0, 0, 1, 1, 1, 0, 1, 1, 0, 0, 1, 0, 1, 1, 0, 0, 0, 0, 0, 1, 0, 1, 1, 0, 1, 1, 0, 1, 0, 0, 1, 0, 0, 1, 1, 0, 0, 0, 1, 1, 0, 0, 0, 1, 0, 1, 0, 0, 0, 0, 0, 0, 0, 0, 1, 1, 0, 0, 0, 0, 0, 0, 1, 1, 1, 1, 0, 0, 0, 0, 1, 0, 0, 0, 0, 0, 0, 0, 0, 0, 0, 1, 0, 0, 0, 0, 0, 0, 0, 1, 0, 0, 1, 0, 0, 0, 1, 1, 0, 0, 0, 0, 0, 0, 0, 0, 0, 0, 0, 0, 0, 1, 0, 0, 0, 1, 1, 0, 0, 0, 0, 0, 0, 0, 0, 0, 0, 0, 0, 0, 0, 0, 0, 0, 0, 1, 0, 0, 0, 1, 1, 1, 1, 1, 1, 0, 0, 0, 0, 0, 0, 1, 1, 1, 1, 0, 0, 1, 0, 0, 0, 1, 0, 0, 1, 0, 0, 0, 1, 0, 1, 0, 1, 0, 0, 1, 0, 0, 1, 0, 0, 0, 1, 0, 0, 0, 1, 0, 0, 0, 1, 1, 0, 0, 1, 1, 1, 0, 1, 0, 1, 0, 1, 0, 0, 0, 1, 0, 0, 0, 0, 1, 0, 0, 0, 0, 1, 0, 0, 1, 0, 1, 1, 0, 0, 0, 1, 0, 0, 1, 0, 0, 0, 1, 0, 0, 1, 1, 0, 1, 1, 1, 0, 1, 0, 0, 1, 0, 1, 1, 1, 0, 1, 1, 0, 0, 1, 1, 0, 1, 0, 0, 0, 0, 0, 0, 1, 0, 0, 0, 0, 0, 0, 0, 0, 0, 0, 0, 0, 1, 1, 0, 0, 0, 1, 1, 1, 0, 0, 1, 1, 0, 0, 1, 1, 1, 0, 0, 0, 1, 0, 0, 0, 1, 1, 1, 0, 0, 0, 0, 0, 0, 0, 0, 0, 1, 0, 1, 1, 0, 1, 1, 0, 1, 0, 0, 1, 0, 0, 0, 1, 1, 0, 1, 0, 0, 0, 0, 0, 0, 0, 1, 0, 1, 1, 0, 1, 0, 1, 1, 0, 0, 0, 0, 0, 0, 1, 1, 0, 0, 1, 1, 0, 0, 0, 1, 1, 0, 0, 0, 1, 1, 1, 0, 1, 0, 1, 1, 0, 1, 1, 1, 0, 0, 1, 1, 1, 0, 1, 0, 1, 1, 0, 1, 1, 1, 0, 0, 0, 0, 0, 0, 0, 0, 1, 0, 0, 0, 1, 0, 0, 0, 0, 1, 0, 1, 1, 0, 0, 0, 0, 0, 0, 0, 0, 0, 0, 0, 0, 0, 0, 0, 0, 0, 0, 1, 0, 1, 0, 0, 0, 0, 0, 0, 0, 0, 0, 0, 0, 0, 0, 1, 0, 0, 0, 1, 0, 0, 0, 0, 0, 0, 0, 0, 0, 0, 1, 0, 1, 0, 1, 0, 1, 0, 0, 0, 0, 0, 0, 1, 0, 0, 0, 0, 0, 0, 0, 1, 1, 1, 1, 0, 0, 1, 1, 0, 1, 1, 1, 0, 0, 0, 1, 0, 0, 1, 1, 1, 0, 0, 1, 1, 0, 0, 0, 0, 1, 0, 0, 0, 1, 0, 0, 0, 1, 1, 1, 0, 0, 0, 1, 0, 0, 0, 0, 1, 0, 0, 0, 1, 0, 0, 0, 0, 0, 1, 0, 1, 1, 0, 0, 0, 1, 0, 0, 1, 1, 1, 0, 1, 0, 1, 1, 0, 0, 0, 0, 0, 1, 0, 1, 0, 1, 0, 0, 1, 0, 0, 0, 1, 0, 0, 0, 0, 1, 0, 0, 1, 0, 1, 0, 0, 1, 0, 0, 1, 0, 0, 0, 0, 0, 0, 0, 0, 0, 0, 0, 0, 0, 0, 0, 0, 0, 0, 0, 0, 0, 0, 0, 1, 0, 0, 1, 0, 0, 0, 1, 0, 0, 0, 1, 0, 0, 1, 1, 0, 0, 1, 1, 1, 0, 0, 1, 1, 0, 0, 0, 0, 1, 0, 1, 1, 0, 1, 1, 0, 0, 0, 1, 1, 0, 1, 1, 1, 1, 0, 1, 1, 0, 0, 0, 0, 0, 0, 0, 0, 1, 0, 0, 1, 0, 1, 0, 0, 1, 0, 0, 1, 0, 0, 0, 0, 1, 1, 1, 1, 1, 0, 1, 0, 0, 0, 0, 1, 0, 1, 0, 0, 0, 0, 0, 0, 0, 0, 0, 1, 1, 0, 0, 0, 0, 0, 0, 0, 0, 0, 0, 0, 1, 0, 0, 0, 0, 0, 0, 0, 0, 0, 0, 0, 1, 1, 0, 0, 0, 1, 0, 0, 0, 0, 0, 1, 1, 0, 0, 1, 0, 0, 0, 0, 0, 1, 0, 1, 1, 0, 1, 1, 0, 1, 0, 0, 0, 0, 0, 0, 0, 1, 0, 0, 0, 0, 0, 1, 0, 0, 0, 0, 0, 0, 0, 1, 0, 0, 0, 0, 0, 0, 1, 0, 1, 1, 1, 1, 0, 1, 0, 0, 1, 0, 0, 1, 0, 0, 0, 0, 0, 0, 0, 0, 0, 0, 0, 0, 1, 0, 1, 0, 0, 0, 0, 0, 1, 0, 0, 0, 0, 0, 0, 0, 1, 0, 0, 0, 0, 0, 1, 0, 0, 1, 0, 0, 1, 0, 0, 1, 1, 0, 0, 1, 0, 0, 0, 0, 0, 1, 0, 0, 0, 0, 0, 0, 0, 0, 0, 0, 0, 0, 0, 0, 0, 0, 0, 0, 0, 0, 0, 1, 0, 0, 0, 0, 0, 1, 0, 0, 0, 0, 0, 0, 0, 0, 0, 0, 0, 0, 0, 0, 0, 0, 0, 0, 0, 0, 0, 0, 0, 1, 0, 0, 0, 0, 1, 0, 0, 0, 0, 0, 0, 0, 0, 0, 0, 1, 0, 0, 1, 1, 0, 0, 1, 0, 0, 1, 1, 0, 0, 0, 0, 0, 0, 0, 1, 0, 0, 1, 0, 0, 0, 0, 0, 0, 0, 1, 0, 0, 0, 0, 0, 0, 0, 0, 0, 0, 0, 0, 0, 0, 0, 0, 0, 1, 0, 0, 0, 0, 1, 1, 0, 1, 0, 0, 0, 0, 0, 0, 0, 1, 0, 1, 1, 0, 0, 1, 0, 0, 1, 0, 0, 0, 0, 0, 0, 1, 0, 0, 0, 0, 0, 1, 1, 1, 1, 0, 0, 1, 0, 0, 0, 1, 0, 0, 0, 0, 1, 0, 1, 0, 0, 0, 1, 0, 0, 0, 0, 0, 0, 0, 1, 1, 0, 0, 1, 1, 0, 0, 1, 0, 0, 1, 1, 0, 0, 1, 1, 0, 1, 0, 0, 0, 1, 1, 1, 1, 0, 0, 0, 1, 1, 0, 1, 0, 0, 0, 0, 0, 0, 0, 0, 0, 1, 0, 1, 0, 0, 0, 0, 0, 0, 0, 0, 0, 0, 0, 1, 0, 1, 0, 0, 0, 0, 0, 0, 0, 0, 1, 1, 1, 0, 0, 0, 0, 1, 0, 1, 1, 0, 0, 0, 1, 1, 0, 0, 1, 0, 0, 0, 0, 0, 0, 0, 0, 0, 1, 0, 0, 0, 0, 1, 1, 0, 0, 0, 0, 0, 0, 1, 0, 0, 0, 0, 0, 0, 0, 0, 0, 0, 1, 1, 0, 0, 1, 0, 0, 0, 1, 1, 1, 1, 0, 0, 1, 1, 0, 0, 0, 1, 0, 0, 1, 0, 0, 1, 0, 0, 1, 0, 1, 0, 0, 0, 1, 0, 0, 0, 1, 0, 1, 0, 0, 0, 0, 0, 0, 1, 0, 0, 0, 0, 0, 1, 0, 1, 0, 0, 1, 0, 0, 0, 0, 0, 0, 0, 0, 0, 1, 0, 0, 0, 0, 0, 1, 0, 0, 1, 0, 1, 0, 1, 0, 0, 0, 0, 0, 0, 0, 0, 0, 0, 0, 1, 0, 1, 0, 0, 1, 0, 0, 1, 0, 1, 0, 0, 0, 0, 0, 0, 1, 1, 0, 1, 1, 0, 1, 0, 1, 0, 1, 0, 0, 0, 1, 0, 0, 0, 0, 0, 0, 0, 0, 0, 1, 0, 0, 0, 0, 0, 0, 0, 1, 1, 1, 0, 0, 1, 1, 1, 1, 0, 0, 0, 0, 0, 0, 0, 0, 0, 0, 0, 0, 0, 0, 1, 0, 0, 0, 0, 0, 0, 0, 1, 0, 1, 0, 0, 0, 1, 1, 0, 1, 0, 1, 1, 0, 1, 1, 0, 1, 0, 0, 0, 0, 0, 0, 1, 0, 0, 0, 0, 0, 0, 0, 0, 0, 0, 0, 0, 0, 0, 1, 1, 0, 1, 1, 1, 1, 1, 1, 1, 0, 0, 0, 0, 0, 0, 0, 0, 0, 0, 0, 0, 0, 1, 0, 0, 0, 0, 0, 0, 1, 1, 1, 1, 1, 0, 0, 0, 1, 0, 0, 0, 0, 0, 0, 0, 0, 0, 0, 0, 0, 0, 0, 0, 0, 1, 0, 0, 0, 0, 0, 0, 0, 0, 0, 0, 0, 0, 0, 0, 1, 0, 0, 0, 1, 1, 0, 1, 0, 0, 0, 0, 1, 0, 0, 0, 1, 0, 0, 0, 0, 0, 0, 0, 0, 0, 0, 0, 0, 0, 0, 0, 1, 1, 1, 0, 0, 1, 0, 1, 0, 0, 1, 0, 1, 0, 0, 0, 1, 0, 1, 1, 0, 1, 1, 0, 0, 0, 1, 0, 0, 0, 1, 0, 1, 0, 1, 1, 0, 1, 1, 1, 0, 0, 0, 1, 0, 0, 0, 1, 0, 0, 0, 1, 1, 0, 1, 1, 1, 1, 1, 0, 0, 1, 0, 1, 1, 1, 0, 1, 0, 1, 1, 1, 1, 1, 0, 1, 0, 0, 1, 0, 0, 0, 0, 0, 0, 0, 0, 0, 0, 0, 0, 0, 0, 0, 0, 0, 0, 0, 0, 1, 0, 1, 1, 1, 0, 0, 0, 0, 0, 1, 0, 1, 0, 0, 1, 1, 1, 0, 0, 1, 0, 0, 0, 0, 0, 0, 0, 0, 1, 0, 0, 0, 0, 0, 0, 0, 0, 0, 0, 0, 0, 0, 0, 1, 0, 1, 0, 0, 0, 0, 0, 0, 1, 0, 0, 0, 1, 1, 0, 0, 0, 0, 0, 0, 0, 0, 0, 0, 1, 1, 0, 0, 0, 0, 0, 0, 0, 1, 0, 1, 0, 0, 0, 0, 0, 1, 0, 0, 0, 0, 1, 0, 0, 0, 0, 0, 0, 1, 1, 0, 0, 1, 1, 0, 0, 0, 0, 0, 0, 0, 0, 0, 0, 0, 0, 0, 1, 0, 1, 0, 0, 0, 0, 1, 1, 0, 0, 0, 0, 0, 0, 0, 0, 1, 1, 0, 0, 0, 0, 0, 0, 0, 0, 0, 1, 0, 0, 0, 1, 0, 0, 1, 1, 0, 1, 0, 0, 0, 0, 0, 1, 1, 0, 0, 1, 1, 0, 0, 0, 1, 0, 0, 0, 0, 1, 1, 0, 0, 0, 0, 1, 0, 0, 1, 0, 0, 0, 1, 0, 1, 1, 0, 0, 0, 1, 1, 0, 0, 0, 0, 0, 1, 0, 1, 1, 1, 1, 0, 0, 0, 1, 0, 0, 1, 1, 0, 0, 1, 0, 0, 0, 0, 0, 0, 0, 0, 0, 1, 0, 0, 0, 1, 1, 0, 0, 0, 0, 0, 0, 0, 0, 1, 0, 1, 0, 0, 1, 1, 0, 0, 0, 0, 0, 1, 0, 0, 0, 0, 0, 0, 0, 0, 0, 0, 0, 0, 0, 0, 0, 0, 0, 0, 0, 1, 0, 0, 0, 0, 1, 1, 0, 0, 0, 0, 0, 0, 0, 1, 0, 0, 0, 1, 0, 0, 0, 0, 0, 0, 0, 0, 0, 0, 0, 0, 0, 0, 1, 1, 1, 0, 0, 0, 0, 0, 0, 0, 0, 1, 1, 0, 0, 0, 1, 0, 0, 0, 0, 0, 0, 0, 0, 0, 0, 1, 1, 0, 0, 1, 0, 0, 1, 0, 0, 0, 0, 0, 0, 0, 0, 0, 0, 0, 0, 0, 1, 1, 0, 0, 0, 0, 0, 0, 0, 0, 0, 1, 1, 1, 1, 0, 0, 0, 0, 0, 1, 0, 0, 0, 0, 0, 0, 0, 0, 0, 0, 0, 0, 0, 0, 0, 1, 0, 0, 0, 0, 0, 0, 0, 0, 0, 1, 0, 0, 1, 0, 0, 0, 0, 1, 1, 0, 0, 0, 1, 0, 0, 0, 0, 1, 0, 0, 0, 0, 0, 0, 1, 1, 1, 0, 0, 1, 1, 0, 0, 0, 0, 0, 0, 1, 1, 1, 0, 0, 1, 0, 0, 1, 0, 0, 0, 0, 1, 1, 0, 0, 0, 0, 0, 1, 0, 1, 0, 0, 0, 0, 1, 0, 0, 0, 0, 0, 1, 1, 0, 1, 0, 0, 0, 0, 1, 0, 0, 0, 0, 1, 0, 1, 0, 0, 0, 0, 1, 0, 0, 1, 0, 0, 0, 0, 0, 0, 0, 0, 1, 0, 0, 0, 0, 0, 0, 0, 0, 0, 0, 0, 0, 0, 0, 0, 0, 0, 0, 0, 0, 0, 0, 0, 0, 0, 0, 0, 1, 0, 0, 0, 0, 1, 0, 0, 0, 1, 0, 0, 0, 0, 1, 1, 0, 0, 0, 0, 1, 0, 0, 0, 0, 0, 0, 1, 1, 0, 0, 1, 1, 0, 0, 1, 0, 0, 0, 1, 1, 1, 0, 0, 0, 0, 0, 1, 0, 0, 1, 0, 0, 0, 0, 0, 0, 1, 1, 0, 0, 0, 0, 0, 0, 1, 0, 1, 0, 0, 0, 1, 0, 0, 0, 0, 1, 0, 0, 0, 1, 0, 1, 0, 0, 0, 0, 0, 1, 1, 0, 0, 0, 0, 1, 1, 0, 1, 0, 0, 0, 0, 1, 0, 0, 1, 0, 0, 1, 1, 1, 0, 0, 0, 1, 0, 0, 0, 0, 1, 0, 0, 0, 1, 1, 0, 0, 1, 0, 0, 0, 1, 1, 1, 0, 0, 1, 1, 0, 0, 1, 0, 1, 0, 0, 0, 0, 0, 0, 1, 0, 0, 0, 0, 0, 0, 0, 0, 0, 0, 0, 0, 0, 0, 0, 0, 1, 0, 1, 0, 0, 0, 0, 0, 1, 0, 0, 1, 0, 0, 0, 0, 0, 0, 0, 0, 0, 0, 0, 1, 1, 1, 0, 1, 0, 0, 0, 0, 0, 0, 0, 0, 1, 0, 0, 0, 0, 0, 1, 1, 0, 0, 0, 0, 0, 0, 1, 1, 0, 0, 0, 1, 0, 0, 0, 0, 0, 1, 0, 0, 1, 0, 1, 1, 1, 0, 0, 0, 0, 0, 1, 0, 0, 1, 0, 0, 1, 0, 0, 0, 0, 0, 0, 0, 0, 0, 0, 0, 0, 0, 0, 0, 0, 0, 0, 0, 0, 0, 1, 0, 1, 0, 0, 0, 0, 0, 0, 0, 0, 0, 0, 0, 0, 0, 0, 0, 0, 0, 1, 0, 1, 1, 1, 0, 1, 0, 1, 0, 1, 1, 0, 0, 0, 0, 0, 0, 0, 0, 0, 1, 0, 0, 0, 0, 0, 0, 0, 0, 1, 0, 0, 0, 0, 0, 0, 0, 1, 0, 1, 0, 0, 0, 0, 1, 1, 0, 0, 0, 1, 1, 1, 0, 0, 1, 1, 1, 0, 0, 1, 0, 1, 1, 0, 0, 0, 0, 0, 0, 0, 1, 1, 1, 0, 0, 1, 1, 0, 0, 0, 0, 1, 0, 1, 1, 0, 1, 1, 1, 1, 1, 0, 1, 0, 1, 1, 0, 1, 0, 0, 0, 0, 0, 0, 0, 0, 0, 1, 0, 0, 0, 0, 0, 0, 1, 0, 0, 0, 0, 1, 0, 1, 1, 0, 0, 0, 0, 1, 1, 1, 1, 0, 0, 0, 0, 0, 0, 0, 0, 1, 1, 1, 1, 1, 0, 1, 1, 0, 0, 0, 1, 0, 0, 0, 0, 1, 1, 1, 0, 1, 1, 1, 1, 1, 0, 0, 0, 0, 1, 1, 1, 1, 1, 0, 0, 0, 1, 1, 0, 0, 0, 0, 0, 0, 0, 0, 0, 1, 0, 0, 0, 0, 0, 0, 0, 0, 0, 0, 1, 0, 0, 0, 1, 0, 0]\n",
      "[[0.8513832688331604, 0.148616760969162], [0.9530447125434875, 0.04695533961057663], [0.018656279891729355, 0.9813437461853027], [9.680096263764426e-05, 0.9999032020568848], [0.049789465963840485, 0.9502105712890625], [0.9856218695640564, 0.01437812577933073], [0.9996399879455566, 0.0003600387426558882], [0.7003836631774902, 0.29961633682250977], [0.9784537553787231, 0.02154621295630932], [9.409339691046625e-05, 0.9999059438705444], [0.5496004223823547, 0.4503996670246124], [0.016561120748519897, 0.9834389090538025], [0.9875774383544922, 0.01242258120328188], [0.9435656070709229, 0.05643441528081894], [9.161840716842562e-05, 0.9999083280563354], [0.8970844745635986, 0.10291553288698196], [0.0067235627211630344, 0.9932764768600464], [0.5377925038337708, 0.46220752596855164], [0.9752899408340454, 0.02471013367176056], [0.02205311879515648, 0.9779468178749084], [0.00010838349408004433, 0.9998916387557983], [0.6552639603614807, 0.3447360694408417], [0.03825189173221588, 0.9617480635643005], [0.9989585876464844, 0.0010413997806608677], [0.9997628331184387, 0.0002371782757109031], [0.030909372493624687, 0.9690905809402466], [0.2200535386800766, 0.7799464464187622], [0.9968823194503784, 0.0031176884658634663], [0.9996205568313599, 0.0003794565564021468], [0.24663406610488892, 0.7533658742904663], [0.029281895607709885, 0.9707180857658386], [0.9991835951805115, 0.0008163937600329518], [0.9999151229858398, 8.486686419928446e-05], [0.34080395102500916, 0.6591960191726685], [0.9929141998291016, 0.0070858122780919075], [0.3776020109653473, 0.6223980188369751], [0.5727285146713257, 0.4272715151309967], [0.9057391285896301, 0.09426085650920868], [0.9987348914146423, 0.0012651230208575726], [0.6909785270690918, 0.3090214431285858], [0.9980675578117371, 0.0019324651220813394], [0.9997209906578064, 0.0002789426944218576], [0.99972003698349, 0.00027996423887088895], [0.9550588130950928, 0.04494120180606842], [0.7782137989997864, 0.22178620100021362], [0.5976061224937439, 0.4023938775062561], [0.9899438619613647, 0.010056184604763985], [0.6962425112724304, 0.30375751852989197], [0.22804901003837585, 0.7719510197639465], [0.811423122882843, 0.18857690691947937], [0.8992534875869751, 0.1007465273141861], [0.4027784466743469, 0.5972216129302979], [0.6113153100013733, 0.3886847198009491], [0.9486123919487, 0.05138763412833214], [0.010021141730248928, 0.9899789094924927], [0.9902742505073547, 0.009725784882903099], [0.748446524143219, 0.2515535354614258], [0.6522065997123718, 0.34779343008995056], [0.9666641354560852, 0.03333582356572151], [0.9774086475372314, 0.02259133942425251], [0.17170079052448273, 0.8282991647720337], [0.0027471138164401054, 0.997252881526947], [0.974445641040802, 0.025554358959197998], [0.9931746125221252, 0.006825341377407312], [0.7029930949211121, 0.29700687527656555], [0.9592380523681641, 0.04076194763183594], [0.9439685940742493, 0.05603145435452461], [0.22782254219055176, 0.7721773982048035], [0.7258421778678894, 0.274157851934433], [0.216068297624588, 0.7839317321777344], [0.9823049306869507, 0.01769508421421051], [0.6100481152534485, 0.3899519145488739], [0.9611214995384216, 0.038878433406353], [0.9941228032112122, 0.0058771888725459576], [0.9978960752487183, 0.002103880513459444], [0.00011013649782398716, 0.9998898506164551], [0.0306213591247797, 0.9693785905838013], [0.09357975423336029, 0.9064202904701233], [0.9997166991233826, 0.0002833358303178102], [0.9716830849647522, 0.028316907584667206], [0.9994150400161743, 0.0005849843728356063], [0.015211055055260658, 0.9847890138626099], [0.9482450485229492, 0.051755018532276154], [0.00011681459000101313, 0.9998831748962402], [0.9733183979988098, 0.026681603863835335], [0.03184337168931961, 0.9681566953659058], [0.0797487273812294, 0.9202513098716736], [0.4576680362224579, 0.5423319935798645], [0.00010020397894550115, 0.9998997449874878], [0.00011778277257690206, 0.9998822212219238], [0.0004386930668260902, 0.9995612502098083], [0.9457176327705383, 0.05428238585591316], [0.9609208106994629, 0.0390792079269886], [0.9994470477104187, 0.0005529172485694289], [0.7914904356002808, 0.20850956439971924], [0.00013175823551137, 0.9998682737350464], [0.6563959717750549, 0.34360402822494507], [0.4017682671546936, 0.5982317924499512], [0.010557590052485466, 0.9894424676895142], [0.9676223993301392, 0.03237755224108696], [0.8933056592941284, 0.10669437050819397], [0.9760515689849854, 0.02394842728972435], [0.0011413395404815674, 0.9988586902618408], [0.0003485404304228723, 0.9996514320373535], [0.9985879063606262, 0.0014120935229584575], [0.999864935874939, 0.00013503358059097081], [0.9981538653373718, 0.0018461295403540134], [0.975978672504425, 0.024021267890930176], [0.9951382279396057, 0.0048618316650390625], [0.8931299448013306, 0.10687005519866943], [0.9968053102493286, 0.0031946704257279634], [0.8430793285369873, 0.1569206714630127], [0.0034052880946546793, 0.9965947270393372], [0.7779294848442078, 0.222070574760437], [0.4736436605453491, 0.5263563990592957], [0.0004282933659851551, 0.9995717406272888], [0.8514848351478577, 0.14851517975330353], [0.3842023015022278, 0.6157976984977722], [0.0009210368734784424, 0.9990789890289307], [0.7699733376502991, 0.23002663254737854], [0.5020124316215515, 0.4979875087738037], [0.9639413356781006, 0.03605867549777031], [0.7042561769485474, 0.295743852853775], [0.994597315788269, 0.00540265254676342], [0.9015599489212036, 0.0984400063753128], [0.00010499865311430767, 0.9998949766159058], [0.954387366771698, 0.045612629503011703], [0.00012915555271320045, 0.999870777130127], [0.9853155612945557, 0.014684518799185753], [0.03355656936764717, 0.9664434194564819], [0.00010143590770894662, 0.9998985528945923], [0.9871788024902344, 0.0128212571144104], [0.00010956153710139915, 0.9998904466629028], [0.978142499923706, 0.02185743860900402], [0.00022061287018004805, 0.9997794032096863], [0.9782586693763733, 0.021741313859820366], [9.528590453555807e-05, 0.9999047517776489], [0.9916111826896667, 0.008388794027268887], [0.0026652426458895206, 0.9973347783088684], [0.00010480918717803434, 0.9998952150344849], [0.9838058948516846, 0.01619405671954155], [0.9993519186973572, 0.0006480485899373889], [0.9973980188369751, 0.0026019385550171137], [0.980678915977478, 0.019321033731102943], [0.999841570854187, 0.0001584102283231914], [0.04144669696688652, 0.9585533142089844], [0.5291685461997986, 0.4708315432071686], [9.701470116851851e-05, 0.9999029636383057], [0.9997649788856506, 0.00023498274094890803], [0.9999237060546875, 7.630951586179435e-05], [0.2507159113883972, 0.7492840886116028], [0.9994680285453796, 0.0005319985211826861], [0.9998375177383423, 0.00016241255798377097], [0.969867467880249, 0.03013247437775135], [0.9980331063270569, 0.001966949785128236], [0.24338656663894653, 0.7566134333610535], [0.4128057360649109, 0.5871942639350891], [0.1083221286535263, 0.8916779160499573], [0.999006450176239, 0.0009935578564181924], [0.9996562004089355, 0.00034383340971544385], [0.771586537361145, 0.2284134179353714], [0.00015053739480208606, 0.9998494386672974], [0.9048117995262146, 0.0951881930232048], [0.9905776977539062, 0.009422367438673973], [0.009732556529343128, 0.9902674555778503], [0.9988287091255188, 0.0011712962295860052], [0.9998713731765747, 0.00012858292029704899], [0.9876082539558411, 0.012391741387546062], [0.6316632032394409, 0.3683367967605591], [0.00010109194408869371, 0.9998989105224609], [0.9127901196479797, 0.08720983564853668], [0.00527087552472949, 0.9947291016578674], [9.727584256324917e-05, 0.9999027252197266], [0.952410101890564, 0.04758988320827484], [0.00018198566976934671, 0.9998180270195007], [0.9997181296348572, 0.0002819012734107673], [0.7919324636459351, 0.20806758105754852], [0.711300253868103, 0.288699746131897], [0.0001103873728425242, 0.999889612197876], [0.9551475048065186, 0.04485246539115906], [0.6076022982597351, 0.3923977315425873], [0.006578188389539719, 0.9934218525886536], [0.8183877468109131, 0.18161222338676453], [0.0001645845186430961, 0.9998353719711304], [0.7370015978813171, 0.26299840211868286], [0.12280704826116562, 0.8771929144859314], [0.12124771624803543, 0.8787522912025452], [9.632830187911168e-05, 0.999903678894043], [0.06192663311958313, 0.9380733966827393], [0.021752092987298965, 0.9782479405403137], [0.3919309973716736, 0.6080690622329712], [0.00023790325212758034, 0.9997621178627014], [0.9912857413291931, 0.008714188821613789], [0.9996728897094727, 0.0003271143068559468], [0.9991679191589355, 0.0008320591878145933], [0.9641919732093811, 0.035808004438877106], [0.9997368454933167, 0.00026319417520426214], [0.03946886584162712, 0.9605310559272766], [0.9987977743148804, 0.0012022393057122827], [0.9975850582122803, 0.0024149627424776554], [0.9991980195045471, 0.0008020022069104016], [0.6792312264442444, 0.3207688331604004], [0.0800914317369461, 0.9199085831642151], [0.9998573064804077, 0.00014270360406953841], [0.9999397993087769, 6.021818990120664e-05], [0.9480989575386047, 0.05190107598900795], [0.00012177169264759868, 0.9998781681060791], [0.9983962178230286, 0.0016037883469834924], [0.9989166259765625, 0.001083380775526166], [0.9964726567268372, 0.003527255728840828], [0.2077738344669342, 0.7922261953353882], [9.163116192212328e-05, 0.9999083280563354], [0.9997267127037048, 0.00027325647533871233], [0.9998607635498047, 0.00013922365906182677], [0.8745146989822388, 0.1254853457212448], [0.00014432755415327847, 0.999855637550354], [0.00011394525063224137, 0.9998860359191895], [0.9841025471687317, 0.0158974751830101], [0.8915327191352844, 0.10846729576587677], [0.9994595646858215, 0.0005404572584666312], [0.9932900667190552, 0.0067099593579769135], [0.17246972024440765, 0.8275302648544312], [0.31708139181137085, 0.6829186081886292], [0.9142369627952576, 0.08576298505067825], [0.9943016767501831, 0.005698332097381353], [0.19856885075569153, 0.8014311790466309], [0.986972987651825, 0.013026992790400982], [0.8168166279792786, 0.18318332731723785], [0.7319121956825256, 0.26808783411979675], [0.0013150771846994758, 0.9986849427223206], [0.9955604076385498, 0.004439611919224262], [0.9925547242164612, 0.0074452427215874195], [0.9997743964195251, 0.00022557651391252875], [0.5737032294273376, 0.42629677057266235], [0.9989932179450989, 0.001006739097647369], [0.9962536096572876, 0.003746368922293186], [0.9978510141372681, 0.0021490168292075396], [0.5161433815956116, 0.48385658860206604], [0.00015223016089294106, 0.9998477697372437], [0.5427618622779846, 0.45723819732666016], [0.3120284974575043, 0.6879714727401733], [0.3904044032096863, 0.609595537185669], [0.6611960530281067, 0.3388039767742157], [0.12654583156108856, 0.8734541535377502], [0.15723687410354614, 0.8427631258964539], [0.9995900988578796, 0.00040985335363075137], [0.9997187256813049, 0.000281264481600374], [0.08658574521541595, 0.9134142398834229], [0.1337747424840927, 0.8662251830101013], [0.2605412006378174, 0.7394587993621826], [0.29093873500823975, 0.709061324596405], [0.36747822165489197, 0.6325216889381409], [0.0171473678201437, 0.9828526377677917], [0.09414713084697723, 0.9058528542518616], [0.4361540377140045, 0.5638460516929626], [0.671071469783783, 0.32892853021621704], [0.8890025019645691, 0.1109975203871727], [0.0746212750673294, 0.9253787398338318], [0.3011031448841095, 0.6988968253135681], [0.00011940554395550862, 0.9998805522918701], [0.2221505492925644, 0.7778494954109192], [0.9982749223709106, 0.0017250607488676906], [0.9994303584098816, 0.0005696116131730378], [0.5245633721351624, 0.47543665766716003], [0.5036904811859131, 0.4963094890117645], [0.557733416557312, 0.4422666132450104], [0.5492929816246033, 0.45070701837539673], [0.9430997371673584, 0.05690030753612518], [0.21819034218788147, 0.7818096280097961], [0.5911322236061096, 0.40886786580085754], [0.7547577023506165, 0.24524229764938354], [0.3888757824897766, 0.6111242771148682], [0.2516048550605774, 0.7483951449394226], [0.48564690351486206, 0.5143530964851379], [0.03647568076848984, 0.9635242819786072], [0.027357958257198334, 0.9726420640945435], [0.9994649291038513, 0.000535033643245697], [0.9999326467514038, 6.738013325957581e-05], [0.5478954315185547, 0.4521045386791229], [0.8250795006752014, 0.1749204844236374], [0.021207494661211967, 0.9787924885749817], [0.6146439909934998, 0.38535600900650024], [0.5813345909118652, 0.41866546869277954], [0.43811023235321045, 0.5618897676467896], [0.5734644532203674, 0.4265355169773102], [0.8127045631408691, 0.18729545176029205], [0.05099651962518692, 0.9490034580230713], [0.9953984618186951, 0.004601564723998308], [0.958132803440094, 0.041867244988679886], [0.9538486003875732, 0.04615145921707153], [0.9980687499046326, 0.0019313066732138395], [0.9995928406715393, 0.00040719506796449423], [0.8598976135253906, 0.14010241627693176], [0.825182318687439, 0.17481765151023865], [0.06599443405866623, 0.9340054988861084], [0.824336051940918, 0.17566388845443726], [0.5290191769599915, 0.47098085284233093], [0.9146896600723267, 0.08531038463115692], [0.9790904521942139, 0.02090953290462494], [0.9904581308364868, 0.009541844017803669], [0.9974849224090576, 0.0025150987785309553], [0.6046001315116882, 0.39539989829063416], [0.003258282784372568, 0.9967417120933533], [0.9957568049430847, 0.004243230912834406], [0.7088556289672852, 0.29114440083503723], [0.9958081245422363, 0.0041919127106666565], [0.9988293051719666, 0.001170734758488834], [0.9490408301353455, 0.050959162414073944], [0.005657665431499481, 0.9943423271179199], [0.994522213935852, 0.005477746948599815], [0.8266891241073608, 0.17331089079380035], [0.8515735864639282, 0.14842641353607178], [0.9944432377815247, 0.005556726828217506], [0.9974650144577026, 0.0025349301286041737], [0.9977858066558838, 0.0022141626104712486], [0.9996464252471924, 0.00035355164436623454], [0.7925766110420227, 0.2074234038591385], [0.0003330072504468262, 0.9996670484542847], [0.9897144436836243, 0.010285504162311554], [0.06516117602586746, 0.9348388314247131], [0.922114372253418, 0.07788562029600143], [0.9117437601089478, 0.08825625479221344], [0.8782379031181335, 0.12176212668418884], [0.9800764918327332, 0.019923504441976547], [0.9863392114639282, 0.01366073451936245], [0.999514102935791, 0.00048593292012810707], [0.9998270869255066, 0.0001729192736092955], [0.9279208779335022, 0.07207909226417542], [0.00012393335055094212, 0.9998760223388672], [0.9707396626472473, 0.029260296374559402], [0.5217549800872803, 0.47824499011039734], [0.9992884397506714, 0.0007115625194273889], [0.9469262957572937, 0.05307372286915779], [0.0003247564600314945, 0.9996752738952637], [0.98899906873703, 0.011000961996614933], [0.9861370325088501, 0.013862996362149715], [0.0046030390076339245, 0.9953969120979309], [0.9630313515663147, 0.03696861490607262], [0.4565143585205078, 0.543485701084137], [0.9478558897972107, 0.05214410647749901], [0.1705387830734253, 0.8294611573219299], [0.5940374135971069, 0.40596261620521545], [0.5795333385467529, 0.42046669125556946], [0.178101047873497, 0.8218989372253418], [0.9064396023750305, 0.09356041997671127], [0.9327378869056702, 0.06726209819316864], [0.48284775018692017, 0.5171522498130798], [0.08412927389144897, 0.9158706665039062], [0.9955177903175354, 0.004482195246964693], [0.803199827671051, 0.1968001127243042], [0.9993439316749573, 0.0006560920155607164], [0.08913253992795944, 0.9108673930168152], [0.989391028881073, 0.010608958080410957], [0.09999612718820572, 0.9000037908554077], [0.9781891703605652, 0.021810822188854218], [0.7967236638069153, 0.20327633619308472], [0.9860811233520508, 0.013918881304562092], [0.9955015778541565, 0.004498437512665987], [0.6835829615592957, 0.31641706824302673], [0.7826042175292969, 0.21739573776721954], [0.6942452192306519, 0.30575481057167053], [0.9565573334693909, 0.04344261437654495], [0.3606988191604614, 0.6393011808395386], [0.2375243604183197, 0.7624756693840027], [0.17566756904125214, 0.8243324160575867], [0.9284123182296753, 0.07158766686916351], [0.03053286112844944, 0.9694671034812927], [0.9106485247612, 0.08935154229402542], [0.9662832021713257, 0.03371677175164223], [0.9872691631317139, 0.01273078378289938], [0.8317134976387024, 0.16828657686710358], [0.9969832301139832, 0.0030167775694280863], [0.8047659397125244, 0.19523406028747559], [0.6750153303146362, 0.32498466968536377], [0.9557937383651733, 0.044206224381923676], [0.07576318085193634, 0.9242368340492249], [0.9970588684082031, 0.0029412100557237864], [0.38868439197540283, 0.6113156676292419], [0.5322919487953186, 0.467708021402359], [0.9477708339691162, 0.0522291325032711], [0.9446662664413452, 0.055333781987428665], [0.7404581308364868, 0.2595418691635132], [0.5060555934906006, 0.4939444363117218], [0.6148340106010437, 0.3851659893989563], [0.9532967209815979, 0.04670329764485359], [0.9944062232971191, 0.005593742709606886], [0.9993945360183716, 0.0006055131088942289], [0.9976535439491272, 0.002346539171412587], [0.8255547285079956, 0.1744452267885208], [0.9683436155319214, 0.031656354665756226], [0.9995425939559937, 0.00045745132956653833], [0.8262607455253601, 0.1737392544746399], [0.00022622894903179258, 0.9997738003730774], [0.6821354031562805, 0.3178645670413971], [0.9998818635940552, 0.0001180786348413676], [0.999947190284729, 5.2790986956097186e-05], [0.07999170571565628, 0.9200083017349243], [0.9973969459533691, 0.002603000495582819], [0.9961680769920349, 0.0038319427985697985], [0.9762012958526611, 0.023798653855919838], [0.08014149218797684, 0.919858455657959], [0.8829113841056824, 0.11708862334489822], [0.5275248289108276, 0.47247517108917236], [0.013201982714235783, 0.9867979884147644], [0.9935528039932251, 0.006447223015129566], [0.9977697134017944, 0.0022303126752376556], [0.9987288117408752, 0.0012711562449112535], [0.9994522929191589, 0.000547703995835036], [0.9880186319351196, 0.011981351301074028], [0.868056058883667, 0.131943941116333], [0.9491918087005615, 0.050808146595954895], [0.5704634189605713, 0.4295365810394287], [0.09325122088193893, 0.9067488312721252], [0.9206315875053406, 0.07936839759349823], [0.6440744400024414, 0.3559255301952362], [0.9924962520599365, 0.007503709755837917], [0.998457670211792, 0.001542326994240284], [0.998141884803772, 0.001858070376329124], [0.9986761212348938, 0.0013238891260698438], [0.9930341243743896, 0.006965886801481247], [0.8544672131538391, 0.14553281664848328], [0.7338864207267761, 0.2661135494709015], [0.9952253103256226, 0.004774714820086956], [0.9947090148925781, 0.005290949251502752], [0.012824256904423237, 0.9871757626533508], [0.998214602470398, 0.001785407424904406], [0.4021582305431366, 0.597841739654541], [0.6606065630912781, 0.3393934965133667], [0.9114151000976562, 0.08858494460582733], [0.4839225113391876, 0.5160775184631348], [0.6196350455284119, 0.38036492466926575], [0.2811439037322998, 0.7188560962677002], [0.9964800477027893, 0.003520009806379676], [0.9987589120864868, 0.001241118647158146], [0.9353139400482178, 0.06468603014945984], [0.769615650177002, 0.23038436472415924], [0.9979573488235474, 0.0020426735281944275], [0.0001045413882820867, 0.999895453453064], [0.9972508549690247, 0.0027491929940879345], [0.99982750415802, 0.0001724227040540427], [0.99945467710495, 0.0005453374469652772], [0.9998206496238708, 0.00017934916832018644], [0.9998490810394287, 0.00015087654173839837], [0.48852860927581787, 0.5114713907241821], [0.0001788600638974458, 0.999821126461029], [0.99980229139328, 0.00019774818792939186], [0.9997754693031311, 0.00022455421276390553], [0.4335970878601074, 0.5664029121398926], [0.0003163002838846296, 0.9996837377548218], [0.9997712969779968, 0.00022876828734297305], [0.9998316764831543, 0.0001683291920926422], [0.9789460301399231, 0.021053940057754517], [0.9599992632865906, 0.04000069200992584], [0.9969093203544617, 0.0030906409956514835], [0.3067079484462738, 0.6932920813560486], [0.9986316561698914, 0.0013683653669431806], [0.9555683732032776, 0.04443161189556122], [0.8419002294540405, 0.1580997258424759], [0.880025327205658, 0.11997471004724503], [0.8857693076133728, 0.1142306849360466], [0.9969210624694824, 0.0030790125019848347], [0.9898285865783691, 0.010171385481953621], [0.9720970988273621, 0.027902835980057716], [0.9804546236991882, 0.01954534649848938], [0.9876635670661926, 0.012336460873484612], [0.3670293092727661, 0.6329707503318787], [0.8042886257171631, 0.1957114189863205], [0.8967093229293823, 0.10329066216945648], [0.9129850268363953, 0.08701498806476593], [0.19289609789848328, 0.8071039319038391], [0.01760782115161419, 0.9823922514915466], [0.5218459963798523, 0.4781540036201477], [0.996462881565094, 0.003537100972607732], [0.896249532699585, 0.10375043749809265], [0.9991938471794128, 0.0008062112028710544], [0.9162976741790771, 0.08370232582092285], [0.9985973238945007, 0.001402702066116035], [0.9998089671134949, 0.00019102051737718284], [0.9941955208778381, 0.005804549437016249], [0.9849367737770081, 0.015063230879604816], [0.9998534917831421, 0.00014643085887655616], [0.999723494052887, 0.0002765120007097721], [0.9914705157279968, 0.008529474027454853], [0.5911514163017273, 0.4088485836982727], [0.4931960701942444, 0.5068038702011108], [0.9949671626091003, 0.005032860673964024], [0.9920104742050171, 0.007989593781530857], [0.9674618244171143, 0.03253812715411186], [0.9816834926605225, 0.018316470086574554], [0.9900742173194885, 0.00992580410093069], [0.43205156922340393, 0.5679484605789185], [0.9722926020622253, 0.027707364410161972], [0.026537347584962845, 0.9734626412391663], [0.018687104806303978, 0.9813128709793091], [0.833772599697113, 0.16622738540172577], [0.7074090242385864, 0.29259100556373596], [0.6761221885681152, 0.32387784123420715], [0.987894594669342, 0.012105477973818779], [0.738551139831543, 0.26144883036613464], [0.9679126143455505, 0.03208746761083603], [0.9985301494598389, 0.00146987393964082], [0.9486311674118042, 0.05136885866522789], [9.746404975885525e-05, 0.9999024868011475], [0.40026983618736267, 0.5997301340103149], [0.7672325968742371, 0.23276737332344055], [0.1449233740568161, 0.8550766706466675], [0.9923444390296936, 0.007655558176338673], [0.9862854480743408, 0.013714597560465336], [0.9558120369911194, 0.04418792948126793], [0.7399235367774963, 0.26007649302482605], [0.9738329648971558, 0.026166975498199463], [0.031013142317533493, 0.9689868092536926], [0.8446101546287537, 0.15538984537124634], [0.0007357400609180331, 0.9992642998695374], [0.9976691603660583, 0.0023307683877646923], [0.966937780380249, 0.03306219354271889], [0.9955938458442688, 0.0044061774387955666], [0.9973065853118896, 0.002693378832191229], [0.9978840947151184, 0.0021158948075026274], [0.9905548691749573, 0.009445137344300747], [0.9819301962852478, 0.0180697962641716], [0.15543001890182495, 0.844569981098175], [0.9689712524414062, 0.031028706580400467], [0.8851091861724854, 0.11489084362983704], [0.891783595085144, 0.10821637511253357], [0.12273004651069641, 0.877269983291626], [0.9529958963394165, 0.047004107385873795], [0.76735520362854, 0.23264479637145996], [0.00012297452485654503, 0.9998769760131836], [0.997387707233429, 0.002612335840240121], [0.07102510333061218, 0.9289748668670654], [0.9671266674995422, 0.03287336602807045], [0.9006006717681885, 0.09939933568239212], [0.787129819393158, 0.21287013590335846], [0.641959011554718, 0.358040988445282], [0.3404025435447693, 0.6595974564552307], [0.7724335789680481, 0.22756637632846832], [0.5412322878837585, 0.45876774191856384], [0.03425630182027817, 0.9657436609268188], [0.6171104311943054, 0.3828895688056946], [0.9576694369316101, 0.04233052209019661], [0.7257216572761536, 0.27427834272384644], [0.5230569839477539, 0.4769430160522461], [0.961747407913208, 0.0382525660097599], [0.8319189548492432, 0.16808108985424042], [0.9636247754096985, 0.0363752618432045], [0.9886670112609863, 0.011333025060594082], [0.994625985622406, 0.005374033469706774], [0.490904837846756, 0.5090951919555664], [0.9959241151809692, 0.00407587643712759], [0.1384405791759491, 0.8615594506263733], [0.8775131702423096, 0.12248688191175461], [0.9833036661148071, 0.016696300357580185], [0.9524178504943848, 0.04758215695619583], [0.77475506067276, 0.22524487972259521], [0.9681566953659058, 0.03184335678815842], [0.9746228456497192, 0.02537713013589382], [0.7350395321846008, 0.2649604380130768], [0.4240245521068573, 0.5759754776954651], [0.7438004016876221, 0.25619959831237793], [0.6332107782363892, 0.36678922176361084], [0.1583380252122879, 0.8416620492935181], [0.543776273727417, 0.4562237560749054], [0.007343152537941933, 0.9926567673683167], [0.8061956763267517, 0.19380435347557068], [0.8020919561386108, 0.19790810346603394], [0.9434031844139099, 0.056596849113702774], [0.7298478484153748, 0.27015215158462524], [0.5947983860969543, 0.40520164370536804], [0.42934638261795044, 0.5706536173820496], [0.00022263976279646158, 0.9997773766517639], [0.4712064564228058, 0.5287935733795166], [0.9363329410552979, 0.06366699934005737], [0.8684743642807007, 0.1315256655216217], [0.33207911252975464, 0.6679208874702454], [0.39710691571235657, 0.6028931140899658], [0.893221914768219, 0.10677806288003922], [0.9977325201034546, 0.002267494797706604], [0.16459833085536957, 0.8354016542434692], [0.45366787910461426, 0.546332061290741], [0.21126680076122284, 0.788733184337616], [0.5926570892333984, 0.40734294056892395], [0.9900950193405151, 0.009904944337904453], [0.8587503433227539, 0.14124968647956848], [0.8392343521118164, 0.1607656180858612], [0.8806257247924805, 0.11937424540519714], [0.9775107502937317, 0.022489221766591072], [0.16336067020893097, 0.8366393446922302], [0.6999241709709167, 0.30007585883140564], [0.835357129573822, 0.16464287042617798], [0.8600831031799316, 0.13991691172122955], [0.809673547744751, 0.19032642245292664], [0.7755870223045349, 0.2244129478931427], [0.8940685391426086, 0.10593149065971375], [0.8642890453338623, 0.1357109695672989], [0.007658275775611401, 0.9923417568206787], [0.2820560932159424, 0.7179439067840576], [0.5411581993103027, 0.45884180068969727], [0.20437981188297272, 0.7956202030181885], [0.6886364817619324, 0.31136354804039], [0.9881592988967896, 0.011840632185339928], [0.2729247212409973, 0.7270752787590027], [0.18230707943439484, 0.8176929354667664], [0.9992930889129639, 0.0007068806444294751], [0.7642838358879089, 0.23571623861789703], [0.0016297758556902409, 0.9983702301979065], [0.7867724299430847, 0.2132275402545929], [0.0002614264958538115, 0.9997385144233704], [0.44552481174468994, 0.5544752478599548], [0.0004860596382059157, 0.9995139837265015], [0.9976721405982971, 0.0023278100416064262], [0.9995254278182983, 0.0004746423219330609], [0.48912513256073, 0.51087486743927], [0.0003257698263041675, 0.9996742010116577], [0.9973360896110535, 0.0026638791896402836], [0.9992515444755554, 0.0007484122179448605], [0.9993782043457031, 0.0006217805785126984], [0.9999196529388428, 8.028137381188571e-05], [0.000689536624122411, 0.9993104934692383], [0.9097200632095337, 0.09027986973524094], [0.8862556219100952, 0.11374441534280777], [0.7328336238861084, 0.2671663463115692], [0.7633282542228699, 0.23667173087596893], [0.9712520837783813, 0.028747916221618652], [0.9063338041305542, 0.09366613626480103], [0.9995884299278259, 0.00041162085835821927], [0.9946145415306091, 0.005385407712310553], [0.08732914179563522, 0.9126708507537842], [0.9940668344497681, 0.005933132953941822], [0.16085006296634674, 0.8391499519348145], [0.9326478838920593, 0.06735209375619888], [0.9738348722457886, 0.026165055111050606], [0.8965049982070923, 0.10349500179290771], [0.8642448782920837, 0.13575515151023865], [0.9468405842781067, 0.053159408271312714], [0.9844014048576355, 0.015598614700138569], [0.9628798365592957, 0.03712012991309166], [0.00865376926958561, 0.9913461804389954], [0.9997183680534363, 0.00028155799373053014], [0.9999220371246338, 7.796792488079518e-05], [0.6614550352096558, 0.33854493498802185], [0.8803691267967224, 0.11963082104921341], [0.0019871187396347523, 0.998012900352478], [0.001147851929999888, 0.9988521337509155], [0.21685738861560822, 0.783142626285553], [0.6954634189605713, 0.3045366108417511], [0.9701729416847229, 0.029827110469341278], [0.9201715588569641, 0.07982844859361649], [0.657334566116333, 0.3426654636859894], [0.6384669542312622, 0.3615330755710602], [0.9763009548187256, 0.023699047043919563], [0.5812151432037354, 0.4187849462032318], [0.6021416783332825, 0.39785832166671753], [0.964204728603363, 0.03579523041844368], [0.9535558223724365, 0.0464441291987896], [0.7654501795768738, 0.23454983532428741], [0.8375113010406494, 0.1624886691570282], [0.8908610939979553, 0.10913892090320587], [0.517733633518219, 0.4822664260864258], [0.9479049444198608, 0.05209502577781677], [0.7039787769317627, 0.2960212528705597], [0.960870087146759, 0.039129968732595444], [0.9948272109031677, 0.0051728105172514915], [0.9358130693435669, 0.06418690830469131], [0.40627744793891907, 0.5937225222587585], [0.9545913338661194, 0.045408640056848526], [0.9701322913169861, 0.029867660254240036], [0.8988790512084961, 0.1011209487915039], [0.8651304841041565, 0.1348695456981659], [0.866082489490509, 0.13391757011413574], [0.833204984664917, 0.16679498553276062], [0.9508710503578186, 0.049128949642181396], [0.98271644115448, 0.01728355884552002], [0.9644031524658203, 0.035596806555986404], [0.17630235850811005, 0.8236976861953735], [0.9786215424537659, 0.02137848362326622], [0.9158535599708557, 0.0841464251279831], [0.9996507167816162, 0.0003493236727081239], [0.9988565444946289, 0.001143482862971723], [0.9999098777770996, 9.012238297145814e-05], [0.907871663570404, 0.09212829172611237], [9.327551379101351e-05, 0.9999066591262817], [0.9862924814224243, 0.013707529753446579], [0.151719331741333, 0.8482807278633118], [0.00010403440683148801, 0.9998959302902222], [0.8636375069618225, 0.1363624930381775], [0.06780311465263367, 0.9321969151496887], [0.7257874608039856, 0.2742125391960144], [0.917109489440918, 0.08289050310850143], [0.8842817544937134, 0.1157182976603508], [0.41003844141960144, 0.589961588382721], [0.14552821218967438, 0.8544718027114868], [0.9782596826553345, 0.021740378811955452], [0.9247324466705322, 0.07526756078004837], [0.778457760810852, 0.22154222428798676], [0.9627329707145691, 0.03726708143949509], [0.9495916366577148, 0.05040840059518814], [0.7412391304969788, 0.25876080989837646], [0.9926615953445435, 0.0073384311981499195], [0.11034601181745529, 0.8896539807319641], [0.006397843826562166, 0.9936020970344543], [0.23200133442878723, 0.7679986357688904], [0.15784865617752075, 0.8421513438224792], [0.2649223506450653, 0.7350776791572571], [0.4602718949317932, 0.5397281646728516], [0.7511036396026611, 0.24889639019966125], [0.9058883786201477, 0.09411164373159409], [0.958962082862854, 0.04103789106011391], [0.9934697151184082, 0.0065302313305437565], [0.9988516569137573, 0.0011483621783554554], [0.2680791914463043, 0.7319207787513733], [0.00020291554392315447, 0.9997970461845398], [0.4346831738948822, 0.5653168559074402], [0.9998282194137573, 0.00017179697169922292], [0.9997316002845764, 0.00026844063540920615], [0.13286298513412476, 0.8671370148658752], [0.908090353012085, 0.09190964698791504], [0.9348262548446655, 0.06517380475997925], [0.0007987768040038645, 0.999201238155365], [0.9037600755691528, 0.09623990207910538], [0.5040416121482849, 0.4959583580493927], [0.1701916605234146, 0.8298083543777466], [0.4011519253253937, 0.5988480448722839], [0.670225977897644, 0.32977402210235596], [0.7652238607406616, 0.23477613925933838], [0.6902949213981628, 0.30970510840415955], [0.22897212207317352, 0.7710279226303101], [0.026198793202638626, 0.9738011956214905], [0.8485504984855652, 0.151449516415596], [0.9998579025268555, 0.0001420549233444035], [0.9999516010284424, 4.8354217142332345e-05], [0.996316134929657, 0.0036839148961007595], [0.0018565711798146367, 0.9981434345245361], [0.9829457998275757, 0.017054235562682152], [0.13135378062725067, 0.8686462640762329], [0.9584078192710876, 0.04159225896000862], [0.9738392233848572, 0.02616083063185215], [0.95720374584198, 0.042796287685632706], [0.8970648646354675, 0.10293509811162949], [0.9612189531326294, 0.03878101706504822], [0.9715747237205505, 0.0284253116697073], [0.9864829182624817, 0.013517070561647415], [0.9374058842658997, 0.06259407848119736], [0.9978567957878113, 0.0021431553177535534], [0.993450403213501, 0.006549535319209099], [0.047364410012960434, 0.9526355862617493], [0.8956825137138367, 0.10431749373674393], [0.9968293309211731, 0.003170644398778677], [9.276822675019503e-05, 0.9999072551727295], [0.9868956208229065, 0.013104387558996677], [0.994765043258667, 0.005234993994235992], [0.9992339611053467, 0.0007660628762096167], [0.9702231884002686, 0.02977675572037697], [0.9922771453857422, 0.007722770795226097], [0.9915772676467896, 0.008422761224210262], [0.9995737671852112, 0.0004262267320882529], [0.9999085664749146, 9.143861097982153e-05], [0.010887215845286846, 0.9891127943992615], [0.9991414546966553, 0.0008584943134337664], [0.6584577560424805, 0.34154224395751953], [0.8895299434661865, 0.11047007888555527], [0.2708268165588379, 0.7291731834411621], [0.9981702566146851, 0.001829668995924294], [0.8833160400390625, 0.11668393015861511], [0.7662602066993713, 0.23373980820178986], [0.9865168333053589, 0.013483217917382717], [0.9341003894805908, 0.06589964032173157], [0.07381626218557358, 0.9261837005615234], [0.8646911978721619, 0.13530875742435455], [0.4288107454776764, 0.5711892247200012], [0.035323210060596466, 0.9646767377853394], [0.6003857851028442, 0.39961424469947815], [0.5378522276878357, 0.4621477425098419], [0.032907746732234955, 0.9670923352241516], [0.9838268160820007, 0.01617315411567688], [0.4373876452445984, 0.5626123547554016], [0.9260124564170837, 0.07398755103349686], [0.9250842928886414, 0.07491574436426163], [0.12322790920734406, 0.8767720460891724], [0.9680581092834473, 0.031941819936037064], [0.8546494245529175, 0.14535054564476013], [0.9685487151145935, 0.031451355665922165], [0.9976246953010559, 0.002375305164605379], [0.859915018081665, 0.14008493721485138], [0.9877324104309082, 0.01226755976676941], [0.9941622614860535, 0.005837771110236645], [0.7963650226593018, 0.20363499224185944], [0.9022074937820435, 0.09779246151447296], [0.8399057984352112, 0.16009414196014404], [0.9482495188713074, 0.05175050348043442], [0.005874219816178083, 0.9941257238388062], [0.999552309513092, 0.00044761120807379484], [0.9997135996818542, 0.00028640427626669407], [0.6718184947967529, 0.32818150520324707], [0.00044584012357518077, 0.9995540976524353], [0.9998656511306763, 0.00013428331294562668], [0.9888091683387756, 0.011190845631062984], [0.4285365045070648, 0.5714634656906128], [0.995891809463501, 0.004108143504709005], [0.9995386600494385, 0.0004613450146280229], [0.9997913241386414, 0.00020870492153335363], [0.03437391296029091, 0.965626060962677], [0.9995012283325195, 0.0004987490247003734], [0.9998194575309753, 0.00018057039414998144], [0.8370341658592224, 0.16296586394309998], [0.00014816841576248407, 0.9998518228530884], [0.9955047965049744, 0.004495224915444851], [0.9997978806495667, 0.000202114213607274], [0.9993981122970581, 0.0006019030115567148], [0.987524151802063, 0.012475810013711452], [0.009635454043745995, 0.9903646111488342], [0.9997350573539734, 0.00026495277415961027], [0.9968781471252441, 0.0031218049116432667], [0.3858169913291931, 0.6141829490661621], [0.7333463430404663, 0.2666536867618561], [0.9991349577903748, 0.0008650275995023549], [0.9995668530464172, 0.00043318094685673714], [0.918157160282135, 0.08184285461902618], [0.0001727799972286448, 0.9998272061347961], [0.9867764115333557, 0.01322359312325716], [0.9973502159118652, 0.0026497947983443737], [0.9691532850265503, 0.03084673173725605], [0.0014511689078062773, 0.9985488057136536], [0.42044806480407715, 0.5795518755912781], [0.015670664608478546, 0.984329342842102], [0.9903518557548523, 0.009648130275309086], [0.4431990087032318, 0.556800901889801], [0.0011233472032472491, 0.9988766312599182], [0.5524758100509644, 0.4475242495536804], [0.9909713268280029, 0.009028710424900055], [0.2785724699497223, 0.7214275598526001], [0.9737693071365356, 0.026230687275528908], [0.0004254580708220601, 0.9995744824409485], [0.2665671706199646, 0.7334328293800354], [0.9929783940315247, 0.007021656259894371], [0.9714356064796448, 0.02856440283358097], [0.9746666550636292, 0.025333372876048088], [0.9951900243759155, 0.004809928126633167], [0.8988023996353149, 0.10119763016700745], [0.2969779968261719, 0.7030220627784729], [0.9795563220977783, 0.020443713292479515], [0.32386597990989685, 0.6761339902877808], [0.0003695496416185051, 0.9996304512023926], [0.8682393431663513, 0.1317606419324875], [0.10661190748214722, 0.8933880925178528], [0.19835133850574493, 0.8016486763954163], [0.7101985216140747, 0.2898014783859253], [0.16109547019004822, 0.8389045000076294], [0.9997414946556091, 0.00025855013518594205], [0.9996547698974609, 0.0003452326054684818], [0.1820836365222931, 0.8179163932800293], [0.5340718626976013, 0.4659281373023987], [0.929477334022522, 0.07052267342805862], [0.3549036383628845, 0.6450963020324707], [0.4661914110183716, 0.5338085293769836], [0.5455807447433472, 0.45441925525665283], [0.7557594776153564, 0.24424050748348236], [0.8531678318977356, 0.1468321830034256], [0.005101069808006287, 0.9948989748954773], [0.43588176369667053, 0.5641182661056519], [0.9921741485595703, 0.00782589428126812], [0.9940776824951172, 0.005922318436205387], [0.9075148701667786, 0.09248519688844681], [0.03395985811948776, 0.9660401940345764], [0.9293477535247803, 0.07065217941999435], [0.3874317705631256, 0.6125682592391968], [0.5262430906295776, 0.47375690937042236], [0.9428786039352417, 0.05712137743830681], [0.7947667241096497, 0.20523323118686676], [0.8128925561904907, 0.18710744380950928], [0.935569167137146, 0.0644308403134346], [0.5930061340332031, 0.40699389576911926], [0.6213266253471375, 0.37867337465286255], [0.6575527191162109, 0.3424472510814667], [0.4358019232749939, 0.5641980171203613], [0.4073680341243744, 0.5926319360733032], [0.9793973565101624, 0.020602578297257423], [0.9689971208572388, 0.031002938747406006], [0.9989697933197021, 0.0010302518494427204], [0.9993247985839844, 0.0006751836044713855], [0.9998331069946289, 0.00016686377057339996], [0.8657304048538208, 0.13426963984966278], [9.584122017258778e-05, 0.9999041557312012], [0.47736772894859314, 0.5226322412490845], [0.02232232876121998, 0.9776776432991028], [0.010096785612404346, 0.9899032115936279], [0.9994373917579651, 0.000562609639018774], [0.9988515377044678, 0.001148416311480105], [0.9997692704200745, 0.00023069800226949155], [0.7853257656097412, 0.2146742045879364], [0.4550229012966156, 0.5449771285057068], [0.9925792813301086, 0.007420712150633335], [0.908612847328186, 0.09138717502355576], [0.8822534680366516, 0.11774653196334839], [0.9935010075569153, 0.006498993840068579], [0.9988357424736023, 0.0011643237667158246], [0.9989792704582214, 0.0010207288432866335], [0.9942135214805603, 0.0057865227572619915], [0.9937291145324707, 0.006270835176110268], [0.9355129599571228, 0.06448707729578018], [0.8617033362388611, 0.13829660415649414], [0.11258580535650253, 0.8874141573905945], [0.6363013386726379, 0.36369866132736206], [0.6330729722976685, 0.36692699790000916], [0.9268527626991272, 0.07314726710319519], [0.8946950435638428, 0.10530498623847961], [0.7191468477249146, 0.2808530926704407], [0.9218747019767761, 0.07812534272670746], [0.9337344765663147, 0.06626556813716888], [0.38534244894981384, 0.6146575808525085], [0.898902952671051, 0.10109707713127136], [0.8482436537742615, 0.1517563760280609], [0.4224775433540344, 0.5775225162506104], [0.8883681297302246, 0.111631840467453], [0.9996213912963867, 0.00037862584576942027], [0.99982750415802, 0.00017243750335182995], [0.01764153689146042, 0.9823583960533142], [0.3769189119338989, 0.6230810880661011], [0.9970189332962036, 0.0029810850974172354], [0.9226862192153931, 0.07731382548809052], [0.9060065746307373, 0.0939934104681015], [0.9640489220619202, 0.03595108911395073], [0.9993461966514587, 0.0006537491572089493], [0.9996767044067383, 0.0003233600582461804], [0.7387956976890564, 0.2612043023109436], [0.9998345375061035, 0.0001654104853514582], [0.9998331069946289, 0.00016686409071553499], [0.6736886501312256, 0.326311320066452], [0.9956629872322083, 0.004337041638791561], [0.9983466863632202, 0.001653299666941166], [0.7926768064498901, 0.20732317864894867], [0.00011319356417516246, 0.9998867511749268], [0.9935551285743713, 0.006444846745580435], [0.9945905208587646, 0.0054094851948320866], [0.9300800561904907, 0.06991995126008987], [0.0024470265489071608, 0.9975530505180359], [0.05838127061724663, 0.9416186809539795], [0.8595029711723328, 0.14049705862998962], [0.9945231676101685, 0.005476775113493204], [0.7383207082748413, 0.2616792619228363], [0.8447259068489075, 0.15527406334877014], [0.9986262321472168, 0.0013738006819039583], [0.9926048517227173, 0.007395148277282715], [0.9656798839569092, 0.03432014584541321], [0.9845134615898132, 0.015486487187445164], [0.99700528383255, 0.0029946689028292894], [0.9876555800437927, 0.0123444814234972], [0.9162363409996033, 0.08376363664865494], [0.9484772682189941, 0.05152271315455437], [0.8508405685424805, 0.14915941655635834], [0.875810980796814, 0.12418901920318604], [0.8384447693824768, 0.1615552306175232], [0.9928483963012695, 0.007151579484343529], [0.9891190528869629, 0.01088094711303711], [0.9983431100845337, 0.001656917156651616], [0.47886544466018677, 0.5211345553398132], [0.7831568717956543, 0.2168431282043457], [0.6604401469230652, 0.3395599126815796], [0.9906022548675537, 0.009397796355187893], [0.17580293118953705, 0.8241971135139465], [0.18379972875118256, 0.816200315952301], [0.3587387800216675, 0.6412611603736877], [0.20129220187664032, 0.7987078428268433], [0.015623720362782478, 0.9843763113021851], [0.39638078212738037, 0.6036192178726196], [0.9826906323432922, 0.01730933040380478], [0.9983925223350525, 0.0016074267914518714], [0.9960263967514038, 0.003973573446273804], [0.9782548546791077, 0.021745065227150917], [0.9815111756324768, 0.018488839268684387], [0.9902230501174927, 0.009776958264410496], [0.47493302822113037, 0.5250669717788696], [0.000494671578053385, 0.9995052814483643], [0.4085804522037506, 0.591419517993927], [0.0017344540683552623, 0.9982655644416809], [0.8298705816268921, 0.1701294481754303], [0.6707179546356201, 0.3292820155620575], [0.430755615234375, 0.569244384765625], [0.9917559623718262, 0.008244016207754612], [0.5081207156181335, 0.49187928438186646], [0.958972156047821, 0.04102787375450134], [0.058929529041051865, 0.9410704374313354], [0.8247047662734985, 0.17529521882534027], [0.8478012084960938, 0.15219876170158386], [0.12198980152606964, 0.8780102133750916], [0.8037700653076172, 0.1962299942970276], [0.547145426273346, 0.45285460352897644], [0.9858723282814026, 0.014127679169178009], [0.11489682644605637, 0.885103166103363], [0.9435688257217407, 0.0564311221241951], [0.0015359853859990835, 0.9984639883041382], [0.7240653038024902, 0.27593472599983215], [0.011513466015458107, 0.9884865283966064], [0.9996520280838013, 0.00034795113606378436], [0.9986156225204468, 0.0013843897031620145], [0.16591185331344604, 0.834088146686554], [0.9429747462272644, 0.05702522397041321], [0.9317839741706848, 0.06821603327989578], [0.28546270728111267, 0.7145373225212097], [0.999792754650116, 0.00020720709289889783], [0.9999054670333862, 9.452389349462464e-05], [0.9094762802124023, 0.09052377194166183], [0.00019485902157612145, 0.9998051524162292], [0.7864990234375, 0.2135009765625], [0.6206504106521606, 0.37934958934783936], [0.8369038105010986, 0.16309626400470734], [0.37405282258987427, 0.6259471774101257], [0.9168417453765869, 0.0831582173705101], [0.8900653719902039, 0.10993463546037674], [0.8643679618835449, 0.13563208281993866], [0.00023218044952955097, 0.9997678399085999], [0.0171643253415823, 0.9828357100486755], [0.9713427424430847, 0.02865731529891491], [0.9793440699577332, 0.020655862987041473], [0.010623914189636707, 0.9893760681152344], [0.08420305699110031, 0.9157968759536743], [0.00011197615822311491, 0.9998880624771118], [0.7800464630126953, 0.2199535071849823], [0.02352406084537506, 0.9764759540557861], [0.744618833065033, 0.2553810775279999], [9.34184790821746e-05, 0.9999065399169922], [0.9297650456428528, 0.07023493945598602], [0.2173406332731247, 0.7826593518257141], [0.8679641485214233, 0.13203585147857666], [0.9949328303337097, 0.005067123100161552], [0.8811341524124146, 0.11886578798294067], [0.023293593898415565, 0.9767063856124878], [0.8287244439125061, 0.1712755560874939], [0.9979696869850159, 0.00203030020929873], [0.9992523789405823, 0.0007475518505088985], [0.8866685628890991, 0.11333148926496506], [0.003315779147669673, 0.9966842532157898], [0.9924578666687012, 0.0075421747751533985], [0.9981141090393066, 0.0018859575502574444], [0.9992044568061829, 0.0007955878390930593], [0.8162255883216858, 0.1837744414806366], [0.0002790406288113445, 0.9997209906578064], [0.9038681983947754, 0.0961318388581276], [0.9667965173721313, 0.03320345655083656], [0.003477612743154168, 0.9965224266052246], [0.9958522319793701, 0.00414773216471076], [0.12764281034469604, 0.8723572492599487], [0.3260023891925812, 0.6739976406097412], [0.9990033507347107, 0.0009966237703338265], [0.9965078234672546, 0.0034921630285680294], [0.921307384967804, 0.07869255542755127], [0.00014891315368004143, 0.9998511075973511], [0.993119478225708, 0.006880541332066059], [0.9033092856407166, 0.09669069200754166], [0.00010462884529260918, 0.9998953342437744], [0.6740580797195435, 0.32594195008277893], [0.9974472522735596, 0.00255279871635139], [0.9864861965179443, 0.013513783924281597], [0.10860837250947952, 0.8913915753364563], [0.8550719618797302, 0.14492809772491455], [0.9545140266418457, 0.04548603296279907], [0.022914661094546318, 0.9770853519439697], [9.696697816252708e-05, 0.9999030828475952], [0.8239752650260925, 0.1760246902704239], [0.0026149635668843985, 0.9973850846290588], [0.2734702229499817, 0.7265297770500183], [0.06319067627191544, 0.936809241771698], [0.9976790547370911, 0.002320913365110755], [0.27799901366233826, 0.7220010161399841], [0.940201997756958, 0.05979803577065468], [0.9495372176170349, 0.05046273395419121], [9.54191928030923e-05, 0.9999045133590698], [0.8436360955238342, 0.15636388957500458], [0.08825406432151794, 0.9117459654808044], [0.0024786449503153563, 0.9975213408470154], [0.3389236629009247, 0.6610763669013977], [0.9547353982925415, 0.04526454582810402], [0.0141415074467659, 0.9858585000038147], [0.012510105967521667, 0.9874898791313171], [0.9971283078193665, 0.0028717510867863894], [0.9981796741485596, 0.0018203468061983585], [0.10567488521337509, 0.8943251371383667], [0.27498018741607666, 0.7250198721885681], [0.6619277596473694, 0.3380722105503082], [9.840210987022147e-05, 0.999901533126831], [0.9997122883796692, 0.0002876877842936665], [0.9998314380645752, 0.00016854857676662505], [0.9797734618186951, 0.020226486027240753], [0.6671554446220398, 0.3328445553779602], [0.6145946979522705, 0.3854052722454071], [0.9616953730583191, 0.03830461576581001], [0.4855273962020874, 0.5144726634025574], [0.9812553524971008, 0.018744641914963722], [0.9193344712257385, 0.08066556602716446], [0.671636164188385, 0.328363835811615], [0.9898179173469543, 0.010182082653045654], [0.9545565843582153, 0.04544338211417198], [0.9997337460517883, 0.0002661977778188884], [0.8385178446769714, 0.16148217022418976], [0.7307582497596741, 0.26924169063568115], [0.9946489930152893, 0.005351021885871887], [0.9057788252830505, 0.09422117471694946], [0.9981508851051331, 0.0018490604124963284], [0.9980097413063049, 0.0019902531057596207], [0.006067535374313593, 0.9939324259757996], [0.00010164039122173563, 0.9998983144760132], [0.9972895383834839, 0.0027104923501610756], [0.9941721558570862, 0.005827839020639658], [0.9550211429595947, 0.044978875666856766], [0.0016578291542828083, 0.9983421564102173], [0.0019326270557940006, 0.9980674386024475], [0.2784360647201538, 0.7215639352798462], [0.986724853515625, 0.013275161385536194], [0.8749432563781738, 0.12505672872066498], [0.01585911586880684, 0.9841408729553223], [0.12388910353183746, 0.8761109113693237], [0.9478959441184998, 0.05210404098033905], [0.8717118501663208, 0.1282881647348404], [0.05179039016366005, 0.9482096433639526], [0.0007834063144400716, 0.9992165565490723], [0.04851606488227844, 0.951483964920044], [0.999178946018219, 0.0008210415253415704], [0.9997664093971252, 0.00023362472711596638], [0.9746187329292297, 0.02538125216960907], [0.00011700320465024561, 0.9998829364776611], [0.9899868369102478, 0.010013173334300518], [0.9939321875572205, 0.006067770998924971], [0.9989256262779236, 0.0010743727907538414], [0.0006640022620558739, 0.9993359446525574], [0.00034210944431833923, 0.9996578693389893], [0.29438117146492004, 0.7056188583374023], [0.9990905523300171, 0.0009094835841096938], [0.9970937967300415, 0.002906175097450614], [0.9945898056030273, 0.005410201381891966], [0.9745110869407654, 0.025488872081041336], [0.9840706586837769, 0.015929337590932846], [0.9865146279335022, 0.013485386036336422], [0.6746056079864502, 0.3253943920135498], [0.9429581165313721, 0.05704186484217644], [0.9687050580978394, 0.03129500150680542], [0.054671142250299454, 0.9453288316726685], [0.9554274082183838, 0.04457255080342293], [0.43089765310287476, 0.56910240650177], [0.33166173100471497, 0.6683382391929626], [0.9597432613372803, 0.04025674983859062], [0.09452519565820694, 0.9054747819900513], [0.12419579923152924, 0.8758041262626648], [0.9156599640846252, 0.08434011042118073], [0.190951406955719, 0.809048593044281], [0.9956522583961487, 0.004347817972302437], [0.8129132390022278, 0.18708668649196625], [0.0001435953308828175, 0.9998563528060913], [0.9937217831611633, 0.006278190761804581], [0.8677172660827637, 0.13228268921375275], [0.9102526307106018, 0.08974738419055939], [0.44553762674331665, 0.5544623136520386], [0.4476068913936615, 0.5523930788040161], [0.8726171851158142, 0.1273827701807022], [0.2954557538032532, 0.7045442461967468], [0.999649167060852, 0.0003508325316943228], [0.5567849278450012, 0.4432150721549988], [0.7729811072349548, 0.22701893746852875], [0.87859046459198, 0.12140956521034241], [0.9930729269981384, 0.006927066016942263], [0.683892548084259, 0.31610745191574097], [0.9959873557090759, 0.004012636374682188], [0.0001246169995283708, 0.9998754262924194], [0.9457820057868958, 0.05421802029013634], [0.05049176141619682, 0.9495082497596741], [0.4088023900985718, 0.5911976099014282], [0.9865378141403198, 0.013462208211421967], [0.00020610289357136935, 0.9997939467430115], [0.9686567187309265, 0.031343258917331696], [0.3736134469509125, 0.6263865828514099], [0.44390448927879333, 0.556095540523529], [0.9939414262771606, 0.006058552768081427], [0.7932080030441284, 0.2067919373512268], [0.8670144081115723, 0.13298557698726654], [0.5664807558059692, 0.43351927399635315], [0.9734920263290405, 0.026507971808314323], [0.9941480159759521, 0.005851957481354475], [0.15073740482330322, 0.8492625951766968], [0.14925973117351532, 0.8507402539253235], [0.9937664270401001, 0.006233604159206152], [0.9996819496154785, 0.00031801409204490483], [0.49763667583465576, 0.5023633241653442], [9.655489702709019e-05, 0.9999034404754639], [0.9130101799964905, 0.08698977530002594], [0.999134361743927, 0.0008656571735627949], [0.9992918968200684, 0.0007080733776092529], [0.10048619657754898, 0.8995137810707092], [0.00012076128768967465, 0.9998792409896851], [0.9947315454483032, 0.005268483888357878], [0.8875837326049805, 0.11241626739501953], [0.9866791367530823, 0.01332089863717556], [0.15951894223690033, 0.8404811024665833], [0.42747923731803894, 0.5725207328796387], [0.22905999422073364, 0.7709400057792664], [0.9988138675689697, 0.0011860975064337254], [0.4039909839630127, 0.5960090756416321], [0.6088050603866577, 0.3911949098110199], [0.10410614311695099, 0.8958938717842102], [0.26635146141052246, 0.7336485385894775], [0.8802738189697266, 0.11972618103027344], [0.012125801295042038, 0.9878742098808289], [0.011552529409527779, 0.9884474873542786], [0.0019279702100902796, 0.9980720281600952], [0.9527186751365662, 0.04728129878640175], [0.9915348291397095, 0.008465184830129147], [0.0006547552766278386, 0.9993452429771423], [0.3818764090538025, 0.6181235313415527], [0.1357623040676117, 0.8642377853393555], [0.947187066078186, 0.05281294882297516], [0.0006297345971688628, 0.999370276927948], [0.8727058172225952, 0.12729418277740479], [0.30044370889663696, 0.6995563507080078], [0.051178209483623505, 0.9488217234611511], [0.9691652655601501, 0.030834700912237167], [0.17950858175754547, 0.820491373538971], [0.384072482585907, 0.6159275770187378], [0.11733882874250412, 0.8826611638069153], [0.9970055222511292, 0.002994452603161335], [0.6214826703071594, 0.3785173296928406], [0.8853106498718262, 0.11468937993049622], [0.9943420886993408, 0.005657928064465523], [0.8249354958534241, 0.1750645488500595], [0.9970297813415527, 0.002970196306705475], [0.6255261301994324, 0.3744739294052124], [0.9990668892860413, 0.0009330946486443281], [0.01946043223142624, 0.9805395603179932], [0.9973948001861572, 0.002605161862447858], [0.9998250603675842, 0.00017496240616310388], [0.6251735091209412, 0.3748265504837036], [0.00035083602415397763, 0.999649167060852], [0.5397639274597168, 0.4602360427379608], [0.9990280866622925, 0.0009719511144794524], [0.5411494374275208, 0.45885056257247925], [0.6944525837898254, 0.30554747581481934], [0.4426628649234772, 0.5573371648788452], [0.6789320111274719, 0.3210679888725281], [0.40595564246177673, 0.5940443277359009], [0.32445037364959717, 0.6755496263504028], [0.7178205847740173, 0.2821793854236603], [0.8602896928787231, 0.13971036672592163], [0.9986415505409241, 0.001358489040285349], [0.852811872959137, 0.14718817174434662], [0.9189696907997131, 0.08103033155202866], [0.9974488615989685, 0.00255106994882226], [0.9971047043800354, 0.0028953503351658583], [0.9181615114212036, 0.08183850347995758], [0.8171990513801575, 0.18280093371868134], [0.9992187023162842, 0.0007812369149178267], [0.9987117052078247, 0.0012882886221632361], [0.9437116980552673, 0.05628828704357147], [0.8123030662536621, 0.1876969188451767], [0.9988483190536499, 0.0011516534723341465], [0.9561173915863037, 0.04388253018260002], [0.7173996567726135, 0.28260037302970886], [0.7675840258598328, 0.23241595923900604], [0.9997395873069763, 0.000260448781773448], [0.3815273940563202, 0.6184726357460022], [0.9228724837303162, 0.07712750136852264], [0.2146737277507782, 0.7853261828422546], [0.9937211275100708, 0.0062789409421384335], [0.6252683997154236, 0.3747316896915436], [0.7037097811698914, 0.29629024863243103], [0.9810302257537842, 0.018969791010022163], [0.6212766170501709, 0.3787233829498291], [0.9962124824523926, 0.0037875568959861994], [0.845970094203949, 0.1540299504995346], [0.9012121558189392, 0.09878785163164139], [0.6937204599380493, 0.3062795400619507], [0.9934146404266357, 0.006585374940186739], [0.8613928556442261, 0.13860715925693512], [0.7926709651947021, 0.20732903480529785], [0.988976240158081, 0.011023834347724915], [0.25097841024398804, 0.749021589756012], [0.5325580835342407, 0.4674418866634369], [0.887627899646759, 0.11237213015556335], [0.5895577073097229, 0.4104423224925995], [0.46951693296432495, 0.530483067035675], [0.9914751052856445, 0.00852493941783905], [0.7924109101295471, 0.2075890600681305], [0.8777907490730286, 0.12220924347639084], [0.9995933175086975, 0.00040669890586286783], [0.5948665738105774, 0.4051334261894226], [0.9966938495635986, 0.003306156489998102], [0.7388184070587158, 0.2611815929412842], [0.8839712738990784, 0.11602868139743805], [0.998941957950592, 0.00105806696228683], [0.9971274733543396, 0.0028724924195557833], [0.08389075845479965, 0.9161092638969421], [0.9091646075248718, 0.09083542972803116], [0.06531958281993866, 0.9346804022789001], [0.99715256690979, 0.002847429597750306], [0.30623897910118103, 0.6937610507011414], [0.9227848649024963, 0.07721511274576187], [0.2682264447212219, 0.7317734956741333], [0.9970605969429016, 0.0029393222648650408], [0.8462323546409607, 0.15376771986484528], [0.7950872182846069, 0.20491284132003784], [0.9843599200248718, 0.015640126541256905], [0.615648627281189, 0.38435131311416626], [0.9629296660423279, 0.03707030788064003], [0.0457824282348156, 0.9542176127433777], [0.8704125881195068, 0.12958747148513794], [0.7274447679519653, 0.27255523204803467], [0.9992241859436035, 0.0007758637075312436], [0.7496234774589539, 0.25037655234336853], [0.8250848650932312, 0.1749151200056076], [0.5767925381660461, 0.42320743203163147], [0.9400497078895569, 0.059950314462184906], [0.0638287365436554, 0.936171293258667], [0.38845622539520264, 0.6115437746047974], [0.25104638934135437, 0.7489535808563232], [0.025999659672379494, 0.9740003347396851], [0.9841614961624146, 0.015838460996747017], [0.9849430322647095, 0.01505702082067728], [0.018093349412083626, 0.9819066524505615], [0.19159020483493805, 0.8084098100662231], [0.9202984571456909, 0.07970153540372849], [0.1546483039855957, 0.8453516364097595], [0.329624205827713, 0.6703757643699646], [0.03237916901707649, 0.967620849609375], [0.9979953765869141, 0.002004701877012849], [0.9999141693115234, 8.587985939811915e-05], [0.9300598502159119, 0.06994016468524933], [0.000902398896869272, 0.9990975856781006], [0.7125037312507629, 0.2874962389469147], [0.9429622292518616, 0.05703773722052574], [0.42580777406692505, 0.574192225933075], [0.1920839250087738, 0.8079161047935486], [0.06879990547895432, 0.9312000870704651], [0.9587161540985107, 0.04128383472561836], [0.9892868995666504, 0.01071311067789793], [0.008152168244123459, 0.9918478727340698], [0.16433171927928925, 0.8356683254241943], [0.9607886075973511, 0.03921134024858475], [0.9495176672935486, 0.05048227310180664], [0.7160811424255371, 0.2839188277721405], [0.8641732335090637, 0.13582682609558105], [0.4334603548049927, 0.5665396451950073], [0.9985628724098206, 0.0014371030265465379], [0.9998868703842163, 0.00011308168905088678], [0.7684958577156067, 0.2315041571855545], [0.000623450439888984, 0.9993765950202942], [0.7717361450195312, 0.22826391458511353], [0.9920884370803833, 0.007911489345133305], [0.9947717785835266, 0.005228161811828613], [0.00012356329534668475, 0.9998763799667358], [0.010649039410054684, 0.9893509745597839], [0.36765366792678833, 0.6323463320732117], [0.5867719650268555, 0.41322797536849976], [0.811152458190918, 0.18884752690792084], [0.9698584079742432, 0.030141642317175865], [0.19981303811073303, 0.8001869916915894], [0.8706669807434082, 0.12933307886123657], [0.8694427609443665, 0.13055728375911713], [0.639366865158081, 0.36063313484191895], [0.6352425813674927, 0.36475735902786255], [0.006901425775140524, 0.9930985569953918], [0.9845150709152222, 0.015484954230487347], [0.99918133020401, 0.0008186423801817], [0.911083996295929, 0.08891602605581284], [0.11620471626520157, 0.8837952613830566], [0.5709035396575928, 0.42909643054008484], [0.5830399394035339, 0.41696006059646606], [0.9943413734436035, 0.005658560898154974], [0.7778394222259521, 0.22216059267520905], [0.8857182860374451, 0.11428166180849075], [0.2945452928543091, 0.7054546475410461], [0.953477680683136, 0.04652233421802521], [0.02486160397529602, 0.9751384258270264], [0.014902926981449127, 0.9850971102714539], [0.9520871043205261, 0.047912951558828354], [0.9301809668540955, 0.06981911510229111], [0.709171712398529, 0.29082822799682617], [0.19658046960830688, 0.8034195303916931], [0.9972821474075317, 0.0027178232558071613], [0.9991856217384338, 0.0008143282611854374], [0.4834917187690735, 0.5165082812309265], [0.00013059146294835955, 0.9998693466186523], [0.49849432706832886, 0.5015056729316711], [0.976783037185669, 0.02321695350110531], [0.0030134061817079782, 0.9969865679740906], [0.9234501123428345, 0.07654987275600433], [0.044038355350494385, 0.9559615850448608], [0.10329530388116837, 0.8967047333717346], [0.9992523789405823, 0.000747652433346957], [0.725231409072876, 0.274768590927124], [0.9349709749221802, 0.06502902507781982], [0.7065419554710388, 0.29345807433128357], [0.9989344477653503, 0.0010655279038473964], [0.4732324481010437, 0.5267675518989563], [0.9467129707336426, 0.053286973387002945], [0.4697793424129486, 0.5302206873893738], [0.9891696572303772, 0.01083036046475172], [0.45922794938087463, 0.540772020816803], [0.863486111164093, 0.1365138739347458], [0.9347503185272217, 0.06524968147277832], [0.12744496762752533, 0.8725550174713135], [0.9970269799232483, 0.002973089925944805], [0.9986166954040527, 0.0013833203120157123], [0.7991779446601868, 0.20082201063632965], [0.0004313010140322149, 0.9995686411857605], [0.9471443891525269, 0.052855540066957474], [0.9960829019546509, 0.0039170351810753345], [0.9998767375946045, 0.0001232926151715219], [0.8112508654594421, 0.18874913454055786], [0.00013800751185044646, 0.9998619556427002], [0.9312321543693542, 0.06876791268587112], [0.9938549399375916, 0.006144980899989605], [0.34925931692123413, 0.6507406830787659], [0.5554109215736389, 0.4445890188217163], [0.07795045524835587, 0.9220495820045471], [0.9949656128883362, 0.005034402944147587], [0.5349953174591064, 0.46500468254089355], [0.029995186254382133, 0.9700047373771667], [0.8433296084403992, 0.15667042136192322], [0.9786965847015381, 0.021303405985236168], [0.4472430348396301, 0.5527569651603699], [0.647299587726593, 0.3527003526687622], [0.9663761854171753, 0.033623866736888885], [0.7636376619338989, 0.23636232316493988], [0.9982166886329651, 0.0017833266174420714], [0.7869056463241577, 0.21309435367584229], [0.9929325580596924, 0.0070674181915819645], [0.9028876423835754, 0.09711236506700516], [0.993385374546051, 0.0066146752797067165], [0.8732137084007263, 0.1267862766981125], [0.8209962248802185, 0.1790037453174591], [0.98954176902771, 0.010458183474838734], [0.8999673128128052, 0.10003270208835602], [0.9785520434379578, 0.021447911858558655], [0.8978112936019897, 0.10218869894742966], [0.8943536281585693, 0.10564636439085007], [0.9948441982269287, 0.0051557524129748344], [0.9043546915054321, 0.09564532339572906], [0.994617760181427, 0.00538228265941143], [0.6600733995437622, 0.3399266302585602], [0.8654658198356628, 0.13453416526317596], [0.9951906204223633, 0.004809341859072447], [0.8326038122177124, 0.16739624738693237], [0.9118201732635498, 0.08817984908819199], [0.35558170080184937, 0.6444182991981506], [0.5516105890274048, 0.44838935136795044], [0.9911504983901978, 0.008849521167576313], [0.3980056047439575, 0.6019943952560425], [0.6461093425750732, 0.35389071702957153], [0.598193347454071, 0.40180668234825134], [0.7526971101760864, 0.24730294942855835], [0.3438381552696228, 0.6561618447303772], [0.7785884141921997, 0.2214115560054779], [0.5381491184234619, 0.4618508815765381], [0.9525452852249146, 0.047454725950956345], [0.012359792366623878, 0.9876402020454407], [0.9698817133903503, 0.030118228867650032], [0.7064176797866821, 0.29358235001564026], [0.4123683571815491, 0.5876316428184509], [0.2941378057003021, 0.7058622241020203], [0.9879163503646851, 0.012083697132766247], [0.9997250437736511, 0.0002749887353274971], [9.840624261414632e-05, 0.999901533126831], [0.000138426898047328, 0.9998615980148315], [0.33381614089012146, 0.6661838293075562], [0.8300884366035461, 0.16991159319877625], [0.5365763902664185, 0.46342355012893677], [0.0949908122420311, 0.9050092101097107], [0.000864572764839977, 0.999135434627533], [0.970379650592804, 0.02962028980255127], [0.9989109039306641, 0.001089055323973298], [0.9574216604232788, 0.042578376829624176], [0.9694124460220337, 0.03058757819235325], [0.3444279134273529, 0.6555721163749695], [0.9920616149902344, 0.007938418537378311], [0.4348886013031006, 0.5651113986968994], [0.4839787781238556, 0.516021192073822], [0.7764427065849304, 0.2235572189092636], [0.4801390469074249, 0.5198609828948975], [0.3416900038719177, 0.6583099961280823], [0.7381277084350586, 0.2618723213672638], [0.915857195854187, 0.0841427817940712], [0.7424654960632324, 0.25753453373908997], [0.020241936668753624, 0.9797580242156982], [0.0034616070333868265, 0.9965384006500244], [0.5551350116729736, 0.44486498832702637], [0.2376941442489624, 0.7623058557510376], [0.26307275891304016, 0.7369272708892822], [0.2348286211490631, 0.7651714086532593], [0.21701568365097046, 0.7829843163490295], [0.9842236638069153, 0.015776364132761955], [0.001436488120816648, 0.9985635876655579], [9.856974793365225e-05, 0.9999014139175415], [0.7986815571784973, 0.20131853222846985], [0.6787272095680237, 0.3212728202342987], [0.9958621263504028, 0.004137876443564892], [0.9985779523849487, 0.0014219959266483784], [0.9442300796508789, 0.055769868195056915], [0.9910506010055542, 0.00894936639815569], [0.9998235106468201, 0.00017656963609624654], [0.982853889465332, 0.017146138474345207], [0.00032742787152528763, 0.999672532081604], [0.7402641773223877, 0.2597358226776123], [0.7346073985099792, 0.26539257168769836], [0.25830885767936707, 0.7416911721229553], [0.7538138031959534, 0.24618621170520782], [0.12434539198875427, 0.8756545782089233], [0.7523985505104065, 0.2476014792919159], [0.8656308054924011, 0.13436919450759888], [0.30499204993247986, 0.6950079202651978], [0.9022170901298523, 0.09778289496898651], [0.7791194319725037, 0.22088058292865753], [0.3385173976421356, 0.661482572555542], [0.6541414260864258, 0.3458586037158966], [0.8379029035568237, 0.16209712624549866], [0.9657700061798096, 0.03422998636960983], [0.754294216632843, 0.2457057386636734], [0.31338179111480713, 0.6866182684898376], [0.1335875242948532, 0.8664124608039856], [0.30689772963523865, 0.693102240562439], [0.025684712454676628, 0.9743152856826782], [0.328730970621109, 0.6712689995765686], [0.7789199948310852, 0.22107994556427002], [0.11091471463441849, 0.8890852928161621], [0.9369409084320068, 0.06305906921625137], [0.8858430981636047, 0.11415690928697586], [0.7988870739936829, 0.20111291110515594], [0.6080878376960754, 0.39191222190856934], [0.3008266091346741, 0.6991734504699707], [0.7880584597587585, 0.21194159984588623], [0.40884438157081604, 0.5911555886268616], [0.851848840713501, 0.14815117418766022], [0.9951673746109009, 0.0048326957039535046], [0.9631690382957458, 0.03683098033070564], [0.9750829339027405, 0.02491707354784012], [0.9125193357467651, 0.0874805897474289], [0.695021390914917, 0.304978609085083], [0.928798496723175, 0.07120146602392197], [0.9835065603256226, 0.016493426635861397], [0.8825098872184753, 0.11749007552862167], [0.2111024111509323, 0.7888975739479065], [0.003698599524796009, 0.9963014125823975], [0.8845154047012329, 0.1154845654964447], [0.9885099530220032, 0.011490006931126118], [0.9862020611763, 0.013797946274280548], [0.9903268218040466, 0.009673207998275757], [0.9780688285827637, 0.021931195631623268], [0.9920300245285034, 0.007970002479851246], [0.9735813736915588, 0.02641855552792549], [0.6243914365768433, 0.37560856342315674], [0.9319445490837097, 0.06805551797151566], [0.7111958861351013, 0.2888041138648987], [0.9994058609008789, 0.0005941701238043606], [0.11234274506568909, 0.8876572847366333], [0.8782827854156494, 0.12171721458435059], [0.9996989965438843, 0.00030099836294539273], [0.9997581839561462, 0.00024186914379242808], [0.7481189966201782, 0.25188103318214417], [0.9834923148155212, 0.016507765278220177], [0.9458083510398865, 0.05419164150953293], [0.624383807182312, 0.3756162226200104], [0.7717400789260864, 0.2282598614692688], [0.9241034388542175, 0.07589659839868546], [0.8419432640075684, 0.1580568104982376], [0.9918555021286011, 0.008144499734044075], [0.4995667338371277, 0.5004332065582275], [0.2064330130815506, 0.7935670018196106], [0.6979838609695435, 0.30201613903045654], [0.9386588931083679, 0.061341095715761185], [0.991916835308075, 0.00808312464505434], [0.00011240857566008344, 0.9998875856399536], [0.9983417987823486, 0.0016581652453169227], [0.9916911125183105, 0.008308935910463333], [0.7702593207359314, 0.2297406643629074], [0.9991264939308167, 0.0008734766743145883], [0.999614953994751, 0.000385035207727924], [0.0007770915981382132, 0.9992228746414185], [0.22142741084098816, 0.7785725593566895], [0.9666252732276917, 0.033374760299921036], [0.6642624735832214, 0.33573752641677856], [0.2538317143917084, 0.746168315410614], [0.73471599817276, 0.2652840316295624], [0.9685705900192261, 0.031429387629032135], [0.9700347185134888, 0.02996530756354332], [0.9036412239074707, 0.09635884314775467], [0.9402570724487305, 0.05974290892481804], [0.10091336071491241, 0.8990866541862488], [0.9955865144729614, 0.004413474816828966], [0.40981990098953247, 0.5901801586151123], [0.09909216314554214, 0.9009078741073608], [0.7289243936538696, 0.2710755467414856], [0.37469029426574707, 0.6253096461296082], [0.13769884407520294, 0.8623011708259583], [0.9418995976448059, 0.058100320398807526], [0.1425168663263321, 0.8574830889701843], [0.8982706069946289, 0.10172943025827408], [0.8977878093719482, 0.10221216082572937], [0.51619952917099, 0.4838005006313324], [0.860558032989502, 0.13944189250469208], [0.9954053163528442, 0.004594672471284866], [0.9983599781990051, 0.0016400010790675879], [0.8388285040855408, 0.16117145121097565], [0.00012920027074869722, 0.999870777130127], [0.974723756313324, 0.02527627907693386], [0.9481103420257568, 0.05188967287540436], [0.5365957021713257, 0.46340423822402954], [0.9912113547325134, 0.008788633160293102], [0.9855000376701355, 0.014499912969768047], [0.22699956595897675, 0.7730004787445068], [0.5467172861099243, 0.45328274369239807], [0.9974502921104431, 0.0025496750604361296], [0.9888235926628113, 0.011176428757607937], [0.5207819938659668, 0.4792180061340332], [0.9903427362442017, 0.009657297283411026], [0.998223602771759, 0.0017764109652489424], [0.9884665012359619, 0.01153347548097372], [0.00010912019206443802, 0.999890923500061], [0.9983194470405579, 0.0016804871847853065], [0.9925099611282349, 0.007490078918635845], [0.8717370629310608, 0.1282629668712616], [0.999767005443573, 0.00023295919527299702], [0.9998010993003845, 0.00019896714366041124], [0.9665325880050659, 0.03346742317080498], [0.22342906892299652, 0.7765709757804871], [0.7055303454399109, 0.2944697141647339], [0.48410993814468384, 0.5158900618553162], [0.11441605538129807, 0.8855839371681213], [0.023204710334539413, 0.9767953157424927], [0.3422302305698395, 0.6577697992324829], [0.9814218282699585, 0.018578168004751205], [0.0003875443071592599, 0.9996125102043152], [0.9994725584983826, 0.0005274515133351088], [0.8909081816673279, 0.10909182578325272], [0.15918682515621185, 0.840813159942627], [0.998461127281189, 0.0015388488536700606], [0.9997566342353821, 0.0002433664776617661], [0.06557286530733109, 0.9344270825386047], [0.8804336190223694, 0.11956631392240524], [0.9987472295761108, 0.0012528062798082829], [0.9716008305549622, 0.028399163857102394], [0.6405903100967407, 0.3594096899032593], [0.7447956204414368, 0.25520437955856323], [0.9896843433380127, 0.010315663181245327], [0.9661155343055725, 0.0338844396173954], [0.7371419668197632, 0.26285800337791443], [0.6237565875053406, 0.37624335289001465], [0.988381564617157, 0.011618401855230331], [0.8028759956359863, 0.19712401926517487], [0.9687591195106506, 0.031240953132510185], [0.2257530689239502, 0.7742469310760498], [0.9979762434959412, 0.0020237735006958246], [0.00010133159230463207, 0.9998986721038818], [0.9993225336074829, 0.000677475065458566], [0.9975852966308594, 0.002414654940366745], [0.7804101705551147, 0.21958981454372406], [0.9998350143432617, 0.00016501698701176792], [0.9998998641967773, 0.00010014104191213846], [0.0006544495117850602, 0.9993454813957214], [0.812967836856842, 0.18703210353851318], [0.9977980852127075, 0.002201966941356659], [0.9628046751022339, 0.03719533607363701], [0.7391895055770874, 0.2608104944229126], [0.9877861738204956, 0.012213868089020252], [0.9931118488311768, 0.006888163276016712], [0.8911281228065491, 0.10887180268764496], [0.001430722652003169, 0.9985692501068115], [0.9921128749847412, 0.007887117564678192], [0.9542840123176575, 0.045715928077697754], [0.5523362755775452, 0.4476637840270996], [0.9966431856155396, 0.0033567985519766808], [0.999365508556366, 0.000634466705378145], [0.4737084209918976, 0.5262916088104248], [0.9954924583435059, 0.004507554229348898], [0.8418667912483215, 0.15813325345516205], [0.3445514142513275, 0.6554486155509949], [0.9825876355171204, 0.017412330955266953], [0.9962137341499329, 0.0037862486205995083], [0.06833463907241821, 0.9316653609275818], [0.8053295612335205, 0.19467046856880188], [0.5100713968276978, 0.48992857336997986], [0.09388679265975952, 0.9061132669448853], [0.12764106690883636, 0.8723589181900024], [0.793528139591217, 0.20647186040878296], [0.9088585376739502, 0.09114140272140503], [0.05047057569026947, 0.9495294094085693], [0.503814160823822, 0.496185839176178], [0.8241364359855652, 0.1758635938167572], [0.6557261943817139, 0.3442738652229309], [0.9335377812385559, 0.06646228581666946], [0.876638650894165, 0.12336131930351257], [0.30194252729415894, 0.6980575323104858], [0.8310930728912354, 0.16890695691108704], [0.5614501237869263, 0.4385499060153961], [0.8710799813270569, 0.1289200633764267], [0.8700860142707825, 0.12991395592689514], [0.8490377068519592, 0.15096226334571838], [0.9659489393234253, 0.03405098617076874], [0.9689207673072815, 0.031079266220331192], [0.8986533284187317, 0.1013466864824295], [0.9909570217132568, 0.009042940102517605], [0.7153432369232178, 0.28465673327445984], [0.982667863368988, 0.01733214594423771], [0.742937445640564, 0.25706255435943604], [0.9763918519020081, 0.02360812947154045], [0.5594164133071899, 0.44058358669281006], [0.8848439455032349, 0.11515606194734573], [0.5206530690193176, 0.47934696078300476], [0.9874882698059082, 0.012511749751865864], [0.9504418969154358, 0.049558039754629135], [0.9992892742156982, 0.0007106930133886635], [0.9281564354896545, 0.07184357196092606], [0.9984492063522339, 0.001550711109302938], [0.00043419981375336647, 0.9995657801628113], [0.9985458850860596, 0.0014541841810569167], [0.5402787923812866, 0.45972123742103577], [0.9276804327964783, 0.07231960445642471], [0.9923778772354126, 0.007622100878506899], [0.9995285272598267, 0.0004715477698482573], [0.02298336662352085, 0.9770166277885437], [0.9801053404808044, 0.019894665107131004], [0.895605742931366, 0.10439425706863403], [0.6789816617965698, 0.3210183382034302], [0.9851908087730408, 0.01480920985341072], [0.9904080033302307, 0.009591964073479176], [0.9951254725456238, 0.0048745921812951565], [0.8936274647712708, 0.10637252777814865], [0.9944002032279968, 0.005599844269454479], [0.6570606231689453, 0.3429394066333771], [0.9457513093948364, 0.054248660802841187], [0.5823823809623718, 0.4176175892353058], [0.6234400868415833, 0.37655988335609436], [0.6013652682304382, 0.39863473176956177], [0.9404417872428894, 0.0595582090318203], [0.998178243637085, 0.0018217804608866572], [0.9851812124252319, 0.014818849042057991], [0.7758035659790039, 0.2241964340209961], [0.8235276937484741, 0.1764722764492035], [0.9935751557350159, 0.006424826569855213], [0.9215834140777588, 0.07841656357049942], [0.9908953905105591, 0.009104689583182335], [0.9970875382423401, 0.0029125302098691463], [0.9951936602592468, 0.004806300159543753], [0.3031247854232788, 0.696875274181366], [0.897377073764801, 0.10262299329042435], [0.973796010017395, 0.026203952729701996], [0.8567137718200684, 0.14328621327877045], [0.9993723034858704, 0.0006277690990827978], [0.06674174219369888, 0.9332582950592041], [0.9956491589546204, 0.004350859671831131], [0.9693034291267395, 0.030696550384163857], [0.960494339466095, 0.039505619555711746], [0.9952465891838074, 0.004753435961902142], [0.9156220555305481, 0.08437788486480713], [0.9810632467269897, 0.018936777487397194], [0.9534942507743835, 0.04650568589568138], [0.9311485290527344, 0.06885146349668503], [0.5746095180511475, 0.42539048194885254], [0.9700464010238647, 0.02995365299284458], [0.04998946934938431, 0.9500105381011963], [0.9772102236747742, 0.02278977632522583], [0.8616951107978821, 0.1383049190044403], [0.003395095467567444, 0.9966049194335938], [0.49204251170158386, 0.5079574584960938], [0.7948594689369202, 0.20514053106307983], [0.5347832441329956, 0.4652167856693268], [0.19674943387508392, 0.8032505512237549], [0.6658416390419006, 0.33415836095809937], [0.69426029920578, 0.30573979020118713], [0.0052525741048157215, 0.9947474598884583], [0.44214534759521484, 0.5578545928001404], [0.6232097744941711, 0.37679025530815125], [0.9359424710273743, 0.06405751407146454], [0.8476088047027588, 0.15239118039608002], [0.9534134268760681, 0.046586547046899796], [0.8482224345207214, 0.15177755057811737], [0.8985608220100403, 0.10143917798995972], [0.7626602649688721, 0.23733969032764435], [0.44346699118614197, 0.5565330386161804], [0.6326014995574951, 0.36739856004714966], [0.9533356428146362, 0.046664368361234665], [0.19593892991542816, 0.8040610551834106], [0.948324978351593, 0.051674965769052505], [0.9195935726165771, 0.08040644228458405], [0.8949671983718872, 0.10503276437520981], [0.9816856384277344, 0.018314389511942863], [0.766151487827301, 0.23384852707386017], [0.9793865084648132, 0.020613472908735275], [0.9739157557487488, 0.02608431503176689], [0.4504450559616089, 0.5495549440383911], [0.9727109670639038, 0.027289018034934998], [0.9987303614616394, 0.0012695989571511745], [0.9981929659843445, 0.0018070569494739175], [0.9998272061347961, 0.00017280373140238225], [0.9987035989761353, 0.0012964154593646526], [0.9999067783355713, 9.315889474237338e-05], [0.6222532391548157, 0.37774673104286194], [0.9996103644371033, 0.00038965867133811116], [0.9967922568321228, 0.003207734553143382], [0.9197982549667358, 0.08020174503326416], [0.9746251106262207, 0.025374945253133774], [0.6351742744445801, 0.3648257851600647], [0.9886876344680786, 0.011312361806631088], [0.991028904914856, 0.008971045725047588], [0.9757733345031738, 0.024226699024438858], [0.5771504640579224, 0.4228496253490448], [0.9452175498008728, 0.05478252097964287], [0.0018984285416081548, 0.9981016516685486], [0.954683780670166, 0.04531623795628548], [0.73548424243927, 0.26451575756073], [0.863294780254364, 0.13670514523983002], [0.9857097864151001, 0.01429017260670662], [0.21984201669692993, 0.7801579833030701], [0.11969184875488281, 0.8803081512451172], [0.853023111820221, 0.14697691798210144], [0.26150768995285034, 0.7384923100471497], [0.7802848219871521, 0.21971522271633148], [0.5849115252494812, 0.4150884747505188], [0.6001124978065491, 0.39988747239112854], [0.7914324402809143, 0.2085675448179245], [0.7580440640449524, 0.2419559210538864], [0.8650261759757996, 0.13497383892536163], [0.6766967177391052, 0.3233032822608948], [0.06384819746017456, 0.9361518025398254], [0.9373096227645874, 0.06269033253192902], [0.00484882527962327, 0.995151162147522], [0.4409226179122925, 0.5590773820877075], [0.9858596920967102, 0.014140276238322258], [0.8905072808265686, 0.10949274897575378], [0.48701703548431396, 0.5129830241203308], [0.9611871242523193, 0.038812827318906784], [0.9680202603340149, 0.03197969123721123], [0.0015293137403205037, 0.9984707236289978], [0.6270588636398315, 0.37294110655784607], [0.9957059025764465, 0.0042940592393279076], [0.9555122256278992, 0.044487789273262024], [0.7848057150840759, 0.2151942104101181], [0.979709267616272, 0.020290682092308998], [0.9922656416893005, 0.007734374608844519], [0.27531594038009644, 0.7246840596199036], [0.9059780240058899, 0.0940220057964325], [0.897473156452179, 0.10252686589956284], [0.9139569997787476, 0.08604303002357483], [0.886786162853241, 0.11321385204792023], [0.9865975975990295, 0.013402487151324749], [0.0002804009709507227, 0.9997195601463318], [0.4400467276573181, 0.5599532127380371], [0.20863163471221924, 0.791368305683136], [0.1546323001384735, 0.8453676700592041], [0.9985083937644958, 0.001491629402153194], [0.9995416402816772, 0.0004583543923217803], [0.3589695394039154, 0.641030490398407], [0.6632381677627563, 0.33676180243492126], [0.6969139575958252, 0.3030860126018524], [0.5100709199905396, 0.48992910981178284], [0.09935827553272247, 0.9006417393684387], [0.9773855805397034, 0.022614456713199615], [0.9786108136177063, 0.021389219909906387], [0.9495803713798523, 0.050419650971889496], [0.9750615954399109, 0.024938350543379784], [0.1528007686138153, 0.8471992015838623], [0.9887703657150269, 0.011229690164327621], [0.02458643913269043, 0.9754135012626648], [0.9860848188400269, 0.013915177434682846], [0.5461417436599731, 0.45385831594467163], [0.9915279150009155, 0.008472022600471973], [0.23333504796028137, 0.766664981842041], [0.9746500253677368, 0.025350026786327362], [0.9322100877761841, 0.0677899643778801], [0.986561119556427, 0.013438858091831207], [0.8997118473052979, 0.10028820484876633], [0.8459295630455017, 0.15407045185565948], [0.6556875109672546, 0.344312459230423], [0.508489191532135, 0.491510808467865], [0.2989848256111145, 0.7010151743888855], [0.0298604778945446, 0.9701395034790039], [0.5528410077095032, 0.4471590220928192], [0.9567444324493408, 0.04325556010007858], [0.000418886513216421, 0.9995811581611633], [0.09302810579538345, 0.9069718718528748], [0.9524005651473999, 0.047599390149116516], [0.5407493710517883, 0.45925065875053406], [0.22754010558128357, 0.7724599242210388], [0.7671058773994446, 0.23289410769939423], [0.9675073623657227, 0.032492708414793015], [0.0020018713548779488, 0.997998058795929], [0.32940539717674255, 0.6705945730209351], [0.9622411131858826, 0.037758901715278625], [0.8287826180458069, 0.17121730744838715], [0.10525567084550858, 0.8947443962097168], [0.3638780117034912, 0.6361219882965088], [0.9761378765106201, 0.023862125352025032], [0.4001350402832031, 0.5998650193214417], [0.7860394716262817, 0.21396049857139587], [0.6593064665794373, 0.34069353342056274], [0.8157131671905518, 0.18428687751293182], [0.28367334604263306, 0.7163266539573669], [0.03483587130904198, 0.9651641249656677], [0.4991196393966675, 0.5008803606033325], [0.06915240734815598, 0.9308476448059082], [0.8021438717842102, 0.197856143116951], [0.8879616260528564, 0.11203841120004654], [0.9107206463813782, 0.08927927911281586], [0.4069901406764984, 0.593009889125824], [0.33959317207336426, 0.6604068279266357], [0.8787384629249573, 0.12126149237155914], [0.3472643494606018, 0.6527355909347534], [0.7158024311065674, 0.284197598695755], [0.8199711441993713, 0.18002885580062866], [0.773607611656189, 0.22639235854148865], [0.974573016166687, 0.02542697638273239], [0.9682714343070984, 0.03172852471470833], [0.8499376773834229, 0.15006233751773834], [0.9615024328231812, 0.03849754482507706], [0.8856843709945679, 0.11431559920310974], [0.8632076382637024, 0.13679231703281403], [0.2187645584344864, 0.7812354564666748], [0.9563650488853455, 0.04363497346639633], [0.1291748583316803, 0.8708251118659973], [0.5230898857116699, 0.47691014409065247], [0.7574166655540466, 0.24258330464363098], [0.5084824562072754, 0.4915175437927246], [0.5467393398284912, 0.4532606601715088], [0.5425012707710266, 0.4574987292289734], [0.666501522064209, 0.3334985375404358], [0.8981903791427612, 0.10180960595607758], [0.905089259147644, 0.09491069614887238], [0.9833864569664001, 0.016613544896245003], [0.9177756309509277, 0.08222436159849167], [0.7433021664619446, 0.2566978633403778], [0.31462225317955017, 0.6853777170181274], [0.9983096122741699, 0.0016904169460758567], [0.0033149707596749067, 0.9966850876808167], [0.8935539722442627, 0.10644596815109253], [0.8813040256500244, 0.11869589239358902], [0.8093907237052917, 0.19060927629470825], [0.9820330739021301, 0.017966942861676216], [0.987817108631134, 0.012182926759123802], [0.9993360638618469, 0.0006638984777964652], [0.8855364322662354, 0.11446356028318405], [0.998542308807373, 0.001457657665014267], [0.3607175350189209, 0.6392824649810791], [0.11192429810762405, 0.8880757093429565], [0.007605912629514933, 0.9923940896987915], [0.6492452621459961, 0.3507547080516815], [0.5573474764823914, 0.4426525831222534], [0.999578058719635, 0.00042198444134555757], [0.9999176263809204, 8.231233368860558e-05], [0.33852335810661316, 0.6614766716957092], [0.9954711198806763, 0.00452891131862998], [0.0006863022572360933, 0.9993137121200562], [0.18901735544204712, 0.8109826445579529], [0.9907711744308472, 0.009228773415088654], [0.9968318343162537, 0.0031681861728429794], [0.5007655024528503, 0.49923449754714966], [0.00014121475396677852, 0.9998587369918823], [0.3337361216545105, 0.6662638187408447], [0.9687925577163696, 0.031207431107759476], [0.5644203424453735, 0.43557965755462646], [0.2144925594329834, 0.7855073809623718], [0.9892432689666748, 0.01075668539851904], [0.6185843348503113, 0.3814156651496887], [0.6392330527305603, 0.3607669472694397], [0.9243594408035278, 0.07564061880111694], [0.7337533831596375, 0.26624658703804016], [0.9865760803222656, 0.013423883356153965], [0.9222408533096313, 0.07775910198688507], [0.9802061319351196, 0.019793914631009102], [0.9152312874794006, 0.08476877212524414], [0.22343754768371582, 0.7765624523162842], [0.9261052012443542, 0.07389478385448456], [0.9608550667762756, 0.03914488106966019], [0.862302303314209, 0.13769768178462982], [0.5562450289726257, 0.44375500082969666], [0.00013803501497022808, 0.9998619556427002], [0.012405321933329105, 0.9875946044921875], [0.9857914447784424, 0.014208505861461163], [0.8601497411727905, 0.1398502141237259], [0.922835111618042, 0.07716486603021622], [0.8452290296554565, 0.15477101504802704], [0.977462649345398, 0.02253739908337593], [0.8094043731689453, 0.1905955821275711], [0.49043554067611694, 0.5095643997192383], [0.6319068074226379, 0.36809322237968445], [0.8176044225692749, 0.1823955923318863], [0.9931898713111877, 0.0068100555799901485], [0.8431902527809143, 0.15680980682373047], [0.8938944935798645, 0.10610548406839371], [0.9734402894973755, 0.02655975893139839], [0.9994189739227295, 0.0005810363218188286], [0.9976463913917542, 0.002353632589802146], [0.9993342757225037, 0.0006657448248006403], [0.9991859793663025, 0.000814062193967402], [0.4446863830089569, 0.5553136467933655], [0.00010064814705401659, 0.9998993873596191], [0.9649506211280823, 0.03504934534430504], [0.9669688940048218, 0.03303104266524315], [0.4869154095649719, 0.5130845904350281], [0.8745407462120056, 0.12545925378799438], [0.9972513318061829, 0.002748672617599368], [0.8885335326194763, 0.1114664152264595], [0.173311248421669, 0.826688826084137], [0.3195483088493347, 0.6804516315460205], [0.05741162970662117, 0.9425883889198303], [0.006942470092326403, 0.9930574893951416], [0.9976444840431213, 0.0023555243387818336], [0.9952874183654785, 0.0047125727869570255], [0.00012380424595903605, 0.9998761415481567], [0.34825262427330017, 0.6517474055290222], [0.9919513463973999, 0.008048716932535172], [0.9997504353523254, 0.0002495216322131455], [0.6359965801239014, 0.36400341987609863], [0.00018922584422398359, 0.9998107552528381], [0.6263201832771301, 0.3736797869205475], [0.9261848330497742, 0.07381513714790344], [0.24376890063285828, 0.7562310695648193], [0.875959038734436, 0.12404098361730576], [0.8457778096199036, 0.15422214567661285], [0.007987961173057556, 0.992012083530426], [0.8051427602767944, 0.19485719501972198], [0.5676217079162598, 0.43237829208374023], [0.43690547347068787, 0.5630945563316345], [0.9411581158638, 0.05884186178445816], [0.00011923487909371033, 0.9998807907104492], [0.7892405390739441, 0.21075944602489471], [0.9962978959083557, 0.003702143905684352], [0.5236209034919739, 0.4763790965080261], [0.00011069895845139399, 0.9998892545700073], [0.9939914345741272, 0.006008583586663008], [0.9994518160820007, 0.0005481505068019032], [0.6397597789764404, 0.36024028062820435], [0.15599477291107178, 0.8440051674842834], [0.573750913143158, 0.4262491464614868], [0.0001319922594120726, 0.9998680353164673], [0.9985411167144775, 0.0014588561607524753], [0.9888581037521362, 0.011141880415380001], [0.7840375900268555, 0.21596235036849976], [0.9991838335990906, 0.000816170999314636], [0.9996652603149414, 0.000334731099428609], [0.9640515446662903, 0.03594847396016121], [0.009363844990730286, 0.9906361699104309], [0.9674360752105713, 0.03256397321820259], [0.999596893787384, 0.0004031176504213363], [0.9484257698059082, 0.051574259996414185], [0.5503396987915039, 0.4496603012084961], [0.7178077697753906, 0.2821922302246094], [0.08002112805843353, 0.9199788570404053], [0.978400707244873, 0.02159932442009449], [0.4258131980895996, 0.5741868019104004], [0.7822283506393433, 0.21777164936065674], [0.9931743741035461, 0.006825642194598913], [0.2797245383262634, 0.7202755212783813], [0.9932706952095032, 0.006729322485625744], [0.985358715057373, 0.014641252346336842], [0.9965376853942871, 0.003462350694462657], [0.997885525226593, 0.002114514820277691], [0.9953976273536682, 0.004602348897606134], [0.9944023489952087, 0.005597683135420084], [0.8790982961654663, 0.12090174853801727], [0.9911240339279175, 0.008875934407114983], [0.5501335263252258, 0.4498664438724518], [0.326547771692276, 0.6734522581100464], [0.8810625672340393, 0.11893749237060547], [0.9419997930526733, 0.05800019949674606], [0.9979146122932434, 0.0020853986497968435], [0.699580729007721, 0.30041924118995667], [0.9987892508506775, 0.001210763119161129], [0.07084953039884567, 0.9291504621505737], [0.997641921043396, 0.002358164871111512], [0.9387353658676147, 0.06126459687948227], [0.31360936164855957, 0.6863906383514404], [0.6809191703796387, 0.3190808892250061], [0.0009640813805162907, 0.9990359544754028], [0.805984377861023, 0.19401557743549347], [0.001892408705316484, 0.9981075525283813], [0.9994170665740967, 0.0005829269648529589], [0.9999029636383057, 9.697936911834404e-05], [0.9188472032546997, 0.0811527743935585], [0.8013538122177124, 0.1986461877822876], [0.9968230724334717, 0.0031769052147865295], [0.9977669715881348, 0.002233008621260524], [0.9985458850860596, 0.0014541626442223787], [0.9988202452659607, 0.0011796924518421292], [0.9908189177513123, 0.009181106463074684], [0.9943793416023254, 0.005620681215077639], [0.9964959025382996, 0.003504156367853284], [0.14393818378448486, 0.8560618162155151], [0.8740831017494202, 0.12591692805290222], [0.00022135877225082368, 0.999778687953949], [0.9999234676361084, 7.648953032912686e-05], [0.999950647354126, 4.939305654261261e-05], [0.04489605128765106, 0.9551039338111877], [0.9924923777580261, 0.007507610134780407], [0.9908375144004822, 0.009162419475615025], [0.0006049229414202273, 0.9993950128555298], [0.8113405108451843, 0.18865947425365448], [0.0002949039626400918, 0.9997050166130066], [0.9987682700157166, 0.0012316820211708546], [0.9763134121894836, 0.023686571046710014], [0.9996500015258789, 0.00035001771175302565], [0.9990361928939819, 0.0009638545452617109], [0.9918599724769592, 0.008140063844621181], [0.9932100176811218, 0.006790002807974815], [0.22740070521831512, 0.7725992798805237], [0.3816052973270416, 0.618394672870636], [0.6720781326293945, 0.3279218077659607], [0.2761231064796448, 0.7238768935203552], [0.22073514759540558, 0.7792648077011108], [0.9977462887763977, 0.0022537263575941324], [0.044619034975767136, 0.9553809762001038], [0.81764155626297, 0.182358518242836], [0.0007973478059284389, 0.9992026686668396], [0.9844340682029724, 0.015565859153866768], [0.012053467333316803, 0.9879465699195862], [0.8285771608352661, 0.1714227944612503], [0.817877471446991, 0.18212249875068665], [0.9731148481369019, 0.026885144412517548], [0.034921932965517044, 0.9650780558586121], [0.9983407258987427, 0.0016592122847214341], [0.7325698733329773, 0.2674301564693451], [0.8796200156211853, 0.1203799694776535], [0.9913002848625183, 0.00869976356625557], [0.752964437007904, 0.24703560769557953], [0.984373927116394, 0.015626057982444763], [0.9152965545654297, 0.0847034603357315], [0.9397249817848206, 0.06027502939105034], [0.9781785607337952, 0.021821456030011177], [0.00011907262523891404, 0.9998809099197388], [0.9231520891189575, 0.07684798538684845], [0.9982497096061707, 0.0017502257833257318], [0.999896764755249, 0.00010328002827009186], [0.9999345541000366, 6.546145596075803e-05], [0.7921846508979797, 0.20781530439853668], [0.9992222785949707, 0.0007776534766890109], [0.9997512698173523, 0.00024874729570001364], [0.09762042760848999, 0.90237957239151], [0.00021608659881167114, 0.9997839331626892], [0.20315158367156982, 0.7968484163284302], [0.9932733774185181, 0.006726645398885012], [0.9723301529884338, 0.027669906616210938], [0.34304580092430115, 0.6569542288780212], [0.00015559687744826078, 0.9998444318771362], [0.1178097054362297, 0.8821902871131897], [0.002618738217279315, 0.9973812699317932], [0.9781437516212463, 0.021856220439076424], [0.9968854784965515, 0.0031145301181823015], [0.8053106069564819, 0.19468943774700165], [0.9977359771728516, 0.002263986971229315], [0.9912554025650024, 0.008744552731513977], [0.9981896281242371, 0.0018103108741343021], [0.9850260615348816, 0.01497388631105423], [0.9684374332427979, 0.031562574207782745], [0.9967557787895203, 0.003244158811867237], [0.9972922205924988, 0.0027077854610979557], [0.5196328163146973, 0.48036718368530273], [0.9951015114784241, 0.004898457787930965], [0.8288975954055786, 0.1711024045944214], [0.999688982963562, 0.0003109933459199965], [0.017655080184340477, 0.982344925403595], [0.9824751019477844, 0.017524870112538338], [0.9877249598503113, 0.012274997308850288], [0.9979111552238464, 0.0020888359285891056], [0.9809880256652832, 0.019012024626135826], [0.9582700729370117, 0.041729945689439774], [0.8160303831100464, 0.1839696615934372], [0.9234904050827026, 0.07650963962078094], [0.4753064513206482, 0.5246935486793518], [0.8358222246170044, 0.1641777604818344], [0.0025604956317692995, 0.9974395036697388], [0.9794344305992126, 0.020565586164593697], [0.9646259546279907, 0.03537410497665405], [0.6676050424575806, 0.3323950171470642], [0.10842759907245636, 0.8915724158287048], [0.4832990765571594, 0.5167009830474854], [0.8630067110061646, 0.13699328899383545], [9.938123548636213e-05, 0.9999005794525146], [0.8980427980422974, 0.10195717215538025], [0.00010882632341235876, 0.9998911619186401], [0.30899885296821594, 0.6910011172294617], [0.8805628418922424, 0.11943718045949936], [0.06523334980010986, 0.9347666501998901], [0.00011674933921312913, 0.9998832941055298], [0.9744291305541992, 0.02557091787457466], [0.027498843148350716, 0.9725010991096497], [0.7345792055130005, 0.2654208540916443], [0.8813154101371765, 0.1186845675110817], [0.9799841046333313, 0.020015891641378403], [0.9068202972412109, 0.09317969530820847], [0.8759030699729919, 0.12409690767526627], [0.8372933864593506, 0.16270658373832703], [0.22313089668750763, 0.7768691182136536], [0.9906401634216309, 0.009359855204820633], [0.5575442314147949, 0.4424557089805603], [0.9873303174972534, 0.012669690884649754], [0.9976609945297241, 0.0023390362039208412], [0.7797494530677795, 0.22025050222873688], [0.9840676784515381, 0.01593232899904251], [0.6884137392044067, 0.31158629059791565], [0.5022852420806885, 0.49771466851234436], [0.9661258459091187, 0.033874139189720154], [0.9859206080436707, 0.014079397544264793], [0.9819719195365906, 0.01802811771631241], [0.989605188369751, 0.010394826531410217], [0.9983668923377991, 0.0016330749494954944], [0.9976243376731873, 0.0023757268209010363], [0.44754138588905334, 0.5524585247039795], [0.016532642766833305, 0.9834674000740051], [0.9971354007720947, 0.0028646010905504227], [0.11962847411632538, 0.8803715705871582], [0.4893006384372711, 0.5106993913650513], [0.3811599314212799, 0.6188400983810425], [0.45398008823394775, 0.5460198521614075], [0.29086947441101074, 0.7091304659843445], [0.006816903594881296, 0.9931830763816833], [0.3232443332672119, 0.6767556071281433], [0.7629501819610596, 0.23704983294010162], [0.9747947454452515, 0.025205187499523163], [0.9988147020339966, 0.0011852944735437632], [0.9933068156242371, 0.006693231873214245], [0.9909200668334961, 0.009079891256988049], [0.8909167051315308, 0.10908332467079163], [0.746471643447876, 0.25352829694747925], [0.7689980268478394, 0.23100200295448303], [0.9128515124320984, 0.0871485248208046], [0.8068143129348755, 0.1931857466697693], [0.5066618323326111, 0.4933381676673889], [0.804962694644928, 0.19503729045391083], [0.8878561854362488, 0.11214383691549301], [0.4486062228679657, 0.5513938069343567], [0.8229150772094727, 0.17708492279052734], [0.9727950096130371, 0.027204984799027443], [0.9090754389762878, 0.09092456102371216], [0.840031623840332, 0.15996840596199036], [0.9713312387466431, 0.02866874448955059], [0.5974531769752502, 0.40254688262939453], [0.1864723414182663, 0.8135276436805725], [0.36412397027015686, 0.6358759999275208], [0.17535275220870972, 0.8246472477912903], [0.06417524069547653, 0.9358248114585876], [0.27840253710746765, 0.72159743309021], [0.9933428764343262, 0.006657096091657877], [0.9854264259338379, 0.014573612250387669], [0.9997627139091492, 0.00023730540124233812], [0.002433819230645895, 0.9975662231445312], [0.7578428983688354, 0.24215705692768097], [0.8242881298065186, 0.17571189999580383], [0.9637628197669983, 0.0362372063100338], [0.7804920077323914, 0.21950796246528625], [0.9693922996520996, 0.030607696622610092], [0.7333295941352844, 0.2666703760623932], [0.9060125350952148, 0.09398745745420456], [0.9862625598907471, 0.013737435452640057], [0.9979543685913086, 0.0020456169731914997], [0.8686321377754211, 0.13136786222457886], [0.754423201084137, 0.24557678401470184], [0.9633446931838989, 0.03665531054139137], [0.6462319493293762, 0.3537680506706238], [0.8455633521080017, 0.15443667769432068], [0.9808488488197327, 0.019151121377944946], [0.9512471556663513, 0.048752911388874054], [0.03239627927541733, 0.9676037430763245], [0.938776969909668, 0.06122303754091263], [0.8884263038635254, 0.111573725938797], [0.9098621606826782, 0.09013783931732178], [0.9903019070625305, 0.00969811249524355], [0.9680057168006897, 0.031994204968214035], [0.7567331790924072, 0.24326689541339874], [0.9993983507156372, 0.0006016575498506427], [0.9759886860847473, 0.02401137351989746], [0.5811554193496704, 0.4188445806503296], [0.9987548589706421, 0.0012451765360310674], [0.8010409474372864, 0.1989590972661972], [0.9957982897758484, 0.004201726987957954], [0.6542482972145081, 0.34575170278549194], [0.9951812624931335, 0.004818733315914869], [0.01998324505984783, 0.9800167083740234], [0.9860289692878723, 0.013971006497740746], [0.9672176241874695, 0.03278240188956261], [0.9591779708862305, 0.040821969509124756], [0.028234366327524185, 0.9717655777931213], [0.42925161123275757, 0.5707484483718872], [0.8288599252700806, 0.17114004492759705], [0.00012328967568464577, 0.9998767375946045], [0.7573030591011047, 0.24269695580005646], [0.706154465675354, 0.29384559392929077], [0.9859733581542969, 0.01402668934315443], [0.7689573764801025, 0.23104260861873627], [0.2894470989704132, 0.7105529308319092], [0.9437281489372253, 0.05627186596393585], [0.9853327870368958, 0.014667182229459286], [0.9929611086845398, 0.007038912270218134], [0.43477392196655273, 0.565226137638092], [0.9986668825149536, 0.0013330804649740458], [0.98275226354599, 0.01724773831665516], [0.5068157315254211, 0.49318426847457886], [0.999113142490387, 0.0008868884178809822], [0.9482850432395935, 0.051715005189180374], [0.9810092449188232, 0.018990715965628624], [0.9962881803512573, 0.0037118527106940746], [0.7550978064537048, 0.24490219354629517], [0.9970368146896362, 0.0029632318764925003], [0.9983029365539551, 0.0016970476135611534], [0.6342161297798157, 0.3657838702201843], [0.9966513514518738, 0.0033486406318843365], [0.6768370866775513, 0.32316291332244873], [0.9717373251914978, 0.02826271951198578], [0.5576475858688354, 0.4423524737358093], [0.0018107565119862556, 0.9981892704963684], [0.003834750736132264, 0.9961652755737305], [0.021708717569708824, 0.9782912731170654], [0.9994428753852844, 0.0005571122746914625], [0.9997597336769104, 0.0002403065300313756], [0.3035905063152313, 0.6964094638824463], [0.9623866081237793, 0.03761347383260727], [0.23136138916015625, 0.7686386108398438], [0.8366380929946899, 0.16336186230182648], [0.9943767786026001, 0.005623232573270798], [0.21982239186763763, 0.7801775336265564], [0.8663007020950317, 0.13369926810264587], [0.0023993784561753273, 0.9976006150245667], [0.8947640657424927, 0.1052360013127327], [0.9943408966064453, 0.0056590791791677475], [0.6095492243766785, 0.39045071601867676], [0.00010984743130393326, 0.9998900890350342], [0.8278610706329346, 0.17213891446590424], [0.03526545688509941, 0.9647345542907715], [0.1273554414510727, 0.8726445436477661], [0.7738391160964966, 0.226160928606987], [0.0014502874109894037, 0.9985496401786804], [0.3073083460330963, 0.6926916241645813], [0.6105678081512451, 0.38943225145339966], [0.9824981093406677, 0.017501896247267723], [0.7603467106819153, 0.23965325951576233], [0.00020081145339645445, 0.9997991919517517], [0.8543977737426758, 0.1456022411584854], [0.9966200590133667, 0.0033799258526414633], [0.9375134706497192, 0.06248656287789345], [0.0002236090222140774, 0.9997764229774475], [0.9838053584098816, 0.01619465835392475], [0.0001921564107760787, 0.9998078942298889], [0.8641102910041809, 0.13588976860046387], [0.2631506025791168, 0.7368494272232056], [9.407661855220795e-05, 0.9999059438705444], [0.6855819225311279, 0.31441810727119446], [9.943071927409619e-05, 0.9999005794525146], [0.0022810380905866623, 0.9977189898490906], [0.11699223518371582, 0.8830077648162842], [0.7714399695396423, 0.22856004536151886], [0.6978949308395386, 0.30210500955581665], [0.643298864364624, 0.3567011058330536], [0.0001713282981654629, 0.9998286962509155], [0.994917631149292, 0.00508235115557909], [0.9996976852416992, 0.00030233286088332534], [0.972183883190155, 0.0278161708265543], [0.0004721578734461218, 0.9995278120040894], [0.994509756565094, 0.005490245763212442], [0.9996935129165649, 0.0003064782067667693], [0.758062481880188, 0.2419375330209732], [0.17750239372253418, 0.8224976062774658], [0.07584507763385773, 0.9241549372673035], [0.5241776704788208, 0.4758223593235016], [0.00016857075388543308, 0.9998314380645752], [0.29803791642189026, 0.7019620537757874], [0.01188124530017376, 0.9881187081336975], [0.0465669184923172, 0.9534330368041992], [0.0706615224480629, 0.9293385148048401], [0.9985266923904419, 0.0014732250710949302], [0.9996323585510254, 0.000367673666914925], [0.00018540809105616063, 0.9998145699501038], [0.9055954217910767, 0.09440463036298752], [0.0005423270631581545, 0.9994576573371887], [0.00030134263215586543, 0.9996986389160156], [9.654091263655573e-05, 0.9999034404754639], [0.7843478322029114, 0.21565210819244385], [0.17892077565193176, 0.8210792541503906], [0.5766612887382507, 0.4233386814594269], [0.00017318973550572991, 0.9998268485069275], [0.0001331688545178622, 0.9998668432235718], [0.002950059249997139, 0.9970499277114868], [0.00015647006512153894, 0.9998434782028198], [0.001029153703711927, 0.9989708662033081], [0.857453465461731, 0.14254653453826904], [0.00020352378487586975, 0.999796450138092], [0.956668496131897, 0.04333154112100601], [0.5451043844223022, 0.45489564538002014], [0.00013622819096781313, 0.9998637437820435], [0.9815095663070679, 0.018490420654416084], [0.5318458676338196, 0.46815407276153564], [0.999739944934845, 0.0002600755833555013], [0.9806828498840332, 0.01931721903383732], [0.9992846846580505, 0.0007153865299187601], [0.7044103145599365, 0.2955896854400635], [0.9989840388298035, 0.0010159298544749618], [0.9989559650421143, 0.0010440382175147533], [0.868331789970398, 0.13166819512844086], [0.9501141309738159, 0.04988585785031319], [0.8804609775543213, 0.11953900009393692], [0.9982450008392334, 0.0017550498014315963], [0.9961789846420288, 0.003820993471890688], [0.9966566562652588, 0.0033433549106121063], [0.9739868640899658, 0.02601311355829239], [0.9962499737739563, 0.003750074654817581], [0.9959431290626526, 0.004056812729686499], [0.9777570366859436, 0.022242918610572815], [0.9998008608818054, 0.00019916699966415763], [0.9988870024681091, 0.0011129735503345728], [0.37040141224861145, 0.6295986175537109], [0.9639971852302551, 0.03600286319851875], [0.1705293357372284, 0.829470694065094], [0.025495797395706177, 0.9745041728019714], [0.14013700187206268, 0.8598629236221313], [0.988585889339447, 0.01141409296542406], [0.9946993589401245, 0.005300589837133884], [0.995121419429779, 0.004878525622189045], [0.8357957601547241, 0.16420426964759827], [0.5411761999130249, 0.4588238298892975], [0.05954683572053909, 0.9404531717300415], [0.6352095603942871, 0.3647904694080353], [0.47526150941848755, 0.5247385501861572], [0.8677866458892822, 0.13221336901187897], [0.6810856461524963, 0.3189143240451813], [0.17949186265468597, 0.8205081820487976], [0.0011388118145987391, 0.9988611936569214], [0.14427100121974945, 0.8557290434837341], [0.9919551014900208, 0.008044926449656487], [0.7929264307022095, 0.20707356929779053], [0.4504111707210541, 0.5495887994766235], [0.9551330804824829, 0.04486692324280739], [0.9961226582527161, 0.0038772872649133205], [0.9257206320762634, 0.07427936047315598], [0.7576310634613037, 0.2423689365386963], [0.9980142116546631, 0.0019858255982398987], [0.9818567633628845, 0.01814321242272854], [0.9391310811042786, 0.06086890026926994], [0.9974835515022278, 0.002516516949981451], [0.04765027016401291, 0.9523497223854065], [0.8436901569366455, 0.1563098132610321], [0.9964820146560669, 0.0035179697442799807], [0.8259318470954895, 0.1740681231021881], [0.5554177165031433, 0.4445822834968567], [0.5959962010383606, 0.4040037989616394], [0.961702287197113, 0.03829764202237129], [0.729839026927948, 0.270160973072052], [0.9657889604568481, 0.03421110659837723], [0.9933510422706604, 0.006649026181548834], [0.9797779321670532, 0.020222030580043793], [0.9627835750579834, 0.03721648082137108], [0.8999078273773193, 0.10009212791919708], [0.9669678807258606, 0.033032141625881195], [0.542830765247345, 0.45716917514801025], [0.0003420298744458705, 0.9996579885482788], [0.5617245435714722, 0.43827542662620544], [0.4434995651245117, 0.5565004348754883], [0.9866179823875427, 0.013382053934037685], [0.9798852205276489, 0.020114798098802567], [0.9889953136444092, 0.011004666797816753], [0.9119338989257812, 0.08806614577770233], [0.9536296725273132, 0.046370383352041245], [0.8826485276222229, 0.11735144257545471], [0.3289317488670349, 0.6710682511329651], [0.7764765024185181, 0.22352351248264313], [0.9982409477233887, 0.001759028877131641], [0.9735795855522156, 0.026420390233397484], [0.00012914976105093956, 0.999870777130127], [0.15213865041732788, 0.8478613495826721], [0.9992231130599976, 0.00077691616024822], [0.9465153813362122, 0.05348459631204605], [0.9322822690010071, 0.06771773844957352], [0.802732527256012, 0.19726741313934326], [0.9993884563446045, 0.0006115331780165434], [0.7368977069854736, 0.2631022036075592], [0.8074550628662109, 0.19254495203495026], [0.5507813692092896, 0.44921863079071045], [0.9226927757263184, 0.07730719447135925], [0.8310455083847046, 0.16895447671413422], [0.29521533846855164, 0.7047846913337708], [0.10471048951148987, 0.8952895402908325], [0.993911623954773, 0.006088391412049532], [0.999369204044342, 0.0006308709271252155], [0.9958071708679199, 0.004192786291241646], [0.945921003818512, 0.054079048335552216], [0.9974019527435303, 0.0025980821810662746], [0.9995158910751343, 0.0004841117770411074], [0.9701613783836365, 0.02983863279223442], [0.10841316729784012, 0.8915868401527405], [0.8859568238258362, 0.11404310911893845], [0.1239200234413147, 0.8760800361633301], [0.9905843734741211, 0.009415644221007824], [0.6579549312591553, 0.3420450687408447], [0.8899171948432922, 0.11008273810148239], [0.9922564029693604, 0.007743579801172018], [0.8003389835357666, 0.1996610462665558], [0.47181519865989685, 0.5281848311424255], [0.9629517793655396, 0.037048179656267166], [0.9906266927719116, 0.009373354725539684], [0.9284899830818176, 0.07150997966527939], [0.7431108355522156, 0.25688913464546204], [0.21814852952957153, 0.7818514704704285], [0.8215489387512207, 0.1784510463476181], [0.9455907344818115, 0.05440925061702728], [0.5417675375938416, 0.45823249220848083], [0.7065839767456055, 0.2934160530567169], [0.9576936364173889, 0.04230636730790138], [0.6607767343521118, 0.33922329545021057], [0.06584490835666656, 0.9341551065444946], [0.00011717225424945354, 0.9998828172683716], [0.9983034133911133, 0.001696614664979279], [0.9997649788856506, 0.0002350318245589733], [0.07085321098566055, 0.9291467070579529], [0.3535288870334625, 0.6464711427688599], [0.8885964155197144, 0.11140355467796326], [0.9732058048248291, 0.026794200763106346], [0.8744714856147766, 0.12552854418754578], [0.9260024428367615, 0.07399750500917435], [0.8333567976951599, 0.1666432023048401], [0.9932578802108765, 0.006742159835994244], [0.7956667542457581, 0.20433320105075836], [0.9954256415367126, 0.00457443343475461], [0.9230482578277588, 0.076951764523983], [0.7517678141593933, 0.2482321709394455], [0.999147891998291, 0.0008520801784470677], [0.994962215423584, 0.005037836730480194], [0.9984607696533203, 0.0015391976339742541], [0.33923062682151794, 0.6607694029808044], [0.6716146469116211, 0.3283853232860565], [9.128779493039474e-05, 0.9999086856842041], [0.9962652325630188, 0.0037347921170294285], [0.9992733597755432, 0.0007266633911058307], [0.9994367957115173, 0.0005631533567793667], [0.9983395338058472, 0.0016604101983830333], [0.01410544104874134, 0.9858945608139038], [0.002572104334831238, 0.9974278807640076], [0.8798320889472961, 0.12016791850328445], [0.990591824054718, 0.009408225305378437], [0.8935194611549377, 0.10648054629564285], [0.8941823244094849, 0.10581769049167633], [0.9943642616271973, 0.005635748617351055], [0.7085422277450562, 0.29145777225494385], [0.9998500347137451, 0.00014991243369877338], [0.999947190284729, 5.277830132399686e-05], [0.4079810380935669, 0.5920189619064331], [0.001167536829598248, 0.9988325238227844], [0.9994688630104065, 0.0005311356508173048], [0.9999574422836304, 4.251063000992872e-05], [0.9997219443321228, 0.0002779906499199569], [0.9868196845054626, 0.013180239126086235], [0.998904824256897, 0.0010951771400868893], [0.9919161200523376, 0.008083824999630451], [0.9984814524650574, 0.0015185688389465213], [0.9277775883674622, 0.07222242653369904], [0.9949660897254944, 0.0050339302979409695], [0.0006780524854548275, 0.9993219375610352], [0.9943209886550903, 0.005678958259522915], [0.5074537396430969, 0.49254631996154785], [0.9941157102584839, 0.005884272512048483], [0.09143596142530441, 0.908564031124115], [0.9501237273216248, 0.04987629875540733], [0.9791883826255798, 0.0208116602152586], [0.0001137787985499017, 0.999886155128479], [0.0001017917093122378, 0.9998981952667236], [0.9485286474227905, 0.051471367478370667], [0.24192090332508087, 0.7580791115760803], [0.9995439648628235, 0.000456056761322543], [0.9987568855285645, 0.001243061269633472], [0.9971283078193665, 0.0028716963715851307], [0.9905940294265747, 0.009405972436070442], [0.9987484216690063, 0.0012516153510659933], [0.09746543318033218, 0.9025346040725708], [0.0012985775247216225, 0.9987014532089233], [0.9977160692214966, 0.00228389585390687], [0.9997532963752747, 0.0002466435544192791], [0.00848326925188303, 0.9915167093276978], [0.0006887629278935492, 0.9993112087249756], [0.9917687177658081, 0.008231309242546558], [0.9994897842407227, 0.0005102311843074858], [0.5690796375274658, 0.4309203326702118], [0.00010697107791202143, 0.999893069267273], [0.9995996356010437, 0.0004003936774097383], [0.999916672706604, 8.335475286003202e-05], [0.9997773766517639, 0.00022265208826866], [0.9997057318687439, 0.0002942364080809057], [0.08811841160058975, 0.9118816256523132], [0.004062205087393522, 0.9959378242492676], [0.9997100234031677, 0.00028991224826313555], [0.9770784974098206, 0.022921476513147354], [0.9986070990562439, 0.0013928792905062437], [0.9843728542327881, 0.01562718115746975], [0.023464614525437355, 0.9765353798866272], [0.9958193302154541, 0.004180685617029667], [0.8079516887664795, 0.1920483112335205], [0.00041177464299835265, 0.9995881915092468], [0.9982580542564392, 0.0017419069772586226], [0.9995649456977844, 0.00043509789975360036], [0.9220137000083923, 0.07798624038696289], [0.01385668758302927, 0.9861432909965515], [0.9923520684242249, 0.007647903636097908], [0.004441387020051479, 0.9955586194992065], [0.3566199839115143, 0.6433799862861633], [0.9537043571472168, 0.04629562795162201], [0.9772820472717285, 0.022717969492077827], [0.9975875616073608, 0.002412442583590746], [0.13055148720741272, 0.8694485425949097], [0.013086343184113503, 0.9869136214256287], [0.9997343420982361, 0.00026561113190837204], [0.9998677968978882, 0.00013221282279118896], [0.9992163181304932, 0.0007836354780010879], [0.9995330572128296, 0.00046693062176927924], [0.9957299828529358, 0.004270026460289955], [0.4704820215702057, 0.5295180082321167], [0.9459494948387146, 0.05405052751302719], [0.3985072076320648, 0.6014927625656128], [0.0007083186646923423, 0.9992916584014893], [0.4173770844936371, 0.5826228857040405], [0.00011671461106743664, 0.9998832941055298], [0.9997628331184387, 0.00023718166630715132], [0.9998171925544739, 0.0001828761160140857], [0.801631510257721, 0.19836851954460144], [0.005828215274959803, 0.9941717982292175], [0.9998573064804077, 0.00014269286475609988], [0.9999281167984009, 7.189968164311722e-05], [0.0002875221543945372, 0.9997124075889587], [0.1852506548166275, 0.8147493600845337], [0.9551986455917358, 0.04480130225419998], [0.9876505732536316, 0.012349500320851803], [0.03319090977311134, 0.966809093952179], [0.9998173117637634, 0.00018267027917318046], [0.9998973608016968, 0.00010264302545692772], [0.9695629477500916, 0.030437059700489044], [0.5249112248420715, 0.47508883476257324], [0.9022982120513916, 0.09770180284976959], [0.9991925358772278, 0.000807519827503711], [0.9989295601844788, 0.001070463564246893], [0.9981710910797119, 0.00182885501999408], [0.7583860754966736, 0.24161386489868164], [0.01781269535422325, 0.9821872711181641], [0.9999321699142456, 6.779228715458885e-05], [0.9999548196792603, 4.513919338933192e-05], [0.7477502226829529, 0.2522498369216919], [0.1436397135257721, 0.8563602566719055], [0.0019045097287744284, 0.9980954527854919], [0.9892370104789734, 0.010763050988316536], [0.9984955787658691, 0.0015044256579130888], [0.751099705696106, 0.24890032410621643], [0.7687034010887146, 0.231296569108963], [0.7593780755996704, 0.2406219094991684], [0.9609211087226868, 0.03907882422208786], [0.8453533053398132, 0.15464672446250916], [0.7689890265464783, 0.23101100325584412], [0.0843443050980568, 0.9156557321548462], [0.8615603446960449, 0.13843967020511627], [0.07077445089817047, 0.9292255640029907], [0.7451696991920471, 0.25483033061027527], [0.94113689661026, 0.05886317044496536], [0.19971682131290436, 0.8002831339836121], [0.013005480170249939, 0.9869945645332336], [0.5002670884132385, 0.4997328817844391], [0.9933660626411438, 0.006633887533098459], [0.9757401943206787, 0.02425987273454666], [0.9993029832839966, 0.0006969930836930871], [0.7367669939994812, 0.263232946395874], [0.10933537781238556, 0.8906646370887756], [0.9528577327728271, 0.04714221879839897], [0.9836739301681519, 0.01632607728242874], [0.9626765847206116, 0.03732342645525932], [0.5382588505744934, 0.461741179227829], [0.8582822680473328, 0.14171771705150604], [0.9604839086532593, 0.0395161509513855], [0.917046844959259, 0.08295314759016037], [0.9648805856704712, 0.035119421780109406], [0.9001016616821289, 0.09989838302135468], [0.619510293006897, 0.3804897367954254], [0.9931026697158813, 0.0068973880261182785], [0.9921097159385681, 0.007890278473496437], [0.9622021317481995, 0.037797920405864716], [0.8659126162528992, 0.13408735394477844], [0.997631311416626, 0.0023686804343014956], [0.9989824891090393, 0.001017445232719183], [0.6712112426757812, 0.32878875732421875], [0.886242151260376, 0.11375781893730164], [0.6117100119590759, 0.38829001784324646], [0.11646068841218948, 0.8835392594337463], [0.7159751057624817, 0.28402483463287354], [0.847092866897583, 0.15290714800357819], [0.7698082327842712, 0.23019175231456757], [0.6333824992179871, 0.36661750078201294], [0.33605408668518066, 0.6639458537101746], [0.4454391300678253, 0.5545608997344971], [0.8422554135322571, 0.15774455666542053], [0.9799200892448425, 0.02007988467812538], [0.9483062624931335, 0.051693785935640335], [0.9913806319236755, 0.008619377389550209], [0.9909624457359314, 0.009037550538778305], [0.8283334970474243, 0.1716664731502533], [0.7658750414848328, 0.23412492871284485], [0.04848852381110191, 0.9515115022659302], [0.9747356176376343, 0.02526433765888214], [0.548173189163208, 0.4518267512321472], [0.9987672567367554, 0.0012328083394095302], [0.28827112913131714, 0.7117288708686829], [0.9153791666030884, 0.0846208706498146], [0.9944462776184082, 0.0055536492727696896], [0.5782509446144104, 0.4217490255832672], [0.976538896560669, 0.023461055010557175], [0.9940703511238098, 0.005929677747189999], [0.6376480460166931, 0.36235201358795166], [0.8656554222106934, 0.13434457778930664], [0.921617865562439, 0.07838212698698044], [0.6986743211746216, 0.3013256788253784], [0.8373168110847473, 0.16268324851989746], [0.9470295906066895, 0.05297040939331055], [0.7133336663246155, 0.2866663336753845], [0.8877441883087158, 0.11225584894418716], [0.9856747984886169, 0.014325236901640892], [0.060761235654354095, 0.9392387270927429], [0.13872471451759338, 0.861275315284729], [0.39551711082458496, 0.6044828295707703], [0.8567384481430054, 0.14326153695583344], [0.9722135066986084, 0.027786502614617348], [0.9026533961296082, 0.09734660387039185], [0.8009243011474609, 0.19907572865486145], [0.7978966236114502, 0.2021034210920334], [0.8064813017845154, 0.193518728017807], [0.991193950176239, 0.008806046098470688], [0.980902910232544, 0.019097110256552696], [0.3187118470668793, 0.6812881827354431], [0.41253426671028137, 0.5874657034873962], [0.9099481105804443, 0.09005191922187805], [0.974322497844696, 0.02567746862769127], [0.7439308762550354, 0.2560690641403198], [0.2309701293706894, 0.7690297961235046], [0.9944975972175598, 0.005502433516085148], [0.79330974817276, 0.20669029653072357], [0.6973912715911865, 0.3026086986064911], [0.9250933527946472, 0.07490658760070801], [0.9887043833732605, 0.011295623145997524], [0.9794647097587585, 0.020535297691822052], [0.8644969463348389, 0.13550303876399994], [0.9984093308448792, 0.0015906563494354486], [0.5860278606414795, 0.41397207975387573], [0.9935526847839355, 0.0064472961239516735], [0.03357338160276413, 0.9664266109466553], [0.010448196902871132, 0.989551842212677], [0.6831955909729004, 0.316804438829422], [0.6218263506889343, 0.3781736195087433], [0.05792292580008507, 0.9420770406723022], [0.9433012008666992, 0.05669878423213959], [0.7819425463676453, 0.21805746853351593], [0.0028757955878973007, 0.9971242547035217], [0.7480244040489197, 0.2519756257534027], [0.9980223178863525, 0.0019777461420744658], [0.9835652709007263, 0.016434751451015472], [0.9989045858383179, 0.0010954374447464943], [0.987155556678772, 0.012844458222389221], [0.9966866374015808, 0.0033133893739432096], [0.9758250713348389, 0.024174921214580536], [0.968316912651062, 0.03168302774429321], [0.9906485676765442, 0.009351427666842937], [0.9029405117034912, 0.09705951064825058], [0.9581232070922852, 0.04187684506177902], [0.724788248538971, 0.27521178126335144], [0.9218336939811707, 0.07816632091999054], [0.4500288963317871, 0.5499711036682129], [0.3292824625968933, 0.6707175374031067], [0.9833901524543762, 0.016609860584139824], [0.9203254580497742, 0.07967457175254822], [0.9992031455039978, 0.0007968670106492937], [0.9997133612632751, 0.0002865763381123543], [0.8014837503433228, 0.19851621985435486], [0.6559129953384399, 0.34408700466156006], [0.9701846837997437, 0.029815271496772766], [0.7323517799377441, 0.26764822006225586], [0.9887750148773193, 0.011224951595067978], [0.1739477664232254, 0.8260523080825806], [0.31664353609085083, 0.6833564639091492], [0.2554980218410492, 0.7445020079612732], [0.47804147005081177, 0.521958589553833], [0.855956494808197, 0.14404349029064178], [0.6076610088348389, 0.3923390507698059], [0.9992721676826477, 0.0007278023986145854], [0.9997655749320984, 0.00023439133656211197], [0.9996658563613892, 0.0003341103729326278], [0.2765812575817108, 0.7234187126159668], [0.8642098903656006, 0.13579007983207703], [0.949738621711731, 0.05026138201355934], [0.8590351343154907, 0.14096486568450928], [0.9193229079246521, 0.0806770920753479], [0.954975426197052, 0.04502459615468979], [0.6894897222518921, 0.3105102479457855], [0.9782702922821045, 0.021729709580540657], [0.9560199975967407, 0.04398003965616226], [0.9900904893875122, 0.009909458458423615], [0.9922713041305542, 0.007728641852736473], [0.5136749148368835, 0.48632508516311646], [0.9944742321968079, 0.005525810178369284], [0.987212598323822, 0.012787437997758389], [0.9971176385879517, 0.002882329048588872], [0.997983455657959, 0.002016575075685978], [0.2855910062789917, 0.7144090533256531], [0.997885525226593, 0.0021144896745681763], [0.8624492883682251, 0.13755063712596893], [0.993961751461029, 0.006038164719939232], [0.8899701833724976, 0.11002980172634125], [0.9963009357452393, 0.003699065186083317], [0.9697508811950684, 0.030249131843447685], [0.5701510906219482, 0.429848849773407], [0.7963922023773193, 0.20360776782035828], [0.9673179388046265, 0.03268205374479294], [0.03978347405791283, 0.9602165222167969], [0.9913007616996765, 0.008699212223291397], [0.9528919458389282, 0.04710802435874939], [0.44517600536346436, 0.5548239946365356], [0.8269597887992859, 0.1730402112007141], [0.9550681710243225, 0.04493184760212898], [0.9843952655792236, 0.015604766085743904], [0.9014365673065186, 0.09856348484754562], [0.34345319867134094, 0.6565468311309814], [0.03680996969342232, 0.9631900191307068], [0.9313005805015564, 0.06869947165250778], [0.7626492381095886, 0.2373506873846054], [0.9860160946846008, 0.013983888551592827], [0.4426191747188568, 0.5573809146881104], [0.9983857870101929, 0.0016142689855769277], [0.9913471341133118, 0.008652890101075172], [0.9865575432777405, 0.013442456722259521], [0.9968205690383911, 0.0031794006936252117], [0.00023953882919158787, 0.9997604489326477], [0.998525083065033, 0.0014749285764992237], [0.9949513673782349, 0.005048634950071573], [0.8715709447860718, 0.12842905521392822], [0.9995357990264893, 0.00046427943743765354], [0.9998836517333984, 0.00011639252625172958], [0.8653422594070435, 0.13465777039527893], [0.3609769940376282, 0.6390230059623718], [0.08404406160116196, 0.9159559011459351], [0.467002272605896, 0.532997727394104], [0.9961773157119751, 0.0038226363249123096], [0.9985068440437317, 0.001493118703365326], [0.3970828354358673, 0.6029171347618103], [0.0012586867669597268, 0.9987413287162781], [0.9893933534622192, 0.010606656782329082], [0.9903222918510437, 0.00967775471508503], [0.9949402809143066, 0.00505978986620903], [0.9657325744628906, 0.03426748514175415], [0.987209677696228, 0.012790265493094921], [0.9407175779342651, 0.05928240716457367], [0.4782456159591675, 0.5217543840408325], [0.04039888083934784, 0.9596010446548462], [0.00010835786088136956, 0.9998916387557983], [0.539064347743988, 0.46093565225601196], [0.9842722415924072, 0.015727709978818893], [0.012205234728753567, 0.9877947568893433], [0.9995324611663818, 0.0004675898526329547], [0.9993026256561279, 0.0006973213166929781], [0.0012362695997580886, 0.9987637996673584], [0.9468966126441956, 0.053103383630514145], [0.8235489726066589, 0.17645104229450226], [0.9988993406295776, 0.001100650173611939], [0.6525301933288574, 0.3474697768688202], [0.28996631503105164, 0.7100337147712708], [0.17333248257637024, 0.8266675472259521], [0.9980595707893372, 0.0019404377089813352], [0.9943073391914368, 0.00569266127422452], [0.9996410608291626, 0.0003589102125260979], [0.9997995495796204, 0.00020046252757310867], [0.819953441619873, 0.18004658818244934], [9.496713028056547e-05, 0.999904990196228], [0.907573938369751, 0.09242605417966843], [0.23140761256217957, 0.7685924172401428], [0.5739046931266785, 0.42609521746635437], [0.8893440365791321, 0.11065594851970673], [0.998976469039917, 0.001023550401441753], [0.9998231530189514, 0.0001768425718182698], [0.017421411350369453, 0.9825785160064697], [0.9940314888954163, 0.005968455690890551], [0.9950474500656128, 0.004952627699822187], [0.6634216904640198, 0.33657822012901306], [0.9056636095046997, 0.09433631598949432], [0.9471344947814941, 0.05286552384495735], [0.1876666098833084, 0.8123334050178528], [0.039486296474933624, 0.960513710975647], [0.6369229555130005, 0.3630770444869995], [9.856617543846369e-05, 0.9999014139175415], [0.9996713399887085, 0.00032871338771656156], [0.9998835325241089, 0.00011640738375717774], [0.9699945449829102, 0.030005445703864098], [0.9925523996353149, 0.007447647396475077], [0.25159984827041626, 0.7484001517295837], [0.992679238319397, 0.007320806849747896], [0.9955025315284729, 0.004497508984059095], [0.9777352809906006, 0.02226470224559307], [0.7517272233963013, 0.24827280640602112], [0.00021996721625328064, 0.999779999256134], [0.9616449475288391, 0.038354966789484024], [0.006675981916487217, 0.9933239817619324], [0.9929261207580566, 0.007073960267007351], [0.8749906420707703, 0.12500931322574615], [0.7473127245903015, 0.2526873052120209], [0.7183372378349304, 0.2816627621650696], [0.43353578448295593, 0.5664641857147217], [0.8987793922424316, 0.10122064501047134], [0.9981753826141357, 0.0018246207619085908], [0.00012118116865167394, 0.9998787641525269], [0.9997047781944275, 0.000295169505989179], [0.9839801788330078, 0.016019824892282486], [0.9993435740470886, 0.0006564466748386621], [0.9963233470916748, 0.0036767234560102224], [0.949069082736969, 0.05093090608716011], [0.5087758898735046, 0.49122416973114014], [0.856362521648407, 0.14363741874694824], [0.9189013242721558, 0.08109870553016663], [0.10055354237556458, 0.899446427822113], [0.9394052624702454, 0.060594744980335236], [0.9901048541069031, 0.009895147755742073], [0.9096693992614746, 0.09033065289258957], [0.832302987575531, 0.1676969677209854], [0.9989932179450989, 0.0010067395633086562], [0.9688131213188171, 0.031186819076538086], [0.5221270322799683, 0.4778729975223541], [0.8218791484832764, 0.17812088131904602], [0.9285699129104614, 0.07143007963895798], [0.9331752061843872, 0.06682474911212921], [0.9993775486946106, 0.0006224431563168764], [0.9892667531967163, 0.010733310133218765], [0.5231723785400391, 0.47682759165763855], [0.9951098561286926, 0.00489013222977519], [0.9998076558113098, 0.0001923998788697645], [0.9970302581787109, 0.0029697332065552473], [0.9996380805969238, 0.00036189626553095877], [0.9752272367477417, 0.024772780016064644], [0.9993886947631836, 0.000611295981798321], [0.9968974590301514, 0.003102485788986087], [0.978417694568634, 0.021582286804914474], [0.9970122575759888, 0.002987786429002881], [0.8884305357933044, 0.11156946420669556], [0.9956569671630859, 0.004343066364526749], [0.9843617677688599, 0.015638276934623718], [0.9818837642669678, 0.018116218969225883], [0.9951183795928955, 0.004881684202700853], [0.18629485368728638, 0.8137052059173584], [0.9961251616477966, 0.0038748756051063538], [0.8344061374664307, 0.16559383273124695], [0.9382432699203491, 0.06175669655203819], [0.74139404296875, 0.2586060166358948], [0.0001104152761399746, 0.999889612197876], [0.9994961023330688, 0.0005038390518166125], [0.9998327493667603, 0.00016719376435503364], [0.6784831881523132, 0.32151681184768677], [0.00010185996507061645, 0.9998980760574341], [0.9996501207351685, 0.0003498697478789836], [0.9998745918273926, 0.00012542396143544465], [0.9908660054206848, 0.009134075604379177], [0.9883252382278442, 0.011674800887703896], [0.0011389419669285417, 0.9988610744476318], [0.008091498166322708, 0.9919084906578064], [0.5286059975624084, 0.47139400243759155], [0.7672041058540344, 0.23279590904712677], [0.7741132974624634, 0.2258867621421814], [0.999384880065918, 0.0006150437402538955], [0.023624349385499954, 0.9763756990432739], [0.9968129992485046, 0.0031870235688984394], [0.9998977184295654, 0.00010222817945759743], [0.9971764087677002, 0.0028235360514372587], [0.9999144077301025, 8.563901792513207e-05], [0.9997373223304749, 0.00026261660968884826], [0.8926704525947571, 0.10732951760292053], [0.001681067980825901, 0.9983188509941101], [0.003795238211750984, 0.9962047934532166], [0.9999054670333862, 9.449892240809277e-05], [0.9999566078186035, 4.341904423199594e-05], [0.4463142454624176, 0.5536857843399048], [0.003935209009796381, 0.9960648417472839], [0.9938803911209106, 0.006119554862380028], [0.9984344840049744, 0.001565527287311852], [0.008587855845689774, 0.9914121627807617], [0.608425498008728, 0.3915744721889496], [0.979759156703949, 0.020240774378180504], [0.9993374943733215, 0.0006624675588682294], [0.30408066511154175, 0.695919394493103], [0.43924322724342346, 0.5607567429542542], [0.48010823130607605, 0.5198917388916016], [0.9981784820556641, 0.0018215455347672105], [0.9681863784790039, 0.031813640147447586], [0.9992669224739075, 0.0007330567459575832], [0.9406174421310425, 0.05938258022069931], [0.9991274476051331, 0.0008725833031348884], [0.00019379954028408974, 0.9998062252998352], [0.9860801100730896, 0.013919902965426445], [0.9732558727264404, 0.026744162663817406], [0.04221058636903763, 0.957789421081543], [0.8649422526359558, 0.1350577473640442], [0.9865952730178833, 0.01340476330369711], [0.9793494343757629, 0.02065052092075348], [0.9634589552879333, 0.03654099255800247], [0.8922473788261414, 0.10775261372327805], [0.995209276676178, 0.004790784325450659], [0.03414807841181755, 0.965851902961731], [0.00012928394426126033, 0.9998706579208374], [0.8368499279022217, 0.16315004229545593], [0.9921554923057556, 0.007844531908631325], [0.9726971387863159, 0.02730293944478035], [0.9981643557548523, 0.0018356196815147996], [0.9904665350914001, 0.009533415548503399], [0.9905989766120911, 0.009401010349392891], [0.35624000430107117, 0.6437600255012512], [0.9924142956733704, 0.007585751824080944], [0.08114257454872131, 0.9188574552536011], [0.9981244206428528, 0.001875587273389101], [0.9995124340057373, 0.00048758447519503534], [0.9488781690597534, 0.05112176388502121], [0.08835224062204361, 0.9116477370262146], [0.8912761211395264, 0.10872388631105423], [0.6160256266593933, 0.3839744031429291], [0.9967957139015198, 0.0032043380197137594], [0.5009129643440247, 0.49908700585365295], [9.537480218568817e-05, 0.9999046325683594], [0.9994155168533325, 0.000584515102673322], [0.9997196793556213, 0.00028025690698996186], [0.9682687520980835, 0.031731247901916504], [0.00019185560813639313, 0.999808132648468], [0.8659473657608032, 0.13405264914035797], [0.2736336886882782, 0.7263662815093994], [0.9971349239349365, 0.002865090034902096], [0.8291417956352234, 0.170858234167099], [0.7382119297981262, 0.261788010597229], [0.9547058343887329, 0.045294150710105896], [0.9967043995857239, 0.0032955845817923546], [0.48336276412010193, 0.5166372060775757], [9.905879414873198e-05, 0.9999009370803833], [0.999852180480957, 0.00014775418094359338], [0.9999293088912964, 7.065261161187664e-05], [0.9842549562454224, 0.015745112672448158], [0.9981300234794617, 0.0018699567299336195], [0.028263049200177193, 0.9717369675636292], [0.00012223111116327345, 0.9998778104782104], [0.9127440452575684, 0.08725592494010925], [0.09143702685832977, 0.908562958240509], [0.6141788363456726, 0.385821133852005], [0.9738198518753052, 0.026180090382695198], [0.8041673302650452, 0.19583265483379364], [0.9607641100883484, 0.039235956966876984], [0.3727133870124817, 0.6272866129875183], [0.5618641376495361, 0.4381358325481415], [0.8626813292503357, 0.1373186558485031], [0.046003904193639755, 0.9539961218833923], [0.9759699106216431, 0.02403011918067932], [0.9856644868850708, 0.01433550100773573], [0.00011073274799855426, 0.9998892545700073], [0.0007429987308569252, 0.9992570281028748], [0.060545094311237335, 0.9394549131393433], [0.9980733394622803, 0.0019266374874860048], [0.9988319277763367, 0.0011680941097438335], [0.9109860062599182, 0.08901401609182358], [0.0002702000201679766, 0.9997298121452332], [0.968264639377594, 0.031735412776470184], [0.9991408586502075, 0.0008591002551838756], [0.999479353427887, 0.000520626432262361], [0.7478703260421753, 0.2521296739578247], [0.00012736361532006413, 0.9998725652694702], [0.9939640164375305, 0.006035933271050453], [0.9749717116355896, 0.025028320029377937], [0.8266273736953735, 0.1733725666999817], [0.003844351274892688, 0.9961556792259216], [0.3317294120788574, 0.6682705879211426], [0.9853944778442383, 0.014605495147407055], [0.793790876865387, 0.20620912313461304], [0.038220249116420746, 0.9617797136306763], [0.7963033318519592, 0.20369672775268555], [0.9924001693725586, 0.007599843665957451], [0.9667105078697205, 0.03328954428434372], [0.006757881958037615, 0.993242084980011], [0.25559166073799133, 0.7444083094596863], [0.07380536198616028, 0.9261946678161621], [0.9932768940925598, 0.006723071914166212], [0.9993308782577515, 0.0006690933951176703], [0.30684694647789, 0.6931530237197876], [0.00012784702994395047, 0.999872088432312], [0.6328451633453369, 0.3671548664569855], [0.9733359217643738, 0.026664068922400475], [0.328434556722641, 0.6715654134750366], [0.830562174320221, 0.16943782567977905], [0.007429072633385658, 0.9925709366798401], [0.9804398417472839, 0.01956016942858696], [0.7656809687614441, 0.23431897163391113], [0.5773317813873291, 0.4226682186126709], [0.898222029209137, 0.10177793353796005], [0.9575486779212952, 0.04245136305689812], [0.6241205334663391, 0.3758794665336609], [0.4649517834186554, 0.535048246383667], [0.893701434135437, 0.10629857331514359], [0.6339524388313293, 0.36604753136634827], [0.8016395568847656, 0.19836044311523438], [0.5512655377388, 0.44873446226119995], [0.8944655060768127, 0.10553444921970367], [0.5891978740692139, 0.41080212593078613], [0.5142440795898438, 0.48575589060783386], [0.9875984787940979, 0.01240149699151516], [0.9574006795883179, 0.042599353939294815], [0.7999292016029358, 0.20007073879241943], [0.9926674962043762, 0.0073324693366885185], [0.9221495389938354, 0.07785043865442276], [0.8473278880119324, 0.15267211198806763], [0.9726167917251587, 0.027383141219615936], [0.8784394264221191, 0.12156055867671967], [0.9590616226196289, 0.040938399732112885], [0.000520736095495522, 0.9994792342185974], [0.7073197960853577, 0.29268014430999756], [0.10211887955665588, 0.8978811502456665], [0.8894492983818054, 0.11055069416761398], [0.849547266960144, 0.15045277774333954], [0.9738833904266357, 0.026116646826267242], [0.8733772039413452, 0.1266227662563324], [0.9934011101722717, 0.006598911713808775], [0.11507688462734222, 0.8849231004714966], [0.9638441205024719, 0.03615592047572136], [0.5585834980010986, 0.44141650199890137], [9.229167335433885e-05, 0.9999077320098877], [0.9992289543151855, 0.0007710643112659454], [0.9997114539146423, 0.00028851069509983063], [0.9981662631034851, 0.0018337930087000132], [0.9889673590660095, 0.011032642796635628], [0.9917600750923157, 0.008239943534135818], [0.9861888289451599, 0.01381118968129158], [0.9992223978042603, 0.0007775419508107007], [0.9980906844139099, 0.0019093125592917204], [0.8795574903488159, 0.12044255435466766], [0.8940060138702393, 0.10599396377801895], [0.9633588194847107, 0.0366411954164505], [0.2969450354576111, 0.7030549049377441], [0.00016136490739881992, 0.9998385906219482], [0.4756176769733429, 0.5243823528289795], [0.8935234546661377, 0.1064765527844429], [0.3357945382595062, 0.6642054319381714], [0.9429810047149658, 0.05701899528503418], [0.6336451768875122, 0.3663547933101654], [0.9777723550796509, 0.02222767286002636], [0.8168153762817383, 0.18318462371826172], [0.7343173623085022, 0.2656826972961426], [0.7245554327964783, 0.27544456720352173], [0.9982441663742065, 0.0017558342078700662], [0.9324457049369812, 0.06755425781011581], [0.1037890762090683, 0.8962109684944153], [0.9863771796226501, 0.013622809201478958], [0.7992216348648071, 0.20077838003635406], [0.6484541893005371, 0.3515457808971405], [0.5116047263145447, 0.4883953034877777], [0.6588598489761353, 0.34114018082618713], [0.2115417867898941, 0.7884582281112671], [0.25217464566230774, 0.7478253245353699], [0.996260404586792, 0.003739669220522046], [0.9603080749511719, 0.039691951125860214], [0.9838309288024902, 0.016169089823961258], [0.9964193105697632, 0.0035806698724627495], [0.9982960820198059, 0.0017039363738149405], [0.9996558427810669, 0.00034417695133015513], [0.4964830279350281, 0.5035169720649719], [0.00011380635987734422, 0.999886155128479], [0.9874237179756165, 0.012576229870319366], [0.9910489320755005, 0.008951092138886452], [0.9785192608833313, 0.021480726078152657], [0.046639930456876755, 0.9533601403236389], [0.9882241487503052, 0.01177587267011404], [0.85298752784729, 0.14701245725154877], [0.9913289546966553, 0.008670962415635586], [0.9014977812767029, 0.09850219637155533], [0.5925300717353821, 0.40746986865997314], [0.4921364188194275, 0.5078635811805725], [0.5308666229248047, 0.46913331747055054], [0.8574892282485962, 0.1425108015537262], [0.00031771743670105934, 0.9996823072433472], [0.7022106647491455, 0.2977893352508545], [0.23827895522117615, 0.7617210149765015], [0.04906889423727989, 0.9509310722351074], [0.27688947319984436, 0.723110556602478], [0.9972639083862305, 0.002736043883487582], [0.9819216728210449, 0.01807837001979351], [0.9639270305633545, 0.03607291355729103], [0.7880048751831055, 0.2119951695203781], [0.999442994594574, 0.0005569622153416276], [0.26403337717056274, 0.7359666228294373], [0.9630385637283325, 0.036961495876312256], [0.9985484480857849, 0.0014514833455905318], [0.06943777203559875, 0.9305621981620789], [0.9999170303344727, 8.294552389997989e-05], [0.9999575614929199, 4.249433914083056e-05], [0.006232431624084711, 0.9937676191329956], [0.9996193647384644, 0.0003805850283242762], [0.9998168349266052, 0.00018314849876333028], [0.9991341233253479, 0.0008658815640956163], [0.9988409876823425, 0.001158997300080955], [0.999521017074585, 0.0004789994563907385], [0.9958090782165527, 0.004190887790173292], [0.987276017665863, 0.012724014930427074], [0.9899744391441345, 0.0100255087018013], [0.9978821873664856, 0.0021177660673856735], [0.9974446296691895, 0.002555437386035919], [0.9506310820579529, 0.04936898127198219], [0.9643092155456543, 0.0356907993555069], [0.9772014617919922, 0.02279859036207199], [0.9752559065818787, 0.024744147434830666], [0.616237223148346, 0.38376277685165405], [0.7947719097137451, 0.20522800087928772], [0.9228629469871521, 0.07713709771633148], [0.6340436339378357, 0.3659563362598419], [0.9805731177330017, 0.019426848739385605], [0.9584046006202698, 0.041595350950956345], [0.9461511373519897, 0.05384882912039757], [0.178000807762146, 0.821999192237854], [0.9874054789543152, 0.012594527564942837], [0.0004067198315169662, 0.9995933175086975], [0.997289776802063, 0.0027102953754365444], [0.9911952018737793, 0.008804756216704845], [0.8112823963165283, 0.18871760368347168], [0.9944685697555542, 0.0055314782075583935], [0.9446141123771667, 0.05538592115044594], [0.916924774646759, 0.08307521790266037], [0.997588038444519, 0.0024119378067553043], [0.9982415437698364, 0.0017584571614861488], [0.9997661709785461, 0.0002338609629077837], [0.9992750287055969, 0.0007249860209412873], [0.9994440674781799, 0.0005559028941206634], [0.9997242093086243, 0.0002757827169261873], [0.9993185997009277, 0.0006813645595684648], [0.7816729545593262, 0.21832697093486786], [0.985630214214325, 0.014369843527674675], [0.9991010427474976, 0.0008989580674096942], [0.83842933177948, 0.16157063841819763], [0.024816639721393585, 0.9751833081245422], [0.9924375414848328, 0.007562507875263691], [0.00027284363750368357, 0.999727189540863], [0.0001512147136963904, 0.9998487234115601], [0.3508385121822357, 0.6491614580154419], [0.9845929741859436, 0.015407023020088673], [0.15708640217781067, 0.8429136276245117], [0.802108108997345, 0.19789183139801025], [0.03675943613052368, 0.9632405638694763], [0.9926602840423584, 0.007339674513787031], [0.04961510747671127, 0.9503848552703857], [0.006169810891151428, 0.9938302636146545], [0.7718291282653809, 0.22817090153694153], [0.8805217146873474, 0.11947832256555557], [0.8134986758232117, 0.18650133907794952], [0.7596261501312256, 0.24037384986877441], [0.8653915524482727, 0.13460849225521088], [0.7722073793411255, 0.2277926355600357], [0.999595582485199, 0.0004043897206429392], [0.9984784722328186, 0.0015214765444397926], [0.999883770942688, 0.00011617096606642008], [0.08224433660507202, 0.917755663394928], [0.988239049911499, 0.011760965920984745], [0.9973188042640686, 0.0026812306605279446], [0.9310780167579651, 0.06892192363739014], [0.886498749256134, 0.11350128799676895], [0.7382714152336121, 0.2617286443710327], [0.7287623286247253, 0.27123770117759705], [0.9256071448326111, 0.07439283281564713], [0.9580212235450745, 0.04197874665260315], [0.00908544473350048, 0.9909145832061768], [0.997399091720581, 0.00260094809345901], [0.8994330167770386, 0.10056700557470322], [0.9938331842422485, 0.0061667971312999725], [0.877437949180603, 0.12256200611591339], [0.9976444840431213, 0.0023554752115160227], [0.8664008378982544, 0.1335991770029068], [0.9986390471458435, 0.0013609799789264798], [0.002033243188634515, 0.9979667663574219], [0.997654139995575, 0.0023459354415535927], [0.3263719975948334, 0.6736279726028442], [0.6646249890327454, 0.335375040769577], [0.5548497438430786, 0.4451502859592438], [0.9952483773231506, 0.004751626867800951], [0.9289633631706238, 0.07103659212589264], [0.21511416137218475, 0.784885823726654], [0.24411442875862122, 0.7558856010437012], [0.8393964767456055, 0.16060352325439453], [0.9823973178863525, 0.017602689564228058], [0.9983536005020142, 0.0016463936772197485], [0.00016517327458132058, 0.9998347759246826], [0.0828208476305008, 0.9171791672706604], [0.009554064832627773, 0.9904459714889526], [0.9952817559242249, 0.004718217067420483], [0.9993777275085449, 0.000622187159024179], [0.2939876914024353, 0.7060123085975647], [0.00010103267413796857, 0.9998989105224609], [0.15097802877426147, 0.8490219712257385], [0.9968222379684448, 0.0031778207048773766], [0.9664639830589294, 0.033535949885845184], [0.1538536548614502, 0.8461463451385498], [0.8292624354362488, 0.17073756456375122], [0.0005671947728842497, 0.9994327425956726], [0.34869128465652466, 0.6513087153434753], [0.9004893898963928, 0.09951065480709076], [0.8121532797813416, 0.18784673511981964], [0.7670508623123169, 0.2329491674900055], [0.9568259716033936, 0.04317408800125122], [0.9970607161521912, 0.0029392384458333254], [0.9986246824264526, 0.0013752974336966872], [0.996177077293396, 0.003822972532361746], [0.3973821699619293, 0.6026178598403931], [0.3378618657588959, 0.6621381044387817], [9.682118252385408e-05, 0.9999032020568848], [0.9985895752906799, 0.001410396071150899], [0.9998971223831177, 0.00010284798918291926], [0.3925469219684601, 0.6074530482292175], [0.00010423608910059556, 0.9998958110809326], [0.9946269392967224, 0.005373003426939249], [0.999858021736145, 0.00014198465214576572], [0.9935178756713867, 0.006482205353677273], [0.9994373917579651, 0.0005626179627142847], [0.007568446919322014, 0.9924315214157104], [0.9779031872749329, 0.022096801549196243], [0.02688772603869438, 0.9731122255325317], [0.001025042962282896, 0.9989749193191528], [0.9958152174949646, 0.004184786695986986], [0.06356773525476456, 0.9364322423934937], [0.0739043802022934, 0.9260956048965454], [0.009580415673553944, 0.9904195666313171], [0.026189308613538742, 0.9738107323646545], [0.11012684553861618, 0.8898731470108032], [0.9223619699478149, 0.07763803750276566], [0.4291239082813263, 0.5708760619163513], [0.6868985295295715, 0.31310150027275085], [0.02305731363594532, 0.9769426584243774], [0.0001305491605307907, 0.9998694658279419], [0.9977916479110718, 0.0022083192598074675], [0.1267012357711792, 0.8732988238334656], [0.9483386278152466, 0.051661424338817596], [0.9840710163116455, 0.015928948298096657], [0.9993953704833984, 0.0006046491325832903], [0.9929254055023193, 0.007074575871229172], [0.9965157508850098, 0.003484195563942194], [0.652201235294342, 0.34779876470565796], [0.9989228844642639, 0.0010771243833005428], [0.517480194568634, 0.4825197756290436], [0.7403043508529663, 0.2596956193447113], [0.14327950775623322, 0.856720507144928], [0.9984027743339539, 0.0015972873661667109], [0.9828124642372131, 0.017187580466270447], [0.9938217401504517, 0.0061782426200807095], [0.994355320930481, 0.00564474007114768], [0.9886415600776672, 0.011358387768268585], [0.9984778761863708, 0.0015221346402540803], [0.2523325979709625, 0.7476674318313599], [0.5116372108459473, 0.48836278915405273], [0.999552309513092, 0.0004476167378015816], [0.9997879862785339, 0.00021196879970375448], [0.6053184866905212, 0.394681453704834], [0.004780051298439503, 0.995219886302948], [0.698826253414154, 0.3011738061904907], [0.23207122087478638, 0.7679287791252136], [0.00020708977535832673, 0.9997928738594055], [0.9997255206108093, 0.00027441250858828425], [0.9999160766601562, 8.393367170356214e-05], [0.7023853659629822, 0.2976146638393402], [0.9127607345581055, 0.08723925799131393], [0.05414072796702385, 0.9458592534065247], [0.0011969248298555613, 0.9988030195236206], [0.2193969041109085, 0.7806030511856079], [0.00011430491576902568, 0.9998856782913208], [0.9966961145401001, 0.0033038980327546597], [0.9965235590934753, 0.0034764178562909365], [0.999713122844696, 0.0002868097508326173], [0.9978371262550354, 0.0021628467366099358], [0.9997465014457703, 0.0002535341482143849], [0.9644854068756104, 0.03551464155316353], [0.9994962215423584, 0.0005037199589423835], [0.5789493918418884, 0.4210506081581116], [9.195723396260291e-05, 0.9999080896377563], [0.03838697820901871, 0.9616129994392395], [0.0008085284498520195, 0.9991914629936218], [0.47804775834083557, 0.521952211856842], [0.2830572724342346, 0.7169426679611206], [0.8697513341903687, 0.13024865090847015], [0.24793434143066406, 0.7520656585693359], [0.44047313928604126, 0.5595268607139587], [0.9623896479606628, 0.037610288709402084], [0.9805496335029602, 0.019450334832072258], [0.8327509164810181, 0.16724903881549835], [0.00011137490946566686, 0.9998886585235596], [0.9997066855430603, 0.00029328110394999385], [0.9999120235443115, 8.800861542113125e-05], [0.9677925705909729, 0.03220750018954277], [0.974025547504425, 0.025974420830607414], [0.14524027705192566, 0.854759693145752], [0.010618613101541996, 0.9893814325332642], [0.13407932221889496, 0.8659206628799438], [0.9352228045463562, 0.06477721780538559], [0.47307413816452026, 0.5269258618354797], [0.06042880192399025, 0.9395712018013], [0.38962382078170776, 0.6103761792182922], [9.197380131809041e-05, 0.9999079704284668], [0.0007862707134336233, 0.999213695526123], [0.9783012866973877, 0.021698663011193275], [0.58623868227005, 0.41376128792762756], [0.8802114725112915, 0.11978854238986969], [0.9961608648300171, 0.0038390953559428453], [0.11910948157310486, 0.8808905482292175], [0.46581944823265076, 0.5341804623603821], [0.008989870548248291, 0.9910100698471069], [0.0002643111802171916, 0.9997356534004211], [0.00019601848907768726, 0.9998039603233337], [0.618792712688446, 0.3812072277069092], [0.9977266192436218, 0.002273355610668659], [0.9475167393684387, 0.052483346313238144], [0.19436350464820862, 0.8056365251541138], [0.10773555934429169, 0.8922644257545471], [0.9836258292198181, 0.016374139115214348], [0.8454374670982361, 0.1545625627040863], [0.7703821659088135, 0.22961781919002533], [0.991263747215271, 0.008736294694244862], [0.8354745507240295, 0.16452546417713165], [0.8161205649375916, 0.18387940526008606], [0.9838150143623352, 0.016184933483600616], [0.9931783676147461, 0.006821631453931332], [0.9807511568069458, 0.019248872995376587], [0.0006133082206360996, 0.9993866682052612], [0.9263588190078735, 0.07364115864038467], [0.8199688196182251, 0.1800311952829361], [0.9487339854240417, 0.05126599222421646], [0.8485361337661743, 0.15146388113498688], [0.9946781396865845, 0.005321858916431665], [0.9567922353744507, 0.04320774972438812], [0.6137189865112305, 0.3862810432910919], [0.9526618719100952, 0.04733816906809807], [0.5747026205062866, 0.4252973198890686], [0.8066600561141968, 0.19333995878696442], [0.35936233401298523, 0.6406376361846924], [0.748496413230896, 0.251503586769104], [0.5568968653678894, 0.4431031048297882], [0.982926607131958, 0.017073430120944977], [0.016949782148003578, 0.9830501675605774], [0.9987194538116455, 0.0012805949663743377], [0.9998667240142822, 0.00013328522618394345]]\n"
     ]
    },
    {
     "name": "stderr",
     "output_type": "stream",
     "text": [
      "\n"
     ]
    }
   ],
   "source": [
    "# Assuming you have already trained the model and saved a checkpoint\n",
    "checkpoint_path = './checkpoint/nli_model-epoch=01-val_loss=0.37.ckpt'\n",
    "# Load the model from the checkpoint\n",
    "model_name = \"cross-encoder/nli-distilroberta-base\"\n",
    "num_classes = 2\n",
    "max_length = 512\n",
    "batch_size = 16\n",
    "learning_rate = 5e-05\n",
    "weight_decay = 0.001\n",
    "\n",
    "tokenizer = AutoTokenizer.from_pretrained(model_name)\n",
    "model = AutoModelForSequenceClassification.from_pretrained(model_name, num_labels = num_classes, ignore_mismatched_sizes = True)\n",
    "loaded_model = KPM.load_from_checkpoint(model=model, checkpoint_path=checkpoint_path)\n",
    "print(\"hello world\")\n",
    "\n",
    "# Set the model to evaluation mode\n",
    "loaded_model.eval()\n",
    "\n",
    "test_dataset = Dataset(test_df, tokenizer, max_length)\n",
    "test_loader = DataLoader(test_dataset, batch_size=batch_size, shuffle=False)\n",
    "\n",
    "# Make predictions on the test set with probabilities\n",
    "all_predictions = []\n",
    "all_probabilities = []\n",
    "with torch.no_grad():\n",
    "    for batch in tqdm(test_loader, desc=\"Predicting\"):\n",
    "        input_ids, attention_mask = batch['input_ids'], batch['attention_mask']\n",
    "        outputs = loaded_model(input_ids, attention_mask)\n",
    "        logits = outputs.logits\n",
    "        # print(logits)\n",
    "        probabilities = F.softmax(logits, dim=1)\n",
    "        predictions = torch.argmax(logits, dim=1).tolist()\n",
    "        # print(predictions)\n",
    "        print(probabilities)\n",
    "        all_predictions.extend(predictions)\n",
    "        all_probabilities.extend(probabilities.tolist())\n",
    "\n",
    "\n",
    "print(all_predictions)\n",
    "print(all_probabilities)"
   ],
   "metadata": {
    "collapsed": false,
    "pycharm": {
     "name": "#%%\n"
    }
   }
  },
  {
   "cell_type": "code",
   "execution_count": 7,
   "outputs": [
    {
     "name": "stdout",
     "output_type": "stream",
     "text": [
      "3426\n",
      "3426\n"
     ]
    }
   ],
   "source": [
    "print(len(all_predictions))\n",
    "print(len(all_probabilities))"
   ],
   "metadata": {
    "collapsed": false,
    "pycharm": {
     "name": "#%%\n"
    }
   }
  },
  {
   "cell_type": "code",
   "execution_count": 14,
   "outputs": [
    {
     "name": "stdout",
     "output_type": "stream",
     "text": [
      "[0.8513832688331604, 0.9530447125434875, 0.9813437461853027, 0.9999032020568848, 0.9502105712890625, 0.9856218695640564, 0.9996399879455566, 0.7003836631774902, 0.9784537553787231, 0.9999059438705444, 0.5496004223823547, 0.9834389090538025, 0.9875774383544922, 0.9435656070709229, 0.9999083280563354, 0.8970844745635986, 0.9932764768600464, 0.5377925038337708, 0.9752899408340454, 0.9779468178749084, 0.9998916387557983, 0.6552639603614807, 0.9617480635643005, 0.9989585876464844, 0.9997628331184387, 0.9690905809402466, 0.7799464464187622, 0.9968823194503784, 0.9996205568313599, 0.7533658742904663, 0.9707180857658386, 0.9991835951805115, 0.9999151229858398, 0.6591960191726685, 0.9929141998291016, 0.6223980188369751, 0.5727285146713257, 0.9057391285896301, 0.9987348914146423, 0.6909785270690918, 0.9980675578117371, 0.9997209906578064, 0.99972003698349, 0.9550588130950928, 0.7782137989997864, 0.5976061224937439, 0.9899438619613647, 0.6962425112724304, 0.7719510197639465, 0.811423122882843, 0.8992534875869751, 0.5972216129302979, 0.6113153100013733, 0.9486123919487, 0.9899789094924927, 0.9902742505073547, 0.748446524143219, 0.6522065997123718, 0.9666641354560852, 0.9774086475372314, 0.8282991647720337, 0.997252881526947, 0.974445641040802, 0.9931746125221252, 0.7029930949211121, 0.9592380523681641, 0.9439685940742493, 0.7721773982048035, 0.7258421778678894, 0.7839317321777344, 0.9823049306869507, 0.6100481152534485, 0.9611214995384216, 0.9941228032112122, 0.9978960752487183, 0.9998898506164551, 0.9693785905838013, 0.9064202904701233, 0.9997166991233826, 0.9716830849647522, 0.9994150400161743, 0.9847890138626099, 0.9482450485229492, 0.9998831748962402, 0.9733183979988098, 0.9681566953659058, 0.9202513098716736, 0.5423319935798645, 0.9998997449874878, 0.9998822212219238, 0.9995612502098083, 0.9457176327705383, 0.9609208106994629, 0.9994470477104187, 0.7914904356002808, 0.9998682737350464, 0.6563959717750549, 0.5982317924499512, 0.9894424676895142, 0.9676223993301392, 0.8933056592941284, 0.9760515689849854, 0.9988586902618408, 0.9996514320373535, 0.9985879063606262, 0.999864935874939, 0.9981538653373718, 0.975978672504425, 0.9951382279396057, 0.8931299448013306, 0.9968053102493286, 0.8430793285369873, 0.9965947270393372, 0.7779294848442078, 0.5263563990592957, 0.9995717406272888, 0.8514848351478577, 0.6157976984977722, 0.9990789890289307, 0.7699733376502991, 0.5020124316215515, 0.9639413356781006, 0.7042561769485474, 0.994597315788269, 0.9015599489212036, 0.9998949766159058, 0.954387366771698, 0.999870777130127, 0.9853155612945557, 0.9664434194564819, 0.9998985528945923, 0.9871788024902344, 0.9998904466629028, 0.978142499923706, 0.9997794032096863, 0.9782586693763733, 0.9999047517776489, 0.9916111826896667, 0.9973347783088684, 0.9998952150344849, 0.9838058948516846, 0.9993519186973572, 0.9973980188369751, 0.980678915977478, 0.999841570854187, 0.9585533142089844, 0.5291685461997986, 0.9999029636383057, 0.9997649788856506, 0.9999237060546875, 0.7492840886116028, 0.9994680285453796, 0.9998375177383423, 0.969867467880249, 0.9980331063270569, 0.7566134333610535, 0.5871942639350891, 0.8916779160499573, 0.999006450176239, 0.9996562004089355, 0.771586537361145, 0.9998494386672974, 0.9048117995262146, 0.9905776977539062, 0.9902674555778503, 0.9988287091255188, 0.9998713731765747, 0.9876082539558411, 0.6316632032394409, 0.9998989105224609, 0.9127901196479797, 0.9947291016578674, 0.9999027252197266, 0.952410101890564, 0.9998180270195007, 0.9997181296348572, 0.7919324636459351, 0.711300253868103, 0.999889612197876, 0.9551475048065186, 0.6076022982597351, 0.9934218525886536, 0.8183877468109131, 0.9998353719711304, 0.7370015978813171, 0.8771929144859314, 0.8787522912025452, 0.999903678894043, 0.9380733966827393, 0.9782479405403137, 0.6080690622329712, 0.9997621178627014, 0.9912857413291931, 0.9996728897094727, 0.9991679191589355, 0.9641919732093811, 0.9997368454933167, 0.9605310559272766, 0.9987977743148804, 0.9975850582122803, 0.9991980195045471, 0.6792312264442444, 0.9199085831642151, 0.9998573064804077, 0.9999397993087769, 0.9480989575386047, 0.9998781681060791, 0.9983962178230286, 0.9989166259765625, 0.9964726567268372, 0.7922261953353882, 0.9999083280563354, 0.9997267127037048, 0.9998607635498047, 0.8745146989822388, 0.999855637550354, 0.9998860359191895, 0.9841025471687317, 0.8915327191352844, 0.9994595646858215, 0.9932900667190552, 0.8275302648544312, 0.6829186081886292, 0.9142369627952576, 0.9943016767501831, 0.8014311790466309, 0.986972987651825, 0.8168166279792786, 0.7319121956825256, 0.9986849427223206, 0.9955604076385498, 0.9925547242164612, 0.9997743964195251, 0.5737032294273376, 0.9989932179450989, 0.9962536096572876, 0.9978510141372681, 0.5161433815956116, 0.9998477697372437, 0.5427618622779846, 0.6879714727401733, 0.609595537185669, 0.6611960530281067, 0.8734541535377502, 0.8427631258964539, 0.9995900988578796, 0.9997187256813049, 0.9134142398834229, 0.8662251830101013, 0.7394587993621826, 0.709061324596405, 0.6325216889381409, 0.9828526377677917, 0.9058528542518616, 0.5638460516929626, 0.671071469783783, 0.8890025019645691, 0.9253787398338318, 0.6988968253135681, 0.9998805522918701, 0.7778494954109192, 0.9982749223709106, 0.9994303584098816, 0.5245633721351624, 0.5036904811859131, 0.557733416557312, 0.5492929816246033, 0.9430997371673584, 0.7818096280097961, 0.5911322236061096, 0.7547577023506165, 0.6111242771148682, 0.7483951449394226, 0.5143530964851379, 0.9635242819786072, 0.9726420640945435, 0.9994649291038513, 0.9999326467514038, 0.5478954315185547, 0.8250795006752014, 0.9787924885749817, 0.6146439909934998, 0.5813345909118652, 0.5618897676467896, 0.5734644532203674, 0.8127045631408691, 0.9490034580230713, 0.9953984618186951, 0.958132803440094, 0.9538486003875732, 0.9980687499046326, 0.9995928406715393, 0.8598976135253906, 0.825182318687439, 0.9340054988861084, 0.824336051940918, 0.5290191769599915, 0.9146896600723267, 0.9790904521942139, 0.9904581308364868, 0.9974849224090576, 0.6046001315116882, 0.9967417120933533, 0.9957568049430847, 0.7088556289672852, 0.9958081245422363, 0.9988293051719666, 0.9490408301353455, 0.9943423271179199, 0.994522213935852, 0.8266891241073608, 0.8515735864639282, 0.9944432377815247, 0.9974650144577026, 0.9977858066558838, 0.9996464252471924, 0.7925766110420227, 0.9996670484542847, 0.9897144436836243, 0.9348388314247131, 0.922114372253418, 0.9117437601089478, 0.8782379031181335, 0.9800764918327332, 0.9863392114639282, 0.999514102935791, 0.9998270869255066, 0.9279208779335022, 0.9998760223388672, 0.9707396626472473, 0.5217549800872803, 0.9992884397506714, 0.9469262957572937, 0.9996752738952637, 0.98899906873703, 0.9861370325088501, 0.9953969120979309, 0.9630313515663147, 0.543485701084137, 0.9478558897972107, 0.8294611573219299, 0.5940374135971069, 0.5795333385467529, 0.8218989372253418, 0.9064396023750305, 0.9327378869056702, 0.5171522498130798, 0.9158706665039062, 0.9955177903175354, 0.803199827671051, 0.9993439316749573, 0.9108673930168152, 0.989391028881073, 0.9000037908554077, 0.9781891703605652, 0.7967236638069153, 0.9860811233520508, 0.9955015778541565, 0.6835829615592957, 0.7826042175292969, 0.6942452192306519, 0.9565573334693909, 0.6393011808395386, 0.7624756693840027, 0.8243324160575867, 0.9284123182296753, 0.9694671034812927, 0.9106485247612, 0.9662832021713257, 0.9872691631317139, 0.8317134976387024, 0.9969832301139832, 0.8047659397125244, 0.6750153303146362, 0.9557937383651733, 0.9242368340492249, 0.9970588684082031, 0.6113156676292419, 0.5322919487953186, 0.9477708339691162, 0.9446662664413452, 0.7404581308364868, 0.5060555934906006, 0.6148340106010437, 0.9532967209815979, 0.9944062232971191, 0.9993945360183716, 0.9976535439491272, 0.8255547285079956, 0.9683436155319214, 0.9995425939559937, 0.8262607455253601, 0.9997738003730774, 0.6821354031562805, 0.9998818635940552, 0.999947190284729, 0.9200083017349243, 0.9973969459533691, 0.9961680769920349, 0.9762012958526611, 0.919858455657959, 0.8829113841056824, 0.5275248289108276, 0.9867979884147644, 0.9935528039932251, 0.9977697134017944, 0.9987288117408752, 0.9994522929191589, 0.9880186319351196, 0.868056058883667, 0.9491918087005615, 0.5704634189605713, 0.9067488312721252, 0.9206315875053406, 0.6440744400024414, 0.9924962520599365, 0.998457670211792, 0.998141884803772, 0.9986761212348938, 0.9930341243743896, 0.8544672131538391, 0.7338864207267761, 0.9952253103256226, 0.9947090148925781, 0.9871757626533508, 0.998214602470398, 0.597841739654541, 0.6606065630912781, 0.9114151000976562, 0.5160775184631348, 0.6196350455284119, 0.7188560962677002, 0.9964800477027893, 0.9987589120864868, 0.9353139400482178, 0.769615650177002, 0.9979573488235474, 0.999895453453064, 0.9972508549690247, 0.99982750415802, 0.99945467710495, 0.9998206496238708, 0.9998490810394287, 0.5114713907241821, 0.999821126461029, 0.99980229139328, 0.9997754693031311, 0.5664029121398926, 0.9996837377548218, 0.9997712969779968, 0.9998316764831543, 0.9789460301399231, 0.9599992632865906, 0.9969093203544617, 0.6932920813560486, 0.9986316561698914, 0.9555683732032776, 0.8419002294540405, 0.880025327205658, 0.8857693076133728, 0.9969210624694824, 0.9898285865783691, 0.9720970988273621, 0.9804546236991882, 0.9876635670661926, 0.6329707503318787, 0.8042886257171631, 0.8967093229293823, 0.9129850268363953, 0.8071039319038391, 0.9823922514915466, 0.5218459963798523, 0.996462881565094, 0.896249532699585, 0.9991938471794128, 0.9162976741790771, 0.9985973238945007, 0.9998089671134949, 0.9941955208778381, 0.9849367737770081, 0.9998534917831421, 0.999723494052887, 0.9914705157279968, 0.5911514163017273, 0.5068038702011108, 0.9949671626091003, 0.9920104742050171, 0.9674618244171143, 0.9816834926605225, 0.9900742173194885, 0.5679484605789185, 0.9722926020622253, 0.9734626412391663, 0.9813128709793091, 0.833772599697113, 0.7074090242385864, 0.6761221885681152, 0.987894594669342, 0.738551139831543, 0.9679126143455505, 0.9985301494598389, 0.9486311674118042, 0.9999024868011475, 0.5997301340103149, 0.7672325968742371, 0.8550766706466675, 0.9923444390296936, 0.9862854480743408, 0.9558120369911194, 0.7399235367774963, 0.9738329648971558, 0.9689868092536926, 0.8446101546287537, 0.9992642998695374, 0.9976691603660583, 0.966937780380249, 0.9955938458442688, 0.9973065853118896, 0.9978840947151184, 0.9905548691749573, 0.9819301962852478, 0.844569981098175, 0.9689712524414062, 0.8851091861724854, 0.891783595085144, 0.877269983291626, 0.9529958963394165, 0.76735520362854, 0.9998769760131836, 0.997387707233429, 0.9289748668670654, 0.9671266674995422, 0.9006006717681885, 0.787129819393158, 0.641959011554718, 0.6595974564552307, 0.7724335789680481, 0.5412322878837585, 0.9657436609268188, 0.6171104311943054, 0.9576694369316101, 0.7257216572761536, 0.5230569839477539, 0.961747407913208, 0.8319189548492432, 0.9636247754096985, 0.9886670112609863, 0.994625985622406, 0.5090951919555664, 0.9959241151809692, 0.8615594506263733, 0.8775131702423096, 0.9833036661148071, 0.9524178504943848, 0.77475506067276, 0.9681566953659058, 0.9746228456497192, 0.7350395321846008, 0.5759754776954651, 0.7438004016876221, 0.6332107782363892, 0.8416620492935181, 0.543776273727417, 0.9926567673683167, 0.8061956763267517, 0.8020919561386108, 0.9434031844139099, 0.7298478484153748, 0.5947983860969543, 0.5706536173820496, 0.9997773766517639, 0.5287935733795166, 0.9363329410552979, 0.8684743642807007, 0.6679208874702454, 0.6028931140899658, 0.893221914768219, 0.9977325201034546, 0.8354016542434692, 0.546332061290741, 0.788733184337616, 0.5926570892333984, 0.9900950193405151, 0.8587503433227539, 0.8392343521118164, 0.8806257247924805, 0.9775107502937317, 0.8366393446922302, 0.6999241709709167, 0.835357129573822, 0.8600831031799316, 0.809673547744751, 0.7755870223045349, 0.8940685391426086, 0.8642890453338623, 0.9923417568206787, 0.7179439067840576, 0.5411581993103027, 0.7956202030181885, 0.6886364817619324, 0.9881592988967896, 0.7270752787590027, 0.8176929354667664, 0.9992930889129639, 0.7642838358879089, 0.9983702301979065, 0.7867724299430847, 0.9997385144233704, 0.5544752478599548, 0.9995139837265015, 0.9976721405982971, 0.9995254278182983, 0.51087486743927, 0.9996742010116577, 0.9973360896110535, 0.9992515444755554, 0.9993782043457031, 0.9999196529388428, 0.9993104934692383, 0.9097200632095337, 0.8862556219100952, 0.7328336238861084, 0.7633282542228699, 0.9712520837783813, 0.9063338041305542, 0.9995884299278259, 0.9946145415306091, 0.9126708507537842, 0.9940668344497681, 0.8391499519348145, 0.9326478838920593, 0.9738348722457886, 0.8965049982070923, 0.8642448782920837, 0.9468405842781067, 0.9844014048576355, 0.9628798365592957, 0.9913461804389954, 0.9997183680534363, 0.9999220371246338, 0.6614550352096558, 0.8803691267967224, 0.998012900352478, 0.9988521337509155, 0.783142626285553, 0.6954634189605713, 0.9701729416847229, 0.9201715588569641, 0.657334566116333, 0.6384669542312622, 0.9763009548187256, 0.5812151432037354, 0.6021416783332825, 0.964204728603363, 0.9535558223724365, 0.7654501795768738, 0.8375113010406494, 0.8908610939979553, 0.517733633518219, 0.9479049444198608, 0.7039787769317627, 0.960870087146759, 0.9948272109031677, 0.9358130693435669, 0.5937225222587585, 0.9545913338661194, 0.9701322913169861, 0.8988790512084961, 0.8651304841041565, 0.866082489490509, 0.833204984664917, 0.9508710503578186, 0.98271644115448, 0.9644031524658203, 0.8236976861953735, 0.9786215424537659, 0.9158535599708557, 0.9996507167816162, 0.9988565444946289, 0.9999098777770996, 0.907871663570404, 0.9999066591262817, 0.9862924814224243, 0.8482807278633118, 0.9998959302902222, 0.8636375069618225, 0.9321969151496887, 0.7257874608039856, 0.917109489440918, 0.8842817544937134, 0.589961588382721, 0.8544718027114868, 0.9782596826553345, 0.9247324466705322, 0.778457760810852, 0.9627329707145691, 0.9495916366577148, 0.7412391304969788, 0.9926615953445435, 0.8896539807319641, 0.9936020970344543, 0.7679986357688904, 0.8421513438224792, 0.7350776791572571, 0.5397281646728516, 0.7511036396026611, 0.9058883786201477, 0.958962082862854, 0.9934697151184082, 0.9988516569137573, 0.7319207787513733, 0.9997970461845398, 0.5653168559074402, 0.9998282194137573, 0.9997316002845764, 0.8671370148658752, 0.908090353012085, 0.9348262548446655, 0.999201238155365, 0.9037600755691528, 0.5040416121482849, 0.8298083543777466, 0.5988480448722839, 0.670225977897644, 0.7652238607406616, 0.6902949213981628, 0.7710279226303101, 0.9738011956214905, 0.8485504984855652, 0.9998579025268555, 0.9999516010284424, 0.996316134929657, 0.9981434345245361, 0.9829457998275757, 0.8686462640762329, 0.9584078192710876, 0.9738392233848572, 0.95720374584198, 0.8970648646354675, 0.9612189531326294, 0.9715747237205505, 0.9864829182624817, 0.9374058842658997, 0.9978567957878113, 0.993450403213501, 0.9526355862617493, 0.8956825137138367, 0.9968293309211731, 0.9999072551727295, 0.9868956208229065, 0.994765043258667, 0.9992339611053467, 0.9702231884002686, 0.9922771453857422, 0.9915772676467896, 0.9995737671852112, 0.9999085664749146, 0.9891127943992615, 0.9991414546966553, 0.6584577560424805, 0.8895299434661865, 0.7291731834411621, 0.9981702566146851, 0.8833160400390625, 0.7662602066993713, 0.9865168333053589, 0.9341003894805908, 0.9261837005615234, 0.8646911978721619, 0.5711892247200012, 0.9646767377853394, 0.6003857851028442, 0.5378522276878357, 0.9670923352241516, 0.9838268160820007, 0.5626123547554016, 0.9260124564170837, 0.9250842928886414, 0.8767720460891724, 0.9680581092834473, 0.8546494245529175, 0.9685487151145935, 0.9976246953010559, 0.859915018081665, 0.9877324104309082, 0.9941622614860535, 0.7963650226593018, 0.9022074937820435, 0.8399057984352112, 0.9482495188713074, 0.9941257238388062, 0.999552309513092, 0.9997135996818542, 0.6718184947967529, 0.9995540976524353, 0.9998656511306763, 0.9888091683387756, 0.5714634656906128, 0.995891809463501, 0.9995386600494385, 0.9997913241386414, 0.965626060962677, 0.9995012283325195, 0.9998194575309753, 0.8370341658592224, 0.9998518228530884, 0.9955047965049744, 0.9997978806495667, 0.9993981122970581, 0.987524151802063, 0.9903646111488342, 0.9997350573539734, 0.9968781471252441, 0.6141829490661621, 0.7333463430404663, 0.9991349577903748, 0.9995668530464172, 0.918157160282135, 0.9998272061347961, 0.9867764115333557, 0.9973502159118652, 0.9691532850265503, 0.9985488057136536, 0.5795518755912781, 0.984329342842102, 0.9903518557548523, 0.556800901889801, 0.9988766312599182, 0.5524758100509644, 0.9909713268280029, 0.7214275598526001, 0.9737693071365356, 0.9995744824409485, 0.7334328293800354, 0.9929783940315247, 0.9714356064796448, 0.9746666550636292, 0.9951900243759155, 0.8988023996353149, 0.7030220627784729, 0.9795563220977783, 0.6761339902877808, 0.9996304512023926, 0.8682393431663513, 0.8933880925178528, 0.8016486763954163, 0.7101985216140747, 0.8389045000076294, 0.9997414946556091, 0.9996547698974609, 0.8179163932800293, 0.5340718626976013, 0.929477334022522, 0.6450963020324707, 0.5338085293769836, 0.5455807447433472, 0.7557594776153564, 0.8531678318977356, 0.9948989748954773, 0.5641182661056519, 0.9921741485595703, 0.9940776824951172, 0.9075148701667786, 0.9660401940345764, 0.9293477535247803, 0.6125682592391968, 0.5262430906295776, 0.9428786039352417, 0.7947667241096497, 0.8128925561904907, 0.935569167137146, 0.5930061340332031, 0.6213266253471375, 0.6575527191162109, 0.5641980171203613, 0.5926319360733032, 0.9793973565101624, 0.9689971208572388, 0.9989697933197021, 0.9993247985839844, 0.9998331069946289, 0.8657304048538208, 0.9999041557312012, 0.5226322412490845, 0.9776776432991028, 0.9899032115936279, 0.9994373917579651, 0.9988515377044678, 0.9997692704200745, 0.7853257656097412, 0.5449771285057068, 0.9925792813301086, 0.908612847328186, 0.8822534680366516, 0.9935010075569153, 0.9988357424736023, 0.9989792704582214, 0.9942135214805603, 0.9937291145324707, 0.9355129599571228, 0.8617033362388611, 0.8874141573905945, 0.6363013386726379, 0.6330729722976685, 0.9268527626991272, 0.8946950435638428, 0.7191468477249146, 0.9218747019767761, 0.9337344765663147, 0.6146575808525085, 0.898902952671051, 0.8482436537742615, 0.5775225162506104, 0.8883681297302246, 0.9996213912963867, 0.99982750415802, 0.9823583960533142, 0.6230810880661011, 0.9970189332962036, 0.9226862192153931, 0.9060065746307373, 0.9640489220619202, 0.9993461966514587, 0.9996767044067383, 0.7387956976890564, 0.9998345375061035, 0.9998331069946289, 0.6736886501312256, 0.9956629872322083, 0.9983466863632202, 0.7926768064498901, 0.9998867511749268, 0.9935551285743713, 0.9945905208587646, 0.9300800561904907, 0.9975530505180359, 0.9416186809539795, 0.8595029711723328, 0.9945231676101685, 0.7383207082748413, 0.8447259068489075, 0.9986262321472168, 0.9926048517227173, 0.9656798839569092, 0.9845134615898132, 0.99700528383255, 0.9876555800437927, 0.9162363409996033, 0.9484772682189941, 0.8508405685424805, 0.875810980796814, 0.8384447693824768, 0.9928483963012695, 0.9891190528869629, 0.9983431100845337, 0.5211345553398132, 0.7831568717956543, 0.6604401469230652, 0.9906022548675537, 0.8241971135139465, 0.816200315952301, 0.6412611603736877, 0.7987078428268433, 0.9843763113021851, 0.6036192178726196, 0.9826906323432922, 0.9983925223350525, 0.9960263967514038, 0.9782548546791077, 0.9815111756324768, 0.9902230501174927, 0.5250669717788696, 0.9995052814483643, 0.591419517993927, 0.9982655644416809, 0.8298705816268921, 0.6707179546356201, 0.569244384765625, 0.9917559623718262, 0.5081207156181335, 0.958972156047821, 0.9410704374313354, 0.8247047662734985, 0.8478012084960938, 0.8780102133750916, 0.8037700653076172, 0.547145426273346, 0.9858723282814026, 0.885103166103363, 0.9435688257217407, 0.9984639883041382, 0.7240653038024902, 0.9884865283966064, 0.9996520280838013, 0.9986156225204468, 0.834088146686554, 0.9429747462272644, 0.9317839741706848, 0.7145373225212097, 0.999792754650116, 0.9999054670333862, 0.9094762802124023, 0.9998051524162292, 0.7864990234375, 0.6206504106521606, 0.8369038105010986, 0.6259471774101257, 0.9168417453765869, 0.8900653719902039, 0.8643679618835449, 0.9997678399085999, 0.9828357100486755, 0.9713427424430847, 0.9793440699577332, 0.9893760681152344, 0.9157968759536743, 0.9998880624771118, 0.7800464630126953, 0.9764759540557861, 0.744618833065033, 0.9999065399169922, 0.9297650456428528, 0.7826593518257141, 0.8679641485214233, 0.9949328303337097, 0.8811341524124146, 0.9767063856124878, 0.8287244439125061, 0.9979696869850159, 0.9992523789405823, 0.8866685628890991, 0.9966842532157898, 0.9924578666687012, 0.9981141090393066, 0.9992044568061829, 0.8162255883216858, 0.9997209906578064, 0.9038681983947754, 0.9667965173721313, 0.9965224266052246, 0.9958522319793701, 0.8723572492599487, 0.6739976406097412, 0.9990033507347107, 0.9965078234672546, 0.921307384967804, 0.9998511075973511, 0.993119478225708, 0.9033092856407166, 0.9998953342437744, 0.6740580797195435, 0.9974472522735596, 0.9864861965179443, 0.8913915753364563, 0.8550719618797302, 0.9545140266418457, 0.9770853519439697, 0.9999030828475952, 0.8239752650260925, 0.9973850846290588, 0.7265297770500183, 0.936809241771698, 0.9976790547370911, 0.7220010161399841, 0.940201997756958, 0.9495372176170349, 0.9999045133590698, 0.8436360955238342, 0.9117459654808044, 0.9975213408470154, 0.6610763669013977, 0.9547353982925415, 0.9858585000038147, 0.9874898791313171, 0.9971283078193665, 0.9981796741485596, 0.8943251371383667, 0.7250198721885681, 0.6619277596473694, 0.999901533126831, 0.9997122883796692, 0.9998314380645752, 0.9797734618186951, 0.6671554446220398, 0.6145946979522705, 0.9616953730583191, 0.5144726634025574, 0.9812553524971008, 0.9193344712257385, 0.671636164188385, 0.9898179173469543, 0.9545565843582153, 0.9997337460517883, 0.8385178446769714, 0.7307582497596741, 0.9946489930152893, 0.9057788252830505, 0.9981508851051331, 0.9980097413063049, 0.9939324259757996, 0.9998983144760132, 0.9972895383834839, 0.9941721558570862, 0.9550211429595947, 0.9983421564102173, 0.9980674386024475, 0.7215639352798462, 0.986724853515625, 0.8749432563781738, 0.9841408729553223, 0.8761109113693237, 0.9478959441184998, 0.8717118501663208, 0.9482096433639526, 0.9992165565490723, 0.951483964920044, 0.999178946018219, 0.9997664093971252, 0.9746187329292297, 0.9998829364776611, 0.9899868369102478, 0.9939321875572205, 0.9989256262779236, 0.9993359446525574, 0.9996578693389893, 0.7056188583374023, 0.9990905523300171, 0.9970937967300415, 0.9945898056030273, 0.9745110869407654, 0.9840706586837769, 0.9865146279335022, 0.6746056079864502, 0.9429581165313721, 0.9687050580978394, 0.9453288316726685, 0.9554274082183838, 0.56910240650177, 0.6683382391929626, 0.9597432613372803, 0.9054747819900513, 0.8758041262626648, 0.9156599640846252, 0.809048593044281, 0.9956522583961487, 0.8129132390022278, 0.9998563528060913, 0.9937217831611633, 0.8677172660827637, 0.9102526307106018, 0.5544623136520386, 0.5523930788040161, 0.8726171851158142, 0.7045442461967468, 0.999649167060852, 0.5567849278450012, 0.7729811072349548, 0.87859046459198, 0.9930729269981384, 0.683892548084259, 0.9959873557090759, 0.9998754262924194, 0.9457820057868958, 0.9495082497596741, 0.5911976099014282, 0.9865378141403198, 0.9997939467430115, 0.9686567187309265, 0.6263865828514099, 0.556095540523529, 0.9939414262771606, 0.7932080030441284, 0.8670144081115723, 0.5664807558059692, 0.9734920263290405, 0.9941480159759521, 0.8492625951766968, 0.8507402539253235, 0.9937664270401001, 0.9996819496154785, 0.5023633241653442, 0.9999034404754639, 0.9130101799964905, 0.999134361743927, 0.9992918968200684, 0.8995137810707092, 0.9998792409896851, 0.9947315454483032, 0.8875837326049805, 0.9866791367530823, 0.8404811024665833, 0.5725207328796387, 0.7709400057792664, 0.9988138675689697, 0.5960090756416321, 0.6088050603866577, 0.8958938717842102, 0.7336485385894775, 0.8802738189697266, 0.9878742098808289, 0.9884474873542786, 0.9980720281600952, 0.9527186751365662, 0.9915348291397095, 0.9993452429771423, 0.6181235313415527, 0.8642377853393555, 0.947187066078186, 0.999370276927948, 0.8727058172225952, 0.6995563507080078, 0.9488217234611511, 0.9691652655601501, 0.820491373538971, 0.6159275770187378, 0.8826611638069153, 0.9970055222511292, 0.6214826703071594, 0.8853106498718262, 0.9943420886993408, 0.8249354958534241, 0.9970297813415527, 0.6255261301994324, 0.9990668892860413, 0.9805395603179932, 0.9973948001861572, 0.9998250603675842, 0.6251735091209412, 0.999649167060852, 0.5397639274597168, 0.9990280866622925, 0.5411494374275208, 0.6944525837898254, 0.5573371648788452, 0.6789320111274719, 0.5940443277359009, 0.6755496263504028, 0.7178205847740173, 0.8602896928787231, 0.9986415505409241, 0.852811872959137, 0.9189696907997131, 0.9974488615989685, 0.9971047043800354, 0.9181615114212036, 0.8171990513801575, 0.9992187023162842, 0.9987117052078247, 0.9437116980552673, 0.8123030662536621, 0.9988483190536499, 0.9561173915863037, 0.7173996567726135, 0.7675840258598328, 0.9997395873069763, 0.6184726357460022, 0.9228724837303162, 0.7853261828422546, 0.9937211275100708, 0.6252683997154236, 0.7037097811698914, 0.9810302257537842, 0.6212766170501709, 0.9962124824523926, 0.845970094203949, 0.9012121558189392, 0.6937204599380493, 0.9934146404266357, 0.8613928556442261, 0.7926709651947021, 0.988976240158081, 0.749021589756012, 0.5325580835342407, 0.887627899646759, 0.5895577073097229, 0.530483067035675, 0.9914751052856445, 0.7924109101295471, 0.8777907490730286, 0.9995933175086975, 0.5948665738105774, 0.9966938495635986, 0.7388184070587158, 0.8839712738990784, 0.998941957950592, 0.9971274733543396, 0.9161092638969421, 0.9091646075248718, 0.9346804022789001, 0.99715256690979, 0.6937610507011414, 0.9227848649024963, 0.7317734956741333, 0.9970605969429016, 0.8462323546409607, 0.7950872182846069, 0.9843599200248718, 0.615648627281189, 0.9629296660423279, 0.9542176127433777, 0.8704125881195068, 0.7274447679519653, 0.9992241859436035, 0.7496234774589539, 0.8250848650932312, 0.5767925381660461, 0.9400497078895569, 0.936171293258667, 0.6115437746047974, 0.7489535808563232, 0.9740003347396851, 0.9841614961624146, 0.9849430322647095, 0.9819066524505615, 0.8084098100662231, 0.9202984571456909, 0.8453516364097595, 0.6703757643699646, 0.967620849609375, 0.9979953765869141, 0.9999141693115234, 0.9300598502159119, 0.9990975856781006, 0.7125037312507629, 0.9429622292518616, 0.574192225933075, 0.8079161047935486, 0.9312000870704651, 0.9587161540985107, 0.9892868995666504, 0.9918478727340698, 0.8356683254241943, 0.9607886075973511, 0.9495176672935486, 0.7160811424255371, 0.8641732335090637, 0.5665396451950073, 0.9985628724098206, 0.9998868703842163, 0.7684958577156067, 0.9993765950202942, 0.7717361450195312, 0.9920884370803833, 0.9947717785835266, 0.9998763799667358, 0.9893509745597839, 0.6323463320732117, 0.5867719650268555, 0.811152458190918, 0.9698584079742432, 0.8001869916915894, 0.8706669807434082, 0.8694427609443665, 0.639366865158081, 0.6352425813674927, 0.9930985569953918, 0.9845150709152222, 0.99918133020401, 0.911083996295929, 0.8837952613830566, 0.5709035396575928, 0.5830399394035339, 0.9943413734436035, 0.7778394222259521, 0.8857182860374451, 0.7054546475410461, 0.953477680683136, 0.9751384258270264, 0.9850971102714539, 0.9520871043205261, 0.9301809668540955, 0.709171712398529, 0.8034195303916931, 0.9972821474075317, 0.9991856217384338, 0.5165082812309265, 0.9998693466186523, 0.5015056729316711, 0.976783037185669, 0.9969865679740906, 0.9234501123428345, 0.9559615850448608, 0.8967047333717346, 0.9992523789405823, 0.725231409072876, 0.9349709749221802, 0.7065419554710388, 0.9989344477653503, 0.5267675518989563, 0.9467129707336426, 0.5302206873893738, 0.9891696572303772, 0.540772020816803, 0.863486111164093, 0.9347503185272217, 0.8725550174713135, 0.9970269799232483, 0.9986166954040527, 0.7991779446601868, 0.9995686411857605, 0.9471443891525269, 0.9960829019546509, 0.9998767375946045, 0.8112508654594421, 0.9998619556427002, 0.9312321543693542, 0.9938549399375916, 0.6507406830787659, 0.5554109215736389, 0.9220495820045471, 0.9949656128883362, 0.5349953174591064, 0.9700047373771667, 0.8433296084403992, 0.9786965847015381, 0.5527569651603699, 0.647299587726593, 0.9663761854171753, 0.7636376619338989, 0.9982166886329651, 0.7869056463241577, 0.9929325580596924, 0.9028876423835754, 0.993385374546051, 0.8732137084007263, 0.8209962248802185, 0.98954176902771, 0.8999673128128052, 0.9785520434379578, 0.8978112936019897, 0.8943536281585693, 0.9948441982269287, 0.9043546915054321, 0.994617760181427, 0.6600733995437622, 0.8654658198356628, 0.9951906204223633, 0.8326038122177124, 0.9118201732635498, 0.6444182991981506, 0.5516105890274048, 0.9911504983901978, 0.6019943952560425, 0.6461093425750732, 0.598193347454071, 0.7526971101760864, 0.6561618447303772, 0.7785884141921997, 0.5381491184234619, 0.9525452852249146, 0.9876402020454407, 0.9698817133903503, 0.7064176797866821, 0.5876316428184509, 0.7058622241020203, 0.9879163503646851, 0.9997250437736511, 0.999901533126831, 0.9998615980148315, 0.6661838293075562, 0.8300884366035461, 0.5365763902664185, 0.9050092101097107, 0.999135434627533, 0.970379650592804, 0.9989109039306641, 0.9574216604232788, 0.9694124460220337, 0.6555721163749695, 0.9920616149902344, 0.5651113986968994, 0.516021192073822, 0.7764427065849304, 0.5198609828948975, 0.6583099961280823, 0.7381277084350586, 0.915857195854187, 0.7424654960632324, 0.9797580242156982, 0.9965384006500244, 0.5551350116729736, 0.7623058557510376, 0.7369272708892822, 0.7651714086532593, 0.7829843163490295, 0.9842236638069153, 0.9985635876655579, 0.9999014139175415, 0.7986815571784973, 0.6787272095680237, 0.9958621263504028, 0.9985779523849487, 0.9442300796508789, 0.9910506010055542, 0.9998235106468201, 0.982853889465332, 0.999672532081604, 0.7402641773223877, 0.7346073985099792, 0.7416911721229553, 0.7538138031959534, 0.8756545782089233, 0.7523985505104065, 0.8656308054924011, 0.6950079202651978, 0.9022170901298523, 0.7791194319725037, 0.661482572555542, 0.6541414260864258, 0.8379029035568237, 0.9657700061798096, 0.754294216632843, 0.6866182684898376, 0.8664124608039856, 0.693102240562439, 0.9743152856826782, 0.6712689995765686, 0.7789199948310852, 0.8890852928161621, 0.9369409084320068, 0.8858430981636047, 0.7988870739936829, 0.6080878376960754, 0.6991734504699707, 0.7880584597587585, 0.5911555886268616, 0.851848840713501, 0.9951673746109009, 0.9631690382957458, 0.9750829339027405, 0.9125193357467651, 0.695021390914917, 0.928798496723175, 0.9835065603256226, 0.8825098872184753, 0.7888975739479065, 0.9963014125823975, 0.8845154047012329, 0.9885099530220032, 0.9862020611763, 0.9903268218040466, 0.9780688285827637, 0.9920300245285034, 0.9735813736915588, 0.6243914365768433, 0.9319445490837097, 0.7111958861351013, 0.9994058609008789, 0.8876572847366333, 0.8782827854156494, 0.9996989965438843, 0.9997581839561462, 0.7481189966201782, 0.9834923148155212, 0.9458083510398865, 0.624383807182312, 0.7717400789260864, 0.9241034388542175, 0.8419432640075684, 0.9918555021286011, 0.5004332065582275, 0.7935670018196106, 0.6979838609695435, 0.9386588931083679, 0.991916835308075, 0.9998875856399536, 0.9983417987823486, 0.9916911125183105, 0.7702593207359314, 0.9991264939308167, 0.999614953994751, 0.9992228746414185, 0.7785725593566895, 0.9666252732276917, 0.6642624735832214, 0.746168315410614, 0.73471599817276, 0.9685705900192261, 0.9700347185134888, 0.9036412239074707, 0.9402570724487305, 0.8990866541862488, 0.9955865144729614, 0.5901801586151123, 0.9009078741073608, 0.7289243936538696, 0.6253096461296082, 0.8623011708259583, 0.9418995976448059, 0.8574830889701843, 0.8982706069946289, 0.8977878093719482, 0.51619952917099, 0.860558032989502, 0.9954053163528442, 0.9983599781990051, 0.8388285040855408, 0.999870777130127, 0.974723756313324, 0.9481103420257568, 0.5365957021713257, 0.9912113547325134, 0.9855000376701355, 0.7730004787445068, 0.5467172861099243, 0.9974502921104431, 0.9888235926628113, 0.5207819938659668, 0.9903427362442017, 0.998223602771759, 0.9884665012359619, 0.999890923500061, 0.9983194470405579, 0.9925099611282349, 0.8717370629310608, 0.999767005443573, 0.9998010993003845, 0.9665325880050659, 0.7765709757804871, 0.7055303454399109, 0.5158900618553162, 0.8855839371681213, 0.9767953157424927, 0.6577697992324829, 0.9814218282699585, 0.9996125102043152, 0.9994725584983826, 0.8909081816673279, 0.840813159942627, 0.998461127281189, 0.9997566342353821, 0.9344270825386047, 0.8804336190223694, 0.9987472295761108, 0.9716008305549622, 0.6405903100967407, 0.7447956204414368, 0.9896843433380127, 0.9661155343055725, 0.7371419668197632, 0.6237565875053406, 0.988381564617157, 0.8028759956359863, 0.9687591195106506, 0.7742469310760498, 0.9979762434959412, 0.9998986721038818, 0.9993225336074829, 0.9975852966308594, 0.7804101705551147, 0.9998350143432617, 0.9998998641967773, 0.9993454813957214, 0.812967836856842, 0.9977980852127075, 0.9628046751022339, 0.7391895055770874, 0.9877861738204956, 0.9931118488311768, 0.8911281228065491, 0.9985692501068115, 0.9921128749847412, 0.9542840123176575, 0.5523362755775452, 0.9966431856155396, 0.999365508556366, 0.5262916088104248, 0.9954924583435059, 0.8418667912483215, 0.6554486155509949, 0.9825876355171204, 0.9962137341499329, 0.9316653609275818, 0.8053295612335205, 0.5100713968276978, 0.9061132669448853, 0.8723589181900024, 0.793528139591217, 0.9088585376739502, 0.9495294094085693, 0.503814160823822, 0.8241364359855652, 0.6557261943817139, 0.9335377812385559, 0.876638650894165, 0.6980575323104858, 0.8310930728912354, 0.5614501237869263, 0.8710799813270569, 0.8700860142707825, 0.8490377068519592, 0.9659489393234253, 0.9689207673072815, 0.8986533284187317, 0.9909570217132568, 0.7153432369232178, 0.982667863368988, 0.742937445640564, 0.9763918519020081, 0.5594164133071899, 0.8848439455032349, 0.5206530690193176, 0.9874882698059082, 0.9504418969154358, 0.9992892742156982, 0.9281564354896545, 0.9984492063522339, 0.9995657801628113, 0.9985458850860596, 0.5402787923812866, 0.9276804327964783, 0.9923778772354126, 0.9995285272598267, 0.9770166277885437, 0.9801053404808044, 0.895605742931366, 0.6789816617965698, 0.9851908087730408, 0.9904080033302307, 0.9951254725456238, 0.8936274647712708, 0.9944002032279968, 0.6570606231689453, 0.9457513093948364, 0.5823823809623718, 0.6234400868415833, 0.6013652682304382, 0.9404417872428894, 0.998178243637085, 0.9851812124252319, 0.7758035659790039, 0.8235276937484741, 0.9935751557350159, 0.9215834140777588, 0.9908953905105591, 0.9970875382423401, 0.9951936602592468, 0.696875274181366, 0.897377073764801, 0.973796010017395, 0.8567137718200684, 0.9993723034858704, 0.9332582950592041, 0.9956491589546204, 0.9693034291267395, 0.960494339466095, 0.9952465891838074, 0.9156220555305481, 0.9810632467269897, 0.9534942507743835, 0.9311485290527344, 0.5746095180511475, 0.9700464010238647, 0.9500105381011963, 0.9772102236747742, 0.8616951107978821, 0.9966049194335938, 0.5079574584960938, 0.7948594689369202, 0.5347832441329956, 0.8032505512237549, 0.6658416390419006, 0.69426029920578, 0.9947474598884583, 0.5578545928001404, 0.6232097744941711, 0.9359424710273743, 0.8476088047027588, 0.9534134268760681, 0.8482224345207214, 0.8985608220100403, 0.7626602649688721, 0.5565330386161804, 0.6326014995574951, 0.9533356428146362, 0.8040610551834106, 0.948324978351593, 0.9195935726165771, 0.8949671983718872, 0.9816856384277344, 0.766151487827301, 0.9793865084648132, 0.9739157557487488, 0.5495549440383911, 0.9727109670639038, 0.9987303614616394, 0.9981929659843445, 0.9998272061347961, 0.9987035989761353, 0.9999067783355713, 0.6222532391548157, 0.9996103644371033, 0.9967922568321228, 0.9197982549667358, 0.9746251106262207, 0.6351742744445801, 0.9886876344680786, 0.991028904914856, 0.9757733345031738, 0.5771504640579224, 0.9452175498008728, 0.9981016516685486, 0.954683780670166, 0.73548424243927, 0.863294780254364, 0.9857097864151001, 0.7801579833030701, 0.8803081512451172, 0.853023111820221, 0.7384923100471497, 0.7802848219871521, 0.5849115252494812, 0.6001124978065491, 0.7914324402809143, 0.7580440640449524, 0.8650261759757996, 0.6766967177391052, 0.9361518025398254, 0.9373096227645874, 0.995151162147522, 0.5590773820877075, 0.9858596920967102, 0.8905072808265686, 0.5129830241203308, 0.9611871242523193, 0.9680202603340149, 0.9984707236289978, 0.6270588636398315, 0.9957059025764465, 0.9555122256278992, 0.7848057150840759, 0.979709267616272, 0.9922656416893005, 0.7246840596199036, 0.9059780240058899, 0.897473156452179, 0.9139569997787476, 0.886786162853241, 0.9865975975990295, 0.9997195601463318, 0.5599532127380371, 0.791368305683136, 0.8453676700592041, 0.9985083937644958, 0.9995416402816772, 0.641030490398407, 0.6632381677627563, 0.6969139575958252, 0.5100709199905396, 0.9006417393684387, 0.9773855805397034, 0.9786108136177063, 0.9495803713798523, 0.9750615954399109, 0.8471992015838623, 0.9887703657150269, 0.9754135012626648, 0.9860848188400269, 0.5461417436599731, 0.9915279150009155, 0.766664981842041, 0.9746500253677368, 0.9322100877761841, 0.986561119556427, 0.8997118473052979, 0.8459295630455017, 0.6556875109672546, 0.508489191532135, 0.7010151743888855, 0.9701395034790039, 0.5528410077095032, 0.9567444324493408, 0.9995811581611633, 0.9069718718528748, 0.9524005651473999, 0.5407493710517883, 0.7724599242210388, 0.7671058773994446, 0.9675073623657227, 0.997998058795929, 0.6705945730209351, 0.9622411131858826, 0.8287826180458069, 0.8947443962097168, 0.6361219882965088, 0.9761378765106201, 0.5998650193214417, 0.7860394716262817, 0.6593064665794373, 0.8157131671905518, 0.7163266539573669, 0.9651641249656677, 0.5008803606033325, 0.9308476448059082, 0.8021438717842102, 0.8879616260528564, 0.9107206463813782, 0.593009889125824, 0.6604068279266357, 0.8787384629249573, 0.6527355909347534, 0.7158024311065674, 0.8199711441993713, 0.773607611656189, 0.974573016166687, 0.9682714343070984, 0.8499376773834229, 0.9615024328231812, 0.8856843709945679, 0.8632076382637024, 0.7812354564666748, 0.9563650488853455, 0.8708251118659973, 0.5230898857116699, 0.7574166655540466, 0.5084824562072754, 0.5467393398284912, 0.5425012707710266, 0.666501522064209, 0.8981903791427612, 0.905089259147644, 0.9833864569664001, 0.9177756309509277, 0.7433021664619446, 0.6853777170181274, 0.9983096122741699, 0.9966850876808167, 0.8935539722442627, 0.8813040256500244, 0.8093907237052917, 0.9820330739021301, 0.987817108631134, 0.9993360638618469, 0.8855364322662354, 0.998542308807373, 0.6392824649810791, 0.8880757093429565, 0.9923940896987915, 0.6492452621459961, 0.5573474764823914, 0.999578058719635, 0.9999176263809204, 0.6614766716957092, 0.9954711198806763, 0.9993137121200562, 0.8109826445579529, 0.9907711744308472, 0.9968318343162537, 0.5007655024528503, 0.9998587369918823, 0.6662638187408447, 0.9687925577163696, 0.5644203424453735, 0.7855073809623718, 0.9892432689666748, 0.6185843348503113, 0.6392330527305603, 0.9243594408035278, 0.7337533831596375, 0.9865760803222656, 0.9222408533096313, 0.9802061319351196, 0.9152312874794006, 0.7765624523162842, 0.9261052012443542, 0.9608550667762756, 0.862302303314209, 0.5562450289726257, 0.9998619556427002, 0.9875946044921875, 0.9857914447784424, 0.8601497411727905, 0.922835111618042, 0.8452290296554565, 0.977462649345398, 0.8094043731689453, 0.5095643997192383, 0.6319068074226379, 0.8176044225692749, 0.9931898713111877, 0.8431902527809143, 0.8938944935798645, 0.9734402894973755, 0.9994189739227295, 0.9976463913917542, 0.9993342757225037, 0.9991859793663025, 0.5553136467933655, 0.9998993873596191, 0.9649506211280823, 0.9669688940048218, 0.5130845904350281, 0.8745407462120056, 0.9972513318061829, 0.8885335326194763, 0.826688826084137, 0.6804516315460205, 0.9425883889198303, 0.9930574893951416, 0.9976444840431213, 0.9952874183654785, 0.9998761415481567, 0.6517474055290222, 0.9919513463973999, 0.9997504353523254, 0.6359965801239014, 0.9998107552528381, 0.6263201832771301, 0.9261848330497742, 0.7562310695648193, 0.875959038734436, 0.8457778096199036, 0.992012083530426, 0.8051427602767944, 0.5676217079162598, 0.5630945563316345, 0.9411581158638, 0.9998807907104492, 0.7892405390739441, 0.9962978959083557, 0.5236209034919739, 0.9998892545700073, 0.9939914345741272, 0.9994518160820007, 0.6397597789764404, 0.8440051674842834, 0.573750913143158, 0.9998680353164673, 0.9985411167144775, 0.9888581037521362, 0.7840375900268555, 0.9991838335990906, 0.9996652603149414, 0.9640515446662903, 0.9906361699104309, 0.9674360752105713, 0.999596893787384, 0.9484257698059082, 0.5503396987915039, 0.7178077697753906, 0.9199788570404053, 0.978400707244873, 0.5741868019104004, 0.7822283506393433, 0.9931743741035461, 0.7202755212783813, 0.9932706952095032, 0.985358715057373, 0.9965376853942871, 0.997885525226593, 0.9953976273536682, 0.9944023489952087, 0.8790982961654663, 0.9911240339279175, 0.5501335263252258, 0.6734522581100464, 0.8810625672340393, 0.9419997930526733, 0.9979146122932434, 0.699580729007721, 0.9987892508506775, 0.9291504621505737, 0.997641921043396, 0.9387353658676147, 0.6863906383514404, 0.6809191703796387, 0.9990359544754028, 0.805984377861023, 0.9981075525283813, 0.9994170665740967, 0.9999029636383057, 0.9188472032546997, 0.8013538122177124, 0.9968230724334717, 0.9977669715881348, 0.9985458850860596, 0.9988202452659607, 0.9908189177513123, 0.9943793416023254, 0.9964959025382996, 0.8560618162155151, 0.8740831017494202, 0.999778687953949, 0.9999234676361084, 0.999950647354126, 0.9551039338111877, 0.9924923777580261, 0.9908375144004822, 0.9993950128555298, 0.8113405108451843, 0.9997050166130066, 0.9987682700157166, 0.9763134121894836, 0.9996500015258789, 0.9990361928939819, 0.9918599724769592, 0.9932100176811218, 0.7725992798805237, 0.618394672870636, 0.6720781326293945, 0.7238768935203552, 0.7792648077011108, 0.9977462887763977, 0.9553809762001038, 0.81764155626297, 0.9992026686668396, 0.9844340682029724, 0.9879465699195862, 0.8285771608352661, 0.817877471446991, 0.9731148481369019, 0.9650780558586121, 0.9983407258987427, 0.7325698733329773, 0.8796200156211853, 0.9913002848625183, 0.752964437007904, 0.984373927116394, 0.9152965545654297, 0.9397249817848206, 0.9781785607337952, 0.9998809099197388, 0.9231520891189575, 0.9982497096061707, 0.999896764755249, 0.9999345541000366, 0.7921846508979797, 0.9992222785949707, 0.9997512698173523, 0.90237957239151, 0.9997839331626892, 0.7968484163284302, 0.9932733774185181, 0.9723301529884338, 0.6569542288780212, 0.9998444318771362, 0.8821902871131897, 0.9973812699317932, 0.9781437516212463, 0.9968854784965515, 0.8053106069564819, 0.9977359771728516, 0.9912554025650024, 0.9981896281242371, 0.9850260615348816, 0.9684374332427979, 0.9967557787895203, 0.9972922205924988, 0.5196328163146973, 0.9951015114784241, 0.8288975954055786, 0.999688982963562, 0.982344925403595, 0.9824751019477844, 0.9877249598503113, 0.9979111552238464, 0.9809880256652832, 0.9582700729370117, 0.8160303831100464, 0.9234904050827026, 0.5246935486793518, 0.8358222246170044, 0.9974395036697388, 0.9794344305992126, 0.9646259546279907, 0.6676050424575806, 0.8915724158287048, 0.5167009830474854, 0.8630067110061646, 0.9999005794525146, 0.8980427980422974, 0.9998911619186401, 0.6910011172294617, 0.8805628418922424, 0.9347666501998901, 0.9998832941055298, 0.9744291305541992, 0.9725010991096497, 0.7345792055130005, 0.8813154101371765, 0.9799841046333313, 0.9068202972412109, 0.8759030699729919, 0.8372933864593506, 0.7768691182136536, 0.9906401634216309, 0.5575442314147949, 0.9873303174972534, 0.9976609945297241, 0.7797494530677795, 0.9840676784515381, 0.6884137392044067, 0.5022852420806885, 0.9661258459091187, 0.9859206080436707, 0.9819719195365906, 0.989605188369751, 0.9983668923377991, 0.9976243376731873, 0.5524585247039795, 0.9834674000740051, 0.9971354007720947, 0.8803715705871582, 0.5106993913650513, 0.6188400983810425, 0.5460198521614075, 0.7091304659843445, 0.9931830763816833, 0.6767556071281433, 0.7629501819610596, 0.9747947454452515, 0.9988147020339966, 0.9933068156242371, 0.9909200668334961, 0.8909167051315308, 0.746471643447876, 0.7689980268478394, 0.9128515124320984, 0.8068143129348755, 0.5066618323326111, 0.804962694644928, 0.8878561854362488, 0.5513938069343567, 0.8229150772094727, 0.9727950096130371, 0.9090754389762878, 0.840031623840332, 0.9713312387466431, 0.5974531769752502, 0.8135276436805725, 0.6358759999275208, 0.8246472477912903, 0.9358248114585876, 0.72159743309021, 0.9933428764343262, 0.9854264259338379, 0.9997627139091492, 0.9975662231445312, 0.7578428983688354, 0.8242881298065186, 0.9637628197669983, 0.7804920077323914, 0.9693922996520996, 0.7333295941352844, 0.9060125350952148, 0.9862625598907471, 0.9979543685913086, 0.8686321377754211, 0.754423201084137, 0.9633446931838989, 0.6462319493293762, 0.8455633521080017, 0.9808488488197327, 0.9512471556663513, 0.9676037430763245, 0.938776969909668, 0.8884263038635254, 0.9098621606826782, 0.9903019070625305, 0.9680057168006897, 0.7567331790924072, 0.9993983507156372, 0.9759886860847473, 0.5811554193496704, 0.9987548589706421, 0.8010409474372864, 0.9957982897758484, 0.6542482972145081, 0.9951812624931335, 0.9800167083740234, 0.9860289692878723, 0.9672176241874695, 0.9591779708862305, 0.9717655777931213, 0.5707484483718872, 0.8288599252700806, 0.9998767375946045, 0.7573030591011047, 0.706154465675354, 0.9859733581542969, 0.7689573764801025, 0.7105529308319092, 0.9437281489372253, 0.9853327870368958, 0.9929611086845398, 0.565226137638092, 0.9986668825149536, 0.98275226354599, 0.5068157315254211, 0.999113142490387, 0.9482850432395935, 0.9810092449188232, 0.9962881803512573, 0.7550978064537048, 0.9970368146896362, 0.9983029365539551, 0.6342161297798157, 0.9966513514518738, 0.6768370866775513, 0.9717373251914978, 0.5576475858688354, 0.9981892704963684, 0.9961652755737305, 0.9782912731170654, 0.9994428753852844, 0.9997597336769104, 0.6964094638824463, 0.9623866081237793, 0.7686386108398438, 0.8366380929946899, 0.9943767786026001, 0.7801775336265564, 0.8663007020950317, 0.9976006150245667, 0.8947640657424927, 0.9943408966064453, 0.6095492243766785, 0.9998900890350342, 0.8278610706329346, 0.9647345542907715, 0.8726445436477661, 0.7738391160964966, 0.9985496401786804, 0.6926916241645813, 0.6105678081512451, 0.9824981093406677, 0.7603467106819153, 0.9997991919517517, 0.8543977737426758, 0.9966200590133667, 0.9375134706497192, 0.9997764229774475, 0.9838053584098816, 0.9998078942298889, 0.8641102910041809, 0.7368494272232056, 0.9999059438705444, 0.6855819225311279, 0.9999005794525146, 0.9977189898490906, 0.8830077648162842, 0.7714399695396423, 0.6978949308395386, 0.643298864364624, 0.9998286962509155, 0.994917631149292, 0.9996976852416992, 0.972183883190155, 0.9995278120040894, 0.994509756565094, 0.9996935129165649, 0.758062481880188, 0.8224976062774658, 0.9241549372673035, 0.5241776704788208, 0.9998314380645752, 0.7019620537757874, 0.9881187081336975, 0.9534330368041992, 0.9293385148048401, 0.9985266923904419, 0.9996323585510254, 0.9998145699501038, 0.9055954217910767, 0.9994576573371887, 0.9996986389160156, 0.9999034404754639, 0.7843478322029114, 0.8210792541503906, 0.5766612887382507, 0.9998268485069275, 0.9998668432235718, 0.9970499277114868, 0.9998434782028198, 0.9989708662033081, 0.857453465461731, 0.999796450138092, 0.956668496131897, 0.5451043844223022, 0.9998637437820435, 0.9815095663070679, 0.5318458676338196, 0.999739944934845, 0.9806828498840332, 0.9992846846580505, 0.7044103145599365, 0.9989840388298035, 0.9989559650421143, 0.868331789970398, 0.9501141309738159, 0.8804609775543213, 0.9982450008392334, 0.9961789846420288, 0.9966566562652588, 0.9739868640899658, 0.9962499737739563, 0.9959431290626526, 0.9777570366859436, 0.9998008608818054, 0.9988870024681091, 0.6295986175537109, 0.9639971852302551, 0.829470694065094, 0.9745041728019714, 0.8598629236221313, 0.988585889339447, 0.9946993589401245, 0.995121419429779, 0.8357957601547241, 0.5411761999130249, 0.9404531717300415, 0.6352095603942871, 0.5247385501861572, 0.8677866458892822, 0.6810856461524963, 0.8205081820487976, 0.9988611936569214, 0.8557290434837341, 0.9919551014900208, 0.7929264307022095, 0.5495887994766235, 0.9551330804824829, 0.9961226582527161, 0.9257206320762634, 0.7576310634613037, 0.9980142116546631, 0.9818567633628845, 0.9391310811042786, 0.9974835515022278, 0.9523497223854065, 0.8436901569366455, 0.9964820146560669, 0.8259318470954895, 0.5554177165031433, 0.5959962010383606, 0.961702287197113, 0.729839026927948, 0.9657889604568481, 0.9933510422706604, 0.9797779321670532, 0.9627835750579834, 0.8999078273773193, 0.9669678807258606, 0.542830765247345, 0.9996579885482788, 0.5617245435714722, 0.5565004348754883, 0.9866179823875427, 0.9798852205276489, 0.9889953136444092, 0.9119338989257812, 0.9536296725273132, 0.8826485276222229, 0.6710682511329651, 0.7764765024185181, 0.9982409477233887, 0.9735795855522156, 0.999870777130127, 0.8478613495826721, 0.9992231130599976, 0.9465153813362122, 0.9322822690010071, 0.802732527256012, 0.9993884563446045, 0.7368977069854736, 0.8074550628662109, 0.5507813692092896, 0.9226927757263184, 0.8310455083847046, 0.7047846913337708, 0.8952895402908325, 0.993911623954773, 0.999369204044342, 0.9958071708679199, 0.945921003818512, 0.9974019527435303, 0.9995158910751343, 0.9701613783836365, 0.8915868401527405, 0.8859568238258362, 0.8760800361633301, 0.9905843734741211, 0.6579549312591553, 0.8899171948432922, 0.9922564029693604, 0.8003389835357666, 0.5281848311424255, 0.9629517793655396, 0.9906266927719116, 0.9284899830818176, 0.7431108355522156, 0.7818514704704285, 0.8215489387512207, 0.9455907344818115, 0.5417675375938416, 0.7065839767456055, 0.9576936364173889, 0.6607767343521118, 0.9341551065444946, 0.9998828172683716, 0.9983034133911133, 0.9997649788856506, 0.9291467070579529, 0.6464711427688599, 0.8885964155197144, 0.9732058048248291, 0.8744714856147766, 0.9260024428367615, 0.8333567976951599, 0.9932578802108765, 0.7956667542457581, 0.9954256415367126, 0.9230482578277588, 0.7517678141593933, 0.999147891998291, 0.994962215423584, 0.9984607696533203, 0.6607694029808044, 0.6716146469116211, 0.9999086856842041, 0.9962652325630188, 0.9992733597755432, 0.9994367957115173, 0.9983395338058472, 0.9858945608139038, 0.9974278807640076, 0.8798320889472961, 0.990591824054718, 0.8935194611549377, 0.8941823244094849, 0.9943642616271973, 0.7085422277450562, 0.9998500347137451, 0.999947190284729, 0.5920189619064331, 0.9988325238227844, 0.9994688630104065, 0.9999574422836304, 0.9997219443321228, 0.9868196845054626, 0.998904824256897, 0.9919161200523376, 0.9984814524650574, 0.9277775883674622, 0.9949660897254944, 0.9993219375610352, 0.9943209886550903, 0.5074537396430969, 0.9941157102584839, 0.908564031124115, 0.9501237273216248, 0.9791883826255798, 0.999886155128479, 0.9998981952667236, 0.9485286474227905, 0.7580791115760803, 0.9995439648628235, 0.9987568855285645, 0.9971283078193665, 0.9905940294265747, 0.9987484216690063, 0.9025346040725708, 0.9987014532089233, 0.9977160692214966, 0.9997532963752747, 0.9915167093276978, 0.9993112087249756, 0.9917687177658081, 0.9994897842407227, 0.5690796375274658, 0.999893069267273, 0.9995996356010437, 0.999916672706604, 0.9997773766517639, 0.9997057318687439, 0.9118816256523132, 0.9959378242492676, 0.9997100234031677, 0.9770784974098206, 0.9986070990562439, 0.9843728542327881, 0.9765353798866272, 0.9958193302154541, 0.8079516887664795, 0.9995881915092468, 0.9982580542564392, 0.9995649456977844, 0.9220137000083923, 0.9861432909965515, 0.9923520684242249, 0.9955586194992065, 0.6433799862861633, 0.9537043571472168, 0.9772820472717285, 0.9975875616073608, 0.8694485425949097, 0.9869136214256287, 0.9997343420982361, 0.9998677968978882, 0.9992163181304932, 0.9995330572128296, 0.9957299828529358, 0.5295180082321167, 0.9459494948387146, 0.6014927625656128, 0.9992916584014893, 0.5826228857040405, 0.9998832941055298, 0.9997628331184387, 0.9998171925544739, 0.801631510257721, 0.9941717982292175, 0.9998573064804077, 0.9999281167984009, 0.9997124075889587, 0.8147493600845337, 0.9551986455917358, 0.9876505732536316, 0.966809093952179, 0.9998173117637634, 0.9998973608016968, 0.9695629477500916, 0.5249112248420715, 0.9022982120513916, 0.9991925358772278, 0.9989295601844788, 0.9981710910797119, 0.7583860754966736, 0.9821872711181641, 0.9999321699142456, 0.9999548196792603, 0.7477502226829529, 0.8563602566719055, 0.9980954527854919, 0.9892370104789734, 0.9984955787658691, 0.751099705696106, 0.7687034010887146, 0.7593780755996704, 0.9609211087226868, 0.8453533053398132, 0.7689890265464783, 0.9156557321548462, 0.8615603446960449, 0.9292255640029907, 0.7451696991920471, 0.94113689661026, 0.8002831339836121, 0.9869945645332336, 0.5002670884132385, 0.9933660626411438, 0.9757401943206787, 0.9993029832839966, 0.7367669939994812, 0.8906646370887756, 0.9528577327728271, 0.9836739301681519, 0.9626765847206116, 0.5382588505744934, 0.8582822680473328, 0.9604839086532593, 0.917046844959259, 0.9648805856704712, 0.9001016616821289, 0.619510293006897, 0.9931026697158813, 0.9921097159385681, 0.9622021317481995, 0.8659126162528992, 0.997631311416626, 0.9989824891090393, 0.6712112426757812, 0.886242151260376, 0.6117100119590759, 0.8835392594337463, 0.7159751057624817, 0.847092866897583, 0.7698082327842712, 0.6333824992179871, 0.6639458537101746, 0.5545608997344971, 0.8422554135322571, 0.9799200892448425, 0.9483062624931335, 0.9913806319236755, 0.9909624457359314, 0.8283334970474243, 0.7658750414848328, 0.9515115022659302, 0.9747356176376343, 0.548173189163208, 0.9987672567367554, 0.7117288708686829, 0.9153791666030884, 0.9944462776184082, 0.5782509446144104, 0.976538896560669, 0.9940703511238098, 0.6376480460166931, 0.8656554222106934, 0.921617865562439, 0.6986743211746216, 0.8373168110847473, 0.9470295906066895, 0.7133336663246155, 0.8877441883087158, 0.9856747984886169, 0.9392387270927429, 0.861275315284729, 0.6044828295707703, 0.8567384481430054, 0.9722135066986084, 0.9026533961296082, 0.8009243011474609, 0.7978966236114502, 0.8064813017845154, 0.991193950176239, 0.980902910232544, 0.6812881827354431, 0.5874657034873962, 0.9099481105804443, 0.974322497844696, 0.7439308762550354, 0.7690297961235046, 0.9944975972175598, 0.79330974817276, 0.6973912715911865, 0.9250933527946472, 0.9887043833732605, 0.9794647097587585, 0.8644969463348389, 0.9984093308448792, 0.5860278606414795, 0.9935526847839355, 0.9664266109466553, 0.989551842212677, 0.6831955909729004, 0.6218263506889343, 0.9420770406723022, 0.9433012008666992, 0.7819425463676453, 0.9971242547035217, 0.7480244040489197, 0.9980223178863525, 0.9835652709007263, 0.9989045858383179, 0.987155556678772, 0.9966866374015808, 0.9758250713348389, 0.968316912651062, 0.9906485676765442, 0.9029405117034912, 0.9581232070922852, 0.724788248538971, 0.9218336939811707, 0.5499711036682129, 0.6707175374031067, 0.9833901524543762, 0.9203254580497742, 0.9992031455039978, 0.9997133612632751, 0.8014837503433228, 0.6559129953384399, 0.9701846837997437, 0.7323517799377441, 0.9887750148773193, 0.8260523080825806, 0.6833564639091492, 0.7445020079612732, 0.521958589553833, 0.855956494808197, 0.6076610088348389, 0.9992721676826477, 0.9997655749320984, 0.9996658563613892, 0.7234187126159668, 0.8642098903656006, 0.949738621711731, 0.8590351343154907, 0.9193229079246521, 0.954975426197052, 0.6894897222518921, 0.9782702922821045, 0.9560199975967407, 0.9900904893875122, 0.9922713041305542, 0.5136749148368835, 0.9944742321968079, 0.987212598323822, 0.9971176385879517, 0.997983455657959, 0.7144090533256531, 0.997885525226593, 0.8624492883682251, 0.993961751461029, 0.8899701833724976, 0.9963009357452393, 0.9697508811950684, 0.5701510906219482, 0.7963922023773193, 0.9673179388046265, 0.9602165222167969, 0.9913007616996765, 0.9528919458389282, 0.5548239946365356, 0.8269597887992859, 0.9550681710243225, 0.9843952655792236, 0.9014365673065186, 0.6565468311309814, 0.9631900191307068, 0.9313005805015564, 0.7626492381095886, 0.9860160946846008, 0.5573809146881104, 0.9983857870101929, 0.9913471341133118, 0.9865575432777405, 0.9968205690383911, 0.9997604489326477, 0.998525083065033, 0.9949513673782349, 0.8715709447860718, 0.9995357990264893, 0.9998836517333984, 0.8653422594070435, 0.6390230059623718, 0.9159559011459351, 0.532997727394104, 0.9961773157119751, 0.9985068440437317, 0.6029171347618103, 0.9987413287162781, 0.9893933534622192, 0.9903222918510437, 0.9949402809143066, 0.9657325744628906, 0.987209677696228, 0.9407175779342651, 0.5217543840408325, 0.9596010446548462, 0.9998916387557983, 0.539064347743988, 0.9842722415924072, 0.9877947568893433, 0.9995324611663818, 0.9993026256561279, 0.9987637996673584, 0.9468966126441956, 0.8235489726066589, 0.9988993406295776, 0.6525301933288574, 0.7100337147712708, 0.8266675472259521, 0.9980595707893372, 0.9943073391914368, 0.9996410608291626, 0.9997995495796204, 0.819953441619873, 0.999904990196228, 0.907573938369751, 0.7685924172401428, 0.5739046931266785, 0.8893440365791321, 0.998976469039917, 0.9998231530189514, 0.9825785160064697, 0.9940314888954163, 0.9950474500656128, 0.6634216904640198, 0.9056636095046997, 0.9471344947814941, 0.8123334050178528, 0.960513710975647, 0.6369229555130005, 0.9999014139175415, 0.9996713399887085, 0.9998835325241089, 0.9699945449829102, 0.9925523996353149, 0.7484001517295837, 0.992679238319397, 0.9955025315284729, 0.9777352809906006, 0.7517272233963013, 0.999779999256134, 0.9616449475288391, 0.9933239817619324, 0.9929261207580566, 0.8749906420707703, 0.7473127245903015, 0.7183372378349304, 0.5664641857147217, 0.8987793922424316, 0.9981753826141357, 0.9998787641525269, 0.9997047781944275, 0.9839801788330078, 0.9993435740470886, 0.9963233470916748, 0.949069082736969, 0.5087758898735046, 0.856362521648407, 0.9189013242721558, 0.899446427822113, 0.9394052624702454, 0.9901048541069031, 0.9096693992614746, 0.832302987575531, 0.9989932179450989, 0.9688131213188171, 0.5221270322799683, 0.8218791484832764, 0.9285699129104614, 0.9331752061843872, 0.9993775486946106, 0.9892667531967163, 0.5231723785400391, 0.9951098561286926, 0.9998076558113098, 0.9970302581787109, 0.9996380805969238, 0.9752272367477417, 0.9993886947631836, 0.9968974590301514, 0.978417694568634, 0.9970122575759888, 0.8884305357933044, 0.9956569671630859, 0.9843617677688599, 0.9818837642669678, 0.9951183795928955, 0.8137052059173584, 0.9961251616477966, 0.8344061374664307, 0.9382432699203491, 0.74139404296875, 0.999889612197876, 0.9994961023330688, 0.9998327493667603, 0.6784831881523132, 0.9998980760574341, 0.9996501207351685, 0.9998745918273926, 0.9908660054206848, 0.9883252382278442, 0.9988610744476318, 0.9919084906578064, 0.5286059975624084, 0.7672041058540344, 0.7741132974624634, 0.999384880065918, 0.9763756990432739, 0.9968129992485046, 0.9998977184295654, 0.9971764087677002, 0.9999144077301025, 0.9997373223304749, 0.8926704525947571, 0.9983188509941101, 0.9962047934532166, 0.9999054670333862, 0.9999566078186035, 0.5536857843399048, 0.9960648417472839, 0.9938803911209106, 0.9984344840049744, 0.9914121627807617, 0.608425498008728, 0.979759156703949, 0.9993374943733215, 0.695919394493103, 0.5607567429542542, 0.5198917388916016, 0.9981784820556641, 0.9681863784790039, 0.9992669224739075, 0.9406174421310425, 0.9991274476051331, 0.9998062252998352, 0.9860801100730896, 0.9732558727264404, 0.957789421081543, 0.8649422526359558, 0.9865952730178833, 0.9793494343757629, 0.9634589552879333, 0.8922473788261414, 0.995209276676178, 0.965851902961731, 0.9998706579208374, 0.8368499279022217, 0.9921554923057556, 0.9726971387863159, 0.9981643557548523, 0.9904665350914001, 0.9905989766120911, 0.6437600255012512, 0.9924142956733704, 0.9188574552536011, 0.9981244206428528, 0.9995124340057373, 0.9488781690597534, 0.9116477370262146, 0.8912761211395264, 0.6160256266593933, 0.9967957139015198, 0.5009129643440247, 0.9999046325683594, 0.9994155168533325, 0.9997196793556213, 0.9682687520980835, 0.999808132648468, 0.8659473657608032, 0.7263662815093994, 0.9971349239349365, 0.8291417956352234, 0.7382119297981262, 0.9547058343887329, 0.9967043995857239, 0.5166372060775757, 0.9999009370803833, 0.999852180480957, 0.9999293088912964, 0.9842549562454224, 0.9981300234794617, 0.9717369675636292, 0.9998778104782104, 0.9127440452575684, 0.908562958240509, 0.6141788363456726, 0.9738198518753052, 0.8041673302650452, 0.9607641100883484, 0.6272866129875183, 0.5618641376495361, 0.8626813292503357, 0.9539961218833923, 0.9759699106216431, 0.9856644868850708, 0.9998892545700073, 0.9992570281028748, 0.9394549131393433, 0.9980733394622803, 0.9988319277763367, 0.9109860062599182, 0.9997298121452332, 0.968264639377594, 0.9991408586502075, 0.999479353427887, 0.7478703260421753, 0.9998725652694702, 0.9939640164375305, 0.9749717116355896, 0.8266273736953735, 0.9961556792259216, 0.6682705879211426, 0.9853944778442383, 0.793790876865387, 0.9617797136306763, 0.7963033318519592, 0.9924001693725586, 0.9667105078697205, 0.993242084980011, 0.7444083094596863, 0.9261946678161621, 0.9932768940925598, 0.9993308782577515, 0.6931530237197876, 0.999872088432312, 0.6328451633453369, 0.9733359217643738, 0.6715654134750366, 0.830562174320221, 0.9925709366798401, 0.9804398417472839, 0.7656809687614441, 0.5773317813873291, 0.898222029209137, 0.9575486779212952, 0.6241205334663391, 0.535048246383667, 0.893701434135437, 0.6339524388313293, 0.8016395568847656, 0.5512655377388, 0.8944655060768127, 0.5891978740692139, 0.5142440795898438, 0.9875984787940979, 0.9574006795883179, 0.7999292016029358, 0.9926674962043762, 0.9221495389938354, 0.8473278880119324, 0.9726167917251587, 0.8784394264221191, 0.9590616226196289, 0.9994792342185974, 0.7073197960853577, 0.8978811502456665, 0.8894492983818054, 0.849547266960144, 0.9738833904266357, 0.8733772039413452, 0.9934011101722717, 0.8849231004714966, 0.9638441205024719, 0.5585834980010986, 0.9999077320098877, 0.9992289543151855, 0.9997114539146423, 0.9981662631034851, 0.9889673590660095, 0.9917600750923157, 0.9861888289451599, 0.9992223978042603, 0.9980906844139099, 0.8795574903488159, 0.8940060138702393, 0.9633588194847107, 0.7030549049377441, 0.9998385906219482, 0.5243823528289795, 0.8935234546661377, 0.6642054319381714, 0.9429810047149658, 0.6336451768875122, 0.9777723550796509, 0.8168153762817383, 0.7343173623085022, 0.7245554327964783, 0.9982441663742065, 0.9324457049369812, 0.8962109684944153, 0.9863771796226501, 0.7992216348648071, 0.6484541893005371, 0.5116047263145447, 0.6588598489761353, 0.7884582281112671, 0.7478253245353699, 0.996260404586792, 0.9603080749511719, 0.9838309288024902, 0.9964193105697632, 0.9982960820198059, 0.9996558427810669, 0.5035169720649719, 0.999886155128479, 0.9874237179756165, 0.9910489320755005, 0.9785192608833313, 0.9533601403236389, 0.9882241487503052, 0.85298752784729, 0.9913289546966553, 0.9014977812767029, 0.5925300717353821, 0.5078635811805725, 0.5308666229248047, 0.8574892282485962, 0.9996823072433472, 0.7022106647491455, 0.7617210149765015, 0.9509310722351074, 0.723110556602478, 0.9972639083862305, 0.9819216728210449, 0.9639270305633545, 0.7880048751831055, 0.999442994594574, 0.7359666228294373, 0.9630385637283325, 0.9985484480857849, 0.9305621981620789, 0.9999170303344727, 0.9999575614929199, 0.9937676191329956, 0.9996193647384644, 0.9998168349266052, 0.9991341233253479, 0.9988409876823425, 0.999521017074585, 0.9958090782165527, 0.987276017665863, 0.9899744391441345, 0.9978821873664856, 0.9974446296691895, 0.9506310820579529, 0.9643092155456543, 0.9772014617919922, 0.9752559065818787, 0.616237223148346, 0.7947719097137451, 0.9228629469871521, 0.6340436339378357, 0.9805731177330017, 0.9584046006202698, 0.9461511373519897, 0.821999192237854, 0.9874054789543152, 0.9995933175086975, 0.997289776802063, 0.9911952018737793, 0.8112823963165283, 0.9944685697555542, 0.9446141123771667, 0.916924774646759, 0.997588038444519, 0.9982415437698364, 0.9997661709785461, 0.9992750287055969, 0.9994440674781799, 0.9997242093086243, 0.9993185997009277, 0.7816729545593262, 0.985630214214325, 0.9991010427474976, 0.83842933177948, 0.9751833081245422, 0.9924375414848328, 0.999727189540863, 0.9998487234115601, 0.6491614580154419, 0.9845929741859436, 0.8429136276245117, 0.802108108997345, 0.9632405638694763, 0.9926602840423584, 0.9503848552703857, 0.9938302636146545, 0.7718291282653809, 0.8805217146873474, 0.8134986758232117, 0.7596261501312256, 0.8653915524482727, 0.7722073793411255, 0.999595582485199, 0.9984784722328186, 0.999883770942688, 0.917755663394928, 0.988239049911499, 0.9973188042640686, 0.9310780167579651, 0.886498749256134, 0.7382714152336121, 0.7287623286247253, 0.9256071448326111, 0.9580212235450745, 0.9909145832061768, 0.997399091720581, 0.8994330167770386, 0.9938331842422485, 0.877437949180603, 0.9976444840431213, 0.8664008378982544, 0.9986390471458435, 0.9979667663574219, 0.997654139995575, 0.6736279726028442, 0.6646249890327454, 0.5548497438430786, 0.9952483773231506, 0.9289633631706238, 0.784885823726654, 0.7558856010437012, 0.8393964767456055, 0.9823973178863525, 0.9983536005020142, 0.9998347759246826, 0.9171791672706604, 0.9904459714889526, 0.9952817559242249, 0.9993777275085449, 0.7060123085975647, 0.9998989105224609, 0.8490219712257385, 0.9968222379684448, 0.9664639830589294, 0.8461463451385498, 0.8292624354362488, 0.9994327425956726, 0.6513087153434753, 0.9004893898963928, 0.8121532797813416, 0.7670508623123169, 0.9568259716033936, 0.9970607161521912, 0.9986246824264526, 0.996177077293396, 0.6026178598403931, 0.6621381044387817, 0.9999032020568848, 0.9985895752906799, 0.9998971223831177, 0.6074530482292175, 0.9998958110809326, 0.9946269392967224, 0.999858021736145, 0.9935178756713867, 0.9994373917579651, 0.9924315214157104, 0.9779031872749329, 0.9731122255325317, 0.9989749193191528, 0.9958152174949646, 0.9364322423934937, 0.9260956048965454, 0.9904195666313171, 0.9738107323646545, 0.8898731470108032, 0.9223619699478149, 0.5708760619163513, 0.6868985295295715, 0.9769426584243774, 0.9998694658279419, 0.9977916479110718, 0.8732988238334656, 0.9483386278152466, 0.9840710163116455, 0.9993953704833984, 0.9929254055023193, 0.9965157508850098, 0.652201235294342, 0.9989228844642639, 0.517480194568634, 0.7403043508529663, 0.856720507144928, 0.9984027743339539, 0.9828124642372131, 0.9938217401504517, 0.994355320930481, 0.9886415600776672, 0.9984778761863708, 0.7476674318313599, 0.5116372108459473, 0.999552309513092, 0.9997879862785339, 0.6053184866905212, 0.995219886302948, 0.698826253414154, 0.7679287791252136, 0.9997928738594055, 0.9997255206108093, 0.9999160766601562, 0.7023853659629822, 0.9127607345581055, 0.9458592534065247, 0.9988030195236206, 0.7806030511856079, 0.9998856782913208, 0.9966961145401001, 0.9965235590934753, 0.999713122844696, 0.9978371262550354, 0.9997465014457703, 0.9644854068756104, 0.9994962215423584, 0.5789493918418884, 0.9999080896377563, 0.9616129994392395, 0.9991914629936218, 0.521952211856842, 0.7169426679611206, 0.8697513341903687, 0.7520656585693359, 0.5595268607139587, 0.9623896479606628, 0.9805496335029602, 0.8327509164810181, 0.9998886585235596, 0.9997066855430603, 0.9999120235443115, 0.9677925705909729, 0.974025547504425, 0.854759693145752, 0.9893814325332642, 0.8659206628799438, 0.9352228045463562, 0.5269258618354797, 0.9395712018013, 0.6103761792182922, 0.9999079704284668, 0.999213695526123, 0.9783012866973877, 0.58623868227005, 0.8802114725112915, 0.9961608648300171, 0.8808905482292175, 0.5341804623603821, 0.9910100698471069, 0.9997356534004211, 0.9998039603233337, 0.618792712688446, 0.9977266192436218, 0.9475167393684387, 0.8056365251541138, 0.8922644257545471, 0.9836258292198181, 0.8454374670982361, 0.7703821659088135, 0.991263747215271, 0.8354745507240295, 0.8161205649375916, 0.9838150143623352, 0.9931783676147461, 0.9807511568069458, 0.9993866682052612, 0.9263588190078735, 0.8199688196182251, 0.9487339854240417, 0.8485361337661743, 0.9946781396865845, 0.9567922353744507, 0.6137189865112305, 0.9526618719100952, 0.5747026205062866, 0.8066600561141968, 0.6406376361846924, 0.748496413230896, 0.5568968653678894, 0.982926607131958, 0.9830501675605774, 0.9987194538116455, 0.9998667240142822]\n"
     ]
    },
    {
     "data": {
      "text/plain": "\u001B[31m╭─\u001B[0m\u001B[31m──────────────────────────────\u001B[0m\u001B[31m \u001B[0m\u001B[1;31mTraceback \u001B[0m\u001B[1;2;31m(most recent call last)\u001B[0m\u001B[31m \u001B[0m\u001B[31m───────────────────────────────\u001B[0m\u001B[31m─╮\u001B[0m\n\u001B[31m│\u001B[0m \u001B[33mC:\\Users\\jhluo\\AppData\\Local\\Temp\\ipykernel_9044\\1938414908.py\u001B[0m:\u001B[94m2\u001B[0m in \u001B[92m<cell line: 2>\u001B[0m               \u001B[31m│\u001B[0m\n\u001B[31m│\u001B[0m                                                                                                  \u001B[31m│\u001B[0m\n\u001B[31m│\u001B[0m \u001B[3;31m[Errno 2] No such file or directory: \u001B[0m                                                            \u001B[31m│\u001B[0m\n\u001B[31m│\u001B[0m \u001B[3;31m'C:\\\\Users\\\\jhluo\\\\AppData\\\\Local\\\\Temp\\\\ipykernel_9044\\\\1938414908.py'\u001B[0m                          \u001B[31m│\u001B[0m\n\u001B[31m│\u001B[0m                                                                                                  \u001B[31m│\u001B[0m\n\u001B[31m│\u001B[0m \u001B[33mC:\\Users\\jhluo\\AppData\\Local\\Temp\\ipykernel_9044\\1938414908.py\u001B[0m:\u001B[94m2\u001B[0m in \u001B[92m<listcomp>\u001B[0m                   \u001B[31m│\u001B[0m\n\u001B[31m│\u001B[0m                                                                                                  \u001B[31m│\u001B[0m\n\u001B[31m│\u001B[0m \u001B[3;31m[Errno 2] No such file or directory: \u001B[0m                                                            \u001B[31m│\u001B[0m\n\u001B[31m│\u001B[0m \u001B[3;31m'C:\\\\Users\\\\jhluo\\\\AppData\\\\Local\\\\Temp\\\\ipykernel_9044\\\\1938414908.py'\u001B[0m                          \u001B[31m│\u001B[0m\n\u001B[31m╰──────────────────────────────────────────────────────────────────────────────────────────────────╯\u001B[0m\n\u001B[1;91mTypeError: \u001B[0m\u001B[32m'float'\u001B[0m object is not iterable\n",
      "text/html": "<pre style=\"white-space:pre;overflow-x:auto;line-height:normal;font-family:Menlo,'DejaVu Sans Mono',consolas,'Courier New',monospace\"><span style=\"color: #800000; text-decoration-color: #800000\">╭─────────────────────────────── </span><span style=\"color: #800000; text-decoration-color: #800000; font-weight: bold\">Traceback </span><span style=\"color: #bf7f7f; text-decoration-color: #bf7f7f; font-weight: bold\">(most recent call last)</span><span style=\"color: #800000; text-decoration-color: #800000\"> ────────────────────────────────╮</span>\n<span style=\"color: #800000; text-decoration-color: #800000\">│</span> <span style=\"color: #808000; text-decoration-color: #808000\">C:\\Users\\jhluo\\AppData\\Local\\Temp\\ipykernel_9044\\1938414908.py</span>:<span style=\"color: #0000ff; text-decoration-color: #0000ff\">2</span> in <span style=\"color: #00ff00; text-decoration-color: #00ff00\">&lt;cell line: 2&gt;</span>               <span style=\"color: #800000; text-decoration-color: #800000\">│</span>\n<span style=\"color: #800000; text-decoration-color: #800000\">│</span>                                                                                                  <span style=\"color: #800000; text-decoration-color: #800000\">│</span>\n<span style=\"color: #800000; text-decoration-color: #800000\">│</span> <span style=\"color: #800000; text-decoration-color: #800000; font-style: italic\">[Errno 2] No such file or directory: </span>                                                            <span style=\"color: #800000; text-decoration-color: #800000\">│</span>\n<span style=\"color: #800000; text-decoration-color: #800000\">│</span> <span style=\"color: #800000; text-decoration-color: #800000; font-style: italic\">'C:\\\\Users\\\\jhluo\\\\AppData\\\\Local\\\\Temp\\\\ipykernel_9044\\\\1938414908.py'</span>                          <span style=\"color: #800000; text-decoration-color: #800000\">│</span>\n<span style=\"color: #800000; text-decoration-color: #800000\">│</span>                                                                                                  <span style=\"color: #800000; text-decoration-color: #800000\">│</span>\n<span style=\"color: #800000; text-decoration-color: #800000\">│</span> <span style=\"color: #808000; text-decoration-color: #808000\">C:\\Users\\jhluo\\AppData\\Local\\Temp\\ipykernel_9044\\1938414908.py</span>:<span style=\"color: #0000ff; text-decoration-color: #0000ff\">2</span> in <span style=\"color: #00ff00; text-decoration-color: #00ff00\">&lt;listcomp&gt;</span>                   <span style=\"color: #800000; text-decoration-color: #800000\">│</span>\n<span style=\"color: #800000; text-decoration-color: #800000\">│</span>                                                                                                  <span style=\"color: #800000; text-decoration-color: #800000\">│</span>\n<span style=\"color: #800000; text-decoration-color: #800000\">│</span> <span style=\"color: #800000; text-decoration-color: #800000; font-style: italic\">[Errno 2] No such file or directory: </span>                                                            <span style=\"color: #800000; text-decoration-color: #800000\">│</span>\n<span style=\"color: #800000; text-decoration-color: #800000\">│</span> <span style=\"color: #800000; text-decoration-color: #800000; font-style: italic\">'C:\\\\Users\\\\jhluo\\\\AppData\\\\Local\\\\Temp\\\\ipykernel_9044\\\\1938414908.py'</span>                          <span style=\"color: #800000; text-decoration-color: #800000\">│</span>\n<span style=\"color: #800000; text-decoration-color: #800000\">╰──────────────────────────────────────────────────────────────────────────────────────────────────╯</span>\n<span style=\"color: #ff0000; text-decoration-color: #ff0000; font-weight: bold\">TypeError: </span><span style=\"color: #008000; text-decoration-color: #008000\">'float'</span> object is not iterable\n</pre>\n"
     },
     "metadata": {},
     "output_type": "display_data"
    }
   ],
   "source": [
    "print(all_probabilities)\n",
    "all_probabilities = [max(sublist) for sublist in all_probabilities]\n",
    "print(all_probabilities)"
   ],
   "metadata": {
    "collapsed": false,
    "pycharm": {
     "name": "#%%\n"
    }
   }
  },
  {
   "cell_type": "markdown",
   "source": [
    "### Extract reslut to csv file"
   ],
   "metadata": {
    "collapsed": false,
    "pycharm": {
     "name": "#%% md\n"
    }
   }
  },
  {
   "cell_type": "code",
   "execution_count": 17,
   "outputs": [
    {
     "name": "stdout",
     "output_type": "stream",
     "text": [
      "Index(['topic', 'premise', 'hypothesis', 'label'], dtype='object')\n"
     ]
    }
   ],
   "source": [
    "print(test_df.columns)"
   ],
   "metadata": {
    "collapsed": false,
    "pycharm": {
     "name": "#%%\n"
    }
   }
  },
  {
   "cell_type": "code",
   "execution_count": 19,
   "outputs": [
    {
     "name": "stdout",
     "output_type": "stream",
     "text": [
      "                                                  topic  \\\n",
      "0        Routine child vaccinations should be mandatory   \n",
      "1        Routine child vaccinations should be mandatory   \n",
      "2        Routine child vaccinations should be mandatory   \n",
      "3        Routine child vaccinations should be mandatory   \n",
      "4        Routine child vaccinations should be mandatory   \n",
      "...                                                 ...   \n",
      "3421  Social media platforms should be regulated by ...   \n",
      "3422     Routine child vaccinations should be mandatory   \n",
      "3423     Routine child vaccinations should be mandatory   \n",
      "3424     Routine child vaccinations should be mandatory   \n",
      "3425     Routine child vaccinations should be mandatory   \n",
      "\n",
      "                                                premise  \\\n",
      "0      Routine childhood vaccinations  should be man...   \n",
      "1      Routine childhood vaccinations  should be man...   \n",
      "2      Routine childhood vaccinations  should be man...   \n",
      "3      Routine childhood vaccinations  should be man...   \n",
      "4     Routine child vaccinations isn't mandatory sin...   \n",
      "...                                                 ...   \n",
      "3421  yes, there is some strong content on social me...   \n",
      "3422  you may create a chemical reaction that affect...   \n",
      "3423  you may create a chemical reaction that affect...   \n",
      "3424  you may create a chemical reaction that affect...   \n",
      "3425  you may create a chemical reaction that affect...   \n",
      "\n",
      "                                             hypothesis  label  prediction  \\\n",
      "0              Routine child vaccinations are effective      0           0   \n",
      "1                         Child vaccination saves lives      0           0   \n",
      "2     Routine child vaccinations are necessary to pr...      0           1   \n",
      "3     Routine child vaccinations should be mandatory...      1           1   \n",
      "4     Routine child vaccinations, or their side effe...      0           1   \n",
      "...                                                 ...    ...         ...   \n",
      "3421  Social media regulation is required to deal wi...      0           0   \n",
      "3422  Routine child vaccinations are not necessary t...      0           0   \n",
      "3423  Routine child vaccinations, or their side effe...      1           1   \n",
      "3424     Mandatory vaccination contradicts basic rights      0           0   \n",
      "3425        The parents and not the state should decide      0           0   \n",
      "\n",
      "      probability  \n",
      "0        0.851383  \n",
      "1        0.953045  \n",
      "2        0.981344  \n",
      "3        0.999903  \n",
      "4        0.950211  \n",
      "...           ...  \n",
      "3421     0.556897  \n",
      "3422     0.982927  \n",
      "3423     0.983050  \n",
      "3424     0.998719  \n",
      "3425     0.999867  \n",
      "\n",
      "[3426 rows x 6 columns]\n"
     ]
    }
   ],
   "source": [
    "add_df = pd.DataFrame({\n",
    "    'prediction': all_predictions,\n",
    "    'probability':all_probabilities\n",
    "})\n",
    "result_df = pd.concat([test_df,add_df],axis=1)\n",
    "print(result_df)"
   ],
   "metadata": {
    "collapsed": false,
    "pycharm": {
     "name": "#%%\n"
    }
   }
  },
  {
   "cell_type": "code",
   "execution_count": 20,
   "outputs": [
    {
     "name": "stdout",
     "output_type": "stream",
     "text": [
      "DataFrame has been saved to ./result/KPM_official_test.csv\n"
     ]
    }
   ],
   "source": [
    "result_df.to_csv('./result/KPM_official_test.csv', index=False)\n",
    "print(f\"DataFrame has been saved to {'./result/KPM_official_test.csv'}\")"
   ],
   "metadata": {
    "collapsed": false,
    "pycharm": {
     "name": "#%%\n"
    }
   }
  },
  {
   "cell_type": "code",
   "execution_count": 13,
   "outputs": [
    {
     "name": "stdout",
     "output_type": "stream",
     "text": [
      "                                                  topic  \\\n",
      "0        Routine child vaccinations should be mandatory   \n",
      "1        Routine child vaccinations should be mandatory   \n",
      "2        Routine child vaccinations should be mandatory   \n",
      "3        Routine child vaccinations should be mandatory   \n",
      "4        Routine child vaccinations should be mandatory   \n",
      "...                                                 ...   \n",
      "3421  Social media platforms should be regulated by ...   \n",
      "3422     Routine child vaccinations should be mandatory   \n",
      "3423     Routine child vaccinations should be mandatory   \n",
      "3424     Routine child vaccinations should be mandatory   \n",
      "3425     Routine child vaccinations should be mandatory   \n",
      "\n",
      "                                                premise  \\\n",
      "0      Routine childhood vaccinations  should be man...   \n",
      "1      Routine childhood vaccinations  should be man...   \n",
      "2      Routine childhood vaccinations  should be man...   \n",
      "3      Routine childhood vaccinations  should be man...   \n",
      "4     Routine child vaccinations isn't mandatory sin...   \n",
      "...                                                 ...   \n",
      "3421  yes, there is some strong content on social me...   \n",
      "3422  you may create a chemical reaction that affect...   \n",
      "3423  you may create a chemical reaction that affect...   \n",
      "3424  you may create a chemical reaction that affect...   \n",
      "3425  you may create a chemical reaction that affect...   \n",
      "\n",
      "                                             hypothesis  label  prediction  \\\n",
      "0              Routine child vaccinations are effective      0           0   \n",
      "1                         Child vaccination saves lives      0           0   \n",
      "2     Routine child vaccinations are necessary to pr...      0           1   \n",
      "3     Routine child vaccinations should be mandatory...      1           1   \n",
      "4     Routine child vaccinations, or their side effe...      0           1   \n",
      "...                                                 ...    ...         ...   \n",
      "3421  Social media regulation is required to deal wi...      0           0   \n",
      "3422  Routine child vaccinations are not necessary t...      0           0   \n",
      "3423  Routine child vaccinations, or their side effe...      1           1   \n",
      "3424     Mandatory vaccination contradicts basic rights      0           0   \n",
      "3425        The parents and not the state should decide      0           0   \n",
      "\n",
      "      probability  \n",
      "0        0.851383  \n",
      "1        0.953045  \n",
      "2        0.981344  \n",
      "3        0.999903  \n",
      "4        0.950211  \n",
      "...           ...  \n",
      "3421     0.556897  \n",
      "3422     0.982927  \n",
      "3423     0.983050  \n",
      "3424     0.998719  \n",
      "3425     0.999867  \n",
      "\n",
      "[3426 rows x 6 columns]\n"
     ]
    }
   ],
   "source": [
    "# print(all_probabilities)\n",
    "new_test_df = pd.read_csv('./result/KPM_official_test.csv')\n",
    "print(new_test_df)"
   ],
   "metadata": {
    "collapsed": false,
    "pycharm": {
     "name": "#%%\n"
    }
   }
  },
  {
   "cell_type": "code",
   "execution_count": 16,
   "outputs": [
    {
     "name": "stdout",
     "output_type": "stream",
     "text": [
      "                                                  topic  \\\n",
      "0        Routine child vaccinations should be mandatory   \n",
      "1        Routine child vaccinations should be mandatory   \n",
      "2        Routine child vaccinations should be mandatory   \n",
      "3        Routine child vaccinations should be mandatory   \n",
      "4        Routine child vaccinations should be mandatory   \n",
      "...                                                 ...   \n",
      "3421  Social media platforms should be regulated by ...   \n",
      "3422     Routine child vaccinations should be mandatory   \n",
      "3423     Routine child vaccinations should be mandatory   \n",
      "3424     Routine child vaccinations should be mandatory   \n",
      "3425     Routine child vaccinations should be mandatory   \n",
      "\n",
      "                                                premise  \\\n",
      "0      Routine childhood vaccinations  should be man...   \n",
      "1      Routine childhood vaccinations  should be man...   \n",
      "2      Routine childhood vaccinations  should be man...   \n",
      "3      Routine childhood vaccinations  should be man...   \n",
      "4     Routine child vaccinations isn't mandatory sin...   \n",
      "...                                                 ...   \n",
      "3421  yes, there is some strong content on social me...   \n",
      "3422  you may create a chemical reaction that affect...   \n",
      "3423  you may create a chemical reaction that affect...   \n",
      "3424  you may create a chemical reaction that affect...   \n",
      "3425  you may create a chemical reaction that affect...   \n",
      "\n",
      "                                             hypothesis  label  prediction  \\\n",
      "0              Routine child vaccinations are effective      0           0   \n",
      "1                         Child vaccination saves lives      0           0   \n",
      "2     Routine child vaccinations are necessary to pr...      0           1   \n",
      "3     Routine child vaccinations should be mandatory...      1           1   \n",
      "4     Routine child vaccinations, or their side effe...      0           1   \n",
      "...                                                 ...    ...         ...   \n",
      "3421  Social media regulation is required to deal wi...      0           0   \n",
      "3422  Routine child vaccinations are not necessary t...      0           0   \n",
      "3423  Routine child vaccinations, or their side effe...      1           1   \n",
      "3424     Mandatory vaccination contradicts basic rights      0           0   \n",
      "3425        The parents and not the state should decide      0           0   \n",
      "\n",
      "      probability                                         logit  \n",
      "0        0.851383       [0.8513832688331604, 0.148616760969162]  \n",
      "1        0.953045     [0.9530447125434875, 0.04695533961057663]  \n",
      "2        0.981344    [0.018656279891729355, 0.9813437461853027]  \n",
      "3        0.999903   [9.680096263764426e-05, 0.9999032020568848]  \n",
      "4        0.950211    [0.049789465963840485, 0.9502105712890625]  \n",
      "...           ...                                           ...  \n",
      "3421     0.556897      [0.5568968653678894, 0.4431031048297882]  \n",
      "3422     0.982927     [0.982926607131958, 0.017073430120944977]  \n",
      "3423     0.983050    [0.016949782148003578, 0.9830501675605774]  \n",
      "3424     0.998719   [0.9987194538116455, 0.0012805949663743377]  \n",
      "3425     0.999867  [0.9998667240142822, 0.00013328522618394345]  \n",
      "\n",
      "[3426 rows x 7 columns]\n",
      "DataFrame has been saved to ./result/KPM_official_test.csv\n"
     ]
    }
   ],
   "source": [
    "new_test_df['logit'] = all_probabilities\n",
    "print(new_test_df)\n",
    "new_test_df.to_csv('./result/KPM_official_test.csv', index=False)\n",
    "print(f\"DataFrame has been saved to {'./result/KPM_official_test.csv'}\")"
   ],
   "metadata": {
    "collapsed": false,
    "pycharm": {
     "name": "#%%\n"
    }
   }
  },
  {
   "cell_type": "markdown",
   "source": [
    "### Calculate mAP"
   ],
   "metadata": {
    "collapsed": false,
    "pycharm": {
     "name": "#%% md\n"
    }
   }
  },
  {
   "cell_type": "code",
   "execution_count": 17,
   "outputs": [
    {
     "name": "stdout",
     "output_type": "stream",
     "text": [
      "Index(['topic', 'premise', 'hypothesis', 'label', 'prediction', 'probability',\n",
      "       'logit'],\n",
      "      dtype='object')\n",
      "                                                  topic  \\\n",
      "0        Routine child vaccinations should be mandatory   \n",
      "1        Routine child vaccinations should be mandatory   \n",
      "2        Routine child vaccinations should be mandatory   \n",
      "3        Routine child vaccinations should be mandatory   \n",
      "4        Routine child vaccinations should be mandatory   \n",
      "...                                                 ...   \n",
      "3421  Social media platforms should be regulated by ...   \n",
      "3422     Routine child vaccinations should be mandatory   \n",
      "3423     Routine child vaccinations should be mandatory   \n",
      "3424     Routine child vaccinations should be mandatory   \n",
      "3425     Routine child vaccinations should be mandatory   \n",
      "\n",
      "                                                premise  \\\n",
      "0      Routine childhood vaccinations  should be man...   \n",
      "1      Routine childhood vaccinations  should be man...   \n",
      "2      Routine childhood vaccinations  should be man...   \n",
      "3      Routine childhood vaccinations  should be man...   \n",
      "4     Routine child vaccinations isn't mandatory sin...   \n",
      "...                                                 ...   \n",
      "3421  yes, there is some strong content on social me...   \n",
      "3422  you may create a chemical reaction that affect...   \n",
      "3423  you may create a chemical reaction that affect...   \n",
      "3424  you may create a chemical reaction that affect...   \n",
      "3425  you may create a chemical reaction that affect...   \n",
      "\n",
      "                                             hypothesis  label  prediction  \\\n",
      "0              Routine child vaccinations are effective      0           0   \n",
      "1                         Child vaccination saves lives      0           0   \n",
      "2     Routine child vaccinations are necessary to pr...      0           1   \n",
      "3     Routine child vaccinations should be mandatory...      1           1   \n",
      "4     Routine child vaccinations, or their side effe...      0           1   \n",
      "...                                                 ...    ...         ...   \n",
      "3421  Social media regulation is required to deal wi...      0           0   \n",
      "3422  Routine child vaccinations are not necessary t...      0           0   \n",
      "3423  Routine child vaccinations, or their side effe...      1           1   \n",
      "3424     Mandatory vaccination contradicts basic rights      0           0   \n",
      "3425        The parents and not the state should decide      0           0   \n",
      "\n",
      "      probability                                         logit  \n",
      "0        0.851383       [0.8513832688331604, 0.148616760969162]  \n",
      "1        0.953045     [0.9530447125434875, 0.04695533961057663]  \n",
      "2        0.981344    [0.018656279891729355, 0.9813437461853027]  \n",
      "3        0.999903   [9.680096263764426e-05, 0.9999032020568848]  \n",
      "4        0.950211    [0.049789465963840485, 0.9502105712890625]  \n",
      "...           ...                                           ...  \n",
      "3421     0.556897      [0.5568968653678894, 0.4431031048297882]  \n",
      "3422     0.982927     [0.982926607131958, 0.017073430120944977]  \n",
      "3423     0.983050    [0.016949782148003578, 0.9830501675605774]  \n",
      "3424     0.998719   [0.9987194538116455, 0.0012805949663743377]  \n",
      "3425     0.999867  [0.9998667240142822, 0.00013328522618394345]  \n",
      "\n",
      "[3426 rows x 7 columns]\n"
     ]
    }
   ],
   "source": [
    "df_test = pd.read_csv('./result/KPM_official_test.csv')\n",
    "print(df_test.columns)\n",
    "print(df_test)"
   ],
   "metadata": {
    "collapsed": false,
    "pycharm": {
     "name": "#%%\n"
    }
   }
  },
  {
   "cell_type": "code",
   "execution_count": 18,
   "outputs": [
    {
     "name": "stdout",
     "output_type": "stream",
     "text": [
      "                                                  topic  \\\n",
      "3177     Routine child vaccinations should be mandatory   \n",
      "2537     Routine child vaccinations should be mandatory   \n",
      "2962     Routine child vaccinations should be mandatory   \n",
      "2630     Routine child vaccinations should be mandatory   \n",
      "730      Routine child vaccinations should be mandatory   \n",
      "...                                                 ...   \n",
      "3007     Routine child vaccinations should be mandatory   \n",
      "1892               The USA is a good country to live in   \n",
      "1948  Social media platforms should be regulated by ...   \n",
      "1560               The USA is a good country to live in   \n",
      "2649               The USA is a good country to live in   \n",
      "\n",
      "                                                premise  \\\n",
      "3177  the government should not regulate what parent...   \n",
      "2537  child vaccinations is not mandatory because it...   \n",
      "2962  parents should have the freedom to decide what...   \n",
      "2630  everyone should be free to choose what they wa...   \n",
      "730   It is up to the childs parents to decide what ...   \n",
      "...                                                 ...   \n",
      "3007  routine child vaccination should not be mandat...   \n",
      "1892  The United States is the country with the best...   \n",
      "1948  The government already regulates too much of o...   \n",
      "1560  The USA has a well established and stable poli...   \n",
      "2649       for their quality of life, for their economy   \n",
      "\n",
      "                                             hypothesis  label  prediction  \\\n",
      "3177  Routine child vaccinations, or their side effe...      0           0   \n",
      "2537  Routine child vaccinations, or their side effe...      0           0   \n",
      "2962  Routine child vaccinations, or their side effe...      0           0   \n",
      "2630  Routine child vaccinations, or their side effe...      0           0   \n",
      "730   Routine child vaccinations, or their side effe...      0           0   \n",
      "...                                                 ...    ...         ...   \n",
      "3007  Routine child vaccinations are not necessary t...      0           0   \n",
      "1892    The US has a good health and education systems       0           1   \n",
      "1948              Social media regulation harms privacy      0           0   \n",
      "1560                    The US has great people/culture      0           1   \n",
      "2649    The US has a good health and education systems       0           0   \n",
      "\n",
      "      probability                                         logit  \n",
      "3177     0.999958   [0.9999575614929199, 4.249433914083056e-05]  \n",
      "2537     0.999957   [0.9999574422836304, 4.251063000992872e-05]  \n",
      "2962     0.999957   [0.9999566078186035, 4.341904423199594e-05]  \n",
      "2630     0.999955   [0.9999548196792603, 4.513919338933192e-05]  \n",
      "730      0.999952  [0.9999516010284424, 4.8354217142332345e-05]  \n",
      "...           ...                                           ...  \n",
      "3007     0.500913     [0.5009129643440247, 0.49908700585365295]  \n",
      "1892     0.500880      [0.4991196393966675, 0.5008803606033325]  \n",
      "1948     0.500766     [0.5007655024528503, 0.49923449754714966]  \n",
      "1560     0.500433      [0.4995667338371277, 0.5004332065582275]  \n",
      "2649     0.500267      [0.5002670884132385, 0.4997328817844391]  \n",
      "\n",
      "[3426 rows x 7 columns]\n"
     ]
    }
   ],
   "source": [
    "df_sorted = df_test.sort_values(by='probability', ascending= False)\n",
    "print(df_sorted)"
   ],
   "metadata": {
    "collapsed": false,
    "pycharm": {
     "name": "#%%\n"
    }
   }
  },
  {
   "cell_type": "code",
   "execution_count": 19,
   "outputs": [
    {
     "name": "stdout",
     "output_type": "stream",
     "text": [
      "                                                  topic  \\\n",
      "3177     Routine child vaccinations should be mandatory   \n",
      "2537     Routine child vaccinations should be mandatory   \n",
      "2962     Routine child vaccinations should be mandatory   \n",
      "2630     Routine child vaccinations should be mandatory   \n",
      "730      Routine child vaccinations should be mandatory   \n",
      "...                                                 ...   \n",
      "2451  Social media platforms should be regulated by ...   \n",
      "654                The USA is a good country to live in   \n",
      "1749               The USA is a good country to live in   \n",
      "1366  Social media platforms should be regulated by ...   \n",
      "2358     Routine child vaccinations should be mandatory   \n",
      "\n",
      "                                                premise  \\\n",
      "3177  the government should not regulate what parent...   \n",
      "2537  child vaccinations is not mandatory because it...   \n",
      "2962  parents should have the freedom to decide what...   \n",
      "2630  everyone should be free to choose what they wa...   \n",
      "730   It is up to the childs parents to decide what ...   \n",
      "...                                                 ...   \n",
      "2451  Yes, it is necessary to avoid so much junk con...   \n",
      "654   It is a country where we have opportunities de...   \n",
      "1749  The USA is not a great place to live because i...   \n",
      "1366  Social media platforms shouldn't be regulated ...   \n",
      "2358  Vaccines in children should not be mandatory b...   \n",
      "\n",
      "                                             hypothesis  label  prediction  \\\n",
      "3177  Routine child vaccinations, or their side effe...      0           0   \n",
      "2537  Routine child vaccinations, or their side effe...      0           0   \n",
      "2962  Routine child vaccinations, or their side effe...      0           0   \n",
      "2630  Routine child vaccinations, or their side effe...      0           0   \n",
      "730   Routine child vaccinations, or their side effe...      0           0   \n",
      "...                                                 ...    ...         ...   \n",
      "2451  Social media regulation protects the younger a...      0           0   \n",
      "654                     The US has great people/culture      0           0   \n",
      "1749    The US has unfair health and education policies      0           0   \n",
      "1366  Social media regulation can lead to political ...      0           0   \n",
      "2358  Routine child vaccinations are not necessary t...      0           1   \n",
      "\n",
      "      probability                                         logit  \n",
      "3177     0.999958   [0.9999575614929199, 4.249433914083056e-05]  \n",
      "2537     0.999957   [0.9999574422836304, 4.251063000992872e-05]  \n",
      "2962     0.999957   [0.9999566078186035, 4.341904423199594e-05]  \n",
      "2630     0.999955   [0.9999548196792603, 4.513919338933192e-05]  \n",
      "730      0.999952  [0.9999516010284424, 4.8354217142332345e-05]  \n",
      "...           ...                                           ...  \n",
      "2451     0.953630    [0.9536296725273132, 0.046370383352041245]  \n",
      "654      0.953556      [0.9535558223724365, 0.0464441291987896]  \n",
      "1749     0.953494     [0.9534942507743835, 0.04650568589568138]  \n",
      "1366     0.953478      [0.953477680683136, 0.04652233421802521]  \n",
      "2358     0.953433      [0.0465669184923172, 0.9534330368041992]  \n",
      "\n",
      "[1713 rows x 7 columns]\n"
     ]
    }
   ],
   "source": [
    "top_50_df = df_sorted.head(int(0.5*len(df_sorted)))\n",
    "print(top_50_df)"
   ],
   "metadata": {
    "collapsed": false,
    "pycharm": {
     "name": "#%%\n"
    }
   }
  },
  {
   "cell_type": "code",
   "execution_count": 12,
   "outputs": [
    {
     "name": "stdout",
     "output_type": "stream",
     "text": [
      "Mean Average Precision (mAP): 0.65\n"
     ]
    }
   ],
   "source": [
    "from sklearn.metrics import average_precision_score\n",
    "import numpy as np\n",
    "\n",
    "# Assuming A and B are the predicted and true labels for each instance, respectively\n",
    "A = [0, 1, 0]\n",
    "B = [1, 0, 1]\n",
    "\n",
    "# Calculate Average Precision\n",
    "ap = average_precision_score(label, prediction)\n",
    "\n",
    "map_score = np.mean(ap)\n",
    "\n",
    "print(f'Mean Average Precision (mAP): {map_score:.2f}')"
   ],
   "metadata": {
    "collapsed": false,
    "pycharm": {
     "name": "#%%\n"
    }
   }
  },
  {
   "cell_type": "markdown",
   "source": [
    "### Make Test Dataset"
   ],
   "metadata": {
    "collapsed": false,
    "pycharm": {
     "name": "#%% md\n"
    }
   }
  },
  {
   "cell_type": "code",
   "execution_count": 30,
   "outputs": [
    {
     "name": "stdout",
     "output_type": "stream",
     "text": [
      "Index(['arg_id', 'argument', 'topic', 'stance'], dtype='object')\n"
     ]
    }
   ],
   "source": [
    "argument_df = pd.read_csv('./data/arguments_test.csv')\n",
    "print(argument_df.columns)"
   ],
   "metadata": {
    "collapsed": false,
    "pycharm": {
     "name": "#%%\n"
    }
   }
  },
  {
   "cell_type": "code",
   "execution_count": 31,
   "outputs": [
    {
     "name": "stdout",
     "output_type": "stream",
     "text": [
      "Index(['key_point_id', 'key_point', 'topic', 'stance'], dtype='object')\n"
     ]
    }
   ],
   "source": [
    "kp_df = pd.read_csv('./data/key_points_test.csv')\n",
    "print(kp_df.columns)"
   ],
   "metadata": {
    "collapsed": false,
    "pycharm": {
     "name": "#%%\n"
    }
   }
  },
  {
   "cell_type": "code",
   "execution_count": 37,
   "outputs": [
    {
     "name": "stdout",
     "output_type": "stream",
     "text": [
      "3923\n",
      "                                               topic  stance     arg_id  \\\n",
      "0     Routine child vaccinations should be mandatory      -1    arg_0_0   \n",
      "1     Routine child vaccinations should be mandatory      -1    arg_0_0   \n",
      "2     Routine child vaccinations should be mandatory      -1    arg_0_0   \n",
      "3     Routine child vaccinations should be mandatory      -1    arg_0_0   \n",
      "4     Routine child vaccinations should be mandatory      -1    arg_0_1   \n",
      "...                                              ...     ...        ...   \n",
      "3918            The USA is a good country to live in       1  arg_2_209   \n",
      "3919            The USA is a good country to live in       1  arg_2_209   \n",
      "3920            The USA is a good country to live in       1  arg_2_209   \n",
      "3921            The USA is a good country to live in       1  arg_2_209   \n",
      "3922            The USA is a good country to live in       1  arg_2_209   \n",
      "\n",
      "                                               argument key_point_id  \\\n",
      "0     Routine child vaccinations isn't mandatory sin...       kp_0_0   \n",
      "1     Routine child vaccinations isn't mandatory sin...       kp_0_1   \n",
      "2     Routine child vaccinations isn't mandatory sin...       kp_0_2   \n",
      "3     Routine child vaccinations isn't mandatory sin...       kp_0_3   \n",
      "4     Routine child vaccinations should not be manda...       kp_0_0   \n",
      "...                                                 ...          ...   \n",
      "3918  yes, is a good country, beacause have good edu...       kp_2_9   \n",
      "3919  yes, is a good country, beacause have good edu...      kp_2_10   \n",
      "3920  yes, is a good country, beacause have good edu...      kp_2_11   \n",
      "3921  yes, is a good country, beacause have good edu...      kp_2_12   \n",
      "3922  yes, is a good country, beacause have good edu...      kp_2_13   \n",
      "\n",
      "                                              key_point  \n",
      "0     Routine child vaccinations, or their side effe...  \n",
      "1        Mandatory vaccination contradicts basic rights  \n",
      "2           The parents and not the state should decide  \n",
      "3     Routine child vaccinations are not necessary t...  \n",
      "4     Routine child vaccinations, or their side effe...  \n",
      "...                                                 ...  \n",
      "3918              The US has a great environment/nature  \n",
      "3919                       The US is a powerful country  \n",
      "3920  The US has a good economy/high standard of living  \n",
      "3921    The US has a good health and education systems   \n",
      "3922                    The US has great people/culture  \n",
      "\n",
      "[3923 rows x 6 columns]\n",
      "Index(['topic', 'stance', 'arg_id', 'argument', 'key_point_id', 'key_point'], dtype='object')\n"
     ]
    }
   ],
   "source": [
    "test_data = []\n",
    "for index,row in argument_df.iterrows():\n",
    "    filtered_kp = kp_df[(kp_df['topic'] == row['topic']) & (kp_df['stance'] == row['stance'])]\n",
    "    filtered_kp_list = filtered_kp.values.tolist()\n",
    "    for line in filtered_kp_list:\n",
    "        test_data.append([row['topic'],row['stance'],row['arg_id'],row['argument'],line[0],line[1]])\n",
    "print(len(test_data))\n",
    "\n",
    "header = ['topic','stance','arg_id','argument','key_point_id','key_point']\n",
    "df = pd.DataFrame(test_data, columns=header)\n",
    "print(df)\n",
    "print(df.columns)\n",
    "\n"
   ],
   "metadata": {
    "collapsed": false,
    "pycharm": {
     "name": "#%%\n"
    }
   }
  },
  {
   "cell_type": "code",
   "execution_count": 36,
   "outputs": [
    {
     "name": "stdout",
     "output_type": "stream",
     "text": [
      "DataFrame has been saved to ./data/KPM_test_data.csv\n"
     ]
    }
   ],
   "source": [
    "df.to_csv('./data/KPM_test_data.csv', index=False)\n",
    "print(f\"DataFrame has been saved to {'./data/KPM_test_data.csv'}\")"
   ],
   "metadata": {
    "collapsed": false,
    "pycharm": {
     "name": "#%%\n"
    }
   }
  },
  {
   "cell_type": "markdown",
   "source": [
    "### Prediction"
   ],
   "metadata": {
    "collapsed": false,
    "pycharm": {
     "name": "#%% md\n"
    }
   }
  },
  {
   "cell_type": "code",
   "execution_count": 8,
   "outputs": [
    {
     "name": "stdout",
     "output_type": "stream",
     "text": [
      "Index(['Unnamed: 0.1', 'Unnamed: 0', 'topic', 'stance', 'arg_id', 'argument',\n",
      "       'key_point_id', 'key_point', 'confidence_score'],\n",
      "      dtype='object')\n"
     ]
    }
   ],
   "source": [
    "#Add new header confidence_score\n",
    "df = pd.read_csv('./data/KPM_test_data.csv')\n",
    "print(df.columns)"
   ],
   "metadata": {
    "collapsed": false,
    "pycharm": {
     "name": "#%%\n"
    }
   }
  },
  {
   "cell_type": "code",
   "execution_count": 9,
   "outputs": [],
   "source": [
    "# df['confidence_score'] = ''\n",
    "# df.to_csv('./data/KPM_test_data.csv')\n",
    "# print(f\"DataFrame has been saved to {'./data/KPM_test_data.csv'}\")"
   ],
   "metadata": {
    "collapsed": false,
    "pycharm": {
     "name": "#%%\n"
    }
   }
  },
  {
   "cell_type": "code",
   "execution_count": 11,
   "outputs": [
    {
     "name": "stderr",
     "output_type": "stream",
     "text": [
      "Some weights of RobertaForSequenceClassification were not initialized from the model checkpoint at cross-encoder/nli-distilroberta-base and are newly initialized because the shapes did not match:\n",
      "- classifier.out_proj.weight: found shape torch.Size([3, 768]) in the checkpoint and torch.Size([2, 768]) in the model instantiated\n",
      "- classifier.out_proj.bias: found shape torch.Size([3]) in the checkpoint and torch.Size([2]) in the model instantiated\n",
      "You should probably TRAIN this model on a down-stream task to be able to use it for predictions and inference.\n"
     ]
    },
    {
     "name": "stdout",
     "output_type": "stream",
     "text": [
      "hello world\n",
      "[0.04978947713971138, 0.9502105712890625]\n",
      "0: 0.04978947713971138\n",
      "[0.9856218695640564, 0.01437812577933073]\n",
      "1: 0.9856218695640564\n"
     ]
    }
   ],
   "source": [
    "# Assuming you have already trained the model and saved a checkpoint\n",
    "checkpoint_path = './checkpoint/nli_model-epoch=01-val_loss=0.37.ckpt'\n",
    "# Load the model from the checkpoint\n",
    "model_name = \"cross-encoder/nli-distilroberta-base\"\n",
    "num_classes = 2\n",
    "max_length = 512\n",
    "batch_size = 16\n",
    "learning_rate = 5e-05\n",
    "weight_decay = 0.001\n",
    "\n",
    "tokenizer = AutoTokenizer.from_pretrained(model_name)\n",
    "model = AutoModelForSequenceClassification.from_pretrained(model_name, num_labels = num_classes, ignore_mismatched_sizes = True)\n",
    "loaded_model = KPM.load_from_checkpoint(model=model, checkpoint_path=checkpoint_path)\n",
    "print(\"hello world\")\n",
    "\n",
    "# Set the model to evaluation mode\n",
    "loaded_model.eval()\n",
    "\n",
    "\n",
    "# Make predictions on the test set with probabilities\n",
    "\n",
    "all_probabilities = []\n",
    "df = pd.read_csv('./data/KPM_test_data.csv')\n",
    "for index, row in df.iloc[:2].iterrows():\n",
    "    premise = row['argument']+tokenizer.sep_token+row['topic']\n",
    "    hypothesis = row['key_point']+tokenizer.sep_token+row['topic']\n",
    "    encoding = tokenizer(\n",
    "            premise,\n",
    "            hypothesis,\n",
    "            truncation=True,\n",
    "            padding='max_length',\n",
    "            max_length=max_length,\n",
    "            return_tensors='pt'\n",
    "        )\n",
    "    with torch.no_grad():\n",
    "        logits = loaded_model(**encoding).logits\n",
    "        print(F.softmax(logits, dim=1).tolist()[0])\n",
    "        probabilities = F.softmax(logits, dim=1).tolist()[0][0]\n",
    "    print(str(index)+\": \"+str(probabilities))\n",
    "    df.at[index,'confidence_score'] = probabilities\n",
    "    # all_probabilities.append(probabilities)\n",
    "\n",
    "df.to_csv('./data/KPM_test_data.csv', index=False)\n",
    "print(\"Add new data successfully!!!!!\")\n",
    "# print(\"Finished\")\n",
    "# print(all_probabilities)"
   ],
   "metadata": {
    "collapsed": false,
    "pycharm": {
     "name": "#%%\n"
    }
   }
  },
  {
   "cell_type": "markdown",
   "source": [
    "### Make output json file for automatically evaluating"
   ],
   "metadata": {
    "collapsed": false,
    "pycharm": {
     "name": "#%% md\n"
    }
   }
  },
  {
   "cell_type": "code",
   "execution_count": 2,
   "outputs": [
    {
     "name": "stdout",
     "output_type": "stream",
     "text": [
      "723\n",
      "Index(['arg_id', 'argument', 'topic', 'stance'], dtype='object')\n"
     ]
    }
   ],
   "source": [
    "argument_df = pd.read_csv('./data/arguments_test.csv')\n",
    "print(len(argument_df))\n",
    "print(argument_df.columns)"
   ],
   "metadata": {
    "collapsed": false,
    "pycharm": {
     "name": "#%%\n"
    }
   }
  },
  {
   "cell_type": "code",
   "execution_count": 3,
   "outputs": [
    {
     "name": "stdout",
     "output_type": "stream",
     "text": [
      "3923\n",
      "                                               topic  stance     arg_id  \\\n",
      "0     Routine child vaccinations should be mandatory      -1    arg_0_0   \n",
      "1     Routine child vaccinations should be mandatory      -1    arg_0_0   \n",
      "2     Routine child vaccinations should be mandatory      -1    arg_0_0   \n",
      "3     Routine child vaccinations should be mandatory      -1    arg_0_0   \n",
      "4     Routine child vaccinations should be mandatory      -1    arg_0_1   \n",
      "...                                              ...     ...        ...   \n",
      "3918            The USA is a good country to live in       1  arg_2_209   \n",
      "3919            The USA is a good country to live in       1  arg_2_209   \n",
      "3920            The USA is a good country to live in       1  arg_2_209   \n",
      "3921            The USA is a good country to live in       1  arg_2_209   \n",
      "3922            The USA is a good country to live in       1  arg_2_209   \n",
      "\n",
      "                                               argument key_point_id  \\\n",
      "0     Routine child vaccinations isn't mandatory sin...       kp_0_0   \n",
      "1     Routine child vaccinations isn't mandatory sin...       kp_0_1   \n",
      "2     Routine child vaccinations isn't mandatory sin...       kp_0_2   \n",
      "3     Routine child vaccinations isn't mandatory sin...       kp_0_3   \n",
      "4     Routine child vaccinations should not be manda...       kp_0_0   \n",
      "...                                                 ...          ...   \n",
      "3918  yes, is a good country, beacause have good edu...       kp_2_9   \n",
      "3919  yes, is a good country, beacause have good edu...      kp_2_10   \n",
      "3920  yes, is a good country, beacause have good edu...      kp_2_11   \n",
      "3921  yes, is a good country, beacause have good edu...      kp_2_12   \n",
      "3922  yes, is a good country, beacause have good edu...      kp_2_13   \n",
      "\n",
      "                                              key_point  4_7_8_15   0_1_2_3  \\\n",
      "0     Routine child vaccinations, or their side effe...  0.950211  0.740237   \n",
      "1        Mandatory vaccination contradicts basic rights  0.014378  0.003766   \n",
      "2           The parents and not the state should decide  0.000360  0.000623   \n",
      "3     Routine child vaccinations are not necessary t...  0.824957  0.541569   \n",
      "4     Routine child vaccinations, or their side effe...  0.961748  0.959492   \n",
      "...                                                 ...       ...       ...   \n",
      "3918              The US has a great environment/nature  0.005322  0.000070   \n",
      "3919                       The US is a powerful country  0.386281  0.204166   \n",
      "3920  The US has a good economy/high standard of living  0.047338  0.006679   \n",
      "3921    The US has a good health and education systems   0.425297  0.914191   \n",
      "3922                    The US has great people/culture  0.043208  0.005669   \n",
      "\n",
      "      5_6_9_10  11_12_13_14  16_17_18_19  20_21_22_23  24_25_26_27       avg  \n",
      "0     0.916525     0.636808     0.211297     0.834780     0.004264  0.613446  \n",
      "1     0.000282     0.000224     0.000541     0.004045     0.000713  0.003421  \n",
      "2     0.000011     0.000069     0.000002     0.000017     0.000024  0.000158  \n",
      "3     0.910632     0.671566     0.160184     0.817559     0.020901  0.563910  \n",
      "4     0.981472     0.813832     0.997880     0.994560     0.999078  0.958295  \n",
      "...        ...          ...          ...          ...          ...       ...  \n",
      "3918  0.000149     0.008806     0.110757     0.495403     0.001846  0.088907  \n",
      "3919  0.109825     0.025445     0.971601     0.985172     0.021014  0.386215  \n",
      "3920  0.000737     0.111345     0.009382     0.648550     0.006503  0.118648  \n",
      "3921  0.955952     0.923707     0.999881     0.970570     0.948215  0.876831  \n",
      "3922  0.000347     0.066822     0.359781     0.549551     0.008884  0.147752  \n",
      "\n",
      "[3923 rows x 14 columns]\n"
     ]
    }
   ],
   "source": [
    "test_df = pd.read_csv('./data/KPM_test_data.csv')\n",
    "# test_df['confidence_score'] = 1- test_df['confidence_score']\n",
    "print(len(test_df))\n",
    "print(test_df)"
   ],
   "metadata": {
    "collapsed": false,
    "pycharm": {
     "name": "#%%\n"
    }
   }
  },
  {
   "cell_type": "code",
   "execution_count": 20,
   "outputs": [
    {
     "name": "stdout",
     "output_type": "stream",
     "text": [
      "                                               topic  stance     arg_id  \\\n",
      "0     Routine child vaccinations should be mandatory      -1    arg_0_0   \n",
      "1     Routine child vaccinations should be mandatory      -1    arg_0_0   \n",
      "2     Routine child vaccinations should be mandatory      -1    arg_0_0   \n",
      "3     Routine child vaccinations should be mandatory      -1    arg_0_0   \n",
      "4     Routine child vaccinations should be mandatory      -1    arg_0_1   \n",
      "...                                              ...     ...        ...   \n",
      "3918            The USA is a good country to live in       1  arg_2_209   \n",
      "3919            The USA is a good country to live in       1  arg_2_209   \n",
      "3920            The USA is a good country to live in       1  arg_2_209   \n",
      "3921            The USA is a good country to live in       1  arg_2_209   \n",
      "3922            The USA is a good country to live in       1  arg_2_209   \n",
      "\n",
      "                                               argument key_point_id  \\\n",
      "0     Routine child vaccinations isn't mandatory sin...       kp_0_0   \n",
      "1     Routine child vaccinations isn't mandatory sin...       kp_0_1   \n",
      "2     Routine child vaccinations isn't mandatory sin...       kp_0_2   \n",
      "3     Routine child vaccinations isn't mandatory sin...       kp_0_3   \n",
      "4     Routine child vaccinations should not be manda...       kp_0_0   \n",
      "...                                                 ...          ...   \n",
      "3918  yes, is a good country, beacause have good edu...       kp_2_9   \n",
      "3919  yes, is a good country, beacause have good edu...      kp_2_10   \n",
      "3920  yes, is a good country, beacause have good edu...      kp_2_11   \n",
      "3921  yes, is a good country, beacause have good edu...      kp_2_12   \n",
      "3922  yes, is a good country, beacause have good edu...      kp_2_13   \n",
      "\n",
      "                                              key_point  confidence_score  \n",
      "0     Routine child vaccinations, or their side effe...          0.950211  \n",
      "1        Mandatory vaccination contradicts basic rights          0.014378  \n",
      "2           The parents and not the state should decide          0.000360  \n",
      "3     Routine child vaccinations are not necessary t...          0.824957  \n",
      "4     Routine child vaccinations, or their side effe...          0.961748  \n",
      "...                                                 ...               ...  \n",
      "3918              The US has a great environment/nature          0.005322  \n",
      "3919                       The US is a powerful country          0.386281  \n",
      "3920  The US has a good economy/high standard of living          0.047338  \n",
      "3921    The US has a good health and education systems           0.425297  \n",
      "3922                    The US has great people/culture          0.043208  \n",
      "\n",
      "[3923 rows x 7 columns]\n"
     ]
    }
   ],
   "source": [
    "# test_df = test_df.drop(test_df.columns[0], axis=1)\n",
    "# print(test_df)"
   ],
   "metadata": {
    "collapsed": false,
    "pycharm": {
     "name": "#%%\n"
    }
   }
  },
  {
   "cell_type": "code",
   "execution_count": 23,
   "outputs": [
    {
     "name": "stdout",
     "output_type": "stream",
     "text": [
      "Add new data successfully!!!!!\n"
     ]
    }
   ],
   "source": [
    "# test_df.to_csv('./data/KPM_test_data.csv', index=False)\n",
    "# print(\"Add new data successfully!!!!!\")"
   ],
   "metadata": {
    "collapsed": false,
    "pycharm": {
     "name": "#%%\n"
    }
   }
  },
  {
   "cell_type": "code",
   "execution_count": 24,
   "outputs": [
    {
     "name": "stdout",
     "output_type": "stream",
     "text": [
      "{'arg_0_0': {'kp_0_0': 0.950210523, 'kp_0_1': 0.014378129999999989, 'kp_0_2': 0.00036001200000002065, 'kp_0_3': 0.824956879}, 'arg_0_1': {'kp_0_0': 0.961748116, 'kp_0_1': 0.0010414119999999638, 'kp_0_2': 0.00023716699999998259, 'kp_0_3': 0.344736099}, 'arg_0_2': {'kp_0_0': 0.779946506, 'kp_0_1': 0.0031176809999999833, 'kp_0_2': 0.00037944300000003484, 'kp_0_3': 0.969090639}, 'arg_0_3': {'kp_0_0': 0.970718089, 'kp_0_1': 0.00081640500000002, 'kp_0_2': 8.487700000003873e-05, 'kp_0_3': 0.753365889}, 'arg_0_4': {'kp_0_0': 0.997252888, 'kp_0_1': 0.025554359000000026, 'kp_0_2': 0.006825387000000016, 'kp_0_3': 0.828299209}, 'arg_0_5': {'kp_0_0': 0.03237760099999998, 'kp_0_1': 0.10669434099999997, 'kp_0_2': 0.023948430999999992, 'kp_0_3': 0.013217926000000046}, 'arg_0_6': {'kp_0_0': 0.99965146, 'kp_0_1': 0.0014120939999999749, 'kp_0_2': 0.00013506399999996255, 'kp_0_3': 0.99885866}, 'arg_0_7': {'kp_0_0': 0.999903, 'kp_0_1': 0.0002350209999999464, 'kp_0_2': 7.629399999997677e-05, 'kp_0_3': 0.47083145400000004}, 'arg_0_8': {'kp_0_0': 0.950513907, 'kp_0_1': 0.00053197100000002, 'kp_0_2': 0.00016248200000001933, 'kp_0_3': 0.7492840590000001}, 'arg_0_9': {'kp_0_0': 0.987206602, 'kp_0_1': 0.0019668940000000523, 'kp_0_2': 0.7566134330000001, 'kp_0_3': 0.03013253199999999}, 'arg_0_10': {'kp_0_0': 0.891677871, 'kp_0_1': 0.0009935500000000097, 'kp_0_2': 0.0003438000000000052, 'kp_0_3': 0.587194294}, 'arg_0_11': {'kp_0_0': 0.999849463, 'kp_0_1': 0.09518819999999995, 'kp_0_2': 0.009422302000000049, 'kp_0_3': 0.22841346299999998}, 'arg_0_12': {'kp_0_0': 0.990267443, 'kp_0_1': 0.0011712910000000187, 'kp_0_2': 0.00012862700000004779, 'kp_0_3': 0.653903306}, 'arg_0_13': {'kp_0_0': 0.999818014, 'kp_0_1': 0.009413540000000054, 'kp_0_2': 0.0002818700000000174, 'kp_0_3': 0.04758989800000002}, 'arg_0_14': {'kp_0_0': 0.999762097, 'kp_0_1': 0.008714138999999954, 'kp_0_2': 0.0003271099999999638, 'kp_0_3': 0.608069003}, 'arg_0_15': {'kp_0_0': 0.919908568, 'kp_0_1': 0.00014269399999999877, 'kp_0_2': 6.0201000000037475e-05, 'kp_0_3': 0.680159628}, 'arg_0_16': {'kp_0_0': 0.9999084, 'kp_0_1': 0.0002732869999999554, 'kp_0_2': 0.00013923599999998704, 'kp_0_3': 0.792226195}, 'arg_0_17': {'kp_0_0': 0.0021489860000000194, 'kp_0_1': 0.483856559, 'kp_0_2': 0.99984777, 'kp_0_3': 0.0037463899999999883}, 'arg_0_18': {'kp_0_0': 0.000281273999999998, 'kp_0_1': 0.913414255, 'kp_0_2': 0.866225258, 'kp_0_3': 0.0004099010000000458}, 'arg_0_19': {'kp_0_0': 0.972642055, 'kp_0_1': 0.0005350710000000536, 'kp_0_2': 6.735300000004774e-05, 'kp_0_3': 0.963524304}, 'arg_0_20': {'kp_0_0': 0.0025150779999999484, 'kp_0_1': 0.395399928, 'kp_0_2': 0.03552842099999998, 'kp_0_3': 0.00954186899999998}, 'arg_0_21': {'kp_0_0': 5.2810000000014234e-05, 'kp_0_1': 0.26338064699999997, 'kp_0_2': 0.920008317, 'kp_0_3': 0.00011813599999999091}, 'arg_0_22': {'kp_0_0': 0.986798024, 'kp_0_1': 0.006447195999999988, 'kp_0_2': 0.002230287000000053, 'kp_0_3': 0.472475171}, 'arg_0_23': {'kp_0_0': 0.906748779, 'kp_0_1': 0.079368353, 'kp_0_2': 0.3559255, 'kp_0_3': 0.42953652099999995}, 'arg_0_24': {'kp_0_0': 0.0015423300000000362, 'kp_0_1': 0.023631453999999996, 'kp_0_2': 0.024815558999999987, 'kp_0_3': 0.007503747999999977}, 'arg_0_25': {'kp_0_0': 0.7188560660000001, 'kp_0_1': 0.003519951999999993, 'kp_0_2': 0.0012410880000000013, 'kp_0_3': 0.38036489500000004}, 'arg_0_26': {'kp_0_0': 0.99982114, 'kp_0_1': 0.00019770900000004588, 'kp_0_2': 0.00022453099999997228, 'kp_0_3': 0.5114713909999999}, 'arg_0_27': {'kp_0_0': 0.9996837, 'kp_0_1': 0.00022870299999999677, 'kp_0_2': 0.00016832399999999748, 'kp_0_3': 0.566402823}, 'arg_0_28': {'kp_0_0': 0.008529483999999976, 'kp_0_1': 0.47778511, 'kp_0_2': 0.408848584, 'kp_0_3': 0.0002765059999999542}, 'arg_0_29': {'kp_0_0': 0.999513941, 'kp_0_1': 0.0023278589999999877, 'kp_0_2': 0.00047457200000000643, 'kp_0_3': 0.5544751880000001}, 'arg_0_30': {'kp_0_0': 0.99967423, 'kp_0_1': 0.0026639099999999916, 'kp_0_2': 0.0007484559999999529, 'kp_0_3': 0.5108748670000001}, 'arg_0_31': {'kp_0_0': 8.034700000003614e-05, 'kp_0_1': 0.008921563999999993, 'kp_0_2': 0.999310463, 'kp_0_3': 0.0006217960000000078}, 'arg_0_32': {'kp_0_0': 0.00538545800000001, 'kp_0_1': 0.912670881, 'kp_0_2': 0.005933166000000045, 'kp_0_3': 0.00041157000000002775}, 'arg_0_33': {'kp_0_0': 0.991346234, 'kp_0_1': 0.0002816319999999761, 'kp_0_2': 7.79629999999587e-05, 'kp_0_3': 0.037120162999999984}, 'arg_0_34': {'kp_0_0': 0.00026839999999994646, 'kp_0_1': 0.867137, 'kp_0_2': 0.09190964700000004, 'kp_0_3': 0.0001717810000000375}, 'arg_0_35': {'kp_0_0': 4.8398999999976766e-05, 'kp_0_1': 0.003683864999999953, 'kp_0_2': 0.998143427, 'kp_0_3': 0.0001420970000000077}, 'arg_0_36': {'kp_0_0': 9.143400000000135e-05, 'kp_0_1': 0.347079158, 'kp_0_2': 0.989112784, 'kp_0_3': 0.0004262329999999981}, 'arg_0_37': {'kp_0_0': 0.00028640000000001997, 'kp_0_1': 0.328181505, 'kp_0_2': 0.99955416, 'kp_0_3': 0.0004476900000000006}, 'arg_0_38': {'kp_0_0': 0.01119083200000004, 'kp_0_1': 0.5714634949999999, 'kp_0_2': 0.004108191000000039, 'kp_0_3': 0.00013434899999997807}, 'arg_0_39': {'kp_0_0': 0.00020867599999996322, 'kp_0_1': 0.43077081399999995, 'kp_0_2': 0.965626124, 'kp_0_3': 0.00046133999999997677}, 'arg_0_40': {'kp_0_0': 0.0006018880000000504, 'kp_0_1': 0.012475848000000012, 'kp_0_2': 0.990364546, 'kp_0_3': 0.0002021190000000006}, 'arg_0_41': {'kp_0_0': 0.5842427020000001, 'kp_0_1': 0.01354765899999999, 'kp_0_2': 0.00034522999999997417, 'kp_0_3': 0.00025850500000001997}, 'arg_0_42': {'kp_0_0': 0.0010302070000000052, 'kp_0_1': 0.0006752009999999586, 'kp_0_2': 0.00016689299999994578, 'kp_0_3': 0.031002878999999983}, 'arg_0_43': {'kp_0_0': 0.0005626079999999645, 'kp_0_1': 0.0011484619999999612, 'kp_0_2': 0.0002307299999999568, 'kp_0_3': 0.008897661999999973}, 'arg_0_44': {'kp_0_0': 0.00017249600000002197, 'kp_0_1': 0.982358454, 'kp_0_2': 0.623081088, 'kp_0_3': 0.0003786089999999742}, 'arg_0_45': {'kp_0_0': 0.00032329600000002845, 'kp_0_1': 0.261204302, 'kp_0_2': 0.32758837900000004, 'kp_0_3': 0.0006538029999999528}, 'arg_0_46': {'kp_0_0': 0.00016689299999994578, 'kp_0_1': 0.32631135, 'kp_0_2': 0.910333812, 'kp_0_3': 0.0001654620000000051}, 'arg_0_47': {'kp_0_0': 0.06991994400000001, 'kp_0_1': 0.997552973, 'kp_0_2': 0.941618744, 'kp_0_3': 0.005409478999999995}, 'arg_0_48': {'kp_0_0': 0.45285457399999995, 'kp_0_1': 0.01412767199999998, 'kp_0_2': 0.885103144, 'kp_0_3': 0.19623005400000004}, 'arg_0_49': {'kp_0_0': 0.0013843770000000477, 'kp_0_1': 0.9526227, 'kp_0_2': 0.834088191, 'kp_0_3': 0.0003479720000000297}, 'arg_0_50': {'kp_0_0': 0.941020023, 'kp_0_1': 0.06821602599999999, 'kp_0_2': 0.714537263, 'kp_0_3': 0.05702513499999995}, 'arg_0_51': {'kp_0_0': 9.453299999995224e-05, 'kp_0_1': 0.09052383900000005, 'kp_0_2': 0.999805141, 'kp_0_3': 0.00020724500000002255}, 'arg_0_52': {'kp_0_0': 0.013513803000000046, 'kp_0_1': 0.891391627, 'kp_0_2': 0.036735414999999993, 'kp_0_3': 0.002552748000000049}, 'arg_0_53': {'kp_0_0': 0.936809331, 'kp_0_1': 0.0023209450000000187, 'kp_0_2': 0.7220009860000001, 'kp_0_3': 0.7265297470000001}, 'arg_0_54': {'kp_0_0': 0.9999016, 'kp_0_1': 0.0002877119999999955, 'kp_0_2': 0.00016856200000003874, 'kp_0_3': 0.33807224}, 'arg_0_55': {'kp_0_0': 0.999135427, 'kp_0_1': 0.02962034899999999, 'kp_0_2': 0.001089095999999956, 'kp_0_3': 0.9050091650000001}, 'arg_0_56': {'kp_0_0': 0.030587554000000017, 'kp_0_1': 0.655572057, 'kp_0_2': 0.007938384999999992, 'kp_0_3': 0.04257845900000001}, 'arg_0_57': {'kp_0_0': 0.442652524, 'kp_0_1': 0.00042194100000003676, 'kp_0_2': 8.237399999999617e-05, 'kp_0_3': 0.350754797}, 'arg_0_58': {'kp_0_0': 0.026559710999999986, 'kp_0_1': 0.0005810259999999845, 'kp_0_2': 0.0023536090000000343, 'kp_0_3': 0.09249073299999999}, 'arg_0_59': {'kp_0_0': 0.999889301, 'kp_0_1': 0.006008565000000021, 'kp_0_2': 0.0005481840000000071, 'kp_0_3': 0.47637909700000003}, 'arg_0_60': {'kp_0_0': 0.990636147, 'kp_0_1': 0.03256392500000005, 'kp_0_2': 0.00040310600000004193, 'kp_0_3': 0.03594845499999999}, 'arg_0_61': {'kp_0_0': 0.005597650999999981, 'kp_0_1': 0.120901704, 'kp_0_2': 0.008875965999999957, 'kp_0_3': 0.004602372999999993}, 'arg_0_62': {'kp_0_0': 0.99810759, 'kp_0_1': 0.0005829330000000077, 'kp_0_2': 9.703599999999479e-05, 'kp_0_3': 0.194015622}, 'arg_0_63': {'kp_0_0': 0.198646247, 'kp_0_1': 0.0031769280000000233, 'kp_0_2': 0.12069714099999995, 'kp_0_3': 0.081152797}, 'arg_0_64': {'kp_0_0': 4.935299999997422e-05, 'kp_0_1': 0.723227084, 'kp_0_2': 0.955103949, 'kp_0_3': 7.653200000001803e-05}, 'arg_0_65': {'kp_0_0': 0.008140028000000021, 'kp_0_1': 0.006789982000000028, 'kp_0_2': 0.772599295, 'kp_0_3': 0.0009638069999999832}, 'arg_0_66': {'kp_0_0': 6.544600000002454e-05, 'kp_0_1': 0.20781528900000001, 'kp_0_2': 0.949056674, 'kp_0_3': 0.00010323499999997932}, 'arg_0_67': {'kp_0_0': 0.0002402660000000445, 'kp_0_1': 0.6964094940000001, 'kp_0_2': 0.07806646800000006, 'kp_0_3': 0.0005571250000000472}, 'arg_0_68': {'kp_0_0': 0.883007765, 'kp_0_1': 0.232742071, 'kp_0_2': 0.22856003000000003, 'kp_0_3': 0.997718964}, 'arg_0_69': {'kp_0_0': 0.999828672, 'kp_0_1': 0.005082369000000031, 'kp_0_2': 0.00030231499999999745, 'kp_0_3': 0.356701136}, 'arg_0_70': {'kp_0_0': 0.999527842, 'kp_0_1': 0.005490243000000006, 'kp_0_2': 0.00030648700000002194, 'kp_0_3': 0.027816116999999974}, 'arg_0_71': {'kp_0_0': 0.929338478, 'kp_0_1': 0.0014733080000000065, 'kp_0_2': 0.00036764099999997413, 'kp_0_3': 0.953433063}, 'arg_0_72': {'kp_0_0': 0.0011129979999999762, 'kp_0_1': 0.629598588, 'kp_0_2': 0.924841724, 'kp_0_3': 0.00019913900000001483}, 'arg_0_73': {'kp_0_0': 0.999882828, 'kp_0_1': 0.0016965869999999716, 'kp_0_2': 0.0002350209999999464, 'kp_0_3': 0.934155092}, 'arg_0_74': {'kp_0_0': 0.9999087, 'kp_0_1': 0.003734766999999972, 'kp_0_2': 0.0007266400000000006, 'kp_0_3': 0.32838535300000005}, 'arg_0_75': {'kp_0_0': 5.2810000000014234e-05, 'kp_0_1': 0.5920189920000001, 'kp_0_2': 0.998832463, 'kp_0_3': 0.00014996499999997415}, 'arg_0_76': {'kp_0_0': 4.255799999997034e-05, 'kp_0_1': 0.000278055999999971, 'kp_0_2': 0.013180315000000054, 'kp_0_3': 0.0005311369999999593}, 'arg_0_77': {'kp_0_0': 0.0028716920000000368, 'kp_0_1': 0.009405970999999957, 'kp_0_2': 0.0012515779999999754, 'kp_0_3': 0.0012431139999999896}, 'arg_0_78': {'kp_0_0': 0.998701422, 'kp_0_1': 0.002283931000000017, 'kp_0_2': 0.000246704000000042, 'kp_0_3': 0.902534582}, 'arg_0_79': {'kp_0_0': 0.999311237, 'kp_0_1': 0.008231282000000006, 'kp_0_2': 0.0005102160000000078, 'kp_0_3': 0.991516731}, 'arg_0_80': {'kp_0_0': 0.999893029, 'kp_0_1': 0.0004003639999999864, 'kp_0_2': 8.332700000002191e-05, 'kp_0_3': 0.43092036199999995}, 'arg_0_81': {'kp_0_0': 0.00029426799999998643, 'kp_0_1': 0.911881588, 'kp_0_2': 0.995937795, 'kp_0_3': 0.00022262299999997737}, 'arg_0_82': {'kp_0_0': 0.999588225, 'kp_0_1': 0.0017419459999999942, 'kp_0_2': 0.0004350539999999903, 'kp_0_3': 0.19204831099999997}, 'arg_0_83': {'kp_0_0': 0.986913669, 'kp_0_1': 0.00026565800000000195, 'kp_0_2': 0.00013220300000005292, 'kp_0_3': 0.869448543}, 'arg_0_84': {'kp_0_0': 0.999883285, 'kp_0_1': 0.00023716699999998259, 'kp_0_2': 0.00018280699999995154, 'kp_0_3': 0.582622916}, 'arg_0_85': {'kp_0_0': 0.994171782, 'kp_0_1': 0.00014269399999999877, 'kp_0_2': 7.188300000005032e-05, 'kp_0_3': 0.19836849}, 'arg_0_86': {'kp_0_0': 0.9668091089999999, 'kp_0_1': 0.00018268799999998642, 'kp_0_2': 0.00010263899999995996, 'kp_0_3': 0.993680212}, 'arg_0_87': {'kp_0_0': 0.0018289089999999897, 'kp_0_1': 0.241613925, 'kp_0_2': 0.982187312, 'kp_0_3': 0.0010704400000000058}, 'arg_0_88': {'kp_0_0': 4.5179999999978016e-05, 'kp_0_1': 0.25224977699999995, 'kp_0_2': 0.665825695, 'kp_0_3': 6.782999999999095e-05}, 'arg_0_89': {'kp_0_0': 0.998095489, 'kp_0_1': 0.010762990000000028, 'kp_0_2': 0.0015044210000000335, 'kp_0_3': 0.856360286}, 'arg_0_90': {'kp_0_0': 0.00028663900000003295, 'kp_0_1': 0.19851624999999995, 'kp_0_2': 0.344087064, 'kp_0_3': 0.000796853999999958}, 'arg_0_91': {'kp_0_0': 0.0006973740000000284, 'kp_0_1': 0.19990319, 'kp_0_2': 0.998763731, 'kp_0_3': 0.0004675389999999613}, 'arg_0_92': {'kp_0_0': 0.9999014, 'kp_0_1': 0.00032865999999998063, 'kp_0_2': 0.00011646700000000898, 'kp_0_3': 0.36307710400000004}, 'arg_0_93': {'kp_0_0': 0.999889585, 'kp_0_1': 0.0005038979999999471, 'kp_0_2': 0.0001672510000000349, 'kp_0_3': 0.25860601699999997}, 'arg_0_94': {'kp_0_0': 0.99989814, 'kp_0_1': 0.0003498790000000529, 'kp_0_2': 0.00012540800000004904, 'kp_0_3': 0.32151681200000004}, 'arg_0_95': {'kp_0_0': 4.339200000003096e-05, 'kp_0_1': 0.5536857550000001, 'kp_0_2': 0.996064789, 'kp_0_3': 9.453299999995224e-05}, 'arg_0_96': {'kp_0_0': 0.00048756599999999484, 'kp_0_1': 0.051121831000000006, 'kp_0_2': 0.9116477590000001, 'kp_0_3': 0.001875579000000016}, 'arg_0_97': {'kp_0_0': 0.9999046, 'kp_0_1': 0.0005844830000000245, 'kp_0_2': 0.0002803209999999723, 'kp_0_3': 0.49908703600000004}, 'arg_0_98': {'kp_0_0': 0.9999009, 'kp_0_1': 0.0001478200000000207, 'kp_0_2': 7.06910000000116e-05, 'kp_0_3': 0.516637266}, 'arg_0_99': {'kp_0_0': 0.9999077, 'kp_0_1': 0.0007710459999999975, 'kp_0_2': 0.0002885459999999451, 'kp_0_3': 0.44141650200000004}, 'arg_0_100': {'kp_0_0': 4.243900000000522e-05, 'kp_0_1': 0.015456617000000006, 'kp_0_2': 0.993767566, 'kp_0_3': 8.297000000001553e-05}, 'arg_0_101': {'kp_0_0': 0.00018316500000004066, 'kp_0_1': 0.0008658769999999594, 'kp_0_2': 0.0011590120000000148, 'kp_0_3': 0.00038063499999996253}, 'arg_0_102': {'kp_0_0': 0.004190922000000041, 'kp_0_1': 0.012723982000000023, 'kp_0_2': 0.01002556099999996, 'kp_0_3': 0.0004789830000000439}, 'arg_0_103': {'kp_0_0': 0.998038224, 'kp_0_1': 0.014369786000000051, 'kp_0_2': 0.000898956999999978, 'kp_0_3': 0.21832692600000003}, 'arg_0_104': {'kp_0_0': 0.9999032, 'kp_0_1': 0.001410424999999993, 'kp_0_2': 0.00010287799999997294, 'kp_0_3': 0.6621381040000001}, 'arg_0_105': {'kp_0_0': 0.999895764, 'kp_0_1': 0.005373061000000012, 'kp_0_2': 0.00014197800000004257, 'kp_0_3': 0.607453048}, 'arg_0_106': {'kp_0_0': 0.0015972260000000071, 'kp_0_1': 0.017187536000000003, 'kp_0_2': 0.006178259999999991, 'kp_0_3': 0.011339306999999965}, 'arg_0_107': {'kp_0_0': 0.48836278899999996, 'kp_0_1': 0.0004476900000000006, 'kp_0_2': 0.00021201400000003812, 'kp_0_3': 0.747667402}, 'arg_0_108': {'kp_0_0': 0.99979291, 'kp_0_1': 0.00027447899999999414, 'kp_0_2': 8.392300000004127e-05, 'kp_0_3': 0.767928749}, 'arg_0_109': {'kp_0_0': 0.999885695, 'kp_0_1': 0.0033038850000000064, 'kp_0_2': 0.003476440999999997, 'kp_0_3': 0.780603096}, 'arg_0_110': {'kp_0_0': 0.999888625, 'kp_0_1': 0.00029331399999998897, 'kp_0_2': 8.797599999998962e-05, 'kp_0_3': 0.16724908400000005}, 'arg_0_111': {'kp_0_0': 0.98305021, 'kp_0_1': 0.001280546000000049, 'kp_0_2': 0.0001332760000000155, 'kp_0_3': 0.017073392999999992}, 'arg_0_112': {'kp_0_4': 0.14861673099999995, 'kp_0_5': 0.04695528699999996, 'kp_0_6': 0.981343724, 'kp_0_7': 0.9999032, 'kp_0_8': 0.999894634}, 'arg_0_113': {'kp_0_4': 0.299616337, 'kp_0_5': 0.02154624500000002, 'kp_0_6': 0.35235649300000005, 'kp_0_7': 0.9999059, 'kp_0_8': 0.964714289}, 'arg_0_114': {'kp_0_4': 0.45039957799999997, 'kp_0_5': 0.013977766000000003, 'kp_0_6': 0.983438887, 'kp_0_7': 0.012422562000000026, 'kp_0_8': 0.8852729500000001}, 'arg_0_115': {'kp_0_4': 0.05643439299999997, 'kp_0_5': 0.10291552500000001, 'kp_0_6': 0.993276437, 'kp_0_7': 0.99981717, 'kp_0_8': 0.9999084}, 'arg_0_116': {'kp_0_4': 0.462207496, 'kp_0_5': 0.024710059000000006, 'kp_0_6': 0.977946881, 'kp_0_7': 0.999891617, 'kp_0_8': 0.999896983}, 'arg_0_117': {'kp_0_4': 0.833012685, 'kp_0_5': 0.007085800000000031, 'kp_0_6': 0.622397959, 'kp_0_7': 0.427271485, 'kp_0_8': 0.659196049}, 'arg_0_118': {'kp_0_4': 0.27415782200000005, 'kp_0_5': 0.017695068999999952, 'kp_0_6': 0.38995200399999996, 'kp_0_7': 0.03887838099999996, 'kp_0_8': 0.7839316869999999}, 'arg_0_119': {'kp_0_4': 0.00028330099999995806, 'kp_0_5': 0.0005849599999999677, 'kp_0_6': 0.984788945, 'kp_0_7': 0.051755070999999986, 'kp_0_8': 0.028316914999999998}, 'arg_0_120': {'kp_0_4': 0.07067960500000003, 'kp_0_5': 0.026681602000000026, 'kp_0_6': 0.968156613, 'kp_0_7': 0.920251273, 'kp_0_8': 0.999883185}, 'arg_0_121': {'kp_0_4': 0.5423319639999999, 'kp_0_5': 0.016975284000000035, 'kp_0_6': 0.999882217, 'kp_0_7': 0.999561307, 'kp_0_8': 0.999899796}, 'arg_0_122': {'kp_0_4': 0.12261331099999995, 'kp_0_5': 0.054282367, 'kp_0_6': 0.03907918899999996, 'kp_0_7': 0.000552952000000051, 'kp_0_8': 0.671763748}, 'arg_0_123': {'kp_0_4': 0.20850956399999998, 'kp_0_5': 0.343604028, 'kp_0_6': 0.598231703, 'kp_0_7': 0.98944241, 'kp_0_8': 0.999868242}, 'arg_0_124': {'kp_0_4': 0.001846134999999971, 'kp_0_5': 0.004861772000000042, 'kp_0_6': 0.10687005500000002, 'kp_0_7': 0.0031946899999999445, 'kp_0_8': 0.02402120799999996}, 'arg_0_125': {'kp_0_4': 0.15692061199999996, 'kp_0_5': 0.820637032, 'kp_0_6': 0.22207051499999997, 'kp_0_7': 0.898969397, 'kp_0_8': 0.996594712}, 'arg_0_126': {'kp_0_4': 0.526356339, 'kp_0_5': 0.14851516499999995, 'kp_0_6': 0.615797728, 'kp_0_7': 0.999078963, 'kp_0_8': 0.999571707}, 'arg_0_127': {'kp_0_4': 0.230026662, 'kp_0_5': 0.497987509, 'kp_0_6': 0.999891237, 'kp_0_7': 0.904046468, 'kp_0_8': 0.9999055}, 'arg_0_128': {'kp_0_4': 0.03605866400000002, 'kp_0_5': 0.005402683999999991, 'kp_0_6': 0.09844005099999997, 'kp_0_7': 0.999895001, 'kp_0_8': 0.295743823}, 'arg_0_129': {'kp_0_4': 0.04561263299999996, 'kp_0_5': 0.014684439000000049, 'kp_0_6': 0.966443423, 'kp_0_7': 0.999898564, 'kp_0_8': 0.999870845}, 'arg_0_130': {'kp_0_4': 0.012821198000000034, 'kp_0_5': 0.021857499999999974, 'kp_0_6': 0.791594103, 'kp_0_7': 0.999779387, 'kp_0_8': 0.999890439}, 'arg_0_131': {'kp_0_4': 0.021741330999999975, 'kp_0_5': 0.008388817000000048, 'kp_0_6': 0.997334757, 'kp_0_7': 0.999895191, 'kp_0_8': 0.9999047}, 'arg_0_132': {'kp_0_4': 0.01619410499999996, 'kp_0_5': 0.0026019809999999755, 'kp_0_6': 0.01932108399999999, 'kp_0_7': 0.00015842899999995996, 'kp_0_8': 0.0006480810000000226}, 'arg_0_133': {'kp_0_4': 0.17185980099999998, 'kp_0_5': 0.606152475, 'kp_0_6': 0.958553284, 'kp_0_7': 0.999835263, 'kp_0_8': 0.9999059}, 'arg_0_134': {'kp_0_4': 0.14232921600000004, 'kp_0_5': 0.012391746000000037, 'kp_0_6': 0.999745149, 'kp_0_7': 0.999887602, 'kp_0_8': 0.999363321}, 'arg_0_135': {'kp_0_4': 0.368336797, 'kp_0_5': 0.08720987999999996, 'kp_0_6': 0.994729127, 'kp_0_7': 0.9999027, 'kp_0_8': 0.999898908}, 'arg_0_136': {'kp_0_4': 0.20806753600000005, 'kp_0_5': 0.010388076000000024, 'kp_0_6': 0.967451334, 'kp_0_7': 0.038028598000000025, 'kp_0_8': 0.060926854999999946}, 'arg_0_137': {'kp_0_4': 0.288699806, 'kp_0_5': 0.04485249499999999, 'kp_0_6': 0.392397702, 'kp_0_7': 0.993421821, 'kp_0_8': 0.999889613}, 'arg_0_138': {'kp_0_4': 0.18161225299999995, 'kp_0_5': 0.262998343, 'kp_0_6': 0.877192967, 'kp_0_7': 0.8787522839999999, 'kp_0_8': 0.999835415}, 'arg_0_139': {'kp_0_4': 0.223931015, 'kp_0_5': 0.017804205000000017, 'kp_0_6': 0.938073367, 'kp_0_7': 0.978247907, 'kp_0_8': 0.9999037}, 'arg_0_140': {'kp_0_4': 0.0008320809999999845, 'kp_0_5': 0.0002631549999999594, 'kp_0_6': 0.960531149, 'kp_0_7': 0.001202225999999973, 'kp_0_8': 0.035808026999999965}, 'arg_0_141': {'kp_0_4': 0.002414942000000031, 'kp_0_5': 0.0008019799999999799, 'kp_0_6': 0.32076877400000003, 'kp_0_7': 0.002038717000000023, 'kp_0_8': 0.666193724}, 'arg_0_142': {'kp_0_4': 0.24101918899999997, 'kp_0_5': 0.051901161999999945, 'kp_0_6': 0.999878228, 'kp_0_7': 0.999894062, 'kp_0_8': 0.9999059}, 'arg_0_143': {'kp_0_4': 0.001603781999999998, 'kp_0_5': 0.0010833740000000258, 'kp_0_6': 0.99973618, 'kp_0_7': 0.003527343000000016, 'kp_0_8': 0.13386184}, 'arg_0_144': {'kp_0_4': 0.861036673, 'kp_0_5': 0.125485301, 'kp_0_6': 0.999855672, 'kp_0_7': 0.999886055, 'kp_0_8': 0.9999071}, 'arg_0_145': {'kp_0_4': 0.08576303699999999, 'kp_0_5': 0.00569832299999995, 'kp_0_6': 0.801431149, 'kp_0_7': 0.013027012000000004, 'kp_0_8': 0.994688662}, 'arg_0_146': {'kp_0_4': 0.183183372, 'kp_0_5': 0.268087804, 'kp_0_6': 0.998684922, 'kp_0_7': 0.999885686, 'kp_0_8': 0.9999087}, 'arg_0_147': {'kp_0_4': 0.004439591999999992, 'kp_0_5': 0.00022560400000004588, 'kp_0_6': 0.42629677099999996, 'kp_0_7': 0.0010067820000000394, 'kp_0_8': 0.007445276000000001}, 'arg_0_148': {'kp_0_4': 0.003016770000000002, 'kp_0_5': 0.19523406, 'kp_0_6': 0.98511843, 'kp_0_7': 0.44448685600000004, 'kp_0_8': 0.90773581}, 'arg_0_149': {'kp_0_4': 0.32498467, 'kp_0_5': 0.044206261999999996, 'kp_0_6': 0.924236797, 'kp_0_7': 0.002941132000000013, 'kp_0_8': 0.805786863}, 'arg_0_150': {'kp_0_4': 0.0018581149999999935, 'kp_0_5': 0.006965875999999982, 'kp_0_6': 0.14553278700000005, 'kp_0_7': 0.266113579, 'kp_0_8': 0.0013238789999999723}, 'arg_0_151': {'kp_0_4': 0.06468605999999999, 'kp_0_5': 0.0020426510000000064, 'kp_0_6': 0.999895459, 'kp_0_7': 0.0027491450000000084, 'kp_0_8': 0.23038429000000005}, 'arg_0_152': {'kp_0_4': 0.00017249600000002197, 'kp_0_5': 0.019765138999999987, 'kp_0_6': 0.00017935000000002255, 'kp_0_7': 0.0001509189999999716, 'kp_0_8': 0.0005453229999999865}, 'arg_0_153': {'kp_0_4': 0.0035371180000000058, 'kp_0_5': 0.0008061529999999761, 'kp_0_6': 0.08370232600000005, 'kp_0_7': 0.0014026759999999916, 'kp_0_8': 0.10375046700000001}, 'arg_0_154': {'kp_0_4': 0.567948431, 'kp_0_5': 0.027707397999999994, 'kp_0_6': 0.973462652, 'kp_0_7': 0.981312901, 'kp_0_8': 0.999888326}, 'arg_0_155': {'kp_0_4': 0.23276740299999998, 'kp_0_5': 0.007655560999999977, 'kp_0_6': 0.868304148, 'kp_0_7': 0.013714552000000046, 'kp_0_8': 0.855076626}, 'arg_0_156': {'kp_0_4': 0.04418796300000005, 'kp_0_5': 0.02616703499999995, 'kp_0_6': 0.750047043, 'kp_0_7': 0.968986865, 'kp_0_8': 0.260076463}, 'arg_0_157': {'kp_0_4': 0.619727373, 'kp_0_5': 0.15538984499999997, 'kp_0_6': 0.946357384, 'kp_0_7': 0.99926426, 'kp_0_8': 0.999744005}, 'arg_0_158': {'kp_0_4': 0.554367721, 'kp_0_5': 0.031028747999999995, 'kp_0_6': 0.11489081400000001, 'kp_0_7': 0.894255884, 'kp_0_8': 0.844569981}, 'arg_0_159': {'kp_0_4': 0.10821640499999996, 'kp_0_5': 0.04700410399999999, 'kp_0_6': 0.232644737, 'kp_0_7': 0.999877025, 'kp_0_8': 0.877269946}, 'arg_0_160': {'kp_0_4': 0.005374014000000038, 'kp_0_5': 0.004075885000000001, 'kp_0_6': 0.574513346, 'kp_0_7': 0.01971530899999996, 'kp_0_8': 0.5090951619999999}, 'arg_0_161': {'kp_0_4': 0.011840701000000009, 'kp_0_5': 0.817692921, 'kp_0_6': 0.13232725899999997, 'kp_0_7': 0.0007069109999999768, 'kp_0_8': 0.727075279}, 'arg_0_162': {'kp_0_4': 0.23571616399999995, 'kp_0_5': 0.21322745099999996, 'kp_0_6': 0.999738574, 'kp_0_7': 0.992987541, 'kp_0_8': 0.998370224}, 'arg_0_163': {'kp_0_4': 0.338544905, 'kp_0_5': 0.11963087299999997, 'kp_0_6': 0.998012884, 'kp_0_7': 0.998852147, 'kp_0_8': 0.999897671}, 'arg_0_164': {'kp_0_4': 0.848280653, 'kp_0_5': 0.13636249300000003, 'kp_0_6': 0.9321969, 'kp_0_7': 0.990996959, 'kp_0_8': 0.999895966}, 'arg_0_165': {'kp_0_4': 0.24889642, 'kp_0_5': 0.09411162100000003, 'kp_0_6': 0.9999021, 'kp_0_7': 0.041037917000000035, 'kp_0_8': 0.999751119}, 'arg_0_166': {'kp_0_4': 0.10431754599999998, 'kp_0_5': 0.0031706689999999593, 'kp_0_6': 0.9999072, 'kp_0_7': 0.013104379000000055, 'kp_0_8': 0.999676039}, 'arg_0_167': {'kp_0_4': 0.0052349569999999845, 'kp_0_5': 0.0007660390000000517, 'kp_0_6': 0.9999019, 'kp_0_7': 0.02977681200000004, 'kp_0_8': 0.535809427}, 'arg_0_168': {'kp_0_4': 0.198316693, 'kp_0_5': 0.13530880199999995, 'kp_0_6': 0.571189255, 'kp_0_7': 0.96467679, 'kp_0_8': 0.92618376}, 'arg_0_169': {'kp_0_4': 0.39961421500000005, 'kp_0_5': 0.462147772, 'kp_0_6': 0.96709225, 'kp_0_7': 0.977109751, 'kp_0_8': 0.999882724}, 'arg_0_170': {'kp_0_4': 0.277778506, 'kp_0_5': 0.02044367800000002, 'kp_0_6': 0.67613402, 'kp_0_7': 0.999630451, 'kp_0_8': 0.703021973}, 'arg_0_171': {'kp_0_4': 0.13426959500000002, 'kp_0_5': 0.522632271, 'kp_0_6': 0.977677671, 'kp_0_7': 0.989903214, 'kp_0_8': 0.9999042}, 'arg_0_172': {'kp_0_4': 0.525066942, 'kp_0_5': 0.30510640099999997, 'kp_0_6': 0.591419548, 'kp_0_7': 0.998265546, 'kp_0_8': 0.999505329}, 'arg_0_173': {'kp_0_4': 0.05643117399999997, 'kp_0_5': 0.378503978, 'kp_0_6': 0.275934696, 'kp_0_7': 0.988486545, 'kp_0_8': 0.998464018}, 'arg_0_174': {'kp_0_4': 0.135632038, 'kp_0_5': 0.48274582600000004, 'kp_0_6': 0.99976782, 'kp_0_7': 0.982835675, 'kp_0_8': 0.999887172}, 'arg_0_175': {'kp_0_4': 0.734447122, 'kp_0_5': 0.21995353699999998, 'kp_0_6': 0.97647593, 'kp_0_7': 0.9999063, 'kp_0_8': 0.999888024}, 'arg_0_176': {'kp_0_4': 0.255381167, 'kp_0_5': 0.07023495400000002, 'kp_0_6': 0.7826593669999999, 'kp_0_7': 0.599214166, 'kp_0_8': 0.9999066}, 'arg_0_177': {'kp_0_4': 0.5452363490000001, 'kp_0_5': 0.09669071399999996, 'kp_0_6': 0.999895371, 'kp_0_7': 0.967334371, 'kp_0_8': 0.99988643}, 'arg_0_178': {'kp_0_4': 0.32594192, 'kp_0_5': 0.934840187, 'kp_0_6': 0.782740161, 'kp_0_7': 0.989237458, 'kp_0_8': 0.9999018}, 'arg_0_179': {'kp_0_4': 0.14492803799999998, 'kp_0_5': 0.04548609299999995, 'kp_0_6': 0.977085339, 'kp_0_7': 0.999903, 'kp_0_8': 0.999892769}, 'arg_0_180': {'kp_0_4': 0.17602473500000004, 'kp_0_5': 0.159014106, 'kp_0_6': 0.997385039, 'kp_0_7': 0.999895729, 'kp_0_8': 0.9999087}, 'arg_0_181': {'kp_0_4': 0.06904339800000003, 'kp_0_5': 0.05979800199999996, 'kp_0_6': 0.881627604, 'kp_0_7': 0.050462781999999984, 'kp_0_8': 0.927178837}, 'arg_0_182': {'kp_0_4': 0.545730948, 'kp_0_5': 0.156363904, 'kp_0_6': 0.9117459059999999, 'kp_0_7': 0.997521354, 'kp_0_8': 0.9999046}, 'arg_0_183': {'kp_0_4': 0.661076307, 'kp_0_5': 0.045264481999999995, 'kp_0_6': 0.985858493, 'kp_0_7': 0.987489894, 'kp_0_8': 0.999893029}, 'arg_0_184': {'kp_0_4': 0.0028716920000000368, 'kp_0_5': 0.0018203260000000387, 'kp_0_6': 0.894325115, 'kp_0_7': 0.7250198720000001, 'kp_0_8': 0.888343059}, 'arg_0_185': {'kp_0_4': 0.32127279, 'kp_0_5': 0.001422048000000009, 'kp_0_6': 0.05576980099999995, 'kp_0_7': 0.008949399000000025, 'kp_0_8': 0.004137873999999986}, 'arg_0_186': {'kp_0_4': 0.01796692600000005, 'kp_0_5': 0.0006639360000000316, 'kp_0_6': 0.11446356800000002, 'kp_0_7': 0.0014576910000000387, 'kp_0_8': 0.012182891000000029}, 'arg_0_187': {'kp_0_4': 0.639282525, 'kp_0_5': 0.10317874000000005, 'kp_0_6': 0.888075657, 'kp_0_7': 0.992394084, 'kp_0_8': 0.945783176}, 'arg_0_188': {'kp_0_4': 0.835182905, 'kp_0_5': 0.999861965, 'kp_0_6': 0.987594678, 'kp_0_7': 0.998401355, 'kp_0_8': 0.999665143}, 'arg_0_189': {'kp_0_4': 0.563094497, 'kp_0_5': 0.999880765, 'kp_0_6': 0.21075946099999998, 'kp_0_7': 0.0037021040000000394, 'kp_0_8': 0.05884188400000001}, 'arg_0_190': {'kp_0_4': 0.67019546, 'kp_0_5': 0.36024028100000005, 'kp_0_6': 0.844005212, 'kp_0_7': 0.999732259, 'kp_0_8': 0.995057819}, 'arg_0_191': {'kp_0_4': 0.686390638, 'kp_0_5': 0.31908083, 'kp_0_6': 0.999035918, 'kp_0_7': 0.999878333, 'kp_0_8': 0.99986743}, 'arg_0_192': {'kp_0_4': 0.0016635059999999813, 'kp_0_5': 0.0012317299999999864, 'kp_0_6': 0.02368658800000001, 'kp_0_7': 0.000349998000000018, 'kp_0_8': 0.0010969640000000336}, 'arg_0_193': {'kp_0_4': 0.18212252900000003, 'kp_0_5': 0.026885151999999968, 'kp_0_6': 0.965078074, 'kp_0_7': 0.999692456, 'kp_0_8': 0.999771367}, 'arg_0_194': {'kp_0_4': 0.060275018000000014, 'kp_0_5': 0.999880927, 'kp_0_6': 0.07684791099999999, 'kp_0_7': 0.0017502900000000432, 'kp_0_8': 0.021821438999999998}, 'arg_0_195': {'kp_0_4': 0.997381263, 'kp_0_5': 0.003114521999999953, 'kp_0_6': 0.194689393, 'kp_0_7': 0.0022640229999999484, 'kp_0_8': 0.021856247999999967}, 'arg_0_196': {'kp_0_4': 0.524693549, 'kp_0_5': 0.16417777499999997, 'kp_0_6': 0.997439504, 'kp_0_7': 0.999102392, 'kp_0_8': 0.999819392}, 'arg_0_197': {'kp_0_4': 0.13699328899999996, 'kp_0_5': 0.10195720200000002, 'kp_0_6': 0.994311084, 'kp_0_7': 0.999891174, 'kp_0_8': 0.9999006}, 'arg_0_198': {'kp_0_4': 0.691001177, 'kp_0_5': 0.11943715799999999, 'kp_0_6': 0.934766673, 'kp_0_7': 0.999883251, 'kp_0_8': 0.9999064}, 'arg_0_199': {'kp_0_4': 0.05171495699999995, 'kp_0_5': 0.0037118200000000323, 'kp_0_6': 0.24490213400000005, 'kp_0_7': 0.002963185000000035, 'kp_0_8': 0.018990755000000026}, 'arg_0_200': {'kp_0_4': 0.013130724000000038, 'kp_0_5': 0.0016970630000000542, 'kp_0_6': 0.36578387, 'kp_0_7': 0.0033486489999999813, 'kp_0_8': 0.02184182400000001}, 'arg_0_201': {'kp_0_4': 0.32316297299999996, 'kp_0_5': 0.028262675000000015, 'kp_0_6': 0.442352474, 'kp_0_7': 0.998189244, 'kp_0_8': 0.917623155}, 'arg_0_202': {'kp_0_4': 0.93437165, 'kp_0_5': 0.996165249, 'kp_0_6': 0.978291294, 'kp_0_7': 0.996776565, 'kp_0_8': 0.999539791}, 'arg_0_203': {'kp_0_4': 0.26953047500000005, 'kp_0_5': 0.03761351099999999, 'kp_0_6': 0.998008806, 'kp_0_7': 0.997775511, 'kp_0_8': 0.9999071}, 'arg_0_204': {'kp_0_4': 0.768638611, 'kp_0_5': 0.998199296, 'kp_0_6': 0.11696898899999997, 'kp_0_7': 0.005623221000000012, 'kp_0_8': 0.16336190699999997}, 'arg_0_205': {'kp_0_4': 0.780177608, 'kp_0_5': 0.99760062, 'kp_0_6': 0.10523593399999998, 'kp_0_7': 0.005659103000000054, 'kp_0_8': 0.13369929800000002}, 'arg_0_206': {'kp_0_4': 0.39045065599999995, 'kp_0_5': 0.17213892900000005, 'kp_0_6': 0.964734551, 'kp_0_7': 0.872644544, 'kp_0_8': 0.999890153}, 'arg_0_207': {'kp_0_4': 0.226160884, 'kp_0_5': 0.6926916839999999, 'kp_0_6': 0.389432192, 'kp_0_7': 0.01750189099999999, 'kp_0_8': 0.998549711}, 'arg_0_208': {'kp_0_4': 0.998773335, 'kp_0_5': 0.999799189, 'kp_0_6': 0.14560222599999995, 'kp_0_7': 0.003379941000000053, 'kp_0_8': 0.23965323000000005}, 'arg_0_209': {'kp_0_4': 0.06248652899999996, 'kp_0_5': 0.01619464199999998, 'kp_0_6': 0.999807844, 'kp_0_7': 0.13588970899999997, 'kp_0_8': 0.999776391}, 'arg_0_210': {'kp_0_4': 0.7368493970000001, 'kp_0_5': 0.314418077, 'kp_0_6': 0.999707368, 'kp_0_7': 0.9999006, 'kp_0_8': 0.9999059}, 'arg_0_211': {'kp_0_4': 0.302105069, 'kp_0_5': 0.775870338, 'kp_0_6': 0.994277575, 'kp_0_7': 0.998270977, 'kp_0_8': 0.999796328}, 'arg_0_212': {'kp_0_4': 0.275123596, 'kp_0_5': 0.37334412299999997, 'kp_0_6': 0.24193751799999996, 'kp_0_7': 0.978168931, 'kp_0_8': 0.99484345}, 'arg_0_213': {'kp_0_4': 0.971790586, 'kp_0_5': 0.822497606, 'kp_0_6': 0.924154907, 'kp_0_7': 0.999747403, 'kp_0_8': 0.963061277}, 'arg_0_214': {'kp_0_4': 0.47582232999999996, 'kp_0_5': 0.25063765000000005, 'kp_0_6': 0.701962084, 'kp_0_7': 0.988118758, 'kp_0_8': 0.999831429}, 'arg_0_215': {'kp_0_4': 0.818310395, 'kp_0_5': 0.09440457800000002, 'kp_0_6': 0.999457673, 'kp_0_7': 0.999698657, 'kp_0_8': 0.999814592}, 'arg_0_216': {'kp_0_4': 0.315933287, 'kp_0_5': 0.21565216799999998, 'kp_0_6': 0.821079239, 'kp_0_7': 0.991923803, 'kp_0_8': 0.9999035}, 'arg_0_217': {'kp_0_4': 0.423338652, 'kp_0_5': 0.99982681, 'kp_0_6': 0.999866831, 'kp_0_7': 0.997049937, 'kp_0_8': 0.9999042}, 'arg_0_218': {'kp_0_4': 0.932000056, 'kp_0_5': 0.99984353, 'kp_0_6': 0.998970846, 'kp_0_7': 0.998971461, 'kp_0_8': 0.999801587}, 'arg_0_219': {'kp_0_4': 0.14254653500000003, 'kp_0_5': 0.043331503999999965, 'kp_0_6': 0.45489561599999995, 'kp_0_7': 0.11661684500000002, 'kp_0_8': 0.999796476}, 'arg_0_220': {'kp_0_4': 0.07489246100000002, 'kp_0_5': 0.018490433999999945, 'kp_0_6': 0.468154132, 'kp_0_7': 0.143566191, 'kp_0_8': 0.999863772}, 'arg_0_221': {'kp_0_4': 0.0002600550000000368, 'kp_0_5': 0.0007153149999999941, 'kp_0_6': 0.29558968500000005, 'kp_0_7': 0.0010159610000000097, 'kp_0_8': 0.019317150000000005}, 'arg_0_222': {'kp_0_4': 0.0010440350000000542, 'kp_0_5': 0.04988586900000003, 'kp_0_6': 0.119539022, 'kp_0_7': 0.0017549989999999793, 'kp_0_8': 0.13166820999999995}, 'arg_0_223': {'kp_0_4': 0.25611162200000004, 'kp_0_5': 0.03600281500000002, 'kp_0_6': 0.829470664, 'kp_0_7': 0.97450421, 'kp_0_8': 0.991852588}, 'arg_0_224': {'kp_0_4': 0.45716923499999995, 'kp_0_5': 0.43827545599999995, 'kp_0_6': 0.556500405, 'kp_0_7': 0.013382018000000051, 'kp_0_8': 0.99965797}, 'arg_0_225': {'kp_0_4': 0.0017590520000000387, 'kp_0_5': 0.99987085, 'kp_0_6': 0.847861379, 'kp_0_7': 0.0007768870000000039, 'kp_0_8': 0.026420413999999948}, 'arg_0_226': {'kp_0_4': 0.5192297100000001, 'kp_0_5': 0.067717731, 'kp_0_6': 0.19726741299999995, 'kp_0_7': 0.0006115439999999639, 'kp_0_8': 0.05348461900000001}, 'arg_0_227': {'kp_0_4': 0.0010951759999999755, 'kp_0_5': 0.00451791300000004, 'kp_0_6': 0.932237625, 'kp_0_7': 0.001518547999999953, 'kp_0_8': 0.008083880000000043}, 'arg_0_228': {'kp_0_4': 0.07222241200000001, 'kp_0_5': 0.005033909999999975, 'kp_0_6': 0.999321948, 'kp_0_7': 0.005679011000000012, 'kp_0_8': 0.990462274}, 'arg_0_229': {'kp_0_4': 0.49254632, 'kp_0_5': 0.005884290000000014, 'kp_0_6': 0.908564039, 'kp_0_7': 0.999611125, 'kp_0_8': 0.992041503}, 'arg_0_230': {'kp_0_4': 0.04987627299999997, 'kp_0_5': 0.020811617000000004, 'kp_0_6': 0.999886221, 'kp_0_7': 0.999896694, 'kp_0_8': 0.999878406}, 'arg_0_231': {'kp_0_4': 0.22797066, 'kp_0_5': 0.05147135300000005, 'kp_0_6': 0.758079097, 'kp_0_7': 0.0004560350000000213, 'kp_0_8': 0.999898208}, 'arg_0_232': {'kp_0_4': 0.03448617499999995, 'kp_0_5': 0.0002899769999999968, 'kp_0_6': 0.022921502999999954, 'kp_0_7': 0.001392901000000002, 'kp_0_8': 0.012342095000000053}, 'arg_0_233': {'kp_0_4': 0.06300091699999999, 'kp_0_5': 0.015627146000000036, 'kp_0_6': 0.976535385, 'kp_0_7': 0.0041806699999999974, 'kp_0_8': 0.999638017}, 'arg_0_234': {'kp_0_4': 0.07798618099999999, 'kp_0_5': 0.007647932000000024, 'kp_0_6': 0.995558613, 'kp_0_7': 0.643380016, 'kp_0_8': 0.986143312}, 'arg_0_235': {'kp_0_4': 0.09687644200000001, 'kp_0_5': 0.046295643, 'kp_0_6': 0.022717953000000013, 'kp_0_7': 0.0024124380000000167, 'kp_0_8': 0.055273652000000006}, 'arg_0_236': {'kp_0_4': 0.0007836820000000078, 'kp_0_5': 0.00046694300000005295, 'kp_0_6': 0.999889798, 'kp_0_7': 0.004270016999999959, 'kp_0_8': 0.6682994369999999}, 'arg_0_237': {'kp_0_4': 0.5295179489999999, 'kp_0_5': 0.05405050499999997, 'kp_0_6': 0.6014927919999999, 'kp_0_7': 0.999291682, 'kp_0_8': 0.999514335}, 'arg_0_238': {'kp_0_4': 0.604211032, 'kp_0_5': 0.8147493299999999, 'kp_0_6': 0.04480135399999996, 'kp_0_7': 0.012349426999999968, 'kp_0_8': 0.999712478}, 'arg_0_239': {'kp_0_4': 0.03043705200000002, 'kp_0_5': 0.475088775, 'kp_0_6': 0.09770184800000004, 'kp_0_7': 0.00080746399999998, 'kp_0_8': 0.015821277999999994}, 'arg_0_240': {'kp_0_4': 0.234124899, 'kp_0_5': 0.02526438200000003, 'kp_0_6': 0.451826811, 'kp_0_7': 0.0012327429999999806, 'kp_0_8': 0.95151145}, 'arg_0_241': {'kp_0_4': 0.07490664700000005, 'kp_0_5': 0.020535289999999984, 'kp_0_6': 0.13550305399999996, 'kp_0_7': 0.004974306000000039, 'kp_0_8': 0.011295617000000036}, 'arg_0_242': {'kp_0_4': 0.001977682000000036, 'kp_0_5': 0.01643472899999998, 'kp_0_6': 0.146749735, 'kp_0_7': 0.0010954140000000168, 'kp_0_8': 0.17104077299999998}, 'arg_0_243': {'kp_0_4': 0.02981531599999998, 'kp_0_5': 0.01122498500000002, 'kp_0_6': 0.826052234, 'kp_0_7': 0.683356434, 'kp_0_8': 0.26764822}, 'arg_0_244': {'kp_0_4': 0.0007278320000000393, 'kp_0_5': 0.00023442500000003808, 'kp_0_6': 0.99937557, 'kp_0_7': 0.0003341439999999807, 'kp_0_8': 0.12080579999999996}, 'arg_0_245': {'kp_0_4': 0.880328104, 'kp_0_5': 0.602917165, 'kp_0_6': 0.998741313, 'kp_0_7': 0.010606647000000025, 'kp_0_8': 0.996187227}, 'arg_0_246': {'kp_0_4': 0.7030178309999999, 'kp_0_5': 0.5217543840000001, 'kp_0_6': 0.959601108, 'kp_0_7': 0.999891642, 'kp_0_8': 0.9999071}, 'arg_0_247': {'kp_0_4': 0.0002512340000000446, 'kp_0_5': 0.00035893899999994705, 'kp_0_6': 0.020830809999999977, 'kp_0_7': 0.00020045000000001867, 'kp_0_8': 0.005692660999999988}, 'arg_0_248': {'kp_0_4': 0.18004649900000003, 'kp_0_5': 0.09242606200000003, 'kp_0_6': 0.768592387, 'kp_0_7': 0.999482285, 'kp_0_8': 0.999905}, 'arg_0_249': {'kp_0_4': 0.426095307, 'kp_0_5': 0.11065596300000002, 'kp_0_6': 0.22558814299999996, 'kp_0_7': 0.0010235309999999664, 'kp_0_8': 0.9999064}, 'arg_0_250': {'kp_0_4': 0.24827277699999994, 'kp_0_5': 0.038355052, 'kp_0_6': 0.993324018, 'kp_0_7': 0.998823188, 'kp_0_8': 0.999780033}, 'arg_0_251': {'kp_0_4': 0.00019234400000001095, 'kp_0_5': 0.00036191900000004384, 'kp_0_6': 0.024772762999999975, 'kp_0_7': 0.0006113049999999509, 'kp_0_8': 0.0029697419999999974}, 'arg_0_252': {'kp_0_4': 0.0031025409999999587, 'kp_0_5': 0.00298774199999996, 'kp_0_6': 0.11156946400000001, 'kp_0_7': 0.004343033000000052, 'kp_0_8': 0.021582305000000024}, 'arg_0_253': {'kp_0_4': 0.232795894, 'kp_0_5': 0.000615119999999969, 'kp_0_6': 0.976375662, 'kp_0_7': 0.0031870010000000226, 'kp_0_8': 0.22588664300000005}, 'arg_0_254': {'kp_0_4': 0.00010228199999995358, 'kp_0_5': 8.55920000000232e-05, 'kp_0_6': 0.015660644, 'kp_0_7': 0.0002626780000000162, 'kp_0_8': 0.0028235909999999587}, 'arg_0_255': {'kp_0_4': 0.10732954699999997, 'kp_0_5': 0.812739819, 'kp_0_6': 0.998318932, 'kp_0_7': 0.996204762, 'kp_0_8': 0.9999005}, 'arg_0_256': {'kp_0_4': 0.0007330779999999981, 'kp_0_5': 0.0008725520000000264, 'kp_0_6': 0.9998062, 'kp_0_7': 0.013919890000000046, 'kp_0_8': 0.05938255800000003}, 'arg_0_257': {'kp_0_4': 0.10680633799999995, 'kp_0_5': 0.10872387900000002, 'kp_0_6': 0.38397437300000004, 'kp_0_7': 0.0032042860000000006, 'kp_0_8': 0.05935543799999998}, 'arg_0_258': {'kp_0_4': 0.031731248000000045, 'kp_0_5': 0.134052634, 'kp_0_6': 0.726366311, 'kp_0_7': 0.0028650759999999664, 'kp_0_8': 0.999808145}, 'arg_0_259': {'kp_0_4': 0.10599398599999998, 'kp_0_5': 0.03664118100000002, 'kp_0_6': 0.7030549349999999, 'kp_0_7': 0.999838635, 'kp_0_8': 0.856332511}, 'arg_0_260': {'kp_0_4': 0.0037395949999999845, 'kp_0_5': 0.01616907099999998, 'kp_0_6': 0.956192497, 'kp_0_7': 0.0035806889999999703, 'kp_0_8': 0.03969192499999996}, 'arg_0_261': {'kp_0_4': 0.161570549, 'kp_0_5': 0.007562458999999966, 'kp_0_6': 0.999727157, 'kp_0_7': 0.999848785, 'kp_0_8': 0.975183373}, 'arg_0_262': {'kp_0_4': 0.029869794999999977, 'kp_0_5': 0.01540702599999999, 'kp_0_6': 0.9228886590000001, 'kp_0_7': 0.842913583, 'kp_0_8': 0.649161458}, 'arg_0_263': {'kp_0_4': 0.19789189100000004, 'kp_0_5': 0.007339716000000052, 'kp_0_6': 0.32527059300000005, 'kp_0_7': 0.950384878, 'kp_0_8': 0.963240549}, 'arg_0_264': {'kp_0_4': 0.0064821240000000335, 'kp_0_5': 0.0005626079999999645, 'kp_0_6': 0.992431546, 'kp_0_7': 0.012023985000000015, 'kp_0_8': 0.49828481700000005}, 'arg_0_265': {'kp_0_4': 0.13762205800000005, 'kp_0_5': 0.022096812999999993, 'kp_0_6': 0.973112287, 'kp_0_7': 0.998974957, 'kp_0_8': 0.999706849}, 'arg_0_266': {'kp_0_4': 0.17407226600000003, 'kp_0_5': 0.004184783000000025, 'kp_0_6': 0.999884959, 'kp_0_7': 0.016540228999999962, 'kp_0_8': 0.803592682}, 'arg_0_267': {'kp_0_4': 0.570876062, 'kp_0_5': 0.31310147, 'kp_0_6': 0.976942692, 'kp_0_7': 0.999869451, 'kp_0_8': 0.999756811}, 'arg_0_268': {'kp_0_4': 0.0022083520000000245, 'kp_0_5': 0.05166137199999998, 'kp_0_6': 0.999896779, 'kp_0_7': 0.01592898399999998, 'kp_0_8': 0.8732987640000001}, 'arg_0_269': {'kp_0_4': 0.0006046299999999949, 'kp_0_5': 0.003484248999999995, 'kp_0_6': 0.34779876499999995, 'kp_0_7': 0.0010771160000000446, 'kp_0_8': 0.00707459399999999}, 'arg_0_270': {'kp_0_4': 0.482519805, 'kp_0_5': 0.259695649, 'kp_0_6': 0.856720477, 'kp_0_7': 0.997238018, 'kp_0_8': 0.982681883}, 'arg_0_271': {'kp_0_4': 0.005644678999999986, 'kp_0_5': 0.014034628999999965, 'kp_0_6': 0.5444013480000001, 'kp_0_7': 0.001522123999999958, 'kp_0_8': 0.01135843999999997}, 'arg_0_272': {'kp_0_4': 0.394681513, 'kp_0_5': 0.301173747, 'kp_0_6': 0.742813349, 'kp_0_7': 0.982015012, 'kp_0_8': 0.995219951}, 'arg_0_273': {'kp_0_4': 0.297614634, 'kp_0_5': 0.08723926500000001, 'kp_0_6': 0.945859272, 'kp_0_7': 0.998803074, 'kp_0_8': 0.999891758}, 'arg_0_274': {'kp_0_4': 0.0002868769999999632, 'kp_0_5': 0.0002534990000000459, 'kp_0_6': 0.035514712000000004, 'kp_0_7': 0.0005037780000000103, 'kp_0_8': 0.002162874000000037}, 'arg_0_275': {'kp_0_4': 0.421050668, 'kp_0_5': 0.27704644199999995, 'kp_0_6': 0.961613044, 'kp_0_7': 0.999191472, 'kp_0_8': 0.999908}, 'arg_0_276': {'kp_0_4': 0.032207428999999954, 'kp_0_5': 0.025974452000000037, 'kp_0_6': 0.854759723, 'kp_0_7': 0.989381392, 'kp_0_8': 0.999585495}, 'arg_0_277': {'kp_0_4': 0.865920693, 'kp_0_5': 0.06477719500000001, 'kp_0_6': 0.526925862, 'kp_0_7': 0.939571187, 'kp_0_8': 0.995559558}, 'arg_0_278': {'kp_0_4': 0.610376179, 'kp_0_5': 0.939934943, 'kp_0_6': 0.999213729, 'kp_0_7': 0.999899919, 'kp_0_8': 0.999908}, 'arg_0_279': {'kp_0_4': 0.534180522, 'kp_0_5': 0.991010129, 'kp_0_6': 0.999735689, 'kp_0_7': 0.999803981, 'kp_0_8': 0.9999076}, 'arg_1_0': {'kp_1_0': 0.29700690500000004, 'kp_1_1': 0.04076194799999999, 'kp_1_2': 0.056031406000000006, 'kp_1_3': 0.772177458, 'kp_1_4': 0.05309921500000003}, 'arg_1_1': {'kp_1_0': 0.0021039250000000065, 'kp_1_1': 0.999889863, 'kp_1_2': 0.969378656, 'kp_1_3': 0.906420246, 'kp_1_4': 0.005877197000000001}, 'arg_1_2': {'kp_1_0': 0.00035357499999999487, 'kp_1_1': 0.207423389, 'kp_1_2': 0.999666992, 'kp_1_3': 0.010285556000000029, 'kp_1_4': 0.002214193000000031}, 'arg_1_3': {'kp_1_0': 0.00017291299999999676, 'kp_1_1': 0.072079122, 'kp_1_2': 0.999876067, 'kp_1_3': 0.02926033699999997, 'kp_1_4': 0.0004858970000000129}, 'arg_1_4': {'kp_1_0': 0.0007115600000000555, 'kp_1_1': 0.053073704, 'kp_1_2': 0.999675244, 'kp_1_3': 0.011000930999999992, 'kp_1_4': 0.47824502}, 'arg_1_5': {'kp_1_0': 0.0055937769999999665, 'kp_1_1': 0.0006054639999999445, 'kp_1_2': 0.0023464560000000523, 'kp_1_3': 0.17444527099999996, 'kp_1_4': 0.04670327900000004}, 'arg_1_6': {'kp_1_0': 0.00045740599999999354, 'kp_1_1': 0.173739254, 'kp_1_2': 0.999773771, 'kp_1_3': 0.317864597, 'kp_1_4': 0.03165638400000004}, 'arg_1_7': {'kp_1_0': 0.003831923000000015, 'kp_1_1': 0.02379870399999995, 'kp_1_2': 0.91985853, 'kp_1_3': 0.11708861599999998, 'kp_1_4': 0.002603054000000049}, 'arg_1_8': {'kp_1_0': 0.0005477069999999529, 'kp_1_1': 0.011981368000000048, 'kp_1_2': 0.13194394099999995, 'kp_1_3': 0.050808191, 'kp_1_4': 0.0012711880000000342}, 'arg_1_9': {'kp_1_0': 0.0014698509999999665, 'kp_1_1': 0.05136883299999995, 'kp_1_2': 0.9999025, 'kp_1_3': 0.599730164, 'kp_1_4': 0.03208738600000005}, 'arg_1_10': {'kp_1_0': 9.012200000002579e-05, 'kp_1_1': 0.09212833600000003, 'kp_1_2': 0.9999067, 'kp_1_3': 0.013707519000000001, 'kp_1_4': 0.0011434559999999871}, 'arg_1_11': {'kp_1_0': 0.0011483429999999961, 'kp_1_1': 0.731920779, 'kp_1_2': 0.999797084, 'kp_1_3': 0.565316886, 'kp_1_4': 0.006530284999999969}, 'arg_1_12': {'kp_1_0': 0.00018054199999995024, 'kp_1_1': 0.16296583399999998, 'kp_1_2': 0.999851832, 'kp_1_3': 0.004495202999999948, 'kp_1_4': 0.0004987720000000362}, 'arg_1_13': {'kp_1_0': 0.0031218530000000078, 'kp_1_1': 0.614183009, 'kp_1_2': 0.071693122, 'kp_1_3': 0.266653657, 'kp_1_4': 0.00026494300000001747}, 'arg_1_14': {'kp_1_0': 0.0004331469999999671, 'kp_1_1': 0.08184283999999997, 'kp_1_2': 0.99982722, 'kp_1_3': 0.013223588000000008, 'kp_1_4': 0.0008650420000000381}, 'arg_1_15': {'kp_1_0': 0.030846715000000025, 'kp_1_1': 0.998548831, 'kp_1_2': 0.579551905, 'kp_1_3': 0.984329343, 'kp_1_4': 0.002649784000000044}, 'arg_1_16': {'kp_1_0': 0.009648144000000025, 'kp_1_1': 0.556800961, 'kp_1_2': 0.998876653, 'kp_1_3': 0.44752413, 'kp_1_4': 0.10005182000000001}, 'arg_1_17': {'kp_1_0': 0.00424730799999995, 'kp_1_1': 0.07731378099999997, 'kp_1_2': 0.09399342499999996, 'kp_1_3': 0.03595107799999997, 'kp_1_4': 0.002981067000000004}, 'arg_1_18': {'kp_1_0': 0.0016533140000000168, 'kp_1_1': 0.207323194, 'kp_1_2': 0.999886806, 'kp_1_3': 0.006444871000000019, 'kp_1_4': 0.004337013000000001}, 'arg_1_19': {'kp_1_0': 0.0054768320000000426, 'kp_1_1': 0.261679232, 'kp_1_2': 0.465779245, 'kp_1_3': 0.15527409299999995, 'kp_1_4': 0.14049714800000002}, 'arg_1_20': {'kp_1_0': 0.02065592999999999, 'kp_1_1': 0.400251687, 'kp_1_2': 0.989376086, 'kp_1_3': 0.915796943, 'kp_1_4': 0.028657257999999963}, 'arg_1_21': {'kp_1_0': 0.00506717000000001, 'kp_1_1': 0.118865848, 'kp_1_2': 0.976706406, 'kp_1_3': 0.17127549600000003, 'kp_1_4': 0.13203585100000004}, 'arg_1_22': {'kp_1_0': 0.0007476210000000316, 'kp_1_1': 0.11333143700000003, 'kp_1_2': 0.996684219, 'kp_1_3': 0.007542132999999951, 'kp_1_4': 0.002030313000000006}, 'arg_1_23': {'kp_1_0': 0.0007955429999999541, 'kp_1_1': 0.183774412, 'kp_1_2': 0.999720959, 'kp_1_3': 0.09613180200000004, 'kp_1_4': 0.0018858910000000284}, 'arg_1_24': {'kp_1_0': 0.0034921770000000407, 'kp_1_1': 0.07869261500000002, 'kp_1_2': 0.999851087, 'kp_1_3': 0.006880522, 'kp_1_4': 0.0009966489999999606}, 'arg_1_25': {'kp_1_0': 0.0019902590000000497, 'kp_1_1': 0.993932465, 'kp_1_2': 0.99989836, 'kp_1_3': 0.0027104620000000246, 'kp_1_4': 0.0018491149999999568}, 'arg_1_26': {'kp_1_0': 0.04497885700000004, 'kp_1_1': 0.99834217, 'kp_1_2': 0.998067373, 'kp_1_3': 0.721563935, 'kp_1_4': 0.0058278440000000264}, 'arg_1_27': {'kp_1_0': 0.12828815000000005, 'kp_1_1': 0.9482096250000001, 'kp_1_2': 0.999216594, 'kp_1_3': 0.951483924, 'kp_1_4': 0.05210405600000001}, 'arg_1_28': {'kp_1_0': 0.00023359099999997746, 'kp_1_1': 0.025381266999999985, 'kp_1_2': 0.999882997, 'kp_1_3': 0.010013162999999992, 'kp_1_4': 0.0008210539999999877}, 'arg_1_29': {'kp_1_0': 0.001074373999999989, 'kp_1_1': 0.999335997, 'kp_1_2': 0.99965789, 'kp_1_3': 0.705618858, 'kp_1_4': 0.00606781199999995}, 'arg_1_30': {'kp_1_0': 0.002906202999999996, 'kp_1_1': 0.005410193999999979, 'kp_1_2': 0.025488913000000002, 'kp_1_3': 0.015929340999999986, 'kp_1_4': 0.0009094480000000349}, 'arg_1_31': {'kp_1_0': 0.005851983999999977, 'kp_1_1': 0.983948359, 'kp_1_2': 0.84926261, 'kp_1_3': 0.850740284, 'kp_1_4': 0.026507974000000045}, 'arg_1_32': {'kp_1_0': 0.00031804999999995864, 'kp_1_1': 0.502363324, 'kp_1_2': 0.9999034, 'kp_1_3': 0.08698982, 'kp_1_4': 0.006233573000000048}, 'arg_1_33': {'kp_1_0': 0.0007081030000000155, 'kp_1_1': 0.899513751, 'kp_1_2': 0.999879239, 'kp_1_3': 0.00526845499999995, 'kp_1_4': 0.0008656379999999464}, 'arg_1_34': {'kp_1_0': 0.013320863000000016, 'kp_1_1': 0.840481102, 'kp_1_2': 0.572520673, 'kp_1_3': 0.770940036, 'kp_1_4': 0.112416387}, 'arg_1_35': {'kp_1_0': 0.11972618099999999, 'kp_1_1': 0.987874199, 'kp_1_2': 0.988447471, 'kp_1_3': 0.998072031, 'kp_1_4': 0.733648598}, 'arg_1_36': {'kp_1_0': 0.008465170999999994, 'kp_1_1': 0.999345245, 'kp_1_2': 0.618123502, 'kp_1_3': 0.864237726, 'kp_1_4': 0.04728132500000004}, 'arg_1_37': {'kp_1_0': 0.03083473400000003, 'kp_1_1': 0.820491403, 'kp_1_2': 0.6159274880000001, 'kp_1_3': 0.882661149, 'kp_1_4': 0.21265596200000003}, 'arg_1_38': {'kp_1_0': 0.0001749399999999568, 'kp_1_1': 0.374826491, 'kp_1_2': 0.999649164, 'kp_1_3': 0.460236073, 'kp_1_4': 0.002605199999999974}, 'arg_1_39': {'kp_1_0': 0.015056968000000004, 'kp_1_1': 0.575903922, 'kp_1_2': 0.981906651, 'kp_1_3': 0.80840978, 'kp_1_4': 0.015838503999999975}, 'arg_1_40': {'kp_1_0': 0.36467576, 'kp_1_1': 0.845351651, 'kp_1_2': 0.670375794, 'kp_1_3': 0.967620846, 'kp_1_4': 0.07970154299999999}, 'arg_1_41': {'kp_1_0': 8.583100000003618e-05, 'kp_1_1': 0.06994014999999998, 'kp_1_2': 0.999097601, 'kp_1_3': 0.287496269, 'kp_1_4': 0.0020046230000000387}, 'arg_1_42': {'kp_1_0': 0.007569730000000052, 'kp_1_1': 0.574192226, 'kp_1_2': 0.8079160750000001, 'kp_1_3': 0.931200065, 'kp_1_4': 0.05703777099999996}, 'arg_1_43': {'kp_1_0': 0.010713100000000031, 'kp_1_1': 0.991847839, 'kp_1_2': 0.5008914170000001, 'kp_1_3': 0.835668311, 'kp_1_4': 0.04128384600000001}, 'arg_1_44': {'kp_1_0': 0.050482213, 'kp_1_1': 0.283918798, 'kp_1_2': 0.135826766, 'kp_1_3': 0.566539645, 'kp_1_4': 0.03921139200000001}, 'arg_1_45': {'kp_1_0': 0.00011313000000001683, 'kp_1_1': 0.23150414200000002, 'kp_1_2': 0.99937655, 'kp_1_3': 0.22826385500000002, 'kp_1_4': 0.0014371279999999542}, 'arg_1_46': {'kp_1_0': 0.005228102000000012, 'kp_1_1': 0.999876437, 'kp_1_2': 0.989350961, 'kp_1_3': 0.632346362, 'kp_1_4': 0.007911562999999955}, 'arg_1_47': {'kp_1_0': 0.016073762999999963, 'kp_1_1': 0.18884754199999998, 'kp_1_2': 0.030141591999999995, 'kp_1_3': 0.800186962, 'kp_1_4': 0.41322797499999997}, 'arg_1_48': {'kp_1_0': 0.130557358, 'kp_1_1': 0.36063313500000005, 'kp_1_2': 0.364757419, 'kp_1_3': 0.993098577, 'kp_1_4': 0.12933313800000001}, 'arg_1_49': {'kp_1_0': 0.0008186700000000213, 'kp_1_1': 0.08891600399999999, 'kp_1_2': 0.883795306, 'kp_1_3': 0.42909646, 'kp_1_4': 0.01548492899999998}, 'arg_1_50': {'kp_1_0': 0.005658626999999972, 'kp_1_1': 0.222160637, 'kp_1_2': 0.11428159500000001, 'kp_1_3': 0.705454707, 'kp_1_4': 0.41696006100000005}, 'arg_1_51': {'kp_1_0': 0.007379173999999988, 'kp_1_1': 0.9751384, 'kp_1_2': 0.940650634, 'kp_1_3': 0.985097073, 'kp_1_4': 0.046522319000000034}, 'arg_1_52': {'kp_1_0': 0.0068611499999999825, 'kp_1_1': 0.06981903300000003, 'kp_1_2': 0.29082822799999997, 'kp_1_3': 0.80341953, 'kp_1_4': 0.04791289600000004}, 'arg_1_53': {'kp_1_0': 0.000814377999999949, 'kp_1_1': 0.516508281, 'kp_1_2': 0.999869409, 'kp_1_3': 0.501505673, 'kp_1_4': 0.002717853000000048}, 'arg_1_54': {'kp_1_0': 0.0013833049999999458, 'kp_1_1': 0.20082205500000005, 'kp_1_2': 0.999568699, 'kp_1_3': 0.052855611000000025, 'kp_1_4': 0.002973019999999993}, 'arg_1_55': {'kp_1_0': 0.00012326200000001286, 'kp_1_1': 0.188749135, 'kp_1_2': 0.999861993, 'kp_1_3': 0.06876784599999997, 'kp_1_4': 0.003917097999999952}, 'arg_1_56': {'kp_1_0': 0.005034387000000029, 'kp_1_1': 0.465004683, 'kp_1_2': 0.970004814, 'kp_1_3': 0.156670392, 'kp_1_4': 0.328751445}, 'arg_1_57': {'kp_1_0': 0.0002749560000000484, 'kp_1_1': 0.9999016, 'kp_1_2': 0.999861573, 'kp_1_3': 0.666183829, 'kp_1_4': 0.012083650000000001}, 'arg_1_58': {'kp_1_0': 0.015776335999999946, 'kp_1_1': 0.998563511, 'kp_1_2': 0.9999014, 'kp_1_3': 0.201318443, 'kp_1_4': 0.7829843009999999}, 'arg_1_59': {'kp_1_0': 0.0001764890000000019, 'kp_1_1': 0.017146110999999964, 'kp_1_2': 0.999672572, 'kp_1_3': 0.259735823, 'kp_1_4': 0.002604841999999996}, 'arg_1_60': {'kp_1_0': 0.004528879999999957, 'kp_1_1': 0.9028669069999999, 'kp_1_2': 0.999313697, 'kp_1_3': 0.810982645, 'kp_1_4': 0.661476612}, 'arg_1_61': {'kp_1_0': 0.003168166000000028, 'kp_1_1': 0.49923449799999997, 'kp_1_2': 0.999858785, 'kp_1_3': 0.666263878, 'kp_1_4': 0.009228825999999968}, 'arg_1_62': {'kp_1_0': 0.0008140210000000536, 'kp_1_1': 0.555313647, 'kp_1_2': 0.999899352, 'kp_1_3': 0.03504925999999997, 'kp_1_4': 0.0006657239999999787}, 'arg_1_63': {'kp_1_0': 0.004712582000000021, 'kp_1_1': 0.999876196, 'kp_1_2': 0.906017594, 'kp_1_3': 0.651747376, 'kp_1_4': 0.0023555159999999464}, 'arg_1_64': {'kp_1_0': 0.00024956499999995163, 'kp_1_1': 0.36400341999999997, 'kp_1_2': 0.999810774, 'kp_1_3': 0.373679757, 'kp_1_4': 0.008048653999999988}, 'arg_1_65': {'kp_1_0': 0.009162486000000025, 'kp_1_1': 0.999395077, 'kp_1_2': 0.18865948899999996, 'kp_1_3': 0.999705096, 'kp_1_4': 0.007507621999999992}, 'arg_1_66': {'kp_1_0': 0.015565932000000005, 'kp_1_1': 0.778007776, 'kp_1_2': 0.987946537, 'kp_1_3': 0.17142278, 'kp_1_4': 0.796593949}, 'arg_1_67': {'kp_1_0': 0.0002487300000000303, 'kp_1_1': 0.90237955, 'kp_1_2': 0.999783914, 'kp_1_3': 0.796848416, 'kp_1_4': 0.0007777209999999535}, 'arg_1_68': {'kp_1_0': 0.02766984699999997, 'kp_1_1': 0.656954288, 'kp_1_2': 0.999844403, 'kp_1_3': 0.8821903170000001, 'kp_1_4': 0.006726623000000043}, 'arg_1_69': {'kp_1_0': 0.019011973999999987, 'kp_1_1': 0.041729927, 'kp_1_2': 0.18396967600000003, 'kp_1_3': 0.07650959499999999, 'kp_1_4': 0.0020888449999999503}, 'arg_1_70': {'kp_1_0': 0.035374044999999965, 'kp_1_1': 0.33239495799999996, 'kp_1_2': 0.8915724309999999, 'kp_1_3': 0.5167009229999999, 'kp_1_4': 0.02056556899999995}, 'arg_1_71': {'kp_1_0': 0.011414111000000005, 'kp_1_1': 0.00530064100000005, 'kp_1_2': 0.0048785810000000485, 'kp_1_3': 0.164204299, 'kp_1_4': 0.859862983}, 'arg_1_72': {'kp_1_0': 0.001660466000000027, 'kp_1_1': 0.985894552, 'kp_1_2': 0.997427894, 'kp_1_3': 0.12016791100000002, 'kp_1_4': 0.0005632039999999838}, 'arg_1_73': {'kp_1_0': 0.006897330000000035, 'kp_1_1': 0.007890284000000025, 'kp_1_2': 0.03779786799999996, 'kp_1_3': 0.13408738399999998, 'kp_1_4': 0.38048970699999995}, 'arg_1_74': {'kp_1_0': 0.0010175110000000265, 'kp_1_1': 0.328788757, 'kp_1_2': 0.11375784899999997, 'kp_1_3': 0.38828998800000003, 'kp_1_4': 0.0023686889999999794}, 'arg_1_75': {'kp_1_0': 0.014325201999999981, 'kp_1_1': 0.939238735, 'kp_1_2': 0.13621264700000002, 'kp_1_3': 0.8612752850000001, 'kp_1_4': 0.11225593099999998}, 'arg_1_76': {'kp_1_0': 0.005059719000000018, 'kp_1_1': 0.03426742599999999, 'kp_1_2': 0.012790321999999965, 'kp_1_3': 0.059282422, 'kp_1_4': 0.009677708000000007}, 'arg_1_77': {'kp_1_0': 0.05286550499999998, 'kp_1_1': 0.81233342, 'kp_1_2': 0.46825122799999996, 'kp_1_3': 0.960513711, 'kp_1_4': 0.09433639000000005}, 'arg_1_78': {'kp_1_0': 0.12500923900000005, 'kp_1_1': 0.252687275, 'kp_1_2': 0.28166276199999996, 'kp_1_3': 0.5664641859999999, 'kp_1_4': 0.007073879000000005}, 'arg_1_79': {'kp_1_0': 0.01167476199999995, 'kp_1_1': 0.998861058, 'kp_1_2': 0.991908502, 'kp_1_3': 0.47139400200000003, 'kp_1_4': 0.009133995000000006}, 'arg_1_80': {'kp_1_0': 0.001565515999999989, 'kp_1_1': 0.531372011, 'kp_1_2': 0.991412144, 'kp_1_3': 0.391574502, 'kp_1_4': 0.00611960899999997}, 'arg_1_81': {'kp_1_0': 0.0006625059999999516, 'kp_1_1': 0.6959193349999999, 'kp_1_2': 0.560756743, 'kp_1_3': 0.5198917089999999, 'kp_1_4': 0.020240842999999953}, 'arg_1_82': {'kp_1_0': 0.004790723000000052, 'kp_1_1': 0.965851922, 'kp_1_2': 0.999870716, 'kp_1_3': 0.16315007199999998, 'kp_1_4': 0.10775262100000005}, 'arg_1_83': {'kp_1_0': 0.0018699770000000226, 'kp_1_1': 0.97173694, 'kp_1_2': 0.999877769, 'kp_1_3': 0.08725595500000005, 'kp_1_4': 0.01574516299999995}, 'arg_1_84': {'kp_1_0': 0.014335513000000022, 'kp_1_1': 0.999889267, 'kp_1_2': 0.999257001, 'kp_1_3': 0.939454906, 'kp_1_4': 0.024030149}, 'arg_1_85': {'kp_1_0': 0.00116807200000002, 'kp_1_1': 0.08901399399999999, 'kp_1_2': 0.9997298, 'kp_1_3': 0.03173536099999996, 'kp_1_4': 0.0019266610000000517}, 'arg_1_86': {'kp_1_0': 0.0005206469999999852, 'kp_1_1': 0.25212967399999997, 'kp_1_2': 0.999872637, 'kp_1_3': 0.00603598400000005, 'kp_1_4': 0.0008591409999999522}, 'arg_1_87': {'kp_1_0': 0.17337256700000003, 'kp_1_1': 0.996155651, 'kp_1_2': 0.6682705879999999, 'kp_1_3': 0.977809612, 'kp_1_4': 0.02502828800000001}, 'arg_1_88': {'kp_1_0': 0.033289491999999976, 'kp_1_1': 0.993242125, 'kp_1_2': 0.7444083690000001, 'kp_1_3': 0.926194638, 'kp_1_4': 0.007599830999999946}, 'arg_1_89': {'kp_1_0': 0.000669122000000022, 'kp_1_1': 0.6931530539999999, 'kp_1_2': 0.999872153, 'kp_1_3': 0.36715483699999996, 'kp_1_4': 0.006723106000000034}, 'arg_1_90': {'kp_1_0': 0.0003441570000000116, 'kp_1_1': 0.5035169420000001, 'kp_1_2': 0.999886194, 'kp_1_3': 0.01257628200000005, 'kp_1_4': 0.0017039180000000265}, 'arg_1_91': {'kp_1_0': 0.098502219, 'kp_1_1': 0.40746992800000004, 'kp_1_2': 0.507863611, 'kp_1_3': 0.46913331700000005, 'kp_1_4': 0.008671045000000044}, 'arg_1_92': {'kp_1_0': 0.0027360920000000233, 'kp_1_1': 0.018078327000000005, 'kp_1_2': 0.03607296900000001, 'kp_1_3': 0.21199512499999995, 'kp_1_4': 0.723110527}, 'arg_1_93': {'kp_1_0': 0.0025554899999999936, 'kp_1_1': 0.049368917999999984, 'kp_1_2': 0.03569078400000003, 'kp_1_3': 0.02279853799999998, 'kp_1_4': 0.002117813000000024}, 'arg_1_94': {'kp_1_0': 0.06892198299999996, 'kp_1_1': 0.11350130999999997, 'kp_1_2': 0.26172864399999995, 'kp_1_3': 0.27123767099999996, 'kp_1_4': 0.04588234400000002}, 'arg_1_95': {'kp_1_0': 0.001646398999999965, 'kp_1_1': 0.999834827, 'kp_1_2': 0.917179123, 'kp_1_3': 0.990445935, 'kp_1_4': 0.017602682000000036}, 'arg_1_96': {'kp_1_0': 0.0006222719999999793, 'kp_1_1': 0.706012309, 'kp_1_2': 0.999898967, 'kp_1_3': 0.849021971, 'kp_1_4': 0.0047182439999999826}, 'arg_1_97': {'kp_1_0': 0.033536016999999974, 'kp_1_1': 0.8461462710000001, 'kp_1_2': 0.17073750499999996, 'kp_1_3': 0.999432805, 'kp_1_4': 0.003177761999999973}, 'arg_1_98': {'kp_1_0': 0.0013753180000000143, 'kp_1_1': 0.003822922999999978, 'kp_1_2': 0.35987603700000004, 'kp_1_3': 0.6026178, 'kp_1_4': 0.0029392839999999865}, 'arg_1_99': {'kp_1_5': 0.04494118700000005, 'kp_1_6': 0.22178620100000002, 'kp_1_7': 0.40239387800000004, 'kp_1_8': 0.010056138000000048, 'kp_1_9': 0.303757489}, 'arg_1_100': {'kp_1_5': 0.457238138, 'kp_1_6': 0.687971443, 'kp_1_7': 0.36774432700000004, 'kp_1_8': 0.014861404999999994, 'kp_1_9': 0.609595597}, 'arg_1_101': {'kp_1_5': 0.338804007, 'kp_1_6': 0.873454183, 'kp_1_7': 0.982506348, 'kp_1_8': 0.04177600100000001, 'kp_1_9': 0.842763096}, 'arg_1_102': {'kp_1_5': 0.013862967000000004, 'kp_1_6': 0.995396961, 'kp_1_7': 0.03696864799999999, 'kp_1_8': 0.06748670300000004, 'kp_1_9': 0.543485641}, 'arg_1_103': {'kp_1_5': 0.052144109999999966, 'kp_1_6': 0.829461232, 'kp_1_7': 0.405962586, 'kp_1_8': 0.42046666099999996, 'kp_1_9': 0.821898952}, 'arg_1_104': {'kp_1_5': 0.0006560679999999541, 'kp_1_6': 0.91086746, 'kp_1_7': 0.010608971000000023, 'kp_1_8': 0.0009487270000000381, 'kp_1_9': 0.90000385}, 'arg_1_105': {'kp_1_5': 0.021810829999999948, 'kp_1_6': 0.20327633599999995, 'kp_1_7': 0.013918877000000052, 'kp_1_8': 0.004498421999999946, 'kp_1_9': 0.316417038}, 'arg_1_106': {'kp_1_5': 0.969467152, 'kp_1_6': 0.08935147499999996, 'kp_1_7': 0.03371679800000005, 'kp_1_8': 0.012730836999999995, 'kp_1_9': 0.16828650199999995}, 'arg_1_107': {'kp_1_5': 0.00477468999999997, 'kp_1_6': 0.005290985000000026, 'kp_1_7': 0.016840576999999968, 'kp_1_8': 0.987175743, 'kp_1_9': 0.0017853979999999936}, 'arg_1_108': {'kp_1_5': 0.597841769, 'kp_1_6': 0.339393497, 'kp_1_7': 0.08858489999999997, 'kp_1_8': 0.99753504, 'kp_1_9': 0.516077459}, 'arg_1_109': {'kp_1_5': 0.00019103300000000711, 'kp_1_6': 0.005804479000000029, 'kp_1_7': 0.015063225999999985, 'kp_1_8': 0.00014650800000004516, 'kp_1_9': 0.007536887999999964}, 'arg_1_110': {'kp_1_5': 0.16622740000000003, 'kp_1_6': 0.29259097599999995, 'kp_1_7': 0.323877752, 'kp_1_8': 0.012105405000000014, 'kp_1_9': 0.26144886}, 'arg_1_111': {'kp_1_5': 0.0026122929999999878, 'kp_1_6': 0.928974926, 'kp_1_7': 0.03287333299999995, 'kp_1_8': 0.09939932799999995, 'kp_1_9': 0.212870181}, 'arg_1_112': {'kp_1_5': 0.0022674799999999884, 'kp_1_6': 0.835401624, 'kp_1_7': 0.5463321210000001, 'kp_1_8': 0.97046227, 'kp_1_9': 0.813597575}, 'arg_1_113': {'kp_1_5': 0.06517374499999995, 'kp_1_6': 0.999201223, 'kp_1_7': 0.09623992400000003, 'kp_1_8': 0.49595832799999995, 'kp_1_9': 0.829808369}, 'arg_1_114': {'kp_1_5': 0.007722734999999981, 'kp_1_6': 0.547277868, 'kp_1_7': 0.008422731999999988, 'kp_1_8': 0.451959431, 'kp_1_9': 0.7263623770000001}, 'arg_1_115': {'kp_1_5': 0.0008585450000000439, 'kp_1_6': 0.341542244, 'kp_1_7': 0.11047005700000001, 'kp_1_8': 0.0019058589999999542, 'kp_1_9': 0.7291732129999999}, 'arg_1_116': {'kp_1_5': 0.0018297430000000503, 'kp_1_6': 0.11668396000000003, 'kp_1_7': 0.23373979300000003, 'kp_1_8': 0.013483166999999963, 'kp_1_9': 0.06589961099999997}, 'arg_1_117': {'kp_1_5': 0.016173184000000007, 'kp_1_6': 0.562612325, 'kp_1_7': 0.07398754399999996, 'kp_1_8': 0.07491570700000005, 'kp_1_9': 0.876772076}, 'arg_1_118': {'kp_1_5': 0.031941891, 'kp_1_6': 0.14535057500000004, 'kp_1_7': 0.03145128500000005, 'kp_1_8': 0.713308692, 'kp_1_9': 0.06424111099999996}, 'arg_1_119': {'kp_1_5': 0.0023753050000000497, 'kp_1_6': 0.14008498199999997, 'kp_1_7': 0.012267589999999995, 'kp_1_8': 0.005837738999999953, 'kp_1_9': 0.203634977}, 'arg_1_120': {'kp_1_5': 0.097792506, 'kp_1_6': 0.16009420200000002, 'kp_1_7': 0.051750481000000015, 'kp_1_8': 0.804224059, 'kp_1_9': 0.99412578}, 'arg_1_121': {'kp_1_5': 0.009028672999999987, 'kp_1_6': 0.7214275299999999, 'kp_1_7': 0.026230693000000027, 'kp_1_8': 0.999574542, 'kp_1_9': 0.7334328290000001}, 'arg_1_122': {'kp_1_5': 0.0070216060000000136, 'kp_1_6': 0.028564393999999993, 'kp_1_7': 0.02533334499999995, 'kp_1_8': 0.004809975999999994, 'kp_1_9': 0.1011976}, 'arg_1_123': {'kp_1_5': 0.13176065699999995, 'kp_1_6': 0.893388048, 'kp_1_7': 0.801648661, 'kp_1_8': 0.289801478, 'kp_1_9': 0.838904545}, 'arg_1_124': {'kp_1_5': 0.051522732000000016, 'kp_1_6': 0.14915943099999995, 'kp_1_7': 0.12418901900000001, 'kp_1_8': 0.16155523100000002, 'kp_1_9': 0.70583263}, 'arg_1_125': {'kp_1_5': 0.17012941800000003, 'kp_1_6': 0.329282045, 'kp_1_7': 0.569244385, 'kp_1_8': 0.008244037999999954, 'kp_1_9': 0.491879284}, 'arg_1_126': {'kp_1_5': 0.041027844000000036, 'kp_1_6': 0.941070501, 'kp_1_7': 0.17529523400000002, 'kp_1_8': 0.15219879199999997, 'kp_1_9': 0.878010184}, 'arg_1_127': {'kp_1_5': 0.03320348299999998, 'kp_1_6': 0.996522391, 'kp_1_7': 0.004147768000000052, 'kp_1_8': 0.872357219, 'kp_1_9': 0.673997611}, 'arg_1_128': {'kp_1_5': 0.02022653799999996, 'kp_1_6': 0.332844555, 'kp_1_7': 0.385405302, 'kp_1_8': 0.038304627000000036, 'kp_1_9': 0.5144726040000001}, 'arg_1_129': {'kp_1_5': 0.018744647999999975, 'kp_1_6': 0.08066552900000001, 'kp_1_7': 0.32836383599999996, 'kp_1_8': 0.010182083000000008, 'kp_1_9': 0.045443416000000014}, 'arg_1_130': {'kp_1_5': 0.0002662540000000213, 'kp_1_6': 0.16148215499999996, 'kp_1_7': 0.26924169099999995, 'kp_1_8': 0.005351007000000019, 'kp_1_9': 0.09422117500000005}, 'arg_1_131': {'kp_1_5': 0.013275146000000015, 'kp_1_6': 0.8316352810000001, 'kp_1_7': 0.125056744, 'kp_1_8': 0.984140892, 'kp_1_9': 0.876110882}, 'arg_1_132': {'kp_1_5': 0.013485371999999995, 'kp_1_6': 0.325394332, 'kp_1_7': 0.057041883000000015, 'kp_1_8': 0.03129494200000005, 'kp_1_9': 0.945328858}, 'arg_1_133': {'kp_1_5': 0.044572591999999966, 'kp_1_6': 0.569102377, 'kp_1_7': 0.6683382689999999, 'kp_1_8': 0.002030670999999984, 'kp_1_9': 0.840744078}, 'arg_1_134': {'kp_1_5': 0.04025673900000004, 'kp_1_6': 0.905474804, 'kp_1_7': 0.875804171, 'kp_1_8': 0.08434003599999995, 'kp_1_9': 0.809048593}, 'arg_1_135': {'kp_1_5': 0.004347741999999988, 'kp_1_6': 0.18708664200000003, 'kp_1_7': 0.999856405, 'kp_1_8': 0.006278216999999975, 'kp_1_9': 0.132282734}, 'arg_1_136': {'kp_1_5': 0.08974736900000002, 'kp_1_6': 0.554462373, 'kp_1_7': 0.5523930189999999, 'kp_1_8': 0.12738281500000004, 'kp_1_9': 0.704544187}, 'arg_1_137': {'kp_1_5': 0.00035083300000005035, 'kp_1_6': 0.443215072, 'kp_1_7': 0.227018893, 'kp_1_8': 0.12140953499999996, 'kp_1_9': 0.49467188100000004}, 'arg_1_138': {'kp_1_5': 0.00692707299999995, 'kp_1_6': 0.316107452, 'kp_1_7': 0.461678326, 'kp_1_8': 0.023331462999999997, 'kp_1_9': 0.716830343}, 'arg_1_139': {'kp_1_5': 0.00401264400000001, 'kp_1_6': 0.999875383, 'kp_1_7': 0.054218054000000016, 'kp_1_8': 0.949508224, 'kp_1_9': 0.59119755}, 'arg_1_140': {'kp_1_5': 0.013462186000000043, 'kp_1_6': 0.999793897, 'kp_1_7': 0.031343280999999945, 'kp_1_8': 0.626386553, 'kp_1_9': 0.556095511}, 'arg_1_141': {'kp_1_5': 0.006058573999999983, 'kp_1_6': 0.20679199699999995, 'kp_1_7': 0.13298559200000004, 'kp_1_8': 0.0021486280000000413, 'kp_1_9': 0.433519185}, 'arg_1_142': {'kp_1_5': 0.001186131999999951, 'kp_1_6': 0.596009016, 'kp_1_7': 0.39119488, 'kp_1_8': 0.007686674999999976, 'kp_1_9': 0.895893902}, 'arg_1_143': {'kp_1_5': 0.05281293399999998, 'kp_1_6': 0.999370264, 'kp_1_7': 0.12729430200000003, 'kp_1_8': 0.6995562909999999, 'kp_1_9': 0.948821791}, 'arg_1_144': {'kp_1_5': 0.002994477999999967, 'kp_1_6': 0.37851733, 'kp_1_7': 0.11468935000000002, 'kp_1_8': 0.0056579110000000155, 'kp_1_9': 0.17506450399999995}, 'arg_1_145': {'kp_1_5': 0.0029702190000000517, 'kp_1_6': 0.37447387, 'kp_1_7': 0.12868690500000002, 'kp_1_8': 0.000933111000000042, 'kp_1_9': 0.980539564}, 'arg_1_146': {'kp_1_5': 0.0009719129999999909, 'kp_1_6': 0.45885062200000004, 'kp_1_7': 0.305547476, 'kp_1_8': 0.061314702, 'kp_1_9': 0.5573371650000001}, 'arg_1_147': {'kp_1_5': 0.32106792900000003, 'kp_1_6': 0.5940443280000001, 'kp_1_7': 0.675549626, 'kp_1_8': 0.282179415, 'kp_1_9': 0.13971030699999998}, 'arg_1_148': {'kp_1_5': 0.0013584490000000393, 'kp_1_6': 0.14718812699999995, 'kp_1_7': 0.08103030899999997, 'kp_1_8': 0.002551137999999953, 'kp_1_9': 0.38265538200000004}, 'arg_1_149': {'kp_1_5': 0.002895296000000047, 'kp_1_6': 0.08183842900000005, 'kp_1_7': 0.182800949, 'kp_1_8': 0.0007812980000000413, 'kp_1_9': 0.26486873600000005}, 'arg_1_150': {'kp_1_5': 0.0012882950000000504, 'kp_1_6': 0.05628830200000001, 'kp_1_7': 0.187696874, 'kp_1_8': 0.010430098000000054, 'kp_1_9': 0.030885815999999955}, 'arg_1_151': {'kp_1_5': 0.00115168099999996, 'kp_1_6': 0.04388260799999999, 'kp_1_7': 0.282600403, 'kp_1_8': 0.0001306530000000361, 'kp_1_9': 0.23241597400000003}, 'arg_1_152': {'kp_1_5': 0.0002604130000000149, 'kp_1_6': 0.618472606, 'kp_1_7': 0.07712751600000001, 'kp_1_8': 0.0003438000000000052, 'kp_1_9': 0.785326257}, 'arg_1_153': {'kp_1_5': 0.006278871999999991, 'kp_1_6': 0.37473166, 'kp_1_7': 0.296290159, 'kp_1_8': 0.018969773999999995, 'kp_1_9': 0.37872338299999997}, 'arg_1_154': {'kp_1_5': 0.0037875179999999897, 'kp_1_6': 0.154029906, 'kp_1_7': 0.09878784399999996, 'kp_1_8': 0.00035822399999996257, 'kp_1_9': 0.30627954}, 'arg_1_155': {'kp_1_5': 0.0065853599999999846, 'kp_1_6': 0.13860714399999996, 'kp_1_7': 0.207329035, 'kp_1_8': 0.011023760000000049, 'kp_1_9': 0.74902156}, 'arg_1_156': {'kp_1_5': 0.46744191599999996, 'kp_1_6': 0.11237209999999997, 'kp_1_7': 0.410442293, 'kp_1_8': 0.03429299600000002, 'kp_1_9': 0.530483067}, 'arg_1_157': {'kp_1_5': 0.008524894999999977, 'kp_1_6': 0.20758909000000003, 'kp_1_7': 0.12220919100000005, 'kp_1_8': 0.00040668200000004706, 'kp_1_9': 0.405133486}, 'arg_1_158': {'kp_1_5': 0.0033061500000000077, 'kp_1_6': 0.26118165299999996, 'kp_1_7': 0.11602872600000003, 'kp_1_8': 0.0010580420000000368, 'kp_1_9': 0.43359071000000005}, 'arg_1_159': {'kp_1_5': 0.002872526999999958, 'kp_1_6': 0.916109242, 'kp_1_7': 0.09083539200000001, 'kp_1_8': 0.934680432, 'kp_1_9': 0.856691226}, 'arg_1_160': {'kp_1_5': 0.0028474330000000103, 'kp_1_6': 0.693761021, 'kp_1_7': 0.07721513499999999, 'kp_1_8': 0.7317735249999999, 'kp_1_9': 0.542206526}, 'arg_1_161': {'kp_1_5': 0.0029392839999999865, 'kp_1_6': 0.153767765, 'kp_1_7': 0.20491290100000004, 'kp_1_8': 0.015640079999999945, 'kp_1_9': 0.384351373}, 'arg_1_162': {'kp_1_5': 0.03707033400000004, 'kp_1_6': 0.95421759, 'kp_1_7': 0.129587412, 'kp_1_8': 0.30224561699999997, 'kp_1_9': 0.272555232}, 'arg_1_163': {'kp_1_5': 0.0007758140000000413, 'kp_1_6': 0.250376642, 'kp_1_7': 0.17491507500000003, 'kp_1_8': 0.00020962999999996068, 'kp_1_9': 0.42320740199999995}, 'arg_1_164': {'kp_1_5': 0.059950351999999985, 'kp_1_6': 0.936171263, 'kp_1_7': 0.6115437450000001, 'kp_1_8': 0.748953611, 'kp_1_9': 0.97400034}, 'arg_1_165': {'kp_1_5': 0.02321696299999998, 'kp_1_6': 0.996986594, 'kp_1_7': 0.07654988799999995, 'kp_1_8': 0.955961645, 'kp_1_9': 0.896704696}, 'arg_1_166': {'kp_1_5': 0.0007476210000000316, 'kp_1_6': 0.27476859099999995, 'kp_1_7': 0.06502902499999996, 'kp_1_8': 0.29345804499999995, 'kp_1_9': 0.941436388}, 'arg_1_167': {'kp_1_5': 0.0010655520000000251, 'kp_1_6': 0.5267675519999999, 'kp_1_7': 0.05328702900000004, 'kp_1_8': 0.530220687, 'kp_1_9': 0.997911854}, 'arg_1_168': {'kp_1_5': 0.010830342999999965, 'kp_1_6': 0.540771991, 'kp_1_7': 0.13651388900000005, 'kp_1_8': 0.06524968099999995, 'kp_1_9': 0.872555047}, 'arg_1_169': {'kp_1_5': 0.0061450600000000355, 'kp_1_6': 0.650740683, 'kp_1_7': 0.44458901900000003, 'kp_1_8': 0.012911676999999955, 'kp_1_9': 0.92204953}, 'arg_1_170': {'kp_1_5': 0.021303414999999992, 'kp_1_6': 0.5527569649999999, 'kp_1_7': 0.352700412, 'kp_1_8': 0.033623815, 'kp_1_9': 0.23636233799999995}, 'arg_1_171': {'kp_1_5': 0.0017833109999999541, 'kp_1_6': 0.21309435399999999, 'kp_1_7': 0.49145978700000004, 'kp_1_8': 0.007067441999999979, 'kp_1_9': 0.09711235799999995}, 'arg_1_172': {'kp_1_5': 0.006614624999999985, 'kp_1_6': 0.12678629200000002, 'kp_1_7': 0.17900377499999998, 'kp_1_8': 0.010458230999999985, 'kp_1_9': 0.10003268700000001}, 'arg_1_173': {'kp_1_5': 0.021447957000000017, 'kp_1_6': 0.10218870599999996, 'kp_1_7': 0.10564637200000004, 'kp_1_8': 0.005155801999999987, 'kp_1_9': 0.09564530800000004}, 'arg_1_174': {'kp_1_5': 0.005382239999999983, 'kp_1_6': 0.33992654099999997, 'kp_1_7': 0.13453417999999995, 'kp_1_8': 0.004809379999999974, 'kp_1_9': 0.167396188}, 'arg_1_175': {'kp_1_5': 0.08817982700000004, 'kp_1_6': 0.6444183290000001, 'kp_1_7': 0.448389351, 'kp_1_8': 0.008849502000000009, 'kp_1_9': 0.6019943649999999}, 'arg_1_176': {'kp_1_5': 0.353890657, 'kp_1_6': 0.555030763, 'kp_1_7': 0.40180665299999996, 'kp_1_8': 0.24730300900000002, 'kp_1_9': 0.6561618149999999}, 'arg_1_177': {'kp_1_5': 0.221411586, 'kp_1_6': 0.46185082200000005, 'kp_1_7': 0.04745471499999998, 'kp_1_8': 0.987640208, 'kp_1_9': 0.882376231}, 'arg_1_178': {'kp_1_5': 0.030118286999999966, 'kp_1_6': 0.29358231999999995, 'kp_1_7': 0.06327194000000003, 'kp_1_8': 0.5876316429999999, 'kp_1_9': 0.705862194}, 'arg_1_179': {'kp_1_5': 0.0016903879999999871, 'kp_1_6': 0.996685029, 'kp_1_7': 0.10644602800000003, 'kp_1_8': 0.11869597399999998, 'kp_1_9': 0.190609276}, 'arg_1_180': {'kp_1_5': 0.03120744200000003, 'kp_1_6': 0.435579658, 'kp_1_7': 0.785507411, 'kp_1_8': 0.010756730999999964, 'kp_1_9': 0.381415725}, 'arg_1_181': {'kp_1_5': 0.014208554999999956, 'kp_1_6': 0.13985025900000003, 'kp_1_7': 0.7216297389999999, 'kp_1_8': 0.07716488799999999, 'kp_1_9': 0.15477096999999995}, 'arg_1_182': {'kp_1_5': 0.022537350999999983, 'kp_1_6': 0.190595627, 'kp_1_7': 0.509564489, 'kp_1_8': 0.368093193, 'kp_1_9': 0.18239551799999998}, 'arg_1_183': {'kp_1_5': 0.006810128999999998, 'kp_1_6': 0.15680986600000002, 'kp_1_7': 0.19473075900000003, 'kp_1_8': 0.006690025000000044, 'kp_1_9': 0.10610550600000002}, 'arg_1_184': {'kp_1_5': 0.03303110600000003, 'kp_1_6': 0.513084561, 'kp_1_7': 0.12545925400000002, 'kp_1_8': 0.002748667999999954, 'kp_1_9': 0.985764317}, 'arg_1_185': {'kp_1_5': 0.11146646699999996, 'kp_1_6': 0.826688752, 'kp_1_7': 0.680451691, 'kp_1_8': 0.942588378, 'kp_1_9': 0.993057536}, 'arg_1_186': {'kp_1_5': 0.051574230000000054, 'kp_1_6': 0.449660301, 'kp_1_7': 0.28219223000000004, 'kp_1_8': 0.062375367000000015, 'kp_1_9': 0.919978872}, 'arg_1_187': {'kp_1_5': 0.021599292999999964, 'kp_1_6': 0.574186802, 'kp_1_7': 0.217771649, 'kp_1_8': 0.006825626000000029, 'kp_1_9': 0.720275462}, 'arg_1_188': {'kp_1_5': 0.006729305000000019, 'kp_1_6': 0.014641284999999948, 'kp_1_7': 0.25970607999999995, 'kp_1_8': 0.003462315000000049, 'kp_1_9': 0.002114474999999949}, 'arg_1_189': {'kp_1_5': 0.449866474, 'kp_1_6': 0.6734522279999999, 'kp_1_7': 0.896439172, 'kp_1_8': 0.118937552, 'kp_1_9': 0.97552285}, 'arg_1_190': {'kp_1_5': 0.12591689800000005, 'kp_1_6': 0.999778641, 'kp_1_7': 0.20353704699999997, 'kp_1_8': 0.873727232, 'kp_1_9': 0.993629373}, 'arg_1_191': {'kp_1_5': 0.769782424, 'kp_1_6': 0.618394643, 'kp_1_7': 0.32792186700000003, 'kp_1_8': 0.723876894, 'kp_1_9': 0.779264838}, 'arg_1_192': {'kp_1_5': 0.002253711000000047, 'kp_1_6': 0.955380965, 'kp_1_7': 0.182358444, 'kp_1_8': 0.0017061830000000278, 'kp_1_9': 0.999202653}, 'arg_1_193': {'kp_1_5': 0.0016592739999999884, 'kp_1_6': 0.267430186, 'kp_1_7': 0.12037998400000005, 'kp_1_8': 0.008699714999999997, 'kp_1_9': 0.24703556299999996}, 'arg_1_194': {'kp_1_5': 0.015626072999999963, 'kp_1_6': 0.24393922099999998, 'kp_1_7': 0.048681556999999986, 'kp_1_8': 0.12721997500000004, 'kp_1_9': 0.08470344500000004}, 'arg_1_195': {'kp_1_5': 0.04082202899999998, 'kp_1_6': 0.971765634, 'kp_1_7': 0.570748359, 'kp_1_8': 0.17113995599999998, 'kp_1_9': 0.99987671}, 'arg_1_196': {'kp_1_5': 0.020114779000000027, 'kp_1_6': 0.281312585, 'kp_1_7': 0.011004686000000041, 'kp_1_8': 0.22641211699999997, 'kp_1_9': 0.08806610100000001}, 'arg_1_197': {'kp_1_5': 0.04637032699999999, 'kp_1_6': 0.838091463, 'kp_1_7': 0.11735147199999996, 'kp_1_8': 0.671068251, 'kp_1_9': 0.22352349800000004}, 'arg_1_198': {'kp_1_5': 0.02983862199999998, 'kp_1_6': 0.891586855, 'kp_1_7': 0.11404317600000002, 'kp_1_8': 0.912689976, 'kp_1_9': 0.876079977}, 'arg_1_199': {'kp_1_5': 0.009415626999999982, 'kp_1_6': 0.342045069, 'kp_1_7': 0.11008268600000004, 'kp_1_8': 0.0077435970000000465, 'kp_1_9': 0.19966101599999997}, 'arg_1_200': {'kp_1_5': 0.054409265999999956, 'kp_1_6': 0.458232462, 'kp_1_7': 0.293416023, 'kp_1_8': 0.042306363999999985, 'kp_1_9': 0.33922326599999997}, 'arg_1_201': {'kp_1_5': 0.006742119999999963, 'kp_1_6': 0.278725922, 'kp_1_7': 0.10386002100000002, 'kp_1_8': 0.008459866000000038, 'kp_1_9': 0.20433324600000002}, 'arg_1_202': {'kp_1_5': 0.00940817599999999, 'kp_1_6': 0.10648047900000002, 'kp_1_7': 0.10581767600000003, 'kp_1_8': 0.005635737999999946, 'kp_1_9': 0.291457772}, 'arg_1_203': {'kp_1_5': 0.006633937000000034, 'kp_1_6': 0.024259805999999995, 'kp_1_7': 0.008190334000000021, 'kp_1_8': 0.000697017000000022, 'kp_1_9': 0.263232887}, 'arg_1_204': {'kp_1_5': 0.039516090999999975, 'kp_1_6': 0.082953155, 'kp_1_7': 0.03511941399999996, 'kp_1_8': 0.02839797700000002, 'kp_1_9': 0.09989833800000003}, 'arg_1_205': {'kp_1_5': 0.0015906690000000445, 'kp_1_6': 0.41397207999999996, 'kp_1_7': 0.0064473149999999535, 'kp_1_8': 0.005336404000000017, 'kp_1_9': 0.966426611}, 'arg_1_206': {'kp_1_5': 0.21805745399999998, 'kp_1_6': 0.997124204, 'kp_1_7': 0.251975536, 'kp_1_8': 0.926847339, 'kp_1_9': 0.52610755}, 'arg_1_207': {'kp_1_5': 0.0032773609999999787, 'kp_1_6': 0.460935593, 'kp_1_7': 0.015727758000000036, 'kp_1_8': 0.455486894, 'kp_1_9': 0.987794765}, 'arg_1_208': {'kp_1_5': 0.00017684699999998, 'kp_1_6': 0.982578589, 'kp_1_7': 0.005968510999999954, 'kp_1_8': 0.0049525499999999445, 'kp_1_9': 0.33657824999999997}, 'arg_1_209': {'kp_1_5': 0.0018215179999999664, 'kp_1_6': 0.620392084, 'kp_1_7': 0.03181362200000004, 'kp_1_8': 0.015589117999999957, 'kp_1_9': 0.37530666599999996}, 'arg_1_210': {'kp_1_5': 0.007844508000000028, 'kp_1_6': 0.027302979999999977, 'kp_1_7': 0.420176566, 'kp_1_8': 0.0018356440000000251, 'kp_1_9': 0.009533464999999963}, 'arg_1_211': {'kp_1_5': 0.009401023000000008, 'kp_1_6': 0.643760026, 'kp_1_7': 0.08430248500000004, 'kp_1_8': 0.007585704000000026, 'kp_1_9': 0.918857425}, 'arg_1_212': {'kp_1_5': 0.17085820399999996, 'kp_1_6': 0.26178807000000004, 'kp_1_7': 0.045294166000000025, 'kp_1_8': 0.003295599999999954, 'kp_1_9': 0.7475344239999999}, 'arg_1_213': {'kp_1_5': 0.908562973, 'kp_1_6': 0.385821164, 'kp_1_7': 0.026180148000000014, 'kp_1_8': 0.031786144000000016, 'kp_1_9': 0.19583267000000004}, 'arg_1_214': {'kp_1_5': 0.03923589000000005, 'kp_1_6': 0.627286613, 'kp_1_7': 0.438135803, 'kp_1_8': 0.13731867099999995, 'kp_1_9': 0.953996055}, 'arg_1_215': {'kp_1_5': 0.014605521999999982, 'kp_1_6': 0.20620912300000005, 'kp_1_7': 0.96177974, 'kp_1_8': 0.853263482, 'kp_1_9': 0.20369666799999997}, 'arg_1_216': {'kp_1_5': 0.026664078000000035, 'kp_1_6': 0.6715654129999999, 'kp_1_7': 0.169437826, 'kp_1_8': 0.614031553, 'kp_1_9': 0.992570924}, 'arg_1_217': {'kp_1_5': 0.019560157999999994, 'kp_1_6': 0.23431903099999996, 'kp_1_7': 0.42266821899999996, 'kp_1_8': 0.003173172000000002, 'kp_1_9': 0.10177797099999997}, 'arg_1_218': {'kp_1_5': 0.042451322000000014, 'kp_1_6': 0.37587958600000004, 'kp_1_7': 0.5350482169999999, 'kp_1_8': 0.10629856599999998, 'kp_1_9': 0.366047561}, 'arg_1_219': {'kp_1_5': 0.198360443, 'kp_1_6': 0.448734462, 'kp_1_7': 0.5470434129999999, 'kp_1_8': 0.10553437499999996, 'kp_1_9': 0.410802066}, 'arg_1_220': {'kp_1_5': 0.48575592, 'kp_1_6': 0.012401521000000026, 'kp_1_7': 0.042599319999999996, 'kp_1_8': 0.20007079800000005, 'kp_1_9': 0.007332503999999962}, 'arg_1_221': {'kp_1_5': 0.07785046100000004, 'kp_1_6': 0.15267211199999997, 'kp_1_7': 0.5831921099999999, 'kp_1_8': 0.027383208000000048, 'kp_1_9': 0.12156057399999998}, 'arg_1_222': {'kp_1_5': 0.040938377000000026, 'kp_1_6': 0.999479264, 'kp_1_7': 0.292680144, 'kp_1_8': 0.262651682, 'kp_1_9': 0.89788112}, 'arg_1_223': {'kp_1_5': 0.11055070199999995, 'kp_1_6': 0.15045273299999995, 'kp_1_7': 0.48408383099999996, 'kp_1_8': 0.026116609999999985, 'kp_1_9': 0.12662279600000004}, 'arg_1_224': {'kp_1_5': 0.006598890000000024, 'kp_1_6': 0.884923093, 'kp_1_7': 0.036155878999999946, 'kp_1_8': 0.826644152, 'kp_1_9': 0.501502931}, 'arg_1_225': {'kp_1_5': 0.008951068000000006, 'kp_1_6': 0.021480739000000026, 'kp_1_7': 0.953360081, 'kp_1_8': 0.011775851000000004, 'kp_1_9': 0.147012472}, 'arg_1_226': {'kp_1_5': 0.14251077199999995, 'kp_1_6': 0.999682282, 'kp_1_7': 0.29778927600000005, 'kp_1_8': 0.76172106, 'kp_1_9': 0.950931106}, 'arg_1_227': {'kp_1_5': 0.0005570049999999993, 'kp_1_6': 0.7359666229999999, 'kp_1_7': 0.03696155499999998, 'kp_1_8': 0.0014515520000000226, 'kp_1_9': 0.930562228}, 'arg_1_228': {'kp_1_5': 0.024744093000000023, 'kp_1_6': 0.38376277700000005, 'kp_1_7': 0.20522808999999997, 'kp_1_8': 0.07713705299999996, 'kp_1_9': 0.36595636600000003}, 'arg_1_229': {'kp_1_5': 0.651308745, 'kp_1_6': 0.09951072900000002, 'kp_1_7': 0.18784672000000002, 'kp_1_8': 0.23294913799999994, 'kp_1_9': 0.04317402800000003}, 'arg_1_230': {'kp_1_5': 0.021698713000000036, 'kp_1_6': 0.41376131800000004, 'kp_1_7': 0.11978852699999998, 'kp_1_8': 0.0038391349999999935, 'kp_1_9': 0.880890518}, 'arg_1_231': {'kp_1_5': 0.01924884299999996, 'kp_1_6': 0.999386692, 'kp_1_7': 0.07364118099999994, 'kp_1_8': 0.18003117999999996, 'kp_1_9': 0.930813961}, 'arg_1_232': {'kp_1_5': 0.19333994399999999, 'kp_1_6': 0.6406376060000001, 'kp_1_7': 0.251503527, 'kp_1_8': 0.7567225989999999, 'kp_1_9': 0.443103135}, 'arg_2_0': {'kp_2_0': 0.09356039800000004, 'kp_2_1': 0.06726211299999996, 'kp_2_2': 0.51715225, 'kp_2_3': 0.915870741, 'kp_2_4': 0.004482210000000042, 'kp_2_5': 0.19680005300000003, 'kp_2_6': 0.555913746}, 'arg_2_1': {'kp_2_0': 0.021053969999999977, 'kp_2_1': 0.04000073699999995, 'kp_2_2': 0.0030906800000000123, 'kp_2_3': 0.693292052, 'kp_2_4': 0.0013683439999999658, 'kp_2_5': 0.15809971099999998, 'kp_2_6': 0.04443162700000003}, 'arg_2_2': {'kp_2_0': 0.002330839999999945, 'kp_2_1': 0.03306222000000003, 'kp_2_2': 0.0044061539999999955, 'kp_2_3': 0.002693414999999977, 'kp_2_4': 0.002115905000000029, 'kp_2_5': 0.018069804000000023, 'kp_2_6': 0.009445130999999996}, 'arg_2_3': {'kp_2_0': 0.09027993700000003, 'kp_2_1': 0.11374437800000003, 'kp_2_2': 0.26716637600000004, 'kp_2_3': 0.23667174599999996, 'kp_2_4': 0.02874791600000004, 'kp_2_5': 0.602804095, 'kp_2_6': 0.09366619600000003}, 'arg_2_4': {'kp_2_0': 0.48226636599999995, 'kp_2_1': 0.05209505599999997, 'kp_2_2': 0.296021223, 'kp_2_3': 0.039129913000000016, 'kp_2_4': 0.0051727889999999555, 'kp_2_5': 0.12111657899999995, 'kp_2_6': 0.06418693099999995}, 'arg_2_5': {'kp_2_0': 0.14505296899999998, 'kp_2_1': 0.01705420000000002, 'kp_2_2': 0.8686462189999999, 'kp_2_3': 0.041592300000000026, 'kp_2_4': 0.02616077699999997, 'kp_2_5': 0.10293501599999999, 'kp_2_6': 0.04279625399999998}, 'arg_2_6': {'kp_2_0': 0.03878104699999996, 'kp_2_1': 0.028425276, 'kp_2_2': 0.013517082000000014, 'kp_2_3': 0.06259411599999998, 'kp_2_4': 0.0021432040000000097, 'kp_2_5': 0.952635605, 'kp_2_6': 0.006549597000000018}, 'arg_2_7': {'kp_2_0': 0.0011642579999999736, 'kp_2_1': 0.0010207300000000252, 'kp_2_2': 0.0057864789999999555, 'kp_2_3': 0.00760799599999995, 'kp_2_4': 0.00160545099999998, 'kp_2_5': 0.06448704000000005, 'kp_2_6': 0.006270884999999948}, 'arg_2_8': {'kp_2_0': 0.13829666399999996, 'kp_2_1': 0.88741421, 'kp_2_2': 0.363698721, 'kp_2_3': 0.366926968, 'kp_2_4': 0.07314735699999997, 'kp_2_5': 0.28085315200000005, 'kp_2_6': 0.105304956}, 'arg_2_9': {'kp_2_0': 0.07812529800000001, 'kp_2_1': 0.06626552299999999, 'kp_2_2': 0.6146576109999999, 'kp_2_3': 0.101097047, 'kp_2_4': 0.151756346, 'kp_2_5': 0.111631751, 'kp_2_6': 0.5775224569999999}, 'arg_2_10': {'kp_2_0': 0.0013737679999999974, 'kp_2_1': 0.0073951479999999625, 'kp_2_2': 0.034320115999999956, 'kp_2_3': 0.015486537999999994, 'kp_2_4': 0.0029947160000000084, 'kp_2_5': 0.08376365900000005, 'kp_2_6': 0.012344420000000023}, 'arg_2_11': {'kp_2_0': 0.007151604000000034, 'kp_2_1': 0.010880946999999974, 'kp_2_2': 0.001656890000000022, 'kp_2_3': 0.521134526, 'kp_2_4': 0.21684312800000005, 'kp_2_5': 0.009397745000000013, 'kp_2_6': 0.339559853}, 'arg_2_12': {'kp_2_0': 0.011490047000000003, 'kp_2_1': 0.013797939000000037, 'kp_2_2': 0.009673178000000004, 'kp_2_3': 0.02193117099999997, 'kp_2_4': 0.007969974999999963, 'kp_2_5': 0.375608563, 'kp_2_6': 0.026418507000000035}, 'arg_2_13': {'kp_2_0': 0.029965280999999955, 'kp_2_1': 0.09635877599999998, 'kp_2_2': 0.05974292800000003, 'kp_2_3': 0.899086617, 'kp_2_4': 0.004413486000000022, 'kp_2_5': 0.5901801289999999, 'kp_2_6': 0.17218500400000003}, 'arg_2_14': {'kp_2_0': 0.09114134299999999, 'kp_2_1': 0.949529424, 'kp_2_2': 0.496185899, 'kp_2_3': 0.175863624, 'kp_2_4': 0.344273806, 'kp_2_5': 0.12336122999999999, 'kp_2_6': 0.06646221900000004}, 'arg_2_15': {'kp_2_0': 0.698057503, 'kp_2_1': 0.16890698699999995, 'kp_2_2': 0.43854987599999995, 'kp_2_3': 0.12892001900000005, 'kp_2_4': 0.245637596, 'kp_2_5': 0.15096229299999997, 'kp_2_6': 0.12991398600000004}, 'arg_2_16': {'kp_2_0': 0.034051060999999994, 'kp_2_1': 0.03107923300000004, 'kp_2_2': 0.10134667200000003, 'kp_2_3': 0.00904297799999998, 'kp_2_4': 0.28465682299999995, 'kp_2_5': 0.257062554, 'kp_2_6': 0.017332137000000025}, 'arg_2_17': {'kp_2_0': 0.023608147999999995, 'kp_2_1': 0.44058352700000003, 'kp_2_2': 0.11515599499999996, 'kp_2_3': 0.47934693100000003, 'kp_2_4': 0.012511730000000054, 'kp_2_5': 0.11614739900000004, 'kp_2_6': 0.049558102999999964}, 'arg_2_18': {'kp_2_0': 0.0007107259999999949, 'kp_2_1': 0.071843565, 'kp_2_2': 0.001550794000000022, 'kp_2_3': 0.9995658, 'kp_2_4': 0.0014541150000000336, 'kp_2_5': 0.07231956699999997, 'kp_2_6': 0.45972120800000005}, 'arg_2_19': {'kp_2_0': 0.007622122999999981, 'kp_2_1': 0.937695719, 'kp_2_2': 0.0004714729999999445, 'kp_2_3': 0.977016628, 'kp_2_4': 0.019894659999999953, 'kp_2_5': 0.321018398, 'kp_2_6': 0.10439425700000005}, 'arg_2_20': {'kp_2_0': 0.014809191, 'kp_2_1': 0.009591997000000019, 'kp_2_2': 0.004874527000000017, 'kp_2_3': 0.10637253499999999, 'kp_2_4': 0.0055997970000000175, 'kp_2_5': 0.05424869099999996, 'kp_2_6': 0.342939317}, 'arg_2_21': {'kp_2_0': 0.417617679, 'kp_2_1': 0.376559854, 'kp_2_2': 0.398634732, 'kp_2_3': 0.05955821299999997, 'kp_2_4': 0.0018217560000000077, 'kp_2_5': 0.224196434, 'kp_2_6': 0.014818788000000027}, 'arg_2_22': {'kp_2_0': 0.17647230599999997, 'kp_2_1': 0.006424843999999985, 'kp_2_2': 0.07841658600000001, 'kp_2_3': 0.009104608999999986, 'kp_2_4': 0.002912461999999949, 'kp_2_5': 0.6968752149999999, 'kp_2_6': 0.00480634000000002}, 'arg_2_23': {'kp_2_0': 0.10262304499999997, 'kp_2_1': 0.026203989999999955, 'kp_2_2': 0.14328622800000002, 'kp_2_3': 0.0006276969999999826, 'kp_2_4': 0.933258273, 'kp_2_5': 0.030696571000000006, 'kp_2_6': 0.00435084100000005}, 'arg_2_24': {'kp_2_0': 0.03950566099999997, 'kp_2_1': 0.004753411000000041, 'kp_2_2': 0.08437794399999998, 'kp_2_3': 0.04268157500000003, 'kp_2_4': 0.137833357, 'kp_2_5': 0.018936752999999973, 'kp_2_6': 0.19051110699999996}, 'arg_2_25': {'kp_2_0': 0.04650574900000004, 'kp_2_1': 0.068851471, 'kp_2_2': 0.42539048199999996, 'kp_2_3': 0.029953599000000053, 'kp_2_4': 0.950010531, 'kp_2_5': 0.13830488900000004, 'kp_2_6': 0.022789775999999984}, 'arg_2_26': {'kp_2_0': 0.04658657300000002, 'kp_2_1': 0.15177756499999995, 'kp_2_2': 0.10143917800000002, 'kp_2_3': 0.23733967499999997, 'kp_2_4': 0.556533009, 'kp_2_5': 0.046664357000000045, 'kp_2_6': 0.36739849999999996}, 'arg_2_27': {'kp_2_0': 0.00017279400000003164, 'kp_2_1': 0.001296400999999947, 'kp_2_2': 9.32219999999484e-05, 'kp_2_3': 0.37774676100000004, 'kp_2_4': 0.000389635999999971, 'kp_2_5': 0.0032077430000000406, 'kp_2_6': 0.02668780100000001}, 'arg_2_28': {'kp_2_0': 0.08020174499999999, 'kp_2_1': 0.025375009000000004, 'kp_2_2': 0.36482578499999996, 'kp_2_3': 0.011312365999999963, 'kp_2_4': 0.07216048200000003, 'kp_2_5': 0.024226665000000036, 'kp_2_6': 0.00897109500000004}, 'arg_2_29': {'kp_2_0': 0.42284959600000005, 'kp_2_1': 0.05478245000000004, 'kp_2_2': 0.998101571, 'kp_2_3': 0.045316279000000015, 'kp_2_4': 0.26451575800000005, 'kp_2_5': 0.014290213999999968, 'kp_2_6': 0.136705101}, 'arg_2_30': {'kp_2_0': 0.780157983, 'kp_2_1': 0.562325686, 'kp_2_2': 0.880308151, 'kp_2_3': 0.14697688799999997, 'kp_2_4': 0.73849231, 'kp_2_5': 0.415088475, 'kp_2_6': 0.21971517799999996}, 'arg_2_31': {'kp_2_0': 0.02138918599999995, 'kp_2_1': 0.050419628999999966, 'kp_2_2': 0.024938404999999997, 'kp_2_3': 0.847199231, 'kp_2_4': 0.011229633999999988, 'kp_2_5': 0.013915180999999999, 'kp_2_6': 0.97541355}, 'arg_2_32': {'kp_2_0': 0.45385825599999996, 'kp_2_1': 0.008472084999999963, 'kp_2_2': 0.766664952, 'kp_2_3': 0.025349975000000025, 'kp_2_4': 0.06778991199999995, 'kp_2_5': 0.10028815300000005, 'kp_2_6': 0.013438880000000042}, 'arg_2_33': {'kp_2_0': 0.360766947, 'kp_2_1': 0.075640559, 'kp_2_2': 0.26624661699999996, 'kp_2_3': 0.013423920000000034, 'kp_2_4': 0.07775914699999997, 'kp_2_5': 0.157142699, 'kp_2_6': 0.019793868000000048}, 'arg_2_34': {'kp_2_0': 0.288077712, 'kp_2_1': 0.084768713, 'kp_2_2': 0.776562452, 'kp_2_3': 0.07389479899999996, 'kp_2_4': 0.03914493299999999, 'kp_2_5': 0.44375497100000005, 'kp_2_6': 0.137697697}, 'arg_2_35': {'kp_2_0': 0.07381516700000001, 'kp_2_1': 0.756231099, 'kp_2_2': 0.12404096099999995, 'kp_2_3': 0.15422219000000004, 'kp_2_4': 0.992012039, 'kp_2_5': 0.432378292, 'kp_2_6': 0.19485724000000004}, 'arg_2_36': {'kp_2_0': 0.05800020699999997, 'kp_2_1': 0.0020853880000000213, 'kp_2_2': 0.300419271, 'kp_2_3': 0.0012107489999999554, 'kp_2_4': 0.929150432, 'kp_2_5': 0.06126463400000004, 'kp_2_6': 0.0023580789999999574}, 'arg_2_37': {'kp_2_0': 0.0022330280000000258, 'kp_2_1': 0.0014541150000000336, 'kp_2_2': 0.0011797550000000046, 'kp_2_3': 0.009181082000000007, 'kp_2_4': 0.005620658000000001, 'kp_2_5': 0.8560618010000001, 'kp_2_6': 0.003504096999999984}, 'arg_2_38': {'kp_2_0': 0.008744596999999965, 'kp_2_1': 0.0018103720000000045, 'kp_2_2': 0.01497393800000002, 'kp_2_3': 0.03156256700000004, 'kp_2_4': 0.0032442209999999916, 'kp_2_5': 0.48036712400000003, 'kp_2_6': 0.0027077789999999657}, 'arg_2_39': {'kp_2_0': 0.004898489000000006, 'kp_2_1': 0.17110240499999996, 'kp_2_2': 0.0003110170000000245, 'kp_2_3': 0.98234492, 'kp_2_4': 0.605242938, 'kp_2_5': 0.012275040000000015, 'kp_2_6': 0.01752489800000001}, 'arg_2_40': {'kp_2_0': 0.02557086900000005, 'kp_2_1': 0.972501157, 'kp_2_2': 0.26542079399999996, 'kp_2_3': 0.11868458999999998, 'kp_2_4': 0.020015895000000006, 'kp_2_5': 0.12409693, 'kp_2_6': 0.093179703}, 'arg_2_41': {'kp_2_0': 0.23704981800000002, 'kp_2_1': 0.02520513499999999, 'kp_2_2': 0.939475749, 'kp_2_3': 0.0011852980000000013, 'kp_2_4': 0.006693183999999963, 'kp_2_5': 0.10908341399999999, 'kp_2_6': 0.009079932999999984}, 'arg_2_42': {'kp_2_0': 0.006657123999999959, 'kp_2_1': 0.014573574000000034, 'kp_2_2': 0.0002372859999999477, 'kp_2_3': 0.99756618, 'kp_2_4': 0.24215710199999996, 'kp_2_5': 0.03623717999999998, 'kp_2_6': 0.17571187}, 'arg_2_43': {'kp_2_0': 0.19895905300000005, 'kp_2_1': 0.004201710000000025, 'kp_2_2': 0.345751703, 'kp_2_3': 0.004818737999999989, 'kp_2_4': 0.980016764, 'kp_2_5': 0.032782376, 'kp_2_6': 0.013971030999999967}, 'arg_2_44': {'kp_2_0': 0.003821014999999983, 'kp_2_1': 0.003343344000000026, 'kp_2_2': 0.026013135999999992, 'kp_2_3': 0.006582498999999964, 'kp_2_4': 0.003750025999999962, 'kp_2_5': 0.02224296299999995, 'kp_2_6': 0.004056870999999962}, 'arg_2_45': {'kp_2_0': 0.4588238, 'kp_2_1': 0.940453138, 'kp_2_2': 0.36479049900000005, 'kp_2_3': 0.52473852, 'kp_2_4': 0.132213354, 'kp_2_5': 0.820508137, 'kp_2_6': 0.31891429400000004}, 'arg_2_46': {'kp_2_0': 0.15774458599999996, 'kp_2_1': 0.02007991099999995, 'kp_2_2': 0.05169373799999999, 'kp_2_3': 0.00861936799999996, 'kp_2_4': 0.027189970000000008, 'kp_2_5': 0.17166650299999997, 'kp_2_6': 0.009037553999999948}, 'arg_2_47': {'kp_2_0': 0.711728841, 'kp_2_1': 0.08462095300000005, 'kp_2_2': 0.957752056, 'kp_2_3': 0.005553722000000039, 'kp_2_4': 0.42174905500000004, 'kp_2_5': 0.005929649000000037, 'kp_2_6': 0.02346110300000004}, 'arg_2_48': {'kp_2_0': 0.012844442999999983, 'kp_2_1': 0.003313362999999958, 'kp_2_2': 0.024174928999999956, 'kp_2_3': 0.031683087, 'kp_2_4': 0.009351431999999993, 'kp_2_5': 0.04187679300000002, 'kp_2_6': 0.09705948799999997}, 'arg_2_49': {'kp_2_0': 0.27521175099999995, 'kp_2_1': 0.07816630599999996, 'kp_2_2': 0.549971074, 'kp_2_3': 0.05208110799999999, 'kp_2_4': 0.670717537, 'kp_2_5': 0.07967454200000001, 'kp_2_6': 0.016609847999999983}, 'arg_2_50': {'kp_2_0': 0.48632508500000005, 'kp_2_1': 0.005525768000000042, 'kp_2_2': 0.10355937500000001, 'kp_2_3': 0.012787401999999948, 'kp_2_4': 0.0028823610000000555, 'kp_2_5': 0.09687662100000005, 'kp_2_6': 0.0020165439999999535}, 'arg_2_51': {'kp_2_0': 0.714408994, 'kp_2_1': 0.002114474999999949, 'kp_2_2': 0.13755071200000002, 'kp_2_3': 0.006038129000000003, 'kp_2_4': 0.11002981700000003, 'kp_2_5': 0.030249119000000046, 'kp_2_6': 0.003699063999999974}, 'arg_2_52': {'kp_2_0': 0.42984890899999995, 'kp_2_1': 0.20360779799999995, 'kp_2_2': 0.03268206100000004, 'kp_2_3': 0.960216526, 'kp_2_4': 0.008699238000000054, 'kp_2_5': 0.5548239349999999, 'kp_2_6': 0.047108053999999955}, 'arg_2_53': {'kp_2_0': 0.23735076200000005, 'kp_2_1': 0.013983905000000019, 'kp_2_2': 0.557380855, 'kp_2_3': 0.0016142129999999755, 'kp_2_4': 0.008652866000000037, 'kp_2_5': 0.013442457000000019, 'kp_2_6': 0.02546310399999996}, 'arg_2_54': {'kp_2_0': 0.03000545499999996, 'kp_2_1': 0.007447599999999999, 'kp_2_2': 0.748400152, 'kp_2_3': 0.007320761999999981, 'kp_2_4': 0.005336522999999982, 'kp_2_5': 0.022264719000000044, 'kp_2_6': 0.004497467999999949}, 'arg_2_55': {'kp_2_0': 0.10122060799999999, 'kp_2_1': 0.0018246170000000284, 'kp_2_2': 0.999878819, 'kp_2_3': 0.0002952219999999839, 'kp_2_4': 0.01601982099999999, 'kp_2_5': 0.003676652999999974, 'kp_2_6': 0.0006564260000000433}, 'arg_2_56': {'kp_2_0': 0.050930916999999964, 'kp_2_1': 0.49122416999999996, 'kp_2_2': 0.14363747800000004, 'kp_2_3': 0.08109867599999998, 'kp_2_4': 0.899446458, 'kp_2_5': 0.009895145999999966, 'kp_2_6': 0.06059473800000004}, 'arg_2_57': {'kp_2_0': 0.01563823200000003, 'kp_2_1': 0.018116236000000008, 'kp_2_2': 0.004881620000000031, 'kp_2_3': 0.813705117, 'kp_2_4': 0.0038748379999999916, 'kp_2_5': 0.06175673000000004, 'kp_2_6': 0.165593863}, 'arg_2_58': {'kp_2_0': 0.02674412699999995, 'kp_2_1': 0.957789421, 'kp_2_2': 0.13505774699999995, 'kp_2_3': 0.009337068000000004, 'kp_2_4': 0.01340472699999995, 'kp_2_5': 0.036541044999999994, 'kp_2_6': 0.020650566000000037}, 'arg_2_59': {'kp_2_0': 0.001833737000000002, 'kp_2_1': 0.01103264100000001, 'kp_2_2': 0.008239925000000037, 'kp_2_3': 0.013811170999999955, 'kp_2_4': 0.0007776019999999884, 'kp_2_5': 0.12044250999999995, 'kp_2_6': 0.0019093159999999942}, 'arg_2_60': {'kp_2_0': 0.524382353, 'kp_2_1': 0.10647654500000003, 'kp_2_2': 0.664205462, 'kp_2_3': 0.05701899499999996, 'kp_2_4': 0.366354823, 'kp_2_5': 0.18318462400000002, 'kp_2_6': 0.022227644999999963}, 'arg_2_61': {'kp_2_0': 0.01942688199999998, 'kp_2_1': 0.04159539899999998, 'kp_2_2': 0.053848863000000025, 'kp_2_3': 0.821999192, 'kp_2_4': 0.012594521000000025, 'kp_2_5': 0.0027102230000000116, 'kp_2_6': 0.999593281}, 'arg_2_62': {'kp_2_0': 0.004987955000000044, 'kp_2_1': 0.00023382900000001872, 'kp_2_2': 0.0007249710000000187, 'kp_2_3': 0.0005559330000000084, 'kp_2_4': 0.0002757909999999697, 'kp_2_5': 0.04769694800000002, 'kp_2_6': 0.0006814000000000542}, 'arg_2_63': {'kp_2_0': 0.0004044180000000175, 'kp_2_1': 0.0015215280000000497, 'kp_2_2': 0.00011622899999996772, 'kp_2_3': 0.917755663, 'kp_2_4': 0.011760949999999992, 'kp_2_5': 0.06568884799999997, 'kp_2_6': 0.0026811960000000523}, 'arg_2_64': {'kp_2_0': 0.07439285500000004, 'kp_2_1': 0.041978717, 'kp_2_2': 0.990914555, 'kp_2_3': 0.002600908000000013, 'kp_2_4': 0.10056704299999997, 'kp_2_5': 0.12256205099999995, 'kp_2_6': 0.006166816000000019}, 'arg_2_65': {'kp_2_0': 0.0023555159999999464, 'kp_2_1': 0.133599162, 'kp_2_2': 0.0013609530000000536, 'kp_2_3': 0.997966757, 'kp_2_4': 0.002345860000000033, 'kp_2_5': 0.335375011, 'kp_2_6': 0.6736280020000001}, 'arg_2_66': {'kp_2_7': 0.09426087100000002, 'kp_2_8': 0.0012651089999999865, 'kp_2_9': 0.30902147300000005, 'kp_2_10': 0.0019324419999999787, 'kp_2_11': 0.00027900899999999673, 'kp_2_12': 0.0002799629999999942, 'kp_2_13': 0.08771050000000002}, 'arg_2_67': {'kp_2_7': 0.771950975, 'kp_2_8': 0.18857687700000003, 'kp_2_9': 0.10074651199999995, 'kp_2_10': 0.6466826800000001, 'kp_2_11': 0.38868475, 'kp_2_12': 0.051387607999999974, 'kp_2_13': 0.597221553}, 'arg_2_68': {'kp_2_7': 0.37766307600000004, 'kp_2_8': 0.989978858, 'kp_2_9': 0.009725749000000006, 'kp_2_10': 0.34779340000000003, 'kp_2_11': 0.033335864999999965, 'kp_2_12': 0.022591351999999953, 'kp_2_13': 0.251553476}, 'arg_2_69': {'kp_2_7': 0.015897453000000006, 'kp_2_8': 0.10846728100000003, 'kp_2_9': 0.0005404350000000058, 'kp_2_10': 0.827530235, 'kp_2_11': 0.682918608, 'kp_2_12': 0.0036822560000000504, 'kp_2_13': 0.006709933000000001}, 'arg_2_70': {'kp_2_7': 0.739458859, 'kp_2_8': 0.709061265, 'kp_2_9': 0.632521778, 'kp_2_10': 0.9058528690000001, 'kp_2_11': 0.563846022, 'kp_2_12': 0.32892853, 'kp_2_13': 0.982852647}, 'arg_2_71': {'kp_2_7': 0.11099749800000003, 'kp_2_8': 0.925378762, 'kp_2_9': 0.698896885, 'kp_2_10': 0.7778494659999999, 'kp_2_11': 0.001725077999999991, 'kp_2_12': 0.0005696419999999813, 'kp_2_13': 0.999880594}, 'arg_2_72': {'kp_2_7': 0.746978253, 'kp_2_8': 0.475436628, 'kp_2_9': 0.496309519, 'kp_2_10': 0.450707018, 'kp_2_11': 0.10019081799999996, 'kp_2_12': 0.05690026299999995, 'kp_2_13': 0.442266583}, 'arg_2_73': {'kp_2_7': 0.781809628, 'kp_2_8': 0.408867776, 'kp_2_9': 0.24524229799999997, 'kp_2_10': 0.7483951449999999, 'kp_2_11': 0.514353067, 'kp_2_12': 0.17325961599999995, 'kp_2_13': 0.611124188}, 'arg_2_74': {'kp_2_7': 0.452104568, 'kp_2_8': 0.17492049899999995, 'kp_2_9': 0.978792515, 'kp_2_10': 0.418665528, 'kp_2_11': 0.5618897970000001, 'kp_2_12': 0.42653554699999996, 'kp_2_13': 0.385356009}, 'arg_2_75': {'kp_2_7': 0.18729543699999995, 'kp_2_8': 0.94900348, 'kp_2_9': 0.004601537999999961, 'kp_2_10': 0.046151399999999954, 'kp_2_11': 0.001931250000000051, 'kp_2_12': 0.0004071589999999903, 'kp_2_13': 0.04186719699999997}, 'arg_2_76': {'kp_2_7': 0.14010238600000002, 'kp_2_8': 0.17481768099999995, 'kp_2_9': 0.934005551, 'kp_2_10': 0.470980823, 'kp_2_11': 0.08531040000000001, 'kp_2_12': 0.020909548, 'kp_2_13': 0.17566394799999996}, 'arg_2_77': {'kp_2_7': 0.059852302000000024, 'kp_2_8': 0.996741717, 'kp_2_9': 0.004243195000000033, 'kp_2_10': 0.26630491, 'kp_2_11': 0.004191874999999956, 'kp_2_12': 0.0011706949999999994, 'kp_2_13': 0.291144371}, 'arg_2_78': {'kp_2_7': 0.050959170000000054, 'kp_2_8': 0.994342335, 'kp_2_9': 0.00547778600000004, 'kp_2_10': 0.148426414, 'kp_2_11': 0.005556761999999993, 'kp_2_12': 0.002534986000000017, 'kp_2_13': 0.17331093500000005}, 'arg_2_79': {'kp_2_7': 0.06532561800000003, 'kp_2_8': 0.934838824, 'kp_2_9': 0.07788562799999998, 'kp_2_10': 0.12176209699999996, 'kp_2_11': 0.01992350799999998, 'kp_2_12': 0.013660789000000007, 'kp_2_13': 0.08825623999999999}, 'arg_2_80': {'kp_2_7': 0.21739578199999998, 'kp_2_8': 0.305754781, 'kp_2_9': 0.043442547000000054, 'kp_2_10': 0.762475669, 'kp_2_11': 0.824332431, 'kp_2_12': 0.07158768199999999, 'kp_2_13': 0.639301151}, 'arg_2_81': {'kp_2_7': 0.611315638, 'kp_2_8': 0.467708051, 'kp_2_9': 0.05222916600000005, 'kp_2_10': 0.259541869, 'kp_2_11': 0.493944407, 'kp_2_12': 0.385165989, 'kp_2_13': 0.055333853000000044}, 'arg_2_82': {'kp_2_7': 0.11997467299999998, 'kp_2_8': 0.11423063300000003, 'kp_2_9': 0.003078938000000031, 'kp_2_10': 0.027902901000000035, 'kp_2_11': 0.019545375999999948, 'kp_2_12': 0.01233643299999998, 'kp_2_13': 0.010171413000000018}, 'arg_2_83': {'kp_2_7': 0.632970721, 'kp_2_8': 0.19571137400000005, 'kp_2_9': 0.10329067700000005, 'kp_2_10': 0.8071039170000001, 'kp_2_11': 0.982392179, 'kp_2_12': 0.47815400399999997, 'kp_2_13': 0.08701497300000005}, 'arg_2_84': {'kp_2_7': 0.5068038699999999, 'kp_2_8': 0.005032837000000012, 'kp_2_9': 0.007989526000000025, 'kp_2_10': 0.018316506999999982, 'kp_2_11': 0.06966358399999995, 'kp_2_12': 0.009925783000000021, 'kp_2_13': 0.032538175999999974}, 'arg_2_85': {'kp_2_7': 0.35804098799999995, 'kp_2_8': 0.659597397, 'kp_2_9': 0.22756636100000005, 'kp_2_10': 0.965743698, 'kp_2_11': 0.38288956900000004, 'kp_2_12': 0.04233056300000004, 'kp_2_13': 0.458767712}, 'arg_2_86': {'kp_2_7': 0.274278343, 'kp_2_8': 0.476943016, 'kp_2_9': 0.038252591999999974, 'kp_2_10': 0.32597506, 'kp_2_11': 0.03637522500000001, 'kp_2_12': 0.011332989000000016, 'kp_2_13': 0.16808104499999998}, 'arg_2_87': {'kp_2_7': 0.8615594209999999, 'kp_2_8': 0.12248683000000005, 'kp_2_9': 0.016696334000000035, 'kp_2_10': 0.22524493899999998, 'kp_2_11': 0.03184330499999999, 'kp_2_12': 0.025377153999999957, 'kp_2_13': 0.04758214999999999}, 'arg_2_88': {'kp_2_7': 0.26496046799999995, 'kp_2_8': 0.5759754779999999, 'kp_2_9': 0.25619959800000003, 'kp_2_10': 0.8416619599999999, 'kp_2_11': 0.45622372600000005, 'kp_2_12': 0.19423037799999998, 'kp_2_13': 0.36678922199999997}, 'arg_2_89': {'kp_2_7': 0.99265685, 'kp_2_8': 0.19380432400000003, 'kp_2_9': 0.19790804399999995, 'kp_2_10': 0.270152152, 'kp_2_11': 0.405201614, 'kp_2_12': 0.570653677, 'kp_2_13': 0.056596815999999994}, 'arg_2_90': {'kp_2_7': 0.99977736, 'kp_2_8': 0.528793573, 'kp_2_9': 0.06366705900000003, 'kp_2_10': 0.667920858, 'kp_2_11': 0.602893025, 'kp_2_12': 0.106777966, 'kp_2_13': 0.131525636}, 'arg_2_91': {'kp_2_7': 0.788733169, 'kp_2_8': 0.407342911, 'kp_2_9': 0.009904981000000035, 'kp_2_10': 0.16076564800000004, 'kp_2_11': 0.11937427499999997, 'kp_2_12': 0.022489250000000016, 'kp_2_13': 0.14124965700000003}, 'arg_2_92': {'kp_2_7': 0.83663933, 'kp_2_8': 0.30007582899999996, 'kp_2_9': 0.16464287, 'kp_2_10': 0.19032639299999998, 'kp_2_11': 0.22441297800000004, 'kp_2_12': 0.10593146099999995, 'kp_2_13': 0.13991689699999998}, 'arg_2_93': {'kp_2_7': 0.13571095499999997, 'kp_2_8': 0.992341724, 'kp_2_9': 0.717943907, 'kp_2_10': 0.795620188, 'kp_2_11': 0.20378679, 'kp_2_12': 0.31136351799999995, 'kp_2_13': 0.45884180100000005}, 'arg_2_94': {'kp_2_7': 0.839149937, 'kp_2_8': 0.06735211600000002, 'kp_2_9': 0.026165128000000037, 'kp_2_10': 0.13575518099999995, 'kp_2_11': 0.05315941599999996, 'kp_2_12': 0.015598595000000048, 'kp_2_13': 0.10349500199999995}, 'arg_2_95': {'kp_2_7': 0.783142582, 'kp_2_8': 0.304536641, 'kp_2_9': 0.029827057999999962, 'kp_2_10': 0.34266543400000005, 'kp_2_11': 0.361533105, 'kp_2_12': 0.023699044999999974, 'kp_2_13': 0.07982844099999997}, 'arg_2_96': {'kp_2_7': 0.418784857, 'kp_2_8': 0.39785832200000004, 'kp_2_9': 0.03579515200000005, 'kp_2_10': 0.23454982000000002, 'kp_2_11': 0.16248869899999996, 'kp_2_12': 0.10913890599999998, 'kp_2_13': 0.046444178}, 'arg_2_97': {'kp_2_7': 0.593722582, 'kp_2_8': 0.04540866600000004, 'kp_2_9': 0.02986770900000002, 'kp_2_10': 0.13486951599999997, 'kp_2_11': 0.13391763, 'kp_2_12': 0.16679501500000005, 'kp_2_13': 0.10112094900000002}, 'arg_2_98': {'kp_2_7': 0.04912894999999995, 'kp_2_8': 0.017283559000000004, 'kp_2_9': 0.03559684799999996, 'kp_2_10': 0.021378458000000045, 'kp_2_11': 0.08414644000000004, 'kp_2_12': 0.00034928300000003354, 'kp_2_13': 0.823697656}, 'arg_2_99': {'kp_2_7': 0.784013778, 'kp_2_8': 0.274212539, 'kp_2_9': 0.082890511, 'kp_2_10': 0.589961559, 'kp_2_11': 0.854471788, 'kp_2_12': 0.02174031700000001, 'kp_2_13': 0.11571824600000002}, 'arg_2_100': {'kp_2_7': 0.07526755299999999, 'kp_2_8': 0.22154223900000003, 'kp_2_9': 0.03726702900000001, 'kp_2_10': 0.25876087000000003, 'kp_2_11': 0.007338405000000048, 'kp_2_12': 0.001763344, 'kp_2_13': 0.050408362999999956}, 'arg_2_101': {'kp_2_7': 0.757760867, 'kp_2_8': 0.889653958, 'kp_2_9': 0.993602162, 'kp_2_10': 0.842151344, 'kp_2_11': 0.735077679, 'kp_2_12': 0.539728105, 'kp_2_13': 0.767998621}, 'arg_2_102': {'kp_2_7': 0.598848045, 'kp_2_8': 0.32977402200000006, 'kp_2_9': 0.23477619900000002, 'kp_2_10': 0.771027893, 'kp_2_11': 0.973801194, 'kp_2_12': 0.15144950199999996, 'kp_2_13': 0.309705079}, 'arg_2_103': {'kp_2_7': 0.817916423, 'kp_2_8': 0.465928137, 'kp_2_9': 0.07052266600000001, 'kp_2_10': 0.533808589, 'kp_2_11': 0.454419196, 'kp_2_12': 0.697296232, 'kp_2_13': 0.645096272}, 'arg_2_104': {'kp_2_7': 0.24424040300000005, 'kp_2_8': 0.14683216799999999, 'kp_2_9': 0.994898933, 'kp_2_10': 0.5641182069999999, 'kp_2_11': 0.007825850999999995, 'kp_2_12': 0.005922317999999982, 'kp_2_13': 0.929390602}, 'arg_2_105': {'kp_2_7': 0.09248513000000003, 'kp_2_8': 0.966040157, 'kp_2_9': 0.07065224599999997, 'kp_2_10': 0.473756909, 'kp_2_11': 0.05712139599999999, 'kp_2_12': 0.029117881999999984, 'kp_2_13': 0.6125682290000001}, 'arg_2_106': {'kp_2_7': 0.24243378599999998, 'kp_2_8': 0.20523327599999996, 'kp_2_9': 0.187107444, 'kp_2_10': 0.40699392599999995, 'kp_2_11': 0.221831977, 'kp_2_12': 0.378673375, 'kp_2_13': 0.06443083299999997}, 'arg_2_107': {'kp_2_7': 0.342447281, 'kp_2_8': 0.10536837600000004, 'kp_2_9': 0.564198077, 'kp_2_10': 0.696131229, 'kp_2_11': 0.592631906, 'kp_2_12': 0.020602523999999955, 'kp_2_13': 0.951738015}, 'arg_2_108': {'kp_2_7': 0.21467423399999996, 'kp_2_8': 0.544977069, 'kp_2_9': 0.0074207189999999645, 'kp_2_10': 0.11774665100000004, 'kp_2_11': 0.006498992000000037, 'kp_2_12': 0.0008859039999999929, 'kp_2_13': 0.091387153}, 'arg_2_109': {'kp_2_7': 0.824197099, 'kp_2_8': 0.448239148, 'kp_2_9': 0.816200271, 'kp_2_10': 0.798707783, 'kp_2_11': 0.98437628, 'kp_2_12': 0.603619218, 'kp_2_13': 0.6412612200000001}, 'arg_2_110': {'kp_2_7': 0.02013689299999999, 'kp_2_8': 0.017309368000000047, 'kp_2_9': 0.001607478000000051, 'kp_2_10': 0.02174514500000002, 'kp_2_11': 0.01848882399999996, 'kp_2_12': 0.009776950000000006, 'kp_2_13': 0.003973603000000048}, 'arg_2_111': {'kp_2_7': 0.21350097700000004, 'kp_2_8': 0.751432434, 'kp_2_9': 0.37934958900000004, 'kp_2_10': 0.625947177, 'kp_2_11': 0.08315825499999996, 'kp_2_12': 0.10993462799999998, 'kp_2_13': 0.163096189}, 'arg_2_112': {'kp_2_7': 0.49776965399999995, 'kp_2_8': 0.673377126, 'kp_2_9': 0.169911563, 'kp_2_10': 0.46342361, 'kp_2_11': 0.053827524000000015, 'kp_2_12': 0.41477531199999995, 'kp_2_13': 0.10182160100000004}, 'arg_2_113': {'kp_2_7': 0.5651113990000001, 'kp_2_8': 0.516021222, 'kp_2_9': 0.22355717399999997, 'kp_2_10': 0.6583099960000001, 'kp_2_11': 0.26187229199999995, 'kp_2_12': 0.08414280399999996, 'kp_2_13': 0.519860953}, 'arg_2_114': {'kp_2_7': 0.25753462299999996, 'kp_2_8': 0.979758058, 'kp_2_9': 0.996538393, 'kp_2_10': 0.762305796, 'kp_2_11': 0.7369272410000001, 'kp_2_12': 0.765171379, 'kp_2_13': 0.44486498799999996}, 'arg_2_115': {'kp_2_7': 0.26539260099999995, 'kp_2_8': 0.7416911420000001, 'kp_2_9': 0.246186256, 'kp_2_10': 0.24760144900000003, 'kp_2_11': 0.134369195, 'kp_2_12': 0.23478507999999998, 'kp_2_13': 0.875654615}, 'arg_2_116': {'kp_2_7': 0.6950078900000001, 'kp_2_8': 0.09778290999999995, 'kp_2_9': 0.22088050800000003, 'kp_2_10': 0.345858514, 'kp_2_11': 0.162097096, 'kp_2_12': 0.03422999400000004, 'kp_2_13': 0.661482602}, 'arg_2_117': {'kp_2_7': 0.245705783, 'kp_2_8': 0.686618239, 'kp_2_9': 0.866412476, 'kp_2_10': 0.974315301, 'kp_2_11': 0.6712690290000001, 'kp_2_12': 0.22108000500000002, 'kp_2_13': 0.69310227}, 'arg_2_118': {'kp_2_7': 0.88908527, 'kp_2_8': 0.06305909200000004, 'kp_2_9': 0.11415684199999998, 'kp_2_10': 0.391912162, 'kp_2_11': 0.699173391, 'kp_2_12': 0.21194153999999998, 'kp_2_13': 0.20111292599999997}, 'arg_2_119': {'kp_2_7': 0.591155648, 'kp_2_8': 0.14815121899999995, 'kp_2_9': 0.004832625000000035, 'kp_2_10': 0.024917065999999988, 'kp_2_11': 0.016007601999999954, 'kp_2_12': 0.08748066399999999, 'kp_2_13': 0.03683096200000002}, 'arg_2_120': {'kp_2_7': 0.30497866900000004, 'kp_2_8': 0.07120150300000005, 'kp_2_9': 0.01649343999999997, 'kp_2_10': 0.788897499, 'kp_2_11': 0.996301399, 'kp_2_12': 0.11548459499999997, 'kp_2_13': 0.11749011300000001}, 'arg_2_121': {'kp_2_7': 0.06805545099999999, 'kp_2_8': 0.28880411399999995, 'kp_2_9': 0.000594139000000049, 'kp_2_10': 0.12171721499999999, 'kp_2_11': 0.0003010030000000219, 'kp_2_12': 0.0002418159999999503, 'kp_2_13': 0.887657218}, 'arg_2_122': {'kp_2_7': 0.25188094400000005, 'kp_2_8': 0.888929814, 'kp_2_9': 0.016507684999999994, 'kp_2_10': 0.37561619300000004, 'kp_2_11': 0.22825986099999995, 'kp_2_12': 0.07589656099999997, 'kp_2_13': 0.05419164899999995}, 'arg_2_123': {'kp_2_7': 0.15805673600000003, 'kp_2_8': 0.621605873, 'kp_2_9': 0.008144497999999945, 'kp_2_10': 0.793566972, 'kp_2_11': 0.302016199, 'kp_2_12': 0.06134110699999995, 'kp_2_13': 0.5004332659999999}, 'arg_2_124': {'kp_2_7': 0.008083164999999948, 'kp_2_8': 0.999887591, 'kp_2_9': 0.0016582010000000258, 'kp_2_10': 0.22974067899999995, 'kp_2_11': 0.0008735060000000239, 'kp_2_12': 0.000385046, 'kp_2_13': 0.008308886999999987}, 'arg_2_125': {'kp_2_7': 0.999222909, 'kp_2_8': 0.778572589, 'kp_2_9': 0.03337472699999999, 'kp_2_10': 0.746168375, 'kp_2_11': 0.265284002, 'kp_2_12': 0.03142940999999999, 'kp_2_13': 0.33573752599999995}, 'arg_2_126': {'kp_2_7': 0.21898436499999996, 'kp_2_8': 0.9009078, 'kp_2_9': 0.27107554700000003, 'kp_2_10': 0.862301156, 'kp_2_11': 0.04465907800000002, 'kp_2_12': 0.058100401999999995, 'kp_2_13': 0.625309676}, 'arg_2_127': {'kp_2_7': 0.857483134, 'kp_2_8': 0.10172945300000003, 'kp_2_9': 0.10221219100000001, 'kp_2_10': 0.139441967, 'kp_2_11': 0.00459468399999996, 'kp_2_12': 0.0016400220000000187, 'kp_2_13': 0.483800471}, 'arg_2_128': {'kp_2_7': 0.16117149600000003, 'kp_2_8': 0.9998708, 'kp_2_9': 0.025276243999999948, 'kp_2_10': 0.46340429800000005, 'kp_2_11': 0.008788644999999984, 'kp_2_12': 0.014499962000000033, 'kp_2_13': 0.051889658000000005}, 'arg_2_129': {'kp_2_7': 0.773000479, 'kp_2_8': 0.453282714, 'kp_2_9': 0.002549707999999984, 'kp_2_10': 0.479218006, 'kp_2_11': 0.009657263999999999, 'kp_2_12': 0.0017763969999999851, 'kp_2_13': 0.011176407}, 'arg_2_130': {'kp_2_7': 0.011533499000000003, 'kp_2_8': 0.99989088, 'kp_2_9': 0.001680553000000029, 'kp_2_10': 0.12826293700000002, 'kp_2_11': 0.0002329949999999581, 'kp_2_12': 0.00019890099999997357, 'kp_2_13': 0.007490039000000004}, 'arg_2_131': {'kp_2_7': 0.03346741200000003, 'kp_2_8': 0.776570916, 'kp_2_9': 0.294469655, 'kp_2_10': 0.885583945, 'kp_2_11': 0.976795295, 'kp_2_12': 0.657769769, 'kp_2_13': 0.515890092}, 'arg_2_132': {'kp_2_7': 0.018578172000000004, 'kp_2_8': 0.999612456, 'kp_2_9': 0.0005274419999999891, 'kp_2_10': 0.840813175, 'kp_2_11': 0.0015388729999999962, 'kp_2_12': 0.0002433659999999671, 'kp_2_13': 0.10909181800000001}, 'arg_2_133': {'kp_2_7': 0.934427135, 'kp_2_8': 0.11956638100000005, 'kp_2_9': 0.0012527700000000142, 'kp_2_10': 0.35940969, 'kp_2_11': 0.25520438, 'kp_2_12': 0.010315657000000034, 'kp_2_13': 0.028399168999999946}, 'arg_2_134': {'kp_2_7': 0.033884465999999946, 'kp_2_8': 0.262858033, 'kp_2_9': 0.376243353, 'kp_2_10': 0.19712400399999996, 'kp_2_11': 0.031240880000000026, 'kp_2_12': 0.774246931, 'kp_2_13': 0.011618435000000038}, 'arg_2_135': {'kp_2_7': 0.002023757000000015, 'kp_2_8': 0.999898668, 'kp_2_9': 0.0006774659999999599, 'kp_2_10': 0.21958982900000001, 'kp_2_11': 0.0001649860000000336, 'kp_2_12': 0.00010013600000002842, 'kp_2_13': 0.002414703000000018}, 'arg_2_136': {'kp_2_7': 0.99934555, 'kp_2_8': 0.18703216300000003, 'kp_2_9': 0.0022019149999999987, 'kp_2_10': 0.260810494, 'kp_2_11': 0.012213825999999983, 'kp_2_12': 0.0068881509999999535, 'kp_2_13': 0.037195325}, 'arg_2_137': {'kp_2_7': 0.10887175800000004, 'kp_2_8': 0.998569275, 'kp_2_9': 0.007887124999999995, 'kp_2_10': 0.447663724, 'kp_2_11': 0.0033568139999999858, 'kp_2_12': 0.0006344910000000148, 'kp_2_13': 0.045715987999999985}, 'arg_2_138': {'kp_2_7': 0.526291579, 'kp_2_8': 0.933448955, 'kp_2_9': 0.004507542000000031, 'kp_2_10': 0.655448526, 'kp_2_11': 0.017412364000000013, 'kp_2_12': 0.0037862659999999826, 'kp_2_13': 0.15813320900000005}, 'arg_2_139': {'kp_2_7': 0.982909707, 'kp_2_8': 0.931665361, 'kp_2_9': 0.19467037899999995, 'kp_2_10': 0.906113207, 'kp_2_11': 0.872358933, 'kp_2_12': 0.20647185999999995, 'kp_2_13': 0.48992860299999996}, 'arg_2_140': {'kp_2_7': 0.890581295, 'kp_2_8': 0.996604905, 'kp_2_9': 0.5079574579999999, 'kp_2_10': 0.465216756, 'kp_2_11': 0.5100399849999999, 'kp_2_12': 0.803250566, 'kp_2_13': 0.20514053099999996}, 'arg_2_141': {'kp_2_7': 0.334158301, 'kp_2_8': 0.30573970100000003, 'kp_2_9': 0.994747426, 'kp_2_10': 0.376790226, 'kp_2_11': 0.06405752899999995, 'kp_2_12': 0.15239119499999998, 'kp_2_13': 0.5578546520000001}, 'arg_2_142': {'kp_2_7': 0.627118647, 'kp_2_8': 0.8040610850000001, 'kp_2_9': 0.05167502199999996, 'kp_2_10': 0.10503280199999998, 'kp_2_11': 0.01831436200000003, 'kp_2_12': 0.233848512, 'kp_2_13': 0.080406427}, 'arg_2_143': {'kp_2_7': 0.020613491999999956, 'kp_2_8': 0.008399009999999985, 'kp_2_9': 0.02608424399999998, 'kp_2_10': 0.027289032999999963, 'kp_2_11': 0.001269638999999989, 'kp_2_12': 0.0018070340000000407, 'kp_2_13': 0.549554944}, 'arg_2_144': {'kp_2_7': 0.399887502, 'kp_2_8': 0.20856755999999999, 'kp_2_9': 0.24195593599999998, 'kp_2_10': 0.323303282, 'kp_2_11': 0.936151803, 'kp_2_12': 0.06269037700000002, 'kp_2_13': 0.13497382400000002}, 'arg_2_145': {'kp_2_7': 0.995151175, 'kp_2_8': 0.5590773520000001, 'kp_2_9': 0.01414030799999999, 'kp_2_10': 0.512982965, 'kp_2_11': 0.03881287600000005, 'kp_2_12': 0.031979740000000034, 'kp_2_13': 0.10949271900000002}, 'arg_2_146': {'kp_2_7': 0.998470687, 'kp_2_8': 0.372941136, 'kp_2_9': 0.004294097000000052, 'kp_2_10': 0.21519428500000004, 'kp_2_11': 0.020290731999999978, 'kp_2_12': 0.007734357999999997, 'kp_2_13': 0.044487774000000035}, 'arg_2_147': {'kp_2_7': 0.7246840889999999, 'kp_2_8': 0.05245393499999995, 'kp_2_9': 0.745458335, 'kp_2_10': 0.102526844, 'kp_2_11': 0.08604299999999998, 'kp_2_12': 0.11321389699999995, 'kp_2_13': 0.09402197599999995}, 'arg_2_148': {'kp_2_7': 0.01340240199999998, 'kp_2_8': 0.999719599, 'kp_2_9': 0.559953243, 'kp_2_10': 0.8453676999999999, 'kp_2_11': 0.0014916059999999787, 'kp_2_12': 0.000458359999999991, 'kp_2_13': 0.791368365}, 'arg_2_149': {'kp_2_7': 0.6410305199999999, 'kp_2_8': 0.27689307900000004, 'kp_2_9': 0.336761773, 'kp_2_10': 0.48992902000000005, 'kp_2_11': 0.900641702, 'kp_2_12': 0.022614419000000052, 'kp_2_13': 0.303086042}, 'arg_2_150': {'kp_2_7': 0.154070437, 'kp_2_8': 0.344312489, 'kp_2_9': 0.491510808, 'kp_2_10': 0.970139522, 'kp_2_11': 0.447158992, 'kp_2_12': 0.043255567999999966, 'kp_2_13': 0.701015145}, 'arg_2_151': {'kp_2_7': 0.999581113, 'kp_2_8': 0.906971894, 'kp_2_9': 0.04759943499999997, 'kp_2_10': 0.772459969, 'kp_2_11': 0.232894123, 'kp_2_12': 0.03249263800000002, 'kp_2_13': 0.459250629}, 'arg_2_152': {'kp_2_7': 0.997998129, 'kp_2_8': 0.670594633, 'kp_2_9': 0.03775888699999996, 'kp_2_10': 0.894744359, 'kp_2_11': 0.636122018, 'kp_2_12': 0.023862123000000013, 'kp_2_13': 0.17121738200000003}, 'arg_2_153': {'kp_2_7': 0.599865019, 'kp_2_8': 0.21396052799999998, 'kp_2_9': 0.34069353300000005, 'kp_2_10': 0.716326654, 'kp_2_11': 0.965164129, 'kp_2_12': 0.500880361, 'kp_2_13': 0.18428683300000004}, 'arg_2_154': {'kp_2_7': 0.930847593, 'kp_2_8': 0.19785612799999996, 'kp_2_9': 0.11203837400000005, 'kp_2_10': 0.59300983, 'kp_2_11': 0.660406828, 'kp_2_12': 0.12126153699999997, 'kp_2_13': 0.08927935399999998}, 'arg_2_155': {'kp_2_7': 0.37940502200000004, 'kp_2_8': 0.652735651, 'kp_2_9': 0.28419756900000004, 'kp_2_10': 0.22639238800000006, 'kp_2_11': 0.025426983999999986, 'kp_2_12': 0.03172856599999996, 'kp_2_13': 0.18002885599999996}, 'arg_2_156': {'kp_2_7': 0.150062323, 'kp_2_8': 0.038497566999999955, 'kp_2_9': 0.11431562900000003, 'kp_2_10': 0.547272056, 'kp_2_11': 0.7812354420000001, 'kp_2_12': 0.04363495100000003, 'kp_2_13': 0.136792362}, 'arg_2_157': {'kp_2_7': 0.870825157, 'kp_2_8': 0.47691011400000005, 'kp_2_9': 0.716017336, 'kp_2_10': 0.49151754400000003, 'kp_2_11': 0.45326066, 'kp_2_12': 0.457498729, 'kp_2_13': 0.24258333399999998}, 'arg_2_158': {'kp_2_7': 0.333498478, 'kp_2_8': 0.10180962100000002, 'kp_2_9': 0.094910622, 'kp_2_10': 0.08222436899999996, 'kp_2_11': 0.256697893, 'kp_2_12': 0.6853777169999999, 'kp_2_13': 0.016613542999999953}, 'arg_2_159': {'kp_2_7': 0.42624908699999997, 'kp_2_8': 0.999868008, 'kp_2_9': 0.0014588829999999664, 'kp_2_10': 0.21596234999999997, 'kp_2_11': 0.000816166000000007, 'kp_2_12': 0.00033474000000000004, 'kp_2_13': 0.01114189600000004}, 'arg_2_160': {'kp_2_7': 0.16270661399999997, 'kp_2_8': 0.776869163, 'kp_2_9': 0.009359836999999982, 'kp_2_10': 0.661563754, 'kp_2_11': 0.012669683000000043, 'kp_2_12': 0.0023390049999999496, 'kp_2_13': 0.44245576900000005}, 'arg_2_161': {'kp_2_7': 0.776429877, 'kp_2_8': 0.22025042800000005, 'kp_2_9': 0.015932322000000054, 'kp_2_10': 0.497714758, 'kp_2_11': 0.033874154000000045, 'kp_2_12': 0.014079391999999968, 'kp_2_13': 0.311586261}, 'arg_2_162': {'kp_2_7': 0.018028080000000002, 'kp_2_8': 0.010394812000000031, 'kp_2_9': 0.0016331080000000497, 'kp_2_10': 0.5524585550000001, 'kp_2_11': 0.983467342, 'kp_2_12': 0.002864599000000023, 'kp_2_13': 0.002375661999999945}, 'arg_2_163': {'kp_2_7': 0.880371526, 'kp_2_8': 0.510699362, 'kp_2_9': 0.618840069, 'kp_2_10': 0.709130526, 'kp_2_11': 0.993183096, 'kp_2_12': 0.676755667, 'kp_2_13': 0.546019852}, 'arg_2_164': {'kp_2_7': 0.253528357, 'kp_2_8': 0.23100197300000003, 'kp_2_9': 0.08714848799999997, 'kp_2_10': 0.493338108, 'kp_2_11': 0.19503730500000005, 'kp_2_12': 0.11214381500000004, 'kp_2_13': 0.19318568700000005}, 'arg_2_165': {'kp_2_7': 0.551393807, 'kp_2_8': 0.177084923, 'kp_2_9': 0.027204989999999984, 'kp_2_10': 0.437135696, 'kp_2_11': 0.15996837600000002, 'kp_2_12': 0.028668761000000043, 'kp_2_13': 0.09092456100000001}, 'arg_2_166': {'kp_2_7': 0.402546823, 'kp_2_8': 0.8135276140000001, 'kp_2_9': 0.6358760299999999, 'kp_2_10': 0.935824759, 'kp_2_11': 0.7215974629999999, 'kp_2_12': 0.437210262, 'kp_2_13': 0.824647263}, 'arg_2_167': {'kp_2_7': 0.12385249099999995, 'kp_2_8': 0.21950799200000004, 'kp_2_9': 0.030607700000000015, 'kp_2_10': 0.09398734600000003, 'kp_2_11': 0.01373743999999999, 'kp_2_12': 0.002045630999999992, 'kp_2_13': 0.266670406}, 'arg_2_168': {'kp_2_7': 0.13136786199999995, 'kp_2_8': 0.24557679899999996, 'kp_2_9': 0.03665530699999997, 'kp_2_10': 0.154436648, 'kp_2_11': 0.019151150999999977, 'kp_2_12': 0.0024191140000000555, 'kp_2_13': 0.353768051}, 'arg_2_169': {'kp_2_7': 0.04875284400000002, 'kp_2_8': 0.967603721, 'kp_2_9': 0.061223029999999956, 'kp_2_10': 0.111573696, 'kp_2_11': 0.09013783900000005, 'kp_2_12': 0.009698093000000019, 'kp_2_13': 0.061692894}, 'arg_2_170': {'kp_2_7': 0.03199416399999999, 'kp_2_8': 0.24326694000000004, 'kp_2_9': 0.0006016490000000374, 'kp_2_10': 0.418844581, 'kp_2_11': 0.0012451409999999496, 'kp_2_12': 0.00025385600000005226, 'kp_2_13': 0.024011314000000006}, 'arg_2_171': {'kp_2_7': 0.24269694100000005, 'kp_2_8': 0.293845534, 'kp_2_9': 0.014026642000000034, 'kp_2_10': 0.710552901, 'kp_2_11': 0.056271850999999984, 'kp_2_12': 0.014667212999999957, 'kp_2_13': 0.231042564}, 'arg_2_172': {'kp_2_7': 0.007038890999999992, 'kp_2_8': 0.5652261080000001, 'kp_2_9': 0.0013331170000000503, 'kp_2_10': 0.49318426800000004, 'kp_2_11': 0.0008868579999999904, 'kp_2_12': 0.00024420000000002773, 'kp_2_13': 0.017247735999999958}, 'arg_2_173': {'kp_2_7': 0.998861188, 'kp_2_8': 0.855728999, 'kp_2_9': 0.00804489900000005, 'kp_2_10': 0.549588799, 'kp_2_11': 0.04486692000000003, 'kp_2_12': 0.003877342000000006, 'kp_2_13': 0.20707350999999996}, 'arg_2_174': {'kp_2_7': 0.07427936800000001, 'kp_2_8': 0.24236893699999995, 'kp_2_9': 0.001985788000000044, 'kp_2_10': 0.06086891900000002, 'kp_2_11': 0.002516447999999949, 'kp_2_12': 0.000923633999999951, 'kp_2_13': 0.01814323699999998}, 'arg_2_175': {'kp_2_7': 0.952349737, 'kp_2_8': 0.15630984299999995, 'kp_2_9': 0.0035179850000000012, 'kp_2_10': 0.444582224, 'kp_2_11': 0.40400379900000005, 'kp_2_12': 0.038297712999999955, 'kp_2_13': 0.174068153}, 'arg_2_176': {'kp_2_7': 0.27016097299999997, 'kp_2_8': 0.034211159000000047, 'kp_2_9': 0.006648957999999983, 'kp_2_10': 0.037216425, 'kp_2_11': 0.10009217299999995, 'kp_2_12': 0.033032119000000026, 'kp_2_13': 0.020222068000000037}, 'arg_2_177': {'kp_2_7': 0.263102174, 'kp_2_8': 0.19254493699999997, 'kp_2_9': 0.44921857099999996, 'kp_2_10': 0.168954492, 'kp_2_11': 0.704784662, 'kp_2_12': 0.89528951, 'kp_2_13': 0.07730722400000001}, 'arg_2_178': {'kp_2_7': 0.0060883760000000064, 'kp_2_8': 0.36484783899999995, 'kp_2_9': 0.0006307960000000445, 'kp_2_10': 0.05407899599999999, 'kp_2_11': 0.0025980469999999922, 'kp_2_12': 0.0004841089999999548, 'kp_2_13': 0.0041928289999999535}, 'arg_2_179': {'kp_2_7': 0.528184801, 'kp_2_8': 0.03704822100000005, 'kp_2_9': 0.009373307000000053, 'kp_2_10': 0.25688916399999995, 'kp_2_11': 0.781851426, 'kp_2_12': 0.17845106099999997, 'kp_2_13': 0.07150989799999996}, 'arg_2_180': {'kp_2_7': 0.929146767, 'kp_2_8': 0.6464711430000001, 'kp_2_9': 0.11140358400000006, 'kp_2_10': 0.12552851399999998, 'kp_2_11': 0.07399743800000003, 'kp_2_12': 0.16664320200000005, 'kp_2_13': 0.02679419500000002}, 'arg_2_181': {'kp_2_7': 0.004574357999999945, 'kp_2_8': 0.07695174199999999, 'kp_2_9': 0.24823218599999997, 'kp_2_10': 0.005037784999999961, 'kp_2_11': 0.0015392300000000025, 'kp_2_12': 0.6607693729999999, 'kp_2_13': 0.0008521080000000181}, 'arg_2_182': {'kp_2_7': 0.24890029400000002, 'kp_2_8': 0.231296599, 'kp_2_9': 0.24062192400000004, 'kp_2_10': 0.15464669499999995, 'kp_2_11': 0.23101097299999995, 'kp_2_12': 0.91565568, 'kp_2_13': 0.03907889099999995}, 'arg_2_183': {'kp_2_7': 0.138439655, 'kp_2_8': 0.929225519, 'kp_2_9': 0.25483036000000003, 'kp_2_10': 0.800283179, 'kp_2_11': 0.986994526, 'kp_2_12': 0.49973291200000003, 'kp_2_13': 0.05886322300000002}, 'arg_2_184': {'kp_2_7': 0.890664622, 'kp_2_8': 0.047142267000000015, 'kp_2_9': 0.01632606999999997, 'kp_2_10': 0.46174114899999996, 'kp_2_11': 0.44725865099999995, 'kp_2_12': 0.14171773200000004, 'kp_2_13': 0.037323415000000026}, 'arg_2_185': {'kp_2_7': 0.883539312, 'kp_2_8': 0.284024835, 'kp_2_9': 0.15290713300000003, 'kp_2_10': 0.366617501, 'kp_2_11': 0.663945913, 'kp_2_12': 0.5545609300000001, 'kp_2_13': 0.230191767}, 'arg_2_186': {'kp_2_7': 0.36235201399999994, 'kp_2_8': 0.134344578, 'kp_2_9': 0.07838213400000005, 'kp_2_10': 0.16268330799999997, 'kp_2_11': 0.05297040900000005, 'kp_2_12': 0.28666633399999997, 'kp_2_13': 0.30132567899999996}, 'arg_2_187': {'kp_2_7': 0.604482859, 'kp_2_8': 0.143261611, 'kp_2_9': 0.027786493000000023, 'kp_2_10': 0.199075699, 'kp_2_11': 0.279936254, 'kp_2_12': 0.403460681, 'kp_2_13': 0.09734660399999995}, 'arg_2_188': {'kp_2_7': 0.20210343600000003, 'kp_2_8': 0.19351875799999996, 'kp_2_9': 0.00880605000000001, 'kp_2_10': 0.681288153, 'kp_2_11': 0.5874657329999999, 'kp_2_12': 0.09005194900000002, 'kp_2_13': 0.01909709000000004}, 'arg_2_189': {'kp_2_7': 0.025677501999999963, 'kp_2_8': 0.25606912400000004, 'kp_2_9': 0.769029826, 'kp_2_10': 0.20669025200000002, 'kp_2_11': 0.09483659300000002, 'kp_2_12': 0.30260872800000005, 'kp_2_13': 0.0055024030000000446}, 'arg_2_190': {'kp_2_7': 0.456145942, 'kp_2_8': 0.989551808, 'kp_2_9': 0.31680440899999995, 'kp_2_10': 0.942077074, 'kp_2_11': 0.10831582500000003, 'kp_2_12': 0.056698798999999966, 'kp_2_13': 0.37817364899999995}, 'arg_2_191': {'kp_2_7': 0.406718731, 'kp_2_8': 0.744501978, 'kp_2_9': 0.5219585, 'kp_2_10': 0.392339051, 'kp_2_11': 0.36837106900000005, 'kp_2_12': 0.926540278, 'kp_2_13': 0.14404344599999996}, 'arg_2_192': {'kp_2_7': 0.723418742, 'kp_2_8': 0.13578999000000003, 'kp_2_9': 0.05026137799999997, 'kp_2_10': 0.396602809, 'kp_2_11': 0.08067709199999995, 'kp_2_12': 0.04502457400000004, 'kp_2_13': 0.14096486600000002}, 'arg_2_193': {'kp_2_7': 0.10484504699999997, 'kp_2_8': 0.310510278, 'kp_2_9': 0.02172970799999996, 'kp_2_10': 0.04398012200000001, 'kp_2_11': 0.009909511000000037, 'kp_2_12': 0.007728696000000035, 'kp_2_13': 0.020189345000000025}, 'arg_2_194': {'kp_2_7': 0.173040211, 'kp_2_8': 0.044931829000000034, 'kp_2_9': 0.015604733999999953, 'kp_2_10': 0.656546801, 'kp_2_11': 0.963190023, 'kp_2_12': 0.06869953900000003, 'kp_2_13': 0.09856343300000003}, 'arg_2_195': {'kp_2_7': 0.003179430999999955, 'kp_2_8': 0.999760461, 'kp_2_9': 0.00147491700000002, 'kp_2_10': 0.12842917399999998, 'kp_2_11': 0.0004642009999999974, 'kp_2_12': 0.00011634800000004386, 'kp_2_13': 0.005048633000000025}, 'arg_2_196': {'kp_2_7': 0.13465774100000005, 'kp_2_8': 0.639023036, 'kp_2_9': 0.57971704, 'kp_2_10': 0.5329976679999999, 'kp_2_11': 0.003822683999999965, 'kp_2_12': 0.0014931559999999955, 'kp_2_13': 0.915955938}, 'arg_2_197': {'kp_2_7': 0.053103386999999946, 'kp_2_8': 0.17645102700000004, 'kp_2_9': 0.0011006590000000038, 'kp_2_10': 0.710033715, 'kp_2_11': 0.826667517, 'kp_2_12': 0.0019404290000000213, 'kp_2_13': 0.347469747}, 'arg_2_198': {'kp_2_7': 0.09033060100000001, 'kp_2_8': 0.16769701199999998, 'kp_2_9': 0.0010067820000000394, 'kp_2_10': 0.477873027, 'kp_2_11': 0.17812085200000005, 'kp_2_12': 0.00991171599999996, 'kp_2_13': 0.031186878999999945}, 'arg_2_199': {'kp_2_7': 0.07143008699999998, 'kp_2_8': 0.06682479399999997, 'kp_2_9': 0.0006224510000000238, 'kp_2_10': 0.476827621, 'kp_2_11': 0.32762169799999996, 'kp_2_12': 0.004890143999999985, 'kp_2_13': 0.010733247000000001}, 'arg_2_200': {'kp_2_7': 0.265682697, 'kp_2_8': 0.275444567, 'kp_2_9': 0.0017558340000000117, 'kp_2_10': 0.92164129, 'kp_2_11': 0.896210901, 'kp_2_12': 0.013622820000000035, 'kp_2_13': 0.06755429499999999}, 'arg_2_201': {'kp_2_7': 0.20077836500000001, 'kp_2_8': 0.35154581100000004, 'kp_2_9': 0.48839533300000004, 'kp_2_10': 0.788458228, 'kp_2_11': 0.7478253539999999, 'kp_2_12': 0.403942704, 'kp_2_13': 0.34114015099999995}, 'arg_2_202': {'kp_2_7': 0.008804798000000003, 'kp_2_8': 0.18871760400000004, 'kp_2_9': 0.005531430000000004, 'kp_2_10': 0.08307522499999997, 'kp_2_11': 0.0024119620000000452, 'kp_2_12': 0.0017584560000000193, 'kp_2_13': 0.05538594699999999}, 'arg_2_203': {'kp_2_7': 0.993830189, 'kp_2_8': 0.22817087199999997, 'kp_2_9': 0.11947828500000002, 'kp_2_10': 0.24037385, 'kp_2_11': 0.134608567, 'kp_2_12': 0.22779274000000005, 'kp_2_13': 0.18650132399999997}, 'arg_2_204': {'kp_2_7': 0.47281444100000003, 'kp_2_8': 0.445150256, 'kp_2_9': 0.004751622999999983, 'kp_2_10': 0.784885854, 'kp_2_11': 0.755885571, 'kp_2_12': 0.16060352300000003, 'kp_2_13': 0.07103663699999996}, 'arg_2_205': {'kp_2_7': 0.93643228, 'kp_2_8': 0.92609562, 'kp_2_9': 0.990419594, 'kp_2_10': 0.889873199, 'kp_2_11': 0.07763803000000002, 'kp_2_12': 0.10080730900000001, 'kp_2_13': 0.973810684}, 'arg_2_206': {'kp_2_7': 0.521952242, 'kp_2_8': 0.716942728, 'kp_2_9': 0.13024866599999996, 'kp_2_10': 0.5595268609999999, 'kp_2_11': 0.03761035199999996, 'kp_2_12': 0.019450366000000052, 'kp_2_13': 0.7520656139999999}, 'arg_2_207': {'kp_2_7': 0.270480454, 'kp_2_8': 0.38120722799999995, 'kp_2_9': 0.0022733809999999632, 'kp_2_10': 0.8056365249999999, 'kp_2_11': 0.892264441, 'kp_2_12': 0.01637417100000005, 'kp_2_13': 0.052483261}, 'arg_2_208': {'kp_2_7': 0.15456265199999997, 'kp_2_8': 0.22961783400000002, 'kp_2_9': 0.008736253000000027, 'kp_2_10': 0.18387943500000004, 'kp_2_11': 0.016184985999999957, 'kp_2_12': 0.006821631999999966, 'kp_2_13': 0.164525449}, 'arg_2_209': {'kp_2_7': 0.051265954999999974, 'kp_2_8': 0.15146386599999995, 'kp_2_9': 0.005321860000000012, 'kp_2_10': 0.38628101299999995, 'kp_2_11': 0.047338128000000035, 'kp_2_12': 0.425297379, 'kp_2_13': 0.04320776500000001}}\n"
     ]
    }
   ],
   "source": [
    "output_data = []\n",
    "arg_id = argument_df['arg_id'].values.tolist()\n",
    "for arg in arg_id:\n",
    "    filtered_df = test_df[test_df['arg_id'] == arg]\n",
    "    kp_id = filtered_df['key_point_id'].values.tolist()\n",
    "    score = filtered_df['confidence_score'].values.tolist()\n",
    "    result_dict = dict(zip(kp_id, score))\n",
    "    output_data.append(result_dict)\n",
    "final_result = dict(zip(arg_id,output_data))\n",
    "print(final_result)"
   ],
   "metadata": {
    "collapsed": false,
    "pycharm": {
     "name": "#%%\n"
    }
   }
  },
  {
   "cell_type": "code",
   "execution_count": 25,
   "outputs": [
    {
     "name": "stdout",
     "output_type": "stream",
     "text": [
      "JSON file './result/test.json' created successfully.\n"
     ]
    }
   ],
   "source": [
    "import json\n",
    "file_path = './result/test.json'\n",
    "with open(file_path, 'w') as json_file:\n",
    "    json.dump(final_result, json_file)\n",
    "print(f\"JSON file '{file_path}' created successfully.\")"
   ],
   "metadata": {
    "collapsed": false,
    "pycharm": {
     "name": "#%%\n"
    }
   }
  },
  {
   "cell_type": "code",
   "execution_count": null,
   "outputs": [],
   "source": [],
   "metadata": {
    "collapsed": false,
    "pycharm": {
     "name": "#%%\n"
    }
   }
  }
 ],
 "metadata": {
  "kernelspec": {
   "display_name": "Python 3",
   "language": "python",
   "name": "python3"
  },
  "language_info": {
   "codemirror_mode": {
    "name": "ipython",
    "version": 2
   },
   "file_extension": ".py",
   "mimetype": "text/x-python",
   "name": "python",
   "nbconvert_exporter": "python",
   "pygments_lexer": "ipython2",
   "version": "2.7.6"
  }
 },
 "nbformat": 4,
 "nbformat_minor": 0
}