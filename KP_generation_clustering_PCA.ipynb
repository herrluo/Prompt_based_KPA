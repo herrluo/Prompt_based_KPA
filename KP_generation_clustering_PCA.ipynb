{
 "cells": [
  {
   "cell_type": "code",
   "execution_count": 1,
   "outputs": [
    {
     "name": "stdout",
     "output_type": "stream",
     "text": [
      "Index(['topic', 'stance', 'argument', 'key_point', 'embedding(0_1_2_3)',\n",
      "       'embedding(4_7_8_15)', 'embedding(5_6_9_10)', 'embedding(11_12_13_14)',\n",
      "       'embedding(16_17_18_19)', 'embedding(20_21_22_23)',\n",
      "       'embedding(24_25_26_27)', 'avg_embedding'],\n",
      "      dtype='object')\n"
     ]
    }
   ],
   "source": [
    "import pandas as pd\n",
    "df = pd.read_csv('./qwen/data/qwen_1by1+predictions.csv')\n",
    "print(df.columns)"
   ],
   "metadata": {
    "collapsed": false,
    "pycharm": {
     "name": "#%%\n"
    }
   }
  },
  {
   "cell_type": "code",
   "execution_count": 2,
   "outputs": [
    {
     "name": "stdout",
     "output_type": "stream",
     "text": [
      "7238\n"
     ]
    }
   ],
   "source": [
    "import ast\n",
    "total_list = []\n",
    "for index,row in df.iterrows():\n",
    "    first_list = ast.literal_eval(row['embedding(0_1_2_3)'])\n",
    "    second_list = ast.literal_eval(row['embedding(4_7_8_15)'])\n",
    "    third_list = ast.literal_eval(row['embedding(5_6_9_10)'])\n",
    "    fourth_list = ast.literal_eval(row['embedding(11_12_13_14)'])\n",
    "    fifth_list = ast.literal_eval(row['embedding(16_17_18_19)'])\n",
    "    sixth_list = ast.literal_eval(row['embedding(20_21_22_23)'])\n",
    "    seventh_list = ast.literal_eval(row['embedding(24_25_26_27)'])\n",
    "    total_list.append([first_list,second_list,third_list,fourth_list,fifth_list,sixth_list,seventh_list])\n",
    "print(len(total_list))"
   ],
   "metadata": {
    "collapsed": false,
    "pycharm": {
     "name": "#%%\n"
    }
   }
  },
  {
   "cell_type": "code",
   "execution_count": 3,
   "outputs": [
    {
     "name": "stdout",
     "output_type": "stream",
     "text": [
      "Index of principal sublist: 4\n"
     ]
    }
   ],
   "source": [
    "import numpy as np\n",
    "\n",
    "# Assuming embeddings is your dataset structured as described\n",
    "\n",
    "# Flatten each sample\n",
    "flattened_embeddings = [np.concatenate(sample) for sample in total_list]\n",
    "\n",
    "# Convert to numpy array\n",
    "flattened_embeddings = np.array(flattened_embeddings)\n",
    "\n",
    "# Step 2: Compute the SVD\n",
    "U, S, Vt = np.linalg.svd(flattened_embeddings, full_matrices=False)\n",
    "\n",
    "# Step 3: Extract the most important component\n",
    "most_important_component = Vt[0]\n",
    "\n",
    "# Identify the index of the sublist corresponding to the principal component\n",
    "principal_sublist_index = np.argmax(np.abs(Vt[0])) // 768\n",
    "\n",
    "# Print the index of the principal sublist\n",
    "print(\"Index of principal sublist:\", principal_sublist_index)\n",
    "\n",
    "# # Step 4: Normalize the component (optional)\n",
    "# normalized_component = most_important_component / np.linalg.norm(most_important_component)\n",
    "\n",
    "# Print the most important component\n",
    "# print(\"Most important component shape:\", most_important_component.shape)\n",
    "# print(\"Most important component:\", most_important_component)"
   ],
   "metadata": {
    "collapsed": false,
    "pycharm": {
     "name": "#%%\n"
    }
   }
  },
  {
   "cell_type": "code",
   "execution_count": 11,
   "outputs": [],
   "source": [],
   "metadata": {
    "collapsed": false,
    "pycharm": {
     "name": "#%%\n"
    }
   }
  }
 ],
 "metadata": {
  "kernelspec": {
   "display_name": "Python 3",
   "language": "python",
   "name": "python3"
  },
  "language_info": {
   "codemirror_mode": {
    "name": "ipython",
    "version": 2
   },
   "file_extension": ".py",
   "mimetype": "text/x-python",
   "name": "python",
   "nbconvert_exporter": "python",
   "pygments_lexer": "ipython2",
   "version": "2.7.6"
  }
 },
 "nbformat": 4,
 "nbformat_minor": 0
}