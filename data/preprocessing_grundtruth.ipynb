{
 "cells": [
  {
   "cell_type": "code",
   "execution_count": 2,
   "outputs": [
    {
     "name": "stdout",
     "output_type": "stream",
     "text": [
      "                                           topic  \\\n",
      "0  Assisted suicide should be a criminal offence   \n",
      "1  Assisted suicide should be a criminal offence   \n",
      "2  Assisted suicide should be a criminal offence   \n",
      "3  Assisted suicide should be a criminal offence   \n",
      "4  Assisted suicide should be a criminal offence   \n",
      "5  Assisted suicide should be a criminal offence   \n",
      "6  Assisted suicide should be a criminal offence   \n",
      "7  Assisted suicide should be a criminal offence   \n",
      "8  Assisted suicide should be a criminal offence   \n",
      "9  Assisted suicide should be a criminal offence   \n",
      "\n",
      "                                            argument  \\\n",
      "0  `people reach their limit when it comes to the...   \n",
      "1  a cure or treatment may be discovered shortly ...   \n",
      "2  a cure or treatment may be discovered shortly ...   \n",
      "3  a cure or treatment may be discovered shortly ...   \n",
      "4  a cure or treatment may be discovered shortly ...   \n",
      "5  a cure or treatment may be discovered shortly ...   \n",
      "6  a cure or treatment may be discovered shortly ...   \n",
      "7  A patient should be able to decide when they h...   \n",
      "8  A patient should be able to decide when they h...   \n",
      "9  A patient should be able to decide when they h...   \n",
      "\n",
      "                                           key_point  stance  label  \n",
      "0  Assisted suicide gives dignity to the person t...      -1      0  \n",
      "1  Assisted suicide allows people to solicit some...       1      0  \n",
      "2        Assisted suicide is akin to killing someone       1      0  \n",
      "3  Assisted suicide should not be allowed because...       1      1  \n",
      "4        Assisted suicide violates the doctor's role       1      0  \n",
      "5  People do not have the right to self-harm/harm...       1      0  \n",
      "6  People who are ill do not have clear judgement...       1      0  \n",
      "7  Assisted suicide gives dignity to the person t...      -1      0  \n",
      "8                 Assisted suicide reduces suffering      -1      0  \n",
      "9  People should have the freedom to choose to en...      -1      1  \n"
     ]
    }
   ],
   "source": [
    "import pandas as pd\n",
    "\n",
    "df = pd.read_csv('ArgKP-2021_dataset.csv')\n",
    "print(df.head(10))"
   ],
   "metadata": {
    "collapsed": false,
    "pycharm": {
     "name": "#%%\n"
    }
   }
  },
  {
   "cell_type": "code",
   "execution_count": 27,
   "outputs": [],
   "source": [
    "df=df.loc[(df['label']>0)]"
   ],
   "metadata": {
    "collapsed": false,
    "pycharm": {
     "name": "#%%\n"
    }
   }
  },
  {
   "cell_type": "code",
   "execution_count": 28,
   "outputs": [],
   "source": [
    "df.to_csv('ground_truth.csv',index= False)"
   ],
   "metadata": {
    "collapsed": false,
    "pycharm": {
     "name": "#%%\n"
    }
   }
  },
  {
   "cell_type": "code",
   "execution_count": 29,
   "outputs": [
    {
     "name": "stdout",
     "output_type": "stream",
     "text": [
      "                                              topic  \\\n",
      "0     Assisted suicide should be a criminal offence   \n",
      "1     Assisted suicide should be a criminal offence   \n",
      "2     Assisted suicide should be a criminal offence   \n",
      "3     Assisted suicide should be a criminal offence   \n",
      "4     Assisted suicide should be a criminal offence   \n",
      "...                                             ...   \n",
      "5545           The USA is a good country to live in   \n",
      "5546           The USA is a good country to live in   \n",
      "5547           The USA is a good country to live in   \n",
      "5548           The USA is a good country to live in   \n",
      "5549           The USA is a good country to live in   \n",
      "\n",
      "                                               argument  \\\n",
      "0     a cure or treatment may be discovered shortly ...   \n",
      "1     A patient should be able to decide when they h...   \n",
      "2     a person has the right to end their suffering ...   \n",
      "3     a person should have the dignity to choose how...   \n",
      "4     a person should have the right to be able to c...   \n",
      "...                                                 ...   \n",
      "5545  Yes, since he has great economic stability, a ...   \n",
      "5546  Yes, since he has great economic stability, a ...   \n",
      "5547  Yes, since he has great economic stability, a ...   \n",
      "5548  Yes, they have a stable economy and for that r...   \n",
      "5549   You have real opportunities to improve your life   \n",
      "\n",
      "                                              key_point  stance  label  \n",
      "0     Assisted suicide should not be allowed because...       1      1  \n",
      "1     People should have the freedom to choose to en...      -1      1  \n",
      "2                    Assisted suicide reduces suffering      -1      1  \n",
      "3     People should have the freedom to choose to en...      -1      1  \n",
      "4     People should have the freedom to choose to en...      -1      1  \n",
      "...                                                 ...     ...    ...  \n",
      "5545              The US has a great environment/nature       1      1  \n",
      "5546  The US has a good economy/high standard of living       1      1  \n",
      "5547    The US has a good health and education systems        1      1  \n",
      "5548  The US has a good economy/high standard of living       1      1  \n",
      "5549  The US offers great opportunities for individuals       1      1  \n",
      "\n",
      "[5550 rows x 5 columns]\n"
     ]
    }
   ],
   "source": [
    "df1 = pd.read_csv('ground_truth.csv')\n",
    "print(df1)"
   ],
   "metadata": {
    "collapsed": false,
    "pycharm": {
     "name": "#%%\n"
    }
   }
  },
  {
   "cell_type": "code",
   "execution_count": 1,
   "outputs": [
    {
     "name": "stdout",
     "output_type": "stream",
     "text": [
      "hello world\n"
     ]
    }
   ],
   "source": [
    "print(\"hello world\")"
   ],
   "metadata": {
    "collapsed": false,
    "pycharm": {
     "name": "#%%\n"
    }
   }
  },
  {
   "cell_type": "code",
   "execution_count": null,
   "outputs": [],
   "source": [],
   "metadata": {
    "collapsed": false,
    "pycharm": {
     "name": "#%%\n"
    }
   }
  }
 ],
 "metadata": {
  "kernelspec": {
   "display_name": "Python 3",
   "language": "python",
   "name": "python3"
  },
  "language_info": {
   "codemirror_mode": {
    "name": "ipython",
    "version": 2
   },
   "file_extension": ".py",
   "mimetype": "text/x-python",
   "name": "python",
   "nbconvert_exporter": "python",
   "pygments_lexer": "ipython2",
   "version": "2.7.6"
  }
 },
 "nbformat": 4,
 "nbformat_minor": 0
}