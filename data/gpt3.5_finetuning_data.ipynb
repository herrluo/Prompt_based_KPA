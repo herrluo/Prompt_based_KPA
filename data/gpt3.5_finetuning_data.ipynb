{
 "cells": [
  {
   "cell_type": "markdown",
   "source": [
    "### Make jsonl file"
   ],
   "metadata": {
    "collapsed": false,
    "pycharm": {
     "name": "#%% md\n"
    }
   }
  },
  {
   "cell_type": "code",
   "execution_count": 1,
   "outputs": [
    {
     "name": "stdout",
     "output_type": "stream",
     "text": [
      "46\n"
     ]
    }
   ],
   "source": [
    "import pandas as pd\n",
    "df = pd.read_csv('processed_ArgKP21.csv')\n",
    "df_train = df[:46]\n",
    "Arg21_data = df_train.values.tolist()\n",
    "print(len(Arg21_data))"
   ],
   "metadata": {
    "collapsed": false,
    "pycharm": {
     "name": "#%%\n"
    }
   }
  },
  {
   "cell_type": "code",
   "execution_count": 2,
   "outputs": [
    {
     "name": "stdout",
     "output_type": "stream",
     "text": [
      "JSONL file 'gpt3.5_test_v1.jsonl' created successfully.\n"
     ]
    }
   ],
   "source": [
    "import jsonlines\n",
    "data = []\n",
    "for line in Arg21_data:\n",
    "    data.append(\n",
    "        {\"messages\":\n",
    "            [{\"role\": \"system\", \"content\": f\"\"\"\n",
    "        You need to do key point analysis on a set of arguments from user. They are all about the topic \"{line[0]}\" You need to generate several pieces of key points and stored them in a list and then return this list.\n",
    "        \"\"\"},\n",
    "            {\"role\": \"user\", \"content\": line[2]},\n",
    "            {\"role\": \"assistant\", \"content\": line[3]}]\n",
    "        }\n",
    "    )\n",
    "\n",
    "jsonl_file_path = 'gpt3.5_test_v1.jsonl'\n",
    "with jsonlines.open(jsonl_file_path, mode='w') as writer:\n",
    "    writer.write_all(data)\n",
    "\n",
    "print(f\"JSONL file '{jsonl_file_path}' created successfully.\")"
   ],
   "metadata": {
    "collapsed": false,
    "pycharm": {
     "name": "#%%\n"
    }
   }
  },
  {
   "cell_type": "code",
   "execution_count": 3,
   "outputs": [],
   "source": [
    "import json\n",
    "import tiktoken  # for token counting\n",
    "import numpy as np\n",
    "from collections import defaultdict"
   ],
   "metadata": {
    "collapsed": false,
    "pycharm": {
     "name": "#%%\n"
    }
   }
  },
  {
   "cell_type": "markdown",
   "source": [
    "### Data loading"
   ],
   "metadata": {
    "collapsed": false,
    "pycharm": {
     "name": "#%% md\n"
    }
   }
  },
  {
   "cell_type": "code",
   "execution_count": 4,
   "outputs": [
    {
     "name": "stdout",
     "output_type": "stream",
     "text": [
      "Num examples: 46\n",
      "First example:\n",
      "{'role': 'system', 'content': '\\n        You need to do key point analysis on a set of arguments from user. They are all about the topic \"Assisted suicide should be a criminal offence\" You need to generate several pieces of key points and stored them in a list and then return this list.\\n        '}\n",
      "{'role': 'user', 'content': '[\"a cure or treatment may be discovered shortly after having ended someone\\'s life unnecessarily.\", \\'allow assisted suicide could allow unscrupulous people to become serial killers\\', \\'Allowing assisted suicide would enable greedy relatives to take advantage of ill relatives for their own financial gain\\', \\'an assisted suicide is just another way to murder a person. it does not matter if the person asked to be killed the person who does the killing has put one to death.\\', \\'and who defines reasonable certainty, how many people evicted by medicine has regained health thanks to an alternative treatment or a medical advance, ending life is not the solution, much less involving others\\', \\'anyone who contributes to ending a life should be punished\\', \\'asisted suicide can be abused by those who want to benefit from taking advantage of a sick or ill relative and thus should not be allowed.\\', \\'assisted suicide could be misused by people who want their weaker partner to die. people could be encouraged to take their own life before they really want to.\\', \\'assisted suicide goes directly against the oath taken by doctors to do no harm. suicide is harm. there is no oversight when giving the patients the drugs. they are prescribed and the patient faces death alone.\\', \\'assisted suicide involves murdering someone which is illegal and should be treated as such.\\', \\'assisted suicide is a crime and people involved should be sent to prison\\', \\'Assisted suicide is a criminal offence as it centers on the intentional death of a human being.\\', \\'assisted suicide is a form of murder and should be a criminal offense\\', \\'assisted suicide is a form of murder and should be treated as a crime\\', \\'assisted suicide is a form of murder and should never be allowed.\\', \\'assisted suicide is against the oath all doctors take.\\', \\'assisted suicide is another form of homicide\\', \\'assisted suicide is another type of murder.\\', \\'assisted suicide is equivalent to murder and should be treated as such.\\', \\'assisted suicide is heartless and inhumane\\', \\'assisted suicide is immoral and a crime\\', \\'assisted suicide is just another form of murder. murder is illegal so assisted suicide must be illegal as well.\\', \\'assisted suicide is just another word for murder.\\', \\'assisted suicide is just helping a person kill a person which seems like i should be a criminal offence.\\', \\'assisted suicide is just like accessory to murder\\', \\'Assisted suicide is just murder by another name and it should be punished accordingly.\\', \"assisted suicide is killing by another name - it is far too open to abuse by those with a vested interest, since it is often impossible to accurately interpret the intentions of the individual being \\'assisted\\'.\", \\'assisted suicide is killing someone even if it is at their request\\', \\'assisted suicide is murder and therefore illegal\\', \\'assisted suicide is murder of another and should be considered a criminal offence.\\', \\'assisted suicide is murder, the doctor is giving the weapon to the person with the sole purpose of death.\\', \\'assisted suicide is not only immoral but is also a form of murder and should be a criminal offence.\\', \\'assisted suicide is nothing but murder. you are giving a human the ability to legally kill another. this should be stopped. no person should be allowed to cause a death of another.\\', \\'assisted suicide is nothing short of murder and it should be a criminal offence.\\', \\'assisted suicide is really just another word for murder or homicide,\\', \\'assisted suicide is still one person essentially killing another\\', \\'assisted suicide is still suicide, which is immoral in all forms.\\', \\'assisted suicide is still suicide, which is wrong in all forms.\\', \\'assisted suicide is the same as murder and therefore should be illegal.\\', \\'assisted suicide is too dangerous as if someone is weak and feeble a manipulative person could encourage them to kill themselves when they do not really want to.\\', \\'assisted suicide is unethical how do we know that the person who is assisting the suicide hasnt got something to gain from the death of the other person\\', \\'Assisted suicide should be a crime to prevent greedy individuals from killing their family member to get their money and property\\', \"Assisted suicide should be a criminal offence as if the person cannot make their own decisions and actions then it would be impossible to know if the person helping wasn\\'t just murdering them.\", \\'assisted suicide should be a criminal offence as it is another form of murder\\', \\'assisted suicide should be a criminal offence because after they are dead no one will know what actually happened whether it was assisted suicide or if it was murder\\', \"assisted suicide should be a criminal offence because againts the god\\'s law\", \\'assisted suicide should be a criminal offence because it causes the death of a human being just the same as if taken by a criminal.\\', \\'assisted suicide should be a criminal offence because it could force some doctors to perform this act without their consent\\', \\'assisted suicide should be a criminal offence because it does not allow a person to die a natural death.\\', \\'assisted suicide should be a criminal offence because it is morally wrong\\', \\'assisted suicide should be a criminal offence because it would be very easy to murder a vulnerable relative in order to get an inheritance.\\', \\'assisted suicide should be a criminal offence because killing is wrong whether it is willingly or not\\', \\'assisted suicide should be a criminal offence because killing someone is wrong even if they want you to do it\\', \\'assisted suicide should be a criminal offence because no one has a right to take another persons life or to help them\\', \"assisted suicide should be a criminal offence because pain makes people do some extreme things, but it shouldn\\'t include death.\", \"assisted suicide should be a criminal offence because people shouldn\\'t be able to help murder others\", \\'assisted suicide should be a criminal offence because that is murder\\', \\'assisted suicide should be a criminal offence because the person is basically killing the other person.\\', \\'assisted suicide should be a criminal offence because what if the person being assisted was in only a bad emotional state which could be cured with professional health.\\', \"assisted suicide should be a criminal offence for the god\\'s law. god decide your life.\", \\'assisted suicide should be a criminal offense because at the end of the day somebody is dead and you had a hand in it.\\', \\'assisted suicide should be a criminal offense because death is death, at the end of the day someone is dead and you had a hand in it.\\', \"assisted suicide should be a criminal offense because it\\'s just a different name for murder\", \\'Assisted suicide should be a form of murder or pre meditated murder. People should die naturally not by suicide.\\', \\'assisted suicide should be criminalized as no human being has the right to determine whether another human being lives or dies\\', \\'assisted suicide should not be an option just because people are in pain as there are other options to help with this\\', \\'assisting someone with suicide is equivalent to murder and that person has a moral obligation to report that persons intentions to authorities\\', \\'assisting suicide is the same of assisting murder. both are crimes.\\', \\'assisting to suicide is still an accessory to murder\\', \"assisting with suicide is helping kill someone, and should be treated as such. the intent of the victim doesn\\'t matter, murder is murder.\", \\'doctors take an oath to do no harm - assisting in suicide violates this\\', \\'ending a life is a crime no matter the reason.\\', \\'ending a life is unlawful regardless of the reason.\\', \\'Giving someone the medicine to end a life other than natural causes is assisting in murder.\\', \\'helping a human being to commit suicide devalues human life and can lead to deaths of unstable people who are not mentally competent to make the decision. it should be criminalized.\\', \\'Helping people die because of tough times in their life is not right. There are many tools to help people get through bad times and helping them die is like pulling the trigger.\\', \\'helping someone commit suicide is like killing them yourself.\\', \\'helping someone kill themself is murder\\', \\'helping someone to commit suicide is murder and should be criminalized\\', \\'i think that an assisted suicide should be a criminal offence because is not legal\\', \\'if not a criminal offence it could encourage murder under the guise of assisted suicide that would be difficult to prove.\\', \\'if we make it a criminal offence then it may discourage people from committing suicide due to the repercussions that their families may face.\\', \\'if you help someone kill themselves that is murder, and should be punished.\\', \\'It is a criminal offense to kill someone and that is what someone assisting a person in committing suicide is doing.\\', \\'it is possible that this could be used as a murder in some cases.\\', \\'it should be a criminal offence because someone that may feel suicidal now might not feel that ay a few weeks down the line. they could go on to live a normal life if they get over the suicidal thoughts.\\', \\'it should be a criminal offense to assist in a suicide because that is murder.\\', \\'killing another person is wrong and should be banned\\', \\'Legalizing assisted suicide may cause undo stress on other people with terminal illnesses. It might cause them to wonder if they are an undo burden on friends and family.\\', \\'many people do not have the mental capacity to comprehend the finality of assisted suicide and it will be abused, and it should be a criminal offence to any persons involved.\\', \\'Murder is murder no matter the circumstances\\', \\'no doctor should take part in killing , it is their job to heal\\', \\'no matter how much suffering we have in life nothing justifies death in the same way i think that a sick person is not in the capacity of whether he wants to live or not\\', \\'no one should be able to get away with assisting suicide. it is nothing more than glorified murder. assisting should be replaced by helping these people find a better way to cope with their lives.\\', \\'no one should have the right to take a life.\\', \\'no other person should help you take your life\\', \\'no-one has the right to play god and decide to help another person to die.\\', \\'nobody has the right to take a life.\\', \"nobody has the right to take someone else\\'s life.\", \\'people may easily be manipulated into being a victim of assisted suicide by relatives with alterior motives\\', \\'people need to die on their own as this would be almost like murder.\\', \\'People wanting to commit suicide need mental and emotional help, not help in carrying out their plans to end their own lives.\\', \\'providing someone the means to kill themselves is equivalent to pulling the trigger yourself\\', \\'Some people would fake assisted suicide to actually murder someone.\\', \"some vulnerable people might feel pressure to end their lives to ease their families. therefore, assisted suicide shouldn\\'t be legal.\", \\'someone who would assist another person attempt suicide should be locked up. these people need help to be convinced that suicide is not the answer rather than assisted in their task.\\', \\'suicide has never been legal. it is still killing, even if one is taking ones own life.\\', \\'suicide in some countries is considered a crime for attempting against life itself, assisted suicide is the same\\', \\'suicide is a criminal offense, thus assisting in suicide would be acting as an accomplice to murder.\\', \\'suicide is a form of murder and those who attempt it can be convicted. assisting someone to commit suicide can therefore be considered an accomplice.\\', \\'suicide is illegal and so is killing, so how is assisted suicide going to be legal?\\', \\'suicide is never the answer and it is wrong\\', \\'suicide should never be allowed and helping a person should be treated as murder. no person has the right to take a life. each person should be treated humanely and encouraged to live their natural life span.\\', \\'TAKING A LIFE SHOULD BE WRONG REGARDLESS OF THE REASON IT IS BEING DONE\\', \\'The Hippocratic Oath states, \"First, do no harm\" - assisted suicide violates a doctor\\\\\\'s duty not to do harm to a patient.\\', \\'the person assisting in an assisted suicide is committing murder and should be charged\\', \\'the sanctity of human life should never be compromised so there is no question but assisted suicide should be a criminal offence.\\', \\'there is no difference between assisted suicide and being an accessory to murder. suicide is immoral and those that help should be punished.\\', \\'there is no safe system of assisted suicide and euthanasia anywhere in the world\\', \\'there is too much potential for exploitation of assisted suicide by malicious relatives that it should be banned as a matter of individual safety\\', \"there\\'s the possibility that it could be used by those close to the person for financial gain or maliciously. you only have the word of the survivor that the person actually wanted to die.\", \"this is effectively commiting murder; no one has the right to take another person\\'s life\", \"this would protect someone who\\'s judgement may be impaired\", \\'we cannot allow people to assist suicide because there is a fine line between assistance and murder and to have to differentiate is complex ground.\\', \\'Yes, because it is murder practically and this is considered a crime\\']'}\n",
      "{'role': 'assistant', 'content': '[\\'Assisted suicide allows people to solicit someone to die to their own benefit\\', \\'Assisted suicide is akin to killing someone\\', \\'Assisted suicide should not be allowed because many times people can still get better\\', \"Assisted suicide violates the doctor\\'s role\", \\'People do not have the right to self-harm/harm others\\', \\'People who are ill do not have clear judgement and are in need of help\\']'}\n"
     ]
    }
   ],
   "source": [
    "data_path = \"gpt3.5_test_v1.jsonl\"\n",
    "\n",
    "# Load the dataset\n",
    "with open(data_path, 'r', encoding='utf-8') as f:\n",
    "    dataset = [json.loads(line) for line in f]\n",
    "\n",
    "# Initial dataset stats\n",
    "print(\"Num examples:\", len(dataset))\n",
    "print(\"First example:\")\n",
    "for message in dataset[0][\"messages\"]:\n",
    "    print(message)"
   ],
   "metadata": {
    "collapsed": false,
    "pycharm": {
     "name": "#%%\n"
    }
   }
  },
  {
   "cell_type": "markdown",
   "source": [
    "### Format validation"
   ],
   "metadata": {
    "collapsed": false,
    "pycharm": {
     "name": "#%% md\n"
    }
   }
  },
  {
   "cell_type": "code",
   "execution_count": 5,
   "outputs": [
    {
     "name": "stdout",
     "output_type": "stream",
     "text": [
      "No errors found\n"
     ]
    }
   ],
   "source": [
    "# Format error checks\n",
    "format_errors = defaultdict(int)\n",
    "\n",
    "for ex in dataset:\n",
    "    if not isinstance(ex, dict):\n",
    "        format_errors[\"data_type\"] += 1\n",
    "        continue\n",
    "\n",
    "    messages = ex.get(\"messages\", None)\n",
    "    if not messages:\n",
    "        format_errors[\"missing_messages_list\"] += 1\n",
    "        continue\n",
    "\n",
    "    for message in messages:\n",
    "        if \"role\" not in message or \"content\" not in message:\n",
    "            format_errors[\"message_missing_key\"] += 1\n",
    "\n",
    "        if any(k not in (\"role\", \"content\", \"name\", \"function_call\") for k in message):\n",
    "            format_errors[\"message_unrecognized_key\"] += 1\n",
    "\n",
    "        if message.get(\"role\", None) not in (\"system\", \"user\", \"assistant\", \"function\"):\n",
    "            format_errors[\"unrecognized_role\"] += 1\n",
    "\n",
    "        content = message.get(\"content\", None)\n",
    "        function_call = message.get(\"function_call\", None)\n",
    "\n",
    "        if (not content and not function_call) or not isinstance(content, str):\n",
    "            format_errors[\"missing_content\"] += 1\n",
    "\n",
    "    if not any(message.get(\"role\", None) == \"assistant\" for message in messages):\n",
    "        format_errors[\"example_missing_assistant_message\"] += 1\n",
    "\n",
    "if format_errors:\n",
    "    print(\"Found errors:\")\n",
    "    for k, v in format_errors.items():\n",
    "        print(f\"{k}: {v}\")\n",
    "else:\n",
    "    print(\"No errors found\")"
   ],
   "metadata": {
    "collapsed": false,
    "pycharm": {
     "name": "#%%\n"
    }
   }
  },
  {
   "cell_type": "markdown",
   "source": [
    "### Token Counting Utilities"
   ],
   "metadata": {
    "collapsed": false,
    "pycharm": {
     "name": "#%% md\n"
    }
   }
  },
  {
   "cell_type": "code",
   "execution_count": 6,
   "outputs": [],
   "source": [
    "encoding = tiktoken.get_encoding(\"cl100k_base\")\n",
    "\n",
    "# not exact!\n",
    "# simplified from https://github.com/openai/openai-cookbook/blob/main/examples/How_to_count_tokens_with_tiktoken.ipynb\n",
    "def num_tokens_from_messages(messages, tokens_per_message=3, tokens_per_name=1):\n",
    "    num_tokens = 0\n",
    "    for message in messages:\n",
    "        num_tokens += tokens_per_message\n",
    "        for key, value in message.items():\n",
    "            num_tokens += len(encoding.encode(value))\n",
    "            if key == \"name\":\n",
    "                num_tokens += tokens_per_name\n",
    "    num_tokens += 3\n",
    "    return num_tokens\n",
    "\n",
    "def num_assistant_tokens_from_messages(messages):\n",
    "    num_tokens = 0\n",
    "    for message in messages:\n",
    "        if message[\"role\"] == \"assistant\":\n",
    "            num_tokens += len(encoding.encode(message[\"content\"]))\n",
    "    return num_tokens\n",
    "\n",
    "def print_distribution(values, name):\n",
    "    print(f\"\\n#### Distribution of {name}:\")\n",
    "    print(f\"min / max: {min(values)}, {max(values)}\")\n",
    "    print(f\"mean / median: {np.mean(values)}, {np.median(values)}\")\n",
    "    print(f\"p5 / p95: {np.quantile(values, 0.1)}, {np.quantile(values, 0.9)}\")"
   ],
   "metadata": {
    "collapsed": false,
    "pycharm": {
     "name": "#%%\n"
    }
   }
  },
  {
   "cell_type": "markdown",
   "source": [
    "### Data Warnings and Token Counts"
   ],
   "metadata": {
    "collapsed": false,
    "pycharm": {
     "name": "#%% md\n"
    }
   }
  },
  {
   "cell_type": "code",
   "execution_count": 7,
   "outputs": [
    {
     "name": "stdout",
     "output_type": "stream",
     "text": [
      "Num examples missing system message: 0\n",
      "Num examples missing user message: 0\n",
      "\n",
      "#### Distribution of num_messages_per_example:\n",
      "min / max: 3, 3\n",
      "mean / median: 3.0, 3.0\n",
      "p5 / p95: 3.0, 3.0\n",
      "\n",
      "#### Distribution of num_total_tokens_per_example:\n",
      "min / max: 1847, 3470\n",
      "mean / median: 2712.0, 2772.0\n",
      "p5 / p95: 2270.0, 3103.0\n",
      "\n",
      "#### Distribution of num_assistant_tokens_per_example:\n",
      "min / max: 12, 92\n",
      "mean / median: 48.52173913043478, 48.0\n",
      "p5 / p95: 30.0, 68.0\n",
      "\n",
      "0 examples may be over the 4096 token limit, they will be truncated during fine-tuning\n"
     ]
    }
   ],
   "source": [
    "# Warnings and tokens counts\n",
    "n_missing_system = 0\n",
    "n_missing_user = 0\n",
    "n_messages = []\n",
    "convo_lens = []\n",
    "assistant_message_lens = []\n",
    "\n",
    "for ex in dataset:\n",
    "    messages = ex[\"messages\"]\n",
    "    if not any(message[\"role\"] == \"system\" for message in messages):\n",
    "        n_missing_system += 1\n",
    "    if not any(message[\"role\"] == \"user\" for message in messages):\n",
    "        n_missing_user += 1\n",
    "    n_messages.append(len(messages))\n",
    "    convo_lens.append(num_tokens_from_messages(messages))\n",
    "    assistant_message_lens.append(num_assistant_tokens_from_messages(messages))\n",
    "\n",
    "print(\"Num examples missing system message:\", n_missing_system)\n",
    "print(\"Num examples missing user message:\", n_missing_user)\n",
    "print_distribution(n_messages, \"num_messages_per_example\")\n",
    "print_distribution(convo_lens, \"num_total_tokens_per_example\")\n",
    "print_distribution(assistant_message_lens, \"num_assistant_tokens_per_example\")\n",
    "n_too_long = sum(l > 4096 for l in convo_lens)\n",
    "print(f\"\\n{n_too_long} examples may be over the 4096 token limit, they will be truncated during fine-tuning\")"
   ],
   "metadata": {
    "collapsed": false,
    "pycharm": {
     "name": "#%%\n"
    }
   }
  },
  {
   "cell_type": "markdown",
   "source": [
    "### Cost Estimation"
   ],
   "metadata": {
    "collapsed": false,
    "pycharm": {
     "name": "#%% md\n"
    }
   }
  },
  {
   "cell_type": "code",
   "execution_count": 8,
   "outputs": [
    {
     "name": "stdout",
     "output_type": "stream",
     "text": [
      "Dataset has ~124752 tokens that will be charged for during training\n",
      "By default, you'll train for 3 epochs on this dataset\n",
      "By default, you'll be charged for ~374256 tokens\n"
     ]
    }
   ],
   "source": [
    "# Pricing and default n_epochs estimate\n",
    "MAX_TOKENS_PER_EXAMPLE = 4096\n",
    "\n",
    "TARGET_EPOCHS = 3\n",
    "MIN_TARGET_EXAMPLES = 100\n",
    "MAX_TARGET_EXAMPLES = 25000\n",
    "MIN_DEFAULT_EPOCHS = 1\n",
    "MAX_DEFAULT_EPOCHS = 25\n",
    "\n",
    "n_epochs = TARGET_EPOCHS\n",
    "n_train_examples = len(dataset)\n",
    "if n_train_examples * TARGET_EPOCHS < MIN_TARGET_EXAMPLES:\n",
    "    n_epochs = min(MAX_DEFAULT_EPOCHS, MIN_TARGET_EXAMPLES // n_train_examples)\n",
    "elif n_train_examples * TARGET_EPOCHS > MAX_TARGET_EXAMPLES:\n",
    "    n_epochs = max(MIN_DEFAULT_EPOCHS, MAX_TARGET_EXAMPLES // n_train_examples)\n",
    "\n",
    "n_billing_tokens_in_dataset = sum(min(MAX_TOKENS_PER_EXAMPLE, length) for length in convo_lens)\n",
    "print(f\"Dataset has ~{n_billing_tokens_in_dataset} tokens that will be charged for during training\")\n",
    "print(f\"By default, you'll train for {n_epochs} epochs on this dataset\")\n",
    "print(f\"By default, you'll be charged for ~{n_epochs * n_billing_tokens_in_dataset} tokens\")"
   ],
   "metadata": {
    "collapsed": false,
    "pycharm": {
     "name": "#%%\n"
    }
   }
  },
  {
   "cell_type": "code",
   "execution_count": null,
   "outputs": [],
   "source": [],
   "metadata": {
    "collapsed": false,
    "pycharm": {
     "name": "#%%\n"
    }
   }
  }
 ],
 "metadata": {
  "kernelspec": {
   "display_name": "Python 3",
   "language": "python",
   "name": "python3"
  },
  "language_info": {
   "codemirror_mode": {
    "name": "ipython",
    "version": 2
   },
   "file_extension": ".py",
   "mimetype": "text/x-python",
   "name": "python",
   "nbconvert_exporter": "python",
   "pygments_lexer": "ipython2",
   "version": "2.7.6"
  }
 },
 "nbformat": 4,
 "nbformat_minor": 0
}