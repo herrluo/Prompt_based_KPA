{
 "cells": [
  {
   "cell_type": "code",
   "execution_count": 1,
   "metadata": {
    "collapsed": true,
    "pycharm": {
     "name": "#%%\n"
    }
   },
   "outputs": [],
   "source": [
    "import random\n",
    "from http import HTTPStatus\n",
    "import dashscope  # 建议dashscope SDK 的版本 >= 1.14.0\n",
    "import yaml"
   ]
  },
  {
   "cell_type": "code",
   "execution_count": 6,
   "outputs": [],
   "source": [
    "with open(\"../conf/index.yaml\") as f:\n",
    "    credentials = yaml.safe_load(f)\n",
    "qwen_api_key = credentials['environment_variables']['QWEN_DASHSCOPE_API_KEY']"
   ],
   "metadata": {
    "collapsed": false,
    "pycharm": {
     "name": "#%%\n"
    }
   }
  },
  {
   "cell_type": "code",
   "execution_count": 7,
   "outputs": [],
   "source": [
    "def call_with_messages():\n",
    "    messages = [{'role': 'system', 'content': 'You are a helpful assistant.'},\n",
    "                {'role': 'user', 'content': 'Could u speak english?'}]\n",
    "    dashscope.api_key = qwen_api_key\n",
    "    response = dashscope.Generation.call(model=\"qwen-max\",\n",
    "                               messages=messages,\n",
    "                               # 设置随机数种子seed，如果没有设置，则随机数种子默认为1234\n",
    "                               seed=random.randint(1, 10000),\n",
    "                               # 将输出设置为\"message\"格式\n",
    "                               result_format='message')\n",
    "    if response.status_code == HTTPStatus.OK:\n",
    "        print(response['output'][\"choices\"][0][\"message\"][\"content\"])\n",
    "    else:\n",
    "        print('Request id: %s, Status code: %s, error code: %s, error message: %s' % (\n",
    "            response.request_id, response.status_code,\n",
    "            response.code, response.message\n",
    "        ))"
   ],
   "metadata": {
    "collapsed": false,
    "pycharm": {
     "name": "#%%\n"
    }
   }
  },
  {
   "cell_type": "code",
   "execution_count": 8,
   "outputs": [
    {
     "name": "stdout",
     "output_type": "stream",
     "text": [
      "Yes, I can speak English. How may I assist you today?\n"
     ]
    }
   ],
   "source": [
    "call_with_messages()"
   ],
   "metadata": {
    "collapsed": false,
    "pycharm": {
     "name": "#%%\n"
    }
   }
  },
  {
   "cell_type": "code",
   "execution_count": 12,
   "outputs": [
    {
     "ename": "SyntaxError",
     "evalue": "unexpected character after line continuation character (<unknown>, line 1)",
     "output_type": "error",
     "traceback": [
      "Traceback \u001B[1;36m(most recent call last)\u001B[0m:\n",
      "  File \u001B[0;32mD:\\anaconda3\\lib\\site-packages\\IPython\\core\\interactiveshell.py:3398\u001B[0m in \u001B[0;35mrun_code\u001B[0m\n    exec(code_obj, self.user_global_ns, self.user_ns)\n",
      "  Input \u001B[0;32mIn [12]\u001B[0m in \u001B[0;35m<cell line: 3>\u001B[0m\n    print(len(ast.literal_eval(test_list)))\n",
      "  File \u001B[0;32mD:\\anaconda3\\lib\\ast.py:62\u001B[0m in \u001B[0;35mliteral_eval\u001B[0m\n    node_or_string = parse(node_or_string, mode='eval')\n",
      "\u001B[1;36m  File \u001B[1;32mD:\\anaconda3\\lib\\ast.py:50\u001B[1;36m in \u001B[1;35mparse\u001B[1;36m\u001B[0m\n\u001B[1;33m    return compile(source, filename, mode, flags,\u001B[0m\n",
      "\u001B[1;36m  File \u001B[1;32m<unknown>:1\u001B[1;36m\u001B[0m\n\u001B[1;33m    [[\\\"assisted suicide is a form of murder and should be treated as a crime\\\", 0.8], [\\\"assisted suicide is equivalent to murder and should be treated as such\\\", 0.8], [\\\"assisted suicide is just another form of murder\\\", 0.8], [\\\"assisted suicide is murder and should be illegal\\\", 0.8], [\\\"assisted suicide is a criminal offense because it causes the death of a human being just the same as if taken by a criminal\\\", 0.8]]\u001B[0m\n\u001B[1;37m       ^\u001B[0m\n\u001B[1;31mSyntaxError\u001B[0m\u001B[1;31m:\u001B[0m unexpected character after line continuation character\n"
     ]
    }
   ],
   "source": [
    "import ast\n",
    "test_list = '''[[\\\\\"assisted suicide is a form of murder and should be treated as a crime\\\\\", 0.8], [\\\\\"assisted suicide is equivalent to murder and should be treated as such\\\\\", 0.8], [\\\\\"assisted suicide is just another form of murder\\\\\", 0.8], [\\\\\"assisted suicide is murder and should be illegal\\\\\", 0.8], [\\\\\"assisted suicide is a criminal offense because it causes the death of a human being just the same as if taken by a criminal\\\\\", 0.8]]'''\n",
    "print(len(ast.literal_eval(test_list)))"
   ],
   "metadata": {
    "collapsed": false,
    "pycharm": {
     "name": "#%%\n"
    }
   }
  },
  {
   "cell_type": "code",
   "execution_count": 11,
   "outputs": [
    {
     "name": "stdout",
     "output_type": "stream",
     "text": [
      "[[\\\"assisted suicide is a form of murder and should be treated as a crime\\\", 0.7], [\\\"assisted suicide is equivalent to murder and should be treated as such\\\", 0.7], [\\\"assisted suicide is just another form of murder\\\", 0.7], [\\\"assisted suicide is murder and should be illegal\\\", 0.7], [\\\"assisted suicide is a criminal offense because it causes the death of a human being just the same as if taken by a criminal\\\", 0.7]]\n"
     ]
    }
   ],
   "source": [
    "import ast\n",
    "\n",
    "# Your input string with escaped quotes\n",
    "input_str = '[[\\\\\"assisted suicide is a form of murder and should be treated as a crime\\\\\", 0.7], [\\\\\"assisted suicide is equivalent to murder and should be treated as such\\\\\", 0.7], [\\\\\"assisted suicide is just another form of murder\\\\\", 0.7], [\\\\\"assisted suicide is murder and should be illegal\\\\\", 0.7], [\\\\\"assisted suicide is a criminal offense because it causes the death of a human being just the same as if taken by a criminal\\\\\", 0.7]]'\n",
    "\n",
    "# Replace escaped quotes with actual quotes\n",
    "cleaned_str = input_str.replace('\\\\\"', '\"')\n",
    "print(input_str)\n",
    "# try:\n",
    "#     # Convert the string representation of the list into an actual list\n",
    "#     parsed_list = ast.literal_eval(cleaned_str)\n",
    "#\n",
    "#     # Extract sentences\n",
    "#     sentences = [item[0] for item in parsed_list]\n",
    "#\n",
    "#     # Output the sentences\n",
    "#     for sentence in sentences:\n",
    "#         print(sentence)\n",
    "#\n",
    "# except Exception as e:\n",
    "#     print(f\"An error occurred: {e}\")\n"
   ],
   "metadata": {
    "collapsed": false,
    "pycharm": {
     "name": "#%%\n"
    }
   }
  },
  {
   "cell_type": "code",
   "execution_count": null,
   "outputs": [],
   "source": [
    "print(\"hello world\")"
   ],
   "metadata": {
    "collapsed": false,
    "pycharm": {
     "name": "#%%\n"
    }
   }
  },
  {
   "cell_type": "code",
   "execution_count": null,
   "outputs": [],
   "source": [],
   "metadata": {
    "collapsed": false,
    "pycharm": {
     "name": "#%%\n"
    }
   }
  }
 ],
 "metadata": {
  "kernelspec": {
   "display_name": "Python 3",
   "language": "python",
   "name": "python3"
  },
  "language_info": {
   "codemirror_mode": {
    "name": "ipython",
    "version": 2
   },
   "file_extension": ".py",
   "mimetype": "text/x-python",
   "name": "python",
   "nbconvert_exporter": "python",
   "pygments_lexer": "ipython2",
   "version": "2.7.6"
  }
 },
 "nbformat": 4,
 "nbformat_minor": 0
}