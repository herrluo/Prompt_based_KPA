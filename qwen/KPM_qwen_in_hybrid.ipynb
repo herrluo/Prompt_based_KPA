{
 "cells": [
  {
   "cell_type": "markdown",
   "metadata": {
    "pycharm": {
     "name": "#%% md\n"
    }
   },
   "source": [
    "### Import data"
   ]
  },
  {
   "cell_type": "code",
   "execution_count": 59,
   "metadata": {
    "pycharm": {
     "name": "#%%\n"
    }
   },
   "outputs": [
    {
     "name": "stdout",
     "output_type": "stream",
     "text": [
      "Index(['topic', 'stance', 'argument', 'matched_kp(group)',\n",
      "       'confidence_score(group)', 'matched_kp(1by1)',\n",
      "       'confidence_score(1by1)'],\n",
      "      dtype='object')\n"
     ]
    }
   ],
   "source": [
    "import pandas as pd\n",
    "df = pd.read_csv('./data/KPM_qwen_in_hybrid.csv')\n",
    "print(df.columns)"
   ]
  },
  {
   "cell_type": "code",
   "execution_count": 58,
   "metadata": {
    "pycharm": {
     "name": "#%%\n"
    }
   },
   "outputs": [
    {
     "name": "stdout",
     "output_type": "stream",
     "text": [
      "Index(['topic', 'stance', 'arguments', 'kep_points', 'predict_kps'], dtype='object')\n"
     ]
    }
   ],
   "source": [
    "prediction_df = pd.read_csv('./data/ArgKP21+predictions(v4).csv')\n",
    "print(prediction_df.columns)"
   ]
  },
  {
   "cell_type": "markdown",
   "metadata": {
    "pycharm": {
     "name": "#%% md\n"
    }
   },
   "source": [
    "### Predict matched KP in group and select best one by ourselves"
   ]
  },
  {
   "cell_type": "code",
   "execution_count": 3,
   "metadata": {
    "pycharm": {
     "name": "#%%\n"
    }
   },
   "outputs": [],
   "source": [
    "import random\n",
    "from http import HTTPStatus\n",
    "import dashscope\n",
    "import re\n",
    "import ast\n",
    "import yaml"
   ]
  },
  {
   "cell_type": "code",
   "execution_count": null,
   "outputs": [],
   "source": [
    "with open(\"../conf/index.yaml\") as f:\n",
    "    credentials = yaml.safe_load(f)\n",
    "qwen_api_key = credentials['environment_variables']['QWEN_DASHSCOPE_API_KEY']"
   ],
   "metadata": {
    "collapsed": false,
    "pycharm": {
     "name": "#%%\n"
    }
   }
  },
  {
   "cell_type": "code",
   "execution_count": 5,
   "outputs": [],
   "source": [
    "def correct_format_string(input_str):\n",
    "    # Add double quotes before the first alphabet of each unquoted string element after [ and any spaces\n",
    "    corrected_str = re.sub(r'(\\[\\s*)\\'?([a-zA-Z])', r'\\1\"\\2', input_str)\n",
    "\n",
    "    # # Replace single quotes with double quotes around string elements\n",
    "    # corrected_str = re.sub(r'\\'([^\\\"]*?)\\'', r'\"\\1\"', corrected_str)\n",
    "\n",
    "    # Ensure closing double quotes before a comma and a number\n",
    "    corrected_str = re.sub(r'([^\"\\'])\\s*,\\s*(\\d)', r'\\1\", \\2', corrected_str)\n",
    "\n",
    "    # Ensure single quotes before a comma and a number are replaced with double quotes\n",
    "    corrected_str = re.sub(r'\\'\\s*,\\s*(\\d)', r'\", \\1', corrected_str)\n",
    "\n",
    "    return corrected_str"
   ],
   "metadata": {
    "collapsed": false,
    "pycharm": {
     "name": "#%%\n"
    }
   }
  },
  {
   "cell_type": "code",
   "execution_count": 7,
   "metadata": {
    "pycharm": {
     "name": "#%%\n"
    }
   },
   "outputs": [],
   "source": [
    "def is_before_first_comma_number(input_str):\n",
    "    # Find the index of the first comma\n",
    "    comma_index = input_str.find(',')\n",
    "\n",
    "    # Check if the character before the comma is a digit or alphabet\n",
    "    if comma_index > 0:\n",
    "        before_comma_char = input_str[comma_index - 1]\n",
    "        if before_comma_char.isdigit() :\n",
    "            return True  # If it's a digit, return True\n",
    "\n",
    "    # If the condition is not met, return False\n",
    "    return False"
   ]
  },
  {
   "cell_type": "code",
   "execution_count": 8,
   "metadata": {
    "pycharm": {
     "name": "#%%\n"
    }
   },
   "outputs": [],
   "source": [
    "import re\n",
    "\n",
    "def contains_kp_before_comma(input_str):\n",
    "    # Define the pattern to search for \"kp1\", \"kp2\", \"kp3\", \"kp4\", or \"kp5\" before the first comma\n",
    "    pattern = re.compile(r'kp([1-5])\\s*,?', re.IGNORECASE)\n",
    "\n",
    "    # Search for the pattern in the input string\n",
    "    match = pattern.search(input_str)\n",
    "\n",
    "    # Check if the match is found before the first comma\n",
    "    if match:\n",
    "        return True\n",
    "    else:\n",
    "        return False"
   ]
  },
  {
   "cell_type": "code",
   "execution_count": 9,
   "metadata": {
    "pycharm": {
     "name": "#%%\n"
    }
   },
   "outputs": [],
   "source": [
    "import re\n",
    "\n",
    "def replace_kp_before_comma(input_str):\n",
    "    # Define the pattern to search for \"kp1\", \"kp2\", \"kp3\", \"kp4\", or \"kp5\" before the first comma\n",
    "    pattern = re.compile(r'kp([1-5])\\s*,?', re.IGNORECASE)\n",
    "\n",
    "    # Function to replace \"kpX\" with \"X\"\n",
    "    def replacer(match):\n",
    "        return f'{match.group(1)},'\n",
    "\n",
    "    # Replace the pattern in the input string\n",
    "    corrected_str = pattern.sub(replacer, input_str)\n",
    "\n",
    "    return corrected_str"
   ]
  },
  {
   "cell_type": "code",
   "execution_count": 17,
   "outputs": [],
   "source": [
    "def generating(topic, argument, kps, max_retries=10):\n",
    "    attempt = 0\n",
    "    while attempt < max_retries:\n",
    "        try:\n",
    "            messages = [\n",
    "                {\n",
    "                    'role': 'system',\n",
    "                    'content': f\"\"\"\n",
    "                You need to calculate the confidence score of the given argument to each kp of the candidate kps based on the topic \"{topic}\". The confidence score between 0 and 1 means to what extent the argument matches the kp. 0 represents not match, 1 represents match. You need to return a list of 5 lists. Each inner list contain each kp in string and the corresponding confidence score in float. The result format is as follows: [[kp1, confidence_score], [kp2, confidence_score],...]\n",
    "                \"\"\"\n",
    "                },\n",
    "                {\n",
    "                    'role': 'user',\n",
    "                    'content': f\"argument: {argument}, kps: {kps}\"\n",
    "                }\n",
    "            ]\n",
    "            dashscope.api_key = qwen_api_key\n",
    "            response = dashscope.Generation.call(model=\"qwen-max\",\n",
    "                                                 messages=messages,\n",
    "                                                 seed=random.randint(1, 10000),\n",
    "                                                 result_format='message')\n",
    "            if response.status_code == HTTPStatus.OK:\n",
    "                output = response['output'][\"choices\"][0][\"message\"][\"content\"]\n",
    "                # print(\"******************************************************\")\n",
    "                # print(response['output'][\"choices\"][0][\"message\"][\"content\"])\n",
    "                cleaned_output = output.replace('\\\\\"', '\"')\n",
    "                # print(\"---------------------------------------------------\")\n",
    "                # print(cleaned_output)\n",
    "                if not is_before_first_comma_number(cleaned_output):\n",
    "                    corrected_output = correct_format_string(cleaned_output)\n",
    "                else:\n",
    "                    if contains_kp_before_comma(cleaned_output):\n",
    "                        corrected_output = replace_kp_before_comma(cleaned_output)\n",
    "                    else:\n",
    "                        corrected_output = cleaned_output\n",
    "                print(\"~~~~~~~~~~~~~~~~~~~~~~~~~~~~~~~~~~~~~~~~~~~~~~~~~~~\")\n",
    "                print(corrected_output)\n",
    "                output_list = ast.literal_eval(corrected_output)\n",
    "                print(len(output_list))\n",
    "                if len(output_list) == 5:\n",
    "                    print(output_list)\n",
    "                    if len(output_list[0]) == 1:\n",
    "                        if len(output_list[0][0])==2:\n",
    "                            new_list = []\n",
    "                            for bad_list in output_list:\n",
    "                                new_list.append(bad_list[0])\n",
    "                            return new_list\n",
    "                        else:\n",
    "                            return output_list\n",
    "                    else:\n",
    "                        if isinstance(output_list[1][1], float) or isinstance(output_list[1][1], int):\n",
    "                            if isinstance(output_list[1][0], int) or isinstance(output_list[1][0], float):\n",
    "                                if output_list[0][0]==1 and output_list[1][0]==2 and output_list[2][0]==3 and output_list[3][0]==4 and output_list[4][0]==5:\n",
    "                                    return output_list\n",
    "                                else:\n",
    "                                    attempt += 1\n",
    "                                    continue\n",
    "                            else:\n",
    "                                return output_list\n",
    "                        elif (isinstance(output_list[0][0], float) or isinstance(output_list[0][0], int)) and isinstance(output_list[0][1], str):\n",
    "                            swapped_list = [[string, number] for number, string in output_list]\n",
    "                            return swapped_list\n",
    "                        else:\n",
    "                            attempt += 1\n",
    "                            continue\n",
    "                elif len(output_list) == 1:\n",
    "                    if len(output_list[0])==5 and (len(output_list[0][0])==2 or len(output_list[0][0])==1):\n",
    "                        return output_list[0]\n",
    "                    else:\n",
    "                        attempt += 1\n",
    "                        continue\n",
    "                else:\n",
    "                    attempt += 1\n",
    "                    continue\n",
    "            else:\n",
    "                print('Request id: %s, Status code: %s, error code: %s, error message: %s' % (\n",
    "                    response.request_id, response.status_code,\n",
    "                    response.code, response.message\n",
    "                ))\n",
    "                attempt += 1\n",
    "                continue\n",
    "        except KeyboardInterrupt:\n",
    "            print(\"Interrupted by user.\")\n",
    "            break\n",
    "        except Exception as e:\n",
    "            print(f\"An error occurred: {e}. Retrying... ({attempt + 1}/{max_retries})\")\n",
    "            attempt += 1\n",
    "    return None\n"
   ],
   "metadata": {
    "collapsed": false,
    "pycharm": {
     "name": "#%%\n"
    }
   }
  },
  {
   "cell_type": "code",
   "execution_count": 63,
   "outputs": [
    {
     "name": "stdout",
     "output_type": "stream",
     "text": [
      "2007: \n",
      "['An austerity regime unfairly impacts the poorest members of society.', 'An austerity regime can harm the economy by reducing demand and slowing growth.', 'Cutting social programs under an austerity regime disproportionately affects vulnerable populations.', 'Adopting an austerity regime may lead to increased unemployment.', 'An austerity regime is viewed as a potentially damaging and unjust approach to managing the economy.']\n",
      "~~~~~~~~~~~~~~~~~~~~~~~~~~~~~~~~~~~~~~~~~~~~~~~~~~~\n",
      "[[\"An austerity regime unfairly impacts the poorest members of society.\", 0.0], [\"An austerity regime can harm the economy by reducing demand and slowing growth.\", 0.0], [\"Cutting social programs under an austerity regime disproportionately affects vulnerable populations.\", 0.0], [\"Adopting an austerity regime may lead to increased unemployment.\", 0.0], [\"An austerity regime is viewed as a potentially damaging and unjust approach to managing the economy.\", 0.0]]\n",
      "5\n",
      "[['An austerity regime unfairly impacts the poorest members of society.', 0.0], ['An austerity regime can harm the economy by reducing demand and slowing growth.', 0.0], ['Cutting social programs under an austerity regime disproportionately affects vulnerable populations.', 0.0], ['Adopting an austerity regime may lead to increased unemployment.', 0.0], ['An austerity regime is viewed as a potentially damaging and unjust approach to managing the economy.', 0.0]]\n",
      "_______________________________\n",
      "best kp: An austerity regime unfairly impacts the poorest members of society.\n",
      "score: 0.0\n"
     ]
    }
   ],
   "source": [
    "for index, row in df.iloc[2007:2008].iterrows():\n",
    "    topic = row['topic']\n",
    "    stance = row['stance']\n",
    "    argument = row['argument']\n",
    "    filtered_df = prediction_df[(prediction_df['topic']==topic) & (prediction_df['stance']== stance)]\n",
    "    candidate_kps = filtered_df['predict_kps'].values.tolist()\n",
    "    print(str(index)+\": \")\n",
    "    print(candidate_kps[0])\n",
    "    input_kps_list = eval(candidate_kps[0])\n",
    "    # input_kps = ['\\\"' + sentence + '\\\"' for sentence in input_kps_list]\n",
    "    best_kp = ' '\n",
    "    confidence_score = 0\n",
    "    result_list = generating(topic, argument,str(input_kps_list))\n",
    "    if len(result_list[0])==1:\n",
    "        flattened_scores = [score[0] for score in result_list]\n",
    "        max_score = max(flattened_scores)\n",
    "        max_index = flattened_scores.index(max_score)\n",
    "        confidence_score = max_score\n",
    "        best_kp = input_kps_list[max_index]\n",
    "    else:\n",
    "\n",
    "        best_score_kp = max(result_list, key=lambda x: x[1])\n",
    "        if isinstance(best_score_kp[0],str):\n",
    "            best_kp = best_score_kp[0]\n",
    "        elif isinstance(best_score_kp[0],int):\n",
    "            best_kp = input_kps_list[best_score_kp[0]-1]\n",
    "        else:\n",
    "            print(\"Error\")\n",
    "            break\n",
    "        confidence_score = best_score_kp[1]\n",
    "    print(\"_______________________________\")\n",
    "    print(\"best kp: \"+best_kp)\n",
    "    print(\"score: \"+str(confidence_score))\n",
    "    df.at[index,'matched_kp(group)'] = best_kp\n",
    "    df.at[index,'confidence_score(group)'] = confidence_score"
   ],
   "metadata": {
    "collapsed": false,
    "pycharm": {
     "name": "#%%\n"
    }
   }
  },
  {
   "cell_type": "code",
   "execution_count": 64,
   "outputs": [
    {
     "name": "stdout",
     "output_type": "stream",
     "text": [
      "Add new data successfully!!!!!\n"
     ]
    }
   ],
   "source": [
    "df.to_csv('./data/KPM_qwen_in_hybrid.csv', index=False)\n",
    "print(\"Add new data successfully!!!!!\")"
   ],
   "metadata": {
    "collapsed": false,
    "pycharm": {
     "name": "#%%\n"
    }
   }
  },
  {
   "cell_type": "code",
   "execution_count": 1,
   "outputs": [
    {
     "name": "stdout",
     "output_type": "stream",
     "text": [
      "Index(['topic', 'stance', 'argument', 'matched_kp(group)',\n",
      "       'confidence_score(group)', 'matched_kp(1by1)',\n",
      "       'confidence_score(1by1)'],\n",
      "      dtype='object')\n"
     ]
    }
   ],
   "source": [
    "import pandas as pd\n",
    "df = pd.read_csv('./data/KPM_qwen_in_hybrid.csv')\n",
    "print(df.columns)"
   ],
   "metadata": {
    "collapsed": false,
    "pycharm": {
     "name": "#%%\n"
    }
   }
  },
  {
   "cell_type": "code",
   "execution_count": 3,
   "outputs": [
    {
     "name": "stdout",
     "output_type": "stream",
     "text": [
      "0.8476471400939597\n"
     ]
    }
   ],
   "source": [
    "score_list = df['confidence_score(1by1)'].values.tolist()\n",
    "print(sum(score_list)/len(score_list))"
   ],
   "metadata": {
    "collapsed": false,
    "pycharm": {
     "name": "#%%\n"
    }
   }
  },
  {
   "cell_type": "code",
   "execution_count": null,
   "outputs": [],
   "source": [],
   "metadata": {
    "collapsed": false,
    "pycharm": {
     "name": "#%%\n"
    }
   }
  }
 ],
 "metadata": {
  "kernelspec": {
   "display_name": "Python 3 (ipykernel)",
   "language": "python",
   "name": "python3"
  },
  "language_info": {
   "codemirror_mode": {
    "name": "ipython",
    "version": 3
   },
   "file_extension": ".py",
   "mimetype": "text/x-python",
   "name": "python",
   "nbconvert_exporter": "python",
   "pygments_lexer": "ipython3",
   "version": "3.9.13"
  }
 },
 "nbformat": 4,
 "nbformat_minor": 4
}