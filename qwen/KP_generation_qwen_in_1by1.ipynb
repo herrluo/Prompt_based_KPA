{
 "cells": [
  {
   "cell_type": "markdown",
   "source": [
    "### Import data"
   ],
   "metadata": {
    "collapsed": false,
    "pycharm": {
     "name": "#%% md\n"
    }
   }
  },
  {
   "cell_type": "code",
   "execution_count": 1,
   "outputs": [
    {
     "name": "stdout",
     "output_type": "stream",
     "text": [
      "Index(['topic', 'stance', 'argument', 'key_point', 'embedding(0_1_2_3)',\n",
      "       'embedding(4_7_8_15)', 'embedding(5_6_9_10)', 'embedding(11_12_13_14)',\n",
      "       'embedding(16_17_18_19)', 'embedding(20_21_22_23)',\n",
      "       'embedding(24_25_26_27)', 'avg_embedding'],\n",
      "      dtype='object')\n"
     ]
    }
   ],
   "source": [
    "import pandas as pd\n",
    "df = pd.read_csv('./data/qwen_1by1+predictions.csv')\n",
    "print(df.columns)\n",
    "# 1641:\n",
    "# 2388:\n",
    "# 2414:\n",
    "# 2426:\n",
    "# 2627:\n",
    "# 2878:\n",
    "# 3362"
   ],
   "metadata": {
    "collapsed": false,
    "pycharm": {
     "name": "#%%\n"
    }
   }
  },
  {
   "cell_type": "code",
   "execution_count": 2,
   "outputs": [
    {
     "name": "stdout",
     "output_type": "stream",
     "text": [
      "Libertarianism promotes human potential by granting individuals自由 to pursue their expertise unhindered by financial constraints or irrational regulations.\n"
     ]
    }
   ],
   "source": [
    "print(df.at[2388,'key_point'])"
   ],
   "metadata": {
    "collapsed": false,
    "pycharm": {
     "name": "#%%\n"
    }
   }
  },
  {
   "cell_type": "markdown",
   "source": [
    "## Predict via qwen-max"
   ],
   "metadata": {
    "collapsed": false,
    "pycharm": {
     "name": "#%% md\n"
    }
   }
  },
  {
   "cell_type": "code",
   "execution_count": 3,
   "outputs": [],
   "source": [
    "import random\n",
    "from http import HTTPStatus\n",
    "import dashscope\n",
    "import yaml"
   ],
   "metadata": {
    "collapsed": false,
    "pycharm": {
     "name": "#%%\n"
    }
   }
  },
  {
   "cell_type": "code",
   "execution_count": 4,
   "outputs": [],
   "source": [
    "with open(\"../conf/index.yaml\") as f:\n",
    "    credentials = yaml.safe_load(f)\n",
    "qwen_api_key = credentials['environment_variables']['QWEN_DASHSCOPE_API_KEY']"
   ],
   "metadata": {
    "collapsed": false,
    "pycharm": {
     "name": "#%%\n"
    }
   }
  },
  {
   "cell_type": "code",
   "execution_count": 5,
   "outputs": [],
   "source": [
    "import re\n",
    "def contains_chinese(text):\n",
    "    # Regular expression pattern for Chinese characters\n",
    "    chinese_pattern = re.compile('[\\u4e00-\\u9fff]+')\n",
    "\n",
    "    # Search for Chinese characters in the text\n",
    "    if chinese_pattern.search(text):\n",
    "        return True\n",
    "    else:\n",
    "        return False"
   ],
   "metadata": {
    "collapsed": false,
    "pycharm": {
     "name": "#%%\n"
    }
   }
  },
  {
   "cell_type": "code",
   "execution_count": 6,
   "outputs": [],
   "source": [
    "def generating(topic, argument):\n",
    "    try:\n",
    "        messages = [\n",
    "            {\n",
    "                'role': 'system',\n",
    "                'content': f\"\"\"\n",
    "            You need to do key point analysis on the query of user and\n",
    "        generate a key point in one sentence from it based on the topic \"{topic}\" and the key point should be English . You should only return the key point. The return format is as followed: Key Point: ...\n",
    "            \"\"\"\n",
    "            },\n",
    "            {\n",
    "                'role': 'user',\n",
    "                'content': argument\n",
    "            }\n",
    "        ]\n",
    "        dashscope.api_key = qwen_api_key\n",
    "        response = dashscope.Generation.call(model=\"qwen-max\",\n",
    "                                   messages=messages,\n",
    "                                   # 设置随机数种子seed，如果没有设置，则随机数种子默认为1234\n",
    "                                   seed=random.randint(1, 10000),\n",
    "                                   # 将输出设置为\"message\"格式\n",
    "                                   result_format='message')\n",
    "        if response.status_code == HTTPStatus.OK:\n",
    "            output = response['output'][\"choices\"][0][\"message\"][\"content\"]\n",
    "            key_point = output.split(\"Key Point: \")[1].strip()\n",
    "            print(response['output'][\"choices\"][0][\"message\"][\"content\"])\n",
    "            print(key_point)\n",
    "            if contains_chinese(key_point):\n",
    "                print(\"-----------------------------------------\")\n",
    "                return generating(topic,argument)\n",
    "            else:\n",
    "                print(\"New: \"+key_point)\n",
    "                return key_point\n",
    "        else:\n",
    "            print('Request id: %s, Status code: %s, error code: %s, error message: %s' % (\n",
    "                response.request_id, response.status_code,\n",
    "                response.code, response.message\n",
    "            ))\n",
    "            return generating(topic,argument)\n",
    "    except Exception as e:\n",
    "        print(f\"An error occurred: {e}. Retrying...\")\n",
    "        return generating(topic, argument)"
   ],
   "metadata": {
    "collapsed": false,
    "pycharm": {
     "name": "#%%\n"
    }
   }
  },
  {
   "cell_type": "code",
   "execution_count": null,
   "outputs": [
    {
     "name": "stdout",
     "output_type": "stream",
     "text": [
      "1641: \n",
      "Key Point: Abolishing intellectual property rights could jeopardize the livelihoods of creative individuals, potentially leading to a loss of their creative output as they转向 alternative paid occupations.\n",
      "Abolishing intellectual property rights could jeopardize the livelihoods of creative individuals, potentially leading to a loss of their creative output as they转向 alternative paid occupations.\n",
      "-----------------------------------------\n",
      "Key Point: Abolishing intellectual property rights could jeopardize the livelihoods of creative individuals, potentially leading to a loss of their artistic contributions as they转向 other means of income.\n",
      "Abolishing intellectual property rights could jeopardize the livelihoods of creative individuals, potentially leading to a loss of their artistic contributions as they转向 other means of income.\n",
      "-----------------------------------------\n",
      "Key Point: The absence of intellectual property rights could result in creative individuals being unable to financially sustain themselves through their innovations, leading to a potential loss of their creative contributions as they转向其他收入来源。\n",
      "The absence of intellectual property rights could result in creative individuals being unable to financially sustain themselves through their innovations, leading to a potential loss of their creative contributions as they转向其他收入来源。\n",
      "-----------------------------------------\n",
      "Key Point: Abolishing intellectual property rights could jeopardize the livelihood of creative individuals, potentially leading to a loss of their innovative work as they转向 other occupations for income.\n",
      "Abolishing intellectual property rights could jeopardize the livelihood of creative individuals, potentially leading to a loss of their innovative work as they转向 other occupations for income.\n",
      "-----------------------------------------\n",
      "Key Point: The absence of intellectual property rights could potentially deprive creative individuals of their livelihood, leading to a loss of creative output as they转向 other paid occupations.\n",
      "The absence of intellectual property rights could potentially deprive creative individuals of their livelihood, leading to a loss of creative output as they转向 other paid occupations.\n",
      "-----------------------------------------\n",
      "Key Point: The absence of intellectual property rights could jeopardize the livelihood of creative individuals, potentially leading to a loss of their artistic contributions as they转向 other means of income.\n",
      "The absence of intellectual property rights could jeopardize the livelihood of creative individuals, potentially leading to a loss of their artistic contributions as they转向 other means of income.\n",
      "-----------------------------------------\n",
      "Key Point: Abolishing intellectual property rights could jeopardize the livelihood of creative individuals, potentially leading to a loss of their innovative work as they转向 alternative paid occupations.\n",
      "Abolishing intellectual property rights could jeopardize the livelihood of creative individuals, potentially leading to a loss of their innovative work as they转向 alternative paid occupations.\n",
      "-----------------------------------------\n",
      "Key Point: The absence of intellectual property rights could jeopardize the livelihood of creative individuals, potentially leading to a loss of their innovative work as they转向 alternative paid occupations.\n",
      "The absence of intellectual property rights could jeopardize the livelihood of creative individuals, potentially leading to a loss of their innovative work as they转向 alternative paid occupations.\n",
      "-----------------------------------------\n",
      "Key Point: The absence of intellectual property rights could potentially deprive creative individuals of earning a livelihood from their creations, leading to a loss of their artistic contributions as they转向 other occupations for financial stability.\n",
      "The absence of intellectual property rights could potentially deprive creative individuals of earning a livelihood from their creations, leading to a loss of their artistic contributions as they转向 other occupations for financial stability.\n",
      "-----------------------------------------\n",
      "Request id: , Status code: -1, error code: Unknown, error message: Error type: <class 'KeyboardInterrupt'>, message: \n",
      "Key Point: Abolishing intellectual property rights could jeopardize the livelihoods of creative individuals, potentially leading to a loss of their innovative work as they转向 alternative paid occupations.\n",
      "Abolishing intellectual property rights could jeopardize the livelihoods of creative individuals, potentially leading to a loss of their innovative work as they转向 alternative paid occupations.\n",
      "-----------------------------------------\n",
      "Key Point: Abolishing intellectual property rights could jeopardize the livelihoods of creative individuals, potentially leading to a loss of creative output as they转向 alternative paid occupations.\n",
      "Abolishing intellectual property rights could jeopardize the livelihoods of creative individuals, potentially leading to a loss of creative output as they转向 alternative paid occupations.\n",
      "-----------------------------------------\n",
      "Key Point: Abolishing intellectual property rights could jeopardize the livelihoods of creatives, potentially leading to a loss of their innovative work as they转向 other means for income.\n",
      "Abolishing intellectual property rights could jeopardize the livelihoods of creatives, potentially leading to a loss of their innovative work as they转向 other means for income.\n",
      "-----------------------------------------\n",
      "Key Point: Abolishing intellectual property rights could potentially deprive creative individuals of their livelihood, leading to a loss of creative output as they转向 other means of income.\n",
      "Abolishing intellectual property rights could potentially deprive creative individuals of their livelihood, leading to a loss of creative output as they转向 other means of income.\n",
      "-----------------------------------------\n",
      "Request id: , Status code: -1, error code: Unknown, error message: Error type: <class 'KeyboardInterrupt'>, message: \n"
     ]
    }
   ],
   "source": [
    "import ast\n",
    "for index, row in df.iloc[1641:1642].iterrows():\n",
    "    print(str(index)+\": \")\n",
    "    topic = row['topic']\n",
    "    argument = row['argument']\n",
    "    result = generating(topic, argument)\n",
    "    df.at[index, 'key_point'] = result"
   ],
   "metadata": {
    "collapsed": false,
    "pycharm": {
     "name": "#%%\n",
     "is_executing": true
    }
   }
  },
  {
   "cell_type": "code",
   "execution_count": 196,
   "outputs": [
    {
     "name": "stdout",
     "output_type": "stream",
     "text": [
      "Add new data successfully!!!!!\n"
     ]
    }
   ],
   "source": [
    "df.to_csv('./data/1by1+predictions.csv', index=False)\n",
    "print(\"Add new data successfully!!!!!\")"
   ],
   "metadata": {
    "collapsed": false,
    "pycharm": {
     "name": "#%%\n"
    }
   }
  },
  {
   "cell_type": "markdown",
   "source": [
    "### Postprocessing with chinese character problem"
   ],
   "metadata": {
    "collapsed": false,
    "pycharm": {
     "name": "#%% md\n"
    }
   }
  },
  {
   "cell_type": "code",
   "execution_count": null,
   "outputs": [],
   "source": [],
   "metadata": {
    "collapsed": false,
    "pycharm": {
     "name": "#%%\n"
    }
   }
  },
  {
   "cell_type": "code",
   "execution_count": 244,
   "outputs": [
    {
     "name": "stdout",
     "output_type": "stream",
     "text": [
      "1641: \n",
      "2388: \n",
      "2414: \n",
      "2426: \n",
      "2627: \n",
      "2878: \n",
      "3362: \n"
     ]
    }
   ],
   "source": [
    "for index, row in df.iloc[:7236].iterrows():\n",
    "    # print(str(index)+\": \")\n",
    "    if contains_chinese(df.at[index,'key_point']):\n",
    "        print(str(index)+\": \")\n",
    "        # print(\"old: \"+df.at[index,'key_point'])\n",
    "        # topic = row['topic']\n",
    "        # argument = row['argument']\n",
    "        # result = generating(topic, argument)\n",
    "        # df.at[index, 'key_point'] = result\n",
    "    # else: print(\"No\")"
   ],
   "metadata": {
    "collapsed": false,
    "pycharm": {
     "name": "#%%\n"
    }
   }
  },
  {
   "cell_type": "code",
   "execution_count": 242,
   "outputs": [
    {
     "name": "stdout",
     "output_type": "stream",
     "text": [
      "Add new data successfully!!!!!\n"
     ]
    }
   ],
   "source": [
    "df.to_csv('./data/1by1+predictions.csv', index=False)\n",
    "print(\"Add new data successfully!!!!!\")"
   ],
   "metadata": {
    "collapsed": false,
    "pycharm": {
     "name": "#%%\n"
    }
   }
  },
  {
   "cell_type": "code",
   "execution_count": 7,
   "outputs": [
    {
     "name": "stdout",
     "output_type": "stream",
     "text": [
      "1641: \n",
      "2388: \n",
      "2414: \n",
      "2426: \n",
      "2627: \n",
      "2878: \n",
      "3362: \n"
     ]
    }
   ],
   "source": [
    "for index, row in df.iterrows():\n",
    "    # print(str(index)+\": \")\n",
    "    if contains_chinese(df.at[index,'key_point']):\n",
    "        print(str(index)+\": \")\n",
    "        # print(\"old: \"+df.at[index,'key_point'])\n",
    "        # topic = row['topic']\n",
    "        # argument = row['argument']\n",
    "        # result = generating(topic, argument)\n",
    "        # df.at[index, 'key_point'] = result\n",
    "    # else: print(\"No\")"
   ],
   "metadata": {
    "collapsed": false,
    "pycharm": {
     "name": "#%%\n"
    }
   }
  },
  {
   "cell_type": "code",
   "execution_count": null,
   "outputs": [],
   "source": [],
   "metadata": {
    "collapsed": false,
    "pycharm": {
     "name": "#%%\n"
    }
   }
  }
 ],
 "metadata": {
  "kernelspec": {
   "display_name": "Python 3",
   "language": "python",
   "name": "python3"
  },
  "language_info": {
   "codemirror_mode": {
    "name": "ipython",
    "version": 2
   },
   "file_extension": ".py",
   "mimetype": "text/x-python",
   "name": "python",
   "nbconvert_exporter": "python",
   "pygments_lexer": "ipython2",
   "version": "2.7.6"
  }
 },
 "nbformat": 4,
 "nbformat_minor": 0
}