{
 "cells": [
  {
   "cell_type": "code",
   "execution_count": 12,
   "outputs": [
    {
     "name": "stdout",
     "output_type": "stream",
     "text": [
      "Index(['topic', 'stance', 'arguments', 'kep_points', 'predict_kps'], dtype='object')\n"
     ]
    }
   ],
   "source": [
    "import pandas as pd\n",
    "df = pd.read_csv('../result/ArgKP21+predictions(v2).csv')\n",
    "print(df.columns)"
   ],
   "metadata": {
    "collapsed": false,
    "pycharm": {
     "name": "#%%\n"
    }
   }
  },
  {
   "cell_type": "code",
   "execution_count": 15,
   "outputs": [
    {
     "name": "stdout",
     "output_type": "stream",
     "text": [
      "he state of anguish that many of the large cities of the USA are experiencing goes against the quality of life. Laws in some inflexible cases go against ordinary citizens.\n"
     ]
    }
   ],
   "source": [
    "import ast\n",
    "test_argument_list = df.at[61,'arguments']\n",
    "test_arguments = ast.literal_eval(test_argument_list)\n",
    "test_arguments = test_arguments[:50]\n",
    "print(test_arguments[0])"
   ],
   "metadata": {
    "collapsed": false,
    "pycharm": {
     "name": "#%%\n"
    }
   }
  },
  {
   "cell_type": "code",
   "execution_count": 18,
   "outputs": [
    {
     "name": "stdout",
     "output_type": "stream",
     "text": [
      " he state of anguish that many of the large cities of the USA are experiencing goes against the quality of life. Laws in some inflexible cases go against ordinary citizens.healthcare and education are extremely expensive to middle class.High crime rates, racism, xenophobia, high tax rates, many negative points, it is not a good country to live in.I'm afraid there are some worries, because of the racism there, and that strangers might not get the same good treatment.If you have a dark skin color or you are Latin the opportunities are reduced to the minimum ... I consider that there are other countries like Europe for example ... the United States is not the chimera.in some parts you are not given the opportunity to work just because you are an immigrant or because of your skin color.in the USA the health system is very expensive and discriminates against the poor population.It could be said that they are also in the middle of the war and are prone to one day suffer a disaster.it doesn't  have free healthcare, and enough gun control laws.it doesn't provide it's citizens with free healthcare.it doesn`t have free healthcare and it has a lot of shootings and racist systems in place.it is a country with a stressful pace of life.It is a country with many rules and restrictions, all of which must be met.It is very difficult to live in the USA because the cost of living is too high and even going to the doctor can be extremely expensive.It is very unsafe with the large number of attacks that there are.low payment in some jobs, which will make it difficult to handle high prices.No, it is a country with many restrictions on immigrants.No, it is a very strict country with an unstoppable political system.No, since it is a culture that forces unbridled consumerism, which leads to an endless search for money and status.Not because it is a country with many restrictions for immigrants.not because taxes are high and expensive.not everything is like in the movies the united states has a lot of inequality.Not the best place for people of color.on the contrary I do not recommend it for Latin American foreigners there is a lot of racism.recently there was a lot of political problems that I'm afraid it will make it hard to live there plus some regions don't have a lot of  attention from the government.still in some states there are many robberies and other crimes that involve innocent people.The government watches you too much.The health sector, despite being very good, is excessively expensive, as is healthy food.The unequal levels of life style means there is so much unrest in the USA that it is not a good country to live in.The United States  has long been a hotbed of racism against minority cultures.The United States could have better management of wealth and others worse, the government does not work, that is why it would not be my best option.The United States has abyssal taxes, I don't like living here.The United States has made a very poor performance of its resources to govern.The United States is not the best for its culture of war.The United States is now ranked among the world's worst places to move to, due to rapidly increasing costs of living, health care and basic education.the us culture promotes materialism.The USA has a huge gun violence problem, from frequent mass shootings to self-inflicted gun shot wounds, the statistics are staggering.the usa has the highest rate of mental illness in the first world.The USA is a bad country to live in because some people are aggressive.The USA is a greatly divided country that can make it difficult to succeed.The USA is a very capitalist country; it does not provide universal health care or education for its citizens.The USA is no longer a good place to live. It has become a haven for refugees, a social services country and a place where criminals have more rights than law abiding citizens.The USA is not a good country to live in because is always in war with other country.the USA is not a good country to live in because it fails to provide affordable healthcare to all its citizens.The USA is not a good country to live in because many people are racists.The USA is not a good country to live in because of all the racial and political divisions and because of all the mass shootings due to a resistance against gun control regulations.The USA is not a good country to live in because some people don't respect the immigrants.The USA is not a good country to live in because there is so much government control.The USA is not a good country to live in, a lot of danger due to lacks of gun regulation.The USA is not a good place to live in because of the wide variance between rich and poor.  The poorest in society don't have access to either good health care or an adequate benefits system.\n"
     ]
    }
   ],
   "source": [
    "output = ' '\n",
    "for argument in test_arguments:\n",
    "    # print(argument)\n",
    "    if not argument.endswith('.'):\n",
    "        argument += '.'\n",
    "    output += argument\n",
    "print(output)"
   ],
   "metadata": {
    "collapsed": false,
    "pycharm": {
     "name": "#%%\n"
    }
   }
  },
  {
   "cell_type": "code",
   "execution_count": 10,
   "outputs": [],
   "source": [
    "test_input = ' '\n",
    "for argument in test_arguments:\n",
    "    if not argument.endswith('.'):\n",
    "        argument += '.'\n",
    "    test_input += argument"
   ],
   "metadata": {
    "collapsed": false,
    "pycharm": {
     "name": "#%%\n"
    }
   }
  },
  {
   "cell_type": "code",
   "execution_count": 7,
   "outputs": [],
   "source": [
    "import openai\n",
    "import yaml\n",
    "with open(\"conf/index.yaml\") as f:\n",
    "    credentials = yaml.safe_load(f)\n",
    "openai.api_key = credentials['environment_variables']['OPENAI_API_KEY']\n",
    "model_name = \"gpt-4\"\n",
    "system_prompt = \"\"\n",
    "user_query = \"\""
   ],
   "metadata": {
    "collapsed": false,
    "pycharm": {
     "name": "#%%\n"
    }
   }
  },
  {
   "cell_type": "code",
   "execution_count": 11,
   "outputs": [
    {
     "name": "stdout",
     "output_type": "stream",
     "text": [
      "[\"The USA is ranked among the world's worst places to move to, due to rapidly increasing costs of living, healthcare, and basic education.\", \n",
      "\"The USA doesn't provide free healthcare, has high crime rates, racism, xenophobia, and high tax rates.\",\n",
      "\"The USA has a significant gap between the rich and poor, and the poorest in society lack good healthcare and an adequate benefits system.\", \n",
      "\"The USA's culture promotes materialism and forces unbridled consumerism, leading to a stressful pace of life and an endless search for money and status.\", \n",
      "\"The USA, although having a good health sector, is criticized for its excessive costs, inequality, strict immigration rules, and its culture of war.\"]\n",
      "The USA is ranked among the world's worst places to move to, due to rapidly increasing costs of living, healthcare, and basic education.\n",
      "The USA doesn't provide free healthcare, has high crime rates, racism, xenophobia, and high tax rates.\n",
      "The USA has a significant gap between the rich and poor, and the poorest in society lack good healthcare and an adequate benefits system.\n",
      "The USA's culture promotes materialism and forces unbridled consumerism, leading to a stressful pace of life and an endless search for money and status.\n",
      "The USA, although having a good health sector, is criticized for its excessive costs, inequality, strict immigration rules, and its culture of war.\n"
     ]
    }
   ],
   "source": [
    "import ast\n",
    "predict_KPs = []\n",
    "\n",
    "system_prompt = f\"\"\"\n",
    "    You need to do key point analysis on a set of arguments from user. They are all about the topic \"\" You need to generate 5 pieces of key points which keep the key word: USA, good , rank them according to the quality and relevance to arguments from user and  stored them in a list and then return this list.\n",
    "    \"\"\"\n",
    "rep = openai.ChatCompletion.create(\n",
    "    model = model_name,\n",
    "    messages = [\n",
    "        {\"role\": \"system\", \"content\": system_prompt},\n",
    "        {\"role\": \"user\", \"content\": \"arguments:\"+ test_input }\n",
    "    ]\n",
    ")\n",
    "result = rep[\"choices\"][0][\"message\"][\"content\"]\n",
    "print(result)\n",
    "output = ast.literal_eval(result)\n",
    "for sentence in output:\n",
    "    print(sentence)\n",
    "\n"
   ],
   "metadata": {
    "collapsed": false,
    "pycharm": {
     "name": "#%%\n"
    }
   }
  },
  {
   "cell_type": "code",
   "execution_count": 33,
   "outputs": [
    {
     "name": "stdout",
     "output_type": "stream",
     "text": [
      "[0.9908472776356365, 0.0, 0.9856051909387934, 0.952828100612284, 0.9615587954324694, 1.0, 0.9907589729592732]\n",
      "6.484119794404936\n",
      "2.895450298266649\n",
      "6.140910096150635\n",
      "3.495893592062667\n",
      "5.029789910058974\n",
      "2.2202790852033547\n"
     ]
    }
   ],
   "source": [
    "# Example list of scores\n",
    "scores_1 = [117,981, 121.571, 150.152, 142.539, 109.019,117.077]\n",
    "scores_2 = [0.058, 0.045, 0.068, 0.045, 0.355,0.045]\n",
    "scores_3 = [9.26, 1.73, 1.72, 1.62, 7.57,1.92]\n",
    "scores_4 = [13.494, 14.162, 13.861, 14.993, 13.044,14.715]\n",
    "scores_5 = [17.005, 17.781, 16.993, 18.552, 16.440,18.538]\n",
    "scores_6 = [28.580, 24.698, 35.727, 24.363, 28.934,18.174]\n",
    "scores_7 = [0.865, 0.813, 0.876, 0.825, 0.854,0.815]\n",
    "scores_8 = [0.774, 0.778, 0.785, 0.789, 0.751,0.750]\n",
    "\n",
    "# Find the minimum and maximum values\n",
    "min_score_1 = min(scores_1)\n",
    "max_score_1 = max(scores_1)\n",
    "min_score_2 = min(scores_2)\n",
    "max_score_2 = max(scores_2)\n",
    "min_score_3 = min(scores_3)\n",
    "max_score_3 = max(scores_3)\n",
    "min_score_4 = min(scores_4)\n",
    "max_score_4 = max(scores_4)\n",
    "min_score_5 = min(scores_5)\n",
    "max_score_5 = max(scores_5)\n",
    "min_score_6 = min(scores_6)\n",
    "max_score_6 = max(scores_6)\n",
    "min_score_7 = min(scores_7)\n",
    "max_score_7 = max(scores_7)\n",
    "min_score_8 = min(scores_8)\n",
    "max_score_8 = max(scores_8)\n",
    "\n",
    "# Normalize the scores using the formula (num - min) / (max - min)\n",
    "normalized_scores_1 = [(score - min_score_1) / (max_score_1 - min_score_1) for score in scores_1]\n",
    "normalized_scores_2 = [(score - min_score_2) / (max_score_2 - min_score_2) for score in scores_2]\n",
    "normalized_scores_3 = [(score - min_score_3) / (max_score_3 - min_score_3) for score in scores_3]\n",
    "normalized_scores_4 = [(score - min_score_4) / (max_score_4 - min_score_4) for score in scores_4]\n",
    "normalized_scores_5 = [(score - min_score_5) / (max_score_5 - min_score_5) for score in scores_5]\n",
    "normalized_scores_6 = [(score - min_score_6) / (max_score_6 - min_score_6) for score in scores_6]\n",
    "normalized_scores_7 = [(score - min_score_7) / (max_score_7 - min_score_7) for score in scores_7]\n",
    "normalized_scores_8 = [(score - min_score_8) / (max_score_8 - min_score_8) for score in scores_8]\n",
    "normalized_scores_1 = [1 - score for score in normalized_scores_1]\n",
    "normalized_scores_2 = [1 - score for score in normalized_scores_2]\n",
    "normalized_scores_4 = [1 - score for score in normalized_scores_4]\n",
    "normalized_scores_5 = [1 - score for score in normalized_scores_5]\n",
    "print(normalized_scores_1)\n",
    "# print(\"Original scores:\", scores)\n",
    "# print(\"Normalized scores:\", normalized_scores)\n",
    "for i in range(6):\n",
    "    sum = normalized_scores_1[i]+normalized_scores_2[i]+normalized_scores_3[i]+normalized_scores_4[i]+normalized_scores_5[i]+normalized_scores_6[i]+normalized_scores_7[i]+normalized_scores_8[i]\n",
    "    print(sum)"
   ],
   "metadata": {
    "collapsed": false,
    "pycharm": {
     "name": "#%%\n"
    }
   }
  },
  {
   "cell_type": "code",
   "execution_count": null,
   "outputs": [],
   "source": [],
   "metadata": {
    "collapsed": false,
    "pycharm": {
     "name": "#%%\n"
    }
   }
  }
 ],
 "metadata": {
  "kernelspec": {
   "display_name": "Python 3",
   "language": "python",
   "name": "python3"
  },
  "language_info": {
   "codemirror_mode": {
    "name": "ipython",
    "version": 2
   },
   "file_extension": ".py",
   "mimetype": "text/x-python",
   "name": "python",
   "nbconvert_exporter": "python",
   "pygments_lexer": "ipython2",
   "version": "2.7.6"
  }
 },
 "nbformat": 4,
 "nbformat_minor": 0
}