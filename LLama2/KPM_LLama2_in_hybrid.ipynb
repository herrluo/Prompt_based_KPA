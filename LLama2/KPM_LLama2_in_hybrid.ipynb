{
 "cells": [
  {
   "cell_type": "markdown",
   "source": [
    "### Import Data"
   ],
   "metadata": {
    "collapsed": false,
    "pycharm": {
     "name": "#%% md\n"
    }
   }
  },
  {
   "cell_type": "code",
   "execution_count": 24,
   "outputs": [
    {
     "name": "stdout",
     "output_type": "stream",
     "text": [
      "Index(['topic', 'stance', 'argument', 'matched_kp(group)',\n",
      "       'confidence_score(group)', 'matched_kp(1by1)',\n",
      "       'confidence_score(1by1)'],\n",
      "      dtype='object')\n"
     ]
    }
   ],
   "source": [
    "import pandas as pd\n",
    "df = pd.read_csv('./data/KPM_LLama2_in_hybrid.csv')\n",
    "print(df.columns)"
   ],
   "metadata": {
    "collapsed": false,
    "pycharm": {
     "name": "#%%\n"
    }
   }
  },
  {
   "cell_type": "code",
   "execution_count": 25,
   "outputs": [
    {
     "name": "stdout",
     "output_type": "stream",
     "text": [
      "Index(['topic', 'stance', 'arguments', 'kep_points',\n",
      "       'predict_kps(avg_embedding)', 'predict_kps(best_embedding)',\n",
      "       'predict_kps(PCA_embedding)'],\n",
      "      dtype='object')\n"
     ]
    }
   ],
   "source": [
    "prediction_df = pd.read_csv('./data/1by1+predictions_in_group.csv')\n",
    "print(prediction_df.columns)"
   ],
   "metadata": {
    "collapsed": false,
    "pycharm": {
     "name": "#%%\n"
    }
   }
  },
  {
   "cell_type": "markdown",
   "source": [
    "### Predict matched KP in group and select best one by ourselves"
   ],
   "metadata": {
    "collapsed": false,
    "pycharm": {
     "name": "#%% md\n"
    }
   }
  },
  {
   "cell_type": "code",
   "execution_count": null,
   "outputs": [],
   "source": [
    "import yaml\n",
    "with open(\"../conf/index.yaml\") as f:\n",
    "    credentials = yaml.safe_load(f)\n",
    "Llama2_api_token = credentials['environment_variables']['LLAMA2_API_TOKEN']"
   ],
   "metadata": {
    "collapsed": false,
    "pycharm": {
     "name": "#%%\n"
    }
   }
  },
  {
   "cell_type": "code",
   "execution_count": 26,
   "outputs": [],
   "source": [
    "import ast\n",
    "import re\n",
    "def generating(topic, argument,kps):\n",
    "    import replicate\n",
    "    replicate = replicate.Client(api_token=Llama2_api_token)\n",
    "    output = replicate.run(\n",
    "        \"meta/llama-2-70b-chat\",\n",
    "        input={\n",
    "            \"debug\": False,\n",
    "            \"top_p\": 1,\n",
    "            \"prompt\": \"argument:\"+argument+\", kps:\"+kps,\n",
    "            \"temperature\": 0.5,\n",
    "            \"system_prompt\": f\"\"\"\n",
    "        You need to calculate the confidence score of the given argument to each kp of the candidate kps based on the topic \"{topic}\". The confidence score between 0 and 1 means to what extend the argument matches to the kp. 0 represents not match, 1 represents match. You need to return a list of lists which contain each kp and the corresponding confidence score. The result format is as followed: [[kp1, confidence_score], [kp2, confidence_score],...]\n",
    "        \"\"\",\n",
    "            \"max_new_tokens\": 500,\n",
    "            \"min_new_tokens\": -1,\n",
    "            \"prompt_template\": \"[INST] <<SYS>>\\n{system_prompt}\\n<</SYS>>\\n\\n{prompt} [/INST]\",\n",
    "            \"repetition_penalty\": 1.15\n",
    "        }\n",
    "    )\n",
    "    # print(output)\n",
    "    # The meta/llama-2-70b-chat model can stream output as it's running.\n",
    "    # The predict method returns an iterator, and you can iterate over that output.\n",
    "    output_sentence = ' '\n",
    "    print(\"~~~~~~~~~~~~~~~~~~~~~~~~~~~~~~~~~~~~~~~~~\")\n",
    "    for item in output:\n",
    "        output_sentence+=item\n",
    "        print(item, end=\"\")\n",
    "\n",
    "    try:\n",
    "        # Define a regular expression pattern to match the list of lists structure\n",
    "        pattern = r'\\[((?:\\[.*?\\],?\\s*)+)\\]'\n",
    "\n",
    "        # Use re.search to find the first match of the pattern\n",
    "        match = re.search(pattern, output_sentence)\n",
    "\n",
    "        # Check if a match is found\n",
    "        if match:\n",
    "            # Extract the matched text\n",
    "            matched_text = match.group(0)\n",
    "            # Extract the content inside the outermost square brackets\n",
    "            inner_content = match.group(1)\n",
    "            # Split the inner content into individual list elements\n",
    "            list_elements = re.findall(r'\\[.*?\\]', inner_content)\n",
    "            # Extracted list of lists\n",
    "            list_of_lists = [ast.literal_eval(element) for element in list_elements]\n",
    "            # Print the extracted list of lists\n",
    "            print(\"!!!!!!!!!!!!!!!!!!!!!!!!!!!!!!!!!\")\n",
    "            print(list_of_lists)\n",
    "            return list_of_lists\n",
    "        else:\n",
    "            print(\"No 2D list found in the given text.\")\n",
    "            return generating(topic,argument,kps)\n",
    "    except (SyntaxError, ValueError) as e:\n",
    "        print(f\"Error: {e}. Regenerating string...\")\n",
    "        return generating(topic,argument,kps)"
   ],
   "metadata": {
    "collapsed": false,
    "pycharm": {
     "name": "#%%\n"
    }
   }
  },
  {
   "cell_type": "code",
   "execution_count": 28,
   "outputs": [
    {
     "name": "stdout",
     "output_type": "stream",
     "text": [
      "7182: \n",
      "[\"The USA's military involvement and vulnerability to natural disasters are potential drawbacks to consider when evaluating its livability.\", 'The high cost of living and healthcare expenses in the USA can make it challenging for individuals to afford a decent standard of living.', 'The high crime rate in the USA raises concerns about safety and security, potentially making it a less desirable place to live.', 'The USA is a good country to live in despite its fast-paced and stressful lifestyle.', 'The USA offers numerous opportunities for personal and professional growth, making it a good country to live in.']\n",
      "~~~~~~~~~~~~~~~~~~~~~~~~~~~~~~~~~~~~~~~~~\n",
      " Here's a list of lists, where each inner list contains a kp and the corresponding confidence score, calculated based on the topic \"The USA is a good country to live in\" and the given argument:\n",
      "\n",
      "[['\"The USA's military involvement and vulnerability to natural disasters are potential drawbacks to consider when evaluating its livability.\"', 0.3],\n",
      " ['\"The high cost of living and healthcare expenses in the USA can make it challenging for individuals to afford a decent standard of living.\"', 0.6],\n",
      " ['\"The high crime rate in the USA raises concerns about safety and security, potentially making it a less desirable place to live.\"', 0.8],\n",
      " ['\"The USA is a good country to live in despite its fast-paced and stressful lifestyle.\"', 0.2],\n",
      " ['\"The USA offers numerous opportunities for personal and professional growth, making it a good country to live in.\"', 0.4]]\n",
      "\n",
      "The confidence scores are based on the following calculations:\n",
      "\n",
      "1. Military involvement and natural disasters: The argument mentions shootings and racist systems, which are not directly related to military involvement or natural disasters. Therefore, the confidence score is 0.3.\n",
      "2. High cost of living and healthcare expenses: The argument mentions the high cost of healthcare, which aligns with this kp. However, the argument does not explicitly mention the cost of living. Therefore, the confidence score is 0.6.\n",
      "3. High crime rate: The argument mentions shootings, which are related to the high crime rate. Therefore, the confidence score is 0.8.\n",
      "4. Fast-paced and stressful lifestyle: The argument does not mention anything related to this kp. Therefore, the confidence score is 0.2.\n",
      "5. Opportunities for personal and professional growth: The argument does not mention anything related to this kp. Therefore, the confidence score is 0.4.\n",
      "\n",
      "Note that the confidence scores are based on the topic and the given argument, and may not necessarily reflect the accuracy or truthfulness of the kps.Error: invalid syntax (<unknown>, line 1). Regenerating string...\n",
      "~~~~~~~~~~~~~~~~~~~~~~~~~~~~~~~~~~~~~~~~~\n",
      " Here's a list of lists containing each KP and the corresponding confidence score, based on the given argument and topic:\n",
      "\n",
      "[['The high cost of living and healthcare expenses in the USA can make it challenging for individuals to afford a decent standard of living.', 0.8],\n",
      " ['The high crime rate in the USA raises concerns about safety and security, potentially making it a less desirable place to live.', 0.7],\n",
      " ['The USA is a good country to live in despite its fast-paced and stressful lifestyle.', 0.3],\n",
      " ['The USA offers numerous opportunities for personal and professional growth, making it a good country to live in.', 0.4],\n",
      " ['The USA\\'s military involvement and vulnerability to natural disasters are potential drawbacks to consider when evaluating its livability.', 0.5]]\n",
      "\n",
      "Explanation:\n",
      "\n",
      "1. The first KP, '\"The high cost of living and healthcare expenses in the USA can make it challenging for individuals to afford a decent standard of living.\"', matches the argument's mention of \"it doesn`t have free healthcare\" and the idea that the cost of living is high, so it receives a confidence score of 0.8.\n",
      "2. The second KP, '\"The high crime rate in the USA raises concerns about safety and security, potentially making it a less desirable place to live.\"', aligns with the argument's mention of \"a lot of shootings\" and the idea that the high crime rate could make the USA less desirable to live in, so it receives a confidence score of 0.7.\n",
      "3. The third KP, '\"The USA is a good country to live in despite its fast-paced and stressful lifestyle.\"', partially matches the argument's mention of \"a lot of shootings\" and \"racist systems in place\", but also acknowledges that the USA can be a good place to live despite these issues, so it receives a confidence score of 0.3.\n",
      "4. The fourth KP, '\"The USA offers numerous opportunities for personal and professional growth, making it a good country to live in.\"', partially matches the argument's mention of \"racist systems in place\", but also highlights the!!!!!!!!!!!!!!!!!!!!!!!!!!!!!!!!!\n",
      "[['The high cost of living and healthcare expenses in the USA can make it challenging for individuals to afford a decent standard of living.', 0.8], ['The high crime rate in the USA raises concerns about safety and security, potentially making it a less desirable place to live.', 0.7], ['The USA is a good country to live in despite its fast-paced and stressful lifestyle.', 0.3], ['The USA offers numerous opportunities for personal and professional growth, making it a good country to live in.', 0.4], [\"The USA's military involvement and vulnerability to natural disasters are potential drawbacks to consider when evaluating its livability.\", 0.5]]\n",
      "_______________________________\n",
      "best kp: The high cost of living and healthcare expenses in the USA can make it challenging for individuals to afford a decent standard of living.\n",
      "score: 0.8\n"
     ]
    }
   ],
   "source": [
    "for index, row in df.iloc[7182:7183].iterrows():\n",
    "    topic = row['topic']\n",
    "    stance = row['stance']\n",
    "    argument = row['argument']\n",
    "    filtered_df = prediction_df[(prediction_df['topic']==topic) & (prediction_df['stance']== stance)]\n",
    "    candidate_kps = filtered_df['predict_kps(avg_embedding)'].values.tolist()\n",
    "    print(str(index)+\": \")\n",
    "    print(candidate_kps[0])\n",
    "    input_kps_list = eval(candidate_kps[0])\n",
    "    input_kps = ['\\\"' + sentence + '\\\"' for sentence in input_kps_list]\n",
    "    result_list = generating(topic, argument,str(input_kps))\n",
    "    best_score_kp = max(result_list, key=lambda x: x[1])\n",
    "    best_kp = best_score_kp[0]\n",
    "    confidence_score = best_score_kp[1]\n",
    "    print(\"_______________________________\")\n",
    "    print(\"best kp: \"+best_kp)\n",
    "    print(\"score: \"+str(confidence_score))\n",
    "    df.at[index,'matched_kp(1by1)'] = best_kp\n",
    "    df.at[index,'confidence_score(1by1)'] = confidence_score"
   ],
   "metadata": {
    "collapsed": false,
    "pycharm": {
     "name": "#%%\n"
    }
   }
  },
  {
   "cell_type": "code",
   "execution_count": 29,
   "outputs": [
    {
     "name": "stdout",
     "output_type": "stream",
     "text": [
      "Add new data successfully!!!!!\n"
     ]
    }
   ],
   "source": [
    "df.to_csv('./data/KPM_LLama2_in_hybrid.csv', index=False)\n",
    "print(\"Add new data successfully!!!!!\")\n"
   ],
   "metadata": {
    "collapsed": false,
    "pycharm": {
     "name": "#%%\n"
    }
   }
  },
  {
   "cell_type": "markdown",
   "source": [
    "### Check matched KP"
   ],
   "metadata": {
    "collapsed": false,
    "pycharm": {
     "name": "#%% md\n"
    }
   }
  },
  {
   "cell_type": "code",
   "execution_count": 18,
   "outputs": [
    {
     "name": "stdout",
     "output_type": "stream",
     "text": [
      "Index(['topic', 'stance', 'argument', 'matched_kp(group)',\n",
      "       'confidence_score(group)', 'matched_kp(1by1)',\n",
      "       'confidence_score(1by1)'],\n",
      "      dtype='object')\n"
     ]
    }
   ],
   "source": [
    "import pandas as pd\n",
    "df = pd.read_csv('./data/KPM_LLama2_in_hybrid.csv')\n",
    "print(df.columns)"
   ],
   "metadata": {
    "collapsed": false,
    "pycharm": {
     "name": "#%%\n"
    }
   }
  },
  {
   "cell_type": "code",
   "execution_count": 21,
   "outputs": [
    {
     "name": "stdout",
     "output_type": "stream",
     "text": [
      "Index(['topic', 'stance', 'arguments', 'kep_points',\n",
      "       'predict_kps(avg_embedding)', 'predict_kps(best_embedding)',\n",
      "       'predict_kps(PCA_embedding)'],\n",
      "      dtype='object')\n"
     ]
    }
   ],
   "source": [
    "prediction_df = pd.read_csv('./data/1by1+predictions_in_group.csv')\n",
    "print(prediction_df.columns)"
   ],
   "metadata": {
    "collapsed": false,
    "pycharm": {
     "name": "#%%\n"
    }
   }
  },
  {
   "cell_type": "code",
   "execution_count": 32,
   "outputs": [
    {
     "name": "stdout",
     "output_type": "stream",
     "text": [
      "1850: \n",
      "[\"The right to keep and bear arms is an absolute right for individuals.\\n\\nHowever, it's important to note that this right should be limited in certain circumstances, such as in the case of convicted felons or those with a history of violent behavior, in order to protect public safety. Additionally, stricter regulations on gun ownership and use can help prevent tragedies such as mass shootings while still allowing law-abiding citizens to defend themselves. Ultimately, finding a balance between individual rights and collective safety is crucial in the debate over gun control.\", 'The right to keep and bear arms is unnecessary and increases the risk of gun violence, outweighing its potential benefits for personal protection.', 'The right to keep and bear arms is necessary for self-defense and personal protection.', 'The right to bear arms is an outdated concept that serves no purpose in modern society and only contributes to gun violence and senseless deaths.', 'The right to keep and bear arms is a constitutional right that allows individuals to protect themselves, and abolishing it would infringe upon their ability to defend themselves.']\n"
     ]
    }
   ],
   "source": [
    "import re\n",
    "import ast\n",
    "for index, row in df.iterrows():\n",
    "    pattern = r'[Kk][Pp]([1-5])'\n",
    "    match = re.match(pattern, row['matched_kp(1by1)'])\n",
    "    if match:\n",
    "        print(str(index)+\": \")\n",
    "        print(int(match.group(1)))\n",
    "        kp_id = int(match.group(1))\n",
    "        topic = row['topic']\n",
    "        stance = row['stance']\n",
    "        filtered_df = prediction_df[(prediction_df['topic']==topic) & (prediction_df['stance']== stance)]\n",
    "        candidate_kps = filtered_df['predict_kps(avg_embedding)'].values.tolist()\n",
    "        kps = ast.literal_eval(candidate_kps[0])\n",
    "        print(kps)\n",
    "        # print(kps[kp_id-1])\n",
    "        # df.at[index,'matched_kp(1by1)'] = kps[kp_id-1]"
   ],
   "metadata": {
    "collapsed": false,
    "pycharm": {
     "name": "#%%\n"
    }
   }
  },
  {
   "cell_type": "code",
   "execution_count": 31,
   "outputs": [
    {
     "name": "stdout",
     "output_type": "stream",
     "text": [
      "Add new data successfully!!!!!\n"
     ]
    }
   ],
   "source": [
    "df.to_csv('./data/KPM_LLama2_in_hybrid.csv', index=False)\n",
    "print(\"Add new data successfully!!!!!\")"
   ],
   "metadata": {
    "collapsed": false,
    "pycharm": {
     "name": "#%%\n"
    }
   }
  },
  {
   "cell_type": "code",
   "execution_count": 1,
   "outputs": [
    {
     "name": "stdout",
     "output_type": "stream",
     "text": [
      "Index(['topic', 'stance', 'argument', 'matched_kp(group)',\n",
      "       'confidence_score(group)', 'matched_kp(1by1)',\n",
      "       'confidence_score(1by1)'],\n",
      "      dtype='object')\n"
     ]
    }
   ],
   "source": [
    "import pandas as pd\n",
    "df = pd.read_csv('./data/KPM_LLama2_in_hybrid.csv')\n",
    "print(df.columns)"
   ],
   "metadata": {
    "collapsed": false,
    "pycharm": {
     "name": "#%%\n"
    }
   }
  },
  {
   "cell_type": "code",
   "execution_count": 4,
   "outputs": [
    {
     "name": "stdout",
     "output_type": "stream",
     "text": [
      "0.8621193699916682\n"
     ]
    }
   ],
   "source": [
    "score = df['confidence_score(1by1)'].values.tolist()\n",
    "print(sum(score)/len(score))"
   ],
   "metadata": {
    "collapsed": false,
    "pycharm": {
     "name": "#%%\n"
    }
   }
  },
  {
   "cell_type": "code",
   "execution_count": null,
   "outputs": [],
   "source": [],
   "metadata": {
    "collapsed": false,
    "pycharm": {
     "name": "#%%\n"
    }
   }
  }
 ],
 "metadata": {
  "kernelspec": {
   "display_name": "Python 3",
   "language": "python",
   "name": "python3"
  },
  "language_info": {
   "codemirror_mode": {
    "name": "ipython",
    "version": 2
   },
   "file_extension": ".py",
   "mimetype": "text/x-python",
   "name": "python",
   "nbconvert_exporter": "python",
   "pygments_lexer": "ipython2",
   "version": "2.7.6"
  }
 },
 "nbformat": 4,
 "nbformat_minor": 0
}