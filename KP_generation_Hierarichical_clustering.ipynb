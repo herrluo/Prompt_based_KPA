{
 "cells": [
  {
   "cell_type": "markdown",
   "source": [
    "### Import Data"
   ],
   "metadata": {
    "collapsed": false,
    "pycharm": {
     "name": "#%% md\n"
    }
   }
  },
  {
   "cell_type": "code",
   "execution_count": 1,
   "outputs": [
    {
     "name": "stdout",
     "output_type": "stream",
     "text": [
      "Index(['topic', 'stance', 'arguments', 'kep_points',\n",
      "       'predict_kps(avg_embedding)', 'predict_kps(best_embedding)',\n",
      "       'predict_kps(PCA_embedding)'],\n",
      "      dtype='object')\n"
     ]
    }
   ],
   "source": [
    "import pandas as pd\n",
    "df = pd.read_csv('./qwen/data/qwen_1by1+predictions_in_group.csv')\n",
    "print(df.columns)"
   ],
   "metadata": {
    "collapsed": false,
    "pycharm": {
     "name": "#%%\n"
    }
   }
  },
  {
   "cell_type": "code",
   "execution_count": 2,
   "outputs": [
    {
     "name": "stdout",
     "output_type": "stream",
     "text": [
      "Index(['topic', 'stance', 'argument', 'key_point', 'embedding(0_1_2_3)',\n",
      "       'embedding(4_7_8_15)', 'embedding(5_6_9_10)', 'embedding(11_12_13_14)',\n",
      "       'embedding(16_17_18_19)', 'embedding(20_21_22_23)',\n",
      "       'embedding(24_25_26_27)', 'avg_embedding'],\n",
      "      dtype='object')\n"
     ]
    }
   ],
   "source": [
    "predict_df = pd.read_csv('./qwen/data/qwen_1by1+predictions.csv')\n",
    "print(predict_df.columns)"
   ],
   "metadata": {
    "collapsed": false,
    "pycharm": {
     "name": "#%%\n"
    }
   }
  },
  {
   "cell_type": "markdown",
   "source": [
    "### Do Agglomerative Hierarchical Clustering"
   ],
   "metadata": {
    "collapsed": false,
    "pycharm": {
     "name": "#%% md\n"
    }
   }
  },
  {
   "cell_type": "code",
   "execution_count": 7,
   "outputs": [],
   "source": [
    "import numpy as np\n",
    "from sklearn.cluster import AgglomerativeClustering\n",
    "from sklearn.metrics.pairwise import cosine_similarity\n",
    "\n",
    "def agglomerative_hierarchical_clustering(embeddings, n_clusters):\n",
    "    # Convert embeddings to numpy array\n",
    "    embeddings = np.array(embeddings)\n",
    "\n",
    "    # Compute cosine similarity matrix\n",
    "    cosine_similarities = cosine_similarity(embeddings)\n",
    "\n",
    "    # Perform Agglomerative Hierarchical Clustering\n",
    "    cluster = AgglomerativeClustering(n_clusters=n_clusters, affinity='cosine', linkage='average')\n",
    "    clusters = cluster.fit_predict(cosine_similarities)\n",
    "\n",
    "    # Compute centroids of each cluster\n",
    "    centroids = []\n",
    "    for i in range(n_clusters):\n",
    "        cluster_embeddings = embeddings[clusters == i]\n",
    "        centroid = np.mean(cluster_embeddings, axis=0)\n",
    "        centroids.append(centroid)\n",
    "\n",
    "    # Find index of the closest embedding to each centroid\n",
    "    centroid_indices = []\n",
    "    for centroid in centroids:\n",
    "        distances = [np.linalg.norm(embedding - centroid) for embedding in embeddings]\n",
    "        centroid_index = np.argmin(distances)\n",
    "        centroid_indices.append(centroid_index)\n",
    "\n",
    "    return centroid_indices"
   ],
   "metadata": {
    "collapsed": false,
    "pycharm": {
     "name": "#%%\n"
    }
   }
  },
  {
   "cell_type": "code",
   "execution_count": 8,
   "outputs": [
    {
     "name": "stdout",
     "output_type": "stream",
     "text": [
      "0: \n",
      "[13, 63, 116, 11, 61]\n",
      "['Assisted suicide constitutes murder and ought to be legally classified as a criminal offense.', 'Assisted suicide should be considered a criminal offense akin to murder, as proponents argue that natural death is the preferred course.', 'The sanctity of human life necessitates that assisted suicide remains a criminal offence.', 'Assisted suicide is considered a criminal offense due to its inherent nature involving the intentional causing of death.', 'Assisted suicide constitutes a criminal offense due to the inevitable outcome of death, implicating assistants as having a direct role in the loss of life.']\n",
      "1: \n",
      "[70, 59, 89, 25, 75]\n",
      "['Individuals with terminal illnesses should have the right to choose assisted suicide.', 'Assisted suicide provides terminally ill patients the option to alleviate prolonged pain and suffering by voluntarily ending their lives.', 'Assisted suicide should be legally available for individuals suffering from incurable diseases.', 'Assisted suicide should remain an option for those with no alternative recourse.', 'Assisted suicide for those who voluntarily seek death should not be considered a criminal offense.']\n",
      "2: \n",
      "[11, 3, 112, 95, 91]\n",
      "['Homeschooling lacks the professional expertise of regular school teachers, potentially hindering the quality of education for children.', \"Children's right to education should not be compromised by unqualified parents in homeschooling settings.\", \"Homeschooled children's education quality is not assured.\", 'Homeschooling lacks the professional resources and expertise found in traditional schools, potentially hindering student education.', 'Homeschooling negatively impacts child development due to its inherent practices.']\n",
      "3: \n",
      "[0, 37, 109, 35, 9]\n",
      "[\"Parental knowledge and judgment are central to determining a child's education needs, suggesting homeschooling should not be universally banned.\", 'Homeschooling often utilizes a curriculum similar to traditional schools and can provide a more personalized learning environment conducive to student success.', 'Parental involvement in curriculum decision-making is crucial.', 'Homeschooling proponents argue that individualized attention fosters increased academic performance in children.', 'Homeschooling should remain an option due to prevalent issues of bullying in schools.']\n",
      "4: \n",
      "[4, 37, 115, 29, 103]\n",
      "['Celibacy should not be equated with stronger beliefs or considered a superior indicator of faith compared to abstaining from other desires.', 'The expectation for church members to adhere to an ancient vow of celibacy is unrealistic given the natural prevalence of sexual activity.', 'The effectiveness of celibacy vows is uncertain, as adherence relies solely on personal honor and self-reporting.', 'The contemporary society has outgrown the relevance of the vow of celibacy.', 'The vow of celibacy is seen as repression of a fundamental human nature, potentially leading to negative consequences.']\n",
      "5: \n",
      "[86, 58, 101, 83, 25]\n",
      "['Personal freedom supports maintaining the option of celibacy, arguing against its abandonment.', 'Maintaining the vow of celibacy is crucial for the church as a foundational symbol of devotion to God, especially in current times.', 'The vow of celibacy is considered a sacred commitment, reflecting a devoted focus on spiritual devotion to God over personal desires.', 'The vow of celibacy should be maintained due to its sacred nature and its non-interference with non-believers.', 'Personal commitment to celibacy should be voluntary and only undertaken if one is capable of adhering to it.']\n",
      "6: \n",
      "[40, 124, 66, 7, 2]\n",
      "['Marriage is an obsolete institution causing more harm than benefit, as it legally and financially binds individuals who may not remain compatible lifelong.', 'Marriage, as a legal contract, is unnecessary for a lifelong commitment between two people.', 'Marriage is perceived as merely a legal formality, lacking the inherent ability to enhance love between partners.', 'Traditional wedding customs and practices are outdated, causing unnecessary stress and anxiety.', 'Marriage is perceived as merely a symbolic legal document lacking deeper significance.']\n",
      "7: \n",
      "[99, 51, 55, 57, 37]\n",
      "['The enduring belief in the sanctity of marriage vows and the desire to publicly affirm unity supports the continued significance of marriage.', 'Marriage retains its significance as a cherished institution in contemporary society.', 'Marriage serves as the societal foundation, promoting stability and reduced stress for children compared to non-marital setups.', 'Marriage fosters commitment, preventing infidelity and separations, thereby enhancing stability in loving relationships between men and women.', 'Marriage is viewed as a crucial foundation for child-rearing and family stability.']\n",
      "8: \n",
      "[69, 18, 15, 16, 4]\n",
      "['School uniforms perpetuate gender stereotypes through prescribed attire, limiting expression and reinforcing binary norms.', 'Individual freedom of expression through clothing choices fosters creativity, thereby suggesting school uniforms should be abandoned.', 'Denying students the right to express themselves through clothing choices is unnecessary restriction, given no adverse effects of allowing personal attire.', 'Student preferences should be prioritized, making school uniforms non-compulsory.', \"Mandating school uniforms may stifle individuality and promote conformity, limiting children's ability to express themselves.\"]\n",
      "9: \n",
      "[77, 60, 90, 28, 84]\n",
      "['School uniforms instill professionalism in students, preparing them for both educational and career environments.', 'School uniforms facilitate morning routines, ensuring punctuality and preparedness for students.', \"School uniforms promote equality by alleviating pressure on students from lower-income families to afford expensive attire, ensuring they don't feel socially excluded.\", 'School uniforms reduce the social pressures and distractions associated with fashion competition among students.', 'School uniforms promote proper dressing among students.']\n",
      "10: \n",
      "[12, 2, 64, 38, 42]\n",
      "['The abolition of capital punishment is imperative due to instances of innocent individuals being wrongly executed.', 'The risk of mistakenly executing innocent individuals undermines the morality of capital punishment.', 'The irreversible nature of capital punishment raises concerns over wrongful convictions and the inability to rectify judicial errors.', 'Capital punishment is morally unjustifiable as taking a life in response to violence fails to serve as a viable solution.', 'Capital punishment is a wasteful use of resources and fails to effectively deter serious crimes.']\n",
      "11: \n",
      "[54, 63, 62, 35, 24]\n",
      "['Capital punishment is justified for incorrigible offenders who pose an ongoing threat to society and burden taxpayers through repeated violent crimes.', 'Capital punishment is justified for public safety by eliminating dangerous killers.', 'Capital punishment serves as the most effective deterrent against committing egregious crimes.', 'Capital punishment is seen as the ultimate deterrent for heinous crimes by some.', 'Capital punishment proponents argue it benefits society by permanently removing murderers, preventing further harm.']\n",
      "12: \n",
      "[10, 17, 31, 60, 22]\n",
      "['Intellectual property rights should be abolished to ensure ideas are universally accessible, not restricted to individuals.', 'Intellectual property rights hinder innovation and progress by preventing others from building upon and improving existing ideas and technologies.', 'Intellectual property rights hinder information sharing.', 'Intellectual property laws hinder the market entry of many valuable inventions.', 'Intellectual property rights are seen as outdated due to individuals succeeding without patents, suggesting widespread ability to generate valuable ideas.']\n",
      "13: \n",
      "[15, 42, 16, 47, 121]\n",
      "['Intellectual property rights should not be abolished, as they enable individuals to share and monetize their ideas, fostering innovation and creative endeavors across diverse sectors.', 'Intellectual property rights safeguard creators of innovative products by providing essential protection.', \"Respect for authors' rights opposes abolishing intellectual property rights.\", \"Intellectual property rights ensure creators' economic benefits.\", 'Abolishing intellectual property rights may deter innovation due to reduced incentives from the fear of immediate exploitation by others.']\n",
      "14: \n",
      "[53, 105, 1, 0, 71]\n",
      "['The right to bear arms should be abolished due to the increased risk of violence it poses.', 'The abolition of the right to keep and bear arms is imperative due to the heightened risk of weapons being used for criminal activities and personal vendettas.', 'Modern firearms like assault rifles and machine guns, which did not exist during the drafting of the Bill of Rights, primarily serve as weapons against others, questioning their constitutional protection.', 'Granting individuals the right to keep and bear arms poses a significant threat to society by enabling access to weapons for potentially malicious use.', 'Limiting access to weapons could reduce the frequency of mass shootings.']\n",
      "15: \n",
      "[48, 32, 16, 114, 9]\n",
      "['The right to keep and bear arms is essential for individuals to pursue personal safety, life, and liberty.', 'Disarming law-abiding citizens tilts the balance in favor of criminals who can still acquire weapons illicitly.', 'The constitutional right to keep and bear arms is non-negotiable and must be preserved.', 'Abolishing the right to bear arms would disproportionately impact law-abiding citizens while failing to deter criminals, who would continue to access guns illegally, thereby undermining self-defense capabilities.', 'The prevalence of guns makes their outright prohibition ineffective, as it primarily disarms law-abiding citizens rather than reducing criminal access.']\n",
      "16: \n",
      "[46, 111, 65, 71, 99]\n",
      "[\"Adopting an austerity regime is crucial for prioritizing essential government spending during economic downturns, curbing wasteful expenses, and rejuvenating the nation's economy.\", 'Implementing an austerity regime is imperative due to the deteriorating state of our country.', 'Implementing an austerity regime fosters financially responsible and law-abiding citizens.', \"Implementing an austerity regime is crucial for restoring the country's financial stability.\", 'Individual responsibility is crucial in implementing austerity measures to restore financial stability.']\n",
      "17: \n",
      "[3, 88, 18, 19, 31]\n",
      "['The effectiveness of an austerity regime is hindered by persistent exceptions, as there are always individuals advocating for essential project funding.', 'Implementing an austerity regime has proven counterproductive, exacerbating economic downturns and intensifying unemployment and poverty levels, contrary to its intended goals.', 'Implementing an austerity regime risks underfunding vital programs by prioritizing short-term cost savings.', 'Implementing an austerity regime could have detrimental effects.', 'Implementing austerity measures exacerbates financial hardships for the general population.']\n",
      "18: \n",
      "[12, 18, 20, 21, 6]\n",
      "['Atheism provides a neutral starting point of non-belief for all individuals.', 'Atheism is a rational and commonsense approach to understanding the world, challenging religious myths.', 'Atheism can be beneficial for those who do not identify as religious.', 'Atheism appears justified given the prevalence of worldwide suffering and atrocities.', 'Atheism encourages genuine introspection about personal beliefs and motives for morality, distinguishing between authentic goodness and heavenly reward seeking.']\n",
      "19: \n",
      "[91, 42, 85, 110, 97]\n",
      "[\"Atheism cannot be enforced as people's beliefs are personal and not susceptible to regulatory change.\", 'The user argues against adopting atheism, citing the role of God in laws as a reason.', 'The inability to legislate religious faith questions the enforceability of adopting atheism.', 'Adopting atheism is discouraged due to the belief that religions provide a moral compass and fear of consequences which regulate behavior.', 'Individual freedom to maintain personal religious beliefs opposes the adoption of atheism.']\n",
      "20: \n",
      "[81, 35, 11, 93, 21]\n",
      "['Libertarians support policies based on their merit, not political affiliation.', 'Libertarianism empowers individuals by restricting government authority, enhancing personal control and autonomy.', \"Libertarianism aims to decrease government's intrusion into individuals' daily lives and potentially lower public spending.\", 'Reduced government intervention improves societal outcomes, aligning with libertarian principles.', 'Libertarianism empowers individuals by granting them greater control over their lives, thereby improving government efficiency.']\n",
      "21: \n",
      "[16, 92, 103, 27, 83]\n",
      "[\"Libertarianism's perceived failure to adequately support marginalized and disadvantaged populations.\", \"Libertarianism's lack of compassion and perceived bias towards the wealthy, fostering a self-centered society, are reasons against its adoption.\", 'Libertarianism may not be universally appealing due to individual differences in political awareness and interest.', 'Libertarianism, while ideologically appealing, faces practical implementation challenges.', \"Libertarianism's permissiveness undermines others' rights, making its adoption unfavorable.\"]\n",
      "22: \n",
      "[110, 3, 55, 39, 100]\n",
      "['Human cloning should be banned due to the potential acceleration of the aging process, posing risks to human health and longevity.', 'Cloning introduces genetic degradation with each successive copy, leading to unpredictable outcomes.', 'Human cloning dehumanizes individuals by treating them as manufactured entities.', 'Human cloning creates an identical individual, raising ethical concerns over identity and social confusion.', 'Banning human cloning is essential due to ethical concerns over humans assuming a divine role and the moral dilemmas it poses.']\n",
      "23: \n",
      "[82, 50, 53, 100, 31]\n",
      "['Human cloning facilitates medical research progress and therefore should not be prohibited.', 'Human cloning offers potential life-saving benefits through organ cloning for transplant patients.', 'Human cloning offers opportunities for childless individuals to potentially become parents.', 'Human cloning, despite ethical concerns, offers potential for perfect organ transplant matches, thereby extending human life spans.', 'Human cloning offers a potential solution for infertility, enabling childless couples to conceive.']\n",
      "24: \n",
      "[61, 60, 7, 116, 27]\n",
      "[\"Private military companies' absence of legislative accountability and moral standards heighten the risk of war crimes.\", \"The absence of oversight and accountability in private military companies poses significant risks, as their loyalty lies with the highest bidder rather than the public's best interest.\", 'Private armies should be prohibited to prevent individuals from wielding such power.', 'Private military companies should be banned due to their nature as mercenary forces.', 'Private military companies, akin to mercenaries, ought to be regulated similarly and banned due to their comparable nature and ethical concerns.']\n",
      "25: \n",
      "[5, 80, 54, 68, 81]\n",
      "['Success of private military companies in their operations is perceived as a justification for their continued existence, hence no need for a ban.', 'Private military companies offer valuable supplementary assistance to military forces.', 'Private military companies supplement troops in areas of need.', 'Private military companies alleviate the burden on regular military forces, allowing them to maintain stronger presence elsewhere.', 'Instead of banning, private military companies should be subject to enhanced regulation.']\n",
      "26: \n",
      "[15, 54, 103, 106, 107]\n",
      "['Child actors lack autonomy, are exploited for financial gain, and should be banned due to their inability to comprehend the implications of their involvement.', 'Children are exploited by profit-driven adults in the entertainment industry.', 'Ban child labor in all forms, including child actors.', 'Banning child actors is necessary due to the potential negative long-term effects on their well-being and the inherent risks associated with their presence on sets, depriving them of a normal childhood environment.', 'The use of child actors should be banned due to their inability to make informed career decisions and the potential long-term consequences on their futures.']\n",
      "27: \n",
      "[84, 47, 60, 98, 8]\n",
      "['The prohibition of child actors is unnecessary due to the existence of roles specifically requiring authentic child portrayal.', 'Children can develop skills and excel in acting with proper adult supervision.', 'Parental consent justifies the involvement of child actors in the industry.', 'Banning child actors would result in adults portraying children, which could appear unnatural and detract from the authenticity of film performances.', \"The speaker questions the feasibility of banning child actors in the film industry, considering the significant role they play and the industry's financial scale.\"]\n",
      "28: \n",
      "[91, 64, 3, 98, 121]\n",
      "['Close Guantanamo Bay detention camp due to its violation of due process, indefinite detention, and disregard for human rights.', \"Guantanamo Bay's use of torture on prisoners necessitates its closure.\", 'Closing Guantanamo Bay is imperative due to indefinite detention of individuals without just cause, conflicting with modern ethical standards.', 'Inhumane activities at Guantanamo Bay detention camp necessitate its closure.', 'Close Guantanamo Bay due to unjust detentions.']\n",
      "29: \n",
      "[48, 41, 44, 97, 106]\n",
      "['Guantanamo Bay detention camp should remain operational due to its effectiveness in securely holding dangerous detainees.', \"Guantanamo Bay should stay operational to deter terrorists by ensuring they face severe consequences for threatening the nation's security.\", 'Guantanamo Bay is seen as a necessary facility for securely detaining individuals deemed significant threats to national security.', 'The necessity of maintaining Guantanamo Bay detention camp is questioned due to concerns over the relocation of current detainees.', 'Keeping Guantanamo Bay detention camp open demonstrates resolve and unwillingness to yield to pressure.']\n",
      "30: \n",
      "[14, 68, 118, 27, 108]\n",
      "['Affirmative action contradicts equality by favoring specific groups, necessitating its termination to attain genuine equality.', 'Merit-based efforts and equal opportunities should replace affirmative action, ensuring everyone achieves success through personal endeavor.', \"Merit-based advancement should be prioritized over affirmative action's preferential treatment.\", 'Affirmative action is accused of perpetuating racism and fostering an environment of hostility and distrust.', 'Ending affirmative action is proposed due to concerns it may negatively impact individuals if the implementation process encounters difficulties.']\n",
      "31: \n",
      "[98, 85, 41, 53, 11]\n",
      "['Continuing affirmative action is necessary to counteract potential prejudice in hiring, ensuring diversity and equal opportunities based on merit.', 'Affirmative action is essential for safeguarding minority rights.', 'Affirmative action promotes demographic diversity in employment by ensuring job opportunities are available to all, regardless of background.', 'Affirmative action should continue as it provides opportunities for historically disadvantaged groups to succeed.', 'Affirmative action provides opportunities for advancement to individuals who typically face barriers.']\n",
      "32: \n",
      "[53, 71, 80, 0, 67]\n",
      "['Mandatory retirement deprives organizations of experienced professionals with extended productive years due to increased life expectancy.', 'Mandatory retirement ages are inappropriate due to increased life expectancy, potentially leaving individuals unemployed for decades.', 'People should have the choice to retire at their own discretion, eliminating mandatory retirement age.', 'Mandatory retirement should be abolished as workers who remain productive should have the right to continue working.', 'Age is an imprecise measure of capability, rendering it an ineffective criterion for mandating retirement.']\n",
      "33: \n",
      "[8, 39, 18, 19, 41]\n",
      "['Mandatory retirement creates opportunities for younger generations to join the workforce by vacating positions held by older professionals.', 'Mandatory retirement is defended for certain professions due to perceived age-related performance decline compared to younger workers.', 'Mandatory retirement facilitates job opportunities for younger generations by creating vacancies that would otherwise be occupied indefinitely.', 'Mandatory retirement should be abolished to infuse industries with fresh energy, drive innovation, and tackle youth unemployment.', 'Mandatory retirement is often justified as a means to remove individuals from roles deemed unsuitable due to age-related performance concerns.']\n",
      "34: \n",
      "[6, 67, 18, 22, 115]\n",
      "['The use of nuclear weapons poses an unacceptable risk of mutual assured destruction and global devastation, rendering any level of conventional conflict a more favorable alternative.', \"Nuclear weapons' potential to annihilate all life emphasizes the urgent need for their global prohibition.\", 'Mutually assured destruction underscores the need for abolition of nuclear weapons.', 'Global equality and security would be restored if nuclear weapons were universally abolished.', 'We must eradicate the nuclear weapons threat to ensure a safer world, necessitating a concerted effort towards their global abolition.']\n",
      "35: \n",
      "[71, 37, 69, 8, 75]\n",
      "['Opposing view: Nuclear weapons are seen as a deterrent against morally bankrupt actors who may otherwise bring global suffering.', 'The perceived deterrence provided by nuclear weapons is seen as a safeguard against conflict, and their abolition may lead to instability and immediate warfare with devastating consequences.', 'The inherent uncertainty about enemies secretly developing nuclear weapons poses a significant threat to our security, reinforcing the need for abolition.', 'Nuclear weapons serve as a mutual deterrent, preventing their use by adversaries and thereby averting potential wars.', 'Retaining nuclear weapons for deterrence and retaliation in case of an attack is seen as necessary by some.']\n",
      "36: \n",
      "[26, 59, 66, 10, 58]\n",
      "['Urbanization leads to overcrowded living conditions and increased poverty levels.', 'Urbanization negatively impacts farmers by reducing available agricultural land and poses significant environmental harm.', 'Urbanization poses a significant threat to natural environments, and urgent action is required to prevent irreversible destruction.', 'Urbanization leads to increased population density, which in turn correlates with a rise in criminal activities.', 'Urbanization exacerbates pollution levels, making it detrimental to the environment.']\n",
      "37: \n",
      "[99, 3, 60, 98, 55]\n",
      "['Urbanization should not be opposed as it provides housing and employment opportunities.', 'Urbanization centralizes resources and activities, enhancing convenience and efficiency.', 'Urbanization positively contributes to societal development.', 'Urbanization should not be opposed as it provides increased housing opportunities for a growing population.', 'Urbanization alleviates resource scarcity and access issues for rural poor by improving infrastructure like transportation and healthcare.']\n",
      "38: \n",
      "[59, 32, 97, 18, 17]\n",
      "['Universal participation ensures democratic representation through compulsory voting.', 'Compulsory voting ensures universal participation and representation.', 'Compulsory voting would increase voter turnout at the polls.', 'Compulsory voting increases voter participation rates.', 'Compulsory voting significantly enhances voter participation rates.']\n",
      "39: \n",
      "[98, 40, 6, 42, 3]\n",
      "[\"Compulsory voting could lead to uninformed decisions, potentially undermining the election's integrity.\", 'Compulsory voting may risk uninformed decisions with potential detrimental outcomes.', 'Compulsory voting risks incorporating uninformed voters who may prioritize candidates offering free services.', 'Compulsory voting is perceived as undemocratic and potentially ineffective in altering election outcomes.', 'Abstaining from voting is a legitimate choice, reflecting a refusal to support any candidate, and should be respected.']\n",
      "40: \n",
      "[33, 56, 66, 130, 8]\n",
      "['Cannabis is a crucial medicine for alleviating pain associated with degenerative diseases like multiple sclerosis, offering unique therapeutic benefits.', 'Cannabis legalization is justified as criminalizing a natural plant is irrational.', \"Personal freedom to use cannabis should be allowed if it doesn't harm others.\", 'Cannabis should be legalized due to its harmlessness.', 'Legalizing cannabis can alleviate various medical conditions, providing patients with necessary treatment options.']\n",
      "41: \n",
      "[36, 83, 38, 31, 72]\n",
      "['Cannabis is considered a gateway drug leading to the use of stronger mind-altering substances, necessitating its ban.', 'Legalizing cannabis may convey the perception that drug use is acceptable.', 'Cannabis should not be legalized due to potential negative health impacts on individuals.', 'The perception of cannabis as a gateway drug fuels concerns about its legalization leading to increased use of harder drugs like opioids, heroin, and cocaine.', 'Legalizing cannabis may not lead to increased use of harder drugs, challenging the assumption that marijuana is a gateway drug.']\n",
      "42: \n",
      "[7, 44, 18, 3, 95]\n",
      "['Legalizing prostitution reduces stigma, enhances safety, and acknowledges it as an ancient profession deserving respect and legality.', 'Legalizing prostitution enables sex workers to report abusive pimps and clients, enhancing their safety and access to justice.', 'Consensual adult prostitution should be considered a private matter.', 'Consenting adults will engage in prostitution regardless, legalizing it can ensure regulation and safety.', 'Consensual participation should legalize prostitution.']\n",
      "43: \n",
      "[1, 92, 55, 72, 74]\n",
      "['Legalizing prostitution is unjustifiable due to its inherent immorality and the harm it inflicts on those involved.', 'Legalizing prostitution is unethical and contributes to the proliferation of diseases; eradicating it would curb the spread of STDs.', 'Decriminalization of prostitution does not mitigate its perceived immorality.', 'Legalizing prostitution is opposed due to concerns it undermines the moral standing of women across various aspects.', 'Legalizing prostitution may lead to an increase in demand, potentially involving underage individuals.']\n",
      "44: \n",
      "[10, 96, 6, 15, 79]\n",
      "['Sex selection enables families with children of the same sex to ensure the birth of a child of the opposite gender, providing balance and diversity within the family unit.', \"Choosing the baby's sex to prevent hereditary diseases can be beneficial.\", 'The practice of sex selection is rooted in ancient history and cultural texts, suggesting its long-standing acceptance and potential normalcy.', \"Legalizing sex selection for families who wish to control the child's gender, provided it ensures the child's health and well-being, causes no harm and should therefore be permitted.\", 'Parents, as creators of the fetus, should have the right to choose its sex.']\n",
      "45: \n",
      "[59, 6, 106, 54, 115]\n",
      "[\"Sex selection is argued to be unnatural, potentially disrupting the child's biological balance and causing long-term harm.\", \"The argument against legalizing sex selection asserts that it's equivalent to playing God, interfering with natural processes.\", 'Legalizing sex selection is unethical as it allows individuals to manipulate nature, potentially disrupting societal balance with gender imbalances like an excess of males.', 'Sex selection leads to an increase in abortions, posing a significant negative consequence.', 'Opposing legalization of sex selection due to ethical concerns over humans manipulating natural processes.']\n",
      "46: \n",
      "[49, 56, 95, 86, 56]\n",
      "['Prohibiting flag burning is justified as it is seen as unpatriotic and fuels the expansion of hate groups.', 'Flag burning is seen as offensive and thus should be prohibited.', 'Prohibit flag burning due to the disrespectful nature of those who engage in it, to discourage such behavior.', 'The sacrifices made to protect the flag necessitate prohibiting its desecration through burning.', 'Flag burning is seen as offensive and thus should be prohibited.']\n",
      "47: \n",
      "[19, 3, 90, 74, 41]\n",
      "['Flag burning serves as a non-violent means for individuals to express dissatisfaction with national policies.', \"The founding principle of free expression in America necessitates the allowance for flag burning, even if it's personally disagreeable.\", 'Prohibiting flag burning may infringe upon the right to freedom of speech.', 'Flag ownership grants individuals the right to dispose of their property as they see fit, including burning it.', 'Flag burning, as an expression of free speech, should not be prohibited.']\n",
      "48: \n",
      "[105, 50, 0, 69, 14]\n",
      "[\"Women's perceived physical inferiority to men is seen as a weakness, making them unsuitable for combat roles.\", \"Women's perceived physical weakness compared to men may obstruct combat effectiveness.\", 'In combat, the presence of women can potentially lead to adversaries disregarding ethical norms and allies behaving recklessly, thereby constituting a form of exploitation towards women.', \"Women's physical capabilities may limit their effectiveness in combat rescue missions, arguing against their inclusion in combat roles.\", 'Acknowledge biological differences between genders to ensure safety and prevent potential risks in combat roles.']\n",
      "49: \n",
      "[7, 115, 14, 4, 82]\n",
      "['Women soldiers are equally qualified for combat as their male counterparts due to identical training.', \"Physical strength should not be the sole determinant for women's exclusion from combat roles.\", \"Advocating for equal rights entails women's inclusion in combat roles, mirroring men's responsibilities.\", \"Women's capability to use weapons effectively, when adequately trained, challenges the notion that combat is not an individual affair, thereby disputing the prohibition of women in combat roles.\", \"Women's equal training merits their inclusion in combat roles alongside men.\"]\n",
      "50: \n",
      "[112, 55, 96, 11, 42]\n",
      "['Subsidizing journalism facilitates diversity by enabling greater inclusion of women and underrepresented groups in an industry historically dominated by white males.', 'Subsidized journalism can reduce reliance on advertising income, enabling a higher quality of journalistic output.', 'Subsidizing journalism is essential to attract and retain talented professionals in the field.', 'Public access to news is vital, necessitating support for journalism through subsidies.', 'Journalism deserves subsidization due to declining newspaper sales.']\n",
      "51: \n",
      "[11, 25, 32, 88, 21]\n",
      "['Subsidizing journalism may be unnecessary as reporters already receive compensation from their employing newspapers.', 'Journalism must remain independent from government influence or intervention to ensure freedom.', 'Government subsidies for journalism are undesirable due to the perception that journalism has become overly commercialized and should maintain independence from state influence.', 'Subsidizing journalism may have detrimental effects on the overall industry.', 'Journalism, as a vital component of democracy and freedom of expression, should not rely on state subsidies.']\n",
      "52: \n",
      "[79, 2, 39, 60, 62]\n",
      "['Space exploration subsidization is crucial for advancing our understanding of the universe and fostering groundbreaking discoveries.', 'The uncertain future due to climate change and overpopulation underscores the necessity of space exploration as a potential backup plan for humanity.', 'Satellites, a product of space exploration, have become viable due to advancements in the field.', 'Space exploration represents the next frontier for human advancement and discovery.', \"Space exploration's value warrants public funding through subsidies.\"]\n",
      "53: \n",
      "[109, 101, 39, 48, 28]\n",
      "[\"Focus on addressing Earth's issues before subsidizing space exploration.\", 'Opposing subsidies for space exploration due to risks of misuse and negative consequences.', 'Space exploration is perceived as lacking tangible benefits for society.', \"Space exploration should be exclusively conducted by the private sector, according to the user's perspective.\", 'Opposing view: Space exploration is considered a futile endeavor with no further potential, hence should not receive subsidies.']\n",
      "54: \n",
      "[62, 57, 19, 40, 41]\n",
      "['Subsidizing vocational education is essential for producing skilled workers needed in communities and ensuring the sustainability of these vital programs.', 'Subsidizing vocational education addresses the shortage of skilled workers for essential jobs by providing crucial training.', 'Mandate schools to incorporate vocational training into their curriculum.', 'Subsidizing vocational education is essential as manual workers are perpetually in demand.', 'Subsidizing vocational education can increase its attractiveness, addressing the shortage of skilled tradespeople in times of high demand.']\n",
      "55: \n",
      "[71, 73, 15, 59, 57]\n",
      "['Oppose subsidizing any secondary education, advocating for individual payment by those who seek it.', 'Oppose subsidizing vocational education, advocating for equal support through tuition for all educational paths.', 'Investing in traditional vocational education may be ill-advised due to the impending automation of many vocational jobs.', 'Vocational education should be regarded as an alternative to college and, consistent with the non-subsidization of traditional college, not receive direct subsidies.', 'Oppose subsidizing vocational education beyond current levels to maintain equality with academic education funding.']\n",
      "56: \n",
      "[136, 50, 80, 93, 131]\n",
      "['Mandatory routine child vaccinations are essential for public health, second only to clean water in effectiveness for saving lives and promoting well-being.', \"Mandatory routine child vaccinations are seen as a positive foundation for a child's health.\", 'Mandatory and free global implementation of routine child vaccinations is advocated.', 'Making routine child vaccinations mandatory ensures immunity for children.', 'Mandatory routine childhood vaccinations are crucial for public health.']\n",
      "57: \n",
      "[66, 108, 81, 44, 4]\n",
      "['Parental consent for vaccination programs should prioritize timely and age-appropriate immunization to effectively prevent diseases in infants.', 'Concerns over unknown side effects of routine child vaccinations.', 'Religious objections to vaccinations, protected by law, pose a challenge to implementing mandatory routine child vaccination policies.', 'Mandatory routine child vaccinations may pose potential long-term health risks due to vaccine side effects.', 'Opposing view: Mandatory routine child vaccinations are seen as an infringement on personal choice, with some believing vaccines to be unnecessary and disputing their efficacy.']\n",
      "58: \n",
      "[25, 92, 89, 33, 8]\n",
      "['Stricter government regulation of social media platforms is necessary.', 'Social networks require regulation by an overseeing entity to prevent inappropriate content, necessitating government supervision.', 'Government regulation of social media platforms is essential to ensure proper legislation while preserving freedom of expression.', 'Unregulated social networks can enable rights violations and facilitate criminal activities, highlighting the need for government intervention to protect individuals and maintain order.', 'Governments should regulate social media due to the prevalence of negative content.']\n",
      "59: \n",
      "[71, 67, 97, 0, 74]\n",
      "['Social networks are considered private domains, where government intervention may not be necessary.', 'Opposing regulation on social media grounds it as essential for preserving democracy and free speech, fearing resemblance to authoritarian regimes.', 'Government regulation of social media platforms may lead to potential misuse and infringement of user autonomy.', 'Government regulation of social media platforms poses a potential threat to internet freedom and may lead to unintended negative consequences.', 'Social media platforms should operate without government regulation, ensuring freedom from any imposed systems.']\n",
      "60: \n",
      "[25, 5, 135, 69, 109]\n",
      "['The USA is considered a great country to live in due to its stable economy.', 'The USA is perceived as an excellent country with outstanding people, making it a highly valued place to live.', 'The USA is perceived as the land of opportunity, supporting the idea that it is a good country to live in for those seeking success and prosperity.', 'The USA offers abundant opportunities for individuals seeking success and growth.', \"The USA's democratic governance and equal opportunities for professional success make it an attractive place to live.\"]\n",
      "61: \n",
      "[61, 33, 58, 44, 56]\n",
      "['The USA is criticized for lacking opportunities for its impoverished population.', \"The US's culture of war detracts from its desirability as a place to live.\", 'The USA faces unnoticed crime levels, requiring increased personal safety measures.', 'Racial discrimination prevalent in the USA detracts from its desirability as a place to live.', 'Racism prevalent in the USA hampers social harmony.']\n",
      "Finished\n"
     ]
    }
   ],
   "source": [
    "import ast\n",
    "for index, row in df.iloc[0:2000].iterrows():\n",
    "    print(str(index)+\": \")\n",
    "    input_list = []\n",
    "    selected_df = predict_df[(predict_df['topic'] == row['topic']) & (predict_df['stance'] == row['stance'])]\n",
    "    sentence_embeddings = selected_df['embedding(16_17_18_19)'].values.tolist()\n",
    "    for embedding in sentence_embeddings:\n",
    "        input_list.append(ast.literal_eval(embedding))\n",
    "    clusters_index = agglomerative_hierarchical_clustering(input_list, 5)\n",
    "    print(clusters_index)\n",
    "    final_list=[]\n",
    "    for cluster_index in clusters_index:\n",
    "        sentence_list = selected_df['key_point'].values.tolist()\n",
    "        final_list.append(sentence_list[cluster_index])\n",
    "    print(final_list)\n",
    "    df.at[index,'predict_kps(PCA_embedding)'] = str(final_list)\n",
    "print(\"Finished\")"
   ],
   "metadata": {
    "collapsed": false,
    "pycharm": {
     "name": "#%%\n"
    }
   }
  },
  {
   "cell_type": "code",
   "execution_count": 9,
   "outputs": [
    {
     "name": "stdout",
     "output_type": "stream",
     "text": [
      "Add new data successfully!!!!!\n"
     ]
    }
   ],
   "source": [
    "df.to_csv('./qwen/data/qwen_1by1+predictions_in_group.csv', index=False)\n",
    "print(\"Add new data successfully!!!!!\")"
   ],
   "metadata": {
    "collapsed": false,
    "pycharm": {
     "name": "#%%\n"
    }
   }
  },
  {
   "cell_type": "code",
   "execution_count": 2,
   "outputs": [
    {
     "name": "stdout",
     "output_type": "stream",
     "text": [
      "Index(['topic', 'stance', 'argument', 'matched_kp(v1)', 'confidence_score(v1)',\n",
      "       'matched_kp(v2)', 'confidence_score(v2)', 'matched_kp(c_avg)',\n",
      "       'confidence_score(c_avg)', 'matched_kp(c_best)',\n",
      "       'confidence_score(c_best)', 'matched_kp(c_pca)',\n",
      "       'confidence_score(c_pca)'],\n",
      "      dtype='object')\n"
     ]
    }
   ],
   "source": [
    "import pandas as pd\n",
    "df = pd.read_csv('./result/KPM_cos_si_bert_embedding.csv')\n",
    "print(df.columns)"
   ],
   "metadata": {
    "collapsed": false,
    "pycharm": {
     "name": "#%%\n"
    }
   }
  },
  {
   "cell_type": "code",
   "execution_count": 4,
   "outputs": [
    {
     "name": "stdout",
     "output_type": "stream",
     "text": [
      "Confidence score(c_avg): 0.7651922760351682\n",
      "Confidence score(c_best): 0.7690315096129301\n",
      "Confidence score(c_pca): 0.7777170137118555\n"
     ]
    }
   ],
   "source": [
    "c_avg_list = df['confidence_score(c_avg)'].values.tolist()\n",
    "print(\"Confidence score(c_avg): \"+ str(sum(c_avg_list)/len(c_avg_list)))\n",
    "c_best_list = df['confidence_score(c_best)'].values.tolist()\n",
    "print(\"Confidence score(c_best): \"+ str(sum(c_best_list)/len(c_best_list)))\n",
    "c_pca_list = df['confidence_score(c_pca)'].values.tolist()\n",
    "print(\"Confidence score(c_pca): \" + str(sum(c_pca_list)/len(c_pca_list)))"
   ],
   "metadata": {
    "collapsed": false,
    "pycharm": {
     "name": "#%%\n"
    }
   }
  },
  {
   "cell_type": "code",
   "execution_count": null,
   "outputs": [],
   "source": [],
   "metadata": {
    "collapsed": false,
    "pycharm": {
     "name": "#%%\n"
    }
   }
  }
 ],
 "metadata": {
  "kernelspec": {
   "display_name": "Python 3",
   "language": "python",
   "name": "python3"
  },
  "language_info": {
   "codemirror_mode": {
    "name": "ipython",
    "version": 2
   },
   "file_extension": ".py",
   "mimetype": "text/x-python",
   "name": "python",
   "nbconvert_exporter": "python",
   "pygments_lexer": "ipython2",
   "version": "2.7.6"
  }
 },
 "nbformat": 4,
 "nbformat_minor": 0
}